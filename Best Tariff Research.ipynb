{
 "cells": [
  {
   "cell_type": "markdown",
   "metadata": {},
   "source": [
    "## Изучение данных из файлов"
   ]
  },
  {
   "cell_type": "markdown",
   "metadata": {},
   "source": [
    "Описание задания:"
   ]
  },
  {
   "cell_type": "markdown",
   "metadata": {},
   "source": [
    "> **Предстоит сделать предварительный анализ тарифов на небольшой выборке клиентов. В  распоряжении данные 500 пользователей «Мегалайна»: кто они, откуда, каким тарифом пользуются, сколько звонков и сообщений каждый отправил за 2018 год. Нужно проанализировать поведение клиентов и сделать вывод — какой тариф лучше.**\n",
    "\n",
    "**Описание тарифов**\n",
    "- Тариф «Смарт»\n",
    "Ежемесячная плата: 550 рублей\n",
    "\n",
    "Включено 500 минут разговора, 50 сообщений и 15 Гб интернет-трафика\n",
    "\n",
    "Стоимость услуг сверх тарифного пакета:\n",
    "минута разговора: 3 рубля\n",
    "\n",
    "сообщение: 3 рубля\n",
    "\n",
    "1 Гб интернет-трафика: 200 рублей\n",
    "\n",
    "- Тариф «Ультра»\n",
    "Ежемесячная плата: 1950 рублей\n",
    "Включено 3000 минут разговора, 1000 сообщений и 30 Гб интернет-трафика\n",
    "Стоимость услуг сверх тарифного пакета:\n",
    "минута разговора: 1 рубль\n",
    "сообщение: 1 рубль\n",
    "1 Гб интернет-трафика: 150 рублей\n",
    "\n",
    "\n",
    "**Примечание:**\n",
    "«Мегалайн» всегда округляет секунды до минут, а мегабайты — до гигабайт. Каждый звонок округляется отдельно: даже если он длился всего 1 секунду, будет засчитан как 1 минута.\n",
    "Для веб-трафика отдельные сессии не считаются. Вместо этого общая сумма за месяц округляется в бо́льшую сторону. Если абонент использует 1025 мегабайт в этом месяце, с него возьмут плату за 2 гигабайта."
   ]
  },
  {
   "cell_type": "markdown",
   "metadata": {},
   "source": [
    "Импортируем нужные нам библиотеки"
   ]
  },
  {
   "cell_type": "code",
   "execution_count": 1,
   "metadata": {},
   "outputs": [],
   "source": [
    "import pandas as pd\n",
    "import seaborn as sns\n",
    "import matplotlib.pyplot as plt\n",
    "import matplotlib.ticker as ticker\n",
    "import math\n",
    "import numpy as np\n",
    "import datetime as dt\n",
    "from scipy import stats as st\n",
    "pd.options.mode.chained_assignment = None"
   ]
  },
  {
   "cell_type": "markdown",
   "metadata": {},
   "source": [
    "Прочитаем таблицы с данными"
   ]
  },
  {
   "cell_type": "code",
   "execution_count": 2,
   "metadata": {},
   "outputs": [],
   "source": [
    "df_calls = pd.read_csv('/datasets/calls.csv') #, sep='\\\\t',engine='python')\n",
    "df_internet = pd.read_csv('/datasets/internet.csv')\n",
    "df_messages = pd.read_csv('/datasets/messages.csv')\n",
    "df_tariffs = pd.read_csv('/datasets/tariffs.csv')\n",
    "df_users = pd.read_csv('/datasets/users.csv')"
   ]
  },
  {
   "cell_type": "markdown",
   "metadata": {},
   "source": [
    "Посмотрим типы колонок, их заполненность и тип данных."
   ]
  },
  {
   "cell_type": "markdown",
   "metadata": {},
   "source": [
    "### Звонки"
   ]
  },
  {
   "cell_type": "code",
   "execution_count": 3,
   "metadata": {},
   "outputs": [
    {
     "name": "stdout",
     "output_type": "stream",
     "text": [
      "<class 'pandas.core.frame.DataFrame'>\n",
      "RangeIndex: 202607 entries, 0 to 202606\n",
      "Data columns (total 4 columns):\n",
      "id           202607 non-null object\n",
      "call_date    202607 non-null object\n",
      "duration     202607 non-null float64\n",
      "user_id      202607 non-null int64\n",
      "dtypes: float64(1), int64(1), object(2)\n",
      "memory usage: 6.2+ MB\n"
     ]
    },
    {
     "data": {
      "text/plain": [
       "count    202607.000000\n",
       "mean          6.755887\n",
       "std           5.843365\n",
       "min           0.000000\n",
       "25%           1.300000\n",
       "50%           6.000000\n",
       "75%          10.700000\n",
       "max          38.000000\n",
       "Name: duration, dtype: float64"
      ]
     },
     "metadata": {},
     "output_type": "display_data"
    },
    {
     "data": {
      "text/html": [
       "<div>\n",
       "<style scoped>\n",
       "    .dataframe tbody tr th:only-of-type {\n",
       "        vertical-align: middle;\n",
       "    }\n",
       "\n",
       "    .dataframe tbody tr th {\n",
       "        vertical-align: top;\n",
       "    }\n",
       "\n",
       "    .dataframe thead th {\n",
       "        text-align: right;\n",
       "    }\n",
       "</style>\n",
       "<table border=\"1\" class=\"dataframe\">\n",
       "  <thead>\n",
       "    <tr style=\"text-align: right;\">\n",
       "      <th></th>\n",
       "      <th>id</th>\n",
       "      <th>call_date</th>\n",
       "      <th>duration</th>\n",
       "      <th>user_id</th>\n",
       "    </tr>\n",
       "  </thead>\n",
       "  <tbody>\n",
       "    <tr>\n",
       "      <td>0</td>\n",
       "      <td>1000_0</td>\n",
       "      <td>2018-07-25</td>\n",
       "      <td>0.00</td>\n",
       "      <td>1000</td>\n",
       "    </tr>\n",
       "    <tr>\n",
       "      <td>1</td>\n",
       "      <td>1000_1</td>\n",
       "      <td>2018-08-17</td>\n",
       "      <td>0.00</td>\n",
       "      <td>1000</td>\n",
       "    </tr>\n",
       "    <tr>\n",
       "      <td>2</td>\n",
       "      <td>1000_2</td>\n",
       "      <td>2018-06-11</td>\n",
       "      <td>2.85</td>\n",
       "      <td>1000</td>\n",
       "    </tr>\n",
       "    <tr>\n",
       "      <td>3</td>\n",
       "      <td>1000_3</td>\n",
       "      <td>2018-09-21</td>\n",
       "      <td>13.80</td>\n",
       "      <td>1000</td>\n",
       "    </tr>\n",
       "    <tr>\n",
       "      <td>4</td>\n",
       "      <td>1000_4</td>\n",
       "      <td>2018-12-15</td>\n",
       "      <td>5.18</td>\n",
       "      <td>1000</td>\n",
       "    </tr>\n",
       "    <tr>\n",
       "      <td>5</td>\n",
       "      <td>1000_5</td>\n",
       "      <td>2018-11-02</td>\n",
       "      <td>0.00</td>\n",
       "      <td>1000</td>\n",
       "    </tr>\n",
       "    <tr>\n",
       "      <td>6</td>\n",
       "      <td>1000_6</td>\n",
       "      <td>2018-10-18</td>\n",
       "      <td>0.00</td>\n",
       "      <td>1000</td>\n",
       "    </tr>\n",
       "    <tr>\n",
       "      <td>7</td>\n",
       "      <td>1000_7</td>\n",
       "      <td>2018-08-22</td>\n",
       "      <td>18.31</td>\n",
       "      <td>1000</td>\n",
       "    </tr>\n",
       "    <tr>\n",
       "      <td>8</td>\n",
       "      <td>1000_8</td>\n",
       "      <td>2018-09-15</td>\n",
       "      <td>18.44</td>\n",
       "      <td>1000</td>\n",
       "    </tr>\n",
       "    <tr>\n",
       "      <td>9</td>\n",
       "      <td>1000_9</td>\n",
       "      <td>2018-08-15</td>\n",
       "      <td>0.00</td>\n",
       "      <td>1000</td>\n",
       "    </tr>\n",
       "  </tbody>\n",
       "</table>\n",
       "</div>"
      ],
      "text/plain": [
       "       id   call_date  duration  user_id\n",
       "0  1000_0  2018-07-25      0.00     1000\n",
       "1  1000_1  2018-08-17      0.00     1000\n",
       "2  1000_2  2018-06-11      2.85     1000\n",
       "3  1000_3  2018-09-21     13.80     1000\n",
       "4  1000_4  2018-12-15      5.18     1000\n",
       "5  1000_5  2018-11-02      0.00     1000\n",
       "6  1000_6  2018-10-18      0.00     1000\n",
       "7  1000_7  2018-08-22     18.31     1000\n",
       "8  1000_8  2018-09-15     18.44     1000\n",
       "9  1000_9  2018-08-15      0.00     1000"
      ]
     },
     "execution_count": 3,
     "metadata": {},
     "output_type": "execute_result"
    }
   ],
   "source": [
    "df_calls.info()\n",
    "display(df_calls['duration'].describe())\n",
    "df_calls.head(10)"
   ]
  },
  {
   "cell_type": "code",
   "execution_count": 4,
   "metadata": {},
   "outputs": [
    {
     "data": {
      "text/plain": [
       "id           0\n",
       "call_date    0\n",
       "duration     0\n",
       "user_id      0\n",
       "dtype: int64"
      ]
     },
     "execution_count": 4,
     "metadata": {},
     "output_type": "execute_result"
    }
   ],
   "source": [
    "df_calls.isna().sum()"
   ]
  },
  {
   "cell_type": "markdown",
   "metadata": {},
   "source": [
    "#### Вывод"
   ]
  },
  {
   "cell_type": "markdown",
   "metadata": {},
   "source": [
    "- На первый взгляд всё нормально, пропусков в данных нет, нулевые значения - пропущенные вызовы, их мы оставим;\n",
    "- Стоит перевести столбец по длительности разговора в целочисленный вид с округлением вверх до минут *по условиям оператора*.\n",
    "- Перевести дату в формат datetime."
   ]
  },
  {
   "cell_type": "markdown",
   "metadata": {},
   "source": [
    "### Интернет"
   ]
  },
  {
   "cell_type": "code",
   "execution_count": 5,
   "metadata": {
    "scrolled": false
   },
   "outputs": [
    {
     "name": "stdout",
     "output_type": "stream",
     "text": [
      "<class 'pandas.core.frame.DataFrame'>\n",
      "RangeIndex: 149396 entries, 0 to 149395\n",
      "Data columns (total 5 columns):\n",
      "Unnamed: 0      149396 non-null int64\n",
      "id              149396 non-null object\n",
      "mb_used         149396 non-null float64\n",
      "session_date    149396 non-null object\n",
      "user_id         149396 non-null int64\n",
      "dtypes: float64(1), int64(2), object(2)\n",
      "memory usage: 5.7+ MB\n"
     ]
    },
    {
     "data": {
      "text/plain": [
       "count    149396.000000\n",
       "mean        370.192426\n",
       "std         278.300951\n",
       "min           0.000000\n",
       "25%         138.187500\n",
       "50%         348.015000\n",
       "75%         559.552500\n",
       "max        1724.830000\n",
       "Name: mb_used, dtype: float64"
      ]
     },
     "metadata": {},
     "output_type": "display_data"
    },
    {
     "data": {
      "text/html": [
       "<div>\n",
       "<style scoped>\n",
       "    .dataframe tbody tr th:only-of-type {\n",
       "        vertical-align: middle;\n",
       "    }\n",
       "\n",
       "    .dataframe tbody tr th {\n",
       "        vertical-align: top;\n",
       "    }\n",
       "\n",
       "    .dataframe thead th {\n",
       "        text-align: right;\n",
       "    }\n",
       "</style>\n",
       "<table border=\"1\" class=\"dataframe\">\n",
       "  <thead>\n",
       "    <tr style=\"text-align: right;\">\n",
       "      <th></th>\n",
       "      <th>Unnamed: 0</th>\n",
       "      <th>id</th>\n",
       "      <th>mb_used</th>\n",
       "      <th>session_date</th>\n",
       "      <th>user_id</th>\n",
       "    </tr>\n",
       "  </thead>\n",
       "  <tbody>\n",
       "    <tr>\n",
       "      <td>0</td>\n",
       "      <td>0</td>\n",
       "      <td>1000_0</td>\n",
       "      <td>112.95</td>\n",
       "      <td>2018-11-25</td>\n",
       "      <td>1000</td>\n",
       "    </tr>\n",
       "    <tr>\n",
       "      <td>1</td>\n",
       "      <td>1</td>\n",
       "      <td>1000_1</td>\n",
       "      <td>1052.81</td>\n",
       "      <td>2018-09-07</td>\n",
       "      <td>1000</td>\n",
       "    </tr>\n",
       "    <tr>\n",
       "      <td>2</td>\n",
       "      <td>2</td>\n",
       "      <td>1000_2</td>\n",
       "      <td>1197.26</td>\n",
       "      <td>2018-06-25</td>\n",
       "      <td>1000</td>\n",
       "    </tr>\n",
       "    <tr>\n",
       "      <td>3</td>\n",
       "      <td>3</td>\n",
       "      <td>1000_3</td>\n",
       "      <td>550.27</td>\n",
       "      <td>2018-08-22</td>\n",
       "      <td>1000</td>\n",
       "    </tr>\n",
       "    <tr>\n",
       "      <td>4</td>\n",
       "      <td>4</td>\n",
       "      <td>1000_4</td>\n",
       "      <td>302.56</td>\n",
       "      <td>2018-09-24</td>\n",
       "      <td>1000</td>\n",
       "    </tr>\n",
       "  </tbody>\n",
       "</table>\n",
       "</div>"
      ],
      "text/plain": [
       "   Unnamed: 0      id  mb_used session_date  user_id\n",
       "0           0  1000_0   112.95   2018-11-25     1000\n",
       "1           1  1000_1  1052.81   2018-09-07     1000\n",
       "2           2  1000_2  1197.26   2018-06-25     1000\n",
       "3           3  1000_3   550.27   2018-08-22     1000\n",
       "4           4  1000_4   302.56   2018-09-24     1000"
      ]
     },
     "execution_count": 5,
     "metadata": {},
     "output_type": "execute_result"
    }
   ],
   "source": [
    "df_internet.info()\n",
    "display(df_internet['mb_used'].describe())\n",
    "df_internet.head()"
   ]
  },
  {
   "cell_type": "markdown",
   "metadata": {},
   "source": [
    "#### Вывод"
   ]
  },
  {
   "cell_type": "markdown",
   "metadata": {},
   "source": [
    "- Пропущенных значений нет;\n",
    "- Стоит переименовать столбец *Unnamed:0*, а так же привести к строчному виду;\n",
    "- Перевести мегабайты к целочисленному виду с округлением вверх до гигабайт.\n",
    "- Перевести дату в формат datetime."
   ]
  },
  {
   "cell_type": "markdown",
   "metadata": {},
   "source": [
    "### Сообщения"
   ]
  },
  {
   "cell_type": "code",
   "execution_count": 6,
   "metadata": {},
   "outputs": [
    {
     "name": "stdout",
     "output_type": "stream",
     "text": [
      "<class 'pandas.core.frame.DataFrame'>\n",
      "RangeIndex: 123036 entries, 0 to 123035\n",
      "Data columns (total 3 columns):\n",
      "id              123036 non-null object\n",
      "message_date    123036 non-null object\n",
      "user_id         123036 non-null int64\n",
      "dtypes: int64(1), object(2)\n",
      "memory usage: 2.8+ MB\n"
     ]
    },
    {
     "data": {
      "text/html": [
       "<div>\n",
       "<style scoped>\n",
       "    .dataframe tbody tr th:only-of-type {\n",
       "        vertical-align: middle;\n",
       "    }\n",
       "\n",
       "    .dataframe tbody tr th {\n",
       "        vertical-align: top;\n",
       "    }\n",
       "\n",
       "    .dataframe thead th {\n",
       "        text-align: right;\n",
       "    }\n",
       "</style>\n",
       "<table border=\"1\" class=\"dataframe\">\n",
       "  <thead>\n",
       "    <tr style=\"text-align: right;\">\n",
       "      <th></th>\n",
       "      <th>id</th>\n",
       "      <th>message_date</th>\n",
       "      <th>user_id</th>\n",
       "    </tr>\n",
       "  </thead>\n",
       "  <tbody>\n",
       "    <tr>\n",
       "      <td>0</td>\n",
       "      <td>1000_0</td>\n",
       "      <td>2018-06-27</td>\n",
       "      <td>1000</td>\n",
       "    </tr>\n",
       "    <tr>\n",
       "      <td>1</td>\n",
       "      <td>1000_1</td>\n",
       "      <td>2018-10-08</td>\n",
       "      <td>1000</td>\n",
       "    </tr>\n",
       "    <tr>\n",
       "      <td>2</td>\n",
       "      <td>1000_2</td>\n",
       "      <td>2018-08-04</td>\n",
       "      <td>1000</td>\n",
       "    </tr>\n",
       "    <tr>\n",
       "      <td>3</td>\n",
       "      <td>1000_3</td>\n",
       "      <td>2018-06-16</td>\n",
       "      <td>1000</td>\n",
       "    </tr>\n",
       "    <tr>\n",
       "      <td>4</td>\n",
       "      <td>1000_4</td>\n",
       "      <td>2018-12-05</td>\n",
       "      <td>1000</td>\n",
       "    </tr>\n",
       "  </tbody>\n",
       "</table>\n",
       "</div>"
      ],
      "text/plain": [
       "       id message_date  user_id\n",
       "0  1000_0   2018-06-27     1000\n",
       "1  1000_1   2018-10-08     1000\n",
       "2  1000_2   2018-08-04     1000\n",
       "3  1000_3   2018-06-16     1000\n",
       "4  1000_4   2018-12-05     1000"
      ]
     },
     "execution_count": 6,
     "metadata": {},
     "output_type": "execute_result"
    }
   ],
   "source": [
    "df_messages.info()\n",
    "df_messages.head()"
   ]
  },
  {
   "cell_type": "markdown",
   "metadata": {},
   "source": [
    "#### Вывод"
   ]
  },
  {
   "cell_type": "markdown",
   "metadata": {},
   "source": [
    "- Перевести дату в формат datetime."
   ]
  },
  {
   "cell_type": "markdown",
   "metadata": {},
   "source": [
    "### Тарифы"
   ]
  },
  {
   "cell_type": "code",
   "execution_count": 7,
   "metadata": {},
   "outputs": [
    {
     "name": "stdout",
     "output_type": "stream",
     "text": [
      "<class 'pandas.core.frame.DataFrame'>\n",
      "RangeIndex: 2 entries, 0 to 1\n",
      "Data columns (total 8 columns):\n",
      "messages_included        2 non-null int64\n",
      "mb_per_month_included    2 non-null int64\n",
      "minutes_included         2 non-null int64\n",
      "rub_monthly_fee          2 non-null int64\n",
      "rub_per_gb               2 non-null int64\n",
      "rub_per_message          2 non-null int64\n",
      "rub_per_minute           2 non-null int64\n",
      "tariff_name              2 non-null object\n",
      "dtypes: int64(7), object(1)\n",
      "memory usage: 256.0+ bytes\n"
     ]
    },
    {
     "data": {
      "text/html": [
       "<div>\n",
       "<style scoped>\n",
       "    .dataframe tbody tr th:only-of-type {\n",
       "        vertical-align: middle;\n",
       "    }\n",
       "\n",
       "    .dataframe tbody tr th {\n",
       "        vertical-align: top;\n",
       "    }\n",
       "\n",
       "    .dataframe thead th {\n",
       "        text-align: right;\n",
       "    }\n",
       "</style>\n",
       "<table border=\"1\" class=\"dataframe\">\n",
       "  <thead>\n",
       "    <tr style=\"text-align: right;\">\n",
       "      <th></th>\n",
       "      <th>messages_included</th>\n",
       "      <th>mb_per_month_included</th>\n",
       "      <th>minutes_included</th>\n",
       "      <th>rub_monthly_fee</th>\n",
       "      <th>rub_per_gb</th>\n",
       "      <th>rub_per_message</th>\n",
       "      <th>rub_per_minute</th>\n",
       "      <th>tariff_name</th>\n",
       "    </tr>\n",
       "  </thead>\n",
       "  <tbody>\n",
       "    <tr>\n",
       "      <td>0</td>\n",
       "      <td>50</td>\n",
       "      <td>15360</td>\n",
       "      <td>500</td>\n",
       "      <td>550</td>\n",
       "      <td>200</td>\n",
       "      <td>3</td>\n",
       "      <td>3</td>\n",
       "      <td>smart</td>\n",
       "    </tr>\n",
       "    <tr>\n",
       "      <td>1</td>\n",
       "      <td>1000</td>\n",
       "      <td>30720</td>\n",
       "      <td>3000</td>\n",
       "      <td>1950</td>\n",
       "      <td>150</td>\n",
       "      <td>1</td>\n",
       "      <td>1</td>\n",
       "      <td>ultra</td>\n",
       "    </tr>\n",
       "  </tbody>\n",
       "</table>\n",
       "</div>"
      ],
      "text/plain": [
       "   messages_included  mb_per_month_included  minutes_included  \\\n",
       "0                 50                  15360               500   \n",
       "1               1000                  30720              3000   \n",
       "\n",
       "   rub_monthly_fee  rub_per_gb  rub_per_message  rub_per_minute tariff_name  \n",
       "0              550         200                3               3       smart  \n",
       "1             1950         150                1               1       ultra  "
      ]
     },
     "execution_count": 7,
     "metadata": {},
     "output_type": "execute_result"
    }
   ],
   "source": [
    "df_tariffs.info()\n",
    "df_tariffs.head()"
   ]
  },
  {
   "cell_type": "markdown",
   "metadata": {},
   "source": [
    "#### Вывод"
   ]
  },
  {
   "cell_type": "markdown",
   "metadata": {},
   "source": [
    "- Ошибок, пропусков нет."
   ]
  },
  {
   "cell_type": "markdown",
   "metadata": {},
   "source": [
    "### Информация о пользователях"
   ]
  },
  {
   "cell_type": "code",
   "execution_count": 8,
   "metadata": {},
   "outputs": [
    {
     "name": "stdout",
     "output_type": "stream",
     "text": [
      "<class 'pandas.core.frame.DataFrame'>\n",
      "RangeIndex: 500 entries, 0 to 499\n",
      "Data columns (total 8 columns):\n",
      "user_id       500 non-null int64\n",
      "age           500 non-null int64\n",
      "churn_date    38 non-null object\n",
      "city          500 non-null object\n",
      "first_name    500 non-null object\n",
      "last_name     500 non-null object\n",
      "reg_date      500 non-null object\n",
      "tariff        500 non-null object\n",
      "dtypes: int64(2), object(6)\n",
      "memory usage: 31.4+ KB\n"
     ]
    },
    {
     "data": {
      "text/plain": [
       "count    500.00000\n",
       "mean      46.58800\n",
       "std       16.66763\n",
       "min       18.00000\n",
       "25%       32.00000\n",
       "50%       46.00000\n",
       "75%       62.00000\n",
       "max       75.00000\n",
       "Name: age, dtype: float64"
      ]
     },
     "metadata": {},
     "output_type": "display_data"
    },
    {
     "data": {
      "text/html": [
       "<div>\n",
       "<style scoped>\n",
       "    .dataframe tbody tr th:only-of-type {\n",
       "        vertical-align: middle;\n",
       "    }\n",
       "\n",
       "    .dataframe tbody tr th {\n",
       "        vertical-align: top;\n",
       "    }\n",
       "\n",
       "    .dataframe thead th {\n",
       "        text-align: right;\n",
       "    }\n",
       "</style>\n",
       "<table border=\"1\" class=\"dataframe\">\n",
       "  <thead>\n",
       "    <tr style=\"text-align: right;\">\n",
       "      <th></th>\n",
       "      <th>user_id</th>\n",
       "      <th>age</th>\n",
       "      <th>churn_date</th>\n",
       "      <th>city</th>\n",
       "      <th>first_name</th>\n",
       "      <th>last_name</th>\n",
       "      <th>reg_date</th>\n",
       "      <th>tariff</th>\n",
       "    </tr>\n",
       "  </thead>\n",
       "  <tbody>\n",
       "    <tr>\n",
       "      <td>0</td>\n",
       "      <td>1000</td>\n",
       "      <td>52</td>\n",
       "      <td>NaN</td>\n",
       "      <td>Краснодар</td>\n",
       "      <td>Рафаил</td>\n",
       "      <td>Верещагин</td>\n",
       "      <td>2018-05-25</td>\n",
       "      <td>ultra</td>\n",
       "    </tr>\n",
       "    <tr>\n",
       "      <td>1</td>\n",
       "      <td>1001</td>\n",
       "      <td>41</td>\n",
       "      <td>NaN</td>\n",
       "      <td>Москва</td>\n",
       "      <td>Иван</td>\n",
       "      <td>Ежов</td>\n",
       "      <td>2018-11-01</td>\n",
       "      <td>smart</td>\n",
       "    </tr>\n",
       "    <tr>\n",
       "      <td>2</td>\n",
       "      <td>1002</td>\n",
       "      <td>59</td>\n",
       "      <td>NaN</td>\n",
       "      <td>Стерлитамак</td>\n",
       "      <td>Евгений</td>\n",
       "      <td>Абрамович</td>\n",
       "      <td>2018-06-17</td>\n",
       "      <td>smart</td>\n",
       "    </tr>\n",
       "    <tr>\n",
       "      <td>3</td>\n",
       "      <td>1003</td>\n",
       "      <td>23</td>\n",
       "      <td>NaN</td>\n",
       "      <td>Москва</td>\n",
       "      <td>Белла</td>\n",
       "      <td>Белякова</td>\n",
       "      <td>2018-08-17</td>\n",
       "      <td>ultra</td>\n",
       "    </tr>\n",
       "    <tr>\n",
       "      <td>4</td>\n",
       "      <td>1004</td>\n",
       "      <td>68</td>\n",
       "      <td>NaN</td>\n",
       "      <td>Новокузнецк</td>\n",
       "      <td>Татьяна</td>\n",
       "      <td>Авдеенко</td>\n",
       "      <td>2018-05-14</td>\n",
       "      <td>ultra</td>\n",
       "    </tr>\n",
       "  </tbody>\n",
       "</table>\n",
       "</div>"
      ],
      "text/plain": [
       "   user_id  age churn_date         city first_name  last_name    reg_date  \\\n",
       "0     1000   52        NaN    Краснодар     Рафаил  Верещагин  2018-05-25   \n",
       "1     1001   41        NaN       Москва       Иван       Ежов  2018-11-01   \n",
       "2     1002   59        NaN  Стерлитамак    Евгений  Абрамович  2018-06-17   \n",
       "3     1003   23        NaN       Москва      Белла   Белякова  2018-08-17   \n",
       "4     1004   68        NaN  Новокузнецк    Татьяна   Авдеенко  2018-05-14   \n",
       "\n",
       "  tariff  \n",
       "0  ultra  \n",
       "1  smart  \n",
       "2  smart  \n",
       "3  ultra  \n",
       "4  ultra  "
      ]
     },
     "execution_count": 8,
     "metadata": {},
     "output_type": "execute_result"
    }
   ],
   "source": [
    "df_users.info()\n",
    "display(df_users['age'].describe())\n",
    "df_users.head()"
   ]
  },
  {
   "cell_type": "markdown",
   "metadata": {},
   "source": [
    "#### Вывод"
   ]
  },
  {
   "cell_type": "markdown",
   "metadata": {},
   "source": [
    "- Пропуски есть в одном столбце с датой прекращения тарифа, он для дальнейшего анализа не нужен - оставим как есть;\n",
    "- Надо будет поменять столбцы с городами и ФИО пользователей на строчный регистр;\n",
    "- Перевести дату в формат datetime."
   ]
  },
  {
   "cell_type": "markdown",
   "metadata": {},
   "source": [
    "## Предобработка данных"
   ]
  },
  {
   "cell_type": "markdown",
   "metadata": {},
   "source": [
    "### Пользователи"
   ]
  },
  {
   "cell_type": "code",
   "execution_count": 9,
   "metadata": {},
   "outputs": [
    {
     "data": {
      "text/html": [
       "<div>\n",
       "<style scoped>\n",
       "    .dataframe tbody tr th:only-of-type {\n",
       "        vertical-align: middle;\n",
       "    }\n",
       "\n",
       "    .dataframe tbody tr th {\n",
       "        vertical-align: top;\n",
       "    }\n",
       "\n",
       "    .dataframe thead th {\n",
       "        text-align: right;\n",
       "    }\n",
       "</style>\n",
       "<table border=\"1\" class=\"dataframe\">\n",
       "  <thead>\n",
       "    <tr style=\"text-align: right;\">\n",
       "      <th></th>\n",
       "      <th>user_id</th>\n",
       "      <th>age</th>\n",
       "      <th>churn_date</th>\n",
       "      <th>city</th>\n",
       "      <th>first_name</th>\n",
       "      <th>last_name</th>\n",
       "      <th>reg_date</th>\n",
       "      <th>tariff</th>\n",
       "    </tr>\n",
       "  </thead>\n",
       "  <tbody>\n",
       "    <tr>\n",
       "      <td>0</td>\n",
       "      <td>1000</td>\n",
       "      <td>52</td>\n",
       "      <td>NaN</td>\n",
       "      <td>Краснодар</td>\n",
       "      <td>Рафаил</td>\n",
       "      <td>Верещагин</td>\n",
       "      <td>2018-05-25</td>\n",
       "      <td>ultra</td>\n",
       "    </tr>\n",
       "    <tr>\n",
       "      <td>1</td>\n",
       "      <td>1001</td>\n",
       "      <td>41</td>\n",
       "      <td>NaN</td>\n",
       "      <td>Москва</td>\n",
       "      <td>Иван</td>\n",
       "      <td>Ежов</td>\n",
       "      <td>2018-11-01</td>\n",
       "      <td>smart</td>\n",
       "    </tr>\n",
       "    <tr>\n",
       "      <td>2</td>\n",
       "      <td>1002</td>\n",
       "      <td>59</td>\n",
       "      <td>NaN</td>\n",
       "      <td>Стерлитамак</td>\n",
       "      <td>Евгений</td>\n",
       "      <td>Абрамович</td>\n",
       "      <td>2018-06-17</td>\n",
       "      <td>smart</td>\n",
       "    </tr>\n",
       "    <tr>\n",
       "      <td>3</td>\n",
       "      <td>1003</td>\n",
       "      <td>23</td>\n",
       "      <td>NaN</td>\n",
       "      <td>Москва</td>\n",
       "      <td>Белла</td>\n",
       "      <td>Белякова</td>\n",
       "      <td>2018-08-17</td>\n",
       "      <td>ultra</td>\n",
       "    </tr>\n",
       "    <tr>\n",
       "      <td>4</td>\n",
       "      <td>1004</td>\n",
       "      <td>68</td>\n",
       "      <td>NaN</td>\n",
       "      <td>Новокузнецк</td>\n",
       "      <td>Татьяна</td>\n",
       "      <td>Авдеенко</td>\n",
       "      <td>2018-05-14</td>\n",
       "      <td>ultra</td>\n",
       "    </tr>\n",
       "  </tbody>\n",
       "</table>\n",
       "</div>"
      ],
      "text/plain": [
       "   user_id  age churn_date         city first_name  last_name    reg_date  \\\n",
       "0     1000   52        NaN    Краснодар     Рафаил  Верещагин  2018-05-25   \n",
       "1     1001   41        NaN       Москва       Иван       Ежов  2018-11-01   \n",
       "2     1002   59        NaN  Стерлитамак    Евгений  Абрамович  2018-06-17   \n",
       "3     1003   23        NaN       Москва      Белла   Белякова  2018-08-17   \n",
       "4     1004   68        NaN  Новокузнецк    Татьяна   Авдеенко  2018-05-14   \n",
       "\n",
       "  tariff  \n",
       "0  ultra  \n",
       "1  smart  \n",
       "2  smart  \n",
       "3  ultra  \n",
       "4  ultra  "
      ]
     },
     "execution_count": 9,
     "metadata": {},
     "output_type": "execute_result"
    }
   ],
   "source": [
    "df_users.head()"
   ]
  },
  {
   "cell_type": "code",
   "execution_count": 10,
   "metadata": {},
   "outputs": [
    {
     "data": {
      "text/plain": [
       "Index(['user_id', 'age', 'churn_date', 'city', 'first_name', 'last_name',\n",
       "       'reg_date', 'tariff'],\n",
       "      dtype='object')"
      ]
     },
     "execution_count": 10,
     "metadata": {},
     "output_type": "execute_result"
    }
   ],
   "source": [
    "df_users.columns"
   ]
  },
  {
   "cell_type": "code",
   "execution_count": 11,
   "metadata": {},
   "outputs": [
    {
     "data": {
      "text/html": [
       "<div>\n",
       "<style scoped>\n",
       "    .dataframe tbody tr th:only-of-type {\n",
       "        vertical-align: middle;\n",
       "    }\n",
       "\n",
       "    .dataframe tbody tr th {\n",
       "        vertical-align: top;\n",
       "    }\n",
       "\n",
       "    .dataframe thead th {\n",
       "        text-align: right;\n",
       "    }\n",
       "</style>\n",
       "<table border=\"1\" class=\"dataframe\">\n",
       "  <thead>\n",
       "    <tr style=\"text-align: right;\">\n",
       "      <th></th>\n",
       "      <th>user_id</th>\n",
       "      <th>age</th>\n",
       "      <th>churn_date</th>\n",
       "      <th>city</th>\n",
       "      <th>first_name</th>\n",
       "      <th>last_name</th>\n",
       "      <th>reg_month</th>\n",
       "      <th>tariff</th>\n",
       "    </tr>\n",
       "  </thead>\n",
       "  <tbody>\n",
       "    <tr>\n",
       "      <td>0</td>\n",
       "      <td>1000</td>\n",
       "      <td>52</td>\n",
       "      <td>NaN</td>\n",
       "      <td>Краснодар</td>\n",
       "      <td>Рафаил</td>\n",
       "      <td>Верещагин</td>\n",
       "      <td>5</td>\n",
       "      <td>ultra</td>\n",
       "    </tr>\n",
       "    <tr>\n",
       "      <td>1</td>\n",
       "      <td>1001</td>\n",
       "      <td>41</td>\n",
       "      <td>NaN</td>\n",
       "      <td>Москва</td>\n",
       "      <td>Иван</td>\n",
       "      <td>Ежов</td>\n",
       "      <td>11</td>\n",
       "      <td>smart</td>\n",
       "    </tr>\n",
       "    <tr>\n",
       "      <td>2</td>\n",
       "      <td>1002</td>\n",
       "      <td>59</td>\n",
       "      <td>NaN</td>\n",
       "      <td>Стерлитамак</td>\n",
       "      <td>Евгений</td>\n",
       "      <td>Абрамович</td>\n",
       "      <td>6</td>\n",
       "      <td>smart</td>\n",
       "    </tr>\n",
       "    <tr>\n",
       "      <td>3</td>\n",
       "      <td>1003</td>\n",
       "      <td>23</td>\n",
       "      <td>NaN</td>\n",
       "      <td>Москва</td>\n",
       "      <td>Белла</td>\n",
       "      <td>Белякова</td>\n",
       "      <td>8</td>\n",
       "      <td>ultra</td>\n",
       "    </tr>\n",
       "    <tr>\n",
       "      <td>4</td>\n",
       "      <td>1004</td>\n",
       "      <td>68</td>\n",
       "      <td>NaN</td>\n",
       "      <td>Новокузнецк</td>\n",
       "      <td>Татьяна</td>\n",
       "      <td>Авдеенко</td>\n",
       "      <td>5</td>\n",
       "      <td>ultra</td>\n",
       "    </tr>\n",
       "    <tr>\n",
       "      <td>...</td>\n",
       "      <td>...</td>\n",
       "      <td>...</td>\n",
       "      <td>...</td>\n",
       "      <td>...</td>\n",
       "      <td>...</td>\n",
       "      <td>...</td>\n",
       "      <td>...</td>\n",
       "      <td>...</td>\n",
       "    </tr>\n",
       "    <tr>\n",
       "      <td>495</td>\n",
       "      <td>1495</td>\n",
       "      <td>65</td>\n",
       "      <td>NaN</td>\n",
       "      <td>Иркутск</td>\n",
       "      <td>Авксентий</td>\n",
       "      <td>Фокин</td>\n",
       "      <td>8</td>\n",
       "      <td>ultra</td>\n",
       "    </tr>\n",
       "    <tr>\n",
       "      <td>496</td>\n",
       "      <td>1496</td>\n",
       "      <td>36</td>\n",
       "      <td>NaN</td>\n",
       "      <td>Вологда</td>\n",
       "      <td>Трифон</td>\n",
       "      <td>Блохин</td>\n",
       "      <td>1</td>\n",
       "      <td>smart</td>\n",
       "    </tr>\n",
       "    <tr>\n",
       "      <td>497</td>\n",
       "      <td>1497</td>\n",
       "      <td>32</td>\n",
       "      <td>NaN</td>\n",
       "      <td>Челябинск</td>\n",
       "      <td>Каролина</td>\n",
       "      <td>Агеева</td>\n",
       "      <td>10</td>\n",
       "      <td>smart</td>\n",
       "    </tr>\n",
       "    <tr>\n",
       "      <td>498</td>\n",
       "      <td>1498</td>\n",
       "      <td>68</td>\n",
       "      <td>2018-10-25</td>\n",
       "      <td>Владикавказ</td>\n",
       "      <td>Всеволод</td>\n",
       "      <td>Акимчин</td>\n",
       "      <td>7</td>\n",
       "      <td>smart</td>\n",
       "    </tr>\n",
       "    <tr>\n",
       "      <td>499</td>\n",
       "      <td>1499</td>\n",
       "      <td>35</td>\n",
       "      <td>NaN</td>\n",
       "      <td>Пермь</td>\n",
       "      <td>Гектор</td>\n",
       "      <td>Корнилов</td>\n",
       "      <td>9</td>\n",
       "      <td>smart</td>\n",
       "    </tr>\n",
       "  </tbody>\n",
       "</table>\n",
       "<p>500 rows × 8 columns</p>\n",
       "</div>"
      ],
      "text/plain": [
       "     user_id  age  churn_date         city first_name  last_name  reg_month  \\\n",
       "0       1000   52         NaN    Краснодар     Рафаил  Верещагин          5   \n",
       "1       1001   41         NaN       Москва       Иван       Ежов         11   \n",
       "2       1002   59         NaN  Стерлитамак    Евгений  Абрамович          6   \n",
       "3       1003   23         NaN       Москва      Белла   Белякова          8   \n",
       "4       1004   68         NaN  Новокузнецк    Татьяна   Авдеенко          5   \n",
       "..       ...  ...         ...          ...        ...        ...        ...   \n",
       "495     1495   65         NaN      Иркутск  Авксентий      Фокин          8   \n",
       "496     1496   36         NaN      Вологда     Трифон     Блохин          1   \n",
       "497     1497   32         NaN    Челябинск   Каролина     Агеева         10   \n",
       "498     1498   68  2018-10-25  Владикавказ   Всеволод    Акимчин          7   \n",
       "499     1499   35         NaN        Пермь     Гектор   Корнилов          9   \n",
       "\n",
       "    tariff  \n",
       "0    ultra  \n",
       "1    smart  \n",
       "2    smart  \n",
       "3    ultra  \n",
       "4    ultra  \n",
       "..     ...  \n",
       "495  ultra  \n",
       "496  smart  \n",
       "497  smart  \n",
       "498  smart  \n",
       "499  smart  \n",
       "\n",
       "[500 rows x 8 columns]"
      ]
     },
     "execution_count": 11,
     "metadata": {},
     "output_type": "execute_result"
    }
   ],
   "source": [
    "df_users['reg_date'] = pd.to_datetime(df_users['reg_date'], format='%Y-%m-%d')\n",
    "df_users['reg_date'] = df_users['reg_date'].dt.month\n",
    "df_users.rename(columns={'reg_date':'reg_month'})"
   ]
  },
  {
   "cell_type": "code",
   "execution_count": 12,
   "metadata": {},
   "outputs": [],
   "source": [
    "df_users['city'] = df_users['city'].str.lower()\n",
    "df_users['first_name'] = df_users['first_name'].str.lower()\n",
    "df_users['last_name'] = df_users['last_name'].str.lower()"
   ]
  },
  {
   "cell_type": "code",
   "execution_count": 13,
   "metadata": {
    "scrolled": true
   },
   "outputs": [
    {
     "data": {
      "text/html": [
       "<div>\n",
       "<style scoped>\n",
       "    .dataframe tbody tr th:only-of-type {\n",
       "        vertical-align: middle;\n",
       "    }\n",
       "\n",
       "    .dataframe tbody tr th {\n",
       "        vertical-align: top;\n",
       "    }\n",
       "\n",
       "    .dataframe thead th {\n",
       "        text-align: right;\n",
       "    }\n",
       "</style>\n",
       "<table border=\"1\" class=\"dataframe\">\n",
       "  <thead>\n",
       "    <tr style=\"text-align: right;\">\n",
       "      <th></th>\n",
       "      <th>user_id</th>\n",
       "      <th>age</th>\n",
       "      <th>churn_date</th>\n",
       "      <th>city</th>\n",
       "      <th>first_name</th>\n",
       "      <th>last_name</th>\n",
       "      <th>reg_date</th>\n",
       "      <th>tariff</th>\n",
       "    </tr>\n",
       "  </thead>\n",
       "  <tbody>\n",
       "    <tr>\n",
       "      <td>0</td>\n",
       "      <td>1000</td>\n",
       "      <td>52</td>\n",
       "      <td>NaN</td>\n",
       "      <td>краснодар</td>\n",
       "      <td>рафаил</td>\n",
       "      <td>верещагин</td>\n",
       "      <td>5</td>\n",
       "      <td>ultra</td>\n",
       "    </tr>\n",
       "    <tr>\n",
       "      <td>1</td>\n",
       "      <td>1001</td>\n",
       "      <td>41</td>\n",
       "      <td>NaN</td>\n",
       "      <td>москва</td>\n",
       "      <td>иван</td>\n",
       "      <td>ежов</td>\n",
       "      <td>11</td>\n",
       "      <td>smart</td>\n",
       "    </tr>\n",
       "    <tr>\n",
       "      <td>2</td>\n",
       "      <td>1002</td>\n",
       "      <td>59</td>\n",
       "      <td>NaN</td>\n",
       "      <td>стерлитамак</td>\n",
       "      <td>евгений</td>\n",
       "      <td>абрамович</td>\n",
       "      <td>6</td>\n",
       "      <td>smart</td>\n",
       "    </tr>\n",
       "    <tr>\n",
       "      <td>3</td>\n",
       "      <td>1003</td>\n",
       "      <td>23</td>\n",
       "      <td>NaN</td>\n",
       "      <td>москва</td>\n",
       "      <td>белла</td>\n",
       "      <td>белякова</td>\n",
       "      <td>8</td>\n",
       "      <td>ultra</td>\n",
       "    </tr>\n",
       "    <tr>\n",
       "      <td>4</td>\n",
       "      <td>1004</td>\n",
       "      <td>68</td>\n",
       "      <td>NaN</td>\n",
       "      <td>новокузнецк</td>\n",
       "      <td>татьяна</td>\n",
       "      <td>авдеенко</td>\n",
       "      <td>5</td>\n",
       "      <td>ultra</td>\n",
       "    </tr>\n",
       "  </tbody>\n",
       "</table>\n",
       "</div>"
      ],
      "text/plain": [
       "   user_id  age churn_date         city first_name  last_name  reg_date tariff\n",
       "0     1000   52        NaN    краснодар     рафаил  верещагин         5  ultra\n",
       "1     1001   41        NaN       москва       иван       ежов        11  smart\n",
       "2     1002   59        NaN  стерлитамак    евгений  абрамович         6  smart\n",
       "3     1003   23        NaN       москва      белла   белякова         8  ultra\n",
       "4     1004   68        NaN  новокузнецк    татьяна   авдеенко         5  ultra"
      ]
     },
     "execution_count": 13,
     "metadata": {},
     "output_type": "execute_result"
    }
   ],
   "source": [
    "df_users.head()"
   ]
  },
  {
   "cell_type": "code",
   "execution_count": 14,
   "metadata": {},
   "outputs": [
    {
     "data": {
      "text/plain": [
       "array([nan, '2018-10-05', '2018-12-18', '2018-11-21', '2018-10-03',\n",
       "       '2018-10-14', '2018-12-09', '2018-12-11', '2018-12-26',\n",
       "       '2018-08-31', '2018-12-03', '2018-12-23', '2018-11-07',\n",
       "       '2018-12-16', '2018-12-20', '2018-11-30', '2018-12-21',\n",
       "       '2018-08-17', '2018-09-02', '2018-10-04', '2018-11-13',\n",
       "       '2018-11-22', '2018-10-28', '2018-11-26', '2018-11-27',\n",
       "       '2018-11-16', '2018-10-27', '2018-12-30', '2018-09-27',\n",
       "       '2018-12-25', '2018-12-14', '2018-12-24', '2018-09-26',\n",
       "       '2018-10-25'], dtype=object)"
      ]
     },
     "execution_count": 14,
     "metadata": {},
     "output_type": "execute_result"
    }
   ],
   "source": [
    "df_users.churn_date.unique()"
   ]
  },
  {
   "cell_type": "markdown",
   "metadata": {},
   "source": [
    "### Звонки"
   ]
  },
  {
   "cell_type": "markdown",
   "metadata": {},
   "source": [
    "Переведем все записи по длительности в минуты и сделаем их целочисленными."
   ]
  },
  {
   "cell_type": "code",
   "execution_count": 15,
   "metadata": {},
   "outputs": [
    {
     "data": {
      "text/html": [
       "<div>\n",
       "<style scoped>\n",
       "    .dataframe tbody tr th:only-of-type {\n",
       "        vertical-align: middle;\n",
       "    }\n",
       "\n",
       "    .dataframe tbody tr th {\n",
       "        vertical-align: top;\n",
       "    }\n",
       "\n",
       "    .dataframe thead th {\n",
       "        text-align: right;\n",
       "    }\n",
       "</style>\n",
       "<table border=\"1\" class=\"dataframe\">\n",
       "  <thead>\n",
       "    <tr style=\"text-align: right;\">\n",
       "      <th></th>\n",
       "      <th>id</th>\n",
       "      <th>month</th>\n",
       "      <th>duration</th>\n",
       "      <th>user_id</th>\n",
       "    </tr>\n",
       "  </thead>\n",
       "  <tbody>\n",
       "    <tr>\n",
       "      <td>0</td>\n",
       "      <td>1000_0</td>\n",
       "      <td>7</td>\n",
       "      <td>0</td>\n",
       "      <td>1000</td>\n",
       "    </tr>\n",
       "    <tr>\n",
       "      <td>1</td>\n",
       "      <td>1000_1</td>\n",
       "      <td>8</td>\n",
       "      <td>0</td>\n",
       "      <td>1000</td>\n",
       "    </tr>\n",
       "    <tr>\n",
       "      <td>2</td>\n",
       "      <td>1000_2</td>\n",
       "      <td>6</td>\n",
       "      <td>3</td>\n",
       "      <td>1000</td>\n",
       "    </tr>\n",
       "    <tr>\n",
       "      <td>3</td>\n",
       "      <td>1000_3</td>\n",
       "      <td>9</td>\n",
       "      <td>14</td>\n",
       "      <td>1000</td>\n",
       "    </tr>\n",
       "    <tr>\n",
       "      <td>4</td>\n",
       "      <td>1000_4</td>\n",
       "      <td>12</td>\n",
       "      <td>6</td>\n",
       "      <td>1000</td>\n",
       "    </tr>\n",
       "  </tbody>\n",
       "</table>\n",
       "</div>"
      ],
      "text/plain": [
       "       id  month  duration  user_id\n",
       "0  1000_0      7         0     1000\n",
       "1  1000_1      8         0     1000\n",
       "2  1000_2      6         3     1000\n",
       "3  1000_3      9        14     1000\n",
       "4  1000_4     12         6     1000"
      ]
     },
     "execution_count": 15,
     "metadata": {},
     "output_type": "execute_result"
    }
   ],
   "source": [
    "df_calls['duration'] = np.ceil(df_calls['duration']).astype(int)\n",
    "df_calls['call_date'] = pd.to_datetime(df_calls['call_date'], format='%Y-%m-%d')\n",
    "df_calls['call_date'] = df_calls['call_date'].dt.month\n",
    "df_calls = df_calls.rename(columns = {'call_date':'month'})\n",
    "df_calls.head()\n"
   ]
  },
  {
   "cell_type": "code",
   "execution_count": 16,
   "metadata": {},
   "outputs": [
    {
     "data": {
      "image/png": "[encoded data removed]",
      "text/plain": [
       "<Figure size 720x720 with 1 Axes>"
      ]
     },
     "metadata": {
      "needs_background": "light"
     },
     "output_type": "display_data"
    }
   ],
   "source": [
    "ax = df_calls['duration'].plot(kind = 'hist',\n",
    "                               bins = 38, \n",
    "                               grid = True,\n",
    "                               figsize = (10,10),\n",
    "                               title = 'Распределение по длительности звонков в минутах')\n",
    "ax.set_xlabel('Длительность звонков,мин')\n",
    "ax.set_ylabel('Частота, раз');"
   ]
  },
  {
   "cell_type": "code",
   "execution_count": 17,
   "metadata": {},
   "outputs": [
    {
     "data": {
      "image/png": "[encoded data removed]",
      "text/plain": [
       "<Figure size 720x936 with 1 Axes>"
      ]
     },
     "metadata": {
      "needs_background": "light"
     },
     "output_type": "display_data"
    }
   ],
   "source": [
    "ax = df_calls['duration'].plot(kind = 'box',\n",
    "                               grid = True,\n",
    "                               figsize = (10,13),\n",
    "                               title = 'Распределение по длительности звонков в минутах')\n",
    "ax.set_ylabel('Длительность звонков,мин');"
   ]
  },
  {
   "cell_type": "markdown",
   "metadata": {},
   "source": [
    "Очень большой пик при 0 минут разговора - это пропущенные звонки, сдвигающие распределение, уберем их из нового датафрейма и посмотрим ещё раз."
   ]
  },
  {
   "cell_type": "code",
   "execution_count": 18,
   "metadata": {},
   "outputs": [
    {
     "data": {
      "image/png": "[encoded data removed]",
      "text/plain": [
       "<Figure size 720x720 with 1 Axes>"
      ]
     },
     "metadata": {
      "needs_background": "light"
     },
     "output_type": "display_data"
    }
   ],
   "source": [
    "df_calls_f = df_calls.query('duration>0')\n",
    "ax = df_calls_f['duration'].plot(kind = 'hist',\n",
    "                               bins = 38, \n",
    "                               grid = True,\n",
    "                               figsize = (10,10),\n",
    "                               title = 'Распределение по длительности звонков в минутах')\n",
    "ax.set_xlabel('Длительность звонков,мин')\n",
    "ax.set_ylabel('Частота, раз');\n"
   ]
  },
  {
   "cell_type": "markdown",
   "metadata": {},
   "source": [
    "Здесь мы видим чёткую картину пуассоновского распределения. Нули хоть и несут информацию о пропущенных звонках, но не учитываются при расчёте оплаты за услуги в конце месяца, поскольку для подсчета они не будут большой проблемой,а так же в этих строках могут быть другие полезные данные,оставим их."
   ]
  },
  {
   "cell_type": "markdown",
   "metadata": {},
   "source": [
    "### Интернет"
   ]
  },
  {
   "cell_type": "markdown",
   "metadata": {},
   "source": [
    "Поскольку тарифы не подразумевают подсчёт мегабайт за отдельно взятую сессию, а только суммарно за месяц для каждого пользователя, стоит суммировать месячные значения для каждого пользователя в дальнейшем."
   ]
  },
  {
   "cell_type": "markdown",
   "metadata": {},
   "source": [
    "Так же поменяем дату "
   ]
  },
  {
   "cell_type": "code",
   "execution_count": 19,
   "metadata": {},
   "outputs": [],
   "source": [
    "df_internet ['session_date']= pd.to_datetime(df_internet['session_date'], format='%Y-%m-%d')\n",
    "df_internet['session_date'] = df_internet['session_date'].dt.month\n",
    "df_internet = df_internet.rename(columns = {'session_date':'month'})"
   ]
  },
  {
   "cell_type": "code",
   "execution_count": 20,
   "metadata": {},
   "outputs": [
    {
     "data": {
      "text/html": [
       "<div>\n",
       "<style scoped>\n",
       "    .dataframe tbody tr th:only-of-type {\n",
       "        vertical-align: middle;\n",
       "    }\n",
       "\n",
       "    .dataframe tbody tr th {\n",
       "        vertical-align: top;\n",
       "    }\n",
       "\n",
       "    .dataframe thead th {\n",
       "        text-align: right;\n",
       "    }\n",
       "</style>\n",
       "<table border=\"1\" class=\"dataframe\">\n",
       "  <thead>\n",
       "    <tr style=\"text-align: right;\">\n",
       "      <th></th>\n",
       "      <th>Unnamed: 0</th>\n",
       "      <th>id</th>\n",
       "      <th>mb_used</th>\n",
       "      <th>month</th>\n",
       "      <th>user_id</th>\n",
       "    </tr>\n",
       "  </thead>\n",
       "  <tbody>\n",
       "    <tr>\n",
       "      <td>0</td>\n",
       "      <td>0</td>\n",
       "      <td>1000_0</td>\n",
       "      <td>112.95</td>\n",
       "      <td>11</td>\n",
       "      <td>1000</td>\n",
       "    </tr>\n",
       "    <tr>\n",
       "      <td>1</td>\n",
       "      <td>1</td>\n",
       "      <td>1000_1</td>\n",
       "      <td>1052.81</td>\n",
       "      <td>9</td>\n",
       "      <td>1000</td>\n",
       "    </tr>\n",
       "    <tr>\n",
       "      <td>2</td>\n",
       "      <td>2</td>\n",
       "      <td>1000_2</td>\n",
       "      <td>1197.26</td>\n",
       "      <td>6</td>\n",
       "      <td>1000</td>\n",
       "    </tr>\n",
       "    <tr>\n",
       "      <td>3</td>\n",
       "      <td>3</td>\n",
       "      <td>1000_3</td>\n",
       "      <td>550.27</td>\n",
       "      <td>8</td>\n",
       "      <td>1000</td>\n",
       "    </tr>\n",
       "    <tr>\n",
       "      <td>4</td>\n",
       "      <td>4</td>\n",
       "      <td>1000_4</td>\n",
       "      <td>302.56</td>\n",
       "      <td>9</td>\n",
       "      <td>1000</td>\n",
       "    </tr>\n",
       "  </tbody>\n",
       "</table>\n",
       "</div>"
      ],
      "text/plain": [
       "   Unnamed: 0      id  mb_used  month  user_id\n",
       "0           0  1000_0   112.95     11     1000\n",
       "1           1  1000_1  1052.81      9     1000\n",
       "2           2  1000_2  1197.26      6     1000\n",
       "3           3  1000_3   550.27      8     1000\n",
       "4           4  1000_4   302.56      9     1000"
      ]
     },
     "execution_count": 20,
     "metadata": {},
     "output_type": "execute_result"
    }
   ],
   "source": [
    "df_internet.head()"
   ]
  },
  {
   "cell_type": "code",
   "execution_count": 21,
   "metadata": {},
   "outputs": [
    {
     "data": {
      "image/png": "[encoded data removed]",
      "text/plain": [
       "<Figure size 1080x576 with 1 Axes>"
      ]
     },
     "metadata": {
      "needs_background": "light"
     },
     "output_type": "display_data"
    }
   ],
   "source": [
    "ax = df_internet.pivot_table(index=['user_id','month'], \n",
    "                         values = 'mb_used', \n",
    "                         aggfunc = 'sum').plot(kind = 'hist',\n",
    "                                               bins = 50,\n",
    "                                               grid = True,\n",
    "                                               figsize = (15,8),\n",
    "                                               title = 'Диаграмма распределения по потраченным Гб')\n",
    "ax.set_xlabel('Количество мб в месяц')\n",
    "ax.set_ylabel('Частота');"
   ]
  },
  {
   "cell_type": "markdown",
   "metadata": {},
   "source": [
    "Распределение по виду близко к гауссовскому.Видно, что большинство пользователей тратят от 10 до 23 Гб в месяц."
   ]
  },
  {
   "cell_type": "markdown",
   "metadata": {},
   "source": [
    "### Сообщения"
   ]
  },
  {
   "cell_type": "markdown",
   "metadata": {},
   "source": [
    "Аналогичные действия выполним для таблицы с информацией о потраченных пользователями сообщениях"
   ]
  },
  {
   "cell_type": "code",
   "execution_count": 22,
   "metadata": {},
   "outputs": [],
   "source": [
    "df_messages ['message_date']= pd.to_datetime(df_messages['message_date'], format='%Y-%m-%d')\n",
    "df_messages['message_date'] = df_messages['message_date'].dt.month\n",
    "df_messages = df_messages.rename(columns = {'message_date':'month'})"
   ]
  },
  {
   "cell_type": "code",
   "execution_count": 23,
   "metadata": {
    "scrolled": true
   },
   "outputs": [
    {
     "data": {
      "text/html": [
       "<div>\n",
       "<style scoped>\n",
       "    .dataframe tbody tr th:only-of-type {\n",
       "        vertical-align: middle;\n",
       "    }\n",
       "\n",
       "    .dataframe tbody tr th {\n",
       "        vertical-align: top;\n",
       "    }\n",
       "\n",
       "    .dataframe thead th {\n",
       "        text-align: right;\n",
       "    }\n",
       "</style>\n",
       "<table border=\"1\" class=\"dataframe\">\n",
       "  <thead>\n",
       "    <tr style=\"text-align: right;\">\n",
       "      <th></th>\n",
       "      <th>id</th>\n",
       "      <th>month</th>\n",
       "      <th>user_id</th>\n",
       "    </tr>\n",
       "  </thead>\n",
       "  <tbody>\n",
       "    <tr>\n",
       "      <td>0</td>\n",
       "      <td>1000_0</td>\n",
       "      <td>6</td>\n",
       "      <td>1000</td>\n",
       "    </tr>\n",
       "    <tr>\n",
       "      <td>1</td>\n",
       "      <td>1000_1</td>\n",
       "      <td>10</td>\n",
       "      <td>1000</td>\n",
       "    </tr>\n",
       "    <tr>\n",
       "      <td>2</td>\n",
       "      <td>1000_2</td>\n",
       "      <td>8</td>\n",
       "      <td>1000</td>\n",
       "    </tr>\n",
       "    <tr>\n",
       "      <td>3</td>\n",
       "      <td>1000_3</td>\n",
       "      <td>6</td>\n",
       "      <td>1000</td>\n",
       "    </tr>\n",
       "    <tr>\n",
       "      <td>4</td>\n",
       "      <td>1000_4</td>\n",
       "      <td>12</td>\n",
       "      <td>1000</td>\n",
       "    </tr>\n",
       "  </tbody>\n",
       "</table>\n",
       "</div>"
      ],
      "text/plain": [
       "       id  month  user_id\n",
       "0  1000_0      6     1000\n",
       "1  1000_1     10     1000\n",
       "2  1000_2      8     1000\n",
       "3  1000_3      6     1000\n",
       "4  1000_4     12     1000"
      ]
     },
     "execution_count": 23,
     "metadata": {},
     "output_type": "execute_result"
    }
   ],
   "source": [
    "df_messages.head()"
   ]
  },
  {
   "cell_type": "markdown",
   "metadata": {},
   "source": [
    "### Вывод"
   ]
  },
  {
   "cell_type": "markdown",
   "metadata": {},
   "source": [
    "- Выполнена проверка данных;\n",
    "- Столбец по длительности разговора переведен в целочисленный вид с округлением вверх до минут *по условиям оператора*;\n",
    "- Переведены даты в формат datetime;\n",
    "- В колонках *'city','first_name', 'last_name'* изменены регистры на нижние;\n",
    "- Мб в Гб переведем после объединения таблиц;\n",
    "- Для удобства даты по всему датафрейму изменены на числовые месяца, чтобы по ним так же делать объединение."
   ]
  },
  {
   "cell_type": "markdown",
   "metadata": {},
   "source": [
    "## Объединение данных по услугам"
   ]
  },
  {
   "cell_type": "markdown",
   "metadata": {},
   "source": [
    "Для начала, чтобы не убить ядро(что у меня получилось), сгруппируем данные по пользователям.\n",
    "А так же сбросим индексы."
   ]
  },
  {
   "cell_type": "code",
   "execution_count": 24,
   "metadata": {},
   "outputs": [],
   "source": [
    "# Для таблицы со звонками,будем суммировать округленное количество минут\n",
    "calls_pivot = df_calls.pivot_table(index = ['user_id','month'], values = 'duration',aggfunc = 'sum').reset_index()\n",
    "\n",
    "\n",
    "# Для сообщений будем суммировать количество записей для каждого пользователя за месяц\n",
    "messages_pivot = df_messages.pivot_table(index = ['user_id','month'], values = 'id',aggfunc = 'count').reset_index()\n",
    "\n",
    "\n",
    "# здесь колонка id перестала нести смысл уникального идентификатора \n",
    "# и стала подсчётом сгруппированной суммы сообщений для каждого пользователя за месяц, таким образом, лучше ее переименовать.\n",
    "messages_pivot = messages_pivot.rename(columns = {'id':'messages_count'})\n",
    "internet_pivot = df_internet.pivot_table(index = ['user_id','month'], values = 'mb_used',aggfunc = 'sum').reset_index()"
   ]
  },
  {
   "cell_type": "markdown",
   "metadata": {},
   "source": [
    "Далее будем последовательно объединять сгруппированные таблицы по двум колонкам:*'user_id' и 'month'* "
   ]
  },
  {
   "cell_type": "markdown",
   "metadata": {},
   "source": [
    "data_first = calls_pivot.merge(messages_pivot, on = ['user_id','month'], how = 'outer')\\\n",
    "                        .merge(internet_pivot, on = ['user_id','month'], how = 'outer')\\\n",
    "                        .merge(df_users,on = ['user_id'], how = 'left')"
   ]
  },
  {
   "cell_type": "code",
   "execution_count": 25,
   "metadata": {},
   "outputs": [],
   "source": [
    "data_first = calls_pivot.merge(messages_pivot, on = ['user_id','month'], how = 'outer')\\\n",
    "                        .merge(internet_pivot, on = ['user_id','month'], how = 'outer')\\\n",
    "                        .merge(df_users,on = ['user_id'], how = 'left')\n",
    "\n",
    "\n",
    "# Для объединения с датафреймом с тарифами надо так же изменить название колонки 'tariff_name' на 'tariff'\n",
    "df_tariffs = df_tariffs.rename(columns={'tariff_name':'tariff'})\n",
    "\n",
    "data_services = data_first.merge(df_tariffs, on = 'tariff',how = 'left')"
   ]
  },
  {
   "cell_type": "code",
   "execution_count": 26,
   "metadata": {},
   "outputs": [
    {
     "data": {
      "text/html": [
       "<div>\n",
       "<style scoped>\n",
       "    .dataframe tbody tr th:only-of-type {\n",
       "        vertical-align: middle;\n",
       "    }\n",
       "\n",
       "    .dataframe tbody tr th {\n",
       "        vertical-align: top;\n",
       "    }\n",
       "\n",
       "    .dataframe thead th {\n",
       "        text-align: right;\n",
       "    }\n",
       "</style>\n",
       "<table border=\"1\" class=\"dataframe\">\n",
       "  <thead>\n",
       "    <tr style=\"text-align: right;\">\n",
       "      <th></th>\n",
       "      <th>user_id</th>\n",
       "      <th>month</th>\n",
       "      <th>duration</th>\n",
       "      <th>messages_count</th>\n",
       "      <th>mb_used</th>\n",
       "      <th>age</th>\n",
       "      <th>churn_date</th>\n",
       "      <th>city</th>\n",
       "      <th>first_name</th>\n",
       "      <th>last_name</th>\n",
       "      <th>reg_date</th>\n",
       "      <th>tariff</th>\n",
       "      <th>messages_included</th>\n",
       "      <th>mb_per_month_included</th>\n",
       "      <th>minutes_included</th>\n",
       "      <th>rub_monthly_fee</th>\n",
       "      <th>rub_per_gb</th>\n",
       "      <th>rub_per_message</th>\n",
       "      <th>rub_per_minute</th>\n",
       "    </tr>\n",
       "  </thead>\n",
       "  <tbody>\n",
       "    <tr>\n",
       "      <td>0</td>\n",
       "      <td>1000</td>\n",
       "      <td>5</td>\n",
       "      <td>159.0</td>\n",
       "      <td>22.0</td>\n",
       "      <td>2253.49</td>\n",
       "      <td>52</td>\n",
       "      <td>NaN</td>\n",
       "      <td>краснодар</td>\n",
       "      <td>рафаил</td>\n",
       "      <td>верещагин</td>\n",
       "      <td>5</td>\n",
       "      <td>ultra</td>\n",
       "      <td>1000</td>\n",
       "      <td>30720</td>\n",
       "      <td>3000</td>\n",
       "      <td>1950</td>\n",
       "      <td>150</td>\n",
       "      <td>1</td>\n",
       "      <td>1</td>\n",
       "    </tr>\n",
       "    <tr>\n",
       "      <td>1</td>\n",
       "      <td>1000</td>\n",
       "      <td>6</td>\n",
       "      <td>172.0</td>\n",
       "      <td>60.0</td>\n",
       "      <td>23233.77</td>\n",
       "      <td>52</td>\n",
       "      <td>NaN</td>\n",
       "      <td>краснодар</td>\n",
       "      <td>рафаил</td>\n",
       "      <td>верещагин</td>\n",
       "      <td>5</td>\n",
       "      <td>ultra</td>\n",
       "      <td>1000</td>\n",
       "      <td>30720</td>\n",
       "      <td>3000</td>\n",
       "      <td>1950</td>\n",
       "      <td>150</td>\n",
       "      <td>1</td>\n",
       "      <td>1</td>\n",
       "    </tr>\n",
       "    <tr>\n",
       "      <td>2</td>\n",
       "      <td>1000</td>\n",
       "      <td>7</td>\n",
       "      <td>340.0</td>\n",
       "      <td>75.0</td>\n",
       "      <td>14003.64</td>\n",
       "      <td>52</td>\n",
       "      <td>NaN</td>\n",
       "      <td>краснодар</td>\n",
       "      <td>рафаил</td>\n",
       "      <td>верещагин</td>\n",
       "      <td>5</td>\n",
       "      <td>ultra</td>\n",
       "      <td>1000</td>\n",
       "      <td>30720</td>\n",
       "      <td>3000</td>\n",
       "      <td>1950</td>\n",
       "      <td>150</td>\n",
       "      <td>1</td>\n",
       "      <td>1</td>\n",
       "    </tr>\n",
       "    <tr>\n",
       "      <td>3</td>\n",
       "      <td>1000</td>\n",
       "      <td>8</td>\n",
       "      <td>408.0</td>\n",
       "      <td>81.0</td>\n",
       "      <td>14055.93</td>\n",
       "      <td>52</td>\n",
       "      <td>NaN</td>\n",
       "      <td>краснодар</td>\n",
       "      <td>рафаил</td>\n",
       "      <td>верещагин</td>\n",
       "      <td>5</td>\n",
       "      <td>ultra</td>\n",
       "      <td>1000</td>\n",
       "      <td>30720</td>\n",
       "      <td>3000</td>\n",
       "      <td>1950</td>\n",
       "      <td>150</td>\n",
       "      <td>1</td>\n",
       "      <td>1</td>\n",
       "    </tr>\n",
       "    <tr>\n",
       "      <td>4</td>\n",
       "      <td>1000</td>\n",
       "      <td>9</td>\n",
       "      <td>466.0</td>\n",
       "      <td>57.0</td>\n",
       "      <td>14568.91</td>\n",
       "      <td>52</td>\n",
       "      <td>NaN</td>\n",
       "      <td>краснодар</td>\n",
       "      <td>рафаил</td>\n",
       "      <td>верещагин</td>\n",
       "      <td>5</td>\n",
       "      <td>ultra</td>\n",
       "      <td>1000</td>\n",
       "      <td>30720</td>\n",
       "      <td>3000</td>\n",
       "      <td>1950</td>\n",
       "      <td>150</td>\n",
       "      <td>1</td>\n",
       "      <td>1</td>\n",
       "    </tr>\n",
       "    <tr>\n",
       "      <td>5</td>\n",
       "      <td>1000</td>\n",
       "      <td>10</td>\n",
       "      <td>350.0</td>\n",
       "      <td>73.0</td>\n",
       "      <td>14702.49</td>\n",
       "      <td>52</td>\n",
       "      <td>NaN</td>\n",
       "      <td>краснодар</td>\n",
       "      <td>рафаил</td>\n",
       "      <td>верещагин</td>\n",
       "      <td>5</td>\n",
       "      <td>ultra</td>\n",
       "      <td>1000</td>\n",
       "      <td>30720</td>\n",
       "      <td>3000</td>\n",
       "      <td>1950</td>\n",
       "      <td>150</td>\n",
       "      <td>1</td>\n",
       "      <td>1</td>\n",
       "    </tr>\n",
       "    <tr>\n",
       "      <td>6</td>\n",
       "      <td>1000</td>\n",
       "      <td>11</td>\n",
       "      <td>338.0</td>\n",
       "      <td>58.0</td>\n",
       "      <td>14756.47</td>\n",
       "      <td>52</td>\n",
       "      <td>NaN</td>\n",
       "      <td>краснодар</td>\n",
       "      <td>рафаил</td>\n",
       "      <td>верещагин</td>\n",
       "      <td>5</td>\n",
       "      <td>ultra</td>\n",
       "      <td>1000</td>\n",
       "      <td>30720</td>\n",
       "      <td>3000</td>\n",
       "      <td>1950</td>\n",
       "      <td>150</td>\n",
       "      <td>1</td>\n",
       "      <td>1</td>\n",
       "    </tr>\n",
       "    <tr>\n",
       "      <td>7</td>\n",
       "      <td>1000</td>\n",
       "      <td>12</td>\n",
       "      <td>333.0</td>\n",
       "      <td>70.0</td>\n",
       "      <td>9817.61</td>\n",
       "      <td>52</td>\n",
       "      <td>NaN</td>\n",
       "      <td>краснодар</td>\n",
       "      <td>рафаил</td>\n",
       "      <td>верещагин</td>\n",
       "      <td>5</td>\n",
       "      <td>ultra</td>\n",
       "      <td>1000</td>\n",
       "      <td>30720</td>\n",
       "      <td>3000</td>\n",
       "      <td>1950</td>\n",
       "      <td>150</td>\n",
       "      <td>1</td>\n",
       "      <td>1</td>\n",
       "    </tr>\n",
       "    <tr>\n",
       "      <td>8</td>\n",
       "      <td>1001</td>\n",
       "      <td>11</td>\n",
       "      <td>430.0</td>\n",
       "      <td>NaN</td>\n",
       "      <td>18429.34</td>\n",
       "      <td>41</td>\n",
       "      <td>NaN</td>\n",
       "      <td>москва</td>\n",
       "      <td>иван</td>\n",
       "      <td>ежов</td>\n",
       "      <td>11</td>\n",
       "      <td>smart</td>\n",
       "      <td>50</td>\n",
       "      <td>15360</td>\n",
       "      <td>500</td>\n",
       "      <td>550</td>\n",
       "      <td>200</td>\n",
       "      <td>3</td>\n",
       "      <td>3</td>\n",
       "    </tr>\n",
       "    <tr>\n",
       "      <td>9</td>\n",
       "      <td>1001</td>\n",
       "      <td>12</td>\n",
       "      <td>414.0</td>\n",
       "      <td>NaN</td>\n",
       "      <td>14036.66</td>\n",
       "      <td>41</td>\n",
       "      <td>NaN</td>\n",
       "      <td>москва</td>\n",
       "      <td>иван</td>\n",
       "      <td>ежов</td>\n",
       "      <td>11</td>\n",
       "      <td>smart</td>\n",
       "      <td>50</td>\n",
       "      <td>15360</td>\n",
       "      <td>500</td>\n",
       "      <td>550</td>\n",
       "      <td>200</td>\n",
       "      <td>3</td>\n",
       "      <td>3</td>\n",
       "    </tr>\n",
       "    <tr>\n",
       "      <td>10</td>\n",
       "      <td>1002</td>\n",
       "      <td>6</td>\n",
       "      <td>117.0</td>\n",
       "      <td>4.0</td>\n",
       "      <td>10856.82</td>\n",
       "      <td>59</td>\n",
       "      <td>NaN</td>\n",
       "      <td>стерлитамак</td>\n",
       "      <td>евгений</td>\n",
       "      <td>абрамович</td>\n",
       "      <td>6</td>\n",
       "      <td>smart</td>\n",
       "      <td>50</td>\n",
       "      <td>15360</td>\n",
       "      <td>500</td>\n",
       "      <td>550</td>\n",
       "      <td>200</td>\n",
       "      <td>3</td>\n",
       "      <td>3</td>\n",
       "    </tr>\n",
       "    <tr>\n",
       "      <td>11</td>\n",
       "      <td>1002</td>\n",
       "      <td>7</td>\n",
       "      <td>214.0</td>\n",
       "      <td>11.0</td>\n",
       "      <td>17580.10</td>\n",
       "      <td>59</td>\n",
       "      <td>NaN</td>\n",
       "      <td>стерлитамак</td>\n",
       "      <td>евгений</td>\n",
       "      <td>абрамович</td>\n",
       "      <td>6</td>\n",
       "      <td>smart</td>\n",
       "      <td>50</td>\n",
       "      <td>15360</td>\n",
       "      <td>500</td>\n",
       "      <td>550</td>\n",
       "      <td>200</td>\n",
       "      <td>3</td>\n",
       "      <td>3</td>\n",
       "    </tr>\n",
       "    <tr>\n",
       "      <td>12</td>\n",
       "      <td>1002</td>\n",
       "      <td>8</td>\n",
       "      <td>289.0</td>\n",
       "      <td>13.0</td>\n",
       "      <td>20319.26</td>\n",
       "      <td>59</td>\n",
       "      <td>NaN</td>\n",
       "      <td>стерлитамак</td>\n",
       "      <td>евгений</td>\n",
       "      <td>абрамович</td>\n",
       "      <td>6</td>\n",
       "      <td>smart</td>\n",
       "      <td>50</td>\n",
       "      <td>15360</td>\n",
       "      <td>500</td>\n",
       "      <td>550</td>\n",
       "      <td>200</td>\n",
       "      <td>3</td>\n",
       "      <td>3</td>\n",
       "    </tr>\n",
       "    <tr>\n",
       "      <td>13</td>\n",
       "      <td>1002</td>\n",
       "      <td>9</td>\n",
       "      <td>206.0</td>\n",
       "      <td>4.0</td>\n",
       "      <td>16691.08</td>\n",
       "      <td>59</td>\n",
       "      <td>NaN</td>\n",
       "      <td>стерлитамак</td>\n",
       "      <td>евгений</td>\n",
       "      <td>абрамович</td>\n",
       "      <td>6</td>\n",
       "      <td>smart</td>\n",
       "      <td>50</td>\n",
       "      <td>15360</td>\n",
       "      <td>500</td>\n",
       "      <td>550</td>\n",
       "      <td>200</td>\n",
       "      <td>3</td>\n",
       "      <td>3</td>\n",
       "    </tr>\n",
       "    <tr>\n",
       "      <td>14</td>\n",
       "      <td>1002</td>\n",
       "      <td>10</td>\n",
       "      <td>212.0</td>\n",
       "      <td>10.0</td>\n",
       "      <td>13888.25</td>\n",
       "      <td>59</td>\n",
       "      <td>NaN</td>\n",
       "      <td>стерлитамак</td>\n",
       "      <td>евгений</td>\n",
       "      <td>абрамович</td>\n",
       "      <td>6</td>\n",
       "      <td>smart</td>\n",
       "      <td>50</td>\n",
       "      <td>15360</td>\n",
       "      <td>500</td>\n",
       "      <td>550</td>\n",
       "      <td>200</td>\n",
       "      <td>3</td>\n",
       "      <td>3</td>\n",
       "    </tr>\n",
       "  </tbody>\n",
       "</table>\n",
       "</div>"
      ],
      "text/plain": [
       "    user_id  month  duration  messages_count   mb_used  age churn_date  \\\n",
       "0      1000      5     159.0            22.0   2253.49   52        NaN   \n",
       "1      1000      6     172.0            60.0  23233.77   52        NaN   \n",
       "2      1000      7     340.0            75.0  14003.64   52        NaN   \n",
       "3      1000      8     408.0            81.0  14055.93   52        NaN   \n",
       "4      1000      9     466.0            57.0  14568.91   52        NaN   \n",
       "5      1000     10     350.0            73.0  14702.49   52        NaN   \n",
       "6      1000     11     338.0            58.0  14756.47   52        NaN   \n",
       "7      1000     12     333.0            70.0   9817.61   52        NaN   \n",
       "8      1001     11     430.0             NaN  18429.34   41        NaN   \n",
       "9      1001     12     414.0             NaN  14036.66   41        NaN   \n",
       "10     1002      6     117.0             4.0  10856.82   59        NaN   \n",
       "11     1002      7     214.0            11.0  17580.10   59        NaN   \n",
       "12     1002      8     289.0            13.0  20319.26   59        NaN   \n",
       "13     1002      9     206.0             4.0  16691.08   59        NaN   \n",
       "14     1002     10     212.0            10.0  13888.25   59        NaN   \n",
       "\n",
       "           city first_name  last_name  reg_date tariff  messages_included  \\\n",
       "0     краснодар     рафаил  верещагин         5  ultra               1000   \n",
       "1     краснодар     рафаил  верещагин         5  ultra               1000   \n",
       "2     краснодар     рафаил  верещагин         5  ultra               1000   \n",
       "3     краснодар     рафаил  верещагин         5  ultra               1000   \n",
       "4     краснодар     рафаил  верещагин         5  ultra               1000   \n",
       "5     краснодар     рафаил  верещагин         5  ultra               1000   \n",
       "6     краснодар     рафаил  верещагин         5  ultra               1000   \n",
       "7     краснодар     рафаил  верещагин         5  ultra               1000   \n",
       "8        москва       иван       ежов        11  smart                 50   \n",
       "9        москва       иван       ежов        11  smart                 50   \n",
       "10  стерлитамак    евгений  абрамович         6  smart                 50   \n",
       "11  стерлитамак    евгений  абрамович         6  smart                 50   \n",
       "12  стерлитамак    евгений  абрамович         6  smart                 50   \n",
       "13  стерлитамак    евгений  абрамович         6  smart                 50   \n",
       "14  стерлитамак    евгений  абрамович         6  smart                 50   \n",
       "\n",
       "    mb_per_month_included  minutes_included  rub_monthly_fee  rub_per_gb  \\\n",
       "0                   30720              3000             1950         150   \n",
       "1                   30720              3000             1950         150   \n",
       "2                   30720              3000             1950         150   \n",
       "3                   30720              3000             1950         150   \n",
       "4                   30720              3000             1950         150   \n",
       "5                   30720              3000             1950         150   \n",
       "6                   30720              3000             1950         150   \n",
       "7                   30720              3000             1950         150   \n",
       "8                   15360               500              550         200   \n",
       "9                   15360               500              550         200   \n",
       "10                  15360               500              550         200   \n",
       "11                  15360               500              550         200   \n",
       "12                  15360               500              550         200   \n",
       "13                  15360               500              550         200   \n",
       "14                  15360               500              550         200   \n",
       "\n",
       "    rub_per_message  rub_per_minute  \n",
       "0                 1               1  \n",
       "1                 1               1  \n",
       "2                 1               1  \n",
       "3                 1               1  \n",
       "4                 1               1  \n",
       "5                 1               1  \n",
       "6                 1               1  \n",
       "7                 1               1  \n",
       "8                 3               3  \n",
       "9                 3               3  \n",
       "10                3               3  \n",
       "11                3               3  \n",
       "12                3               3  \n",
       "13                3               3  \n",
       "14                3               3  "
      ]
     },
     "execution_count": 26,
     "metadata": {},
     "output_type": "execute_result"
    }
   ],
   "source": [
    "data_services.head(15)"
   ]
  },
  {
   "cell_type": "markdown",
   "metadata": {},
   "source": [
    ">Из-за объединения таблиц некоторые столбцы поменяли свой тип данных."
   ]
  },
  {
   "cell_type": "markdown",
   "metadata": {},
   "source": [
    "Надо вернуть тип данных для стоблцов 'month', 'duration', 'messages_count','mb_used'. Выдает наличие ошибки. Значит есть NaN, проверим это."
   ]
  },
  {
   "cell_type": "markdown",
   "metadata": {},
   "source": [
    "> Пропущенные значения в данных колонках говорят о том, что данная услуга не использовалась этим пользователем в отдельном месяце, заменим на нулевые значения."
   ]
  },
  {
   "cell_type": "code",
   "execution_count": 27,
   "metadata": {},
   "outputs": [],
   "source": [
    "data_services['month'] = data_services['month'].fillna(0)\n",
    "data_services['duration'] = data_services['duration'].fillna(0)\n",
    "data_services['messages_count'] = data_services['messages_count'].fillna(0)\n",
    "data_services['mb_used'] = data_services['mb_used'].fillna(0)"
   ]
  },
  {
   "cell_type": "markdown",
   "metadata": {},
   "source": [
    "И переведем в целочисленный вид. Так же предварительно округлим количество потраченных мб вверх."
   ]
  },
  {
   "cell_type": "code",
   "execution_count": 28,
   "metadata": {},
   "outputs": [],
   "source": [
    "data_services['month'] = data_services['month'].astype(int)\n",
    "data_services['duration'] = data_services['duration'].astype(int)\n",
    "data_services['messages_count'] = data_services['messages_count'].astype(int)\n",
    "data_services['mb_used'] = (np.ceil(data_services['mb_used'])).astype(int)"
   ]
  },
  {
   "cell_type": "code",
   "execution_count": 29,
   "metadata": {
    "scrolled": false
   },
   "outputs": [
    {
     "data": {
      "text/html": [
       "<div>\n",
       "<style scoped>\n",
       "    .dataframe tbody tr th:only-of-type {\n",
       "        vertical-align: middle;\n",
       "    }\n",
       "\n",
       "    .dataframe tbody tr th {\n",
       "        vertical-align: top;\n",
       "    }\n",
       "\n",
       "    .dataframe thead th {\n",
       "        text-align: right;\n",
       "    }\n",
       "</style>\n",
       "<table border=\"1\" class=\"dataframe\">\n",
       "  <thead>\n",
       "    <tr style=\"text-align: right;\">\n",
       "      <th></th>\n",
       "      <th>user_id</th>\n",
       "      <th>month</th>\n",
       "      <th>duration</th>\n",
       "      <th>messages_count</th>\n",
       "      <th>mb_used</th>\n",
       "      <th>age</th>\n",
       "      <th>churn_date</th>\n",
       "      <th>city</th>\n",
       "      <th>first_name</th>\n",
       "      <th>last_name</th>\n",
       "      <th>reg_date</th>\n",
       "      <th>tariff</th>\n",
       "      <th>messages_included</th>\n",
       "      <th>mb_per_month_included</th>\n",
       "      <th>minutes_included</th>\n",
       "      <th>rub_monthly_fee</th>\n",
       "      <th>rub_per_gb</th>\n",
       "      <th>rub_per_message</th>\n",
       "      <th>rub_per_minute</th>\n",
       "    </tr>\n",
       "  </thead>\n",
       "  <tbody>\n",
       "    <tr>\n",
       "      <td>0</td>\n",
       "      <td>1000</td>\n",
       "      <td>5</td>\n",
       "      <td>159</td>\n",
       "      <td>22</td>\n",
       "      <td>2254</td>\n",
       "      <td>52</td>\n",
       "      <td>NaN</td>\n",
       "      <td>краснодар</td>\n",
       "      <td>рафаил</td>\n",
       "      <td>верещагин</td>\n",
       "      <td>5</td>\n",
       "      <td>ultra</td>\n",
       "      <td>1000</td>\n",
       "      <td>30720</td>\n",
       "      <td>3000</td>\n",
       "      <td>1950</td>\n",
       "      <td>150</td>\n",
       "      <td>1</td>\n",
       "      <td>1</td>\n",
       "    </tr>\n",
       "    <tr>\n",
       "      <td>1</td>\n",
       "      <td>1000</td>\n",
       "      <td>6</td>\n",
       "      <td>172</td>\n",
       "      <td>60</td>\n",
       "      <td>23234</td>\n",
       "      <td>52</td>\n",
       "      <td>NaN</td>\n",
       "      <td>краснодар</td>\n",
       "      <td>рафаил</td>\n",
       "      <td>верещагин</td>\n",
       "      <td>5</td>\n",
       "      <td>ultra</td>\n",
       "      <td>1000</td>\n",
       "      <td>30720</td>\n",
       "      <td>3000</td>\n",
       "      <td>1950</td>\n",
       "      <td>150</td>\n",
       "      <td>1</td>\n",
       "      <td>1</td>\n",
       "    </tr>\n",
       "    <tr>\n",
       "      <td>2</td>\n",
       "      <td>1000</td>\n",
       "      <td>7</td>\n",
       "      <td>340</td>\n",
       "      <td>75</td>\n",
       "      <td>14004</td>\n",
       "      <td>52</td>\n",
       "      <td>NaN</td>\n",
       "      <td>краснодар</td>\n",
       "      <td>рафаил</td>\n",
       "      <td>верещагин</td>\n",
       "      <td>5</td>\n",
       "      <td>ultra</td>\n",
       "      <td>1000</td>\n",
       "      <td>30720</td>\n",
       "      <td>3000</td>\n",
       "      <td>1950</td>\n",
       "      <td>150</td>\n",
       "      <td>1</td>\n",
       "      <td>1</td>\n",
       "    </tr>\n",
       "    <tr>\n",
       "      <td>3</td>\n",
       "      <td>1000</td>\n",
       "      <td>8</td>\n",
       "      <td>408</td>\n",
       "      <td>81</td>\n",
       "      <td>14056</td>\n",
       "      <td>52</td>\n",
       "      <td>NaN</td>\n",
       "      <td>краснодар</td>\n",
       "      <td>рафаил</td>\n",
       "      <td>верещагин</td>\n",
       "      <td>5</td>\n",
       "      <td>ultra</td>\n",
       "      <td>1000</td>\n",
       "      <td>30720</td>\n",
       "      <td>3000</td>\n",
       "      <td>1950</td>\n",
       "      <td>150</td>\n",
       "      <td>1</td>\n",
       "      <td>1</td>\n",
       "    </tr>\n",
       "    <tr>\n",
       "      <td>4</td>\n",
       "      <td>1000</td>\n",
       "      <td>9</td>\n",
       "      <td>466</td>\n",
       "      <td>57</td>\n",
       "      <td>14569</td>\n",
       "      <td>52</td>\n",
       "      <td>NaN</td>\n",
       "      <td>краснодар</td>\n",
       "      <td>рафаил</td>\n",
       "      <td>верещагин</td>\n",
       "      <td>5</td>\n",
       "      <td>ultra</td>\n",
       "      <td>1000</td>\n",
       "      <td>30720</td>\n",
       "      <td>3000</td>\n",
       "      <td>1950</td>\n",
       "      <td>150</td>\n",
       "      <td>1</td>\n",
       "      <td>1</td>\n",
       "    </tr>\n",
       "    <tr>\n",
       "      <td>5</td>\n",
       "      <td>1000</td>\n",
       "      <td>10</td>\n",
       "      <td>350</td>\n",
       "      <td>73</td>\n",
       "      <td>14703</td>\n",
       "      <td>52</td>\n",
       "      <td>NaN</td>\n",
       "      <td>краснодар</td>\n",
       "      <td>рафаил</td>\n",
       "      <td>верещагин</td>\n",
       "      <td>5</td>\n",
       "      <td>ultra</td>\n",
       "      <td>1000</td>\n",
       "      <td>30720</td>\n",
       "      <td>3000</td>\n",
       "      <td>1950</td>\n",
       "      <td>150</td>\n",
       "      <td>1</td>\n",
       "      <td>1</td>\n",
       "    </tr>\n",
       "    <tr>\n",
       "      <td>6</td>\n",
       "      <td>1000</td>\n",
       "      <td>11</td>\n",
       "      <td>338</td>\n",
       "      <td>58</td>\n",
       "      <td>14757</td>\n",
       "      <td>52</td>\n",
       "      <td>NaN</td>\n",
       "      <td>краснодар</td>\n",
       "      <td>рафаил</td>\n",
       "      <td>верещагин</td>\n",
       "      <td>5</td>\n",
       "      <td>ultra</td>\n",
       "      <td>1000</td>\n",
       "      <td>30720</td>\n",
       "      <td>3000</td>\n",
       "      <td>1950</td>\n",
       "      <td>150</td>\n",
       "      <td>1</td>\n",
       "      <td>1</td>\n",
       "    </tr>\n",
       "    <tr>\n",
       "      <td>7</td>\n",
       "      <td>1000</td>\n",
       "      <td>12</td>\n",
       "      <td>333</td>\n",
       "      <td>70</td>\n",
       "      <td>9818</td>\n",
       "      <td>52</td>\n",
       "      <td>NaN</td>\n",
       "      <td>краснодар</td>\n",
       "      <td>рафаил</td>\n",
       "      <td>верещагин</td>\n",
       "      <td>5</td>\n",
       "      <td>ultra</td>\n",
       "      <td>1000</td>\n",
       "      <td>30720</td>\n",
       "      <td>3000</td>\n",
       "      <td>1950</td>\n",
       "      <td>150</td>\n",
       "      <td>1</td>\n",
       "      <td>1</td>\n",
       "    </tr>\n",
       "    <tr>\n",
       "      <td>8</td>\n",
       "      <td>1001</td>\n",
       "      <td>11</td>\n",
       "      <td>430</td>\n",
       "      <td>0</td>\n",
       "      <td>18430</td>\n",
       "      <td>41</td>\n",
       "      <td>NaN</td>\n",
       "      <td>москва</td>\n",
       "      <td>иван</td>\n",
       "      <td>ежов</td>\n",
       "      <td>11</td>\n",
       "      <td>smart</td>\n",
       "      <td>50</td>\n",
       "      <td>15360</td>\n",
       "      <td>500</td>\n",
       "      <td>550</td>\n",
       "      <td>200</td>\n",
       "      <td>3</td>\n",
       "      <td>3</td>\n",
       "    </tr>\n",
       "    <tr>\n",
       "      <td>9</td>\n",
       "      <td>1001</td>\n",
       "      <td>12</td>\n",
       "      <td>414</td>\n",
       "      <td>0</td>\n",
       "      <td>14037</td>\n",
       "      <td>41</td>\n",
       "      <td>NaN</td>\n",
       "      <td>москва</td>\n",
       "      <td>иван</td>\n",
       "      <td>ежов</td>\n",
       "      <td>11</td>\n",
       "      <td>smart</td>\n",
       "      <td>50</td>\n",
       "      <td>15360</td>\n",
       "      <td>500</td>\n",
       "      <td>550</td>\n",
       "      <td>200</td>\n",
       "      <td>3</td>\n",
       "      <td>3</td>\n",
       "    </tr>\n",
       "    <tr>\n",
       "      <td>10</td>\n",
       "      <td>1002</td>\n",
       "      <td>6</td>\n",
       "      <td>117</td>\n",
       "      <td>4</td>\n",
       "      <td>10857</td>\n",
       "      <td>59</td>\n",
       "      <td>NaN</td>\n",
       "      <td>стерлитамак</td>\n",
       "      <td>евгений</td>\n",
       "      <td>абрамович</td>\n",
       "      <td>6</td>\n",
       "      <td>smart</td>\n",
       "      <td>50</td>\n",
       "      <td>15360</td>\n",
       "      <td>500</td>\n",
       "      <td>550</td>\n",
       "      <td>200</td>\n",
       "      <td>3</td>\n",
       "      <td>3</td>\n",
       "    </tr>\n",
       "    <tr>\n",
       "      <td>11</td>\n",
       "      <td>1002</td>\n",
       "      <td>7</td>\n",
       "      <td>214</td>\n",
       "      <td>11</td>\n",
       "      <td>17581</td>\n",
       "      <td>59</td>\n",
       "      <td>NaN</td>\n",
       "      <td>стерлитамак</td>\n",
       "      <td>евгений</td>\n",
       "      <td>абрамович</td>\n",
       "      <td>6</td>\n",
       "      <td>smart</td>\n",
       "      <td>50</td>\n",
       "      <td>15360</td>\n",
       "      <td>500</td>\n",
       "      <td>550</td>\n",
       "      <td>200</td>\n",
       "      <td>3</td>\n",
       "      <td>3</td>\n",
       "    </tr>\n",
       "    <tr>\n",
       "      <td>12</td>\n",
       "      <td>1002</td>\n",
       "      <td>8</td>\n",
       "      <td>289</td>\n",
       "      <td>13</td>\n",
       "      <td>20320</td>\n",
       "      <td>59</td>\n",
       "      <td>NaN</td>\n",
       "      <td>стерлитамак</td>\n",
       "      <td>евгений</td>\n",
       "      <td>абрамович</td>\n",
       "      <td>6</td>\n",
       "      <td>smart</td>\n",
       "      <td>50</td>\n",
       "      <td>15360</td>\n",
       "      <td>500</td>\n",
       "      <td>550</td>\n",
       "      <td>200</td>\n",
       "      <td>3</td>\n",
       "      <td>3</td>\n",
       "    </tr>\n",
       "    <tr>\n",
       "      <td>13</td>\n",
       "      <td>1002</td>\n",
       "      <td>9</td>\n",
       "      <td>206</td>\n",
       "      <td>4</td>\n",
       "      <td>16692</td>\n",
       "      <td>59</td>\n",
       "      <td>NaN</td>\n",
       "      <td>стерлитамак</td>\n",
       "      <td>евгений</td>\n",
       "      <td>абрамович</td>\n",
       "      <td>6</td>\n",
       "      <td>smart</td>\n",
       "      <td>50</td>\n",
       "      <td>15360</td>\n",
       "      <td>500</td>\n",
       "      <td>550</td>\n",
       "      <td>200</td>\n",
       "      <td>3</td>\n",
       "      <td>3</td>\n",
       "    </tr>\n",
       "    <tr>\n",
       "      <td>14</td>\n",
       "      <td>1002</td>\n",
       "      <td>10</td>\n",
       "      <td>212</td>\n",
       "      <td>10</td>\n",
       "      <td>13889</td>\n",
       "      <td>59</td>\n",
       "      <td>NaN</td>\n",
       "      <td>стерлитамак</td>\n",
       "      <td>евгений</td>\n",
       "      <td>абрамович</td>\n",
       "      <td>6</td>\n",
       "      <td>smart</td>\n",
       "      <td>50</td>\n",
       "      <td>15360</td>\n",
       "      <td>500</td>\n",
       "      <td>550</td>\n",
       "      <td>200</td>\n",
       "      <td>3</td>\n",
       "      <td>3</td>\n",
       "    </tr>\n",
       "  </tbody>\n",
       "</table>\n",
       "</div>"
      ],
      "text/plain": [
       "    user_id  month  duration  messages_count  mb_used  age churn_date  \\\n",
       "0      1000      5       159              22     2254   52        NaN   \n",
       "1      1000      6       172              60    23234   52        NaN   \n",
       "2      1000      7       340              75    14004   52        NaN   \n",
       "3      1000      8       408              81    14056   52        NaN   \n",
       "4      1000      9       466              57    14569   52        NaN   \n",
       "5      1000     10       350              73    14703   52        NaN   \n",
       "6      1000     11       338              58    14757   52        NaN   \n",
       "7      1000     12       333              70     9818   52        NaN   \n",
       "8      1001     11       430               0    18430   41        NaN   \n",
       "9      1001     12       414               0    14037   41        NaN   \n",
       "10     1002      6       117               4    10857   59        NaN   \n",
       "11     1002      7       214              11    17581   59        NaN   \n",
       "12     1002      8       289              13    20320   59        NaN   \n",
       "13     1002      9       206               4    16692   59        NaN   \n",
       "14     1002     10       212              10    13889   59        NaN   \n",
       "\n",
       "           city first_name  last_name  reg_date tariff  messages_included  \\\n",
       "0     краснодар     рафаил  верещагин         5  ultra               1000   \n",
       "1     краснодар     рафаил  верещагин         5  ultra               1000   \n",
       "2     краснодар     рафаил  верещагин         5  ultra               1000   \n",
       "3     краснодар     рафаил  верещагин         5  ultra               1000   \n",
       "4     краснодар     рафаил  верещагин         5  ultra               1000   \n",
       "5     краснодар     рафаил  верещагин         5  ultra               1000   \n",
       "6     краснодар     рафаил  верещагин         5  ultra               1000   \n",
       "7     краснодар     рафаил  верещагин         5  ultra               1000   \n",
       "8        москва       иван       ежов        11  smart                 50   \n",
       "9        москва       иван       ежов        11  smart                 50   \n",
       "10  стерлитамак    евгений  абрамович         6  smart                 50   \n",
       "11  стерлитамак    евгений  абрамович         6  smart                 50   \n",
       "12  стерлитамак    евгений  абрамович         6  smart                 50   \n",
       "13  стерлитамак    евгений  абрамович         6  smart                 50   \n",
       "14  стерлитамак    евгений  абрамович         6  smart                 50   \n",
       "\n",
       "    mb_per_month_included  minutes_included  rub_monthly_fee  rub_per_gb  \\\n",
       "0                   30720              3000             1950         150   \n",
       "1                   30720              3000             1950         150   \n",
       "2                   30720              3000             1950         150   \n",
       "3                   30720              3000             1950         150   \n",
       "4                   30720              3000             1950         150   \n",
       "5                   30720              3000             1950         150   \n",
       "6                   30720              3000             1950         150   \n",
       "7                   30720              3000             1950         150   \n",
       "8                   15360               500              550         200   \n",
       "9                   15360               500              550         200   \n",
       "10                  15360               500              550         200   \n",
       "11                  15360               500              550         200   \n",
       "12                  15360               500              550         200   \n",
       "13                  15360               500              550         200   \n",
       "14                  15360               500              550         200   \n",
       "\n",
       "    rub_per_message  rub_per_minute  \n",
       "0                 1               1  \n",
       "1                 1               1  \n",
       "2                 1               1  \n",
       "3                 1               1  \n",
       "4                 1               1  \n",
       "5                 1               1  \n",
       "6                 1               1  \n",
       "7                 1               1  \n",
       "8                 3               3  \n",
       "9                 3               3  \n",
       "10                3               3  \n",
       "11                3               3  \n",
       "12                3               3  \n",
       "13                3               3  \n",
       "14                3               3  "
      ]
     },
     "execution_count": 29,
     "metadata": {},
     "output_type": "execute_result"
    }
   ],
   "source": [
    "data_services.head(15)"
   ]
  },
  {
   "cell_type": "markdown",
   "metadata": {},
   "source": [
    "Все данные собраны и выполнена их предобработка"
   ]
  },
  {
   "cell_type": "code",
   "execution_count": 30,
   "metadata": {},
   "outputs": [
    {
     "data": {
      "text/html": [
       "<div>\n",
       "<style scoped>\n",
       "    .dataframe tbody tr th:only-of-type {\n",
       "        vertical-align: middle;\n",
       "    }\n",
       "\n",
       "    .dataframe tbody tr th {\n",
       "        vertical-align: top;\n",
       "    }\n",
       "\n",
       "    .dataframe thead th {\n",
       "        text-align: right;\n",
       "    }\n",
       "</style>\n",
       "<table border=\"1\" class=\"dataframe\">\n",
       "  <thead>\n",
       "    <tr style=\"text-align: right;\">\n",
       "      <th></th>\n",
       "      <th>user_id</th>\n",
       "      <th>month</th>\n",
       "      <th>duration</th>\n",
       "      <th>messages_count</th>\n",
       "      <th>mb_used</th>\n",
       "      <th>age</th>\n",
       "      <th>churn_date</th>\n",
       "      <th>city</th>\n",
       "      <th>first_name</th>\n",
       "      <th>last_name</th>\n",
       "      <th>...</th>\n",
       "      <th>tariff</th>\n",
       "      <th>messages_included</th>\n",
       "      <th>mb_per_month_included</th>\n",
       "      <th>minutes_included</th>\n",
       "      <th>rub_monthly_fee</th>\n",
       "      <th>rub_per_gb</th>\n",
       "      <th>rub_per_message</th>\n",
       "      <th>rub_per_minute</th>\n",
       "      <th>gb_per_month_included</th>\n",
       "      <th>gb_spent</th>\n",
       "    </tr>\n",
       "  </thead>\n",
       "  <tbody>\n",
       "    <tr>\n",
       "      <td>0</td>\n",
       "      <td>1000</td>\n",
       "      <td>5</td>\n",
       "      <td>159</td>\n",
       "      <td>22</td>\n",
       "      <td>2254</td>\n",
       "      <td>52</td>\n",
       "      <td>NaN</td>\n",
       "      <td>краснодар</td>\n",
       "      <td>рафаил</td>\n",
       "      <td>верещагин</td>\n",
       "      <td>...</td>\n",
       "      <td>ultra</td>\n",
       "      <td>1000</td>\n",
       "      <td>30720</td>\n",
       "      <td>3000</td>\n",
       "      <td>1950</td>\n",
       "      <td>150</td>\n",
       "      <td>1</td>\n",
       "      <td>1</td>\n",
       "      <td>30</td>\n",
       "      <td>3</td>\n",
       "    </tr>\n",
       "    <tr>\n",
       "      <td>1</td>\n",
       "      <td>1000</td>\n",
       "      <td>6</td>\n",
       "      <td>172</td>\n",
       "      <td>60</td>\n",
       "      <td>23234</td>\n",
       "      <td>52</td>\n",
       "      <td>NaN</td>\n",
       "      <td>краснодар</td>\n",
       "      <td>рафаил</td>\n",
       "      <td>верещагин</td>\n",
       "      <td>...</td>\n",
       "      <td>ultra</td>\n",
       "      <td>1000</td>\n",
       "      <td>30720</td>\n",
       "      <td>3000</td>\n",
       "      <td>1950</td>\n",
       "      <td>150</td>\n",
       "      <td>1</td>\n",
       "      <td>1</td>\n",
       "      <td>30</td>\n",
       "      <td>23</td>\n",
       "    </tr>\n",
       "    <tr>\n",
       "      <td>2</td>\n",
       "      <td>1000</td>\n",
       "      <td>7</td>\n",
       "      <td>340</td>\n",
       "      <td>75</td>\n",
       "      <td>14004</td>\n",
       "      <td>52</td>\n",
       "      <td>NaN</td>\n",
       "      <td>краснодар</td>\n",
       "      <td>рафаил</td>\n",
       "      <td>верещагин</td>\n",
       "      <td>...</td>\n",
       "      <td>ultra</td>\n",
       "      <td>1000</td>\n",
       "      <td>30720</td>\n",
       "      <td>3000</td>\n",
       "      <td>1950</td>\n",
       "      <td>150</td>\n",
       "      <td>1</td>\n",
       "      <td>1</td>\n",
       "      <td>30</td>\n",
       "      <td>14</td>\n",
       "    </tr>\n",
       "    <tr>\n",
       "      <td>3</td>\n",
       "      <td>1000</td>\n",
       "      <td>8</td>\n",
       "      <td>408</td>\n",
       "      <td>81</td>\n",
       "      <td>14056</td>\n",
       "      <td>52</td>\n",
       "      <td>NaN</td>\n",
       "      <td>краснодар</td>\n",
       "      <td>рафаил</td>\n",
       "      <td>верещагин</td>\n",
       "      <td>...</td>\n",
       "      <td>ultra</td>\n",
       "      <td>1000</td>\n",
       "      <td>30720</td>\n",
       "      <td>3000</td>\n",
       "      <td>1950</td>\n",
       "      <td>150</td>\n",
       "      <td>1</td>\n",
       "      <td>1</td>\n",
       "      <td>30</td>\n",
       "      <td>14</td>\n",
       "    </tr>\n",
       "    <tr>\n",
       "      <td>4</td>\n",
       "      <td>1000</td>\n",
       "      <td>9</td>\n",
       "      <td>466</td>\n",
       "      <td>57</td>\n",
       "      <td>14569</td>\n",
       "      <td>52</td>\n",
       "      <td>NaN</td>\n",
       "      <td>краснодар</td>\n",
       "      <td>рафаил</td>\n",
       "      <td>верещагин</td>\n",
       "      <td>...</td>\n",
       "      <td>ultra</td>\n",
       "      <td>1000</td>\n",
       "      <td>30720</td>\n",
       "      <td>3000</td>\n",
       "      <td>1950</td>\n",
       "      <td>150</td>\n",
       "      <td>1</td>\n",
       "      <td>1</td>\n",
       "      <td>30</td>\n",
       "      <td>15</td>\n",
       "    </tr>\n",
       "    <tr>\n",
       "      <td>5</td>\n",
       "      <td>1000</td>\n",
       "      <td>10</td>\n",
       "      <td>350</td>\n",
       "      <td>73</td>\n",
       "      <td>14703</td>\n",
       "      <td>52</td>\n",
       "      <td>NaN</td>\n",
       "      <td>краснодар</td>\n",
       "      <td>рафаил</td>\n",
       "      <td>верещагин</td>\n",
       "      <td>...</td>\n",
       "      <td>ultra</td>\n",
       "      <td>1000</td>\n",
       "      <td>30720</td>\n",
       "      <td>3000</td>\n",
       "      <td>1950</td>\n",
       "      <td>150</td>\n",
       "      <td>1</td>\n",
       "      <td>1</td>\n",
       "      <td>30</td>\n",
       "      <td>15</td>\n",
       "    </tr>\n",
       "    <tr>\n",
       "      <td>6</td>\n",
       "      <td>1000</td>\n",
       "      <td>11</td>\n",
       "      <td>338</td>\n",
       "      <td>58</td>\n",
       "      <td>14757</td>\n",
       "      <td>52</td>\n",
       "      <td>NaN</td>\n",
       "      <td>краснодар</td>\n",
       "      <td>рафаил</td>\n",
       "      <td>верещагин</td>\n",
       "      <td>...</td>\n",
       "      <td>ultra</td>\n",
       "      <td>1000</td>\n",
       "      <td>30720</td>\n",
       "      <td>3000</td>\n",
       "      <td>1950</td>\n",
       "      <td>150</td>\n",
       "      <td>1</td>\n",
       "      <td>1</td>\n",
       "      <td>30</td>\n",
       "      <td>15</td>\n",
       "    </tr>\n",
       "    <tr>\n",
       "      <td>7</td>\n",
       "      <td>1000</td>\n",
       "      <td>12</td>\n",
       "      <td>333</td>\n",
       "      <td>70</td>\n",
       "      <td>9818</td>\n",
       "      <td>52</td>\n",
       "      <td>NaN</td>\n",
       "      <td>краснодар</td>\n",
       "      <td>рафаил</td>\n",
       "      <td>верещагин</td>\n",
       "      <td>...</td>\n",
       "      <td>ultra</td>\n",
       "      <td>1000</td>\n",
       "      <td>30720</td>\n",
       "      <td>3000</td>\n",
       "      <td>1950</td>\n",
       "      <td>150</td>\n",
       "      <td>1</td>\n",
       "      <td>1</td>\n",
       "      <td>30</td>\n",
       "      <td>10</td>\n",
       "    </tr>\n",
       "    <tr>\n",
       "      <td>8</td>\n",
       "      <td>1001</td>\n",
       "      <td>11</td>\n",
       "      <td>430</td>\n",
       "      <td>0</td>\n",
       "      <td>18430</td>\n",
       "      <td>41</td>\n",
       "      <td>NaN</td>\n",
       "      <td>москва</td>\n",
       "      <td>иван</td>\n",
       "      <td>ежов</td>\n",
       "      <td>...</td>\n",
       "      <td>smart</td>\n",
       "      <td>50</td>\n",
       "      <td>15360</td>\n",
       "      <td>500</td>\n",
       "      <td>550</td>\n",
       "      <td>200</td>\n",
       "      <td>3</td>\n",
       "      <td>3</td>\n",
       "      <td>15</td>\n",
       "      <td>18</td>\n",
       "    </tr>\n",
       "    <tr>\n",
       "      <td>9</td>\n",
       "      <td>1001</td>\n",
       "      <td>12</td>\n",
       "      <td>414</td>\n",
       "      <td>0</td>\n",
       "      <td>14037</td>\n",
       "      <td>41</td>\n",
       "      <td>NaN</td>\n",
       "      <td>москва</td>\n",
       "      <td>иван</td>\n",
       "      <td>ежов</td>\n",
       "      <td>...</td>\n",
       "      <td>smart</td>\n",
       "      <td>50</td>\n",
       "      <td>15360</td>\n",
       "      <td>500</td>\n",
       "      <td>550</td>\n",
       "      <td>200</td>\n",
       "      <td>3</td>\n",
       "      <td>3</td>\n",
       "      <td>15</td>\n",
       "      <td>14</td>\n",
       "    </tr>\n",
       "    <tr>\n",
       "      <td>10</td>\n",
       "      <td>1002</td>\n",
       "      <td>6</td>\n",
       "      <td>117</td>\n",
       "      <td>4</td>\n",
       "      <td>10857</td>\n",
       "      <td>59</td>\n",
       "      <td>NaN</td>\n",
       "      <td>стерлитамак</td>\n",
       "      <td>евгений</td>\n",
       "      <td>абрамович</td>\n",
       "      <td>...</td>\n",
       "      <td>smart</td>\n",
       "      <td>50</td>\n",
       "      <td>15360</td>\n",
       "      <td>500</td>\n",
       "      <td>550</td>\n",
       "      <td>200</td>\n",
       "      <td>3</td>\n",
       "      <td>3</td>\n",
       "      <td>15</td>\n",
       "      <td>11</td>\n",
       "    </tr>\n",
       "    <tr>\n",
       "      <td>11</td>\n",
       "      <td>1002</td>\n",
       "      <td>7</td>\n",
       "      <td>214</td>\n",
       "      <td>11</td>\n",
       "      <td>17581</td>\n",
       "      <td>59</td>\n",
       "      <td>NaN</td>\n",
       "      <td>стерлитамак</td>\n",
       "      <td>евгений</td>\n",
       "      <td>абрамович</td>\n",
       "      <td>...</td>\n",
       "      <td>smart</td>\n",
       "      <td>50</td>\n",
       "      <td>15360</td>\n",
       "      <td>500</td>\n",
       "      <td>550</td>\n",
       "      <td>200</td>\n",
       "      <td>3</td>\n",
       "      <td>3</td>\n",
       "      <td>15</td>\n",
       "      <td>18</td>\n",
       "    </tr>\n",
       "    <tr>\n",
       "      <td>12</td>\n",
       "      <td>1002</td>\n",
       "      <td>8</td>\n",
       "      <td>289</td>\n",
       "      <td>13</td>\n",
       "      <td>20320</td>\n",
       "      <td>59</td>\n",
       "      <td>NaN</td>\n",
       "      <td>стерлитамак</td>\n",
       "      <td>евгений</td>\n",
       "      <td>абрамович</td>\n",
       "      <td>...</td>\n",
       "      <td>smart</td>\n",
       "      <td>50</td>\n",
       "      <td>15360</td>\n",
       "      <td>500</td>\n",
       "      <td>550</td>\n",
       "      <td>200</td>\n",
       "      <td>3</td>\n",
       "      <td>3</td>\n",
       "      <td>15</td>\n",
       "      <td>20</td>\n",
       "    </tr>\n",
       "    <tr>\n",
       "      <td>13</td>\n",
       "      <td>1002</td>\n",
       "      <td>9</td>\n",
       "      <td>206</td>\n",
       "      <td>4</td>\n",
       "      <td>16692</td>\n",
       "      <td>59</td>\n",
       "      <td>NaN</td>\n",
       "      <td>стерлитамак</td>\n",
       "      <td>евгений</td>\n",
       "      <td>абрамович</td>\n",
       "      <td>...</td>\n",
       "      <td>smart</td>\n",
       "      <td>50</td>\n",
       "      <td>15360</td>\n",
       "      <td>500</td>\n",
       "      <td>550</td>\n",
       "      <td>200</td>\n",
       "      <td>3</td>\n",
       "      <td>3</td>\n",
       "      <td>15</td>\n",
       "      <td>17</td>\n",
       "    </tr>\n",
       "    <tr>\n",
       "      <td>14</td>\n",
       "      <td>1002</td>\n",
       "      <td>10</td>\n",
       "      <td>212</td>\n",
       "      <td>10</td>\n",
       "      <td>13889</td>\n",
       "      <td>59</td>\n",
       "      <td>NaN</td>\n",
       "      <td>стерлитамак</td>\n",
       "      <td>евгений</td>\n",
       "      <td>абрамович</td>\n",
       "      <td>...</td>\n",
       "      <td>smart</td>\n",
       "      <td>50</td>\n",
       "      <td>15360</td>\n",
       "      <td>500</td>\n",
       "      <td>550</td>\n",
       "      <td>200</td>\n",
       "      <td>3</td>\n",
       "      <td>3</td>\n",
       "      <td>15</td>\n",
       "      <td>14</td>\n",
       "    </tr>\n",
       "  </tbody>\n",
       "</table>\n",
       "<p>15 rows × 21 columns</p>\n",
       "</div>"
      ],
      "text/plain": [
       "    user_id  month  duration  messages_count  mb_used  age churn_date  \\\n",
       "0      1000      5       159              22     2254   52        NaN   \n",
       "1      1000      6       172              60    23234   52        NaN   \n",
       "2      1000      7       340              75    14004   52        NaN   \n",
       "3      1000      8       408              81    14056   52        NaN   \n",
       "4      1000      9       466              57    14569   52        NaN   \n",
       "5      1000     10       350              73    14703   52        NaN   \n",
       "6      1000     11       338              58    14757   52        NaN   \n",
       "7      1000     12       333              70     9818   52        NaN   \n",
       "8      1001     11       430               0    18430   41        NaN   \n",
       "9      1001     12       414               0    14037   41        NaN   \n",
       "10     1002      6       117               4    10857   59        NaN   \n",
       "11     1002      7       214              11    17581   59        NaN   \n",
       "12     1002      8       289              13    20320   59        NaN   \n",
       "13     1002      9       206               4    16692   59        NaN   \n",
       "14     1002     10       212              10    13889   59        NaN   \n",
       "\n",
       "           city first_name  last_name  ...  tariff messages_included  \\\n",
       "0     краснодар     рафаил  верещагин  ...   ultra              1000   \n",
       "1     краснодар     рафаил  верещагин  ...   ultra              1000   \n",
       "2     краснодар     рафаил  верещагин  ...   ultra              1000   \n",
       "3     краснодар     рафаил  верещагин  ...   ultra              1000   \n",
       "4     краснодар     рафаил  верещагин  ...   ultra              1000   \n",
       "5     краснодар     рафаил  верещагин  ...   ultra              1000   \n",
       "6     краснодар     рафаил  верещагин  ...   ultra              1000   \n",
       "7     краснодар     рафаил  верещагин  ...   ultra              1000   \n",
       "8        москва       иван       ежов  ...   smart                50   \n",
       "9        москва       иван       ежов  ...   smart                50   \n",
       "10  стерлитамак    евгений  абрамович  ...   smart                50   \n",
       "11  стерлитамак    евгений  абрамович  ...   smart                50   \n",
       "12  стерлитамак    евгений  абрамович  ...   smart                50   \n",
       "13  стерлитамак    евгений  абрамович  ...   smart                50   \n",
       "14  стерлитамак    евгений  абрамович  ...   smart                50   \n",
       "\n",
       "    mb_per_month_included  minutes_included  rub_monthly_fee  rub_per_gb  \\\n",
       "0                   30720              3000             1950         150   \n",
       "1                   30720              3000             1950         150   \n",
       "2                   30720              3000             1950         150   \n",
       "3                   30720              3000             1950         150   \n",
       "4                   30720              3000             1950         150   \n",
       "5                   30720              3000             1950         150   \n",
       "6                   30720              3000             1950         150   \n",
       "7                   30720              3000             1950         150   \n",
       "8                   15360               500              550         200   \n",
       "9                   15360               500              550         200   \n",
       "10                  15360               500              550         200   \n",
       "11                  15360               500              550         200   \n",
       "12                  15360               500              550         200   \n",
       "13                  15360               500              550         200   \n",
       "14                  15360               500              550         200   \n",
       "\n",
       "    rub_per_message  rub_per_minute  gb_per_month_included  gb_spent  \n",
       "0                 1               1                     30         3  \n",
       "1                 1               1                     30        23  \n",
       "2                 1               1                     30        14  \n",
       "3                 1               1                     30        14  \n",
       "4                 1               1                     30        15  \n",
       "5                 1               1                     30        15  \n",
       "6                 1               1                     30        15  \n",
       "7                 1               1                     30        10  \n",
       "8                 3               3                     15        18  \n",
       "9                 3               3                     15        14  \n",
       "10                3               3                     15        11  \n",
       "11                3               3                     15        18  \n",
       "12                3               3                     15        20  \n",
       "13                3               3                     15        17  \n",
       "14                3               3                     15        14  \n",
       "\n",
       "[15 rows x 21 columns]"
      ]
     },
     "execution_count": 30,
     "metadata": {},
     "output_type": "execute_result"
    }
   ],
   "source": [
    "# Сперва создадим столбец с Гб положенными по тарифу\n",
    "def gb_included(mb_per_month_included):\n",
    "    if mb_per_month_included == 30720:\n",
    "        return 30\n",
    "    if mb_per_month_included == 15360:\n",
    "        return 15\n",
    "data_services['gb_per_month_included'] = data_services['mb_per_month_included'].apply(gb_included)\n",
    "\n",
    "\n",
    "# Так же создадим колонку с потраченными Гб в двоичной системе пересчёта мегабайт\n",
    "def gb_spent (mb_used):\n",
    "    return  int(np.ceil(mb_used/1024))\n",
    "data_services['gb_spent'] = data_services['mb_used'].apply(gb_spent)\n",
    "\n",
    "data_services.head(15)"
   ]
  },
  {
   "cell_type": "markdown",
   "metadata": {},
   "source": [
    "## Подсчёт выручки с пользователя"
   ]
  },
  {
   "cell_type": "markdown",
   "metadata": {},
   "source": [
    "Посчитаем, сколько каждый клиент платит сверх тарифа в месяц, если у него имеются превышения по используемому пакету услуг.\n",
    "Если превышения нет, соответственно, клиент платит за выбранный тариф."
   ]
  },
  {
   "cell_type": "code",
   "execution_count": 31,
   "metadata": {},
   "outputs": [],
   "source": [
    "def revenue (row):\n",
    "    total = row['rub_monthly_fee'] \n",
    "    sms = (row['messages_count']-row['messages_included'])*row['rub_per_message']\n",
    "    mins = (row['duration']-row['minutes_included'])*row['rub_per_minute']\n",
    "    gbs = (row['mb_used']-row['mb_per_month_included'])/1024 \n",
    "    gbs = np.ceil(gbs)*row['rub_per_gb']\n",
    "    \n",
    "    \n",
    "    for i in [sms, mins, gbs]:\n",
    "        if i > 0:\n",
    "            total += i \n",
    "    return int(total)\n",
    "    "
   ]
  },
  {
   "cell_type": "code",
   "execution_count": 32,
   "metadata": {
    "scrolled": false
   },
   "outputs": [
    {
     "data": {
      "text/html": [
       "<div>\n",
       "<style scoped>\n",
       "    .dataframe tbody tr th:only-of-type {\n",
       "        vertical-align: middle;\n",
       "    }\n",
       "\n",
       "    .dataframe tbody tr th {\n",
       "        vertical-align: top;\n",
       "    }\n",
       "\n",
       "    .dataframe thead th {\n",
       "        text-align: right;\n",
       "    }\n",
       "</style>\n",
       "<table border=\"1\" class=\"dataframe\">\n",
       "  <thead>\n",
       "    <tr style=\"text-align: right;\">\n",
       "      <th></th>\n",
       "      <th>user_id</th>\n",
       "      <th>month</th>\n",
       "      <th>duration</th>\n",
       "      <th>messages_count</th>\n",
       "      <th>mb_used</th>\n",
       "      <th>age</th>\n",
       "      <th>churn_date</th>\n",
       "      <th>city</th>\n",
       "      <th>first_name</th>\n",
       "      <th>last_name</th>\n",
       "      <th>...</th>\n",
       "      <th>messages_included</th>\n",
       "      <th>mb_per_month_included</th>\n",
       "      <th>minutes_included</th>\n",
       "      <th>rub_monthly_fee</th>\n",
       "      <th>rub_per_gb</th>\n",
       "      <th>rub_per_message</th>\n",
       "      <th>rub_per_minute</th>\n",
       "      <th>gb_per_month_included</th>\n",
       "      <th>gb_spent</th>\n",
       "      <th>revenue</th>\n",
       "    </tr>\n",
       "  </thead>\n",
       "  <tbody>\n",
       "    <tr>\n",
       "      <td>0</td>\n",
       "      <td>1000</td>\n",
       "      <td>5</td>\n",
       "      <td>159</td>\n",
       "      <td>22</td>\n",
       "      <td>2254</td>\n",
       "      <td>52</td>\n",
       "      <td>NaN</td>\n",
       "      <td>краснодар</td>\n",
       "      <td>рафаил</td>\n",
       "      <td>верещагин</td>\n",
       "      <td>...</td>\n",
       "      <td>1000</td>\n",
       "      <td>30720</td>\n",
       "      <td>3000</td>\n",
       "      <td>1950</td>\n",
       "      <td>150</td>\n",
       "      <td>1</td>\n",
       "      <td>1</td>\n",
       "      <td>30</td>\n",
       "      <td>3</td>\n",
       "      <td>1950</td>\n",
       "    </tr>\n",
       "    <tr>\n",
       "      <td>1</td>\n",
       "      <td>1000</td>\n",
       "      <td>6</td>\n",
       "      <td>172</td>\n",
       "      <td>60</td>\n",
       "      <td>23234</td>\n",
       "      <td>52</td>\n",
       "      <td>NaN</td>\n",
       "      <td>краснодар</td>\n",
       "      <td>рафаил</td>\n",
       "      <td>верещагин</td>\n",
       "      <td>...</td>\n",
       "      <td>1000</td>\n",
       "      <td>30720</td>\n",
       "      <td>3000</td>\n",
       "      <td>1950</td>\n",
       "      <td>150</td>\n",
       "      <td>1</td>\n",
       "      <td>1</td>\n",
       "      <td>30</td>\n",
       "      <td>23</td>\n",
       "      <td>1950</td>\n",
       "    </tr>\n",
       "    <tr>\n",
       "      <td>2</td>\n",
       "      <td>1000</td>\n",
       "      <td>7</td>\n",
       "      <td>340</td>\n",
       "      <td>75</td>\n",
       "      <td>14004</td>\n",
       "      <td>52</td>\n",
       "      <td>NaN</td>\n",
       "      <td>краснодар</td>\n",
       "      <td>рафаил</td>\n",
       "      <td>верещагин</td>\n",
       "      <td>...</td>\n",
       "      <td>1000</td>\n",
       "      <td>30720</td>\n",
       "      <td>3000</td>\n",
       "      <td>1950</td>\n",
       "      <td>150</td>\n",
       "      <td>1</td>\n",
       "      <td>1</td>\n",
       "      <td>30</td>\n",
       "      <td>14</td>\n",
       "      <td>1950</td>\n",
       "    </tr>\n",
       "    <tr>\n",
       "      <td>3</td>\n",
       "      <td>1000</td>\n",
       "      <td>8</td>\n",
       "      <td>408</td>\n",
       "      <td>81</td>\n",
       "      <td>14056</td>\n",
       "      <td>52</td>\n",
       "      <td>NaN</td>\n",
       "      <td>краснодар</td>\n",
       "      <td>рафаил</td>\n",
       "      <td>верещагин</td>\n",
       "      <td>...</td>\n",
       "      <td>1000</td>\n",
       "      <td>30720</td>\n",
       "      <td>3000</td>\n",
       "      <td>1950</td>\n",
       "      <td>150</td>\n",
       "      <td>1</td>\n",
       "      <td>1</td>\n",
       "      <td>30</td>\n",
       "      <td>14</td>\n",
       "      <td>1950</td>\n",
       "    </tr>\n",
       "    <tr>\n",
       "      <td>4</td>\n",
       "      <td>1000</td>\n",
       "      <td>9</td>\n",
       "      <td>466</td>\n",
       "      <td>57</td>\n",
       "      <td>14569</td>\n",
       "      <td>52</td>\n",
       "      <td>NaN</td>\n",
       "      <td>краснодар</td>\n",
       "      <td>рафаил</td>\n",
       "      <td>верещагин</td>\n",
       "      <td>...</td>\n",
       "      <td>1000</td>\n",
       "      <td>30720</td>\n",
       "      <td>3000</td>\n",
       "      <td>1950</td>\n",
       "      <td>150</td>\n",
       "      <td>1</td>\n",
       "      <td>1</td>\n",
       "      <td>30</td>\n",
       "      <td>15</td>\n",
       "      <td>1950</td>\n",
       "    </tr>\n",
       "    <tr>\n",
       "      <td>5</td>\n",
       "      <td>1000</td>\n",
       "      <td>10</td>\n",
       "      <td>350</td>\n",
       "      <td>73</td>\n",
       "      <td>14703</td>\n",
       "      <td>52</td>\n",
       "      <td>NaN</td>\n",
       "      <td>краснодар</td>\n",
       "      <td>рафаил</td>\n",
       "      <td>верещагин</td>\n",
       "      <td>...</td>\n",
       "      <td>1000</td>\n",
       "      <td>30720</td>\n",
       "      <td>3000</td>\n",
       "      <td>1950</td>\n",
       "      <td>150</td>\n",
       "      <td>1</td>\n",
       "      <td>1</td>\n",
       "      <td>30</td>\n",
       "      <td>15</td>\n",
       "      <td>1950</td>\n",
       "    </tr>\n",
       "    <tr>\n",
       "      <td>6</td>\n",
       "      <td>1000</td>\n",
       "      <td>11</td>\n",
       "      <td>338</td>\n",
       "      <td>58</td>\n",
       "      <td>14757</td>\n",
       "      <td>52</td>\n",
       "      <td>NaN</td>\n",
       "      <td>краснодар</td>\n",
       "      <td>рафаил</td>\n",
       "      <td>верещагин</td>\n",
       "      <td>...</td>\n",
       "      <td>1000</td>\n",
       "      <td>30720</td>\n",
       "      <td>3000</td>\n",
       "      <td>1950</td>\n",
       "      <td>150</td>\n",
       "      <td>1</td>\n",
       "      <td>1</td>\n",
       "      <td>30</td>\n",
       "      <td>15</td>\n",
       "      <td>1950</td>\n",
       "    </tr>\n",
       "    <tr>\n",
       "      <td>7</td>\n",
       "      <td>1000</td>\n",
       "      <td>12</td>\n",
       "      <td>333</td>\n",
       "      <td>70</td>\n",
       "      <td>9818</td>\n",
       "      <td>52</td>\n",
       "      <td>NaN</td>\n",
       "      <td>краснодар</td>\n",
       "      <td>рафаил</td>\n",
       "      <td>верещагин</td>\n",
       "      <td>...</td>\n",
       "      <td>1000</td>\n",
       "      <td>30720</td>\n",
       "      <td>3000</td>\n",
       "      <td>1950</td>\n",
       "      <td>150</td>\n",
       "      <td>1</td>\n",
       "      <td>1</td>\n",
       "      <td>30</td>\n",
       "      <td>10</td>\n",
       "      <td>1950</td>\n",
       "    </tr>\n",
       "    <tr>\n",
       "      <td>8</td>\n",
       "      <td>1001</td>\n",
       "      <td>11</td>\n",
       "      <td>430</td>\n",
       "      <td>0</td>\n",
       "      <td>18430</td>\n",
       "      <td>41</td>\n",
       "      <td>NaN</td>\n",
       "      <td>москва</td>\n",
       "      <td>иван</td>\n",
       "      <td>ежов</td>\n",
       "      <td>...</td>\n",
       "      <td>50</td>\n",
       "      <td>15360</td>\n",
       "      <td>500</td>\n",
       "      <td>550</td>\n",
       "      <td>200</td>\n",
       "      <td>3</td>\n",
       "      <td>3</td>\n",
       "      <td>15</td>\n",
       "      <td>18</td>\n",
       "      <td>1150</td>\n",
       "    </tr>\n",
       "    <tr>\n",
       "      <td>9</td>\n",
       "      <td>1001</td>\n",
       "      <td>12</td>\n",
       "      <td>414</td>\n",
       "      <td>0</td>\n",
       "      <td>14037</td>\n",
       "      <td>41</td>\n",
       "      <td>NaN</td>\n",
       "      <td>москва</td>\n",
       "      <td>иван</td>\n",
       "      <td>ежов</td>\n",
       "      <td>...</td>\n",
       "      <td>50</td>\n",
       "      <td>15360</td>\n",
       "      <td>500</td>\n",
       "      <td>550</td>\n",
       "      <td>200</td>\n",
       "      <td>3</td>\n",
       "      <td>3</td>\n",
       "      <td>15</td>\n",
       "      <td>14</td>\n",
       "      <td>550</td>\n",
       "    </tr>\n",
       "    <tr>\n",
       "      <td>10</td>\n",
       "      <td>1002</td>\n",
       "      <td>6</td>\n",
       "      <td>117</td>\n",
       "      <td>4</td>\n",
       "      <td>10857</td>\n",
       "      <td>59</td>\n",
       "      <td>NaN</td>\n",
       "      <td>стерлитамак</td>\n",
       "      <td>евгений</td>\n",
       "      <td>абрамович</td>\n",
       "      <td>...</td>\n",
       "      <td>50</td>\n",
       "      <td>15360</td>\n",
       "      <td>500</td>\n",
       "      <td>550</td>\n",
       "      <td>200</td>\n",
       "      <td>3</td>\n",
       "      <td>3</td>\n",
       "      <td>15</td>\n",
       "      <td>11</td>\n",
       "      <td>550</td>\n",
       "    </tr>\n",
       "    <tr>\n",
       "      <td>11</td>\n",
       "      <td>1002</td>\n",
       "      <td>7</td>\n",
       "      <td>214</td>\n",
       "      <td>11</td>\n",
       "      <td>17581</td>\n",
       "      <td>59</td>\n",
       "      <td>NaN</td>\n",
       "      <td>стерлитамак</td>\n",
       "      <td>евгений</td>\n",
       "      <td>абрамович</td>\n",
       "      <td>...</td>\n",
       "      <td>50</td>\n",
       "      <td>15360</td>\n",
       "      <td>500</td>\n",
       "      <td>550</td>\n",
       "      <td>200</td>\n",
       "      <td>3</td>\n",
       "      <td>3</td>\n",
       "      <td>15</td>\n",
       "      <td>18</td>\n",
       "      <td>1150</td>\n",
       "    </tr>\n",
       "    <tr>\n",
       "      <td>12</td>\n",
       "      <td>1002</td>\n",
       "      <td>8</td>\n",
       "      <td>289</td>\n",
       "      <td>13</td>\n",
       "      <td>20320</td>\n",
       "      <td>59</td>\n",
       "      <td>NaN</td>\n",
       "      <td>стерлитамак</td>\n",
       "      <td>евгений</td>\n",
       "      <td>абрамович</td>\n",
       "      <td>...</td>\n",
       "      <td>50</td>\n",
       "      <td>15360</td>\n",
       "      <td>500</td>\n",
       "      <td>550</td>\n",
       "      <td>200</td>\n",
       "      <td>3</td>\n",
       "      <td>3</td>\n",
       "      <td>15</td>\n",
       "      <td>20</td>\n",
       "      <td>1550</td>\n",
       "    </tr>\n",
       "    <tr>\n",
       "      <td>13</td>\n",
       "      <td>1002</td>\n",
       "      <td>9</td>\n",
       "      <td>206</td>\n",
       "      <td>4</td>\n",
       "      <td>16692</td>\n",
       "      <td>59</td>\n",
       "      <td>NaN</td>\n",
       "      <td>стерлитамак</td>\n",
       "      <td>евгений</td>\n",
       "      <td>абрамович</td>\n",
       "      <td>...</td>\n",
       "      <td>50</td>\n",
       "      <td>15360</td>\n",
       "      <td>500</td>\n",
       "      <td>550</td>\n",
       "      <td>200</td>\n",
       "      <td>3</td>\n",
       "      <td>3</td>\n",
       "      <td>15</td>\n",
       "      <td>17</td>\n",
       "      <td>950</td>\n",
       "    </tr>\n",
       "    <tr>\n",
       "      <td>14</td>\n",
       "      <td>1002</td>\n",
       "      <td>10</td>\n",
       "      <td>212</td>\n",
       "      <td>10</td>\n",
       "      <td>13889</td>\n",
       "      <td>59</td>\n",
       "      <td>NaN</td>\n",
       "      <td>стерлитамак</td>\n",
       "      <td>евгений</td>\n",
       "      <td>абрамович</td>\n",
       "      <td>...</td>\n",
       "      <td>50</td>\n",
       "      <td>15360</td>\n",
       "      <td>500</td>\n",
       "      <td>550</td>\n",
       "      <td>200</td>\n",
       "      <td>3</td>\n",
       "      <td>3</td>\n",
       "      <td>15</td>\n",
       "      <td>14</td>\n",
       "      <td>550</td>\n",
       "    </tr>\n",
       "  </tbody>\n",
       "</table>\n",
       "<p>15 rows × 22 columns</p>\n",
       "</div>"
      ],
      "text/plain": [
       "    user_id  month  duration  messages_count  mb_used  age churn_date  \\\n",
       "0      1000      5       159              22     2254   52        NaN   \n",
       "1      1000      6       172              60    23234   52        NaN   \n",
       "2      1000      7       340              75    14004   52        NaN   \n",
       "3      1000      8       408              81    14056   52        NaN   \n",
       "4      1000      9       466              57    14569   52        NaN   \n",
       "5      1000     10       350              73    14703   52        NaN   \n",
       "6      1000     11       338              58    14757   52        NaN   \n",
       "7      1000     12       333              70     9818   52        NaN   \n",
       "8      1001     11       430               0    18430   41        NaN   \n",
       "9      1001     12       414               0    14037   41        NaN   \n",
       "10     1002      6       117               4    10857   59        NaN   \n",
       "11     1002      7       214              11    17581   59        NaN   \n",
       "12     1002      8       289              13    20320   59        NaN   \n",
       "13     1002      9       206               4    16692   59        NaN   \n",
       "14     1002     10       212              10    13889   59        NaN   \n",
       "\n",
       "           city first_name  last_name  ...  messages_included  \\\n",
       "0     краснодар     рафаил  верещагин  ...               1000   \n",
       "1     краснодар     рафаил  верещагин  ...               1000   \n",
       "2     краснодар     рафаил  верещагин  ...               1000   \n",
       "3     краснодар     рафаил  верещагин  ...               1000   \n",
       "4     краснодар     рафаил  верещагин  ...               1000   \n",
       "5     краснодар     рафаил  верещагин  ...               1000   \n",
       "6     краснодар     рафаил  верещагин  ...               1000   \n",
       "7     краснодар     рафаил  верещагин  ...               1000   \n",
       "8        москва       иван       ежов  ...                 50   \n",
       "9        москва       иван       ежов  ...                 50   \n",
       "10  стерлитамак    евгений  абрамович  ...                 50   \n",
       "11  стерлитамак    евгений  абрамович  ...                 50   \n",
       "12  стерлитамак    евгений  абрамович  ...                 50   \n",
       "13  стерлитамак    евгений  абрамович  ...                 50   \n",
       "14  стерлитамак    евгений  абрамович  ...                 50   \n",
       "\n",
       "   mb_per_month_included  minutes_included  rub_monthly_fee  rub_per_gb  \\\n",
       "0                  30720              3000             1950         150   \n",
       "1                  30720              3000             1950         150   \n",
       "2                  30720              3000             1950         150   \n",
       "3                  30720              3000             1950         150   \n",
       "4                  30720              3000             1950         150   \n",
       "5                  30720              3000             1950         150   \n",
       "6                  30720              3000             1950         150   \n",
       "7                  30720              3000             1950         150   \n",
       "8                  15360               500              550         200   \n",
       "9                  15360               500              550         200   \n",
       "10                 15360               500              550         200   \n",
       "11                 15360               500              550         200   \n",
       "12                 15360               500              550         200   \n",
       "13                 15360               500              550         200   \n",
       "14                 15360               500              550         200   \n",
       "\n",
       "    rub_per_message  rub_per_minute  gb_per_month_included  gb_spent  revenue  \n",
       "0                 1               1                     30         3     1950  \n",
       "1                 1               1                     30        23     1950  \n",
       "2                 1               1                     30        14     1950  \n",
       "3                 1               1                     30        14     1950  \n",
       "4                 1               1                     30        15     1950  \n",
       "5                 1               1                     30        15     1950  \n",
       "6                 1               1                     30        15     1950  \n",
       "7                 1               1                     30        10     1950  \n",
       "8                 3               3                     15        18     1150  \n",
       "9                 3               3                     15        14      550  \n",
       "10                3               3                     15        11      550  \n",
       "11                3               3                     15        18     1150  \n",
       "12                3               3                     15        20     1550  \n",
       "13                3               3                     15        17      950  \n",
       "14                3               3                     15        14      550  \n",
       "\n",
       "[15 rows x 22 columns]"
      ]
     },
     "execution_count": 32,
     "metadata": {},
     "output_type": "execute_result"
    }
   ],
   "source": [
    "data_services['revenue'] = data_services.apply(revenue,axis = 1)\n",
    "data_services.head(15)"
   ]
  },
  {
   "cell_type": "code",
   "execution_count": 33,
   "metadata": {},
   "outputs": [
    {
     "data": {
      "text/plain": [
       "1950    905\n",
       "550     567\n",
       "950      87\n",
       "1150     80\n",
       "1350     78\n",
       "       ... \n",
       "2035      1\n",
       "1527      1\n",
       "2014      1\n",
       "2004      1\n",
       "2041      1\n",
       "Name: revenue, Length: 778, dtype: int64"
      ]
     },
     "execution_count": 33,
     "metadata": {},
     "output_type": "execute_result"
    }
   ],
   "source": [
    "data_services['revenue'].value_counts()"
   ]
  },
  {
   "cell_type": "code",
   "execution_count": 34,
   "metadata": {},
   "outputs": [
    {
     "data": {
      "text/plain": [
       "count    3214.000000\n",
       "mean     1529.076229\n",
       "std       798.251091\n",
       "min       550.000000\n",
       "25%       750.000000\n",
       "50%      1653.500000\n",
       "75%      1950.000000\n",
       "max      6770.000000\n",
       "Name: revenue, dtype: float64"
      ]
     },
     "execution_count": 34,
     "metadata": {},
     "output_type": "execute_result"
    }
   ],
   "source": [
    "data_services['revenue'].describe()"
   ]
  },
  {
   "cell_type": "markdown",
   "metadata": {},
   "source": [
    "Всё отлично, нет отрицательных значений и значений меньше минимальной платы за тариф. Можно строить гистограммы для пользователей по тарифам и услугам."
   ]
  },
  {
   "cell_type": "markdown",
   "metadata": {},
   "source": [
    "## Анализ данных"
   ]
  },
  {
   "cell_type": "markdown",
   "metadata": {},
   "source": [
    "Требуется описать поведение клиентов оператора, исходя из выборки. Сколько минут разговора, сколько сообщений и какой объём интернет-трафика требуется пользователям каждого тарифа в месяц? А так же посчитать среднее количество, дисперсию и стандартное отклонение и построить и описать диаграммы распределения."
   ]
  },
  {
   "cell_type": "markdown",
   "metadata": {},
   "source": [
    "Сделаем разбивку пользователей по тарифным планам."
   ]
  },
  {
   "cell_type": "markdown",
   "metadata": {},
   "source": [
    "Так же построим гистограммы для трех параметров для обоих тарифов:\n",
    "   1) Длительности звонков;\n",
    "   \n",
    "   2) Потраченных смс;\n",
    "   \n",
    "   3) Потраченных Гб"
   ]
  },
  {
   "cell_type": "code",
   "execution_count": 35,
   "metadata": {},
   "outputs": [],
   "source": [
    "df_ultra = data_services.query('tariff == \"ultra\"')\n",
    "df_smart = data_services.query('tariff == \"smart\"')"
   ]
  },
  {
   "cell_type": "code",
   "execution_count": 36,
   "metadata": {},
   "outputs": [
    {
     "data": {
      "text/html": [
       "<div>\n",
       "<style scoped>\n",
       "    .dataframe tbody tr th:only-of-type {\n",
       "        vertical-align: middle;\n",
       "    }\n",
       "\n",
       "    .dataframe tbody tr th {\n",
       "        vertical-align: top;\n",
       "    }\n",
       "\n",
       "    .dataframe thead th {\n",
       "        text-align: right;\n",
       "    }\n",
       "</style>\n",
       "<table border=\"1\" class=\"dataframe\">\n",
       "  <thead>\n",
       "    <tr style=\"text-align: right;\">\n",
       "      <th></th>\n",
       "      <th>user_id</th>\n",
       "      <th>month</th>\n",
       "      <th>duration</th>\n",
       "      <th>messages_count</th>\n",
       "      <th>mb_used</th>\n",
       "      <th>age</th>\n",
       "      <th>churn_date</th>\n",
       "      <th>city</th>\n",
       "      <th>first_name</th>\n",
       "      <th>last_name</th>\n",
       "      <th>...</th>\n",
       "      <th>messages_included</th>\n",
       "      <th>mb_per_month_included</th>\n",
       "      <th>minutes_included</th>\n",
       "      <th>rub_monthly_fee</th>\n",
       "      <th>rub_per_gb</th>\n",
       "      <th>rub_per_message</th>\n",
       "      <th>rub_per_minute</th>\n",
       "      <th>gb_per_month_included</th>\n",
       "      <th>gb_spent</th>\n",
       "      <th>revenue</th>\n",
       "    </tr>\n",
       "  </thead>\n",
       "  <tbody>\n",
       "    <tr>\n",
       "      <td>0</td>\n",
       "      <td>1000</td>\n",
       "      <td>5</td>\n",
       "      <td>159</td>\n",
       "      <td>22</td>\n",
       "      <td>2254</td>\n",
       "      <td>52</td>\n",
       "      <td>NaN</td>\n",
       "      <td>краснодар</td>\n",
       "      <td>рафаил</td>\n",
       "      <td>верещагин</td>\n",
       "      <td>...</td>\n",
       "      <td>1000</td>\n",
       "      <td>30720</td>\n",
       "      <td>3000</td>\n",
       "      <td>1950</td>\n",
       "      <td>150</td>\n",
       "      <td>1</td>\n",
       "      <td>1</td>\n",
       "      <td>30</td>\n",
       "      <td>3</td>\n",
       "      <td>1950</td>\n",
       "    </tr>\n",
       "    <tr>\n",
       "      <td>1</td>\n",
       "      <td>1000</td>\n",
       "      <td>6</td>\n",
       "      <td>172</td>\n",
       "      <td>60</td>\n",
       "      <td>23234</td>\n",
       "      <td>52</td>\n",
       "      <td>NaN</td>\n",
       "      <td>краснодар</td>\n",
       "      <td>рафаил</td>\n",
       "      <td>верещагин</td>\n",
       "      <td>...</td>\n",
       "      <td>1000</td>\n",
       "      <td>30720</td>\n",
       "      <td>3000</td>\n",
       "      <td>1950</td>\n",
       "      <td>150</td>\n",
       "      <td>1</td>\n",
       "      <td>1</td>\n",
       "      <td>30</td>\n",
       "      <td>23</td>\n",
       "      <td>1950</td>\n",
       "    </tr>\n",
       "    <tr>\n",
       "      <td>2</td>\n",
       "      <td>1000</td>\n",
       "      <td>7</td>\n",
       "      <td>340</td>\n",
       "      <td>75</td>\n",
       "      <td>14004</td>\n",
       "      <td>52</td>\n",
       "      <td>NaN</td>\n",
       "      <td>краснодар</td>\n",
       "      <td>рафаил</td>\n",
       "      <td>верещагин</td>\n",
       "      <td>...</td>\n",
       "      <td>1000</td>\n",
       "      <td>30720</td>\n",
       "      <td>3000</td>\n",
       "      <td>1950</td>\n",
       "      <td>150</td>\n",
       "      <td>1</td>\n",
       "      <td>1</td>\n",
       "      <td>30</td>\n",
       "      <td>14</td>\n",
       "      <td>1950</td>\n",
       "    </tr>\n",
       "    <tr>\n",
       "      <td>3</td>\n",
       "      <td>1000</td>\n",
       "      <td>8</td>\n",
       "      <td>408</td>\n",
       "      <td>81</td>\n",
       "      <td>14056</td>\n",
       "      <td>52</td>\n",
       "      <td>NaN</td>\n",
       "      <td>краснодар</td>\n",
       "      <td>рафаил</td>\n",
       "      <td>верещагин</td>\n",
       "      <td>...</td>\n",
       "      <td>1000</td>\n",
       "      <td>30720</td>\n",
       "      <td>3000</td>\n",
       "      <td>1950</td>\n",
       "      <td>150</td>\n",
       "      <td>1</td>\n",
       "      <td>1</td>\n",
       "      <td>30</td>\n",
       "      <td>14</td>\n",
       "      <td>1950</td>\n",
       "    </tr>\n",
       "    <tr>\n",
       "      <td>4</td>\n",
       "      <td>1000</td>\n",
       "      <td>9</td>\n",
       "      <td>466</td>\n",
       "      <td>57</td>\n",
       "      <td>14569</td>\n",
       "      <td>52</td>\n",
       "      <td>NaN</td>\n",
       "      <td>краснодар</td>\n",
       "      <td>рафаил</td>\n",
       "      <td>верещагин</td>\n",
       "      <td>...</td>\n",
       "      <td>1000</td>\n",
       "      <td>30720</td>\n",
       "      <td>3000</td>\n",
       "      <td>1950</td>\n",
       "      <td>150</td>\n",
       "      <td>1</td>\n",
       "      <td>1</td>\n",
       "      <td>30</td>\n",
       "      <td>15</td>\n",
       "      <td>1950</td>\n",
       "    </tr>\n",
       "  </tbody>\n",
       "</table>\n",
       "<p>5 rows × 22 columns</p>\n",
       "</div>"
      ],
      "text/plain": [
       "   user_id  month  duration  messages_count  mb_used  age churn_date  \\\n",
       "0     1000      5       159              22     2254   52        NaN   \n",
       "1     1000      6       172              60    23234   52        NaN   \n",
       "2     1000      7       340              75    14004   52        NaN   \n",
       "3     1000      8       408              81    14056   52        NaN   \n",
       "4     1000      9       466              57    14569   52        NaN   \n",
       "\n",
       "        city first_name  last_name  ...  messages_included  \\\n",
       "0  краснодар     рафаил  верещагин  ...               1000   \n",
       "1  краснодар     рафаил  верещагин  ...               1000   \n",
       "2  краснодар     рафаил  верещагин  ...               1000   \n",
       "3  краснодар     рафаил  верещагин  ...               1000   \n",
       "4  краснодар     рафаил  верещагин  ...               1000   \n",
       "\n",
       "  mb_per_month_included  minutes_included  rub_monthly_fee  rub_per_gb  \\\n",
       "0                 30720              3000             1950         150   \n",
       "1                 30720              3000             1950         150   \n",
       "2                 30720              3000             1950         150   \n",
       "3                 30720              3000             1950         150   \n",
       "4                 30720              3000             1950         150   \n",
       "\n",
       "   rub_per_message  rub_per_minute  gb_per_month_included  gb_spent  revenue  \n",
       "0                1               1                     30         3     1950  \n",
       "1                1               1                     30        23     1950  \n",
       "2                1               1                     30        14     1950  \n",
       "3                1               1                     30        14     1950  \n",
       "4                1               1                     30        15     1950  \n",
       "\n",
       "[5 rows x 22 columns]"
      ]
     },
     "execution_count": 36,
     "metadata": {},
     "output_type": "execute_result"
    }
   ],
   "source": [
    "df_ultra.head()"
   ]
  },
  {
   "cell_type": "markdown",
   "metadata": {},
   "source": [
    "### Длительность звонков"
   ]
  },
  {
   "cell_type": "markdown",
   "metadata": {},
   "source": [
    "Сводная таблица по статистическим параметрам для длительности разговора"
   ]
  },
  {
   "cell_type": "code",
   "execution_count": 37,
   "metadata": {},
   "outputs": [
    {
     "data": {
      "text/html": [
       "<div>\n",
       "<style scoped>\n",
       "    .dataframe tbody tr th:only-of-type {\n",
       "        vertical-align: middle;\n",
       "    }\n",
       "\n",
       "    .dataframe tbody tr th {\n",
       "        vertical-align: top;\n",
       "    }\n",
       "\n",
       "    .dataframe thead tr th {\n",
       "        text-align: left;\n",
       "    }\n",
       "\n",
       "    .dataframe thead tr:last-of-type th {\n",
       "        text-align: right;\n",
       "    }\n",
       "</style>\n",
       "<table border=\"1\" class=\"dataframe\">\n",
       "  <thead>\n",
       "    <tr>\n",
       "      <th></th>\n",
       "      <th>var</th>\n",
       "      <th colspan=\"8\" halign=\"left\">describe</th>\n",
       "    </tr>\n",
       "    <tr>\n",
       "      <th></th>\n",
       "      <th>duration</th>\n",
       "      <th>25%</th>\n",
       "      <th>50%</th>\n",
       "      <th>75%</th>\n",
       "      <th>count</th>\n",
       "      <th>max</th>\n",
       "      <th>mean</th>\n",
       "      <th>min</th>\n",
       "      <th>std</th>\n",
       "    </tr>\n",
       "    <tr>\n",
       "      <th>tariff</th>\n",
       "      <th></th>\n",
       "      <th></th>\n",
       "      <th></th>\n",
       "      <th></th>\n",
       "      <th></th>\n",
       "      <th></th>\n",
       "      <th></th>\n",
       "      <th></th>\n",
       "      <th></th>\n",
       "    </tr>\n",
       "  </thead>\n",
       "  <tbody>\n",
       "    <tr>\n",
       "      <td>smart</td>\n",
       "      <td>36219.315784</td>\n",
       "      <td>282.0</td>\n",
       "      <td>422.0</td>\n",
       "      <td>545.0</td>\n",
       "      <td>2229.0</td>\n",
       "      <td>1435.0</td>\n",
       "      <td>417.934948</td>\n",
       "      <td>0.0</td>\n",
       "      <td>190.313730</td>\n",
       "    </tr>\n",
       "    <tr>\n",
       "      <td>ultra</td>\n",
       "      <td>100873.633397</td>\n",
       "      <td>284.0</td>\n",
       "      <td>518.0</td>\n",
       "      <td>752.0</td>\n",
       "      <td>985.0</td>\n",
       "      <td>1673.0</td>\n",
       "      <td>526.623350</td>\n",
       "      <td>0.0</td>\n",
       "      <td>317.606098</td>\n",
       "    </tr>\n",
       "  </tbody>\n",
       "</table>\n",
       "</div>"
      ],
      "text/plain": [
       "                  var describe                                                 \\\n",
       "             duration      25%    50%    75%   count     max        mean  min   \n",
       "tariff                                                                          \n",
       "smart    36219.315784    282.0  422.0  545.0  2229.0  1435.0  417.934948  0.0   \n",
       "ultra   100873.633397    284.0  518.0  752.0   985.0  1673.0  526.623350  0.0   \n",
       "\n",
       "                    \n",
       "               std  \n",
       "tariff              \n",
       "smart   190.313730  \n",
       "ultra   317.606098  "
      ]
     },
     "execution_count": 37,
     "metadata": {},
     "output_type": "execute_result"
    }
   ],
   "source": [
    "data_services.pivot_table(index= 'tariff', values= 'duration', aggfunc= ['var','describe'])"
   ]
  },
  {
   "cell_type": "markdown",
   "metadata": {},
   "source": [
    "Диаграмма распределения для длительности разговора по двум тарифным планам"
   ]
  },
  {
   "cell_type": "code",
   "execution_count": 38,
   "metadata": {},
   "outputs": [
    {
     "data": {
      "image/png": "[encoded data removed]",
      "text/plain": [
       "<Figure size 1224x648 with 1 Axes>"
      ]
     },
     "metadata": {
      "needs_background": "light"
     },
     "output_type": "display_data"
    }
   ],
   "source": [
    "ax = (df_ultra\n",
    "      .plot(\n",
    "            kind = 'hist',\n",
    "            y = 'duration',\n",
    "            grid = True,\n",
    "            figsize = (17,9),\n",
    "            bins = 35,\n",
    "            legend = True,\n",
    "            alpha =0.5,\n",
    "            label = 'Ultra',\n",
    "     )\n",
    ")\n",
    "\n",
    "(df_smart\n",
    "    .plot(\n",
    "          kind = 'hist',\n",
    "          y = 'duration',\n",
    "          grid = True,\n",
    "          ax=ax,\n",
    "          figsize = (17,9),\n",
    "          legend = True,\n",
    "          bins =30,\n",
    "          alpha =0.5,\n",
    "          label = 'Smart',\n",
    "          title = 'Гистограмма длительности звонков пользователей')\n",
    ")\n",
    "ax.set_xlabel('Длительность,мин')\n",
    "ax.set_ylabel('Частота')\n",
    "ax.set_xticks(np.arange(0, max(df_ultra['duration']), 50));\n"
   ]
  },
  {
   "cell_type": "markdown",
   "metadata": {},
   "source": [
    "Количество пользователей тарифа Smart очевидно в несколько раз больше, нежели пользователей тарифа Ultra.\n",
    "Исходя из гистограммы можно сказать следующее:\n",
    "- Средняя сумма потраченных минут в месяц для пользователя тарифа **Smart** равна **417 минутам**, медиана равна **422**;\n",
    "- Средняя сумма потраченных минут в месяц для пользователя тарифа **Ultra** равна **527 минутам**, медиана равна **518**;\n",
    "- Большая часть пользователей тарифа **Smart** использует **от 300 до 600 минут**. Есть довольно большой процент пользователей  с превышениями по количеству минут в данном тарифе. Чуть меньше половины пользователей тратят в месяц больше 500 минут;\n",
    "- Среди пользователей тарифа **Ultra** есть довольно большой свиду процент пропущенных вызовов длительностью 0 мин,однако высота этого пика объясняется тем, что в целом клиентов с данным тарифом меньше, чем с тарифом Smart, соответственно, количество вызовов пропущенных вызвов сильнее влияет на распределение;\n",
    "- У пользователей тарифа **Ultra** основная часть распределения распологается между **300 и 900 минутами**, распределение довольно равномерное. Однако визуально пользователей,которые тратят **свыше 1000 мин** ( положенных тарифом), значительно меньше.\n",
    "\n",
    "\n"
   ]
  },
  {
   "cell_type": "markdown",
   "metadata": {},
   "source": [
    "### Количество сообщений"
   ]
  },
  {
   "cell_type": "markdown",
   "metadata": {},
   "source": [
    "Сводная таблица по статистическим параметрам для количества сообщений"
   ]
  },
  {
   "cell_type": "code",
   "execution_count": 39,
   "metadata": {},
   "outputs": [
    {
     "data": {
      "text/html": [
       "<div>\n",
       "<style scoped>\n",
       "    .dataframe tbody tr th:only-of-type {\n",
       "        vertical-align: middle;\n",
       "    }\n",
       "\n",
       "    .dataframe tbody tr th {\n",
       "        vertical-align: top;\n",
       "    }\n",
       "\n",
       "    .dataframe thead tr th {\n",
       "        text-align: left;\n",
       "    }\n",
       "\n",
       "    .dataframe thead tr:last-of-type th {\n",
       "        text-align: right;\n",
       "    }\n",
       "</style>\n",
       "<table border=\"1\" class=\"dataframe\">\n",
       "  <thead>\n",
       "    <tr>\n",
       "      <th></th>\n",
       "      <th>var</th>\n",
       "      <th colspan=\"8\" halign=\"left\">describe</th>\n",
       "    </tr>\n",
       "    <tr>\n",
       "      <th></th>\n",
       "      <th>messages_count</th>\n",
       "      <th>25%</th>\n",
       "      <th>50%</th>\n",
       "      <th>75%</th>\n",
       "      <th>count</th>\n",
       "      <th>max</th>\n",
       "      <th>mean</th>\n",
       "      <th>min</th>\n",
       "      <th>std</th>\n",
       "    </tr>\n",
       "    <tr>\n",
       "      <th>tariff</th>\n",
       "      <th></th>\n",
       "      <th></th>\n",
       "      <th></th>\n",
       "      <th></th>\n",
       "      <th></th>\n",
       "      <th></th>\n",
       "      <th></th>\n",
       "      <th></th>\n",
       "      <th></th>\n",
       "    </tr>\n",
       "  </thead>\n",
       "  <tbody>\n",
       "    <tr>\n",
       "      <td>smart</td>\n",
       "      <td>796.812958</td>\n",
       "      <td>10.0</td>\n",
       "      <td>28.0</td>\n",
       "      <td>51.0</td>\n",
       "      <td>2229.0</td>\n",
       "      <td>143.0</td>\n",
       "      <td>33.384029</td>\n",
       "      <td>0.0</td>\n",
       "      <td>28.227876</td>\n",
       "    </tr>\n",
       "    <tr>\n",
       "      <td>ultra</td>\n",
       "      <td>2285.266143</td>\n",
       "      <td>6.0</td>\n",
       "      <td>38.0</td>\n",
       "      <td>79.0</td>\n",
       "      <td>985.0</td>\n",
       "      <td>224.0</td>\n",
       "      <td>49.363452</td>\n",
       "      <td>0.0</td>\n",
       "      <td>47.804457</td>\n",
       "    </tr>\n",
       "  </tbody>\n",
       "</table>\n",
       "</div>"
      ],
      "text/plain": [
       "                  var describe                                             \\\n",
       "       messages_count      25%   50%   75%   count    max       mean  min   \n",
       "tariff                                                                      \n",
       "smart      796.812958     10.0  28.0  51.0  2229.0  143.0  33.384029  0.0   \n",
       "ultra     2285.266143      6.0  38.0  79.0   985.0  224.0  49.363452  0.0   \n",
       "\n",
       "                   \n",
       "              std  \n",
       "tariff             \n",
       "smart   28.227876  \n",
       "ultra   47.804457  "
      ]
     },
     "execution_count": 39,
     "metadata": {},
     "output_type": "execute_result"
    }
   ],
   "source": [
    "data_services.pivot_table(index= 'tariff', values= 'messages_count', aggfunc= ['var','describe'])"
   ]
  },
  {
   "cell_type": "markdown",
   "metadata": {},
   "source": [
    "Диаграмма распределения для количества использованных смс по двум тарифным планам"
   ]
  },
  {
   "cell_type": "code",
   "execution_count": 40,
   "metadata": {},
   "outputs": [
    {
     "data": {
      "image/png": "[encoded data removed]",
      "text/plain": [
       "<Figure size 792x504 with 1 Axes>"
      ]
     },
     "metadata": {
      "needs_background": "light"
     },
     "output_type": "display_data"
    }
   ],
   "source": [
    "ax = (df_ultra\n",
    "      .plot(\n",
    "            kind = 'hist',\n",
    "            y = 'messages_count',\n",
    "            grid = True,\n",
    "            figsize = (9,7),\n",
    "            bins = 5,\n",
    "            legend = True,\n",
    "            alpha =0.5,\n",
    "            label = 'Ultra',\n",
    "     )\n",
    ")\n",
    "\n",
    "(df_smart\n",
    "    .plot(\n",
    "          kind = 'hist',\n",
    "          y = 'messages_count',\n",
    "          grid = True,\n",
    "          ax=ax,\n",
    "          figsize = (11,7),\n",
    "          legend = True,\n",
    "          alpha =0.5,\n",
    "          label = 'Smart',\n",
    "          title = 'Гистограмма количества смс пользователей')\n",
    ")\n",
    "ax.set_xlabel('Количество смс')\n",
    "ax.set_ylabel('Частота')\n",
    "ax.set_xticks(np.arange(0, max(df_ultra['messages_count']), 10));"
   ]
  },
  {
   "cell_type": "markdown",
   "metadata": {},
   "source": [
    "Исходя из данных по отправленным сообщениям, можно сделать следующие выводы:\n",
    "- В среднем пользователи тарифа **Smart** отпраляют в месяц **34 сообщения**, медиана - **28 смс**;\n",
    "- Клиенты тарифа **Ultra** в среднем тратят в месяц **50 сообщений**, медиана - **38 смс**;\n",
    "- Б*о*льшая часть пользователей в обоих тарифах **не пользуются сообщениями**. Это связано с тем, что на смену смс пришли различные мессенджеры, более удобные для переписки, в которых не требуется плата за каждое сообщения и которые расходуют интернет-трафик вместо этого;\n",
    "- Для тарифа **Smart** пользователи отправляют по большей части **от 10 до 60 сообщений**. В меньшей степени людям требуется больше данного тарифом лимита, однако такие пользователи имеют место быть;\n",
    "- Клиенты с тарифом **Ultra** тратят от **15 до 100 смс** в месяц, однако около 100 пользователей используют **больше 150 смс** в месяц."
   ]
  },
  {
   "cell_type": "markdown",
   "metadata": {},
   "source": [
    "### Количество потраченных гигабайт"
   ]
  },
  {
   "cell_type": "markdown",
   "metadata": {},
   "source": [
    "Сводная таблица по статистическим параметрам для количества потраченных гигабайт"
   ]
  },
  {
   "cell_type": "code",
   "execution_count": 41,
   "metadata": {},
   "outputs": [
    {
     "data": {
      "text/html": [
       "<div>\n",
       "<style scoped>\n",
       "    .dataframe tbody tr th:only-of-type {\n",
       "        vertical-align: middle;\n",
       "    }\n",
       "\n",
       "    .dataframe tbody tr th {\n",
       "        vertical-align: top;\n",
       "    }\n",
       "\n",
       "    .dataframe thead tr th {\n",
       "        text-align: left;\n",
       "    }\n",
       "\n",
       "    .dataframe thead tr:last-of-type th {\n",
       "        text-align: right;\n",
       "    }\n",
       "</style>\n",
       "<table border=\"1\" class=\"dataframe\">\n",
       "  <thead>\n",
       "    <tr>\n",
       "      <th></th>\n",
       "      <th>var</th>\n",
       "      <th colspan=\"8\" halign=\"left\">describe</th>\n",
       "    </tr>\n",
       "    <tr>\n",
       "      <th></th>\n",
       "      <th>gb_spent</th>\n",
       "      <th>25%</th>\n",
       "      <th>50%</th>\n",
       "      <th>75%</th>\n",
       "      <th>count</th>\n",
       "      <th>max</th>\n",
       "      <th>mean</th>\n",
       "      <th>min</th>\n",
       "      <th>std</th>\n",
       "    </tr>\n",
       "    <tr>\n",
       "      <th>tariff</th>\n",
       "      <th></th>\n",
       "      <th></th>\n",
       "      <th></th>\n",
       "      <th></th>\n",
       "      <th></th>\n",
       "      <th></th>\n",
       "      <th></th>\n",
       "      <th></th>\n",
       "      <th></th>\n",
       "    </tr>\n",
       "  </thead>\n",
       "  <tbody>\n",
       "    <tr>\n",
       "      <td>smart</td>\n",
       "      <td>33.028705</td>\n",
       "      <td>13.0</td>\n",
       "      <td>17.0</td>\n",
       "      <td>20.0</td>\n",
       "      <td>2229.0</td>\n",
       "      <td>38.0</td>\n",
       "      <td>16.328847</td>\n",
       "      <td>0.0</td>\n",
       "      <td>5.747061</td>\n",
       "    </tr>\n",
       "    <tr>\n",
       "      <td>ultra</td>\n",
       "      <td>97.091686</td>\n",
       "      <td>12.0</td>\n",
       "      <td>19.0</td>\n",
       "      <td>27.0</td>\n",
       "      <td>985.0</td>\n",
       "      <td>49.0</td>\n",
       "      <td>19.494416</td>\n",
       "      <td>0.0</td>\n",
       "      <td>9.853511</td>\n",
       "    </tr>\n",
       "  </tbody>\n",
       "</table>\n",
       "</div>"
      ],
      "text/plain": [
       "              var describe                                                    \n",
       "         gb_spent      25%   50%   75%   count   max       mean  min       std\n",
       "tariff                                                                        \n",
       "smart   33.028705     13.0  17.0  20.0  2229.0  38.0  16.328847  0.0  5.747061\n",
       "ultra   97.091686     12.0  19.0  27.0   985.0  49.0  19.494416  0.0  9.853511"
      ]
     },
     "execution_count": 41,
     "metadata": {},
     "output_type": "execute_result"
    }
   ],
   "source": [
    "data_services.pivot_table(index= 'tariff', values= 'gb_spent', aggfunc= ['var','describe'])"
   ]
  },
  {
   "cell_type": "markdown",
   "metadata": {},
   "source": [
    "Диаграмма распределения для количества использованных гигабайт по двум тарифным планам"
   ]
  },
  {
   "cell_type": "code",
   "execution_count": 42,
   "metadata": {},
   "outputs": [
    {
     "data": {
      "image/png": "[encoded data removed]",
      "text/plain": [
       "<Figure size 792x504 with 1 Axes>"
      ]
     },
     "metadata": {
      "needs_background": "light"
     },
     "output_type": "display_data"
    }
   ],
   "source": [
    "ax = (df_ultra\n",
    "      .plot(\n",
    "            kind = 'hist',\n",
    "            y = 'gb_spent',\n",
    "            grid = True,\n",
    "            figsize = (9,7),\n",
    "            legend = True,\n",
    "            bins = 12,\n",
    "            alpha =0.5,\n",
    "            label = 'Ultra',\n",
    "     )\n",
    ")\n",
    "\n",
    "(df_smart\n",
    "    .plot(\n",
    "          kind = 'hist',\n",
    "          y = 'gb_spent',\n",
    "          grid = True,\n",
    "          ax=ax,\n",
    "          figsize = (11,7),\n",
    "          legend = True,\n",
    "          alpha =0.5,\n",
    "          bins = 19,\n",
    "          label = 'Smart',\n",
    "          title = 'Гистограмма количества потраченных пользователями Гб ')\n",
    ")\n",
    "ax.set_xlabel('Количество потраченных за месяц Гб')\n",
    "ax.set_ylabel('Частота')\n",
    "ax.set_xticks(np.arange(0, max(df_ultra['gb_spent']+5), 5));"
   ]
  },
  {
   "cell_type": "markdown",
   "metadata": {},
   "source": [
    "Получив данные графики распределения, можно сделать следующие выводы:\n",
    "- В среднем пользователи тарифа **Smart** тратят **17 Гб** в месяц, медиана - **17 Гб**;\n",
    "- В среднем пользователи тарифа **Ultra** расходуют **20 Гб** в месяц, медиана - **19 Гб**;\n",
    "- Основная часть пользователей тарифа **Smart** тратит **от 12 до 24 Гб** в месяц,количество людей, которые тратят **больше 30 Гб** в месяц минимально;\n",
    "- Основная часть пользователей тарифа **Ultra** тратит **от 10 до 33 Гб** в месяц, однако доля пользователей, количество потраченных Гб в месяц находится в диапазоне **от 25 до 45** значительно выше,нежели у клиентов тарифа **Smart**;\n",
    "- Пользователи тарифа **Ultra** не тратят **больше 50 Гб**.\n"
   ]
  },
  {
   "cell_type": "markdown",
   "metadata": {},
   "source": [
    "## Проверка гипотез"
   ]
  },
  {
   "cell_type": "markdown",
   "metadata": {},
   "source": [
    "Далее мы будем проверять гипотезы о разнице в выручке с пользователей разных тарифов и разных городов. Требуется принять или отвергнуть следующие гипотезы:\n",
    "\n",
    "- средняя выручка пользователей тарифов «Ультра» и «Смарт» различаются;\n",
    "- средняя выручка пользователей из Москвы отличается от выручки пользователей из других регионов."
   ]
  },
  {
   "cell_type": "markdown",
   "metadata": {},
   "source": [
    " Для подсчёта мы будем пользоваться Гипотезой о равенстве средних двух генеральных совокупностей,т.к.:\n",
    "\n",
    "- Генеральные совокупности не зависят друг от друга.\n",
    "- Выборочные средние должны быть нормально распределены (что не играет большой роли,так как количество клиентов больше 200 для каждой совокупности,работает ЦПТ);\n",
    "- Дисперсии рассматриваемых генеральных совокупностей должны быть равны, однако  если выборки достаточно велики (30 и больше значений) и равны по размеру между собой, такой подход оправдан: симуляции, проведённые учёными, показывают, что даже если дисперсии на самом деле не равны, то тест редко ошибается."
   ]
  },
  {
   "cell_type": "markdown",
   "metadata": {},
   "source": [
    "### Средняя выручка пользователей тарифов «Ультра» и «Смарт»"
   ]
  },
  {
   "cell_type": "markdown",
   "metadata": {},
   "source": [
    "Для начала разберемся с первой теорией о различии в выручках для пользователей тарифов Ultra и Smart.\n",
    "Сформулируем нулевыую и альтернативную теорию.\n",
    "\n",
    "\n",
    "**H0**: средняя выручка с пользователей тарифов Ultra и Smart **одинаковая**;\n",
    "\n",
    "**H1**: средняя выручка с пользователей тарифов Ultra и Smart **различается**."
   ]
  },
  {
   "cell_type": "code",
   "execution_count": 43,
   "metadata": {},
   "outputs": [
    {
     "name": "stdout",
     "output_type": "stream",
     "text": [
      "p-значение: 4.2606313931076085e-250\n",
      "Отвергаем нулевую гипотезу\n"
     ]
    }
   ],
   "source": [
    "\n",
    "# Для сравнения возьмем массив с выручками двух тарифов\n",
    "ultra = df_ultra['revenue']\n",
    "smart = df_smart['revenue']\n",
    "\n",
    "alpha = .01 #уровень статистической значимости\n",
    "\n",
    "#Проведем двухстороннюю проверку гипотезы о равенстве средних двух массивов\n",
    "\n",
    "results = st.ttest_ind(\n",
    "    ultra, \n",
    "    smart,\n",
    "    equal_var = False) #учет того, что выборки не одинаковые по размеру\n",
    "\n",
    "print('p-значение:', results.pvalue)\n",
    "\n",
    "if results.pvalue < alpha:\n",
    "    print(\"Отвергаем нулевую гипотезу\")\n",
    "else:\n",
    "    print(\"Не получилось отвергнуть нулевую гипотезу\") "
   ]
  },
  {
   "cell_type": "markdown",
   "metadata": {},
   "source": [
    "> Таким образом, можем сказать, что средняя выручка у этих двух тарифов **отличается**,а так же принять **альтернативную гипотезу верной**."
   ]
  },
  {
   "cell_type": "code",
   "execution_count": 44,
   "metadata": {},
   "outputs": [
    {
     "data": {
      "text/plain": [
       "780.1787535326896"
      ]
     },
     "execution_count": 44,
     "metadata": {},
     "output_type": "execute_result"
    }
   ],
   "source": [
    "# Можно так же буквально посмотреть разницу средних этих выборок. При их равенстве разница должна быть близкой к нулю.\n",
    "\n",
    "df_dif_revenue =abs(df_ultra['revenue'].mean()-df_smart['revenue'].mean())\n",
    "df_dif_revenue"
   ]
  },
  {
   "cell_type": "markdown",
   "metadata": {},
   "source": [
    "### Средняя выручка пользователей в Москве и других городах"
   ]
  },
  {
   "cell_type": "markdown",
   "metadata": {},
   "source": [
    "Теперь проверим вторую теорию о различиях между выручкой между Москвой и другими городами, для этого сформулируем новые гипотезы:\n",
    "\n",
    "**H0**: средняя выручка с пользователей в Москве и других городах **одинаковая**;\n",
    "\n",
    "**H1**: средняя выручка с пользователей в Москве и других городах **различается**."
   ]
  },
  {
   "cell_type": "code",
   "execution_count": 45,
   "metadata": {},
   "outputs": [
    {
     "name": "stdout",
     "output_type": "stream",
     "text": [
      "p-значение: 0.5257376663729298\n",
      "Не получилось отвергнуть нулевую гипотезу\n"
     ]
    }
   ],
   "source": [
    "# Для сравнения возьмем массивы с выручками двух вариантов город - Москва и другой \n",
    "msk = data_services.query('city == \"москва\"')['revenue']\n",
    "other = data_services.query('city != \"москва\"')['revenue']\n",
    "\n",
    "alpha = .01 #уровень статистической значимости\n",
    "\n",
    "#Проведем двухстороннюю проверку гипотезы о равенстве средних двух массивов\n",
    "\n",
    "results = st.ttest_ind(\n",
    "    msk, \n",
    "    other,\n",
    "    equal_var = False) #учет того, что выборки не одинаковые по размеру\n",
    "\n",
    "print('p-значение:', results.pvalue)\n",
    "\n",
    "if results.pvalue < alpha:\n",
    "    print(\"Отвергаем нулевую гипотезу\")\n",
    "else:\n",
    "    print(\"Не получилось отвергнуть нулевую гипотезу\") "
   ]
  },
  {
   "cell_type": "code",
   "execution_count": 46,
   "metadata": {},
   "outputs": [
    {
     "data": {
      "text/plain": [
       "21.777356858163785"
      ]
     },
     "execution_count": 46,
     "metadata": {},
     "output_type": "execute_result"
    }
   ],
   "source": [
    "df_dif_revenue =abs(msk.mean()-other.mean())\n",
    "df_dif_revenue"
   ]
  },
  {
   "cell_type": "markdown",
   "metadata": {},
   "source": [
    "> При уровне статистической значимости в .01 **не получилось отвергнуть нулевую гипотезу**. Таким образом можем сделать вывод, что с б**o**льшей долей вероятности выручки в Москве и в других городах **одинаковые**."
   ]
  },
  {
   "cell_type": "markdown",
   "metadata": {},
   "source": [
    "## Определение показателей тарифов"
   ]
  },
  {
   "cell_type": "markdown",
   "metadata": {},
   "source": [
    "### Средняя выручка сверх тарифа"
   ]
  },
  {
   "cell_type": "code",
   "execution_count": 47,
   "metadata": {},
   "outputs": [
    {
     "data": {
      "text/plain": [
       "'Средняя выручка сверх тарифа Smart  составляет: 740.0 руб.'"
      ]
     },
     "metadata": {},
     "output_type": "display_data"
    },
    {
     "data": {
      "text/plain": [
       "'Средняя выручка сверх тарифа Smart  составляет: 121.0 руб.'"
      ]
     },
     "metadata": {},
     "output_type": "display_data"
    }
   ],
   "source": [
    "# Для определения средней выручки сверх тарифа посчитаем разницу между общей выручкой с пользователч и стоиомстью тарифа.\n",
    "df_smart_overrev = (df_smart['revenue'] - df_smart['rub_monthly_fee']).mean()\n",
    "display(f'Средняя выручка сверх тарифа Smart  составляет: {np.ceil(df_smart_overrev)} руб.')\n",
    "\n",
    "df_ultra_overrev = (df_ultra['revenue'] - df_ultra['rub_monthly_fee']).mean()\n",
    "display(f'Средняя выручка сверх тарифа Smart  составляет: {np.ceil(df_ultra_overrev)} руб.')"
   ]
  },
  {
   "cell_type": "markdown",
   "metadata": {},
   "source": [
    " > В среднем сверх тарифа Мегалайн больше зарабатывает на предоставлении услуг для пользователей Smart."
   ]
  },
  {
   "cell_type": "markdown",
   "metadata": {},
   "source": [
    "Построим график распределения для трат сверх нормы."
   ]
  },
  {
   "cell_type": "code",
   "execution_count": 48,
   "metadata": {},
   "outputs": [],
   "source": [
    "df_ultra_overr = (df_ultra['revenue'] - df_ultra['rub_monthly_fee'])\n",
    "df_smart_overr = (df_smart['revenue'] - df_smart['rub_monthly_fee'])"
   ]
  },
  {
   "cell_type": "code",
   "execution_count": 49,
   "metadata": {},
   "outputs": [
    {
     "data": {
      "image/png": "[encoded data removed]",
      "text/plain": [
       "<Figure size 1080x504 with 1 Axes>"
      ]
     },
     "metadata": {
      "needs_background": "light"
     },
     "output_type": "display_data"
    }
   ],
   "source": [
    "ax = (df_ultra_overr\n",
    "      .plot(\n",
    "            kind = 'hist',\n",
    "            grid = True,\n",
    "            figsize = (15,7),\n",
    "            legend = True,\n",
    "            #bins = 12,\n",
    "            alpha =0.5,\n",
    "            label = 'Ultra',\n",
    "     )\n",
    ")\n",
    "\n",
    "(df_smart_overr\n",
    "    .plot(\n",
    "          kind = 'hist',\n",
    "          grid = True,\n",
    "          ax=ax,\n",
    "          figsize = (15,7),\n",
    "          legend = True,\n",
    "          alpha =0.5,\n",
    "          bins = 30,\n",
    "          label = 'Smart',\n",
    "          title = 'Гистограмма трат сверх месячного лимита услуг ')\n",
    ")\n",
    "ax.set_xlabel('Сумма выручки сверх тарифа, рубли')\n",
    "ax.set_ylabel('Частота')\n",
    "ax.set_xticks(np.arange(0, max(df_smart_overr+5), 250));"
   ]
  },
  {
   "cell_type": "markdown",
   "metadata": {},
   "source": [
    "- Как мы видим, пользователи тарифа **Smart** гораздо **чаще и в больших объёмах** пользуются дополнительными смс,минутами и Гб;\n",
    "- Значительная часть клиентов тратят **до 250р** сверх тарифа,что составляет практически **половину** суммы от тарифа **Smart** и всего лишь **13%** от тарифа **Ultra**;\n",
    "- Так же довольно тяжелый хвост тянется и для пользователей тарифа **Smart** и **Ultra**, которые тратят доп.услуг на сумму вплоть до **2500р** и таких пользователей значительно больше в тарифе **Smart**."
   ]
  },
  {
   "cell_type": "markdown",
   "metadata": {},
   "source": [
    "### Суммарная среднемесячная выручка"
   ]
  },
  {
   "cell_type": "markdown",
   "metadata": {},
   "source": [
    "Посмотрим, сколько в месяц в среднем проносит каждый тариф."
   ]
  },
  {
   "cell_type": "code",
   "execution_count": 50,
   "metadata": {},
   "outputs": [
    {
     "data": {
      "text/html": [
       "<div>\n",
       "<style scoped>\n",
       "    .dataframe tbody tr th:only-of-type {\n",
       "        vertical-align: middle;\n",
       "    }\n",
       "\n",
       "    .dataframe tbody tr th {\n",
       "        vertical-align: top;\n",
       "    }\n",
       "\n",
       "    .dataframe thead tr th {\n",
       "        text-align: left;\n",
       "    }\n",
       "\n",
       "    .dataframe thead tr:last-of-type th {\n",
       "        text-align: right;\n",
       "    }\n",
       "</style>\n",
       "<table border=\"1\" class=\"dataframe\">\n",
       "  <thead>\n",
       "    <tr>\n",
       "      <th></th>\n",
       "      <th></th>\n",
       "      <th>sum</th>\n",
       "      <th>mean</th>\n",
       "    </tr>\n",
       "    <tr>\n",
       "      <th></th>\n",
       "      <th></th>\n",
       "      <th>revenue</th>\n",
       "      <th>revenue</th>\n",
       "    </tr>\n",
       "    <tr>\n",
       "      <th>tariff</th>\n",
       "      <th>month</th>\n",
       "      <th></th>\n",
       "      <th></th>\n",
       "    </tr>\n",
       "  </thead>\n",
       "  <tbody>\n",
       "    <tr>\n",
       "      <td rowspan=\"12\" valign=\"top\">smart</td>\n",
       "      <td>1</td>\n",
       "      <td>24525</td>\n",
       "      <td>721.323529</td>\n",
       "    </tr>\n",
       "    <tr>\n",
       "      <td>2</td>\n",
       "      <td>48001</td>\n",
       "      <td>827.603448</td>\n",
       "    </tr>\n",
       "    <tr>\n",
       "      <td>3</td>\n",
       "      <td>89676</td>\n",
       "      <td>1164.623377</td>\n",
       "    </tr>\n",
       "    <tr>\n",
       "      <td>4</td>\n",
       "      <td>107866</td>\n",
       "      <td>963.089286</td>\n",
       "    </tr>\n",
       "    <tr>\n",
       "      <td>5</td>\n",
       "      <td>168849</td>\n",
       "      <td>1197.510638</td>\n",
       "    </tr>\n",
       "    <tr>\n",
       "      <td>6</td>\n",
       "      <td>197459</td>\n",
       "      <td>1204.018293</td>\n",
       "    </tr>\n",
       "    <tr>\n",
       "      <td>7</td>\n",
       "      <td>246014</td>\n",
       "      <td>1223.950249</td>\n",
       "    </tr>\n",
       "    <tr>\n",
       "      <td>8</td>\n",
       "      <td>310340</td>\n",
       "      <td>1320.595745</td>\n",
       "    </tr>\n",
       "    <tr>\n",
       "      <td>9</td>\n",
       "      <td>324986</td>\n",
       "      <td>1249.946154</td>\n",
       "    </tr>\n",
       "    <tr>\n",
       "      <td>10</td>\n",
       "      <td>401267</td>\n",
       "      <td>1364.853741</td>\n",
       "    </tr>\n",
       "    <tr>\n",
       "      <td>11</td>\n",
       "      <td>424403</td>\n",
       "      <td>1343.047468</td>\n",
       "    </tr>\n",
       "    <tr>\n",
       "      <td>12</td>\n",
       "      <td>531965</td>\n",
       "      <td>1578.531157</td>\n",
       "    </tr>\n",
       "    <tr>\n",
       "      <td rowspan=\"12\" valign=\"top\">ultra</td>\n",
       "      <td>1</td>\n",
       "      <td>17550</td>\n",
       "      <td>1950.000000</td>\n",
       "    </tr>\n",
       "    <tr>\n",
       "      <td>2</td>\n",
       "      <td>47400</td>\n",
       "      <td>1975.000000</td>\n",
       "    </tr>\n",
       "    <tr>\n",
       "      <td>3</td>\n",
       "      <td>74550</td>\n",
       "      <td>2014.864865</td>\n",
       "    </tr>\n",
       "    <tr>\n",
       "      <td>4</td>\n",
       "      <td>110100</td>\n",
       "      <td>2001.818182</td>\n",
       "    </tr>\n",
       "    <tr>\n",
       "      <td>5</td>\n",
       "      <td>138000</td>\n",
       "      <td>2059.701493</td>\n",
       "    </tr>\n",
       "    <tr>\n",
       "      <td>6</td>\n",
       "      <td>171300</td>\n",
       "      <td>2039.285714</td>\n",
       "    </tr>\n",
       "    <tr>\n",
       "      <td>7</td>\n",
       "      <td>192750</td>\n",
       "      <td>2118.131868</td>\n",
       "    </tr>\n",
       "    <tr>\n",
       "      <td>8</td>\n",
       "      <td>222900</td>\n",
       "      <td>2083.177570</td>\n",
       "    </tr>\n",
       "    <tr>\n",
       "      <td>9</td>\n",
       "      <td>232800</td>\n",
       "      <td>2024.347826</td>\n",
       "    </tr>\n",
       "    <tr>\n",
       "      <td>10</td>\n",
       "      <td>254100</td>\n",
       "      <td>2065.853659</td>\n",
       "    </tr>\n",
       "    <tr>\n",
       "      <td>11</td>\n",
       "      <td>280350</td>\n",
       "      <td>2092.164179</td>\n",
       "    </tr>\n",
       "    <tr>\n",
       "      <td>12</td>\n",
       "      <td>297300</td>\n",
       "      <td>2138.848921</td>\n",
       "    </tr>\n",
       "  </tbody>\n",
       "</table>\n",
       "</div>"
      ],
      "text/plain": [
       "                 sum         mean\n",
       "             revenue      revenue\n",
       "tariff month                     \n",
       "smart  1       24525   721.323529\n",
       "       2       48001   827.603448\n",
       "       3       89676  1164.623377\n",
       "       4      107866   963.089286\n",
       "       5      168849  1197.510638\n",
       "       6      197459  1204.018293\n",
       "       7      246014  1223.950249\n",
       "       8      310340  1320.595745\n",
       "       9      324986  1249.946154\n",
       "       10     401267  1364.853741\n",
       "       11     424403  1343.047468\n",
       "       12     531965  1578.531157\n",
       "ultra  1       17550  1950.000000\n",
       "       2       47400  1975.000000\n",
       "       3       74550  2014.864865\n",
       "       4      110100  2001.818182\n",
       "       5      138000  2059.701493\n",
       "       6      171300  2039.285714\n",
       "       7      192750  2118.131868\n",
       "       8      222900  2083.177570\n",
       "       9      232800  2024.347826\n",
       "       10     254100  2065.853659\n",
       "       11     280350  2092.164179\n",
       "       12     297300  2138.848921"
      ]
     },
     "execution_count": 50,
     "metadata": {},
     "output_type": "execute_result"
    }
   ],
   "source": [
    "data_services.pivot_table(index = ['tariff','month'],values = 'revenue',aggfunc=['sum','mean'])"
   ]
  },
  {
   "cell_type": "code",
   "execution_count": 51,
   "metadata": {},
   "outputs": [
    {
     "data": {
      "text/plain": [
       "'Среднемесячная выручка Ultra: 2071.0'"
      ]
     },
     "metadata": {},
     "output_type": "display_data"
    },
    {
     "data": {
      "text/plain": [
       "'Среднемесячная выручка Smart: 1290.0'"
      ]
     },
     "metadata": {},
     "output_type": "display_data"
    }
   ],
   "source": [
    "# Посмотрим среднюю выручку для каждого тарифа за год\n",
    "ultr_rev = np.ceil(data_services.loc[data_services['tariff']=='ultra']['revenue'].mean())\n",
    "smrt_rev = np.ceil(data_services.loc[data_services['tariff']=='smart']['revenue'].mean())\n",
    "\n",
    "\n",
    "display('Среднемесячная выручка Ultra: {}'.format(ultr_rev))\n",
    "display('Среднемесячная выручка Smart: {}'.format(smrt_rev))\n"
   ]
  },
  {
   "cell_type": "markdown",
   "metadata": {},
   "source": [
    "> Как мы видим, сверх нормы пользователи тарифа **Ultra редко** пользуются доп.услугами. При этом среднемесячная выручка с него фактически **больше,нежели с пользователя тарифа Smart**. Но только в абсолютном соотношении.\n",
    "В среднем же относительном соотношении пользователи тарифа Smart в месяц тратят **в два с лишним раза больше** стоимости самого тарифа."
   ]
  },
  {
   "cell_type": "code",
   "execution_count": 52,
   "metadata": {},
   "outputs": [
    {
     "data": {
      "text/plain": [
       "2875351"
      ]
     },
     "execution_count": 52,
     "metadata": {},
     "output_type": "execute_result"
    }
   ],
   "source": [
    "df_smart.revenue.sum()"
   ]
  },
  {
   "cell_type": "code",
   "execution_count": 53,
   "metadata": {},
   "outputs": [
    {
     "data": {
      "text/plain": [
       "2039100"
      ]
     },
     "execution_count": 53,
     "metadata": {},
     "output_type": "execute_result"
    }
   ],
   "source": [
    "df_ultra.revenue.sum()"
   ]
  },
  {
   "cell_type": "markdown",
   "metadata": {},
   "source": [
    "### Процент доп.услуг в выручке для двух тарифов"
   ]
  },
  {
   "cell_type": "markdown",
   "metadata": {},
   "source": [
    "Последнее, что осталось оценить, это процентный вклад доп.услуг в среднемесячной выручке для двух тарифов."
   ]
  },
  {
   "cell_type": "code",
   "execution_count": 54,
   "metadata": {},
   "outputs": [],
   "source": [
    "# Отберем записи с превышениями по количеству минут,смс и Гб отдельно.\n",
    "\n",
    "calls = data_services.loc[data_services.duration > data_services.minutes_included]\n",
    "sms = data_services.loc[data_services.messages_count > data_services.messages_included]\n",
    "gb = data_services.loc[data_services.gb_spent > data_services.gb_per_month_included]"
   ]
  },
  {
   "cell_type": "code",
   "execution_count": 55,
   "metadata": {},
   "outputs": [],
   "source": [
    "# Так же добавим столбец с подсчётом выручки за каждое из типов превышений тарифов\n",
    "\n",
    "calls['calls_rev'] = ((calls.duration- calls.minutes_included)*calls.rub_per_minute).astype(int)\n",
    "sms['sms_rev'] = ((sms.messages_count - sms.messages_included)*sms.rub_per_message).astype(int)\n",
    "gb ['gb_rev'] = ((gb.gb_spent - gb.gb_per_month_included)*gb.rub_per_gb).astype(int)"
   ]
  },
  {
   "cell_type": "code",
   "execution_count": 56,
   "metadata": {},
   "outputs": [],
   "source": [
    "# Теперь посчитаем процентный вклад каждой превышенной услуги в выручку\n",
    "\n",
    "calls['calls_part'] = (calls.calls_rev/calls.revenue)*100\n",
    "sms['sms_part'] =(sms.sms_rev/sms.revenue)*100\n",
    "gb['gb_part']=(gb.gb_rev/gb.revenue)*100"
   ]
  },
  {
   "cell_type": "markdown",
   "metadata": {},
   "source": [
    "#### Дополнительные минуты"
   ]
  },
  {
   "cell_type": "markdown",
   "metadata": {},
   "source": [
    "Построим диаграммы по услугам"
   ]
  },
  {
   "cell_type": "code",
   "execution_count": 57,
   "metadata": {},
   "outputs": [
    {
     "data": {
      "text/html": [
       "<div>\n",
       "<style scoped>\n",
       "    .dataframe tbody tr th:only-of-type {\n",
       "        vertical-align: middle;\n",
       "    }\n",
       "\n",
       "    .dataframe tbody tr th {\n",
       "        vertical-align: top;\n",
       "    }\n",
       "\n",
       "    .dataframe thead th {\n",
       "        text-align: right;\n",
       "    }\n",
       "</style>\n",
       "<table border=\"1\" class=\"dataframe\">\n",
       "  <thead>\n",
       "    <tr style=\"text-align: right;\">\n",
       "      <th></th>\n",
       "      <th>user_id</th>\n",
       "      <th>month</th>\n",
       "      <th>duration</th>\n",
       "      <th>messages_count</th>\n",
       "      <th>mb_used</th>\n",
       "      <th>age</th>\n",
       "      <th>churn_date</th>\n",
       "      <th>city</th>\n",
       "      <th>first_name</th>\n",
       "      <th>last_name</th>\n",
       "      <th>...</th>\n",
       "      <th>messages_included</th>\n",
       "      <th>mb_per_month_included</th>\n",
       "      <th>minutes_included</th>\n",
       "      <th>rub_monthly_fee</th>\n",
       "      <th>rub_per_gb</th>\n",
       "      <th>rub_per_message</th>\n",
       "      <th>rub_per_minute</th>\n",
       "      <th>gb_per_month_included</th>\n",
       "      <th>gb_spent</th>\n",
       "      <th>revenue</th>\n",
       "    </tr>\n",
       "  </thead>\n",
       "  <tbody>\n",
       "  </tbody>\n",
       "</table>\n",
       "<p>0 rows × 22 columns</p>\n",
       "</div>"
      ],
      "text/plain": [
       "Empty DataFrame\n",
       "Columns: [user_id, month, duration, messages_count, mb_used, age, churn_date, city, first_name, last_name, reg_date, tariff, messages_included, mb_per_month_included, minutes_included, rub_monthly_fee, rub_per_gb, rub_per_message, rub_per_minute, gb_per_month_included, gb_spent, revenue]\n",
       "Index: []\n",
       "\n",
       "[0 rows x 22 columns]"
      ]
     },
     "execution_count": 57,
     "metadata": {},
     "output_type": "execute_result"
    }
   ],
   "source": [
    "# Проверим,есть ли превышения по длительности у тарифа Ультра\n",
    "uv = df_ultra.query('duration > minutes_included')\n",
    "uv"
   ]
  },
  {
   "cell_type": "markdown",
   "metadata": {},
   "source": [
    "> Таких данных нет, тогда построим гистограмму для пользователей тарифа Смарт"
   ]
  },
  {
   "cell_type": "code",
   "execution_count": 58,
   "metadata": {},
   "outputs": [
    {
     "data": {
      "image/png": "[encoded data removed]",
      "text/plain": [
       "<Figure size 1080x504 with 1 Axes>"
      ]
     },
     "metadata": {
      "needs_background": "light"
     },
     "output_type": "display_data"
    }
   ],
   "source": [
    "ax = calls['calls_part'].plot(kind = 'hist',\n",
    "                              grid = True,\n",
    "                              figsize = (15,7),\n",
    "                              legend = True,\n",
    "                              bins = 12,\n",
    "                              title = 'Процент выручки от доп. минут от общей выручки',\n",
    "                              label = 'smart')\n",
    "     \n",
    "ax.set_xlabel('Сумма выручки сверх тарифа, %')\n",
    "ax.set_ylabel('Частота')\n",
    "ax.set_xticks(np.arange(0, max(calls['calls_part']+5), 5));"
   ]
  },
  {
   "cell_type": "markdown",
   "metadata": {},
   "source": [
    "- Как мы видим, процент дополнительных минут от общей выручки плавно снижается от **5 до 60 процентов**;\n",
    "- Тем не менее б**О**льшая часть пользователей тарифа **Смарт** приносит прибыль вплоть **до 45%** от выручки в качестве полььзования доп.минутами;\n",
    "- Пользователям тарифа **Ультра**, по-видимому, **хватает** предоставленных минут на месячное пользование."
   ]
  },
  {
   "cell_type": "markdown",
   "metadata": {},
   "source": [
    "#### Дополнительные смс"
   ]
  },
  {
   "cell_type": "markdown",
   "metadata": {},
   "source": [
    "Теперь рассмотрим ситуацию с смс"
   ]
  },
  {
   "cell_type": "code",
   "execution_count": 59,
   "metadata": {},
   "outputs": [
    {
     "name": "stdout",
     "output_type": "stream",
     "text": [
      "0 564\n"
     ]
    }
   ],
   "source": [
    "sms_u = df_ultra.query('messages_count> messages_included')['user_id'].count()\n",
    "sms_s = df_smart.query('messages_count> messages_included')['user_id'].count()\n",
    "print(sms_u,sms_s)"
   ]
  },
  {
   "cell_type": "markdown",
   "metadata": {},
   "source": [
    "Так же видим, что у пользователей тарифа **Ультра нет превышений** по количеству смс.\n",
    "\n",
    "Рассмотрим выручку за доп.смс у полльзователей тарифа **Смарт**."
   ]
  },
  {
   "cell_type": "code",
   "execution_count": 60,
   "metadata": {},
   "outputs": [
    {
     "data": {
      "image/png": "[encoded data removed]",
      "text/plain": [
       "<Figure size 1080x504 with 1 Axes>"
      ]
     },
     "metadata": {
      "needs_background": "light"
     },
     "output_type": "display_data"
    }
   ],
   "source": [
    "ax = sms['sms_part'].plot(kind = 'hist',\n",
    "                              grid = True,\n",
    "                              figsize = (15,7),\n",
    "                              legend = True,\n",
    "                              bins = 12,\n",
    "                              title = 'Процент выручки от доп. sms от общей',\n",
    "                              label = 'smart')\n",
    "     \n",
    "ax.set_xlabel('Сумма выручки сверх тарифа, %')\n",
    "ax.set_ylabel('Частота')\n",
    "ax.set_xticks(np.arange(0, max(sms['sms_part']+5), 2.5));"
   ]
  },
  {
   "cell_type": "markdown",
   "metadata": {},
   "source": [
    "- Большая часть пользователей приносит **не более 7,5%** от всей среднемесячной выручки за счёт доп.смс,чаще всего - **до 2,5%**;\n",
    "- Гораздо реже встречаются пользователи, которые приносят от **7,5 до 22%**"
   ]
  },
  {
   "cell_type": "markdown",
   "metadata": {},
   "source": [
    "#### Дополнительные Гб"
   ]
  },
  {
   "cell_type": "code",
   "execution_count": 61,
   "metadata": {},
   "outputs": [
    {
     "name": "stdout",
     "output_type": "stream",
     "text": [
      "134 1304\n"
     ]
    }
   ],
   "source": [
    "gb_u = df_ultra.query('gb_spent> gb_per_month_included')['user_id'].count()\n",
    "gb_s = df_smart.query('gb_spent> gb_per_month_included')['user_id'].count()\n",
    "print(gb_u,gb_s)"
   ]
  },
  {
   "cell_type": "markdown",
   "metadata": {},
   "source": [
    "В данном случае мы видим, что пользователи обоих тарифов с разной периодичностью тратят Гб сверх месячной нормы."
   ]
  },
  {
   "cell_type": "markdown",
   "metadata": {},
   "source": [
    "Построим гистограммы и сравним их"
   ]
  },
  {
   "cell_type": "code",
   "execution_count": 62,
   "metadata": {},
   "outputs": [
    {
     "data": {
      "image/png": "[encoded data removed]",
      "text/plain": [
       "<Figure size 1152x504 with 1 Axes>"
      ]
     },
     "metadata": {
      "needs_background": "light"
     },
     "output_type": "display_data"
    }
   ],
   "source": [
    "ax = (gb.query('tariff ==\"ultra\"')['gb_part']\n",
    "      .plot(\n",
    "            kind = 'hist',\n",
    "            grid = True,\n",
    "            figsize = (16,7),\n",
    "            legend = True,\n",
    "            bins = 12,\n",
    "            alpha =0.5,\n",
    "            label = 'Ultra',\n",
    "     )\n",
    ")\n",
    "\n",
    "(gb.query('tariff ==\"smart\"')['gb_part']\n",
    "    .plot(\n",
    "          kind = 'hist',\n",
    "          grid = True,\n",
    "          ax=ax,\n",
    "          figsize = (16,7),\n",
    "          legend = True,\n",
    "          alpha =0.5,\n",
    "          bins = 10,\n",
    "          label = 'Smart',\n",
    "          title = 'Процент выручки от доп. Гб от общей ')\n",
    ")\n",
    "ax.set_xlabel('Сумма выручки сверх тарифа, %')\n",
    "ax.set_ylabel('Частота')\n",
    "ax.set_xticks(np.arange(0, max(gb['gb_part']+5), 2.5));"
   ]
  },
  {
   "cell_type": "markdown",
   "metadata": {},
   "source": [
    "> ***Пользователи тарифа Smart***"
   ]
  },
  {
   "cell_type": "markdown",
   "metadata": {},
   "source": [
    "- Распределение широкое;\n",
    "- Большой процент тех, у кого плата за доп.Гб достигает от **40 до 80 %** от общей выручки,а так же от **25 до 33 %**;\n",
    "- Из-за высокого значения отношения стоимости доп.Гб к цене самого тарифа, нет пользователей которые платят **менее 10%** от общей выручки.\n",
    "- Встречаются пользователи, которые платят практически **80-87,5%** от общего за доп.Гб."
   ]
  },
  {
   "cell_type": "markdown",
   "metadata": {},
   "source": [
    "> ***Пользователи тарифа Ultra***"
   ]
  },
  {
   "cell_type": "markdown",
   "metadata": {},
   "source": [
    "- Гораздо меньший процент пользователей данного тарифа переплачивает за доп.Гб. Естественно, это связано в первую очередь с тем, что в тариф включен гораздо бОльший объем интернет-трафика изначально;\n",
    "- Стартовый процент переплаты за доп.Гб ниже,чем у пользователей тарифа Смарт, что связано с тем, что отношение цены за доп.Гб к общей выручке у них ниже, чем у тарифа Смарт;\n",
    "- Распределение более всего напоминает биномиальное, встречаются стратифицированнеы группы с разным количеством процентых соотношений;\n",
    "- Распределение находится в диапазоне от **7,5 до 50%**;\n",
    "- Можно разделить их на условные приблизительно равные группы тех, кто тратит в районе **10-25%** и **37-50%**, однако вторых всё же меньше."
   ]
  },
  {
   "cell_type": "markdown",
   "metadata": {},
   "source": [
    "## Общий вывод"
   ]
  },
  {
   "cell_type": "markdown",
   "metadata": {},
   "source": [
    "> ****Гипотезы****"
   ]
  },
  {
   "cell_type": "markdown",
   "metadata": {},
   "source": [
    " - Можно сделать вывод о том, что выручка с пользователей в Москве и других городах скорее **одинаковая**;\n",
    " - Однако, среднемесячная выручка с тарифов **различается**."
   ]
  },
  {
   "cell_type": "markdown",
   "metadata": {},
   "source": [
    "> ****Выводы по гистрограммам услуг****"
   ]
  },
  {
   "cell_type": "markdown",
   "metadata": {},
   "source": [
    "- Пользователи тарифа **Смарт** тратят деньги на доп.услуги сверх тарифа гораздо чаще,нежели пользователи тарифа **Ультра**;\n",
    "- Большую часть выручки сверх тарифа для обоих тарифов приносит **доп.Гб** - до **80%** в случае тарифа Смарт;\n",
    "- **Дополнительные минуты** так же пользуются спросом у пользователей тарифа **Smart**, прибыль часто может составлять до **40%** от общей выручки;\n",
    "- Пользователи обоих тарифов в гораздо меньшей степени пользуются дополнительными смс сверх месячного лимита и выручка в меньшей степени стостоит из переплаты по данному предложению - **до 10%**;\n",
    "- Пользователи тарифа **Ультра** **не пользуются** доп.услугами по **минутам и смс** всерх тарифа;\n",
    "- Общая среднемесячная выручка с пользователя тарифа **Ultra: 2072 рублей**;\n",
    "- Общая среднемесячная выручка с пользователя тарифа **Smart: 1295 рублей**;\n",
    "- Суммарная выручка с пользователей тарифа **Smart: 2 885 751 рублей**;\n",
    "- Суммарная выручка с пользователей тарифа **Ultra: 2 040 000 рублей**;"
   ]
  }
 ],
 "metadata": {
  "ExecuteTimeLog": [
   {
    "duration": 293,
    "start_time": "2022-01-31T15:12:14.566Z"
   },
   {
    "duration": 1485,
    "start_time": "2022-01-31T15:12:20.638Z"
   },
   {
    "duration": 923,
    "start_time": "2022-01-31T15:12:32.700Z"
   },
   {
    "duration": 635,
    "start_time": "2022-01-31T15:12:44.886Z"
   },
   {
    "duration": 41,
    "start_time": "2022-01-31T15:13:42.501Z"
   },
   {
    "duration": 87,
    "start_time": "2022-01-31T15:14:23.718Z"
   },
   {
    "duration": 244,
    "start_time": "2022-01-31T15:15:24.498Z"
   },
   {
    "duration": 232,
    "start_time": "2022-01-31T15:15:42.298Z"
   },
   {
    "duration": 236,
    "start_time": "2022-01-31T15:16:08.118Z"
   },
   {
    "duration": 1415,
    "start_time": "2022-01-31T15:17:06.275Z"
   },
   {
    "duration": 3,
    "start_time": "2022-01-31T15:17:07.693Z"
   },
   {
    "duration": 581,
    "start_time": "2022-01-31T15:17:07.699Z"
   },
   {
    "duration": 43,
    "start_time": "2022-01-31T15:17:08.283Z"
   },
   {
    "duration": 39,
    "start_time": "2022-01-31T15:17:08.329Z"
   },
   {
    "duration": 20,
    "start_time": "2022-01-31T15:17:08.370Z"
   },
   {
    "duration": 70,
    "start_time": "2022-01-31T15:17:08.392Z"
   },
   {
    "duration": 22,
    "start_time": "2022-01-31T15:17:08.464Z"
   },
   {
    "duration": 40,
    "start_time": "2022-01-31T15:17:21.439Z"
   },
   {
    "duration": 12,
    "start_time": "2022-01-31T15:31:55.952Z"
   },
   {
    "duration": 26,
    "start_time": "2022-01-31T15:33:55.536Z"
   },
   {
    "duration": 56,
    "start_time": "2022-01-31T15:33:59.937Z"
   },
   {
    "duration": 1494,
    "start_time": "2022-01-31T15:39:46.623Z"
   },
   {
    "duration": 3,
    "start_time": "2022-01-31T15:39:48.120Z"
   },
   {
    "duration": 498,
    "start_time": "2022-01-31T15:39:48.126Z"
   },
   {
    "duration": 75,
    "start_time": "2022-01-31T15:39:48.626Z"
   },
   {
    "duration": 74,
    "start_time": "2022-01-31T15:39:48.703Z"
   },
   {
    "duration": 35,
    "start_time": "2022-01-31T15:39:48.779Z"
   },
   {
    "duration": 76,
    "start_time": "2022-01-31T15:39:48.817Z"
   },
   {
    "duration": 57,
    "start_time": "2022-01-31T15:39:48.895Z"
   },
   {
    "duration": 39,
    "start_time": "2022-01-31T15:41:26.817Z"
   },
   {
    "duration": 69,
    "start_time": "2022-01-31T15:41:49.574Z"
   },
   {
    "duration": 1621,
    "start_time": "2022-01-31T15:42:36.927Z"
   },
   {
    "duration": 512,
    "start_time": "2022-01-31T15:42:38.552Z"
   },
   {
    "duration": 72,
    "start_time": "2022-01-31T15:42:39.067Z"
   },
   {
    "duration": 70,
    "start_time": "2022-01-31T15:42:39.142Z"
   },
   {
    "duration": 60,
    "start_time": "2022-01-31T15:42:39.215Z"
   },
   {
    "duration": 83,
    "start_time": "2022-01-31T15:42:39.277Z"
   },
   {
    "duration": 40,
    "start_time": "2022-01-31T15:42:39.362Z"
   },
   {
    "duration": 4,
    "start_time": "2022-01-31T15:45:10.282Z"
   },
   {
    "duration": 4,
    "start_time": "2022-01-31T15:49:03.252Z"
   },
   {
    "duration": 72,
    "start_time": "2022-01-31T15:50:35.947Z"
   },
   {
    "duration": 76,
    "start_time": "2022-01-31T15:54:19.093Z"
   },
   {
    "duration": 25,
    "start_time": "2022-01-31T15:58:40.243Z"
   },
   {
    "duration": 52,
    "start_time": "2022-01-31T16:00:06.545Z"
   },
   {
    "duration": 42,
    "start_time": "2022-01-31T16:02:53.065Z"
   },
   {
    "duration": 25,
    "start_time": "2022-01-31T16:07:45.298Z"
   },
   {
    "duration": 18,
    "start_time": "2022-01-31T16:08:04.024Z"
   },
   {
    "duration": 498,
    "start_time": "2022-01-31T16:14:42.442Z"
   },
   {
    "duration": 6,
    "start_time": "2022-01-31T16:20:21.486Z"
   },
   {
    "duration": 15,
    "start_time": "2022-01-31T16:20:31.676Z"
   },
   {
    "duration": 14,
    "start_time": "2022-01-31T16:20:42.913Z"
   },
   {
    "duration": 13,
    "start_time": "2022-01-31T16:20:48.645Z"
   },
   {
    "duration": 15,
    "start_time": "2022-01-31T16:21:33.573Z"
   },
   {
    "duration": 288,
    "start_time": "2022-01-31T16:26:05.326Z"
   },
   {
    "duration": 1959,
    "start_time": "2022-01-31T16:26:12.450Z"
   },
   {
    "duration": 858,
    "start_time": "2022-01-31T16:26:14.413Z"
   },
   {
    "duration": 89,
    "start_time": "2022-01-31T16:26:15.275Z"
   },
   {
    "duration": 42,
    "start_time": "2022-01-31T16:26:15.368Z"
   },
   {
    "duration": 86,
    "start_time": "2022-01-31T16:26:15.414Z"
   },
   {
    "duration": 61,
    "start_time": "2022-01-31T16:26:15.504Z"
   },
   {
    "duration": 26,
    "start_time": "2022-01-31T16:26:15.569Z"
   },
   {
    "duration": 78,
    "start_time": "2022-01-31T16:26:15.598Z"
   },
   {
    "duration": 374,
    "start_time": "2022-01-31T16:26:15.679Z"
   },
   {
    "duration": 248,
    "start_time": "2022-01-31T16:26:40.819Z"
   },
   {
    "duration": 370,
    "start_time": "2022-01-31T16:26:50.140Z"
   },
   {
    "duration": 14,
    "start_time": "2022-01-31T16:35:20.444Z"
   },
   {
    "duration": 14,
    "start_time": "2022-01-31T16:35:36.269Z"
   },
   {
    "duration": 520,
    "start_time": "2022-01-31T16:36:57.396Z"
   },
   {
    "duration": 315,
    "start_time": "2022-01-31T16:37:11.527Z"
   },
   {
    "duration": 440,
    "start_time": "2022-01-31T16:37:26.200Z"
   },
   {
    "duration": 488,
    "start_time": "2022-01-31T16:38:09.872Z"
   },
   {
    "duration": 478,
    "start_time": "2022-01-31T16:38:25.055Z"
   },
   {
    "duration": 636,
    "start_time": "2022-01-31T16:38:32.238Z"
   },
   {
    "duration": 583,
    "start_time": "2022-01-31T16:39:31.394Z"
   },
   {
    "duration": 501,
    "start_time": "2022-01-31T16:39:37.698Z"
   },
   {
    "duration": 501,
    "start_time": "2022-01-31T16:39:42.938Z"
   },
   {
    "duration": 529,
    "start_time": "2022-01-31T16:39:47.942Z"
   },
   {
    "duration": 563,
    "start_time": "2022-01-31T16:40:42.092Z"
   },
   {
    "duration": 535,
    "start_time": "2022-01-31T16:41:28.244Z"
   },
   {
    "duration": 547,
    "start_time": "2022-01-31T16:42:10.745Z"
   },
   {
    "duration": 536,
    "start_time": "2022-01-31T16:42:44.480Z"
   },
   {
    "duration": 547,
    "start_time": "2022-01-31T16:43:04.395Z"
   },
   {
    "duration": 529,
    "start_time": "2022-01-31T16:43:35.207Z"
   },
   {
    "duration": 560,
    "start_time": "2022-01-31T16:43:46.877Z"
   },
   {
    "duration": 641,
    "start_time": "2022-01-31T16:44:45.635Z"
   },
   {
    "duration": 1387,
    "start_time": "2022-01-31T16:44:53.757Z"
   },
   {
    "duration": 509,
    "start_time": "2022-01-31T16:44:55.149Z"
   },
   {
    "duration": 58,
    "start_time": "2022-01-31T16:44:55.661Z"
   },
   {
    "duration": 49,
    "start_time": "2022-01-31T16:44:55.722Z"
   },
   {
    "duration": 43,
    "start_time": "2022-01-31T16:44:55.773Z"
   },
   {
    "duration": 45,
    "start_time": "2022-01-31T16:44:55.819Z"
   },
   {
    "duration": 17,
    "start_time": "2022-01-31T16:44:55.866Z"
   },
   {
    "duration": 70,
    "start_time": "2022-01-31T16:44:55.886Z"
   },
   {
    "duration": 14,
    "start_time": "2022-01-31T16:44:55.959Z"
   },
   {
    "duration": 581,
    "start_time": "2022-01-31T16:44:55.975Z"
   },
   {
    "duration": 555,
    "start_time": "2022-01-31T16:45:14.997Z"
   },
   {
    "duration": 564,
    "start_time": "2022-01-31T16:45:24.485Z"
   },
   {
    "duration": 571,
    "start_time": "2022-01-31T16:46:13.180Z"
   },
   {
    "duration": 539,
    "start_time": "2022-01-31T16:46:56.152Z"
   },
   {
    "duration": 623,
    "start_time": "2022-01-31T16:54:22.150Z"
   },
   {
    "duration": 1456,
    "start_time": "2022-01-31T16:54:29.378Z"
   },
   {
    "duration": 527,
    "start_time": "2022-01-31T16:54:30.837Z"
   },
   {
    "duration": 57,
    "start_time": "2022-01-31T16:54:31.367Z"
   },
   {
    "duration": 37,
    "start_time": "2022-01-31T16:54:31.427Z"
   },
   {
    "duration": 45,
    "start_time": "2022-01-31T16:54:31.467Z"
   },
   {
    "duration": 51,
    "start_time": "2022-01-31T16:54:31.515Z"
   },
   {
    "duration": 15,
    "start_time": "2022-01-31T16:54:31.569Z"
   },
   {
    "duration": 71,
    "start_time": "2022-01-31T16:54:31.589Z"
   },
   {
    "duration": 12,
    "start_time": "2022-01-31T16:54:31.663Z"
   },
   {
    "duration": 590,
    "start_time": "2022-01-31T16:54:31.677Z"
   },
   {
    "duration": 578,
    "start_time": "2022-01-31T16:54:32.270Z"
   },
   {
    "duration": 512,
    "start_time": "2022-01-31T17:03:13.076Z"
   },
   {
    "duration": 441,
    "start_time": "2022-01-31T17:03:41.061Z"
   },
   {
    "duration": 435,
    "start_time": "2022-01-31T17:03:47.613Z"
   },
   {
    "duration": 394,
    "start_time": "2022-01-31T17:04:13.126Z"
   },
   {
    "duration": 1376,
    "start_time": "2022-01-31T17:04:19.979Z"
   },
   {
    "duration": 544,
    "start_time": "2022-01-31T17:04:21.358Z"
   },
   {
    "duration": 61,
    "start_time": "2022-01-31T17:04:21.906Z"
   },
   {
    "duration": 27,
    "start_time": "2022-01-31T17:04:21.970Z"
   },
   {
    "duration": 79,
    "start_time": "2022-01-31T17:04:22.000Z"
   },
   {
    "duration": 27,
    "start_time": "2022-01-31T17:04:22.081Z"
   },
   {
    "duration": 43,
    "start_time": "2022-01-31T17:04:22.111Z"
   },
   {
    "duration": 46,
    "start_time": "2022-01-31T17:04:22.158Z"
   },
   {
    "duration": 43,
    "start_time": "2022-01-31T17:04:22.207Z"
   },
   {
    "duration": 967,
    "start_time": "2022-01-31T17:04:22.254Z"
   },
   {
    "duration": 446,
    "start_time": "2022-01-31T17:04:23.224Z"
   },
   {
    "duration": 597,
    "start_time": "2022-01-31T17:04:23.673Z"
   },
   {
    "duration": 1566,
    "start_time": "2022-01-31T17:05:58.257Z"
   },
   {
    "duration": 549,
    "start_time": "2022-01-31T17:05:59.826Z"
   },
   {
    "duration": 63,
    "start_time": "2022-01-31T17:06:00.378Z"
   },
   {
    "duration": 27,
    "start_time": "2022-01-31T17:06:00.444Z"
   },
   {
    "duration": 50,
    "start_time": "2022-01-31T17:06:00.473Z"
   },
   {
    "duration": 49,
    "start_time": "2022-01-31T17:06:00.526Z"
   },
   {
    "duration": 17,
    "start_time": "2022-01-31T17:06:00.577Z"
   },
   {
    "duration": 78,
    "start_time": "2022-01-31T17:06:00.596Z"
   },
   {
    "duration": 31,
    "start_time": "2022-01-31T17:06:00.678Z"
   },
   {
    "duration": 597,
    "start_time": "2022-01-31T17:06:00.712Z"
   },
   {
    "duration": 441,
    "start_time": "2022-01-31T17:06:01.312Z"
   },
   {
    "duration": 603,
    "start_time": "2022-01-31T17:06:01.756Z"
   },
   {
    "duration": 411,
    "start_time": "2022-01-31T17:06:16.764Z"
   },
   {
    "duration": 6,
    "start_time": "2022-01-31T17:20:44.134Z"
   },
   {
    "duration": 15,
    "start_time": "2022-01-31T17:25:25.118Z"
   },
   {
    "duration": 11,
    "start_time": "2022-01-31T17:27:16.328Z"
   },
   {
    "duration": 4,
    "start_time": "2022-01-31T17:27:27.451Z"
   },
   {
    "duration": 412,
    "start_time": "2022-01-31T17:29:07.715Z"
   },
   {
    "duration": 231,
    "start_time": "2022-01-31T17:29:47.397Z"
   },
   {
    "duration": 1982,
    "start_time": "2022-01-31T17:32:33.020Z"
   },
   {
    "duration": 553,
    "start_time": "2022-01-31T17:32:35.007Z"
   },
   {
    "duration": 62,
    "start_time": "2022-01-31T17:32:35.564Z"
   },
   {
    "duration": 43,
    "start_time": "2022-01-31T17:32:35.629Z"
   },
   {
    "duration": 73,
    "start_time": "2022-01-31T17:32:35.675Z"
   },
   {
    "duration": 28,
    "start_time": "2022-01-31T17:32:35.751Z"
   },
   {
    "duration": 18,
    "start_time": "2022-01-31T17:32:35.782Z"
   },
   {
    "duration": 76,
    "start_time": "2022-01-31T17:32:35.804Z"
   },
   {
    "duration": 75,
    "start_time": "2022-01-31T17:32:35.884Z"
   },
   {
    "duration": 420,
    "start_time": "2022-01-31T17:32:35.541Z"
   },
   {
    "duration": 419,
    "start_time": "2022-01-31T17:32:35.544Z"
   },
   {
    "duration": 416,
    "start_time": "2022-01-31T17:32:35.548Z"
   },
   {
    "duration": 416,
    "start_time": "2022-01-31T17:32:35.550Z"
   },
   {
    "duration": 417,
    "start_time": "2022-01-31T17:32:35.551Z"
   },
   {
    "duration": 1107,
    "start_time": "2022-01-31T17:36:11.792Z"
   },
   {
    "duration": 22,
    "start_time": "2022-01-31T17:36:31.476Z"
   },
   {
    "duration": 34,
    "start_time": "2022-01-31T17:36:50.436Z"
   },
   {
    "duration": 950,
    "start_time": "2022-01-31T17:37:11.708Z"
   },
   {
    "duration": 1065,
    "start_time": "2022-01-31T17:38:09.384Z"
   },
   {
    "duration": 28,
    "start_time": "2022-01-31T17:40:40.239Z"
   },
   {
    "duration": 16,
    "start_time": "2022-01-31T17:41:02.754Z"
   },
   {
    "duration": 30,
    "start_time": "2022-01-31T17:41:43.794Z"
   },
   {
    "duration": 25,
    "start_time": "2022-01-31T17:41:47.530Z"
   },
   {
    "duration": 28,
    "start_time": "2022-01-31T17:41:58.434Z"
   },
   {
    "duration": 15,
    "start_time": "2022-01-31T17:42:01.677Z"
   },
   {
    "duration": 1494,
    "start_time": "2022-01-31T17:42:13.711Z"
   },
   {
    "duration": 1210,
    "start_time": "2022-01-31T17:42:15.209Z"
   },
   {
    "duration": 58,
    "start_time": "2022-01-31T17:42:16.422Z"
   },
   {
    "duration": 27,
    "start_time": "2022-01-31T17:42:16.483Z"
   },
   {
    "duration": 70,
    "start_time": "2022-01-31T17:42:16.512Z"
   },
   {
    "duration": 25,
    "start_time": "2022-01-31T17:42:16.585Z"
   },
   {
    "duration": 47,
    "start_time": "2022-01-31T17:42:16.613Z"
   },
   {
    "duration": 38,
    "start_time": "2022-01-31T17:42:16.663Z"
   },
   {
    "duration": 104,
    "start_time": "2022-01-31T17:42:16.704Z"
   },
   {
    "duration": 15,
    "start_time": "2022-01-31T17:42:16.810Z"
   },
   {
    "duration": 614,
    "start_time": "2022-01-31T17:42:16.827Z"
   },
   {
    "duration": 429,
    "start_time": "2022-01-31T17:42:17.443Z"
   },
   {
    "duration": 559,
    "start_time": "2022-01-31T17:42:17.875Z"
   },
   {
    "duration": 23,
    "start_time": "2022-01-31T17:42:18.437Z"
   },
   {
    "duration": 473,
    "start_time": "2022-01-31T17:42:18.462Z"
   },
   {
    "duration": 45,
    "start_time": "2022-01-31T17:42:25.270Z"
   },
   {
    "duration": 14,
    "start_time": "2022-01-31T17:42:28.735Z"
   },
   {
    "duration": 9,
    "start_time": "2022-01-31T17:42:37.631Z"
   },
   {
    "duration": 27,
    "start_time": "2022-01-31T17:42:51.258Z"
   },
   {
    "duration": 8,
    "start_time": "2022-01-31T17:42:54.432Z"
   },
   {
    "duration": 79,
    "start_time": "2022-01-31T17:49:10.147Z"
   },
   {
    "duration": 257,
    "start_time": "2022-01-31T17:49:25.628Z"
   },
   {
    "duration": 254,
    "start_time": "2022-01-31T17:50:25.659Z"
   },
   {
    "duration": 21,
    "start_time": "2022-01-31T17:50:37.045Z"
   },
   {
    "duration": 47,
    "start_time": "2022-01-31T17:53:29.386Z"
   },
   {
    "duration": 928,
    "start_time": "2022-01-31T17:53:36.764Z"
   },
   {
    "duration": 1100,
    "start_time": "2022-01-31T17:53:44.126Z"
   },
   {
    "duration": 491,
    "start_time": "2022-01-31T17:55:08.647Z"
   },
   {
    "duration": 1507,
    "start_time": "2022-01-31T17:55:30.221Z"
   },
   {
    "duration": 539,
    "start_time": "2022-01-31T17:55:31.732Z"
   },
   {
    "duration": 89,
    "start_time": "2022-01-31T17:55:32.275Z"
   },
   {
    "duration": 28,
    "start_time": "2022-01-31T17:55:32.367Z"
   },
   {
    "duration": 92,
    "start_time": "2022-01-31T17:55:32.398Z"
   },
   {
    "duration": 57,
    "start_time": "2022-01-31T17:55:32.493Z"
   },
   {
    "duration": 19,
    "start_time": "2022-01-31T17:55:32.552Z"
   },
   {
    "duration": 80,
    "start_time": "2022-01-31T17:55:32.574Z"
   },
   {
    "duration": 127,
    "start_time": "2022-01-31T17:55:32.659Z"
   },
   {
    "duration": 10,
    "start_time": "2022-01-31T17:55:32.789Z"
   },
   {
    "duration": 595,
    "start_time": "2022-01-31T17:55:32.801Z"
   },
   {
    "duration": 436,
    "start_time": "2022-01-31T17:55:33.399Z"
   },
   {
    "duration": 607,
    "start_time": "2022-01-31T17:55:33.837Z"
   },
   {
    "duration": 14,
    "start_time": "2022-01-31T17:55:34.449Z"
   },
   {
    "duration": 51,
    "start_time": "2022-01-31T17:55:34.466Z"
   },
   {
    "duration": 869,
    "start_time": "2022-01-31T17:55:50.051Z"
   },
   {
    "duration": 15,
    "start_time": "2022-01-31T17:55:59.710Z"
   },
   {
    "duration": 2044,
    "start_time": "2022-01-31T17:56:17.844Z"
   },
   {
    "duration": 891,
    "start_time": "2022-01-31T17:56:19.892Z"
   },
   {
    "duration": 60,
    "start_time": "2022-01-31T17:56:20.787Z"
   },
   {
    "duration": 35,
    "start_time": "2022-01-31T17:56:20.850Z"
   },
   {
    "duration": 88,
    "start_time": "2022-01-31T17:56:20.889Z"
   },
   {
    "duration": 39,
    "start_time": "2022-01-31T17:56:20.980Z"
   },
   {
    "duration": 41,
    "start_time": "2022-01-31T17:56:21.021Z"
   },
   {
    "duration": 90,
    "start_time": "2022-01-31T17:56:21.065Z"
   },
   {
    "duration": 100,
    "start_time": "2022-01-31T17:56:21.159Z"
   },
   {
    "duration": 8,
    "start_time": "2022-01-31T17:56:21.263Z"
   },
   {
    "duration": 596,
    "start_time": "2022-01-31T17:56:21.274Z"
   },
   {
    "duration": 457,
    "start_time": "2022-01-31T17:56:21.874Z"
   },
   {
    "duration": 582,
    "start_time": "2022-01-31T17:56:22.334Z"
   },
   {
    "duration": 6,
    "start_time": "2022-01-31T17:56:22.918Z"
   },
   {
    "duration": 104,
    "start_time": "2022-01-31T17:56:22.927Z"
   },
   {
    "duration": 20,
    "start_time": "2022-01-31T17:56:23.034Z"
   },
   {
    "duration": 2185,
    "start_time": "2022-01-31T17:58:13.205Z"
   },
   {
    "duration": 521,
    "start_time": "2022-01-31T17:58:15.393Z"
   },
   {
    "duration": 60,
    "start_time": "2022-01-31T17:58:15.918Z"
   },
   {
    "duration": 27,
    "start_time": "2022-01-31T17:58:15.981Z"
   },
   {
    "duration": 74,
    "start_time": "2022-01-31T17:58:16.011Z"
   },
   {
    "duration": 25,
    "start_time": "2022-01-31T17:58:16.087Z"
   },
   {
    "duration": 45,
    "start_time": "2022-01-31T17:58:16.114Z"
   },
   {
    "duration": 60,
    "start_time": "2022-01-31T17:58:16.164Z"
   },
   {
    "duration": 603,
    "start_time": "2022-01-31T17:58:16.227Z"
   },
   {
    "duration": 433,
    "start_time": "2022-01-31T17:58:16.400Z"
   },
   {
    "duration": 427,
    "start_time": "2022-01-31T17:58:16.408Z"
   },
   {
    "duration": 427,
    "start_time": "2022-01-31T17:58:16.410Z"
   },
   {
    "duration": 427,
    "start_time": "2022-01-31T17:58:16.412Z"
   },
   {
    "duration": 426,
    "start_time": "2022-01-31T17:58:16.414Z"
   },
   {
    "duration": 426,
    "start_time": "2022-01-31T17:58:16.416Z"
   },
   {
    "duration": 422,
    "start_time": "2022-01-31T17:58:16.421Z"
   },
   {
    "duration": 309,
    "start_time": "2022-01-31T17:58:34.498Z"
   },
   {
    "duration": 1507,
    "start_time": "2022-01-31T18:00:14.813Z"
   },
   {
    "duration": 525,
    "start_time": "2022-01-31T18:00:16.323Z"
   },
   {
    "duration": 57,
    "start_time": "2022-01-31T18:00:16.854Z"
   },
   {
    "duration": 50,
    "start_time": "2022-01-31T18:00:16.914Z"
   },
   {
    "duration": 42,
    "start_time": "2022-01-31T18:00:16.967Z"
   },
   {
    "duration": 51,
    "start_time": "2022-01-31T18:00:17.011Z"
   },
   {
    "duration": 17,
    "start_time": "2022-01-31T18:00:17.065Z"
   },
   {
    "duration": 82,
    "start_time": "2022-01-31T18:00:17.087Z"
   },
   {
    "duration": 120,
    "start_time": "2022-01-31T18:00:17.173Z"
   },
   {
    "duration": 602,
    "start_time": "2022-01-31T18:00:17.296Z"
   },
   {
    "duration": 441,
    "start_time": "2022-01-31T18:00:17.900Z"
   },
   {
    "duration": 601,
    "start_time": "2022-01-31T18:00:18.347Z"
   },
   {
    "duration": 6,
    "start_time": "2022-01-31T18:00:18.950Z"
   },
   {
    "duration": 63,
    "start_time": "2022-01-31T18:00:18.959Z"
   },
   {
    "duration": 26,
    "start_time": "2022-01-31T18:00:19.024Z"
   },
   {
    "duration": 18,
    "start_time": "2022-01-31T18:02:41.860Z"
   },
   {
    "duration": 55,
    "start_time": "2022-01-31T18:04:44.669Z"
   },
   {
    "duration": 311,
    "start_time": "2022-01-31T18:06:21.157Z"
   },
   {
    "duration": 634,
    "start_time": "2022-01-31T18:06:46.796Z"
   },
   {
    "duration": 340,
    "start_time": "2022-01-31T18:06:56.473Z"
   },
   {
    "duration": 347,
    "start_time": "2022-01-31T18:07:07.316Z"
   },
   {
    "duration": 2268,
    "start_time": "2022-01-31T18:07:17.337Z"
   },
   {
    "duration": 1199,
    "start_time": "2022-01-31T18:07:27.745Z"
   },
   {
    "duration": 1346,
    "start_time": "2022-01-31T18:07:44.021Z"
   },
   {
    "duration": 1465,
    "start_time": "2022-01-31T18:07:50.362Z"
   },
   {
    "duration": 1495,
    "start_time": "2022-01-31T18:08:05.587Z"
   },
   {
    "duration": 1383,
    "start_time": "2022-01-31T18:08:15.679Z"
   },
   {
    "duration": 1096,
    "start_time": "2022-01-31T18:08:24.590Z"
   },
   {
    "duration": 760,
    "start_time": "2022-01-31T18:08:33.088Z"
   },
   {
    "duration": 928,
    "start_time": "2022-01-31T18:10:43.015Z"
   },
   {
    "duration": 615,
    "start_time": "2022-01-31T18:10:57.873Z"
   },
   {
    "duration": 1023,
    "start_time": "2022-01-31T18:11:03.918Z"
   },
   {
    "duration": 836,
    "start_time": "2022-01-31T18:11:10.112Z"
   },
   {
    "duration": 1031,
    "start_time": "2022-01-31T18:11:16.069Z"
   },
   {
    "duration": 630,
    "start_time": "2022-01-31T18:11:25.469Z"
   },
   {
    "duration": 638,
    "start_time": "2022-01-31T18:11:44.480Z"
   },
   {
    "duration": 895,
    "start_time": "2022-01-31T18:11:56.321Z"
   },
   {
    "duration": 646,
    "start_time": "2022-01-31T18:12:06.268Z"
   },
   {
    "duration": 28,
    "start_time": "2022-01-31T18:46:31.229Z"
   },
   {
    "duration": 6193,
    "start_time": "2022-01-31T18:52:46.889Z"
   },
   {
    "duration": 32,
    "start_time": "2022-01-31T18:52:57.875Z"
   },
   {
    "duration": 1441,
    "start_time": "2022-01-31T18:53:14.676Z"
   },
   {
    "duration": 546,
    "start_time": "2022-01-31T18:54:05.819Z"
   },
   {
    "duration": 247,
    "start_time": "2022-01-31T18:54:18.939Z"
   },
   {
    "duration": 1707,
    "start_time": "2022-01-31T18:54:26.666Z"
   },
   {
    "duration": 563,
    "start_time": "2022-01-31T18:54:28.380Z"
   },
   {
    "duration": 59,
    "start_time": "2022-01-31T18:54:28.946Z"
   },
   {
    "duration": 45,
    "start_time": "2022-01-31T18:54:29.007Z"
   },
   {
    "duration": 55,
    "start_time": "2022-01-31T18:54:29.055Z"
   },
   {
    "duration": 47,
    "start_time": "2022-01-31T18:54:29.113Z"
   },
   {
    "duration": 34,
    "start_time": "2022-01-31T18:54:29.164Z"
   },
   {
    "duration": 53,
    "start_time": "2022-01-31T18:54:29.201Z"
   },
   {
    "duration": 141,
    "start_time": "2022-01-31T18:54:29.256Z"
   },
   {
    "duration": 1285,
    "start_time": "2022-01-31T18:54:29.400Z"
   },
   {
    "duration": 522,
    "start_time": "2022-01-31T18:54:30.688Z"
   },
   {
    "duration": 598,
    "start_time": "2022-01-31T18:54:31.213Z"
   },
   {
    "duration": 7,
    "start_time": "2022-01-31T18:54:31.814Z"
   },
   {
    "duration": 80,
    "start_time": "2022-01-31T18:54:31.823Z"
   },
   {
    "duration": 13,
    "start_time": "2022-01-31T18:54:31.906Z"
   },
   {
    "duration": 126,
    "start_time": "2022-01-31T18:54:31.922Z"
   },
   {
    "duration": 467,
    "start_time": "2022-01-31T18:54:31.584Z"
   },
   {
    "duration": 467,
    "start_time": "2022-01-31T18:54:31.586Z"
   },
   {
    "duration": 464,
    "start_time": "2022-01-31T18:54:31.591Z"
   },
   {
    "duration": 376,
    "start_time": "2022-01-31T18:54:43.643Z"
   },
   {
    "duration": 234,
    "start_time": "2022-01-31T18:54:52.664Z"
   },
   {
    "duration": 1576,
    "start_time": "2022-01-31T18:55:02.973Z"
   },
   {
    "duration": 603,
    "start_time": "2022-01-31T18:55:04.553Z"
   },
   {
    "duration": 64,
    "start_time": "2022-01-31T18:55:05.159Z"
   },
   {
    "duration": 44,
    "start_time": "2022-01-31T18:55:05.227Z"
   },
   {
    "duration": 81,
    "start_time": "2022-01-31T18:55:05.275Z"
   },
   {
    "duration": 36,
    "start_time": "2022-01-31T18:55:05.359Z"
   },
   {
    "duration": 53,
    "start_time": "2022-01-31T18:55:05.398Z"
   },
   {
    "duration": 34,
    "start_time": "2022-01-31T18:55:05.456Z"
   },
   {
    "duration": 126,
    "start_time": "2022-01-31T18:55:05.493Z"
   },
   {
    "duration": 642,
    "start_time": "2022-01-31T18:55:05.621Z"
   },
   {
    "duration": 561,
    "start_time": "2022-01-31T18:55:06.266Z"
   },
   {
    "duration": 623,
    "start_time": "2022-01-31T18:55:06.831Z"
   },
   {
    "duration": 7,
    "start_time": "2022-01-31T18:55:07.457Z"
   },
   {
    "duration": 102,
    "start_time": "2022-01-31T18:55:07.467Z"
   },
   {
    "duration": 18,
    "start_time": "2022-01-31T18:55:07.573Z"
   },
   {
    "duration": 138,
    "start_time": "2022-01-31T18:55:07.594Z"
   },
   {
    "duration": 466,
    "start_time": "2022-01-31T18:55:07.269Z"
   },
   {
    "duration": 466,
    "start_time": "2022-01-31T18:55:07.271Z"
   },
   {
    "duration": 466,
    "start_time": "2022-01-31T18:55:07.273Z"
   },
   {
    "duration": 465,
    "start_time": "2022-01-31T18:55:07.275Z"
   },
   {
    "duration": 1479,
    "start_time": "2022-01-31T18:55:27.233Z"
   },
   {
    "duration": 504,
    "start_time": "2022-01-31T18:55:28.715Z"
   },
   {
    "duration": 58,
    "start_time": "2022-01-31T18:55:29.222Z"
   },
   {
    "duration": 26,
    "start_time": "2022-01-31T18:55:29.283Z"
   },
   {
    "duration": 91,
    "start_time": "2022-01-31T18:55:29.312Z"
   },
   {
    "duration": 61,
    "start_time": "2022-01-31T18:55:29.406Z"
   },
   {
    "duration": 78,
    "start_time": "2022-01-31T18:55:29.473Z"
   },
   {
    "duration": 32,
    "start_time": "2022-01-31T18:55:29.553Z"
   },
   {
    "duration": 269,
    "start_time": "2022-01-31T18:55:29.588Z"
   },
   {
    "duration": 918,
    "start_time": "2022-01-31T18:55:29.860Z"
   },
   {
    "duration": 634,
    "start_time": "2022-01-31T18:55:30.782Z"
   },
   {
    "duration": 848,
    "start_time": "2022-01-31T18:55:31.420Z"
   },
   {
    "duration": 6,
    "start_time": "2022-01-31T18:55:32.271Z"
   },
   {
    "duration": 80,
    "start_time": "2022-01-31T18:55:32.280Z"
   },
   {
    "duration": 13,
    "start_time": "2022-01-31T18:55:32.363Z"
   },
   {
    "duration": 16,
    "start_time": "2022-01-31T18:55:32.378Z"
   },
   {
    "duration": 702,
    "start_time": "2022-01-31T18:55:32.397Z"
   },
   {
    "duration": 61,
    "start_time": "2022-01-31T18:55:33.102Z"
   },
   {
    "duration": 1482,
    "start_time": "2022-01-31T19:00:13.146Z"
   },
   {
    "duration": 534,
    "start_time": "2022-01-31T19:00:14.631Z"
   },
   {
    "duration": 59,
    "start_time": "2022-01-31T19:00:15.168Z"
   },
   {
    "duration": 41,
    "start_time": "2022-01-31T19:00:15.230Z"
   },
   {
    "duration": 43,
    "start_time": "2022-01-31T19:00:15.274Z"
   },
   {
    "duration": 50,
    "start_time": "2022-01-31T19:00:15.319Z"
   },
   {
    "duration": 16,
    "start_time": "2022-01-31T19:00:15.372Z"
   },
   {
    "duration": 59,
    "start_time": "2022-01-31T19:00:15.392Z"
   },
   {
    "duration": 106,
    "start_time": "2022-01-31T19:00:15.455Z"
   },
   {
    "duration": 556,
    "start_time": "2022-01-31T19:00:15.564Z"
   },
   {
    "duration": 444,
    "start_time": "2022-01-31T19:00:16.124Z"
   },
   {
    "duration": 582,
    "start_time": "2022-01-31T19:00:16.571Z"
   },
   {
    "duration": 7,
    "start_time": "2022-01-31T19:00:17.155Z"
   },
   {
    "duration": 61,
    "start_time": "2022-01-31T19:00:17.164Z"
   },
   {
    "duration": 14,
    "start_time": "2022-01-31T19:00:17.248Z"
   },
   {
    "duration": 11,
    "start_time": "2022-01-31T19:00:17.265Z"
   },
   {
    "duration": 673,
    "start_time": "2022-01-31T19:00:17.278Z"
   },
   {
    "duration": 45,
    "start_time": "2022-01-31T19:00:17.954Z"
   },
   {
    "duration": 83,
    "start_time": "2022-01-31T19:00:18.001Z"
   },
   {
    "duration": 11,
    "start_time": "2022-01-31T19:00:40.545Z"
   },
   {
    "duration": 1451,
    "start_time": "2022-01-31T19:01:22.577Z"
   },
   {
    "duration": 515,
    "start_time": "2022-01-31T19:01:24.031Z"
   },
   {
    "duration": 58,
    "start_time": "2022-01-31T19:01:24.552Z"
   },
   {
    "duration": 50,
    "start_time": "2022-01-31T19:01:24.613Z"
   },
   {
    "duration": 43,
    "start_time": "2022-01-31T19:01:24.666Z"
   },
   {
    "duration": 54,
    "start_time": "2022-01-31T19:01:24.712Z"
   },
   {
    "duration": 16,
    "start_time": "2022-01-31T19:01:24.770Z"
   },
   {
    "duration": 62,
    "start_time": "2022-01-31T19:01:24.789Z"
   },
   {
    "duration": 78,
    "start_time": "2022-01-31T19:01:24.854Z"
   },
   {
    "duration": 568,
    "start_time": "2022-01-31T19:01:24.948Z"
   },
   {
    "duration": 435,
    "start_time": "2022-01-31T19:01:25.518Z"
   },
   {
    "duration": 579,
    "start_time": "2022-01-31T19:01:25.956Z"
   },
   {
    "duration": 14,
    "start_time": "2022-01-31T19:01:26.537Z"
   },
   {
    "duration": 49,
    "start_time": "2022-01-31T19:01:26.554Z"
   },
   {
    "duration": 11,
    "start_time": "2022-01-31T19:01:26.606Z"
   },
   {
    "duration": 3,
    "start_time": "2022-01-31T19:01:26.647Z"
   },
   {
    "duration": 675,
    "start_time": "2022-01-31T19:01:26.652Z"
   },
   {
    "duration": 49,
    "start_time": "2022-01-31T19:01:27.330Z"
   },
   {
    "duration": 10,
    "start_time": "2022-01-31T19:01:27.382Z"
   },
   {
    "duration": 8,
    "start_time": "2022-01-31T19:01:27.394Z"
   },
   {
    "duration": 8,
    "start_time": "2022-01-31T19:05:08.533Z"
   },
   {
    "duration": 582,
    "start_time": "2022-01-31T19:06:08.762Z"
   },
   {
    "duration": 262,
    "start_time": "2022-01-31T19:06:27.254Z"
   },
   {
    "duration": 419,
    "start_time": "2022-01-31T19:08:36.774Z"
   },
   {
    "duration": 1678,
    "start_time": "2022-01-31T19:09:02.067Z"
   },
   {
    "duration": 633,
    "start_time": "2022-01-31T19:09:03.750Z"
   },
   {
    "duration": 60,
    "start_time": "2022-01-31T19:09:04.386Z"
   },
   {
    "duration": 34,
    "start_time": "2022-01-31T19:09:04.450Z"
   },
   {
    "duration": 63,
    "start_time": "2022-01-31T19:09:04.487Z"
   },
   {
    "duration": 35,
    "start_time": "2022-01-31T19:09:04.556Z"
   },
   {
    "duration": 18,
    "start_time": "2022-01-31T19:09:04.594Z"
   },
   {
    "duration": 69,
    "start_time": "2022-01-31T19:09:04.615Z"
   },
   {
    "duration": 118,
    "start_time": "2022-01-31T19:09:04.688Z"
   },
   {
    "duration": 624,
    "start_time": "2022-01-31T19:09:04.809Z"
   },
   {
    "duration": 582,
    "start_time": "2022-01-31T19:09:05.435Z"
   },
   {
    "duration": 798,
    "start_time": "2022-01-31T19:09:06.020Z"
   },
   {
    "duration": 6,
    "start_time": "2022-01-31T19:09:06.821Z"
   },
   {
    "duration": 78,
    "start_time": "2022-01-31T19:09:06.830Z"
   },
   {
    "duration": 13,
    "start_time": "2022-01-31T19:09:06.911Z"
   },
   {
    "duration": 5,
    "start_time": "2022-01-31T19:09:06.958Z"
   },
   {
    "duration": 717,
    "start_time": "2022-01-31T19:09:06.966Z"
   },
   {
    "duration": 42,
    "start_time": "2022-01-31T19:09:07.685Z"
   },
   {
    "duration": 28,
    "start_time": "2022-01-31T19:09:07.730Z"
   },
   {
    "duration": 7,
    "start_time": "2022-01-31T19:09:07.761Z"
   },
   {
    "duration": 85,
    "start_time": "2022-01-31T19:09:07.772Z"
   },
   {
    "duration": 1497,
    "start_time": "2022-01-31T19:09:38.628Z"
   },
   {
    "duration": 543,
    "start_time": "2022-01-31T19:09:40.128Z"
   },
   {
    "duration": 58,
    "start_time": "2022-01-31T19:09:40.674Z"
   },
   {
    "duration": 25,
    "start_time": "2022-01-31T19:09:40.735Z"
   },
   {
    "duration": 62,
    "start_time": "2022-01-31T19:09:40.762Z"
   },
   {
    "duration": 52,
    "start_time": "2022-01-31T19:09:40.828Z"
   },
   {
    "duration": 17,
    "start_time": "2022-01-31T19:09:40.883Z"
   },
   {
    "duration": 60,
    "start_time": "2022-01-31T19:09:40.906Z"
   },
   {
    "duration": 98,
    "start_time": "2022-01-31T19:09:40.969Z"
   },
   {
    "duration": 589,
    "start_time": "2022-01-31T19:09:41.070Z"
   },
   {
    "duration": 442,
    "start_time": "2022-01-31T19:09:41.662Z"
   },
   {
    "duration": 618,
    "start_time": "2022-01-31T19:09:42.107Z"
   },
   {
    "duration": 6,
    "start_time": "2022-01-31T19:09:42.728Z"
   },
   {
    "duration": 56,
    "start_time": "2022-01-31T19:09:42.749Z"
   },
   {
    "duration": 13,
    "start_time": "2022-01-31T19:09:42.807Z"
   },
   {
    "duration": 6,
    "start_time": "2022-01-31T19:09:42.850Z"
   },
   {
    "duration": 796,
    "start_time": "2022-01-31T19:09:42.859Z"
   },
   {
    "duration": 45,
    "start_time": "2022-01-31T19:09:43.658Z"
   },
   {
    "duration": 12,
    "start_time": "2022-01-31T19:09:43.706Z"
   },
   {
    "duration": 30,
    "start_time": "2022-01-31T19:09:43.720Z"
   },
   {
    "duration": 62,
    "start_time": "2022-01-31T19:09:43.753Z"
   },
   {
    "duration": 292,
    "start_time": "2022-01-31T19:10:13.003Z"
   },
   {
    "duration": 221,
    "start_time": "2022-01-31T19:16:13.934Z"
   },
   {
    "duration": 1934,
    "start_time": "2022-01-31T19:16:25.006Z"
   },
   {
    "duration": 740,
    "start_time": "2022-01-31T19:16:26.944Z"
   },
   {
    "duration": 89,
    "start_time": "2022-01-31T19:16:27.688Z"
   },
   {
    "duration": 42,
    "start_time": "2022-01-31T19:16:27.781Z"
   },
   {
    "duration": 66,
    "start_time": "2022-01-31T19:16:27.826Z"
   },
   {
    "duration": 56,
    "start_time": "2022-01-31T19:16:27.894Z"
   },
   {
    "duration": 18,
    "start_time": "2022-01-31T19:16:27.952Z"
   },
   {
    "duration": 27,
    "start_time": "2022-01-31T19:16:27.972Z"
   },
   {
    "duration": 123,
    "start_time": "2022-01-31T19:16:28.002Z"
   },
   {
    "duration": 596,
    "start_time": "2022-01-31T19:16:28.128Z"
   },
   {
    "duration": 450,
    "start_time": "2022-01-31T19:16:28.727Z"
   },
   {
    "duration": 586,
    "start_time": "2022-01-31T19:16:29.180Z"
   },
   {
    "duration": 6,
    "start_time": "2022-01-31T19:16:29.769Z"
   },
   {
    "duration": 77,
    "start_time": "2022-01-31T19:16:29.778Z"
   },
   {
    "duration": 12,
    "start_time": "2022-01-31T19:16:29.858Z"
   },
   {
    "duration": 3,
    "start_time": "2022-01-31T19:16:29.873Z"
   },
   {
    "duration": 732,
    "start_time": "2022-01-31T19:16:29.879Z"
   },
   {
    "duration": 75,
    "start_time": "2022-01-31T19:16:30.615Z"
   },
   {
    "duration": 15,
    "start_time": "2022-01-31T19:16:30.693Z"
   },
   {
    "duration": 15,
    "start_time": "2022-01-31T19:16:30.712Z"
   },
   {
    "duration": 443,
    "start_time": "2022-01-31T19:16:30.729Z"
   },
   {
    "duration": 464,
    "start_time": "2022-01-31T19:16:30.710Z"
   },
   {
    "duration": 258,
    "start_time": "2022-01-31T19:17:07.244Z"
   },
   {
    "duration": 73,
    "start_time": "2022-01-31T19:17:31.605Z"
   },
   {
    "duration": 1639,
    "start_time": "2022-01-31T19:18:55.953Z"
   },
   {
    "duration": 544,
    "start_time": "2022-01-31T19:18:57.595Z"
   },
   {
    "duration": 58,
    "start_time": "2022-01-31T19:18:58.142Z"
   },
   {
    "duration": 48,
    "start_time": "2022-01-31T19:18:58.202Z"
   },
   {
    "duration": 45,
    "start_time": "2022-01-31T19:18:58.253Z"
   },
   {
    "duration": 58,
    "start_time": "2022-01-31T19:18:58.301Z"
   },
   {
    "duration": 18,
    "start_time": "2022-01-31T19:18:58.362Z"
   },
   {
    "duration": 73,
    "start_time": "2022-01-31T19:18:58.383Z"
   },
   {
    "duration": 134,
    "start_time": "2022-01-31T19:18:58.462Z"
   },
   {
    "duration": 932,
    "start_time": "2022-01-31T19:18:58.600Z"
   },
   {
    "duration": 719,
    "start_time": "2022-01-31T19:18:59.535Z"
   },
   {
    "duration": 902,
    "start_time": "2022-01-31T19:19:00.258Z"
   },
   {
    "duration": 8,
    "start_time": "2022-01-31T19:19:01.164Z"
   },
   {
    "duration": 98,
    "start_time": "2022-01-31T19:19:01.175Z"
   },
   {
    "duration": 13,
    "start_time": "2022-01-31T19:19:01.275Z"
   },
   {
    "duration": 16,
    "start_time": "2022-01-31T19:19:01.290Z"
   },
   {
    "duration": 687,
    "start_time": "2022-01-31T19:19:01.309Z"
   },
   {
    "duration": 62,
    "start_time": "2022-01-31T19:19:01.999Z"
   },
   {
    "duration": 12,
    "start_time": "2022-01-31T19:19:02.064Z"
   },
   {
    "duration": 14,
    "start_time": "2022-01-31T19:19:02.079Z"
   },
   {
    "duration": 20,
    "start_time": "2022-01-31T19:19:02.095Z"
   },
   {
    "duration": 17,
    "start_time": "2022-01-31T19:19:02.117Z"
   },
   {
    "duration": 7,
    "start_time": "2022-01-31T19:19:11.715Z"
   },
   {
    "duration": 369,
    "start_time": "2022-01-31T19:19:54.198Z"
   },
   {
    "duration": 2220,
    "start_time": "2022-01-31T19:20:17.169Z"
   },
   {
    "duration": 726,
    "start_time": "2022-01-31T19:20:19.393Z"
   },
   {
    "duration": 88,
    "start_time": "2022-01-31T19:20:20.123Z"
   },
   {
    "duration": 58,
    "start_time": "2022-01-31T19:20:20.214Z"
   },
   {
    "duration": 86,
    "start_time": "2022-01-31T19:20:20.275Z"
   },
   {
    "duration": 39,
    "start_time": "2022-01-31T19:20:20.364Z"
   },
   {
    "duration": 59,
    "start_time": "2022-01-31T19:20:20.406Z"
   },
   {
    "duration": 27,
    "start_time": "2022-01-31T19:20:20.467Z"
   },
   {
    "duration": 153,
    "start_time": "2022-01-31T19:20:20.500Z"
   },
   {
    "duration": 914,
    "start_time": "2022-01-31T19:20:20.657Z"
   },
   {
    "duration": 655,
    "start_time": "2022-01-31T19:20:21.574Z"
   },
   {
    "duration": 876,
    "start_time": "2022-01-31T19:20:22.232Z"
   },
   {
    "duration": 6,
    "start_time": "2022-01-31T19:20:23.111Z"
   },
   {
    "duration": 75,
    "start_time": "2022-01-31T19:20:23.119Z"
   },
   {
    "duration": 13,
    "start_time": "2022-01-31T19:20:23.196Z"
   },
   {
    "duration": 9,
    "start_time": "2022-01-31T19:20:23.211Z"
   },
   {
    "duration": 738,
    "start_time": "2022-01-31T19:20:23.223Z"
   },
   {
    "duration": 45,
    "start_time": "2022-01-31T19:20:23.964Z"
   },
   {
    "duration": 11,
    "start_time": "2022-01-31T19:20:24.012Z"
   },
   {
    "duration": 31,
    "start_time": "2022-01-31T19:20:24.026Z"
   },
   {
    "duration": 11,
    "start_time": "2022-01-31T19:20:24.060Z"
   },
   {
    "duration": 440,
    "start_time": "2022-01-31T19:20:24.074Z"
   },
   {
    "duration": 240,
    "start_time": "2022-01-31T19:20:34.513Z"
   },
   {
    "duration": 34,
    "start_time": "2022-01-31T19:24:25.893Z"
   },
   {
    "duration": 239,
    "start_time": "2022-01-31T19:24:49.963Z"
   },
   {
    "duration": 1590,
    "start_time": "2022-01-31T19:25:03.403Z"
   },
   {
    "duration": 570,
    "start_time": "2022-01-31T19:25:04.996Z"
   },
   {
    "duration": 87,
    "start_time": "2022-01-31T19:25:05.571Z"
   },
   {
    "duration": 38,
    "start_time": "2022-01-31T19:25:05.662Z"
   },
   {
    "duration": 74,
    "start_time": "2022-01-31T19:25:05.703Z"
   },
   {
    "duration": 79,
    "start_time": "2022-01-31T19:25:05.779Z"
   },
   {
    "duration": 17,
    "start_time": "2022-01-31T19:25:05.861Z"
   },
   {
    "duration": 90,
    "start_time": "2022-01-31T19:25:05.881Z"
   },
   {
    "duration": 198,
    "start_time": "2022-01-31T19:25:05.977Z"
   },
   {
    "duration": 1144,
    "start_time": "2022-01-31T19:25:06.178Z"
   },
   {
    "duration": 459,
    "start_time": "2022-01-31T19:25:07.326Z"
   },
   {
    "duration": 588,
    "start_time": "2022-01-31T19:25:07.787Z"
   },
   {
    "duration": 6,
    "start_time": "2022-01-31T19:25:08.378Z"
   },
   {
    "duration": 73,
    "start_time": "2022-01-31T19:25:08.387Z"
   },
   {
    "duration": 11,
    "start_time": "2022-01-31T19:25:08.463Z"
   },
   {
    "duration": 7,
    "start_time": "2022-01-31T19:25:08.477Z"
   },
   {
    "duration": 696,
    "start_time": "2022-01-31T19:25:08.486Z"
   },
   {
    "duration": 42,
    "start_time": "2022-01-31T19:25:09.185Z"
   },
   {
    "duration": 27,
    "start_time": "2022-01-31T19:25:09.230Z"
   },
   {
    "duration": 13,
    "start_time": "2022-01-31T19:25:09.259Z"
   },
   {
    "duration": 35,
    "start_time": "2022-01-31T19:25:09.274Z"
   },
   {
    "duration": 3,
    "start_time": "2022-01-31T19:25:09.311Z"
   },
   {
    "duration": 307,
    "start_time": "2022-02-02T15:53:00.759Z"
   },
   {
    "duration": 1692,
    "start_time": "2022-02-02T15:53:09.605Z"
   },
   {
    "duration": 501,
    "start_time": "2022-02-02T15:53:11.300Z"
   },
   {
    "duration": 57,
    "start_time": "2022-02-02T15:53:11.808Z"
   },
   {
    "duration": 27,
    "start_time": "2022-02-02T15:53:11.868Z"
   },
   {
    "duration": 77,
    "start_time": "2022-02-02T15:53:11.898Z"
   },
   {
    "duration": 25,
    "start_time": "2022-02-02T15:53:11.977Z"
   },
   {
    "duration": 45,
    "start_time": "2022-02-02T15:53:12.006Z"
   },
   {
    "duration": 28,
    "start_time": "2022-02-02T15:53:12.054Z"
   },
   {
    "duration": 113,
    "start_time": "2022-02-02T15:53:12.084Z"
   },
   {
    "duration": 651,
    "start_time": "2022-02-02T15:53:12.200Z"
   },
   {
    "duration": 409,
    "start_time": "2022-02-02T15:53:12.853Z"
   },
   {
    "duration": 570,
    "start_time": "2022-02-02T15:53:13.264Z"
   },
   {
    "duration": 14,
    "start_time": "2022-02-02T15:53:13.837Z"
   },
   {
    "duration": 51,
    "start_time": "2022-02-02T15:53:13.853Z"
   },
   {
    "duration": 11,
    "start_time": "2022-02-02T15:53:13.907Z"
   },
   {
    "duration": 28,
    "start_time": "2022-02-02T15:53:13.921Z"
   },
   {
    "duration": 689,
    "start_time": "2022-02-02T15:53:13.951Z"
   },
   {
    "duration": 47,
    "start_time": "2022-02-02T15:53:14.642Z"
   },
   {
    "duration": 10,
    "start_time": "2022-02-02T15:53:14.691Z"
   },
   {
    "duration": 15,
    "start_time": "2022-02-02T15:53:14.704Z"
   },
   {
    "duration": 55,
    "start_time": "2022-02-02T15:53:14.721Z"
   },
   {
    "duration": 3,
    "start_time": "2022-02-02T15:53:14.780Z"
   },
   {
    "duration": 338,
    "start_time": "2022-02-02T15:55:38.516Z"
   },
   {
    "duration": 1426,
    "start_time": "2022-02-02T15:55:48.682Z"
   },
   {
    "duration": 511,
    "start_time": "2022-02-02T15:55:50.111Z"
   },
   {
    "duration": 54,
    "start_time": "2022-02-02T15:55:50.629Z"
   },
   {
    "duration": 25,
    "start_time": "2022-02-02T15:55:50.686Z"
   },
   {
    "duration": 68,
    "start_time": "2022-02-02T15:55:50.714Z"
   },
   {
    "duration": 26,
    "start_time": "2022-02-02T15:55:50.785Z"
   },
   {
    "duration": 46,
    "start_time": "2022-02-02T15:55:50.813Z"
   },
   {
    "duration": 26,
    "start_time": "2022-02-02T15:55:50.863Z"
   },
   {
    "duration": 108,
    "start_time": "2022-02-02T15:55:50.892Z"
   },
   {
    "duration": 555,
    "start_time": "2022-02-02T15:55:51.002Z"
   },
   {
    "duration": 419,
    "start_time": "2022-02-02T15:55:51.559Z"
   },
   {
    "duration": 579,
    "start_time": "2022-02-02T15:55:51.982Z"
   },
   {
    "duration": 5,
    "start_time": "2022-02-02T15:55:52.564Z"
   },
   {
    "duration": 527,
    "start_time": "2022-02-02T15:55:52.572Z"
   },
   {
    "duration": -377,
    "start_time": "2022-02-02T15:55:53.479Z"
   },
   {
    "duration": -378,
    "start_time": "2022-02-02T15:55:53.481Z"
   },
   {
    "duration": -380,
    "start_time": "2022-02-02T15:55:53.484Z"
   },
   {
    "duration": -379,
    "start_time": "2022-02-02T15:55:53.485Z"
   },
   {
    "duration": -381,
    "start_time": "2022-02-02T15:55:53.488Z"
   },
   {
    "duration": -382,
    "start_time": "2022-02-02T15:55:53.490Z"
   },
   {
    "duration": -386,
    "start_time": "2022-02-02T15:55:53.496Z"
   },
   {
    "duration": 29,
    "start_time": "2022-02-02T15:56:03.026Z"
   },
   {
    "duration": 12,
    "start_time": "2022-02-02T15:56:11.482Z"
   },
   {
    "duration": 665,
    "start_time": "2022-02-02T15:56:17.975Z"
   },
   {
    "duration": 12,
    "start_time": "2022-02-02T16:01:30.427Z"
   },
   {
    "duration": 40,
    "start_time": "2022-02-02T16:01:33.387Z"
   },
   {
    "duration": 10,
    "start_time": "2022-02-02T16:01:36.128Z"
   },
   {
    "duration": 1356,
    "start_time": "2022-02-02T16:06:42.653Z"
   },
   {
    "duration": 512,
    "start_time": "2022-02-02T16:06:44.011Z"
   },
   {
    "duration": 57,
    "start_time": "2022-02-02T16:06:44.529Z"
   },
   {
    "duration": 25,
    "start_time": "2022-02-02T16:06:44.588Z"
   },
   {
    "duration": 73,
    "start_time": "2022-02-02T16:06:44.616Z"
   },
   {
    "duration": 69,
    "start_time": "2022-02-02T16:06:44.692Z"
   },
   {
    "duration": 16,
    "start_time": "2022-02-02T16:06:44.765Z"
   },
   {
    "duration": 79,
    "start_time": "2022-02-02T16:06:44.784Z"
   },
   {
    "duration": 574,
    "start_time": "2022-02-02T16:06:44.865Z"
   },
   {
    "duration": -371,
    "start_time": "2022-02-02T16:06:45.813Z"
   },
   {
    "duration": -371,
    "start_time": "2022-02-02T16:06:45.815Z"
   },
   {
    "duration": -371,
    "start_time": "2022-02-02T16:06:45.817Z"
   },
   {
    "duration": -371,
    "start_time": "2022-02-02T16:06:45.819Z"
   },
   {
    "duration": -375,
    "start_time": "2022-02-02T16:06:45.824Z"
   },
   {
    "duration": -375,
    "start_time": "2022-02-02T16:06:45.826Z"
   },
   {
    "duration": -379,
    "start_time": "2022-02-02T16:06:45.831Z"
   },
   {
    "duration": -379,
    "start_time": "2022-02-02T16:06:45.833Z"
   },
   {
    "duration": -380,
    "start_time": "2022-02-02T16:06:45.835Z"
   },
   {
    "duration": -384,
    "start_time": "2022-02-02T16:06:45.840Z"
   },
   {
    "duration": -385,
    "start_time": "2022-02-02T16:06:45.842Z"
   },
   {
    "duration": 67,
    "start_time": "2022-02-02T16:07:09.347Z"
   },
   {
    "duration": 65,
    "start_time": "2022-02-02T16:07:20.413Z"
   },
   {
    "duration": 65,
    "start_time": "2022-02-02T16:07:30.710Z"
   },
   {
    "duration": 12,
    "start_time": "2022-02-02T16:07:33.164Z"
   },
   {
    "duration": 49,
    "start_time": "2022-02-02T16:07:43.230Z"
   },
   {
    "duration": 10,
    "start_time": "2022-02-02T16:07:45.559Z"
   },
   {
    "duration": 568,
    "start_time": "2022-02-02T16:08:41.111Z"
   },
   {
    "duration": 29,
    "start_time": "2022-02-02T16:08:50.992Z"
   },
   {
    "duration": 40,
    "start_time": "2022-02-02T16:08:57.822Z"
   },
   {
    "duration": 279,
    "start_time": "2022-02-02T16:10:54.992Z"
   },
   {
    "duration": 62,
    "start_time": "2022-02-02T16:11:14.888Z"
   },
   {
    "duration": 79,
    "start_time": "2022-02-02T16:12:14.061Z"
   },
   {
    "duration": 352,
    "start_time": "2022-02-02T16:26:40.032Z"
   },
   {
    "duration": 248,
    "start_time": "2022-02-02T16:26:55.777Z"
   },
   {
    "duration": 13,
    "start_time": "2022-02-02T16:27:16.338Z"
   },
   {
    "duration": 21,
    "start_time": "2022-02-02T16:27:24.094Z"
   },
   {
    "duration": 80,
    "start_time": "2022-02-02T16:31:19.069Z"
   },
   {
    "duration": 82,
    "start_time": "2022-02-02T16:31:38.172Z"
   },
   {
    "duration": 86,
    "start_time": "2022-02-02T16:31:47.506Z"
   },
   {
    "duration": 82,
    "start_time": "2022-02-02T16:31:56.038Z"
   },
   {
    "duration": 266,
    "start_time": "2022-02-02T16:32:30.987Z"
   },
   {
    "duration": 1866,
    "start_time": "2022-02-02T16:32:45.641Z"
   },
   {
    "duration": 521,
    "start_time": "2022-02-02T16:32:47.509Z"
   },
   {
    "duration": 59,
    "start_time": "2022-02-02T16:32:48.033Z"
   },
   {
    "duration": 26,
    "start_time": "2022-02-02T16:32:48.095Z"
   },
   {
    "duration": 43,
    "start_time": "2022-02-02T16:32:48.149Z"
   },
   {
    "duration": 53,
    "start_time": "2022-02-02T16:32:48.195Z"
   },
   {
    "duration": 25,
    "start_time": "2022-02-02T16:32:48.252Z"
   },
   {
    "duration": 29,
    "start_time": "2022-02-02T16:32:48.280Z"
   },
   {
    "duration": 105,
    "start_time": "2022-02-02T16:32:48.349Z"
   },
   {
    "duration": 611,
    "start_time": "2022-02-02T16:32:48.457Z"
   },
   {
    "duration": 438,
    "start_time": "2022-02-02T16:32:49.071Z"
   },
   {
    "duration": 550,
    "start_time": "2022-02-02T16:32:49.512Z"
   },
   {
    "duration": 6,
    "start_time": "2022-02-02T16:32:50.064Z"
   },
   {
    "duration": 84,
    "start_time": "2022-02-02T16:32:50.072Z"
   },
   {
    "duration": 11,
    "start_time": "2022-02-02T16:32:50.159Z"
   },
   {
    "duration": 13,
    "start_time": "2022-02-02T16:32:50.172Z"
   },
   {
    "duration": 386,
    "start_time": "2022-02-02T16:32:50.187Z"
   },
   {
    "duration": -359,
    "start_time": "2022-02-02T16:32:50.934Z"
   },
   {
    "duration": -359,
    "start_time": "2022-02-02T16:32:50.936Z"
   },
   {
    "duration": -361,
    "start_time": "2022-02-02T16:32:50.939Z"
   },
   {
    "duration": -362,
    "start_time": "2022-02-02T16:32:50.941Z"
   },
   {
    "duration": 265,
    "start_time": "2022-02-02T16:32:58.081Z"
   },
   {
    "duration": 238,
    "start_time": "2022-02-02T16:33:04.345Z"
   },
   {
    "duration": 1338,
    "start_time": "2022-02-02T16:33:11.979Z"
   },
   {
    "duration": 506,
    "start_time": "2022-02-02T16:33:13.320Z"
   },
   {
    "duration": 55,
    "start_time": "2022-02-02T16:33:13.832Z"
   },
   {
    "duration": 25,
    "start_time": "2022-02-02T16:33:13.889Z"
   },
   {
    "duration": 70,
    "start_time": "2022-02-02T16:33:13.916Z"
   },
   {
    "duration": 26,
    "start_time": "2022-02-02T16:33:13.988Z"
   },
   {
    "duration": 41,
    "start_time": "2022-02-02T16:33:14.018Z"
   },
   {
    "duration": 26,
    "start_time": "2022-02-02T16:33:14.062Z"
   },
   {
    "duration": 135,
    "start_time": "2022-02-02T16:33:14.091Z"
   },
   {
    "duration": 554,
    "start_time": "2022-02-02T16:33:14.229Z"
   },
   {
    "duration": 429,
    "start_time": "2022-02-02T16:33:14.786Z"
   },
   {
    "duration": 540,
    "start_time": "2022-02-02T16:33:15.217Z"
   },
   {
    "duration": 6,
    "start_time": "2022-02-02T16:33:15.759Z"
   },
   {
    "duration": 85,
    "start_time": "2022-02-02T16:33:15.767Z"
   },
   {
    "duration": 11,
    "start_time": "2022-02-02T16:33:15.854Z"
   },
   {
    "duration": 13,
    "start_time": "2022-02-02T16:33:15.868Z"
   },
   {
    "duration": 364,
    "start_time": "2022-02-02T16:33:15.883Z"
   },
   {
    "duration": -364,
    "start_time": "2022-02-02T16:33:16.614Z"
   },
   {
    "duration": -364,
    "start_time": "2022-02-02T16:33:16.616Z"
   },
   {
    "duration": -364,
    "start_time": "2022-02-02T16:33:16.618Z"
   },
   {
    "duration": -365,
    "start_time": "2022-02-02T16:33:16.620Z"
   },
   {
    "duration": -366,
    "start_time": "2022-02-02T16:33:16.623Z"
   },
   {
    "duration": 1475,
    "start_time": "2022-02-02T16:33:56.377Z"
   },
   {
    "duration": 500,
    "start_time": "2022-02-02T16:33:57.854Z"
   },
   {
    "duration": 56,
    "start_time": "2022-02-02T16:33:58.357Z"
   },
   {
    "duration": 48,
    "start_time": "2022-02-02T16:33:58.416Z"
   },
   {
    "duration": 48,
    "start_time": "2022-02-02T16:33:58.467Z"
   },
   {
    "duration": 49,
    "start_time": "2022-02-02T16:33:58.518Z"
   },
   {
    "duration": 17,
    "start_time": "2022-02-02T16:33:58.570Z"
   },
   {
    "duration": 63,
    "start_time": "2022-02-02T16:33:58.591Z"
   },
   {
    "duration": 110,
    "start_time": "2022-02-02T16:33:58.657Z"
   },
   {
    "duration": 551,
    "start_time": "2022-02-02T16:33:58.770Z"
   },
   {
    "duration": 417,
    "start_time": "2022-02-02T16:33:59.324Z"
   },
   {
    "duration": 569,
    "start_time": "2022-02-02T16:33:59.744Z"
   },
   {
    "duration": 6,
    "start_time": "2022-02-02T16:34:00.316Z"
   },
   {
    "duration": 98,
    "start_time": "2022-02-02T16:34:00.324Z"
   },
   {
    "duration": 11,
    "start_time": "2022-02-02T16:34:00.425Z"
   },
   {
    "duration": 11,
    "start_time": "2022-02-02T16:34:00.438Z"
   },
   {
    "duration": 687,
    "start_time": "2022-02-02T16:34:00.451Z"
   },
   {
    "duration": 56,
    "start_time": "2022-02-02T16:34:01.140Z"
   },
   {
    "duration": 13,
    "start_time": "2022-02-02T16:34:01.199Z"
   },
   {
    "duration": 164,
    "start_time": "2022-02-02T16:34:01.215Z"
   },
   {
    "duration": 468,
    "start_time": "2022-02-02T16:34:01.382Z"
   },
   {
    "duration": -364,
    "start_time": "2022-02-02T16:34:02.217Z"
   },
   {
    "duration": 244,
    "start_time": "2022-02-02T16:34:58.507Z"
   },
   {
    "duration": 1398,
    "start_time": "2022-02-02T16:35:19.921Z"
   },
   {
    "duration": 525,
    "start_time": "2022-02-02T16:35:21.322Z"
   },
   {
    "duration": 59,
    "start_time": "2022-02-02T16:35:21.850Z"
   },
   {
    "duration": 44,
    "start_time": "2022-02-02T16:35:21.911Z"
   },
   {
    "duration": 44,
    "start_time": "2022-02-02T16:35:21.958Z"
   },
   {
    "duration": 55,
    "start_time": "2022-02-02T16:35:22.005Z"
   },
   {
    "duration": 24,
    "start_time": "2022-02-02T16:35:22.063Z"
   },
   {
    "duration": 65,
    "start_time": "2022-02-02T16:35:22.090Z"
   },
   {
    "duration": 130,
    "start_time": "2022-02-02T16:35:22.161Z"
   },
   {
    "duration": 583,
    "start_time": "2022-02-02T16:35:22.295Z"
   },
   {
    "duration": 418,
    "start_time": "2022-02-02T16:35:22.882Z"
   },
   {
    "duration": 703,
    "start_time": "2022-02-02T16:35:23.304Z"
   },
   {
    "duration": 6,
    "start_time": "2022-02-02T16:35:24.010Z"
   },
   {
    "duration": 132,
    "start_time": "2022-02-02T16:35:24.019Z"
   },
   {
    "duration": 24,
    "start_time": "2022-02-02T16:35:24.162Z"
   },
   {
    "duration": 102,
    "start_time": "2022-02-02T16:35:24.190Z"
   },
   {
    "duration": 695,
    "start_time": "2022-02-02T16:35:24.296Z"
   },
   {
    "duration": 57,
    "start_time": "2022-02-02T16:35:24.993Z"
   },
   {
    "duration": 10,
    "start_time": "2022-02-02T16:35:25.053Z"
   },
   {
    "duration": 122,
    "start_time": "2022-02-02T16:35:25.066Z"
   },
   {
    "duration": 370,
    "start_time": "2022-02-02T16:35:25.191Z"
   },
   {
    "duration": -356,
    "start_time": "2022-02-02T16:35:25.919Z"
   },
   {
    "duration": 232,
    "start_time": "2022-02-02T16:35:49.702Z"
   },
   {
    "duration": 1330,
    "start_time": "2022-02-02T16:36:29.095Z"
   },
   {
    "duration": 538,
    "start_time": "2022-02-02T16:36:30.428Z"
   },
   {
    "duration": 59,
    "start_time": "2022-02-02T16:36:30.969Z"
   },
   {
    "duration": 36,
    "start_time": "2022-02-02T16:36:31.032Z"
   },
   {
    "duration": 51,
    "start_time": "2022-02-02T16:36:31.071Z"
   },
   {
    "duration": 46,
    "start_time": "2022-02-02T16:36:31.124Z"
   },
   {
    "duration": 22,
    "start_time": "2022-02-02T16:36:31.172Z"
   },
   {
    "duration": 57,
    "start_time": "2022-02-02T16:36:31.198Z"
   },
   {
    "duration": 114,
    "start_time": "2022-02-02T16:36:31.258Z"
   },
   {
    "duration": 592,
    "start_time": "2022-02-02T16:36:31.374Z"
   },
   {
    "duration": 441,
    "start_time": "2022-02-02T16:36:31.968Z"
   },
   {
    "duration": 570,
    "start_time": "2022-02-02T16:36:32.412Z"
   },
   {
    "duration": 6,
    "start_time": "2022-02-02T16:36:32.984Z"
   },
   {
    "duration": 84,
    "start_time": "2022-02-02T16:36:32.992Z"
   },
   {
    "duration": 11,
    "start_time": "2022-02-02T16:36:33.078Z"
   },
   {
    "duration": 5,
    "start_time": "2022-02-02T16:36:33.091Z"
   },
   {
    "duration": 652,
    "start_time": "2022-02-02T16:36:33.099Z"
   },
   {
    "duration": 50,
    "start_time": "2022-02-02T16:36:33.754Z"
   },
   {
    "duration": 9,
    "start_time": "2022-02-02T16:36:33.807Z"
   },
   {
    "duration": 139,
    "start_time": "2022-02-02T16:36:33.818Z"
   },
   {
    "duration": 376,
    "start_time": "2022-02-02T16:36:33.959Z"
   },
   {
    "duration": -359,
    "start_time": "2022-02-02T16:36:34.697Z"
   },
   {
    "duration": 494,
    "start_time": "2022-02-02T16:37:54.661Z"
   },
   {
    "duration": 246,
    "start_time": "2022-02-02T16:38:06.785Z"
   },
   {
    "duration": 253,
    "start_time": "2022-02-02T16:38:32.536Z"
   },
   {
    "duration": 21,
    "start_time": "2022-02-02T16:38:53.613Z"
   },
   {
    "duration": 20,
    "start_time": "2022-02-02T16:39:07.284Z"
   },
   {
    "duration": 25,
    "start_time": "2022-02-02T16:39:13.915Z"
   },
   {
    "duration": 33,
    "start_time": "2022-02-02T16:43:24.534Z"
   },
   {
    "duration": 19,
    "start_time": "2022-02-02T16:47:10.825Z"
   },
   {
    "duration": 14,
    "start_time": "2022-02-02T16:47:19.831Z"
   },
   {
    "duration": 18,
    "start_time": "2022-02-02T16:47:44.904Z"
   },
   {
    "duration": 15,
    "start_time": "2022-02-02T17:23:15.925Z"
   },
   {
    "duration": 8,
    "start_time": "2022-02-02T17:25:10.421Z"
   },
   {
    "duration": 15,
    "start_time": "2022-02-02T17:25:16.277Z"
   },
   {
    "duration": 14,
    "start_time": "2022-02-02T17:27:52.988Z"
   },
   {
    "duration": 14,
    "start_time": "2022-02-02T17:27:56.551Z"
   },
   {
    "duration": 10,
    "start_time": "2022-02-02T17:28:05.272Z"
   },
   {
    "duration": 15,
    "start_time": "2022-02-02T17:28:07.536Z"
   },
   {
    "duration": 6440,
    "start_time": "2022-02-02T17:28:22.972Z"
   },
   {
    "duration": -338,
    "start_time": "2022-02-02T17:28:29.752Z"
   },
   {
    "duration": 1538,
    "start_time": "2022-02-02T17:28:45.710Z"
   },
   {
    "duration": 598,
    "start_time": "2022-02-02T17:28:47.252Z"
   },
   {
    "duration": 114,
    "start_time": "2022-02-02T17:28:47.853Z"
   },
   {
    "duration": 26,
    "start_time": "2022-02-02T17:28:47.970Z"
   },
   {
    "duration": 46,
    "start_time": "2022-02-02T17:28:48.049Z"
   },
   {
    "duration": 25,
    "start_time": "2022-02-02T17:28:48.149Z"
   },
   {
    "duration": 20,
    "start_time": "2022-02-02T17:28:48.176Z"
   },
   {
    "duration": 38,
    "start_time": "2022-02-02T17:28:48.252Z"
   },
   {
    "duration": 20,
    "start_time": "2022-02-02T17:28:48.349Z"
   },
   {
    "duration": 11,
    "start_time": "2022-02-02T17:28:48.372Z"
   },
   {
    "duration": 78,
    "start_time": "2022-02-02T17:28:48.386Z"
   },
   {
    "duration": 283,
    "start_time": "2022-02-02T17:28:48.467Z"
   },
   {
    "duration": 759,
    "start_time": "2022-02-02T17:28:48.753Z"
   },
   {
    "duration": 415,
    "start_time": "2022-02-02T17:28:49.515Z"
   },
   {
    "duration": 551,
    "start_time": "2022-02-02T17:28:49.933Z"
   },
   {
    "duration": 6,
    "start_time": "2022-02-02T17:28:50.486Z"
   },
   {
    "duration": 85,
    "start_time": "2022-02-02T17:28:50.495Z"
   },
   {
    "duration": 11,
    "start_time": "2022-02-02T17:28:50.583Z"
   },
   {
    "duration": 6,
    "start_time": "2022-02-02T17:28:50.597Z"
   },
   {
    "duration": 659,
    "start_time": "2022-02-02T17:28:50.605Z"
   },
   {
    "duration": 49,
    "start_time": "2022-02-02T17:28:51.267Z"
   },
   {
    "duration": 29,
    "start_time": "2022-02-02T17:28:51.319Z"
   },
   {
    "duration": 436,
    "start_time": "2022-02-02T17:28:51.353Z"
   },
   {
    "duration": -327,
    "start_time": "2022-02-02T17:28:52.119Z"
   },
   {
    "duration": -336,
    "start_time": "2022-02-02T17:28:52.130Z"
   },
   {
    "duration": 15,
    "start_time": "2022-02-02T17:29:27.749Z"
   },
   {
    "duration": 15,
    "start_time": "2022-02-02T17:29:31.823Z"
   },
   {
    "duration": 1879,
    "start_time": "2022-02-02T17:29:38.189Z"
   },
   {
    "duration": 662,
    "start_time": "2022-02-02T17:29:40.071Z"
   },
   {
    "duration": 57,
    "start_time": "2022-02-02T17:29:40.738Z"
   },
   {
    "duration": 24,
    "start_time": "2022-02-02T17:29:40.798Z"
   },
   {
    "duration": 44,
    "start_time": "2022-02-02T17:29:40.848Z"
   },
   {
    "duration": 61,
    "start_time": "2022-02-02T17:29:40.894Z"
   },
   {
    "duration": 17,
    "start_time": "2022-02-02T17:29:40.959Z"
   },
   {
    "duration": 34,
    "start_time": "2022-02-02T17:29:40.979Z"
   },
   {
    "duration": 23,
    "start_time": "2022-02-02T17:29:41.050Z"
   },
   {
    "duration": 14,
    "start_time": "2022-02-02T17:29:41.076Z"
   },
   {
    "duration": 19,
    "start_time": "2022-02-02T17:29:41.093Z"
   },
   {
    "duration": 136,
    "start_time": "2022-02-02T17:29:41.114Z"
   },
   {
    "duration": 566,
    "start_time": "2022-02-02T17:29:41.252Z"
   },
   {
    "duration": 475,
    "start_time": "2022-02-02T17:29:41.820Z"
   },
   {
    "duration": 873,
    "start_time": "2022-02-02T17:29:42.313Z"
   },
   {
    "duration": 7,
    "start_time": "2022-02-02T17:29:43.189Z"
   },
   {
    "duration": 85,
    "start_time": "2022-02-02T17:29:43.198Z"
   },
   {
    "duration": 11,
    "start_time": "2022-02-02T17:29:43.285Z"
   },
   {
    "duration": 10,
    "start_time": "2022-02-02T17:29:43.298Z"
   },
   {
    "duration": 657,
    "start_time": "2022-02-02T17:29:43.310Z"
   },
   {
    "duration": 85,
    "start_time": "2022-02-02T17:29:43.970Z"
   },
   {
    "duration": 10,
    "start_time": "2022-02-02T17:29:44.060Z"
   },
   {
    "duration": 501,
    "start_time": "2022-02-02T17:29:44.073Z"
   },
   {
    "duration": -343,
    "start_time": "2022-02-02T17:29:44.920Z"
   },
   {
    "duration": -344,
    "start_time": "2022-02-02T17:29:44.922Z"
   },
   {
    "duration": 1735,
    "start_time": "2022-02-02T17:30:13.467Z"
   },
   {
    "duration": 504,
    "start_time": "2022-02-02T17:30:15.205Z"
   },
   {
    "duration": 61,
    "start_time": "2022-02-02T17:30:15.713Z"
   },
   {
    "duration": 26,
    "start_time": "2022-02-02T17:30:15.778Z"
   },
   {
    "duration": 75,
    "start_time": "2022-02-02T17:30:15.806Z"
   },
   {
    "duration": 26,
    "start_time": "2022-02-02T17:30:15.883Z"
   },
   {
    "duration": 44,
    "start_time": "2022-02-02T17:30:15.912Z"
   },
   {
    "duration": 28,
    "start_time": "2022-02-02T17:30:15.962Z"
   },
   {
    "duration": 14,
    "start_time": "2022-02-02T17:30:15.993Z"
   },
   {
    "duration": 9,
    "start_time": "2022-02-02T17:30:16.049Z"
   },
   {
    "duration": 20,
    "start_time": "2022-02-02T17:30:16.060Z"
   },
   {
    "duration": 130,
    "start_time": "2022-02-02T17:30:16.083Z"
   },
   {
    "duration": 570,
    "start_time": "2022-02-02T17:30:16.216Z"
   },
   {
    "duration": 426,
    "start_time": "2022-02-02T17:30:16.788Z"
   },
   {
    "duration": 554,
    "start_time": "2022-02-02T17:30:17.217Z"
   },
   {
    "duration": 6,
    "start_time": "2022-02-02T17:30:17.774Z"
   },
   {
    "duration": 90,
    "start_time": "2022-02-02T17:30:17.782Z"
   },
   {
    "duration": 12,
    "start_time": "2022-02-02T17:30:17.874Z"
   },
   {
    "duration": 7,
    "start_time": "2022-02-02T17:30:17.888Z"
   },
   {
    "duration": 658,
    "start_time": "2022-02-02T17:30:17.897Z"
   },
   {
    "duration": 47,
    "start_time": "2022-02-02T17:30:18.557Z"
   },
   {
    "duration": 10,
    "start_time": "2022-02-02T17:30:18.606Z"
   },
   {
    "duration": 819,
    "start_time": "2022-02-02T17:30:18.621Z"
   },
   {
    "duration": -809,
    "start_time": "2022-02-02T17:30:20.252Z"
   },
   {
    "duration": -820,
    "start_time": "2022-02-02T17:30:20.264Z"
   },
   {
    "duration": 370,
    "start_time": "2022-02-02T17:30:33.539Z"
   },
   {
    "duration": 284,
    "start_time": "2022-02-02T17:30:37.107Z"
   },
   {
    "duration": 1350,
    "start_time": "2022-02-02T17:30:42.161Z"
   },
   {
    "duration": 499,
    "start_time": "2022-02-02T17:30:43.514Z"
   },
   {
    "duration": 58,
    "start_time": "2022-02-02T17:30:44.016Z"
   },
   {
    "duration": 26,
    "start_time": "2022-02-02T17:30:44.078Z"
   },
   {
    "duration": 70,
    "start_time": "2022-02-02T17:30:44.106Z"
   },
   {
    "duration": 25,
    "start_time": "2022-02-02T17:30:44.178Z"
   },
   {
    "duration": 43,
    "start_time": "2022-02-02T17:30:44.206Z"
   },
   {
    "duration": 26,
    "start_time": "2022-02-02T17:30:44.252Z"
   },
   {
    "duration": 13,
    "start_time": "2022-02-02T17:30:44.282Z"
   },
   {
    "duration": 8,
    "start_time": "2022-02-02T17:30:44.298Z"
   },
   {
    "duration": 54,
    "start_time": "2022-02-02T17:30:44.308Z"
   },
   {
    "duration": 116,
    "start_time": "2022-02-02T17:30:44.364Z"
   },
   {
    "duration": 550,
    "start_time": "2022-02-02T17:30:44.482Z"
   },
   {
    "duration": 409,
    "start_time": "2022-02-02T17:30:45.034Z"
   },
   {
    "duration": 540,
    "start_time": "2022-02-02T17:30:45.449Z"
   },
   {
    "duration": 7,
    "start_time": "2022-02-02T17:30:45.992Z"
   },
   {
    "duration": 85,
    "start_time": "2022-02-02T17:30:46.002Z"
   },
   {
    "duration": 12,
    "start_time": "2022-02-02T17:30:46.090Z"
   },
   {
    "duration": 7,
    "start_time": "2022-02-02T17:30:46.104Z"
   },
   {
    "duration": 667,
    "start_time": "2022-02-02T17:30:46.114Z"
   },
   {
    "duration": 47,
    "start_time": "2022-02-02T17:30:46.784Z"
   },
   {
    "duration": 11,
    "start_time": "2022-02-02T17:30:46.848Z"
   },
   {
    "duration": 581,
    "start_time": "2022-02-02T17:30:46.861Z"
   },
   {
    "duration": -339,
    "start_time": "2022-02-02T17:30:47.783Z"
   },
   {
    "duration": -340,
    "start_time": "2022-02-02T17:30:47.786Z"
   },
   {
    "duration": 373,
    "start_time": "2022-02-02T17:33:50.797Z"
   },
   {
    "duration": 335,
    "start_time": "2022-02-02T17:34:21.405Z"
   },
   {
    "duration": 10283,
    "start_time": "2022-02-02T17:34:49.476Z"
   },
   {
    "duration": 262,
    "start_time": "2022-02-02T17:35:06.986Z"
   },
   {
    "duration": 11,
    "start_time": "2022-02-02T17:35:37.839Z"
   },
   {
    "duration": 14,
    "start_time": "2022-02-02T17:35:42.490Z"
   },
   {
    "duration": 5139,
    "start_time": "2022-02-02T17:36:02.649Z"
   },
   {
    "duration": 3304,
    "start_time": "2022-02-02T17:36:29.433Z"
   },
   {
    "duration": 237,
    "start_time": "2022-02-02T17:37:08.139Z"
   },
   {
    "duration": 235,
    "start_time": "2022-02-02T17:37:13.509Z"
   },
   {
    "duration": 231,
    "start_time": "2022-02-02T17:37:19.584Z"
   },
   {
    "duration": 1431,
    "start_time": "2022-02-02T17:37:31.074Z"
   },
   {
    "duration": 532,
    "start_time": "2022-02-02T17:37:32.508Z"
   },
   {
    "duration": 60,
    "start_time": "2022-02-02T17:37:33.043Z"
   },
   {
    "duration": 50,
    "start_time": "2022-02-02T17:37:33.106Z"
   },
   {
    "duration": 44,
    "start_time": "2022-02-02T17:37:33.159Z"
   },
   {
    "duration": 54,
    "start_time": "2022-02-02T17:37:33.206Z"
   },
   {
    "duration": 18,
    "start_time": "2022-02-02T17:37:33.263Z"
   },
   {
    "duration": 28,
    "start_time": "2022-02-02T17:37:33.285Z"
   },
   {
    "duration": 17,
    "start_time": "2022-02-02T17:37:33.350Z"
   },
   {
    "duration": 809,
    "start_time": "2022-02-02T17:37:33.370Z"
   },
   {
    "duration": -321,
    "start_time": "2022-02-02T17:37:34.503Z"
   },
   {
    "duration": -322,
    "start_time": "2022-02-02T17:37:34.505Z"
   },
   {
    "duration": -323,
    "start_time": "2022-02-02T17:37:34.507Z"
   },
   {
    "duration": -323,
    "start_time": "2022-02-02T17:37:34.509Z"
   },
   {
    "duration": -324,
    "start_time": "2022-02-02T17:37:34.511Z"
   },
   {
    "duration": -324,
    "start_time": "2022-02-02T17:37:34.513Z"
   },
   {
    "duration": -328,
    "start_time": "2022-02-02T17:37:34.518Z"
   },
   {
    "duration": -328,
    "start_time": "2022-02-02T17:37:34.520Z"
   },
   {
    "duration": -328,
    "start_time": "2022-02-02T17:37:34.522Z"
   },
   {
    "duration": -329,
    "start_time": "2022-02-02T17:37:34.524Z"
   },
   {
    "duration": -329,
    "start_time": "2022-02-02T17:37:34.526Z"
   },
   {
    "duration": -328,
    "start_time": "2022-02-02T17:37:34.528Z"
   },
   {
    "duration": -331,
    "start_time": "2022-02-02T17:37:34.533Z"
   },
   {
    "duration": -332,
    "start_time": "2022-02-02T17:37:34.536Z"
   },
   {
    "duration": -332,
    "start_time": "2022-02-02T17:37:34.538Z"
   },
   {
    "duration": -331,
    "start_time": "2022-02-02T17:37:34.539Z"
   },
   {
    "duration": -334,
    "start_time": "2022-02-02T17:37:34.544Z"
   },
   {
    "duration": 6,
    "start_time": "2022-02-02T17:37:52.001Z"
   },
   {
    "duration": 15,
    "start_time": "2022-02-02T17:37:59.089Z"
   },
   {
    "duration": 1747,
    "start_time": "2022-02-02T17:38:08.053Z"
   },
   {
    "duration": 741,
    "start_time": "2022-02-02T17:38:09.803Z"
   },
   {
    "duration": 100,
    "start_time": "2022-02-02T17:38:10.551Z"
   },
   {
    "duration": 27,
    "start_time": "2022-02-02T17:38:10.653Z"
   },
   {
    "duration": 69,
    "start_time": "2022-02-02T17:38:10.683Z"
   },
   {
    "duration": 24,
    "start_time": "2022-02-02T17:38:10.755Z"
   },
   {
    "duration": 16,
    "start_time": "2022-02-02T17:38:10.783Z"
   },
   {
    "duration": 72,
    "start_time": "2022-02-02T17:38:10.802Z"
   },
   {
    "duration": 21,
    "start_time": "2022-02-02T17:38:10.878Z"
   },
   {
    "duration": 48,
    "start_time": "2022-02-02T17:38:10.903Z"
   },
   {
    "duration": 12,
    "start_time": "2022-02-02T17:38:10.954Z"
   },
   {
    "duration": 19,
    "start_time": "2022-02-02T17:38:10.969Z"
   },
   {
    "duration": 37,
    "start_time": "2022-02-02T17:38:10.991Z"
   },
   {
    "duration": 150,
    "start_time": "2022-02-02T17:38:11.032Z"
   },
   {
    "duration": 750,
    "start_time": "2022-02-02T17:38:11.186Z"
   },
   {
    "duration": 520,
    "start_time": "2022-02-02T17:38:11.947Z"
   },
   {
    "duration": 638,
    "start_time": "2022-02-02T17:38:12.470Z"
   },
   {
    "duration": 7,
    "start_time": "2022-02-02T17:38:13.111Z"
   },
   {
    "duration": 85,
    "start_time": "2022-02-02T17:38:13.121Z"
   },
   {
    "duration": 14,
    "start_time": "2022-02-02T17:38:13.208Z"
   },
   {
    "duration": 24,
    "start_time": "2022-02-02T17:38:13.224Z"
   },
   {
    "duration": 651,
    "start_time": "2022-02-02T17:38:13.253Z"
   },
   {
    "duration": 70,
    "start_time": "2022-02-02T17:38:13.907Z"
   },
   {
    "duration": 9,
    "start_time": "2022-02-02T17:38:13.981Z"
   },
   {
    "duration": 481,
    "start_time": "2022-02-02T17:38:13.993Z"
   },
   {
    "duration": -322,
    "start_time": "2022-02-02T17:38:14.799Z"
   },
   {
    "duration": -322,
    "start_time": "2022-02-02T17:38:14.801Z"
   },
   {
    "duration": 2070,
    "start_time": "2022-02-02T17:39:34.789Z"
   },
   {
    "duration": 1020,
    "start_time": "2022-02-02T17:39:36.862Z"
   },
   {
    "duration": 58,
    "start_time": "2022-02-02T17:39:37.885Z"
   },
   {
    "duration": 34,
    "start_time": "2022-02-02T17:39:37.946Z"
   },
   {
    "duration": 52,
    "start_time": "2022-02-02T17:39:37.984Z"
   },
   {
    "duration": 42,
    "start_time": "2022-02-02T17:39:38.049Z"
   },
   {
    "duration": 17,
    "start_time": "2022-02-02T17:39:38.094Z"
   },
   {
    "duration": 40,
    "start_time": "2022-02-02T17:39:38.150Z"
   },
   {
    "duration": 24,
    "start_time": "2022-02-02T17:39:38.194Z"
   },
   {
    "duration": 28,
    "start_time": "2022-02-02T17:39:38.222Z"
   },
   {
    "duration": 31,
    "start_time": "2022-02-02T17:39:38.254Z"
   },
   {
    "duration": 20,
    "start_time": "2022-02-02T17:39:38.287Z"
   },
   {
    "duration": 34,
    "start_time": "2022-02-02T17:39:38.309Z"
   },
   {
    "duration": 130,
    "start_time": "2022-02-02T17:39:38.346Z"
   },
   {
    "duration": 653,
    "start_time": "2022-02-02T17:39:38.480Z"
   },
   {
    "duration": 505,
    "start_time": "2022-02-02T17:39:39.136Z"
   },
   {
    "duration": 815,
    "start_time": "2022-02-02T17:39:39.648Z"
   },
   {
    "duration": 10,
    "start_time": "2022-02-02T17:39:40.467Z"
   },
   {
    "duration": 96,
    "start_time": "2022-02-02T17:39:40.481Z"
   },
   {
    "duration": 15,
    "start_time": "2022-02-02T17:39:40.581Z"
   },
   {
    "duration": 6,
    "start_time": "2022-02-02T17:39:40.598Z"
   },
   {
    "duration": 689,
    "start_time": "2022-02-02T17:39:40.606Z"
   },
   {
    "duration": 61,
    "start_time": "2022-02-02T17:39:41.298Z"
   },
   {
    "duration": 19,
    "start_time": "2022-02-02T17:39:41.363Z"
   },
   {
    "duration": 124,
    "start_time": "2022-02-02T17:39:41.384Z"
   },
   {
    "duration": 46,
    "start_time": "2022-02-02T17:39:41.511Z"
   },
   {
    "duration": 30,
    "start_time": "2022-02-02T17:39:41.562Z"
   },
   {
    "duration": 28,
    "start_time": "2022-02-02T17:40:03.188Z"
   },
   {
    "duration": 20,
    "start_time": "2022-02-02T17:40:06.844Z"
   },
   {
    "duration": 704,
    "start_time": "2022-02-02T17:41:19.093Z"
   },
   {
    "duration": 237,
    "start_time": "2022-02-02T17:41:30.787Z"
   },
   {
    "duration": 23,
    "start_time": "2022-02-02T17:41:59.600Z"
   },
   {
    "duration": 20,
    "start_time": "2022-02-02T17:42:02.242Z"
   },
   {
    "duration": 27,
    "start_time": "2022-02-02T17:42:17.633Z"
   },
   {
    "duration": 22,
    "start_time": "2022-02-02T17:42:20.771Z"
   },
   {
    "duration": 26,
    "start_time": "2022-02-02T17:42:28.615Z"
   },
   {
    "duration": 1500,
    "start_time": "2022-02-02T17:43:04.220Z"
   },
   {
    "duration": 525,
    "start_time": "2022-02-02T17:43:05.723Z"
   },
   {
    "duration": 59,
    "start_time": "2022-02-02T17:43:06.255Z"
   },
   {
    "duration": 50,
    "start_time": "2022-02-02T17:43:06.316Z"
   },
   {
    "duration": 48,
    "start_time": "2022-02-02T17:43:06.369Z"
   },
   {
    "duration": 50,
    "start_time": "2022-02-02T17:43:06.420Z"
   },
   {
    "duration": 18,
    "start_time": "2022-02-02T17:43:06.472Z"
   },
   {
    "duration": 74,
    "start_time": "2022-02-02T17:43:06.494Z"
   },
   {
    "duration": 15,
    "start_time": "2022-02-02T17:43:06.573Z"
   },
   {
    "duration": 9,
    "start_time": "2022-02-02T17:43:06.591Z"
   },
   {
    "duration": 46,
    "start_time": "2022-02-02T17:43:06.603Z"
   },
   {
    "duration": 14,
    "start_time": "2022-02-02T17:43:06.652Z"
   },
   {
    "duration": 20,
    "start_time": "2022-02-02T17:43:06.669Z"
   },
   {
    "duration": 123,
    "start_time": "2022-02-02T17:43:06.692Z"
   },
   {
    "duration": 718,
    "start_time": "2022-02-02T17:43:06.818Z"
   },
   {
    "duration": 438,
    "start_time": "2022-02-02T17:43:07.539Z"
   },
   {
    "duration": 570,
    "start_time": "2022-02-02T17:43:07.981Z"
   },
   {
    "duration": 7,
    "start_time": "2022-02-02T17:43:08.555Z"
   },
   {
    "duration": 94,
    "start_time": "2022-02-02T17:43:08.565Z"
   },
   {
    "duration": 13,
    "start_time": "2022-02-02T17:43:08.661Z"
   },
   {
    "duration": 4,
    "start_time": "2022-02-02T17:43:08.677Z"
   },
   {
    "duration": 680,
    "start_time": "2022-02-02T17:43:08.683Z"
   },
   {
    "duration": 49,
    "start_time": "2022-02-02T17:43:09.366Z"
   },
   {
    "duration": 32,
    "start_time": "2022-02-02T17:43:09.417Z"
   },
   {
    "duration": 653,
    "start_time": "2022-02-02T17:43:09.453Z"
   },
   {
    "duration": -320,
    "start_time": "2022-02-02T17:43:10.430Z"
   },
   {
    "duration": -323,
    "start_time": "2022-02-02T17:43:10.436Z"
   },
   {
    "duration": 1588,
    "start_time": "2022-02-02T17:46:03.932Z"
   },
   {
    "duration": 575,
    "start_time": "2022-02-02T17:46:05.522Z"
   },
   {
    "duration": 67,
    "start_time": "2022-02-02T17:46:06.103Z"
   },
   {
    "duration": 28,
    "start_time": "2022-02-02T17:46:06.173Z"
   },
   {
    "duration": 78,
    "start_time": "2022-02-02T17:46:06.204Z"
   },
   {
    "duration": 24,
    "start_time": "2022-02-02T17:46:06.285Z"
   },
   {
    "duration": 53,
    "start_time": "2022-02-02T17:46:06.313Z"
   },
   {
    "duration": 37,
    "start_time": "2022-02-02T17:46:06.371Z"
   },
   {
    "duration": 40,
    "start_time": "2022-02-02T17:46:06.411Z"
   },
   {
    "duration": 30,
    "start_time": "2022-02-02T17:46:06.455Z"
   },
   {
    "duration": 31,
    "start_time": "2022-02-02T17:46:06.487Z"
   },
   {
    "duration": 26,
    "start_time": "2022-02-02T17:46:06.521Z"
   },
   {
    "duration": 36,
    "start_time": "2022-02-02T17:46:06.554Z"
   },
   {
    "duration": 111,
    "start_time": "2022-02-02T17:46:06.593Z"
   },
   {
    "duration": 677,
    "start_time": "2022-02-02T17:46:06.707Z"
   },
   {
    "duration": 618,
    "start_time": "2022-02-02T17:46:07.388Z"
   },
   {
    "duration": 565,
    "start_time": "2022-02-02T17:46:08.009Z"
   },
   {
    "duration": 6,
    "start_time": "2022-02-02T17:46:08.578Z"
   },
   {
    "duration": 94,
    "start_time": "2022-02-02T17:46:08.586Z"
   },
   {
    "duration": 13,
    "start_time": "2022-02-02T17:46:08.683Z"
   },
   {
    "duration": 21,
    "start_time": "2022-02-02T17:46:08.698Z"
   },
   {
    "duration": 657,
    "start_time": "2022-02-02T17:46:08.724Z"
   },
   {
    "duration": 49,
    "start_time": "2022-02-02T17:46:09.384Z"
   },
   {
    "duration": 11,
    "start_time": "2022-02-02T17:46:09.449Z"
   },
   {
    "duration": 116,
    "start_time": "2022-02-02T17:46:09.463Z"
   },
   {
    "duration": 31,
    "start_time": "2022-02-02T17:46:09.582Z"
   },
   {
    "duration": 79,
    "start_time": "2022-02-02T17:46:09.616Z"
   },
   {
    "duration": 1666,
    "start_time": "2022-02-02T17:48:23.182Z"
   },
   {
    "duration": 524,
    "start_time": "2022-02-02T17:48:24.851Z"
   },
   {
    "duration": 60,
    "start_time": "2022-02-02T17:48:25.378Z"
   },
   {
    "duration": 30,
    "start_time": "2022-02-02T17:48:25.441Z"
   },
   {
    "duration": 74,
    "start_time": "2022-02-02T17:48:25.474Z"
   },
   {
    "duration": 26,
    "start_time": "2022-02-02T17:48:25.551Z"
   },
   {
    "duration": 20,
    "start_time": "2022-02-02T17:48:25.580Z"
   },
   {
    "duration": 71,
    "start_time": "2022-02-02T17:48:25.604Z"
   },
   {
    "duration": 24,
    "start_time": "2022-02-02T17:48:25.678Z"
   },
   {
    "duration": 7,
    "start_time": "2022-02-02T17:48:25.705Z"
   },
   {
    "duration": 34,
    "start_time": "2022-02-02T17:48:25.715Z"
   },
   {
    "duration": 30,
    "start_time": "2022-02-02T17:48:25.752Z"
   },
   {
    "duration": 40,
    "start_time": "2022-02-02T17:48:25.785Z"
   },
   {
    "duration": 118,
    "start_time": "2022-02-02T17:48:25.827Z"
   },
   {
    "duration": 613,
    "start_time": "2022-02-02T17:48:25.948Z"
   },
   {
    "duration": 480,
    "start_time": "2022-02-02T17:48:26.563Z"
   },
   {
    "duration": 898,
    "start_time": "2022-02-02T17:48:27.050Z"
   },
   {
    "duration": 6,
    "start_time": "2022-02-02T17:48:27.952Z"
   },
   {
    "duration": 88,
    "start_time": "2022-02-02T17:48:27.960Z"
   },
   {
    "duration": 25,
    "start_time": "2022-02-02T17:48:28.051Z"
   },
   {
    "duration": 15,
    "start_time": "2022-02-02T17:48:28.079Z"
   },
   {
    "duration": 658,
    "start_time": "2022-02-02T17:48:28.097Z"
   },
   {
    "duration": 47,
    "start_time": "2022-02-02T17:48:28.760Z"
   },
   {
    "duration": 11,
    "start_time": "2022-02-02T17:48:28.809Z"
   },
   {
    "duration": 106,
    "start_time": "2022-02-02T17:48:28.848Z"
   },
   {
    "duration": 27,
    "start_time": "2022-02-02T17:48:28.957Z"
   },
   {
    "duration": 29,
    "start_time": "2022-02-02T17:48:28.987Z"
   },
   {
    "duration": 398,
    "start_time": "2022-02-02T17:57:40.632Z"
   },
   {
    "duration": 20,
    "start_time": "2022-02-02T17:58:44.128Z"
   },
   {
    "duration": 284,
    "start_time": "2022-02-02T18:06:58.253Z"
   },
   {
    "duration": 231,
    "start_time": "2022-02-02T18:07:39.532Z"
   },
   {
    "duration": 254,
    "start_time": "2022-02-02T18:07:54.450Z"
   },
   {
    "duration": 505,
    "start_time": "2022-02-02T18:11:11.133Z"
   },
   {
    "duration": 613,
    "start_time": "2022-02-02T18:12:37.496Z"
   },
   {
    "duration": 301,
    "start_time": "2022-02-02T18:12:47.495Z"
   },
   {
    "duration": 1593,
    "start_time": "2022-02-02T18:13:02.004Z"
   },
   {
    "duration": 594,
    "start_time": "2022-02-02T18:13:03.600Z"
   },
   {
    "duration": 59,
    "start_time": "2022-02-02T18:13:04.203Z"
   },
   {
    "duration": 28,
    "start_time": "2022-02-02T18:13:04.265Z"
   },
   {
    "duration": 92,
    "start_time": "2022-02-02T18:13:04.296Z"
   },
   {
    "duration": 59,
    "start_time": "2022-02-02T18:13:04.392Z"
   },
   {
    "duration": 19,
    "start_time": "2022-02-02T18:13:04.454Z"
   },
   {
    "duration": 32,
    "start_time": "2022-02-02T18:13:04.477Z"
   },
   {
    "duration": 55,
    "start_time": "2022-02-02T18:13:04.512Z"
   },
   {
    "duration": 8,
    "start_time": "2022-02-02T18:13:04.570Z"
   },
   {
    "duration": 10,
    "start_time": "2022-02-02T18:13:04.581Z"
   },
   {
    "duration": 18,
    "start_time": "2022-02-02T18:13:04.593Z"
   },
   {
    "duration": 41,
    "start_time": "2022-02-02T18:13:04.614Z"
   },
   {
    "duration": 107,
    "start_time": "2022-02-02T18:13:04.658Z"
   },
   {
    "duration": 563,
    "start_time": "2022-02-02T18:13:04.768Z"
   },
   {
    "duration": 590,
    "start_time": "2022-02-02T18:13:05.333Z"
   },
   {
    "duration": 646,
    "start_time": "2022-02-02T18:13:05.926Z"
   },
   {
    "duration": 6,
    "start_time": "2022-02-02T18:13:06.574Z"
   },
   {
    "duration": 90,
    "start_time": "2022-02-02T18:13:06.582Z"
   },
   {
    "duration": 12,
    "start_time": "2022-02-02T18:13:06.675Z"
   },
   {
    "duration": 8,
    "start_time": "2022-02-02T18:13:06.689Z"
   },
   {
    "duration": 779,
    "start_time": "2022-02-02T18:13:06.700Z"
   },
   {
    "duration": 53,
    "start_time": "2022-02-02T18:13:07.482Z"
   },
   {
    "duration": 12,
    "start_time": "2022-02-02T18:13:07.550Z"
   },
   {
    "duration": 119,
    "start_time": "2022-02-02T18:13:07.565Z"
   },
   {
    "duration": 26,
    "start_time": "2022-02-02T18:13:07.689Z"
   },
   {
    "duration": 48,
    "start_time": "2022-02-02T18:13:07.718Z"
   },
   {
    "duration": 3,
    "start_time": "2022-02-02T18:13:07.769Z"
   },
   {
    "duration": 24,
    "start_time": "2022-02-02T18:13:07.775Z"
   },
   {
    "duration": 7,
    "start_time": "2022-02-02T18:13:07.802Z"
   },
   {
    "duration": 13,
    "start_time": "2022-02-02T18:13:16.225Z"
   },
   {
    "duration": 618,
    "start_time": "2022-02-02T18:16:43.476Z"
   },
   {
    "duration": 310,
    "start_time": "2022-02-02T18:17:19.161Z"
   },
   {
    "duration": 38,
    "start_time": "2022-02-02T18:18:05.190Z"
   },
   {
    "duration": 5,
    "start_time": "2022-02-02T18:20:24.171Z"
   },
   {
    "duration": 240,
    "start_time": "2022-02-02T18:20:41.751Z"
   },
   {
    "duration": 6,
    "start_time": "2022-02-02T18:21:07.319Z"
   },
   {
    "duration": 347,
    "start_time": "2022-02-02T18:21:10.603Z"
   },
   {
    "duration": 7,
    "start_time": "2022-02-02T18:21:23.526Z"
   },
   {
    "duration": 6,
    "start_time": "2022-02-02T18:21:25.928Z"
   },
   {
    "duration": 1842,
    "start_time": "2022-02-02T18:21:36.007Z"
   },
   {
    "duration": 777,
    "start_time": "2022-02-02T18:21:37.852Z"
   },
   {
    "duration": 87,
    "start_time": "2022-02-02T18:21:38.633Z"
   },
   {
    "duration": 60,
    "start_time": "2022-02-02T18:21:38.724Z"
   },
   {
    "duration": 69,
    "start_time": "2022-02-02T18:21:38.788Z"
   },
   {
    "duration": 26,
    "start_time": "2022-02-02T18:21:38.860Z"
   },
   {
    "duration": 25,
    "start_time": "2022-02-02T18:21:38.890Z"
   },
   {
    "duration": 34,
    "start_time": "2022-02-02T18:21:38.951Z"
   },
   {
    "duration": 22,
    "start_time": "2022-02-02T18:21:38.990Z"
   },
   {
    "duration": 38,
    "start_time": "2022-02-02T18:21:39.015Z"
   },
   {
    "duration": 14,
    "start_time": "2022-02-02T18:21:39.056Z"
   },
   {
    "duration": 11,
    "start_time": "2022-02-02T18:21:39.073Z"
   },
   {
    "duration": 23,
    "start_time": "2022-02-02T18:21:39.087Z"
   },
   {
    "duration": 136,
    "start_time": "2022-02-02T18:21:39.113Z"
   },
   {
    "duration": 574,
    "start_time": "2022-02-02T18:21:39.251Z"
   },
   {
    "duration": 423,
    "start_time": "2022-02-02T18:21:39.828Z"
   },
   {
    "duration": 697,
    "start_time": "2022-02-02T18:21:40.254Z"
   },
   {
    "duration": 7,
    "start_time": "2022-02-02T18:21:40.955Z"
   },
   {
    "duration": 89,
    "start_time": "2022-02-02T18:21:40.965Z"
   },
   {
    "duration": 13,
    "start_time": "2022-02-02T18:21:41.057Z"
   },
   {
    "duration": 9,
    "start_time": "2022-02-02T18:21:41.072Z"
   },
   {
    "duration": 1075,
    "start_time": "2022-02-02T18:21:41.085Z"
   },
   {
    "duration": 86,
    "start_time": "2022-02-02T18:21:42.166Z"
   },
   {
    "duration": 15,
    "start_time": "2022-02-02T18:21:42.256Z"
   },
   {
    "duration": 167,
    "start_time": "2022-02-02T18:21:42.274Z"
   },
   {
    "duration": 43,
    "start_time": "2022-02-02T18:21:42.448Z"
   },
   {
    "duration": 64,
    "start_time": "2022-02-02T18:21:42.495Z"
   },
   {
    "duration": 3,
    "start_time": "2022-02-02T18:21:42.561Z"
   },
   {
    "duration": 26,
    "start_time": "2022-02-02T18:21:42.567Z"
   },
   {
    "duration": 7,
    "start_time": "2022-02-02T18:21:42.596Z"
   },
   {
    "duration": 6,
    "start_time": "2022-02-02T18:21:42.606Z"
   },
   {
    "duration": 8,
    "start_time": "2022-02-02T18:21:42.650Z"
   },
   {
    "duration": 19,
    "start_time": "2022-02-02T18:21:58.021Z"
   },
   {
    "duration": 22,
    "start_time": "2022-02-02T18:22:12.070Z"
   },
   {
    "duration": 22,
    "start_time": "2022-02-02T18:24:04.809Z"
   },
   {
    "duration": 37,
    "start_time": "2022-02-02T19:13:28.641Z"
   },
   {
    "duration": 25,
    "start_time": "2022-02-02T19:13:32.328Z"
   },
   {
    "duration": 379,
    "start_time": "2022-02-02T19:17:14.550Z"
   },
   {
    "duration": 35,
    "start_time": "2022-02-02T19:17:30.638Z"
   },
   {
    "duration": 30,
    "start_time": "2022-02-02T19:17:34.433Z"
   },
   {
    "duration": 1392,
    "start_time": "2022-02-02T19:18:08.511Z"
   },
   {
    "duration": 515,
    "start_time": "2022-02-02T19:18:09.906Z"
   },
   {
    "duration": 62,
    "start_time": "2022-02-02T19:18:10.424Z"
   },
   {
    "duration": 26,
    "start_time": "2022-02-02T19:18:10.489Z"
   },
   {
    "duration": 60,
    "start_time": "2022-02-02T19:18:10.517Z"
   },
   {
    "duration": 25,
    "start_time": "2022-02-02T19:18:10.579Z"
   },
   {
    "duration": 49,
    "start_time": "2022-02-02T19:18:10.607Z"
   },
   {
    "duration": 28,
    "start_time": "2022-02-02T19:18:10.660Z"
   },
   {
    "duration": 14,
    "start_time": "2022-02-02T19:18:10.691Z"
   },
   {
    "duration": 44,
    "start_time": "2022-02-02T19:18:10.708Z"
   },
   {
    "duration": 11,
    "start_time": "2022-02-02T19:18:10.754Z"
   },
   {
    "duration": 13,
    "start_time": "2022-02-02T19:18:10.768Z"
   },
   {
    "duration": 17,
    "start_time": "2022-02-02T19:18:10.783Z"
   },
   {
    "duration": 124,
    "start_time": "2022-02-02T19:18:10.802Z"
   },
   {
    "duration": 568,
    "start_time": "2022-02-02T19:18:10.928Z"
   },
   {
    "duration": 412,
    "start_time": "2022-02-02T19:18:11.498Z"
   },
   {
    "duration": 555,
    "start_time": "2022-02-02T19:18:11.913Z"
   },
   {
    "duration": 6,
    "start_time": "2022-02-02T19:18:12.471Z"
   },
   {
    "duration": 82,
    "start_time": "2022-02-02T19:18:12.479Z"
   },
   {
    "duration": 11,
    "start_time": "2022-02-02T19:18:12.564Z"
   },
   {
    "duration": 6,
    "start_time": "2022-02-02T19:18:12.577Z"
   },
   {
    "duration": 632,
    "start_time": "2022-02-02T19:18:12.585Z"
   },
   {
    "duration": 59,
    "start_time": "2022-02-02T19:18:13.221Z"
   },
   {
    "duration": 10,
    "start_time": "2022-02-02T19:18:13.283Z"
   },
   {
    "duration": 107,
    "start_time": "2022-02-02T19:18:13.295Z"
   },
   {
    "duration": 45,
    "start_time": "2022-02-02T19:18:13.404Z"
   },
   {
    "duration": 26,
    "start_time": "2022-02-02T19:18:13.452Z"
   },
   {
    "duration": 2,
    "start_time": "2022-02-02T19:18:13.481Z"
   },
   {
    "duration": 18,
    "start_time": "2022-02-02T19:18:13.485Z"
   },
   {
    "duration": 360,
    "start_time": "2022-02-02T19:18:13.506Z"
   },
   {
    "duration": -267,
    "start_time": "2022-02-02T19:18:14.135Z"
   },
   {
    "duration": -267,
    "start_time": "2022-02-02T19:18:14.137Z"
   },
   {
    "duration": -269,
    "start_time": "2022-02-02T19:18:14.140Z"
   },
   {
    "duration": 1413,
    "start_time": "2022-02-02T19:18:56.585Z"
   },
   {
    "duration": 487,
    "start_time": "2022-02-02T19:18:58.001Z"
   },
   {
    "duration": 61,
    "start_time": "2022-02-02T19:18:58.492Z"
   },
   {
    "duration": 27,
    "start_time": "2022-02-02T19:18:58.556Z"
   },
   {
    "duration": 72,
    "start_time": "2022-02-02T19:18:58.586Z"
   },
   {
    "duration": 27,
    "start_time": "2022-02-02T19:18:58.661Z"
   },
   {
    "duration": 26,
    "start_time": "2022-02-02T19:18:58.692Z"
   },
   {
    "duration": 26,
    "start_time": "2022-02-02T19:18:58.749Z"
   },
   {
    "duration": 13,
    "start_time": "2022-02-02T19:18:58.777Z"
   },
   {
    "duration": 29,
    "start_time": "2022-02-02T19:18:58.792Z"
   },
   {
    "duration": 25,
    "start_time": "2022-02-02T19:18:58.823Z"
   },
   {
    "duration": 8,
    "start_time": "2022-02-02T19:18:58.850Z"
   },
   {
    "duration": 37,
    "start_time": "2022-02-02T19:18:58.860Z"
   },
   {
    "duration": 111,
    "start_time": "2022-02-02T19:18:58.900Z"
   },
   {
    "duration": 548,
    "start_time": "2022-02-02T19:18:59.014Z"
   },
   {
    "duration": 399,
    "start_time": "2022-02-02T19:18:59.565Z"
   },
   {
    "duration": 538,
    "start_time": "2022-02-02T19:18:59.966Z"
   },
   {
    "duration": 6,
    "start_time": "2022-02-02T19:19:00.507Z"
   },
   {
    "duration": 82,
    "start_time": "2022-02-02T19:19:00.515Z"
   },
   {
    "duration": 11,
    "start_time": "2022-02-02T19:19:00.599Z"
   },
   {
    "duration": 34,
    "start_time": "2022-02-02T19:19:00.613Z"
   },
   {
    "duration": 700,
    "start_time": "2022-02-02T19:19:00.652Z"
   },
   {
    "duration": 103,
    "start_time": "2022-02-02T19:19:01.355Z"
   },
   {
    "duration": 10,
    "start_time": "2022-02-02T19:19:01.461Z"
   },
   {
    "duration": 209,
    "start_time": "2022-02-02T19:19:01.473Z"
   },
   {
    "duration": 89,
    "start_time": "2022-02-02T19:19:01.684Z"
   },
   {
    "duration": 82,
    "start_time": "2022-02-02T19:19:01.775Z"
   },
   {
    "duration": 8,
    "start_time": "2022-02-02T19:19:01.860Z"
   },
   {
    "duration": 28,
    "start_time": "2022-02-02T19:19:01.870Z"
   },
   {
    "duration": 443,
    "start_time": "2022-02-02T19:19:01.900Z"
   },
   {
    "duration": -262,
    "start_time": "2022-02-02T19:19:02.608Z"
   },
   {
    "duration": -263,
    "start_time": "2022-02-02T19:19:02.610Z"
   },
   {
    "duration": -269,
    "start_time": "2022-02-02T19:19:02.618Z"
   },
   {
    "duration": 1415,
    "start_time": "2022-02-02T19:20:27.243Z"
   },
   {
    "duration": 505,
    "start_time": "2022-02-02T19:20:28.661Z"
   },
   {
    "duration": 56,
    "start_time": "2022-02-02T19:20:29.169Z"
   },
   {
    "duration": 34,
    "start_time": "2022-02-02T19:20:29.228Z"
   },
   {
    "duration": 43,
    "start_time": "2022-02-02T19:20:29.265Z"
   },
   {
    "duration": 46,
    "start_time": "2022-02-02T19:20:29.310Z"
   },
   {
    "duration": 17,
    "start_time": "2022-02-02T19:20:29.359Z"
   },
   {
    "duration": 26,
    "start_time": "2022-02-02T19:20:29.380Z"
   },
   {
    "duration": 51,
    "start_time": "2022-02-02T19:20:29.409Z"
   },
   {
    "duration": 8,
    "start_time": "2022-02-02T19:20:29.462Z"
   },
   {
    "duration": 12,
    "start_time": "2022-02-02T19:20:29.472Z"
   },
   {
    "duration": 10,
    "start_time": "2022-02-02T19:20:29.487Z"
   },
   {
    "duration": 51,
    "start_time": "2022-02-02T19:20:29.500Z"
   },
   {
    "duration": 105,
    "start_time": "2022-02-02T19:20:29.553Z"
   },
   {
    "duration": 935,
    "start_time": "2022-02-02T19:20:29.661Z"
   },
   {
    "duration": 751,
    "start_time": "2022-02-02T19:20:30.650Z"
   },
   {
    "duration": 547,
    "start_time": "2022-02-02T19:20:31.404Z"
   },
   {
    "duration": 5,
    "start_time": "2022-02-02T19:20:31.954Z"
   },
   {
    "duration": 67,
    "start_time": "2022-02-02T19:20:31.961Z"
   },
   {
    "duration": 36,
    "start_time": "2022-02-02T19:20:32.030Z"
   },
   {
    "duration": 5,
    "start_time": "2022-02-02T19:20:32.069Z"
   },
   {
    "duration": 664,
    "start_time": "2022-02-02T19:20:32.077Z"
   },
   {
    "duration": 48,
    "start_time": "2022-02-02T19:20:32.753Z"
   },
   {
    "duration": 10,
    "start_time": "2022-02-02T19:20:32.804Z"
   },
   {
    "duration": 118,
    "start_time": "2022-02-02T19:20:32.816Z"
   },
   {
    "duration": 34,
    "start_time": "2022-02-02T19:20:32.949Z"
   },
   {
    "duration": 28,
    "start_time": "2022-02-02T19:20:32.986Z"
   },
   {
    "duration": 33,
    "start_time": "2022-02-02T19:20:33.016Z"
   },
   {
    "duration": 7,
    "start_time": "2022-02-02T19:20:33.051Z"
   },
   {
    "duration": 11,
    "start_time": "2022-02-02T19:20:33.061Z"
   },
   {
    "duration": 32,
    "start_time": "2022-02-02T19:20:33.075Z"
   },
   {
    "duration": 1678,
    "start_time": "2022-02-02T19:46:17.932Z"
   },
   {
    "duration": 1092,
    "start_time": "2022-02-02T19:46:36.557Z"
   },
   {
    "duration": 8,
    "start_time": "2022-02-02T19:46:43.806Z"
   },
   {
    "duration": 32,
    "start_time": "2022-02-02T19:46:48.978Z"
   },
   {
    "duration": 39,
    "start_time": "2022-02-02T19:48:09.916Z"
   },
   {
    "duration": 120,
    "start_time": "2022-02-02T19:49:00.409Z"
   },
   {
    "duration": 39,
    "start_time": "2022-02-02T19:49:16.314Z"
   },
   {
    "duration": 45,
    "start_time": "2022-02-02T19:49:55.622Z"
   },
   {
    "duration": 42,
    "start_time": "2022-02-02T19:50:12.737Z"
   },
   {
    "duration": 235,
    "start_time": "2022-02-03T07:27:52.171Z"
   },
   {
    "duration": 1170,
    "start_time": "2022-02-03T07:27:59.693Z"
   },
   {
    "duration": 415,
    "start_time": "2022-02-03T07:28:00.865Z"
   },
   {
    "duration": 47,
    "start_time": "2022-02-03T07:28:01.283Z"
   },
   {
    "duration": 21,
    "start_time": "2022-02-03T07:28:01.332Z"
   },
   {
    "duration": 51,
    "start_time": "2022-02-03T07:28:01.354Z"
   },
   {
    "duration": 20,
    "start_time": "2022-02-03T07:28:01.419Z"
   },
   {
    "duration": 18,
    "start_time": "2022-02-03T07:28:01.441Z"
   },
   {
    "duration": 48,
    "start_time": "2022-02-03T07:28:01.461Z"
   },
   {
    "duration": 10,
    "start_time": "2022-02-03T07:28:01.512Z"
   },
   {
    "duration": 9,
    "start_time": "2022-02-03T07:28:01.524Z"
   },
   {
    "duration": 11,
    "start_time": "2022-02-03T07:28:01.534Z"
   },
   {
    "duration": 12,
    "start_time": "2022-02-03T07:28:01.547Z"
   },
   {
    "duration": 20,
    "start_time": "2022-02-03T07:28:01.561Z"
   },
   {
    "duration": 85,
    "start_time": "2022-02-03T07:28:01.583Z"
   },
   {
    "duration": 369,
    "start_time": "2022-02-03T07:28:01.669Z"
   },
   {
    "duration": 278,
    "start_time": "2022-02-03T07:28:02.040Z"
   },
   {
    "duration": 359,
    "start_time": "2022-02-03T07:28:02.320Z"
   },
   {
    "duration": 4,
    "start_time": "2022-02-03T07:28:02.681Z"
   },
   {
    "duration": 62,
    "start_time": "2022-02-03T07:28:02.687Z"
   },
   {
    "duration": 8,
    "start_time": "2022-02-03T07:28:02.751Z"
   },
   {
    "duration": 8,
    "start_time": "2022-02-03T07:28:02.760Z"
   },
   {
    "duration": 405,
    "start_time": "2022-02-03T07:28:02.770Z"
   },
   {
    "duration": 45,
    "start_time": "2022-02-03T07:28:03.177Z"
   },
   {
    "duration": 7,
    "start_time": "2022-02-03T07:28:03.224Z"
   },
   {
    "duration": 75,
    "start_time": "2022-02-03T07:28:03.232Z"
   },
   {
    "duration": 29,
    "start_time": "2022-02-03T07:28:03.308Z"
   },
   {
    "duration": 18,
    "start_time": "2022-02-03T07:28:03.341Z"
   },
   {
    "duration": 5,
    "start_time": "2022-02-03T07:28:03.361Z"
   },
   {
    "duration": 9,
    "start_time": "2022-02-03T07:28:03.368Z"
   },
   {
    "duration": 43,
    "start_time": "2022-02-03T07:28:03.378Z"
   },
   {
    "duration": 28,
    "start_time": "2022-02-03T07:28:03.423Z"
   },
   {
    "duration": 5,
    "start_time": "2022-02-03T08:12:39.331Z"
   },
   {
    "duration": 94,
    "start_time": "2022-02-03T08:13:04.141Z"
   },
   {
    "duration": 460,
    "start_time": "2022-02-03T08:13:10.511Z"
   },
   {
    "duration": 372,
    "start_time": "2022-02-03T08:13:46.480Z"
   },
   {
    "duration": 349,
    "start_time": "2022-02-03T08:15:03.980Z"
   },
   {
    "duration": 4980,
    "start_time": "2022-02-03T08:16:07.120Z"
   },
   {
    "duration": 612,
    "start_time": "2022-02-03T09:15:18.198Z"
   },
   {
    "duration": 380,
    "start_time": "2022-02-03T09:21:39.948Z"
   },
   {
    "duration": 1158,
    "start_time": "2022-02-03T09:28:26.901Z"
   },
   {
    "duration": 414,
    "start_time": "2022-02-03T09:28:28.061Z"
   },
   {
    "duration": 45,
    "start_time": "2022-02-03T09:28:28.477Z"
   },
   {
    "duration": 21,
    "start_time": "2022-02-03T09:28:28.524Z"
   },
   {
    "duration": 33,
    "start_time": "2022-02-03T09:28:28.547Z"
   },
   {
    "duration": 43,
    "start_time": "2022-02-03T09:28:28.582Z"
   },
   {
    "duration": 11,
    "start_time": "2022-02-03T09:28:28.626Z"
   },
   {
    "duration": 19,
    "start_time": "2022-02-03T09:28:28.638Z"
   },
   {
    "duration": 9,
    "start_time": "2022-02-03T09:28:28.660Z"
   },
   {
    "duration": 6,
    "start_time": "2022-02-03T09:28:28.671Z"
   },
   {
    "duration": 8,
    "start_time": "2022-02-03T09:28:28.678Z"
   },
   {
    "duration": 35,
    "start_time": "2022-02-03T09:28:28.688Z"
   },
   {
    "duration": 17,
    "start_time": "2022-02-03T09:28:28.725Z"
   },
   {
    "duration": 85,
    "start_time": "2022-02-03T09:28:28.744Z"
   },
   {
    "duration": 357,
    "start_time": "2022-02-03T09:28:28.831Z"
   },
   {
    "duration": 264,
    "start_time": "2022-02-03T09:28:29.190Z"
   },
   {
    "duration": 359,
    "start_time": "2022-02-03T09:28:29.455Z"
   },
   {
    "duration": 5,
    "start_time": "2022-02-03T09:28:29.815Z"
   },
   {
    "duration": 57,
    "start_time": "2022-02-03T09:28:29.822Z"
   },
   {
    "duration": 8,
    "start_time": "2022-02-03T09:28:29.881Z"
   },
   {
    "duration": 10,
    "start_time": "2022-02-03T09:28:29.890Z"
   },
   {
    "duration": 421,
    "start_time": "2022-02-03T09:28:29.902Z"
   },
   {
    "duration": 37,
    "start_time": "2022-02-03T09:28:30.325Z"
   },
   {
    "duration": 8,
    "start_time": "2022-02-03T09:28:30.364Z"
   },
   {
    "duration": 100,
    "start_time": "2022-02-03T09:28:30.373Z"
   },
   {
    "duration": 25,
    "start_time": "2022-02-03T09:28:30.475Z"
   },
   {
    "duration": 32,
    "start_time": "2022-02-03T09:28:30.504Z"
   },
   {
    "duration": 24,
    "start_time": "2022-02-03T09:28:30.539Z"
   },
   {
    "duration": 17,
    "start_time": "2022-02-03T09:28:30.565Z"
   },
   {
    "duration": 31,
    "start_time": "2022-02-03T09:28:30.583Z"
   },
   {
    "duration": 29,
    "start_time": "2022-02-03T09:28:30.616Z"
   },
   {
    "duration": 5,
    "start_time": "2022-02-03T09:28:30.648Z"
   },
   {
    "duration": 517,
    "start_time": "2022-02-03T09:28:30.654Z"
   },
   {
    "duration": 5,
    "start_time": "2022-02-03T09:28:47.479Z"
   },
   {
    "duration": 264,
    "start_time": "2022-02-03T09:28:49.759Z"
   },
   {
    "duration": 4,
    "start_time": "2022-02-03T09:29:38.079Z"
   },
   {
    "duration": 217,
    "start_time": "2022-02-03T09:29:42.370Z"
   },
   {
    "duration": 4,
    "start_time": "2022-02-03T09:32:30.195Z"
   },
   {
    "duration": 579,
    "start_time": "2022-02-03T09:32:32.905Z"
   },
   {
    "duration": 4,
    "start_time": "2022-02-03T09:33:54.039Z"
   },
   {
    "duration": 219,
    "start_time": "2022-02-03T09:33:56.439Z"
   },
   {
    "duration": 4,
    "start_time": "2022-02-03T09:34:09.917Z"
   },
   {
    "duration": 218,
    "start_time": "2022-02-03T09:34:12.129Z"
   },
   {
    "duration": 1255,
    "start_time": "2022-02-03T09:34:21.705Z"
   },
   {
    "duration": 416,
    "start_time": "2022-02-03T09:34:22.962Z"
   },
   {
    "duration": 45,
    "start_time": "2022-02-03T09:34:23.380Z"
   },
   {
    "duration": 21,
    "start_time": "2022-02-03T09:34:23.427Z"
   },
   {
    "duration": 35,
    "start_time": "2022-02-03T09:34:23.451Z"
   },
   {
    "duration": 40,
    "start_time": "2022-02-03T09:34:23.488Z"
   },
   {
    "duration": 16,
    "start_time": "2022-02-03T09:34:23.529Z"
   },
   {
    "duration": 20,
    "start_time": "2022-02-03T09:34:23.547Z"
   },
   {
    "duration": 9,
    "start_time": "2022-02-03T09:34:23.570Z"
   },
   {
    "duration": 42,
    "start_time": "2022-02-03T09:34:23.581Z"
   },
   {
    "duration": 9,
    "start_time": "2022-02-03T09:34:23.624Z"
   },
   {
    "duration": 9,
    "start_time": "2022-02-03T09:34:23.635Z"
   },
   {
    "duration": 16,
    "start_time": "2022-02-03T09:34:23.646Z"
   },
   {
    "duration": 100,
    "start_time": "2022-02-03T09:34:23.664Z"
   },
   {
    "duration": 377,
    "start_time": "2022-02-03T09:34:23.766Z"
   },
   {
    "duration": 275,
    "start_time": "2022-02-03T09:34:24.145Z"
   },
   {
    "duration": 363,
    "start_time": "2022-02-03T09:34:24.422Z"
   },
   {
    "duration": 5,
    "start_time": "2022-02-03T09:34:24.788Z"
   },
   {
    "duration": 66,
    "start_time": "2022-02-03T09:34:24.795Z"
   },
   {
    "duration": 8,
    "start_time": "2022-02-03T09:34:24.863Z"
   },
   {
    "duration": 6,
    "start_time": "2022-02-03T09:34:24.873Z"
   },
   {
    "duration": 463,
    "start_time": "2022-02-03T09:34:24.880Z"
   },
   {
    "duration": 37,
    "start_time": "2022-02-03T09:34:25.346Z"
   },
   {
    "duration": 8,
    "start_time": "2022-02-03T09:34:25.386Z"
   },
   {
    "duration": 86,
    "start_time": "2022-02-03T09:34:25.396Z"
   },
   {
    "duration": 34,
    "start_time": "2022-02-03T09:34:25.484Z"
   },
   {
    "duration": 20,
    "start_time": "2022-02-03T09:34:25.520Z"
   },
   {
    "duration": 5,
    "start_time": "2022-02-03T09:34:25.541Z"
   },
   {
    "duration": 10,
    "start_time": "2022-02-03T09:34:25.548Z"
   },
   {
    "duration": 18,
    "start_time": "2022-02-03T09:34:25.560Z"
   },
   {
    "duration": 51,
    "start_time": "2022-02-03T09:34:25.580Z"
   },
   {
    "duration": 4,
    "start_time": "2022-02-03T09:34:25.633Z"
   },
   {
    "duration": 236,
    "start_time": "2022-02-03T09:34:25.639Z"
   },
   {
    "duration": 4,
    "start_time": "2022-02-03T09:35:22.715Z"
   },
   {
    "duration": 269,
    "start_time": "2022-02-03T09:35:25.116Z"
   },
   {
    "duration": 225,
    "start_time": "2022-02-03T09:35:53.767Z"
   },
   {
    "duration": 6,
    "start_time": "2022-02-03T09:36:17.476Z"
   },
   {
    "duration": 343,
    "start_time": "2022-02-03T09:37:03.855Z"
   },
   {
    "duration": 4,
    "start_time": "2022-02-03T09:37:13.395Z"
   },
   {
    "duration": 222,
    "start_time": "2022-02-03T09:37:16.076Z"
   },
   {
    "duration": 5,
    "start_time": "2022-02-03T09:39:32.915Z"
   },
   {
    "duration": 348,
    "start_time": "2022-02-03T09:39:35.795Z"
   },
   {
    "duration": 248,
    "start_time": "2022-02-03T09:40:27.543Z"
   },
   {
    "duration": 4,
    "start_time": "2022-02-03T09:42:18.435Z"
   },
   {
    "duration": 292,
    "start_time": "2022-02-03T09:42:20.955Z"
   },
   {
    "duration": 7,
    "start_time": "2022-02-03T09:42:29.135Z"
   },
   {
    "duration": 5,
    "start_time": "2022-02-03T09:44:00.225Z"
   },
   {
    "duration": 557,
    "start_time": "2022-02-03T09:44:03.055Z"
   },
   {
    "duration": 4,
    "start_time": "2022-02-03T09:44:39.646Z"
   },
   {
    "duration": 214,
    "start_time": "2022-02-03T09:44:42.216Z"
   },
   {
    "duration": 4,
    "start_time": "2022-02-03T09:46:49.907Z"
   },
   {
    "duration": 228,
    "start_time": "2022-02-03T09:46:53.436Z"
   },
   {
    "duration": 4,
    "start_time": "2022-02-03T17:30:46.052Z"
   },
   {
    "duration": 1146,
    "start_time": "2022-02-03T17:30:53.595Z"
   },
   {
    "duration": 394,
    "start_time": "2022-02-03T17:30:54.743Z"
   },
   {
    "duration": 44,
    "start_time": "2022-02-03T17:30:55.139Z"
   },
   {
    "duration": 18,
    "start_time": "2022-02-03T17:30:55.185Z"
   },
   {
    "duration": 30,
    "start_time": "2022-02-03T17:30:55.205Z"
   },
   {
    "duration": 41,
    "start_time": "2022-02-03T17:30:55.237Z"
   },
   {
    "duration": 9,
    "start_time": "2022-02-03T17:30:55.280Z"
   },
   {
    "duration": 15,
    "start_time": "2022-02-03T17:30:55.291Z"
   },
   {
    "duration": 9,
    "start_time": "2022-02-03T17:30:55.308Z"
   },
   {
    "duration": 3,
    "start_time": "2022-02-03T17:30:55.319Z"
   },
   {
    "duration": 5,
    "start_time": "2022-02-03T17:30:55.324Z"
   },
   {
    "duration": 42,
    "start_time": "2022-02-03T17:30:55.330Z"
   },
   {
    "duration": 9,
    "start_time": "2022-02-03T17:30:55.373Z"
   },
   {
    "duration": 65,
    "start_time": "2022-02-03T17:30:55.384Z"
   },
   {
    "duration": 336,
    "start_time": "2022-02-03T17:30:55.451Z"
   },
   {
    "duration": 384,
    "start_time": "2022-02-03T17:30:55.789Z"
   },
   {
    "duration": 406,
    "start_time": "2022-02-03T17:30:56.175Z"
   },
   {
    "duration": 5,
    "start_time": "2022-02-03T17:30:56.583Z"
   },
   {
    "duration": 57,
    "start_time": "2022-02-03T17:30:56.589Z"
   },
   {
    "duration": 7,
    "start_time": "2022-02-03T17:30:56.648Z"
   },
   {
    "duration": 2,
    "start_time": "2022-02-03T17:30:56.672Z"
   },
   {
    "duration": 364,
    "start_time": "2022-02-03T17:30:56.675Z"
   },
   {
    "duration": 40,
    "start_time": "2022-02-03T17:30:57.041Z"
   },
   {
    "duration": 6,
    "start_time": "2022-02-03T17:30:57.083Z"
   },
   {
    "duration": 54,
    "start_time": "2022-02-03T17:30:57.090Z"
   },
   {
    "duration": 36,
    "start_time": "2022-02-03T17:30:57.146Z"
   },
   {
    "duration": 16,
    "start_time": "2022-02-03T17:30:57.185Z"
   },
   {
    "duration": 4,
    "start_time": "2022-02-03T17:30:57.203Z"
   },
   {
    "duration": 6,
    "start_time": "2022-02-03T17:30:57.209Z"
   },
   {
    "duration": 15,
    "start_time": "2022-02-03T17:30:57.217Z"
   },
   {
    "duration": 51,
    "start_time": "2022-02-03T17:30:57.234Z"
   },
   {
    "duration": 4,
    "start_time": "2022-02-03T17:30:57.286Z"
   },
   {
    "duration": 625,
    "start_time": "2022-02-03T17:30:57.291Z"
   },
   {
    "duration": 403,
    "start_time": "2022-02-03T17:30:57.515Z"
   },
   {
    "duration": 4,
    "start_time": "2022-02-03T17:31:35.103Z"
   },
   {
    "duration": 232,
    "start_time": "2022-02-03T17:31:37.857Z"
   },
   {
    "duration": 4,
    "start_time": "2022-02-03T17:35:08.974Z"
   },
   {
    "duration": 231,
    "start_time": "2022-02-03T17:35:11.426Z"
   },
   {
    "duration": 7,
    "start_time": "2022-02-03T17:35:19.753Z"
   },
   {
    "duration": 94,
    "start_time": "2022-02-03T17:36:37.766Z"
   },
   {
    "duration": 94,
    "start_time": "2022-02-03T17:37:01.999Z"
   },
   {
    "duration": 84,
    "start_time": "2022-02-03T17:37:34.138Z"
   },
   {
    "duration": 4,
    "start_time": "2022-02-03T17:38:18.923Z"
   },
   {
    "duration": 211,
    "start_time": "2022-02-03T17:38:21.808Z"
   },
   {
    "duration": 5,
    "start_time": "2022-02-03T17:38:55.854Z"
   },
   {
    "duration": 219,
    "start_time": "2022-02-03T17:39:00.906Z"
   },
   {
    "duration": 6,
    "start_time": "2022-02-03T17:39:08.245Z"
   },
   {
    "duration": 4,
    "start_time": "2022-02-03T17:39:31.579Z"
   },
   {
    "duration": 219,
    "start_time": "2022-02-03T17:39:34.569Z"
   },
   {
    "duration": 6,
    "start_time": "2022-02-03T17:39:40.749Z"
   },
   {
    "duration": 3,
    "start_time": "2022-02-03T17:40:04.469Z"
   },
   {
    "duration": 213,
    "start_time": "2022-02-03T17:40:09.037Z"
   },
   {
    "duration": 91,
    "start_time": "2022-02-03T17:41:37.919Z"
   },
   {
    "duration": 4,
    "start_time": "2022-02-03T17:41:47.382Z"
   },
   {
    "duration": 220,
    "start_time": "2022-02-03T17:41:49.759Z"
   },
   {
    "duration": 7,
    "start_time": "2022-02-03T17:42:01.539Z"
   },
   {
    "duration": 5,
    "start_time": "2022-02-03T17:43:53.334Z"
   },
   {
    "duration": 211,
    "start_time": "2022-02-03T17:43:56.094Z"
   },
   {
    "duration": 6,
    "start_time": "2022-02-03T17:44:08.301Z"
   },
   {
    "duration": 4,
    "start_time": "2022-02-03T17:46:25.243Z"
   },
   {
    "duration": 203,
    "start_time": "2022-02-03T17:46:27.720Z"
   },
   {
    "duration": 4,
    "start_time": "2022-02-03T17:47:00.428Z"
   },
   {
    "duration": 205,
    "start_time": "2022-02-03T17:47:03.037Z"
   },
   {
    "duration": 7,
    "start_time": "2022-02-03T17:47:14.063Z"
   },
   {
    "duration": 4,
    "start_time": "2022-02-03T17:48:06.214Z"
   },
   {
    "duration": 216,
    "start_time": "2022-02-03T17:48:08.692Z"
   },
   {
    "duration": 7,
    "start_time": "2022-02-03T17:48:22.476Z"
   },
   {
    "duration": 5,
    "start_time": "2022-02-03T17:49:19.199Z"
   },
   {
    "duration": 206,
    "start_time": "2022-02-03T17:49:21.623Z"
   },
   {
    "duration": 4,
    "start_time": "2022-02-03T17:51:01.649Z"
   },
   {
    "duration": 214,
    "start_time": "2022-02-03T17:51:03.985Z"
   },
   {
    "duration": 7,
    "start_time": "2022-02-03T17:51:12.389Z"
   },
   {
    "duration": 4,
    "start_time": "2022-02-03T17:53:46.325Z"
   },
   {
    "duration": 211,
    "start_time": "2022-02-03T17:53:49.197Z"
   },
   {
    "duration": 3,
    "start_time": "2022-02-03T17:56:54.449Z"
   },
   {
    "duration": 220,
    "start_time": "2022-02-03T17:57:04.359Z"
   },
   {
    "duration": 7,
    "start_time": "2022-02-03T17:57:14.211Z"
   },
   {
    "duration": 4,
    "start_time": "2022-02-03T18:10:45.040Z"
   },
   {
    "duration": 215,
    "start_time": "2022-02-03T18:10:48.711Z"
   },
   {
    "duration": 4,
    "start_time": "2022-02-03T18:20:12.413Z"
   },
   {
    "duration": 1267,
    "start_time": "2022-02-03T18:20:18.829Z"
   },
   {
    "duration": 87,
    "start_time": "2022-02-03T18:21:53.457Z"
   },
   {
    "duration": 5,
    "start_time": "2022-02-03T18:22:12.287Z"
   },
   {
    "duration": 210,
    "start_time": "2022-02-03T18:22:22.462Z"
   },
   {
    "duration": 3,
    "start_time": "2022-02-03T18:24:50.413Z"
   },
   {
    "duration": 91,
    "start_time": "2022-02-03T18:24:53.802Z"
   },
   {
    "duration": 7,
    "start_time": "2022-02-03T18:25:34.097Z"
   },
   {
    "duration": 86,
    "start_time": "2022-02-03T18:25:37.832Z"
   },
   {
    "duration": 85,
    "start_time": "2022-02-03T18:25:53.040Z"
   },
   {
    "duration": 6,
    "start_time": "2022-02-03T18:26:02.716Z"
   },
   {
    "duration": 3,
    "start_time": "2022-02-03T18:28:51.982Z"
   },
   {
    "duration": 97,
    "start_time": "2022-02-03T18:28:54.816Z"
   },
   {
    "duration": 4,
    "start_time": "2022-02-03T18:30:34.961Z"
   },
   {
    "duration": 132,
    "start_time": "2022-02-03T18:30:38.001Z"
   },
   {
    "duration": 7,
    "start_time": "2022-02-03T18:31:16.094Z"
   },
   {
    "duration": 102,
    "start_time": "2022-02-03T18:31:31.615Z"
   },
   {
    "duration": 3,
    "start_time": "2022-02-03T18:32:36.355Z"
   },
   {
    "duration": 161,
    "start_time": "2022-02-03T18:32:39.866Z"
   },
   {
    "duration": 8,
    "start_time": "2022-02-03T18:33:01.949Z"
   },
   {
    "duration": 5,
    "start_time": "2022-02-03T18:33:58.726Z"
   },
   {
    "duration": 158,
    "start_time": "2022-02-03T18:34:01.604Z"
   },
   {
    "duration": 3,
    "start_time": "2022-02-03T18:35:05.917Z"
   },
   {
    "duration": 99,
    "start_time": "2022-02-03T18:35:08.529Z"
   },
   {
    "duration": 2,
    "start_time": "2022-02-03T18:35:50.682Z"
   },
   {
    "duration": 83,
    "start_time": "2022-02-03T18:35:53.092Z"
   },
   {
    "duration": 4,
    "start_time": "2022-02-03T18:39:09.744Z"
   },
   {
    "duration": 181,
    "start_time": "2022-02-03T18:39:12.004Z"
   },
   {
    "duration": 4,
    "start_time": "2022-02-03T18:39:41.735Z"
   },
   {
    "duration": 150,
    "start_time": "2022-02-03T18:39:44.444Z"
   },
   {
    "duration": 3,
    "start_time": "2022-02-03T18:39:50.675Z"
   },
   {
    "duration": 160,
    "start_time": "2022-02-03T18:39:53.676Z"
   },
   {
    "duration": 7,
    "start_time": "2022-02-03T18:40:02.867Z"
   },
   {
    "duration": 4,
    "start_time": "2022-02-03T18:40:53.121Z"
   },
   {
    "duration": 208,
    "start_time": "2022-02-03T18:40:55.327Z"
   },
   {
    "duration": 6,
    "start_time": "2022-02-03T18:41:05.990Z"
   },
   {
    "duration": 24,
    "start_time": "2022-02-03T18:43:09.647Z"
   },
   {
    "duration": 26,
    "start_time": "2022-02-03T18:48:17.712Z"
   },
   {
    "duration": 4,
    "start_time": "2022-02-03T18:56:14.660Z"
   },
   {
    "duration": 209,
    "start_time": "2022-02-03T18:56:16.611Z"
   },
   {
    "duration": 6,
    "start_time": "2022-02-03T18:56:19.705Z"
   },
   {
    "duration": 10,
    "start_time": "2022-02-03T18:57:49.637Z"
   },
   {
    "duration": 6678,
    "start_time": "2022-02-03T18:58:28.199Z"
   },
   {
    "duration": 44,
    "start_time": "2022-02-03T18:58:39.993Z"
   },
   {
    "duration": 37,
    "start_time": "2022-02-03T18:58:54.643Z"
   },
   {
    "duration": 7,
    "start_time": "2022-02-03T18:59:27.086Z"
   },
   {
    "duration": 7,
    "start_time": "2022-02-03T18:59:45.500Z"
   },
   {
    "duration": 27,
    "start_time": "2022-02-03T19:00:32.441Z"
   },
   {
    "duration": 35,
    "start_time": "2022-02-03T19:01:11.074Z"
   },
   {
    "duration": 3,
    "start_time": "2022-02-03T19:03:50.298Z"
   },
   {
    "duration": 214,
    "start_time": "2022-02-03T19:03:52.587Z"
   },
   {
    "duration": 4,
    "start_time": "2022-02-03T19:04:43.167Z"
   },
   {
    "duration": 213,
    "start_time": "2022-02-03T19:04:44.894Z"
   },
   {
    "duration": 4,
    "start_time": "2022-02-03T19:05:29.977Z"
   },
   {
    "duration": 508,
    "start_time": "2022-02-03T19:05:32.105Z"
   },
   {
    "duration": 4,
    "start_time": "2022-02-03T19:05:50.698Z"
   },
   {
    "duration": 226,
    "start_time": "2022-02-03T19:05:53.042Z"
   },
   {
    "duration": 4,
    "start_time": "2022-02-03T19:06:33.911Z"
   },
   {
    "duration": 219,
    "start_time": "2022-02-03T19:06:36.252Z"
   },
   {
    "duration": 4,
    "start_time": "2022-02-03T19:07:06.212Z"
   },
   {
    "duration": 208,
    "start_time": "2022-02-03T19:07:07.990Z"
   },
   {
    "duration": 4,
    "start_time": "2022-02-03T19:08:01.409Z"
   },
   {
    "duration": 212,
    "start_time": "2022-02-03T19:08:03.801Z"
   },
   {
    "duration": 5,
    "start_time": "2022-02-03T19:08:21.946Z"
   },
   {
    "duration": 4,
    "start_time": "2022-02-03T19:28:41.967Z"
   },
   {
    "duration": 209,
    "start_time": "2022-02-03T19:28:44.534Z"
   },
   {
    "duration": 7,
    "start_time": "2022-02-03T19:28:51.240Z"
   },
   {
    "duration": 5,
    "start_time": "2022-02-03T19:29:12.860Z"
   },
   {
    "duration": 6,
    "start_time": "2022-02-03T19:29:28.639Z"
   },
   {
    "duration": 390,
    "start_time": "2022-02-05T13:26:45.015Z"
   },
   {
    "duration": 1496,
    "start_time": "2022-02-05T13:26:51.432Z"
   },
   {
    "duration": 592,
    "start_time": "2022-02-05T13:26:52.931Z"
   },
   {
    "duration": 84,
    "start_time": "2022-02-05T13:26:53.527Z"
   },
   {
    "duration": 48,
    "start_time": "2022-02-05T13:26:53.614Z"
   },
   {
    "duration": 47,
    "start_time": "2022-02-05T13:26:53.665Z"
   },
   {
    "duration": 55,
    "start_time": "2022-02-05T13:26:53.714Z"
   },
   {
    "duration": 16,
    "start_time": "2022-02-05T13:26:53.772Z"
   },
   {
    "duration": 27,
    "start_time": "2022-02-05T13:26:53.792Z"
   },
   {
    "duration": 14,
    "start_time": "2022-02-05T13:26:53.859Z"
   },
   {
    "duration": 5,
    "start_time": "2022-02-05T13:26:53.875Z"
   },
   {
    "duration": 7,
    "start_time": "2022-02-05T13:26:53.882Z"
   },
   {
    "duration": 7,
    "start_time": "2022-02-05T13:26:53.892Z"
   },
   {
    "duration": 58,
    "start_time": "2022-02-05T13:26:53.901Z"
   },
   {
    "duration": 112,
    "start_time": "2022-02-05T13:26:53.962Z"
   },
   {
    "duration": 559,
    "start_time": "2022-02-05T13:26:54.077Z"
   },
   {
    "duration": 424,
    "start_time": "2022-02-05T13:26:54.638Z"
   },
   {
    "duration": 559,
    "start_time": "2022-02-05T13:26:55.065Z"
   },
   {
    "duration": 5,
    "start_time": "2022-02-05T13:26:55.626Z"
   },
   {
    "duration": 84,
    "start_time": "2022-02-05T13:26:55.633Z"
   },
   {
    "duration": 13,
    "start_time": "2022-02-05T13:26:55.719Z"
   },
   {
    "duration": 24,
    "start_time": "2022-02-05T13:26:55.735Z"
   },
   {
    "duration": 771,
    "start_time": "2022-02-05T13:26:55.762Z"
   },
   {
    "duration": 59,
    "start_time": "2022-02-05T13:26:56.538Z"
   },
   {
    "duration": 10,
    "start_time": "2022-02-05T13:26:56.600Z"
   },
   {
    "duration": 111,
    "start_time": "2022-02-05T13:26:56.613Z"
   },
   {
    "duration": 41,
    "start_time": "2022-02-05T13:26:56.726Z"
   },
   {
    "duration": 28,
    "start_time": "2022-02-05T13:26:56.770Z"
   },
   {
    "duration": 6,
    "start_time": "2022-02-05T13:26:56.801Z"
   },
   {
    "duration": 9,
    "start_time": "2022-02-05T13:26:56.809Z"
   },
   {
    "duration": 56,
    "start_time": "2022-02-05T13:26:56.820Z"
   },
   {
    "duration": 44,
    "start_time": "2022-02-05T13:26:56.878Z"
   },
   {
    "duration": 5,
    "start_time": "2022-02-05T13:26:56.925Z"
   },
   {
    "duration": 404,
    "start_time": "2022-02-05T13:26:56.933Z"
   },
   {
    "duration": 21,
    "start_time": "2022-02-05T13:26:57.339Z"
   },
   {
    "duration": 467,
    "start_time": "2022-02-05T13:43:30.808Z"
   },
   {
    "duration": 328,
    "start_time": "2022-02-05T13:43:46.154Z"
   },
   {
    "duration": 648,
    "start_time": "2022-02-05T13:44:29.921Z"
   },
   {
    "duration": 352,
    "start_time": "2022-02-05T13:45:11.313Z"
   },
   {
    "duration": 470,
    "start_time": "2022-02-05T13:45:54.014Z"
   },
   {
    "duration": 439,
    "start_time": "2022-02-05T13:46:14.914Z"
   },
   {
    "duration": 420,
    "start_time": "2022-02-05T13:46:22.417Z"
   },
   {
    "duration": 350,
    "start_time": "2022-02-05T13:56:07.569Z"
   },
   {
    "duration": 42,
    "start_time": "2022-02-05T13:56:32.469Z"
   },
   {
    "duration": 661,
    "start_time": "2022-02-05T13:57:14.867Z"
   },
   {
    "duration": 40,
    "start_time": "2022-02-05T13:57:23.550Z"
   },
   {
    "duration": 654,
    "start_time": "2022-02-05T14:04:46.983Z"
   },
   {
    "duration": 41,
    "start_time": "2022-02-05T14:04:57.658Z"
   },
   {
    "duration": 10,
    "start_time": "2022-02-05T14:10:56.805Z"
   },
   {
    "duration": 40,
    "start_time": "2022-02-05T14:14:13.959Z"
   },
   {
    "duration": 41,
    "start_time": "2022-02-05T14:14:39.075Z"
   },
   {
    "duration": 15,
    "start_time": "2022-02-05T14:20:51.436Z"
   },
   {
    "duration": 25,
    "start_time": "2022-02-05T14:22:03.852Z"
   },
   {
    "duration": 43,
    "start_time": "2022-02-05T14:22:29.376Z"
   },
   {
    "duration": 303,
    "start_time": "2022-02-05T14:25:27.479Z"
   },
   {
    "duration": 305,
    "start_time": "2022-02-05T14:26:28.096Z"
   },
   {
    "duration": 517,
    "start_time": "2022-02-05T14:27:03.521Z"
   },
   {
    "duration": 354,
    "start_time": "2022-02-05T14:27:11.048Z"
   },
   {
    "duration": 390,
    "start_time": "2022-02-05T14:27:17.392Z"
   },
   {
    "duration": 484,
    "start_time": "2022-02-05T14:27:25.478Z"
   },
   {
    "duration": 402,
    "start_time": "2022-02-05T14:31:50.985Z"
   },
   {
    "duration": 354,
    "start_time": "2022-02-05T14:32:42.307Z"
   },
   {
    "duration": 385,
    "start_time": "2022-02-05T14:33:10.470Z"
   },
   {
    "duration": 384,
    "start_time": "2022-02-05T14:33:59.753Z"
   },
   {
    "duration": 414,
    "start_time": "2022-02-05T14:39:29.855Z"
   },
   {
    "duration": 392,
    "start_time": "2022-02-05T14:39:38.739Z"
   },
   {
    "duration": 396,
    "start_time": "2022-02-05T14:40:06.821Z"
   },
   {
    "duration": 98,
    "start_time": "2022-02-05T14:42:51.440Z"
   },
   {
    "duration": 104,
    "start_time": "2022-02-05T14:49:12.124Z"
   },
   {
    "duration": 460,
    "start_time": "2022-02-05T14:49:47.463Z"
   },
   {
    "duration": 552,
    "start_time": "2022-02-05T14:50:34.754Z"
   },
   {
    "duration": 434,
    "start_time": "2022-02-05T14:51:39.428Z"
   },
   {
    "duration": 438,
    "start_time": "2022-02-05T14:53:11.405Z"
   },
   {
    "duration": 55,
    "start_time": "2022-02-05T14:58:14.287Z"
   },
   {
    "duration": 25,
    "start_time": "2022-02-05T14:59:07.406Z"
   },
   {
    "duration": 41,
    "start_time": "2022-02-05T15:44:10.447Z"
   },
   {
    "duration": 43,
    "start_time": "2022-02-05T15:48:11.075Z"
   },
   {
    "duration": 40,
    "start_time": "2022-02-05T15:49:09.508Z"
   },
   {
    "duration": 121,
    "start_time": "2022-02-05T15:50:32.269Z"
   },
   {
    "duration": 136,
    "start_time": "2022-02-05T15:52:16.907Z"
   },
   {
    "duration": 506,
    "start_time": "2022-02-05T15:54:21.658Z"
   },
   {
    "duration": 482,
    "start_time": "2022-02-05T15:54:32.150Z"
   },
   {
    "duration": 478,
    "start_time": "2022-02-05T15:54:54.381Z"
   },
   {
    "duration": 77,
    "start_time": "2022-02-05T18:53:30.979Z"
   },
   {
    "duration": 59,
    "start_time": "2022-02-05T18:54:19.158Z"
   },
   {
    "duration": 78,
    "start_time": "2022-02-05T18:54:51.034Z"
   },
   {
    "duration": 59,
    "start_time": "2022-02-05T18:55:04.231Z"
   },
   {
    "duration": 75,
    "start_time": "2022-02-05T18:55:23.887Z"
   },
   {
    "duration": 57,
    "start_time": "2022-02-05T18:55:35.800Z"
   },
   {
    "duration": 767,
    "start_time": "2022-02-05T19:14:14.795Z"
   },
   {
    "duration": 800,
    "start_time": "2022-02-05T19:15:13.015Z"
   },
   {
    "duration": 607,
    "start_time": "2022-02-05T19:15:50.320Z"
   },
   {
    "duration": 477,
    "start_time": "2022-02-05T19:15:59.309Z"
   },
   {
    "duration": 570,
    "start_time": "2022-02-05T19:16:16.216Z"
   },
   {
    "duration": 877,
    "start_time": "2022-02-05T19:16:27.034Z"
   },
   {
    "duration": 543,
    "start_time": "2022-02-05T19:16:34.173Z"
   },
   {
    "duration": 417,
    "start_time": "2022-02-05T19:17:01.890Z"
   },
   {
    "duration": 561,
    "start_time": "2022-02-05T19:17:08.914Z"
   },
   {
    "duration": 509,
    "start_time": "2022-02-05T19:17:13.708Z"
   },
   {
    "duration": 549,
    "start_time": "2022-02-05T19:17:21.124Z"
   },
   {
    "duration": 464,
    "start_time": "2022-02-05T19:17:51.746Z"
   },
   {
    "duration": 459,
    "start_time": "2022-02-05T19:18:01.335Z"
   },
   {
    "duration": 516,
    "start_time": "2022-02-05T19:18:18.261Z"
   },
   {
    "duration": 459,
    "start_time": "2022-02-05T19:18:31.944Z"
   },
   {
    "duration": 846,
    "start_time": "2022-02-05T19:18:55.821Z"
   },
   {
    "duration": 519,
    "start_time": "2022-02-05T19:19:02.569Z"
   },
   {
    "duration": 474,
    "start_time": "2022-02-05T19:19:14.643Z"
   },
   {
    "duration": 495,
    "start_time": "2022-02-05T19:19:24.513Z"
   },
   {
    "duration": 503,
    "start_time": "2022-02-05T19:19:33.266Z"
   },
   {
    "duration": 630,
    "start_time": "2022-02-05T19:19:54.888Z"
   },
   {
    "duration": 589,
    "start_time": "2022-02-05T19:20:03.056Z"
   },
   {
    "duration": 538,
    "start_time": "2022-02-05T19:20:09.809Z"
   },
   {
    "duration": 464,
    "start_time": "2022-02-05T19:20:19.940Z"
   },
   {
    "duration": 6573,
    "start_time": "2022-02-05T19:21:40.272Z"
   },
   {
    "duration": 842,
    "start_time": "2022-02-05T19:21:55.817Z"
   },
   {
    "duration": 563,
    "start_time": "2022-02-05T19:22:06.961Z"
   },
   {
    "duration": 568,
    "start_time": "2022-02-05T19:22:14.603Z"
   },
   {
    "duration": 1025,
    "start_time": "2022-02-06T12:36:38.127Z"
   },
   {
    "duration": 357,
    "start_time": "2022-02-06T12:36:39.154Z"
   },
   {
    "duration": 39,
    "start_time": "2022-02-06T12:36:39.513Z"
   },
   {
    "duration": 20,
    "start_time": "2022-02-06T12:36:39.553Z"
   },
   {
    "duration": 33,
    "start_time": "2022-02-06T12:36:39.575Z"
   },
   {
    "duration": 16,
    "start_time": "2022-02-06T12:36:39.610Z"
   },
   {
    "duration": 11,
    "start_time": "2022-02-06T12:36:39.628Z"
   },
   {
    "duration": 40,
    "start_time": "2022-02-06T12:36:39.641Z"
   },
   {
    "duration": 9,
    "start_time": "2022-02-06T12:36:39.683Z"
   },
   {
    "duration": 25,
    "start_time": "2022-02-06T12:36:39.693Z"
   },
   {
    "duration": 19,
    "start_time": "2022-02-06T12:36:39.719Z"
   },
   {
    "duration": 26,
    "start_time": "2022-02-06T12:36:39.739Z"
   },
   {
    "duration": 19,
    "start_time": "2022-02-06T12:36:39.767Z"
   },
   {
    "duration": 79,
    "start_time": "2022-02-06T12:36:39.787Z"
   },
   {
    "duration": 407,
    "start_time": "2022-02-06T12:36:39.868Z"
   },
   {
    "duration": 236,
    "start_time": "2022-02-06T12:36:40.276Z"
   },
   {
    "duration": 312,
    "start_time": "2022-02-06T12:36:40.514Z"
   },
   {
    "duration": 4,
    "start_time": "2022-02-06T12:36:40.827Z"
   },
   {
    "duration": 55,
    "start_time": "2022-02-06T12:36:40.833Z"
   },
   {
    "duration": 6,
    "start_time": "2022-02-06T12:36:40.890Z"
   },
   {
    "duration": 23,
    "start_time": "2022-02-06T12:36:40.898Z"
   },
   {
    "duration": 593,
    "start_time": "2022-02-06T12:36:40.923Z"
   },
   {
    "duration": 35,
    "start_time": "2022-02-06T12:36:41.520Z"
   },
   {
    "duration": 19,
    "start_time": "2022-02-06T12:36:41.558Z"
   },
   {
    "duration": 89,
    "start_time": "2022-02-06T12:36:41.578Z"
   },
   {
    "duration": 21,
    "start_time": "2022-02-06T12:36:41.669Z"
   },
   {
    "duration": 16,
    "start_time": "2022-02-06T12:36:41.692Z"
   },
   {
    "duration": 5,
    "start_time": "2022-02-06T12:36:41.709Z"
   },
   {
    "duration": 31,
    "start_time": "2022-02-06T12:36:41.716Z"
   },
   {
    "duration": 36,
    "start_time": "2022-02-06T12:36:41.749Z"
   },
   {
    "duration": 26,
    "start_time": "2022-02-06T12:36:41.786Z"
   },
   {
    "duration": 4,
    "start_time": "2022-02-06T12:36:41.813Z"
   },
   {
    "duration": 268,
    "start_time": "2022-02-06T12:36:41.818Z"
   },
   {
    "duration": 7,
    "start_time": "2022-02-06T12:36:42.088Z"
   },
   {
    "duration": 12,
    "start_time": "2022-02-06T12:36:42.097Z"
   },
   {
    "duration": 23,
    "start_time": "2022-02-06T12:36:42.111Z"
   },
   {
    "duration": 18,
    "start_time": "2022-02-06T12:36:42.135Z"
   },
   {
    "duration": 41,
    "start_time": "2022-02-06T12:36:42.155Z"
   },
   {
    "duration": 312,
    "start_time": "2022-02-06T12:36:42.197Z"
   },
   {
    "duration": 33,
    "start_time": "2022-02-06T12:36:42.511Z"
   },
   {
    "duration": 370,
    "start_time": "2022-02-06T12:36:42.546Z"
   },
   {
    "duration": 35,
    "start_time": "2022-02-06T12:36:42.918Z"
   },
   {
    "duration": 272,
    "start_time": "2022-02-06T12:36:42.955Z"
   },
   {
    "duration": 330,
    "start_time": "2022-02-06T13:34:50.344Z"
   },
   {
    "duration": 374,
    "start_time": "2022-02-06T13:35:06.975Z"
   },
   {
    "duration": 407,
    "start_time": "2022-02-06T13:35:19.881Z"
   },
   {
    "duration": 370,
    "start_time": "2022-02-06T13:35:34.362Z"
   },
   {
    "duration": 346,
    "start_time": "2022-02-06T13:35:43.966Z"
   },
   {
    "duration": 334,
    "start_time": "2022-02-06T13:35:51.501Z"
   },
   {
    "duration": 431,
    "start_time": "2022-02-06T13:35:58.226Z"
   },
   {
    "duration": 369,
    "start_time": "2022-02-06T13:36:09.989Z"
   },
   {
    "duration": 428,
    "start_time": "2022-02-06T13:58:18.228Z"
   },
   {
    "duration": 373,
    "start_time": "2022-02-06T13:58:30.237Z"
   },
   {
    "duration": 374,
    "start_time": "2022-02-06T14:04:00.252Z"
   },
   {
    "duration": 436,
    "start_time": "2022-02-06T14:04:08.981Z"
   },
   {
    "duration": 356,
    "start_time": "2022-02-06T14:04:20.570Z"
   },
   {
    "duration": 607,
    "start_time": "2022-02-06T14:04:31.048Z"
   },
   {
    "duration": 393,
    "start_time": "2022-02-06T14:04:40.673Z"
   },
   {
    "duration": 381,
    "start_time": "2022-02-06T14:04:59.128Z"
   },
   {
    "duration": 421,
    "start_time": "2022-02-06T14:09:13.895Z"
   },
   {
    "duration": 499,
    "start_time": "2022-02-06T14:09:22.378Z"
   },
   {
    "duration": 442,
    "start_time": "2022-02-06T14:09:38.753Z"
   },
   {
    "duration": 459,
    "start_time": "2022-02-06T14:09:51.345Z"
   },
   {
    "duration": 479,
    "start_time": "2022-02-06T14:10:02.528Z"
   },
   {
    "duration": 314,
    "start_time": "2022-02-06T14:35:11.400Z"
   },
   {
    "duration": 286,
    "start_time": "2022-02-06T14:35:25.247Z"
   },
   {
    "duration": 290,
    "start_time": "2022-02-06T14:35:33.777Z"
   },
   {
    "duration": 13,
    "start_time": "2022-02-06T14:40:53.634Z"
   },
   {
    "duration": 360,
    "start_time": "2022-02-06T14:49:12.454Z"
   },
   {
    "duration": 283,
    "start_time": "2022-02-06T14:49:18.937Z"
   },
   {
    "duration": 307,
    "start_time": "2022-02-06T14:49:44.888Z"
   },
   {
    "duration": 291,
    "start_time": "2022-02-06T14:49:51.068Z"
   },
   {
    "duration": 282,
    "start_time": "2022-02-06T14:49:56.774Z"
   },
   {
    "duration": 280,
    "start_time": "2022-02-06T14:50:03.011Z"
   },
   {
    "duration": 1115,
    "start_time": "2022-02-07T12:14:52.074Z"
   },
   {
    "duration": 368,
    "start_time": "2022-02-07T12:14:53.191Z"
   },
   {
    "duration": 45,
    "start_time": "2022-02-07T12:14:53.563Z"
   },
   {
    "duration": 19,
    "start_time": "2022-02-07T12:14:53.609Z"
   },
   {
    "duration": 31,
    "start_time": "2022-02-07T12:14:53.630Z"
   },
   {
    "duration": 18,
    "start_time": "2022-02-07T12:14:53.663Z"
   },
   {
    "duration": 35,
    "start_time": "2022-02-07T12:14:53.683Z"
   },
   {
    "duration": 16,
    "start_time": "2022-02-07T12:14:53.721Z"
   },
   {
    "duration": 9,
    "start_time": "2022-02-07T12:14:53.739Z"
   },
   {
    "duration": 7,
    "start_time": "2022-02-07T12:14:53.750Z"
   },
   {
    "duration": 6,
    "start_time": "2022-02-07T12:14:53.758Z"
   },
   {
    "duration": 12,
    "start_time": "2022-02-07T12:14:53.765Z"
   },
   {
    "duration": 41,
    "start_time": "2022-02-07T12:14:53.779Z"
   },
   {
    "duration": 72,
    "start_time": "2022-02-07T12:14:53.821Z"
   },
   {
    "duration": 392,
    "start_time": "2022-02-07T12:14:53.895Z"
   },
   {
    "duration": 276,
    "start_time": "2022-02-07T12:14:54.289Z"
   },
   {
    "duration": 360,
    "start_time": "2022-02-07T12:14:54.567Z"
   },
   {
    "duration": 4,
    "start_time": "2022-02-07T12:14:54.929Z"
   },
   {
    "duration": 50,
    "start_time": "2022-02-07T12:14:54.935Z"
   },
   {
    "duration": 7,
    "start_time": "2022-02-07T12:14:54.987Z"
   },
   {
    "duration": 2,
    "start_time": "2022-02-07T12:14:55.013Z"
   },
   {
    "duration": 438,
    "start_time": "2022-02-07T12:14:55.017Z"
   },
   {
    "duration": 35,
    "start_time": "2022-02-07T12:14:55.457Z"
   },
   {
    "duration": 20,
    "start_time": "2022-02-07T12:14:55.493Z"
   },
   {
    "duration": 62,
    "start_time": "2022-02-07T12:14:55.515Z"
   },
   {
    "duration": 39,
    "start_time": "2022-02-07T12:14:55.580Z"
   },
   {
    "duration": 18,
    "start_time": "2022-02-07T12:14:55.621Z"
   },
   {
    "duration": 4,
    "start_time": "2022-02-07T12:14:55.641Z"
   },
   {
    "duration": 8,
    "start_time": "2022-02-07T12:14:55.647Z"
   },
   {
    "duration": 23,
    "start_time": "2022-02-07T12:14:55.657Z"
   },
   {
    "duration": 44,
    "start_time": "2022-02-07T12:14:55.682Z"
   },
   {
    "duration": 3,
    "start_time": "2022-02-07T12:14:55.728Z"
   },
   {
    "duration": 244,
    "start_time": "2022-02-07T12:14:55.733Z"
   },
   {
    "duration": 6,
    "start_time": "2022-02-07T12:14:55.979Z"
   },
   {
    "duration": 14,
    "start_time": "2022-02-07T12:14:55.987Z"
   },
   {
    "duration": 17,
    "start_time": "2022-02-07T12:14:56.002Z"
   },
   {
    "duration": 15,
    "start_time": "2022-02-07T12:14:56.021Z"
   },
   {
    "duration": 38,
    "start_time": "2022-02-07T12:14:56.037Z"
   },
   {
    "duration": 663,
    "start_time": "2022-02-07T12:14:56.077Z"
   },
   {
    "duration": 38,
    "start_time": "2022-02-07T12:14:56.742Z"
   },
   {
    "duration": 374,
    "start_time": "2022-02-07T12:14:56.782Z"
   },
   {
    "duration": 55,
    "start_time": "2022-02-07T12:14:57.158Z"
   },
   {
    "duration": 346,
    "start_time": "2022-02-07T12:14:57.215Z"
   },
   {
    "duration": 1104,
    "start_time": "2022-02-07T12:32:15.328Z"
   },
   {
    "duration": 388,
    "start_time": "2022-02-07T12:32:16.433Z"
   },
   {
    "duration": 42,
    "start_time": "2022-02-07T12:32:16.823Z"
   },
   {
    "duration": 19,
    "start_time": "2022-02-07T12:32:16.867Z"
   },
   {
    "duration": 46,
    "start_time": "2022-02-07T12:32:16.888Z"
   },
   {
    "duration": 19,
    "start_time": "2022-02-07T12:32:16.936Z"
   },
   {
    "duration": 12,
    "start_time": "2022-02-07T12:32:16.956Z"
   },
   {
    "duration": 51,
    "start_time": "2022-02-07T12:32:16.971Z"
   },
   {
    "duration": 9,
    "start_time": "2022-02-07T12:32:17.025Z"
   },
   {
    "duration": 9,
    "start_time": "2022-02-07T12:32:17.037Z"
   },
   {
    "duration": 8,
    "start_time": "2022-02-07T12:32:17.048Z"
   },
   {
    "duration": 8,
    "start_time": "2022-02-07T12:32:17.058Z"
   },
   {
    "duration": 21,
    "start_time": "2022-02-07T12:32:17.067Z"
   },
   {
    "duration": 96,
    "start_time": "2022-02-07T12:32:17.089Z"
   },
   {
    "duration": 397,
    "start_time": "2022-02-07T12:32:17.187Z"
   },
   {
    "duration": 282,
    "start_time": "2022-02-07T12:32:17.587Z"
   },
   {
    "duration": 370,
    "start_time": "2022-02-07T12:32:17.871Z"
   },
   {
    "duration": 5,
    "start_time": "2022-02-07T12:32:18.244Z"
   },
   {
    "duration": 66,
    "start_time": "2022-02-07T12:32:18.251Z"
   },
   {
    "duration": 8,
    "start_time": "2022-02-07T12:32:18.319Z"
   },
   {
    "duration": 8,
    "start_time": "2022-02-07T12:32:18.329Z"
   },
   {
    "duration": 425,
    "start_time": "2022-02-07T12:32:18.338Z"
   },
   {
    "duration": 33,
    "start_time": "2022-02-07T12:32:18.766Z"
   },
   {
    "duration": 6,
    "start_time": "2022-02-07T12:32:18.813Z"
   },
   {
    "duration": 61,
    "start_time": "2022-02-07T12:32:18.821Z"
   },
   {
    "duration": 33,
    "start_time": "2022-02-07T12:32:18.884Z"
   },
   {
    "duration": 18,
    "start_time": "2022-02-07T12:32:18.919Z"
   },
   {
    "duration": 7,
    "start_time": "2022-02-07T12:32:18.938Z"
   },
   {
    "duration": 7,
    "start_time": "2022-02-07T12:32:18.947Z"
   },
   {
    "duration": 20,
    "start_time": "2022-02-07T12:32:18.955Z"
   },
   {
    "duration": 49,
    "start_time": "2022-02-07T12:32:18.977Z"
   },
   {
    "duration": 4,
    "start_time": "2022-02-07T12:32:19.027Z"
   },
   {
    "duration": 240,
    "start_time": "2022-02-07T12:32:19.032Z"
   },
   {
    "duration": 5,
    "start_time": "2022-02-07T12:32:19.274Z"
   },
   {
    "duration": 8,
    "start_time": "2022-02-07T12:32:19.281Z"
   },
   {
    "duration": 30,
    "start_time": "2022-02-07T12:32:19.291Z"
   },
   {
    "duration": 15,
    "start_time": "2022-02-07T12:32:19.322Z"
   },
   {
    "duration": 37,
    "start_time": "2022-02-07T12:32:19.339Z"
   },
   {
    "duration": 640,
    "start_time": "2022-02-07T12:32:19.378Z"
   },
   {
    "duration": 39,
    "start_time": "2022-02-07T12:32:20.021Z"
   },
   {
    "duration": 371,
    "start_time": "2022-02-07T12:32:20.062Z"
   },
   {
    "duration": 39,
    "start_time": "2022-02-07T12:32:20.435Z"
   },
   {
    "duration": 359,
    "start_time": "2022-02-07T12:32:20.476Z"
   },
   {
    "duration": 323,
    "start_time": "2022-02-07T12:35:49.771Z"
   },
   {
    "duration": 248,
    "start_time": "2022-02-07T12:36:16.691Z"
   },
   {
    "duration": 5,
    "start_time": "2022-02-07T12:38:18.112Z"
   },
   {
    "duration": 5,
    "start_time": "2022-02-07T12:38:25.684Z"
   },
   {
    "duration": 6,
    "start_time": "2022-02-07T12:38:29.971Z"
   },
   {
    "duration": 6,
    "start_time": "2022-02-07T12:40:55.043Z"
   },
   {
    "duration": 6,
    "start_time": "2022-02-07T12:40:58.353Z"
   },
   {
    "duration": 98,
    "start_time": "2022-02-07T12:47:09.534Z"
   },
   {
    "duration": 76,
    "start_time": "2022-02-07T12:47:44.902Z"
   },
   {
    "duration": 91,
    "start_time": "2022-02-07T12:47:53.778Z"
   },
   {
    "duration": 4,
    "start_time": "2022-02-07T12:48:53.366Z"
   },
   {
    "duration": 3,
    "start_time": "2022-02-07T12:48:57.265Z"
   },
   {
    "duration": 5,
    "start_time": "2022-02-07T12:49:04.155Z"
   },
   {
    "duration": 5,
    "start_time": "2022-02-07T12:49:11.942Z"
   },
   {
    "duration": 4,
    "start_time": "2022-02-07T12:49:18.912Z"
   },
   {
    "duration": 5,
    "start_time": "2022-02-07T12:51:09.999Z"
   },
   {
    "duration": 4,
    "start_time": "2022-02-07T12:52:02.120Z"
   },
   {
    "duration": 473,
    "start_time": "2022-02-07T13:06:52.387Z"
   },
   {
    "duration": 5,
    "start_time": "2022-02-07T13:08:16.303Z"
   },
   {
    "duration": 23,
    "start_time": "2022-02-07T13:08:22.970Z"
   },
   {
    "duration": 23,
    "start_time": "2022-02-07T13:08:32.538Z"
   },
   {
    "duration": 394,
    "start_time": "2022-02-07T13:08:49.518Z"
   },
   {
    "duration": 8,
    "start_time": "2022-02-07T13:17:18.508Z"
   },
   {
    "duration": 11,
    "start_time": "2022-02-07T13:18:44.425Z"
   },
   {
    "duration": 10,
    "start_time": "2022-02-07T13:20:39.545Z"
   },
   {
    "duration": 4,
    "start_time": "2022-02-07T14:03:14.616Z"
   },
   {
    "duration": 6,
    "start_time": "2022-02-07T14:03:22.133Z"
   },
   {
    "duration": 5,
    "start_time": "2022-02-07T14:04:04.480Z"
   },
   {
    "duration": 4,
    "start_time": "2022-02-07T14:04:07.292Z"
   },
   {
    "duration": 6,
    "start_time": "2022-02-07T14:06:39.886Z"
   },
   {
    "duration": 175,
    "start_time": "2022-02-07T14:06:50.248Z"
   },
   {
    "duration": 226,
    "start_time": "2022-02-07T14:06:59.395Z"
   },
   {
    "duration": 209,
    "start_time": "2022-02-07T14:07:06.005Z"
   },
   {
    "duration": 5,
    "start_time": "2022-02-07T14:08:38.473Z"
   },
   {
    "duration": 250,
    "start_time": "2022-02-07T14:09:55.192Z"
   },
   {
    "duration": 187,
    "start_time": "2022-02-07T14:10:40.081Z"
   },
   {
    "duration": 206,
    "start_time": "2022-02-07T14:10:57.409Z"
   },
   {
    "duration": 2880,
    "start_time": "2022-02-07T14:13:18.250Z"
   },
   {
    "duration": 5,
    "start_time": "2022-02-07T14:13:36.280Z"
   },
   {
    "duration": 244,
    "start_time": "2022-02-07T14:19:32.812Z"
   },
   {
    "duration": 6,
    "start_time": "2022-02-07T14:19:49.511Z"
   },
   {
    "duration": 5,
    "start_time": "2022-02-07T14:20:06.444Z"
   },
   {
    "duration": 188,
    "start_time": "2022-02-07T14:20:42.729Z"
   },
   {
    "duration": 6,
    "start_time": "2022-02-07T14:21:42.239Z"
   },
   {
    "duration": 8,
    "start_time": "2022-02-07T14:22:33.114Z"
   },
   {
    "duration": 10,
    "start_time": "2022-02-07T14:22:36.610Z"
   },
   {
    "duration": 3,
    "start_time": "2022-02-07T14:22:53.010Z"
   },
   {
    "duration": 11636,
    "start_time": "2022-02-07T14:25:19.101Z"
   },
   {
    "duration": 320,
    "start_time": "2022-02-07T14:26:07.666Z"
   },
   {
    "duration": 348,
    "start_time": "2022-02-07T14:26:26.164Z"
   },
   {
    "duration": 627,
    "start_time": "2022-02-07T14:26:35.008Z"
   },
   {
    "duration": 706,
    "start_time": "2022-02-07T14:26:40.657Z"
   },
   {
    "duration": 407,
    "start_time": "2022-02-07T14:26:47.551Z"
   },
   {
    "duration": 352,
    "start_time": "2022-02-07T14:26:55.227Z"
   },
   {
    "duration": 357,
    "start_time": "2022-02-07T14:27:14.662Z"
   },
   {
    "duration": 358,
    "start_time": "2022-02-07T14:27:20.450Z"
   },
   {
    "duration": 380,
    "start_time": "2022-02-07T14:27:44.339Z"
   },
   {
    "duration": 401,
    "start_time": "2022-02-07T14:28:22.160Z"
   },
   {
    "duration": 534,
    "start_time": "2022-02-07T14:28:33.195Z"
   },
   {
    "duration": 495,
    "start_time": "2022-02-07T14:28:49.926Z"
   },
   {
    "duration": 441,
    "start_time": "2022-02-07T14:28:56.816Z"
   },
   {
    "duration": 430,
    "start_time": "2022-02-07T14:29:02.211Z"
   },
   {
    "duration": 416,
    "start_time": "2022-02-07T14:29:39.231Z"
   },
   {
    "duration": 429,
    "start_time": "2022-02-07T14:29:45.564Z"
   },
   {
    "duration": 523,
    "start_time": "2022-02-07T14:30:19.110Z"
   },
   {
    "duration": 464,
    "start_time": "2022-02-07T14:30:26.877Z"
   },
   {
    "duration": 484,
    "start_time": "2022-02-07T14:30:36.471Z"
   },
   {
    "duration": 415,
    "start_time": "2022-02-07T14:30:42.418Z"
   },
   {
    "duration": 1312,
    "start_time": "2022-02-08T14:41:03.465Z"
   },
   {
    "duration": 514,
    "start_time": "2022-02-08T14:41:04.779Z"
   },
   {
    "duration": 42,
    "start_time": "2022-02-08T14:41:05.295Z"
   },
   {
    "duration": 21,
    "start_time": "2022-02-08T14:41:05.339Z"
   },
   {
    "duration": 47,
    "start_time": "2022-02-08T14:41:05.362Z"
   },
   {
    "duration": 18,
    "start_time": "2022-02-08T14:41:05.411Z"
   },
   {
    "duration": 31,
    "start_time": "2022-02-08T14:41:05.431Z"
   },
   {
    "duration": 31,
    "start_time": "2022-02-08T14:41:05.465Z"
   },
   {
    "duration": 9,
    "start_time": "2022-02-08T14:41:05.498Z"
   },
   {
    "duration": 9,
    "start_time": "2022-02-08T14:41:05.509Z"
   },
   {
    "duration": 17,
    "start_time": "2022-02-08T14:41:05.520Z"
   },
   {
    "duration": 9,
    "start_time": "2022-02-08T14:41:05.539Z"
   },
   {
    "duration": 16,
    "start_time": "2022-02-08T14:41:05.549Z"
   },
   {
    "duration": 78,
    "start_time": "2022-02-08T14:41:05.567Z"
   },
   {
    "duration": 366,
    "start_time": "2022-02-08T14:41:05.663Z"
   },
   {
    "duration": 274,
    "start_time": "2022-02-08T14:41:06.031Z"
   },
   {
    "duration": 376,
    "start_time": "2022-02-08T14:41:06.307Z"
   },
   {
    "duration": 5,
    "start_time": "2022-02-08T14:41:06.684Z"
   },
   {
    "duration": 69,
    "start_time": "2022-02-08T14:41:06.691Z"
   },
   {
    "duration": 15,
    "start_time": "2022-02-08T14:41:06.763Z"
   },
   {
    "duration": 16,
    "start_time": "2022-02-08T14:41:06.780Z"
   },
   {
    "duration": 443,
    "start_time": "2022-02-08T14:41:06.797Z"
   },
   {
    "duration": 43,
    "start_time": "2022-02-08T14:41:07.243Z"
   },
   {
    "duration": 8,
    "start_time": "2022-02-08T14:41:07.290Z"
   },
   {
    "duration": 93,
    "start_time": "2022-02-08T14:41:07.300Z"
   },
   {
    "duration": 22,
    "start_time": "2022-02-08T14:41:07.394Z"
   },
   {
    "duration": 18,
    "start_time": "2022-02-08T14:41:07.418Z"
   },
   {
    "duration": 25,
    "start_time": "2022-02-08T14:41:07.437Z"
   },
   {
    "duration": 31,
    "start_time": "2022-02-08T14:41:07.464Z"
   },
   {
    "duration": 22,
    "start_time": "2022-02-08T14:41:07.497Z"
   },
   {
    "duration": 27,
    "start_time": "2022-02-08T14:41:07.520Z"
   },
   {
    "duration": 4,
    "start_time": "2022-02-08T14:41:07.548Z"
   },
   {
    "duration": 253,
    "start_time": "2022-02-08T14:41:07.553Z"
   },
   {
    "duration": 6,
    "start_time": "2022-02-08T14:41:07.807Z"
   },
   {
    "duration": 13,
    "start_time": "2022-02-08T14:41:07.814Z"
   },
   {
    "duration": 8,
    "start_time": "2022-02-08T14:41:07.828Z"
   },
   {
    "duration": 36,
    "start_time": "2022-02-08T14:41:07.837Z"
   },
   {
    "duration": 40,
    "start_time": "2022-02-08T14:41:07.875Z"
   },
   {
    "duration": 657,
    "start_time": "2022-02-08T14:41:07.917Z"
   },
   {
    "duration": 43,
    "start_time": "2022-02-08T14:41:08.576Z"
   },
   {
    "duration": 370,
    "start_time": "2022-02-08T14:41:08.621Z"
   },
   {
    "duration": 38,
    "start_time": "2022-02-08T14:41:08.993Z"
   },
   {
    "duration": 367,
    "start_time": "2022-02-08T14:41:09.033Z"
   },
   {
    "duration": 7,
    "start_time": "2022-02-08T14:41:09.403Z"
   },
   {
    "duration": 16,
    "start_time": "2022-02-08T14:41:09.412Z"
   },
   {
    "duration": 29,
    "start_time": "2022-02-08T14:41:09.430Z"
   },
   {
    "duration": 24,
    "start_time": "2022-02-08T14:41:09.461Z"
   },
   {
    "duration": 9,
    "start_time": "2022-02-08T14:41:09.488Z"
   },
   {
    "duration": 23,
    "start_time": "2022-02-08T14:41:09.498Z"
   },
   {
    "duration": 439,
    "start_time": "2022-02-08T14:41:09.523Z"
   },
   {
    "duration": 28,
    "start_time": "2022-02-08T14:47:07.671Z"
   },
   {
    "duration": 682,
    "start_time": "2022-02-08T14:48:14.071Z"
   },
   {
    "duration": 25,
    "start_time": "2022-02-08T14:48:22.219Z"
   },
   {
    "duration": 24,
    "start_time": "2022-02-08T14:50:23.380Z"
   },
   {
    "duration": 7,
    "start_time": "2022-02-08T14:51:59.851Z"
   },
   {
    "duration": 8,
    "start_time": "2022-02-08T14:52:27.711Z"
   },
   {
    "duration": 50,
    "start_time": "2022-02-08T14:55:29.744Z"
   },
   {
    "duration": 48,
    "start_time": "2022-02-08T14:55:45.477Z"
   },
   {
    "duration": 60,
    "start_time": "2022-02-08T14:56:21.852Z"
   },
   {
    "duration": 52,
    "start_time": "2022-02-08T14:58:26.930Z"
   },
   {
    "duration": 9,
    "start_time": "2022-02-08T14:58:41.814Z"
   },
   {
    "duration": 8,
    "start_time": "2022-02-08T14:59:22.223Z"
   },
   {
    "duration": 84,
    "start_time": "2022-02-08T15:00:13.303Z"
   },
   {
    "duration": 8,
    "start_time": "2022-02-08T15:00:23.846Z"
   },
   {
    "duration": 7,
    "start_time": "2022-02-08T15:07:20.533Z"
   },
   {
    "duration": 6,
    "start_time": "2022-02-08T15:07:28.571Z"
   },
   {
    "duration": 7,
    "start_time": "2022-02-08T15:07:57.056Z"
   },
   {
    "duration": 7,
    "start_time": "2022-02-08T15:08:06.341Z"
   },
   {
    "duration": 8,
    "start_time": "2022-02-08T15:08:11.572Z"
   },
   {
    "duration": 7,
    "start_time": "2022-02-08T15:08:36.003Z"
   },
   {
    "duration": 7,
    "start_time": "2022-02-08T15:08:45.207Z"
   },
   {
    "duration": 4,
    "start_time": "2022-02-08T15:08:59.754Z"
   },
   {
    "duration": 437,
    "start_time": "2022-02-08T15:09:12.318Z"
   },
   {
    "duration": 11,
    "start_time": "2022-02-08T15:25:30.008Z"
   },
   {
    "duration": 163,
    "start_time": "2022-02-08T15:27:56.324Z"
   },
   {
    "duration": 8,
    "start_time": "2022-02-08T15:29:29.318Z"
   },
   {
    "duration": 248,
    "start_time": "2022-02-08T15:30:06.334Z"
   },
   {
    "duration": 4,
    "start_time": "2022-02-08T15:30:21.440Z"
   },
   {
    "duration": 5,
    "start_time": "2022-02-08T15:30:31.551Z"
   },
   {
    "duration": 19,
    "start_time": "2022-02-08T15:30:38.847Z"
   },
   {
    "duration": 8,
    "start_time": "2022-02-08T15:32:21.888Z"
   },
   {
    "duration": 4,
    "start_time": "2022-02-08T15:33:52.805Z"
   },
   {
    "duration": 7,
    "start_time": "2022-02-08T15:36:38.118Z"
   },
   {
    "duration": 8,
    "start_time": "2022-02-08T15:37:23.792Z"
   },
   {
    "duration": 7,
    "start_time": "2022-02-08T15:39:04.448Z"
   },
   {
    "duration": 44,
    "start_time": "2022-02-08T15:53:28.809Z"
   },
   {
    "duration": 7,
    "start_time": "2022-02-08T15:53:34.801Z"
   },
   {
    "duration": 156,
    "start_time": "2022-02-08T15:58:20.007Z"
   },
   {
    "duration": 244,
    "start_time": "2022-02-08T15:58:57.762Z"
   },
   {
    "duration": 150,
    "start_time": "2022-02-08T15:59:13.227Z"
   },
   {
    "duration": 155,
    "start_time": "2022-02-08T15:59:27.853Z"
   },
   {
    "duration": 181,
    "start_time": "2022-02-08T15:59:51.319Z"
   },
   {
    "duration": 23,
    "start_time": "2022-02-08T16:00:15.425Z"
   },
   {
    "duration": 22,
    "start_time": "2022-02-08T16:00:44.746Z"
   },
   {
    "duration": 161,
    "start_time": "2022-02-08T16:01:06.886Z"
   },
   {
    "duration": 6,
    "start_time": "2022-02-08T16:01:37.672Z"
   },
   {
    "duration": 144,
    "start_time": "2022-02-08T16:01:50.487Z"
   },
   {
    "duration": 202,
    "start_time": "2022-02-08T16:02:05.933Z"
   },
   {
    "duration": 5,
    "start_time": "2022-02-08T16:02:25.339Z"
   },
   {
    "duration": 593,
    "start_time": "2022-02-08T16:02:37.099Z"
   },
   {
    "duration": 7,
    "start_time": "2022-02-08T16:02:50.926Z"
   },
   {
    "duration": 17,
    "start_time": "2022-02-08T16:03:26.059Z"
   },
   {
    "duration": 22,
    "start_time": "2022-02-08T16:03:30.893Z"
   },
   {
    "duration": 11,
    "start_time": "2022-02-08T16:03:43.107Z"
   },
   {
    "duration": 22,
    "start_time": "2022-02-08T16:03:50.800Z"
   },
   {
    "duration": 106,
    "start_time": "2022-02-08T16:04:21.890Z"
   },
   {
    "duration": 44,
    "start_time": "2022-02-08T16:04:39.656Z"
   },
   {
    "duration": 44,
    "start_time": "2022-02-08T16:05:29.665Z"
   },
   {
    "duration": 55,
    "start_time": "2022-02-08T16:05:46.282Z"
   },
   {
    "duration": 52,
    "start_time": "2022-02-08T16:06:26.305Z"
   },
   {
    "duration": 51,
    "start_time": "2022-02-08T16:06:47.070Z"
   },
   {
    "duration": 62,
    "start_time": "2022-02-08T16:06:53.963Z"
   },
   {
    "duration": 310,
    "start_time": "2022-02-08T16:07:07.510Z"
   },
   {
    "duration": 54,
    "start_time": "2022-02-08T16:07:20.078Z"
   },
   {
    "duration": 327,
    "start_time": "2022-02-08T16:07:33.004Z"
   },
   {
    "duration": 303,
    "start_time": "2022-02-08T16:07:48.684Z"
   },
   {
    "duration": 311,
    "start_time": "2022-02-08T16:07:57.050Z"
   },
   {
    "duration": 182,
    "start_time": "2022-02-08T16:10:16.916Z"
   },
   {
    "duration": 222,
    "start_time": "2022-02-08T16:10:40.506Z"
   },
   {
    "duration": 7,
    "start_time": "2022-02-08T16:11:19.113Z"
   },
   {
    "duration": 11,
    "start_time": "2022-02-08T16:11:23.371Z"
   },
   {
    "duration": 434,
    "start_time": "2022-02-08T16:11:36.511Z"
   },
   {
    "duration": 339,
    "start_time": "2022-02-08T16:11:43.371Z"
   },
   {
    "duration": 287,
    "start_time": "2022-02-08T16:12:22.319Z"
   },
   {
    "duration": 312,
    "start_time": "2022-02-08T16:12:29.959Z"
   },
   {
    "duration": 326,
    "start_time": "2022-02-08T16:12:36.032Z"
   },
   {
    "duration": 79,
    "start_time": "2022-02-08T16:15:14.428Z"
   },
   {
    "duration": 324,
    "start_time": "2022-02-08T16:15:21.762Z"
   },
   {
    "duration": 13,
    "start_time": "2022-02-08T16:24:13.454Z"
   },
   {
    "duration": 15,
    "start_time": "2022-02-08T16:24:28.388Z"
   },
   {
    "duration": 11,
    "start_time": "2022-02-08T16:24:39.539Z"
   },
   {
    "duration": 9,
    "start_time": "2022-02-08T16:24:45.323Z"
   },
   {
    "duration": 9,
    "start_time": "2022-02-08T16:24:52.457Z"
   },
   {
    "duration": 10,
    "start_time": "2022-02-08T16:25:03.563Z"
   },
   {
    "duration": 8,
    "start_time": "2022-02-08T16:26:01.730Z"
   },
   {
    "duration": 8,
    "start_time": "2022-02-08T16:26:39.685Z"
   },
   {
    "duration": 8,
    "start_time": "2022-02-08T16:26:46.946Z"
   },
   {
    "duration": 302,
    "start_time": "2022-02-08T16:29:41.588Z"
   },
   {
    "duration": 278,
    "start_time": "2022-02-08T16:37:27.583Z"
   },
   {
    "duration": 283,
    "start_time": "2022-02-08T16:37:34.153Z"
   },
   {
    "duration": 317,
    "start_time": "2022-02-08T16:37:57.388Z"
   },
   {
    "duration": 275,
    "start_time": "2022-02-08T16:38:03.780Z"
   },
   {
    "duration": 407,
    "start_time": "2022-02-08T16:38:12.686Z"
   },
   {
    "duration": 317,
    "start_time": "2022-02-08T16:42:02.603Z"
   },
   {
    "duration": 287,
    "start_time": "2022-02-08T16:43:25.916Z"
   },
   {
    "duration": 303,
    "start_time": "2022-02-08T16:43:59.560Z"
   },
   {
    "duration": 9,
    "start_time": "2022-02-08T16:45:47.702Z"
   },
   {
    "duration": 388,
    "start_time": "2022-02-08T16:49:10.558Z"
   },
   {
    "duration": 367,
    "start_time": "2022-02-08T16:51:12.835Z"
   },
   {
    "duration": 365,
    "start_time": "2022-02-08T16:51:19.360Z"
   },
   {
    "duration": 364,
    "start_time": "2022-02-08T16:51:29.087Z"
   },
   {
    "duration": 451,
    "start_time": "2022-02-08T16:51:42.002Z"
   },
   {
    "duration": 545,
    "start_time": "2022-02-08T16:51:55.075Z"
   },
   {
    "duration": 467,
    "start_time": "2022-02-08T16:52:06.713Z"
   },
   {
    "duration": 435,
    "start_time": "2022-02-08T16:52:21.425Z"
   },
   {
    "duration": 441,
    "start_time": "2022-02-08T16:52:24.639Z"
   },
   {
    "duration": 296,
    "start_time": "2022-02-08T16:53:00.703Z"
   },
   {
    "duration": 425,
    "start_time": "2022-02-08T16:53:12.935Z"
   },
   {
    "duration": 525,
    "start_time": "2022-02-08T17:03:07.135Z"
   },
   {
    "duration": 437,
    "start_time": "2022-02-08T17:03:17.051Z"
   },
   {
    "duration": 461,
    "start_time": "2022-02-08T17:03:25.366Z"
   },
   {
    "duration": 515,
    "start_time": "2022-02-08T17:03:32.049Z"
   },
   {
    "duration": 478,
    "start_time": "2022-02-08T17:03:40.481Z"
   },
   {
    "duration": 451,
    "start_time": "2022-02-08T17:03:48.567Z"
   },
   {
    "duration": 10,
    "start_time": "2022-02-08T17:28:45.599Z"
   },
   {
    "duration": 4,
    "start_time": "2022-02-08T17:32:03.538Z"
   },
   {
    "duration": 5,
    "start_time": "2022-02-08T17:32:16.335Z"
   },
   {
    "duration": 5,
    "start_time": "2022-02-08T17:32:52.447Z"
   },
   {
    "duration": 4,
    "start_time": "2022-02-08T17:32:57.676Z"
   },
   {
    "duration": 4,
    "start_time": "2022-02-08T17:33:19.504Z"
   },
   {
    "duration": 4,
    "start_time": "2022-02-08T17:33:22.031Z"
   },
   {
    "duration": 1507,
    "start_time": "2022-02-15T15:37:42.651Z"
   },
   {
    "duration": 502,
    "start_time": "2022-02-15T15:37:44.161Z"
   },
   {
    "duration": 64,
    "start_time": "2022-02-15T15:37:44.670Z"
   },
   {
    "duration": 27,
    "start_time": "2022-02-15T15:37:44.737Z"
   },
   {
    "duration": 69,
    "start_time": "2022-02-15T15:37:44.766Z"
   },
   {
    "duration": 25,
    "start_time": "2022-02-15T15:37:44.838Z"
   },
   {
    "duration": 17,
    "start_time": "2022-02-15T15:37:44.867Z"
   },
   {
    "duration": 68,
    "start_time": "2022-02-15T15:37:44.886Z"
   },
   {
    "duration": 14,
    "start_time": "2022-02-15T15:37:44.956Z"
   },
   {
    "duration": 10,
    "start_time": "2022-02-15T15:37:44.972Z"
   },
   {
    "duration": 13,
    "start_time": "2022-02-15T15:37:44.985Z"
   },
   {
    "duration": 37,
    "start_time": "2022-02-15T15:37:45.000Z"
   },
   {
    "duration": 25,
    "start_time": "2022-02-15T15:37:45.040Z"
   },
   {
    "duration": 121,
    "start_time": "2022-02-15T15:37:45.067Z"
   },
   {
    "duration": 577,
    "start_time": "2022-02-15T15:37:45.191Z"
   },
   {
    "duration": 769,
    "start_time": "2022-02-15T15:37:45.772Z"
   },
   {
    "duration": 723,
    "start_time": "2022-02-15T15:37:46.544Z"
   },
   {
    "duration": 5,
    "start_time": "2022-02-15T15:37:47.270Z"
   },
   {
    "duration": 87,
    "start_time": "2022-02-15T15:37:47.277Z"
   },
   {
    "duration": 11,
    "start_time": "2022-02-15T15:37:47.367Z"
   },
   {
    "duration": 944,
    "start_time": "2022-02-15T15:37:47.380Z"
   },
   {
    "duration": 52,
    "start_time": "2022-02-15T15:37:48.334Z"
   },
   {
    "duration": 10,
    "start_time": "2022-02-15T15:37:48.390Z"
   },
   {
    "duration": 109,
    "start_time": "2022-02-15T15:37:48.402Z"
   },
   {
    "duration": 48,
    "start_time": "2022-02-15T15:37:48.513Z"
   },
   {
    "duration": 32,
    "start_time": "2022-02-15T15:37:48.563Z"
   },
   {
    "duration": 7583,
    "start_time": "2022-02-15T15:37:48.598Z"
   },
   {
    "duration": -922,
    "start_time": "2022-02-15T15:37:57.106Z"
   },
   {
    "duration": -922,
    "start_time": "2022-02-15T15:37:57.108Z"
   },
   {
    "duration": -924,
    "start_time": "2022-02-15T15:37:57.112Z"
   },
   {
    "duration": -926,
    "start_time": "2022-02-15T15:37:57.116Z"
   },
   {
    "duration": -928,
    "start_time": "2022-02-15T15:37:57.120Z"
   },
   {
    "duration": -929,
    "start_time": "2022-02-15T15:37:57.123Z"
   },
   {
    "duration": -930,
    "start_time": "2022-02-15T15:37:57.126Z"
   },
   {
    "duration": -931,
    "start_time": "2022-02-15T15:37:57.129Z"
   },
   {
    "duration": -933,
    "start_time": "2022-02-15T15:37:57.132Z"
   },
   {
    "duration": -935,
    "start_time": "2022-02-15T15:37:57.136Z"
   },
   {
    "duration": -936,
    "start_time": "2022-02-15T15:37:57.139Z"
   },
   {
    "duration": -943,
    "start_time": "2022-02-15T15:37:57.148Z"
   },
   {
    "duration": -945,
    "start_time": "2022-02-15T15:37:57.152Z"
   },
   {
    "duration": -947,
    "start_time": "2022-02-15T15:37:57.156Z"
   },
   {
    "duration": -954,
    "start_time": "2022-02-15T15:37:57.165Z"
   },
   {
    "duration": -956,
    "start_time": "2022-02-15T15:37:57.169Z"
   },
   {
    "duration": -962,
    "start_time": "2022-02-15T15:37:57.177Z"
   },
   {
    "duration": -963,
    "start_time": "2022-02-15T15:37:57.180Z"
   },
   {
    "duration": -970,
    "start_time": "2022-02-15T15:37:57.189Z"
   },
   {
    "duration": -982,
    "start_time": "2022-02-15T15:37:57.203Z"
   },
   {
    "duration": -986,
    "start_time": "2022-02-15T15:37:57.218Z"
   },
   {
    "duration": -999,
    "start_time": "2022-02-15T15:37:57.233Z"
   },
   {
    "duration": -1015,
    "start_time": "2022-02-15T15:37:57.250Z"
   },
   {
    "duration": -1027,
    "start_time": "2022-02-15T15:37:57.264Z"
   },
   {
    "duration": -1034,
    "start_time": "2022-02-15T15:37:57.273Z"
   },
   {
    "duration": -1047,
    "start_time": "2022-02-15T15:37:57.288Z"
   },
   {
    "duration": -1065,
    "start_time": "2022-02-15T15:37:57.308Z"
   },
   {
    "duration": -1077,
    "start_time": "2022-02-15T15:37:57.322Z"
   },
   {
    "duration": -1090,
    "start_time": "2022-02-15T15:37:57.338Z"
   },
   {
    "duration": -1108,
    "start_time": "2022-02-15T15:37:57.357Z"
   },
   {
    "duration": -1123,
    "start_time": "2022-02-15T15:37:57.373Z"
   },
   {
    "duration": -1135,
    "start_time": "2022-02-15T15:37:57.387Z"
   },
   {
    "duration": -1150,
    "start_time": "2022-02-15T15:37:57.403Z"
   },
   {
    "duration": -1167,
    "start_time": "2022-02-15T15:37:57.421Z"
   },
   {
    "duration": -1180,
    "start_time": "2022-02-15T15:37:57.436Z"
   },
   {
    "duration": 1416,
    "start_time": "2022-02-15T15:38:19.076Z"
   },
   {
    "duration": 484,
    "start_time": "2022-02-15T15:38:20.495Z"
   },
   {
    "duration": 59,
    "start_time": "2022-02-15T15:38:20.982Z"
   },
   {
    "duration": 28,
    "start_time": "2022-02-15T15:38:21.044Z"
   },
   {
    "duration": 69,
    "start_time": "2022-02-15T15:38:21.074Z"
   },
   {
    "duration": 26,
    "start_time": "2022-02-15T15:38:21.145Z"
   },
   {
    "duration": 19,
    "start_time": "2022-02-15T15:38:21.173Z"
   },
   {
    "duration": 66,
    "start_time": "2022-02-15T15:38:21.196Z"
   },
   {
    "duration": 77,
    "start_time": "2022-02-15T15:38:21.266Z"
   },
   {
    "duration": 12,
    "start_time": "2022-02-15T15:38:21.346Z"
   },
   {
    "duration": 15,
    "start_time": "2022-02-15T15:38:21.360Z"
   },
   {
    "duration": 55,
    "start_time": "2022-02-15T15:38:21.378Z"
   },
   {
    "duration": 18,
    "start_time": "2022-02-15T15:38:21.435Z"
   },
   {
    "duration": 199,
    "start_time": "2022-02-15T15:38:21.456Z"
   },
   {
    "duration": 829,
    "start_time": "2022-02-15T15:38:21.658Z"
   },
   {
    "duration": 435,
    "start_time": "2022-02-15T15:38:22.489Z"
   },
   {
    "duration": 575,
    "start_time": "2022-02-15T15:38:22.926Z"
   },
   {
    "duration": 5,
    "start_time": "2022-02-15T15:38:23.504Z"
   },
   {
    "duration": 80,
    "start_time": "2022-02-15T15:38:23.511Z"
   },
   {
    "duration": 11,
    "start_time": "2022-02-15T15:38:23.593Z"
   },
   {
    "duration": 686,
    "start_time": "2022-02-15T15:38:23.606Z"
   },
   {
    "duration": 61,
    "start_time": "2022-02-15T15:38:24.294Z"
   },
   {
    "duration": 9,
    "start_time": "2022-02-15T15:38:24.361Z"
   },
   {
    "duration": 106,
    "start_time": "2022-02-15T15:38:24.373Z"
   },
   {
    "duration": 37,
    "start_time": "2022-02-15T15:38:24.482Z"
   },
   {
    "duration": 41,
    "start_time": "2022-02-15T15:38:24.521Z"
   },
   {
    "duration": 7228,
    "start_time": "2022-02-15T15:38:24.564Z"
   },
   {
    "duration": -904,
    "start_time": "2022-02-15T15:38:32.699Z"
   },
   {
    "duration": -906,
    "start_time": "2022-02-15T15:38:32.703Z"
   },
   {
    "duration": -907,
    "start_time": "2022-02-15T15:38:32.706Z"
   },
   {
    "duration": -910,
    "start_time": "2022-02-15T15:38:32.710Z"
   },
   {
    "duration": -911,
    "start_time": "2022-02-15T15:38:32.713Z"
   },
   {
    "duration": -913,
    "start_time": "2022-02-15T15:38:32.716Z"
   },
   {
    "duration": -914,
    "start_time": "2022-02-15T15:38:32.719Z"
   },
   {
    "duration": -917,
    "start_time": "2022-02-15T15:38:32.723Z"
   },
   {
    "duration": -918,
    "start_time": "2022-02-15T15:38:32.726Z"
   },
   {
    "duration": -919,
    "start_time": "2022-02-15T15:38:32.729Z"
   },
   {
    "duration": -921,
    "start_time": "2022-02-15T15:38:32.732Z"
   },
   {
    "duration": -929,
    "start_time": "2022-02-15T15:38:32.742Z"
   },
   {
    "duration": -931,
    "start_time": "2022-02-15T15:38:32.745Z"
   },
   {
    "duration": -932,
    "start_time": "2022-02-15T15:38:32.748Z"
   },
   {
    "duration": -934,
    "start_time": "2022-02-15T15:38:32.751Z"
   },
   {
    "duration": -936,
    "start_time": "2022-02-15T15:38:32.755Z"
   },
   {
    "duration": -938,
    "start_time": "2022-02-15T15:38:32.758Z"
   },
   {
    "duration": -939,
    "start_time": "2022-02-15T15:38:32.761Z"
   },
   {
    "duration": -941,
    "start_time": "2022-02-15T15:38:32.764Z"
   },
   {
    "duration": -942,
    "start_time": "2022-02-15T15:38:32.767Z"
   },
   {
    "duration": -944,
    "start_time": "2022-02-15T15:38:32.770Z"
   },
   {
    "duration": -945,
    "start_time": "2022-02-15T15:38:32.773Z"
   },
   {
    "duration": -945,
    "start_time": "2022-02-15T15:38:32.775Z"
   },
   {
    "duration": -946,
    "start_time": "2022-02-15T15:38:32.778Z"
   },
   {
    "duration": -948,
    "start_time": "2022-02-15T15:38:32.781Z"
   },
   {
    "duration": -949,
    "start_time": "2022-02-15T15:38:32.784Z"
   },
   {
    "duration": -950,
    "start_time": "2022-02-15T15:38:32.786Z"
   },
   {
    "duration": -951,
    "start_time": "2022-02-15T15:38:32.789Z"
   },
   {
    "duration": -953,
    "start_time": "2022-02-15T15:38:32.792Z"
   },
   {
    "duration": -954,
    "start_time": "2022-02-15T15:38:32.795Z"
   },
   {
    "duration": -956,
    "start_time": "2022-02-15T15:38:32.798Z"
   },
   {
    "duration": -956,
    "start_time": "2022-02-15T15:38:32.800Z"
   },
   {
    "duration": -957,
    "start_time": "2022-02-15T15:38:32.803Z"
   },
   {
    "duration": -966,
    "start_time": "2022-02-15T15:38:32.813Z"
   },
   {
    "duration": -968,
    "start_time": "2022-02-15T15:38:32.816Z"
   },
   {
    "duration": 1407,
    "start_time": "2022-02-15T15:40:13.193Z"
   },
   {
    "duration": 464,
    "start_time": "2022-02-15T15:40:14.603Z"
   },
   {
    "duration": 56,
    "start_time": "2022-02-15T15:40:15.070Z"
   },
   {
    "duration": 25,
    "start_time": "2022-02-15T15:40:15.129Z"
   },
   {
    "duration": 42,
    "start_time": "2022-02-15T15:40:15.157Z"
   },
   {
    "duration": 49,
    "start_time": "2022-02-15T15:40:15.201Z"
   },
   {
    "duration": 16,
    "start_time": "2022-02-15T15:40:15.252Z"
   },
   {
    "duration": 64,
    "start_time": "2022-02-15T15:40:15.272Z"
   },
   {
    "duration": 15,
    "start_time": "2022-02-15T15:40:15.340Z"
   },
   {
    "duration": 7,
    "start_time": "2022-02-15T15:40:15.358Z"
   },
   {
    "duration": 12,
    "start_time": "2022-02-15T15:40:15.368Z"
   },
   {
    "duration": 55,
    "start_time": "2022-02-15T15:40:15.382Z"
   },
   {
    "duration": 19,
    "start_time": "2022-02-15T15:40:15.440Z"
   },
   {
    "duration": 122,
    "start_time": "2022-02-15T15:40:15.462Z"
   },
   {
    "duration": 586,
    "start_time": "2022-02-15T15:40:15.587Z"
   },
   {
    "duration": 1095,
    "start_time": "2022-02-15T15:40:16.176Z"
   },
   {
    "duration": 586,
    "start_time": "2022-02-15T15:40:17.274Z"
   },
   {
    "duration": 3,
    "start_time": "2022-02-15T15:40:17.863Z"
   },
   {
    "duration": 88,
    "start_time": "2022-02-15T15:40:17.870Z"
   },
   {
    "duration": 13,
    "start_time": "2022-02-15T15:40:17.960Z"
   },
   {
    "duration": 673,
    "start_time": "2022-02-15T15:40:17.975Z"
   },
   {
    "duration": 51,
    "start_time": "2022-02-15T15:40:18.650Z"
   },
   {
    "duration": 28,
    "start_time": "2022-02-15T15:40:18.709Z"
   },
   {
    "duration": 106,
    "start_time": "2022-02-15T15:40:18.740Z"
   },
   {
    "duration": 37,
    "start_time": "2022-02-15T15:40:18.849Z"
   },
   {
    "duration": 51,
    "start_time": "2022-02-15T15:40:18.888Z"
   },
   {
    "duration": 8728,
    "start_time": "2022-02-15T15:40:18.942Z"
   },
   {
    "duration": -921,
    "start_time": "2022-02-15T15:40:28.593Z"
   },
   {
    "duration": -923,
    "start_time": "2022-02-15T15:40:28.597Z"
   },
   {
    "duration": -925,
    "start_time": "2022-02-15T15:40:28.601Z"
   },
   {
    "duration": -927,
    "start_time": "2022-02-15T15:40:28.604Z"
   },
   {
    "duration": -929,
    "start_time": "2022-02-15T15:40:28.607Z"
   },
   {
    "duration": -930,
    "start_time": "2022-02-15T15:40:28.610Z"
   },
   {
    "duration": -932,
    "start_time": "2022-02-15T15:40:28.613Z"
   },
   {
    "duration": -933,
    "start_time": "2022-02-15T15:40:28.615Z"
   },
   {
    "duration": -935,
    "start_time": "2022-02-15T15:40:28.619Z"
   },
   {
    "duration": -937,
    "start_time": "2022-02-15T15:40:28.622Z"
   },
   {
    "duration": -945,
    "start_time": "2022-02-15T15:40:28.631Z"
   },
   {
    "duration": -947,
    "start_time": "2022-02-15T15:40:28.634Z"
   },
   {
    "duration": -948,
    "start_time": "2022-02-15T15:40:28.637Z"
   },
   {
    "duration": -951,
    "start_time": "2022-02-15T15:40:28.641Z"
   },
   {
    "duration": -954,
    "start_time": "2022-02-15T15:40:28.645Z"
   },
   {
    "duration": -956,
    "start_time": "2022-02-15T15:40:28.648Z"
   },
   {
    "duration": -958,
    "start_time": "2022-02-15T15:40:28.651Z"
   },
   {
    "duration": -959,
    "start_time": "2022-02-15T15:40:28.654Z"
   },
   {
    "duration": -961,
    "start_time": "2022-02-15T15:40:28.657Z"
   },
   {
    "duration": -963,
    "start_time": "2022-02-15T15:40:28.660Z"
   },
   {
    "duration": -966,
    "start_time": "2022-02-15T15:40:28.664Z"
   },
   {
    "duration": -967,
    "start_time": "2022-02-15T15:40:28.666Z"
   },
   {
    "duration": -974,
    "start_time": "2022-02-15T15:40:28.675Z"
   },
   {
    "duration": -976,
    "start_time": "2022-02-15T15:40:28.678Z"
   },
   {
    "duration": -979,
    "start_time": "2022-02-15T15:40:28.682Z"
   },
   {
    "duration": -980,
    "start_time": "2022-02-15T15:40:28.684Z"
   },
   {
    "duration": -983,
    "start_time": "2022-02-15T15:40:28.688Z"
   },
   {
    "duration": -984,
    "start_time": "2022-02-15T15:40:28.691Z"
   },
   {
    "duration": -986,
    "start_time": "2022-02-15T15:40:28.694Z"
   },
   {
    "duration": -988,
    "start_time": "2022-02-15T15:40:28.697Z"
   },
   {
    "duration": -990,
    "start_time": "2022-02-15T15:40:28.700Z"
   },
   {
    "duration": -971,
    "start_time": "2022-02-15T15:40:28.703Z"
   },
   {
    "duration": -973,
    "start_time": "2022-02-15T15:40:28.706Z"
   },
   {
    "duration": -974,
    "start_time": "2022-02-15T15:40:28.709Z"
   },
   {
    "duration": -976,
    "start_time": "2022-02-15T15:40:28.712Z"
   },
   {
    "duration": 7885,
    "start_time": "2022-02-15T15:42:15.641Z"
   },
   {
    "duration": 1490,
    "start_time": "2022-02-15T15:43:04.516Z"
   },
   {
    "duration": 493,
    "start_time": "2022-02-15T15:43:06.009Z"
   },
   {
    "duration": 57,
    "start_time": "2022-02-15T15:43:06.505Z"
   },
   {
    "duration": 28,
    "start_time": "2022-02-15T15:43:06.564Z"
   },
   {
    "duration": 67,
    "start_time": "2022-02-15T15:43:06.595Z"
   },
   {
    "duration": 25,
    "start_time": "2022-02-15T15:43:06.667Z"
   },
   {
    "duration": 44,
    "start_time": "2022-02-15T15:43:06.695Z"
   },
   {
    "duration": 28,
    "start_time": "2022-02-15T15:43:06.743Z"
   },
   {
    "duration": 14,
    "start_time": "2022-02-15T15:43:06.774Z"
   },
   {
    "duration": 43,
    "start_time": "2022-02-15T15:43:06.791Z"
   },
   {
    "duration": 10,
    "start_time": "2022-02-15T15:43:06.836Z"
   },
   {
    "duration": 10,
    "start_time": "2022-02-15T15:43:06.849Z"
   },
   {
    "duration": 20,
    "start_time": "2022-02-15T15:43:06.862Z"
   },
   {
    "duration": 131,
    "start_time": "2022-02-15T15:43:06.885Z"
   },
   {
    "duration": 577,
    "start_time": "2022-02-15T15:43:07.019Z"
   },
   {
    "duration": 436,
    "start_time": "2022-02-15T15:43:07.598Z"
   },
   {
    "duration": 560,
    "start_time": "2022-02-15T15:43:08.037Z"
   },
   {
    "duration": 3,
    "start_time": "2022-02-15T15:43:08.599Z"
   },
   {
    "duration": 85,
    "start_time": "2022-02-15T15:43:08.605Z"
   },
   {
    "duration": 12,
    "start_time": "2022-02-15T15:43:08.692Z"
   },
   {
    "duration": 668,
    "start_time": "2022-02-15T15:43:08.706Z"
   },
   {
    "duration": 56,
    "start_time": "2022-02-15T15:43:09.376Z"
   },
   {
    "duration": 10,
    "start_time": "2022-02-15T15:43:09.438Z"
   },
   {
    "duration": 114,
    "start_time": "2022-02-15T15:43:09.451Z"
   },
   {
    "duration": 33,
    "start_time": "2022-02-15T15:43:09.568Z"
   },
   {
    "duration": 46,
    "start_time": "2022-02-15T15:43:09.604Z"
   },
   {
    "duration": 7540,
    "start_time": "2022-02-15T15:43:09.652Z"
   },
   {
    "duration": -906,
    "start_time": "2022-02-15T15:43:18.100Z"
   },
   {
    "duration": -908,
    "start_time": "2022-02-15T15:43:18.104Z"
   },
   {
    "duration": -910,
    "start_time": "2022-02-15T15:43:18.108Z"
   },
   {
    "duration": -912,
    "start_time": "2022-02-15T15:43:18.111Z"
   },
   {
    "duration": -914,
    "start_time": "2022-02-15T15:43:18.114Z"
   },
   {
    "duration": -916,
    "start_time": "2022-02-15T15:43:18.117Z"
   },
   {
    "duration": -919,
    "start_time": "2022-02-15T15:43:18.121Z"
   },
   {
    "duration": -920,
    "start_time": "2022-02-15T15:43:18.124Z"
   },
   {
    "duration": -922,
    "start_time": "2022-02-15T15:43:18.127Z"
   },
   {
    "duration": -924,
    "start_time": "2022-02-15T15:43:18.130Z"
   },
   {
    "duration": -933,
    "start_time": "2022-02-15T15:43:18.140Z"
   },
   {
    "duration": -934,
    "start_time": "2022-02-15T15:43:18.143Z"
   },
   {
    "duration": -936,
    "start_time": "2022-02-15T15:43:18.146Z"
   },
   {
    "duration": -938,
    "start_time": "2022-02-15T15:43:18.149Z"
   },
   {
    "duration": -940,
    "start_time": "2022-02-15T15:43:18.153Z"
   },
   {
    "duration": -943,
    "start_time": "2022-02-15T15:43:18.157Z"
   },
   {
    "duration": -944,
    "start_time": "2022-02-15T15:43:18.160Z"
   },
   {
    "duration": -946,
    "start_time": "2022-02-15T15:43:18.163Z"
   },
   {
    "duration": -947,
    "start_time": "2022-02-15T15:43:18.166Z"
   },
   {
    "duration": -947,
    "start_time": "2022-02-15T15:43:18.169Z"
   },
   {
    "duration": -950,
    "start_time": "2022-02-15T15:43:18.173Z"
   },
   {
    "duration": -951,
    "start_time": "2022-02-15T15:43:18.176Z"
   },
   {
    "duration": -954,
    "start_time": "2022-02-15T15:43:18.180Z"
   },
   {
    "duration": -955,
    "start_time": "2022-02-15T15:43:18.183Z"
   },
   {
    "duration": -957,
    "start_time": "2022-02-15T15:43:18.186Z"
   },
   {
    "duration": -958,
    "start_time": "2022-02-15T15:43:18.189Z"
   },
   {
    "duration": -960,
    "start_time": "2022-02-15T15:43:18.192Z"
   },
   {
    "duration": -968,
    "start_time": "2022-02-15T15:43:18.201Z"
   },
   {
    "duration": -969,
    "start_time": "2022-02-15T15:43:18.204Z"
   },
   {
    "duration": -971,
    "start_time": "2022-02-15T15:43:18.207Z"
   },
   {
    "duration": -973,
    "start_time": "2022-02-15T15:43:18.210Z"
   },
   {
    "duration": -975,
    "start_time": "2022-02-15T15:43:18.214Z"
   },
   {
    "duration": -977,
    "start_time": "2022-02-15T15:43:18.217Z"
   },
   {
    "duration": -979,
    "start_time": "2022-02-15T15:43:18.220Z"
   },
   {
    "duration": -981,
    "start_time": "2022-02-15T15:43:18.223Z"
   },
   {
    "duration": 37,
    "start_time": "2022-02-15T15:47:42.856Z"
   },
   {
    "duration": 28,
    "start_time": "2022-02-15T15:47:46.943Z"
   },
   {
    "duration": 16,
    "start_time": "2022-02-15T15:48:45.958Z"
   },
   {
    "duration": 28,
    "start_time": "2022-02-15T15:48:56.117Z"
   },
   {
    "duration": 31,
    "start_time": "2022-02-15T15:49:05.117Z"
   },
   {
    "duration": 36,
    "start_time": "2022-02-15T15:49:27.315Z"
   },
   {
    "duration": 27,
    "start_time": "2022-02-15T15:49:29.969Z"
   },
   {
    "duration": 37,
    "start_time": "2022-02-15T15:49:41.680Z"
   },
   {
    "duration": 33,
    "start_time": "2022-02-15T15:49:44.850Z"
   },
   {
    "duration": 1769,
    "start_time": "2022-02-15T15:50:22.402Z"
   },
   {
    "duration": 645,
    "start_time": "2022-02-15T15:50:24.174Z"
   },
   {
    "duration": 75,
    "start_time": "2022-02-15T15:50:24.824Z"
   },
   {
    "duration": 46,
    "start_time": "2022-02-15T15:50:24.902Z"
   },
   {
    "duration": 45,
    "start_time": "2022-02-15T15:50:24.951Z"
   },
   {
    "duration": 51,
    "start_time": "2022-02-15T15:50:24.998Z"
   },
   {
    "duration": 17,
    "start_time": "2022-02-15T15:50:25.052Z"
   },
   {
    "duration": 63,
    "start_time": "2022-02-15T15:50:25.072Z"
   },
   {
    "duration": 21,
    "start_time": "2022-02-15T15:50:25.140Z"
   },
   {
    "duration": 8,
    "start_time": "2022-02-15T15:50:25.165Z"
   },
   {
    "duration": 13,
    "start_time": "2022-02-15T15:50:25.176Z"
   },
   {
    "duration": 49,
    "start_time": "2022-02-15T15:50:25.193Z"
   },
   {
    "duration": 21,
    "start_time": "2022-02-15T15:50:25.245Z"
   },
   {
    "duration": 144,
    "start_time": "2022-02-15T15:50:25.268Z"
   },
   {
    "duration": 690,
    "start_time": "2022-02-15T15:50:25.415Z"
   },
   {
    "duration": 453,
    "start_time": "2022-02-15T15:50:26.108Z"
   },
   {
    "duration": 556,
    "start_time": "2022-02-15T15:50:26.563Z"
   },
   {
    "duration": 11,
    "start_time": "2022-02-15T15:50:27.121Z"
   },
   {
    "duration": 66,
    "start_time": "2022-02-15T15:50:27.134Z"
   },
   {
    "duration": 29,
    "start_time": "2022-02-15T15:50:27.203Z"
   },
   {
    "duration": 654,
    "start_time": "2022-02-15T15:50:27.234Z"
   },
   {
    "duration": 60,
    "start_time": "2022-02-15T15:50:27.890Z"
   },
   {
    "duration": 11,
    "start_time": "2022-02-15T15:50:27.952Z"
   },
   {
    "duration": 104,
    "start_time": "2022-02-15T15:50:27.965Z"
   },
   {
    "duration": 38,
    "start_time": "2022-02-15T15:50:28.072Z"
   },
   {
    "duration": 49,
    "start_time": "2022-02-15T15:50:28.112Z"
   },
   {
    "duration": 30,
    "start_time": "2022-02-15T15:50:28.167Z"
   },
   {
    "duration": 34,
    "start_time": "2022-02-15T15:50:28.201Z"
   },
   {
    "duration": 8,
    "start_time": "2022-02-15T15:50:28.237Z"
   },
   {
    "duration": 26,
    "start_time": "2022-02-15T15:50:28.247Z"
   },
   {
    "duration": 75,
    "start_time": "2022-02-15T15:50:28.276Z"
   },
   {
    "duration": 8,
    "start_time": "2022-02-15T15:50:28.354Z"
   },
   {
    "duration": 412,
    "start_time": "2022-02-15T15:50:28.364Z"
   },
   {
    "duration": 11,
    "start_time": "2022-02-15T15:50:28.779Z"
   },
   {
    "duration": 41,
    "start_time": "2022-02-15T15:50:28.793Z"
   },
   {
    "duration": 14,
    "start_time": "2022-02-15T15:50:28.837Z"
   },
   {
    "duration": 25,
    "start_time": "2022-02-15T15:50:28.853Z"
   },
   {
    "duration": 121,
    "start_time": "2022-02-15T15:50:28.881Z"
   },
   {
    "duration": 1396,
    "start_time": "2022-02-15T15:50:29.005Z"
   },
   {
    "duration": 76,
    "start_time": "2022-02-15T15:50:30.403Z"
   },
   {
    "duration": 551,
    "start_time": "2022-02-15T15:50:30.481Z"
   },
   {
    "duration": 58,
    "start_time": "2022-02-15T15:50:31.035Z"
   },
   {
    "duration": 552,
    "start_time": "2022-02-15T15:50:31.096Z"
   },
   {
    "duration": 9,
    "start_time": "2022-02-15T15:50:31.650Z"
   },
   {
    "duration": 24,
    "start_time": "2022-02-15T15:50:31.661Z"
   },
   {
    "duration": 15,
    "start_time": "2022-02-15T15:50:31.687Z"
   },
   {
    "duration": 5,
    "start_time": "2022-02-15T15:50:31.705Z"
   },
   {
    "duration": 24,
    "start_time": "2022-02-15T15:50:31.733Z"
   },
   {
    "duration": 10,
    "start_time": "2022-02-15T15:50:31.759Z"
   },
   {
    "duration": 677,
    "start_time": "2022-02-15T15:50:31.771Z"
   },
   {
    "duration": 41,
    "start_time": "2022-02-15T15:50:32.451Z"
   },
   {
    "duration": 37,
    "start_time": "2022-02-15T15:50:32.495Z"
   },
   {
    "duration": 6,
    "start_time": "2022-02-15T15:50:32.534Z"
   },
   {
    "duration": 10,
    "start_time": "2022-02-15T15:50:32.542Z"
   },
   {
    "duration": 11,
    "start_time": "2022-02-15T15:50:32.555Z"
   },
   {
    "duration": 10,
    "start_time": "2022-02-15T15:50:32.569Z"
   },
   {
    "duration": 12,
    "start_time": "2022-02-15T15:50:32.581Z"
   },
   {
    "duration": 51,
    "start_time": "2022-02-15T15:50:32.595Z"
   },
   {
    "duration": 505,
    "start_time": "2022-02-15T15:50:32.649Z"
   },
   {
    "duration": 15,
    "start_time": "2022-02-15T15:50:33.157Z"
   },
   {
    "duration": 518,
    "start_time": "2022-02-15T15:50:33.175Z"
   },
   {
    "duration": 13,
    "start_time": "2022-02-15T15:50:33.697Z"
   },
   {
    "duration": 752,
    "start_time": "2022-02-15T15:50:33.713Z"
   },
   {
    "duration": 1507,
    "start_time": "2022-02-15T15:51:26.431Z"
   },
   {
    "duration": 521,
    "start_time": "2022-02-15T15:51:27.941Z"
   },
   {
    "duration": 56,
    "start_time": "2022-02-15T15:51:28.465Z"
   },
   {
    "duration": 26,
    "start_time": "2022-02-15T15:51:28.524Z"
   },
   {
    "duration": 46,
    "start_time": "2022-02-15T15:51:28.552Z"
   },
   {
    "duration": 54,
    "start_time": "2022-02-15T15:51:28.600Z"
   },
   {
    "duration": 17,
    "start_time": "2022-02-15T15:51:28.656Z"
   },
   {
    "duration": 58,
    "start_time": "2022-02-15T15:51:28.677Z"
   },
   {
    "duration": 14,
    "start_time": "2022-02-15T15:51:28.737Z"
   },
   {
    "duration": 8,
    "start_time": "2022-02-15T15:51:28.753Z"
   },
   {
    "duration": 11,
    "start_time": "2022-02-15T15:51:28.763Z"
   },
   {
    "duration": 12,
    "start_time": "2022-02-15T15:51:28.776Z"
   },
   {
    "duration": 54,
    "start_time": "2022-02-15T15:51:28.790Z"
   },
   {
    "duration": 120,
    "start_time": "2022-02-15T15:51:28.846Z"
   },
   {
    "duration": 915,
    "start_time": "2022-02-15T15:51:28.968Z"
   },
   {
    "duration": 436,
    "start_time": "2022-02-15T15:51:29.885Z"
   },
   {
    "duration": 586,
    "start_time": "2022-02-15T15:51:30.324Z"
   },
   {
    "duration": 4,
    "start_time": "2022-02-15T15:51:30.915Z"
   },
   {
    "duration": 77,
    "start_time": "2022-02-15T15:51:30.933Z"
   },
   {
    "duration": 21,
    "start_time": "2022-02-15T15:51:31.013Z"
   },
   {
    "duration": 679,
    "start_time": "2022-02-15T15:51:31.036Z"
   },
   {
    "duration": 56,
    "start_time": "2022-02-15T15:51:31.717Z"
   },
   {
    "duration": 10,
    "start_time": "2022-02-15T15:51:31.779Z"
   },
   {
    "duration": 157,
    "start_time": "2022-02-15T15:51:31.794Z"
   },
   {
    "duration": 59,
    "start_time": "2022-02-15T15:51:31.954Z"
   },
   {
    "duration": 63,
    "start_time": "2022-02-15T15:51:32.016Z"
   },
   {
    "duration": 58,
    "start_time": "2022-02-15T15:51:32.082Z"
   },
   {
    "duration": 10,
    "start_time": "2022-02-15T15:51:32.144Z"
   },
   {
    "duration": 11,
    "start_time": "2022-02-15T15:51:32.157Z"
   },
   {
    "duration": 73,
    "start_time": "2022-02-15T15:51:32.172Z"
   },
   {
    "duration": 44,
    "start_time": "2022-02-15T15:51:32.248Z"
   },
   {
    "duration": 6,
    "start_time": "2022-02-15T15:51:32.295Z"
   },
   {
    "duration": 442,
    "start_time": "2022-02-15T15:51:32.303Z"
   },
   {
    "duration": 8,
    "start_time": "2022-02-15T15:51:32.748Z"
   },
   {
    "duration": 16,
    "start_time": "2022-02-15T15:51:32.758Z"
   },
   {
    "duration": 17,
    "start_time": "2022-02-15T15:51:32.777Z"
   },
   {
    "duration": 41,
    "start_time": "2022-02-15T15:51:32.796Z"
   },
   {
    "duration": 57,
    "start_time": "2022-02-15T15:51:32.840Z"
   },
   {
    "duration": 1010,
    "start_time": "2022-02-15T15:51:32.900Z"
   },
   {
    "duration": 70,
    "start_time": "2022-02-15T15:51:33.912Z"
   },
   {
    "duration": 874,
    "start_time": "2022-02-15T15:51:33.985Z"
   },
   {
    "duration": 110,
    "start_time": "2022-02-15T15:51:34.862Z"
   },
   {
    "duration": 850,
    "start_time": "2022-02-15T15:51:34.975Z"
   },
   {
    "duration": 7,
    "start_time": "2022-02-15T15:51:35.832Z"
   },
   {
    "duration": 11,
    "start_time": "2022-02-15T15:51:35.842Z"
   },
   {
    "duration": 17,
    "start_time": "2022-02-15T15:51:35.856Z"
   },
   {
    "duration": 13,
    "start_time": "2022-02-15T15:51:35.876Z"
   },
   {
    "duration": 43,
    "start_time": "2022-02-15T15:51:35.891Z"
   },
   {
    "duration": 5,
    "start_time": "2022-02-15T15:51:35.936Z"
   },
   {
    "duration": 691,
    "start_time": "2022-02-15T15:51:35.943Z"
   },
   {
    "duration": 40,
    "start_time": "2022-02-15T15:51:36.636Z"
   },
   {
    "duration": 13,
    "start_time": "2022-02-15T15:51:36.678Z"
   },
   {
    "duration": 6,
    "start_time": "2022-02-15T15:51:36.732Z"
   },
   {
    "duration": 7,
    "start_time": "2022-02-15T15:51:36.740Z"
   },
   {
    "duration": 9,
    "start_time": "2022-02-15T15:51:36.750Z"
   },
   {
    "duration": 13,
    "start_time": "2022-02-15T15:51:36.762Z"
   },
   {
    "duration": 58,
    "start_time": "2022-02-15T15:51:36.777Z"
   },
   {
    "duration": 36,
    "start_time": "2022-02-15T15:51:36.838Z"
   },
   {
    "duration": 766,
    "start_time": "2022-02-15T15:51:36.878Z"
   },
   {
    "duration": 19,
    "start_time": "2022-02-15T15:51:37.647Z"
   },
   {
    "duration": 767,
    "start_time": "2022-02-15T15:51:37.669Z"
   },
   {
    "duration": 17,
    "start_time": "2022-02-15T15:51:38.439Z"
   },
   {
    "duration": 818,
    "start_time": "2022-02-15T15:51:38.458Z"
   },
   {
    "duration": 6,
    "start_time": "2022-02-15T15:55:18.871Z"
   },
   {
    "duration": 472,
    "start_time": "2022-02-15T15:55:18.880Z"
   },
   {
    "duration": 53,
    "start_time": "2022-02-15T15:55:19.355Z"
   },
   {
    "duration": 39,
    "start_time": "2022-02-15T15:55:19.412Z"
   },
   {
    "duration": 47,
    "start_time": "2022-02-15T15:55:19.454Z"
   },
   {
    "duration": 53,
    "start_time": "2022-02-15T15:55:19.504Z"
   },
   {
    "duration": 18,
    "start_time": "2022-02-15T15:55:19.560Z"
   },
   {
    "duration": 63,
    "start_time": "2022-02-15T15:55:19.580Z"
   },
   {
    "duration": 15,
    "start_time": "2022-02-15T15:55:19.645Z"
   },
   {
    "duration": 10,
    "start_time": "2022-02-15T15:55:19.662Z"
   },
   {
    "duration": 29,
    "start_time": "2022-02-15T15:55:19.674Z"
   },
   {
    "duration": 32,
    "start_time": "2022-02-15T15:55:19.705Z"
   },
   {
    "duration": 18,
    "start_time": "2022-02-15T15:55:19.739Z"
   },
   {
    "duration": 118,
    "start_time": "2022-02-15T15:55:19.759Z"
   },
   {
    "duration": 554,
    "start_time": "2022-02-15T15:55:19.880Z"
   },
   {
    "duration": 513,
    "start_time": "2022-02-15T15:55:20.437Z"
   },
   {
    "duration": 561,
    "start_time": "2022-02-15T15:55:20.952Z"
   },
   {
    "duration": 11,
    "start_time": "2022-02-15T15:55:21.522Z"
   },
   {
    "duration": 63,
    "start_time": "2022-02-15T15:55:21.536Z"
   },
   {
    "duration": 11,
    "start_time": "2022-02-15T15:55:21.601Z"
   },
   {
    "duration": 651,
    "start_time": "2022-02-15T15:55:21.633Z"
   },
   {
    "duration": 61,
    "start_time": "2022-02-15T15:55:22.286Z"
   },
   {
    "duration": 10,
    "start_time": "2022-02-15T15:55:22.349Z"
   },
   {
    "duration": 103,
    "start_time": "2022-02-15T15:55:22.361Z"
   },
   {
    "duration": 36,
    "start_time": "2022-02-15T15:55:22.467Z"
   },
   {
    "duration": 34,
    "start_time": "2022-02-15T15:55:22.506Z"
   },
   {
    "duration": 9,
    "start_time": "2022-02-15T15:55:22.542Z"
   },
   {
    "duration": 10,
    "start_time": "2022-02-15T15:55:22.553Z"
   },
   {
    "duration": 27,
    "start_time": "2022-02-15T15:55:22.565Z"
   },
   {
    "duration": 42,
    "start_time": "2022-02-15T15:55:22.632Z"
   },
   {
    "duration": 5,
    "start_time": "2022-02-15T15:55:22.676Z"
   },
   {
    "duration": 437,
    "start_time": "2022-02-15T15:55:22.683Z"
   },
   {
    "duration": 18,
    "start_time": "2022-02-15T15:55:23.122Z"
   },
   {
    "duration": 11,
    "start_time": "2022-02-15T15:55:23.142Z"
   },
   {
    "duration": 16,
    "start_time": "2022-02-15T15:55:23.156Z"
   },
   {
    "duration": 23,
    "start_time": "2022-02-15T15:55:23.175Z"
   },
   {
    "duration": 85,
    "start_time": "2022-02-15T15:55:23.201Z"
   },
   {
    "duration": 933,
    "start_time": "2022-02-15T15:55:23.289Z"
   },
   {
    "duration": 57,
    "start_time": "2022-02-15T15:55:24.233Z"
   },
   {
    "duration": 539,
    "start_time": "2022-02-15T15:55:24.293Z"
   },
   {
    "duration": 62,
    "start_time": "2022-02-15T15:55:24.834Z"
   },
   {
    "duration": 564,
    "start_time": "2022-02-15T15:55:24.898Z"
   },
   {
    "duration": 8,
    "start_time": "2022-02-15T15:55:25.466Z"
   },
   {
    "duration": 14,
    "start_time": "2022-02-15T15:55:25.476Z"
   },
   {
    "duration": 49,
    "start_time": "2022-02-15T15:55:25.492Z"
   },
   {
    "duration": 6,
    "start_time": "2022-02-15T15:55:25.544Z"
   },
   {
    "duration": 13,
    "start_time": "2022-02-15T15:55:25.552Z"
   },
   {
    "duration": 5,
    "start_time": "2022-02-15T15:55:25.568Z"
   },
   {
    "duration": 749,
    "start_time": "2022-02-15T15:55:25.576Z"
   },
   {
    "duration": 37,
    "start_time": "2022-02-15T15:55:26.332Z"
   },
   {
    "duration": 13,
    "start_time": "2022-02-15T15:55:26.371Z"
   },
   {
    "duration": 9,
    "start_time": "2022-02-15T15:55:26.386Z"
   },
   {
    "duration": 6,
    "start_time": "2022-02-15T15:55:26.432Z"
   },
   {
    "duration": 10,
    "start_time": "2022-02-15T15:55:26.441Z"
   },
   {
    "duration": 13,
    "start_time": "2022-02-15T15:55:26.454Z"
   },
   {
    "duration": 11,
    "start_time": "2022-02-15T15:55:26.470Z"
   },
   {
    "duration": 65,
    "start_time": "2022-02-15T15:55:26.483Z"
   },
   {
    "duration": 552,
    "start_time": "2022-02-15T15:55:26.551Z"
   },
   {
    "duration": 11,
    "start_time": "2022-02-15T15:55:27.105Z"
   },
   {
    "duration": 576,
    "start_time": "2022-02-15T15:55:27.132Z"
   },
   {
    "duration": 23,
    "start_time": "2022-02-15T15:55:27.710Z"
   },
   {
    "duration": 715,
    "start_time": "2022-02-15T15:55:27.736Z"
   },
   {
    "duration": 126,
    "start_time": "2022-02-15T17:29:07.539Z"
   },
   {
    "duration": 91,
    "start_time": "2022-02-15T17:29:20.718Z"
   },
   {
    "duration": 101,
    "start_time": "2022-02-15T17:29:30.890Z"
   },
   {
    "duration": 36,
    "start_time": "2022-02-15T17:30:20.915Z"
   },
   {
    "duration": 29,
    "start_time": "2022-02-15T17:30:25.178Z"
   },
   {
    "duration": 97,
    "start_time": "2022-02-15T17:31:51.409Z"
   },
   {
    "duration": 36,
    "start_time": "2022-02-15T17:32:11.335Z"
   },
   {
    "duration": 32,
    "start_time": "2022-02-15T17:32:14.237Z"
   },
   {
    "duration": 1517,
    "start_time": "2022-02-15T17:32:24.908Z"
   },
   {
    "duration": 479,
    "start_time": "2022-02-15T17:32:26.428Z"
   },
   {
    "duration": 58,
    "start_time": "2022-02-15T17:32:26.910Z"
   },
   {
    "duration": 26,
    "start_time": "2022-02-15T17:32:26.970Z"
   },
   {
    "duration": 65,
    "start_time": "2022-02-15T17:32:26.998Z"
   },
   {
    "duration": 25,
    "start_time": "2022-02-15T17:32:27.065Z"
   },
   {
    "duration": 52,
    "start_time": "2022-02-15T17:32:27.092Z"
   },
   {
    "duration": 29,
    "start_time": "2022-02-15T17:32:27.149Z"
   },
   {
    "duration": 12,
    "start_time": "2022-02-15T17:32:27.181Z"
   },
   {
    "duration": 39,
    "start_time": "2022-02-15T17:32:27.196Z"
   },
   {
    "duration": 30,
    "start_time": "2022-02-15T17:32:27.238Z"
   },
   {
    "duration": 8,
    "start_time": "2022-02-15T17:32:27.270Z"
   },
   {
    "duration": 51,
    "start_time": "2022-02-15T17:32:27.281Z"
   },
   {
    "duration": 114,
    "start_time": "2022-02-15T17:32:27.334Z"
   },
   {
    "duration": 575,
    "start_time": "2022-02-15T17:32:27.450Z"
   },
   {
    "duration": 455,
    "start_time": "2022-02-15T17:32:28.032Z"
   },
   {
    "duration": 1160,
    "start_time": "2022-02-15T17:32:28.489Z"
   },
   {
    "duration": 117,
    "start_time": "2022-02-15T17:32:29.651Z"
   },
   {
    "duration": 13,
    "start_time": "2022-02-15T17:32:29.771Z"
   },
   {
    "duration": 746,
    "start_time": "2022-02-15T17:32:29.786Z"
   },
   {
    "duration": 49,
    "start_time": "2022-02-15T17:32:30.535Z"
   },
   {
    "duration": 10,
    "start_time": "2022-02-15T17:32:30.587Z"
   },
   {
    "duration": 100,
    "start_time": "2022-02-15T17:32:30.632Z"
   },
   {
    "duration": 36,
    "start_time": "2022-02-15T17:32:30.736Z"
   },
   {
    "duration": 29,
    "start_time": "2022-02-15T17:32:30.775Z"
   },
   {
    "duration": 39,
    "start_time": "2022-02-15T17:32:30.807Z"
   },
   {
    "duration": 13,
    "start_time": "2022-02-15T17:32:30.848Z"
   },
   {
    "duration": 49,
    "start_time": "2022-02-15T17:32:30.864Z"
   },
   {
    "duration": 49,
    "start_time": "2022-02-15T17:32:30.917Z"
   },
   {
    "duration": 23,
    "start_time": "2022-02-15T17:32:30.968Z"
   },
   {
    "duration": 413,
    "start_time": "2022-02-15T17:32:30.994Z"
   },
   {
    "duration": 24,
    "start_time": "2022-02-15T17:32:31.410Z"
   },
   {
    "duration": 14,
    "start_time": "2022-02-15T17:32:31.437Z"
   },
   {
    "duration": 15,
    "start_time": "2022-02-15T17:32:31.453Z"
   },
   {
    "duration": 24,
    "start_time": "2022-02-15T17:32:31.471Z"
   },
   {
    "duration": 99,
    "start_time": "2022-02-15T17:32:31.498Z"
   },
   {
    "duration": 1041,
    "start_time": "2022-02-15T17:32:31.599Z"
   },
   {
    "duration": 62,
    "start_time": "2022-02-15T17:32:32.643Z"
   },
   {
    "duration": 635,
    "start_time": "2022-02-15T17:32:32.709Z"
   },
   {
    "duration": 66,
    "start_time": "2022-02-15T17:32:33.347Z"
   },
   {
    "duration": 875,
    "start_time": "2022-02-15T17:32:33.434Z"
   },
   {
    "duration": 20,
    "start_time": "2022-02-15T17:32:34.313Z"
   },
   {
    "duration": 9,
    "start_time": "2022-02-15T17:32:34.336Z"
   },
   {
    "duration": 17,
    "start_time": "2022-02-15T17:32:34.347Z"
   },
   {
    "duration": 10,
    "start_time": "2022-02-15T17:32:34.366Z"
   },
   {
    "duration": 11,
    "start_time": "2022-02-15T17:32:34.379Z"
   },
   {
    "duration": 5,
    "start_time": "2022-02-15T17:32:34.434Z"
   },
   {
    "duration": 709,
    "start_time": "2022-02-15T17:32:34.442Z"
   },
   {
    "duration": 41,
    "start_time": "2022-02-15T17:32:35.155Z"
   },
   {
    "duration": 40,
    "start_time": "2022-02-15T17:32:35.199Z"
   },
   {
    "duration": 6,
    "start_time": "2022-02-15T17:32:35.241Z"
   },
   {
    "duration": 21,
    "start_time": "2022-02-15T17:32:35.250Z"
   },
   {
    "duration": 16,
    "start_time": "2022-02-15T17:32:35.274Z"
   },
   {
    "duration": 43,
    "start_time": "2022-02-15T17:32:35.293Z"
   },
   {
    "duration": 17,
    "start_time": "2022-02-15T17:32:35.338Z"
   },
   {
    "duration": 23,
    "start_time": "2022-02-15T17:32:35.357Z"
   },
   {
    "duration": 529,
    "start_time": "2022-02-15T17:32:35.382Z"
   },
   {
    "duration": 26,
    "start_time": "2022-02-15T17:32:35.915Z"
   },
   {
    "duration": 624,
    "start_time": "2022-02-15T17:32:35.944Z"
   },
   {
    "duration": 12,
    "start_time": "2022-02-15T17:32:36.571Z"
   },
   {
    "duration": 762,
    "start_time": "2022-02-15T17:32:36.585Z"
   },
   {
    "duration": 36,
    "start_time": "2022-02-15T17:32:53.547Z"
   },
   {
    "duration": 31,
    "start_time": "2022-02-15T17:32:56.153Z"
   },
   {
    "duration": 1511,
    "start_time": "2022-02-15T17:33:45.198Z"
   },
   {
    "duration": 494,
    "start_time": "2022-02-15T17:33:46.712Z"
   },
   {
    "duration": 59,
    "start_time": "2022-02-15T17:33:47.209Z"
   },
   {
    "duration": 26,
    "start_time": "2022-02-15T17:33:47.270Z"
   },
   {
    "duration": 68,
    "start_time": "2022-02-15T17:33:47.298Z"
   },
   {
    "duration": 25,
    "start_time": "2022-02-15T17:33:47.369Z"
   },
   {
    "duration": 46,
    "start_time": "2022-02-15T17:33:47.396Z"
   },
   {
    "duration": 28,
    "start_time": "2022-02-15T17:33:47.446Z"
   },
   {
    "duration": 15,
    "start_time": "2022-02-15T17:33:47.478Z"
   },
   {
    "duration": 6,
    "start_time": "2022-02-15T17:33:47.532Z"
   },
   {
    "duration": 34,
    "start_time": "2022-02-15T17:33:47.540Z"
   },
   {
    "duration": 7,
    "start_time": "2022-02-15T17:33:47.577Z"
   },
   {
    "duration": 20,
    "start_time": "2022-02-15T17:33:47.586Z"
   },
   {
    "duration": 108,
    "start_time": "2022-02-15T17:33:47.633Z"
   },
   {
    "duration": 588,
    "start_time": "2022-02-15T17:33:47.744Z"
   },
   {
    "duration": 438,
    "start_time": "2022-02-15T17:33:48.334Z"
   },
   {
    "duration": 563,
    "start_time": "2022-02-15T17:33:48.774Z"
   },
   {
    "duration": 73,
    "start_time": "2022-02-15T17:33:49.340Z"
   },
   {
    "duration": 26,
    "start_time": "2022-02-15T17:33:49.415Z"
   },
   {
    "duration": 816,
    "start_time": "2022-02-15T17:33:49.444Z"
   },
   {
    "duration": 50,
    "start_time": "2022-02-15T17:33:50.262Z"
   },
   {
    "duration": 22,
    "start_time": "2022-02-15T17:33:50.315Z"
   },
   {
    "duration": 113,
    "start_time": "2022-02-15T17:33:50.343Z"
   },
   {
    "duration": 34,
    "start_time": "2022-02-15T17:33:50.460Z"
   },
   {
    "duration": 46,
    "start_time": "2022-02-15T17:33:50.496Z"
   },
   {
    "duration": 8,
    "start_time": "2022-02-15T17:33:50.544Z"
   },
   {
    "duration": 18,
    "start_time": "2022-02-15T17:33:50.554Z"
   },
   {
    "duration": 28,
    "start_time": "2022-02-15T17:33:50.574Z"
   },
   {
    "duration": 63,
    "start_time": "2022-02-15T17:33:50.604Z"
   },
   {
    "duration": 7,
    "start_time": "2022-02-15T17:33:50.670Z"
   },
   {
    "duration": 411,
    "start_time": "2022-02-15T17:33:50.680Z"
   },
   {
    "duration": 9,
    "start_time": "2022-02-15T17:33:51.094Z"
   },
   {
    "duration": 35,
    "start_time": "2022-02-15T17:33:51.105Z"
   },
   {
    "duration": 15,
    "start_time": "2022-02-15T17:33:51.142Z"
   },
   {
    "duration": 25,
    "start_time": "2022-02-15T17:33:51.159Z"
   },
   {
    "duration": 93,
    "start_time": "2022-02-15T17:33:51.186Z"
   },
   {
    "duration": 1341,
    "start_time": "2022-02-15T17:33:51.282Z"
   },
   {
    "duration": 64,
    "start_time": "2022-02-15T17:33:52.626Z"
   },
   {
    "duration": 562,
    "start_time": "2022-02-15T17:33:52.692Z"
   },
   {
    "duration": 57,
    "start_time": "2022-02-15T17:33:53.256Z"
   },
   {
    "duration": 528,
    "start_time": "2022-02-15T17:33:53.332Z"
   },
   {
    "duration": 9,
    "start_time": "2022-02-15T17:33:53.862Z"
   },
   {
    "duration": 11,
    "start_time": "2022-02-15T17:33:53.873Z"
   },
   {
    "duration": 16,
    "start_time": "2022-02-15T17:33:53.886Z"
   },
   {
    "duration": 32,
    "start_time": "2022-02-15T17:33:53.905Z"
   },
   {
    "duration": 21,
    "start_time": "2022-02-15T17:33:53.940Z"
   },
   {
    "duration": 7,
    "start_time": "2022-02-15T17:33:53.964Z"
   },
   {
    "duration": 680,
    "start_time": "2022-02-15T17:33:53.973Z"
   },
   {
    "duration": 38,
    "start_time": "2022-02-15T17:33:54.656Z"
   },
   {
    "duration": 11,
    "start_time": "2022-02-15T17:33:54.696Z"
   },
   {
    "duration": 5,
    "start_time": "2022-02-15T17:33:54.733Z"
   },
   {
    "duration": 8,
    "start_time": "2022-02-15T17:33:54.740Z"
   },
   {
    "duration": 11,
    "start_time": "2022-02-15T17:33:54.751Z"
   },
   {
    "duration": 17,
    "start_time": "2022-02-15T17:33:54.764Z"
   },
   {
    "duration": 19,
    "start_time": "2022-02-15T17:33:54.783Z"
   },
   {
    "duration": 40,
    "start_time": "2022-02-15T17:33:54.805Z"
   },
   {
    "duration": 610,
    "start_time": "2022-02-15T17:33:54.848Z"
   },
   {
    "duration": 13,
    "start_time": "2022-02-15T17:33:55.462Z"
   },
   {
    "duration": 538,
    "start_time": "2022-02-15T17:33:55.478Z"
   },
   {
    "duration": 28,
    "start_time": "2022-02-15T17:33:56.019Z"
   },
   {
    "duration": 719,
    "start_time": "2022-02-15T17:33:56.050Z"
   },
   {
    "duration": 7,
    "start_time": "2022-02-15T17:35:53.416Z"
   },
   {
    "duration": 48,
    "start_time": "2022-02-15T17:42:09.650Z"
   },
   {
    "duration": 30,
    "start_time": "2022-02-15T17:42:13.965Z"
   },
   {
    "duration": 501,
    "start_time": "2022-02-15T17:43:50.722Z"
   },
   {
    "duration": 337,
    "start_time": "2022-02-15T17:44:29.740Z"
   },
   {
    "duration": 1477,
    "start_time": "2022-02-15T17:47:02.822Z"
   },
   {
    "duration": 488,
    "start_time": "2022-02-15T17:47:04.302Z"
   },
   {
    "duration": 57,
    "start_time": "2022-02-15T17:47:04.793Z"
   },
   {
    "duration": 25,
    "start_time": "2022-02-15T17:47:04.853Z"
   },
   {
    "duration": 68,
    "start_time": "2022-02-15T17:47:04.880Z"
   },
   {
    "duration": 24,
    "start_time": "2022-02-15T17:47:04.951Z"
   },
   {
    "duration": 16,
    "start_time": "2022-02-15T17:47:04.978Z"
   },
   {
    "duration": 58,
    "start_time": "2022-02-15T17:47:04.998Z"
   },
   {
    "duration": 14,
    "start_time": "2022-02-15T17:47:05.059Z"
   },
   {
    "duration": 7,
    "start_time": "2022-02-15T17:47:05.075Z"
   },
   {
    "duration": 64,
    "start_time": "2022-02-15T17:47:05.085Z"
   },
   {
    "duration": 7,
    "start_time": "2022-02-15T17:47:05.151Z"
   },
   {
    "duration": 17,
    "start_time": "2022-02-15T17:47:05.161Z"
   },
   {
    "duration": 18,
    "start_time": "2022-02-15T17:47:05.181Z"
   },
   {
    "duration": 121,
    "start_time": "2022-02-15T17:47:05.201Z"
   },
   {
    "duration": 563,
    "start_time": "2022-02-15T17:47:05.324Z"
   },
   {
    "duration": 422,
    "start_time": "2022-02-15T17:47:05.890Z"
   },
   {
    "duration": 743,
    "start_time": "2022-02-15T17:47:06.316Z"
   },
   {
    "duration": 178,
    "start_time": "2022-02-15T17:47:07.061Z"
   },
   {
    "duration": 11,
    "start_time": "2022-02-15T17:47:07.241Z"
   },
   {
    "duration": 741,
    "start_time": "2022-02-15T17:47:07.254Z"
   },
   {
    "duration": 64,
    "start_time": "2022-02-15T17:47:07.997Z"
   },
   {
    "duration": 10,
    "start_time": "2022-02-15T17:47:08.067Z"
   },
   {
    "duration": 114,
    "start_time": "2022-02-15T17:47:08.080Z"
   },
   {
    "duration": 43,
    "start_time": "2022-02-15T17:47:08.197Z"
   },
   {
    "duration": 28,
    "start_time": "2022-02-15T17:47:08.242Z"
   },
   {
    "duration": 9,
    "start_time": "2022-02-15T17:47:08.273Z"
   },
   {
    "duration": 8,
    "start_time": "2022-02-15T17:47:08.284Z"
   },
   {
    "duration": 56,
    "start_time": "2022-02-15T17:47:08.294Z"
   },
   {
    "duration": 45,
    "start_time": "2022-02-15T17:47:08.352Z"
   },
   {
    "duration": 33,
    "start_time": "2022-02-15T17:47:08.400Z"
   },
   {
    "duration": 406,
    "start_time": "2022-02-15T17:47:08.435Z"
   },
   {
    "duration": 8,
    "start_time": "2022-02-15T17:47:08.843Z"
   },
   {
    "duration": 10,
    "start_time": "2022-02-15T17:47:08.853Z"
   },
   {
    "duration": 13,
    "start_time": "2022-02-15T17:47:08.865Z"
   },
   {
    "duration": 62,
    "start_time": "2022-02-15T17:47:08.880Z"
   },
   {
    "duration": 60,
    "start_time": "2022-02-15T17:47:08.945Z"
   },
   {
    "duration": 978,
    "start_time": "2022-02-15T17:47:09.007Z"
   },
   {
    "duration": 76,
    "start_time": "2022-02-15T17:47:09.987Z"
   },
   {
    "duration": 535,
    "start_time": "2022-02-15T17:47:10.065Z"
   },
   {
    "duration": 74,
    "start_time": "2022-02-15T17:47:10.602Z"
   },
   {
    "duration": 554,
    "start_time": "2022-02-15T17:47:10.678Z"
   },
   {
    "duration": 9,
    "start_time": "2022-02-15T17:47:11.235Z"
   },
   {
    "duration": 10,
    "start_time": "2022-02-15T17:47:11.246Z"
   },
   {
    "duration": 15,
    "start_time": "2022-02-15T17:47:11.258Z"
   },
   {
    "duration": 5,
    "start_time": "2022-02-15T17:47:11.275Z"
   },
   {
    "duration": 50,
    "start_time": "2022-02-15T17:47:11.283Z"
   },
   {
    "duration": 5,
    "start_time": "2022-02-15T17:47:11.336Z"
   },
   {
    "duration": 709,
    "start_time": "2022-02-15T17:47:11.344Z"
   },
   {
    "duration": 39,
    "start_time": "2022-02-15T17:47:12.056Z"
   },
   {
    "duration": 38,
    "start_time": "2022-02-15T17:47:12.098Z"
   },
   {
    "duration": 6,
    "start_time": "2022-02-15T17:47:12.138Z"
   },
   {
    "duration": 14,
    "start_time": "2022-02-15T17:47:12.146Z"
   },
   {
    "duration": 9,
    "start_time": "2022-02-15T17:47:12.162Z"
   },
   {
    "duration": 10,
    "start_time": "2022-02-15T17:47:12.173Z"
   },
   {
    "duration": 56,
    "start_time": "2022-02-15T17:47:12.186Z"
   },
   {
    "duration": 21,
    "start_time": "2022-02-15T17:47:12.244Z"
   },
   {
    "duration": 504,
    "start_time": "2022-02-15T17:47:12.268Z"
   },
   {
    "duration": 12,
    "start_time": "2022-02-15T17:47:12.774Z"
   },
   {
    "duration": 511,
    "start_time": "2022-02-15T17:47:12.788Z"
   },
   {
    "duration": 11,
    "start_time": "2022-02-15T17:47:13.302Z"
   },
   {
    "duration": 731,
    "start_time": "2022-02-15T17:47:13.315Z"
   },
   {
    "duration": 1619,
    "start_time": "2022-02-15T19:29:53.143Z"
   },
   {
    "duration": 525,
    "start_time": "2022-02-15T19:29:54.765Z"
   },
   {
    "duration": 60,
    "start_time": "2022-02-15T19:29:55.293Z"
   },
   {
    "duration": 31,
    "start_time": "2022-02-15T19:29:55.356Z"
   },
   {
    "duration": 56,
    "start_time": "2022-02-15T19:29:55.389Z"
   },
   {
    "duration": 42,
    "start_time": "2022-02-15T19:29:55.448Z"
   },
   {
    "duration": 18,
    "start_time": "2022-02-15T19:29:55.493Z"
   },
   {
    "duration": 75,
    "start_time": "2022-02-15T19:29:55.515Z"
   },
   {
    "duration": 15,
    "start_time": "2022-02-15T19:29:55.594Z"
   },
   {
    "duration": 8,
    "start_time": "2022-02-15T19:29:55.613Z"
   },
   {
    "duration": 88,
    "start_time": "2022-02-15T19:29:55.624Z"
   },
   {
    "duration": 8,
    "start_time": "2022-02-15T19:29:55.716Z"
   },
   {
    "duration": 18,
    "start_time": "2022-02-15T19:29:55.726Z"
   },
   {
    "duration": 7,
    "start_time": "2022-02-15T19:29:55.770Z"
   },
   {
    "duration": 173,
    "start_time": "2022-02-15T19:29:55.780Z"
   },
   {
    "duration": 925,
    "start_time": "2022-02-15T19:29:55.956Z"
   },
   {
    "duration": 639,
    "start_time": "2022-02-15T19:29:56.885Z"
   },
   {
    "duration": 643,
    "start_time": "2022-02-15T19:29:57.526Z"
   },
   {
    "duration": 71,
    "start_time": "2022-02-15T19:29:58.171Z"
   },
   {
    "duration": 26,
    "start_time": "2022-02-15T19:29:58.245Z"
   },
   {
    "duration": 685,
    "start_time": "2022-02-15T19:29:58.274Z"
   },
   {
    "duration": 54,
    "start_time": "2022-02-15T19:29:58.962Z"
   },
   {
    "duration": 11,
    "start_time": "2022-02-15T19:29:59.020Z"
   },
   {
    "duration": 125,
    "start_time": "2022-02-15T19:29:59.034Z"
   },
   {
    "duration": 104,
    "start_time": "2022-02-15T19:31:03.680Z"
   },
   {
    "duration": 31,
    "start_time": "2022-02-15T19:31:08.700Z"
   }
  ],
  "kernelspec": {
   "display_name": "Python 3 (ipykernel)",
   "language": "python",
   "name": "python3"
  },
  "language_info": {
   "codemirror_mode": {
    "name": "ipython",
    "version": 3
   },
   "file_extension": ".py",
   "mimetype": "text/x-python",
   "name": "python",
   "nbconvert_exporter": "python",
   "pygments_lexer": "ipython3",
   "version": "3.9.5"
  },
  "toc": {
   "base_numbering": 1,
   "nav_menu": {
    "height": "514.757px",
    "width": "160px"
   },
   "number_sections": true,
   "sideBar": true,
   "skip_h1_title": true,
   "title_cell": "Table of Contents",
   "title_sidebar": "Contents",
   "toc_cell": false,
   "toc_position": {
    "height": "calc(100% - 180px)",
    "left": "10px",
    "top": "150px",
    "width": "409.08px"
   },
   "toc_section_display": true,
   "toc_window_display": true
  }
 },
 "nbformat": 4,
 "nbformat_minor": 2
}
