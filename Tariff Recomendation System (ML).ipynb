{
 "cells": [
  {
   "cell_type": "markdown",
   "metadata": {},
   "source": [
    "# Рекомендация тарифов"
   ]
  },
  {
   "cell_type": "markdown",
   "metadata": {},
   "source": [
    "В вашем распоряжении данные о поведении клиентов, которые уже перешли на эти тарифы (из проекта курса «Статистический анализ данных»). Нужно построить модель для задачи классификации, которая выберет подходящий тариф. Предобработка данных не понадобится — вы её уже сделали.\n",
    "\n",
    "Постройте модель с максимально большим значением *accuracy*. Чтобы сдать проект успешно, нужно довести долю правильных ответов по крайней мере до 0.75. Проверьте *accuracy* на тестовой выборке самостоятельно."
   ]
  },
  {
   "cell_type": "markdown",
   "metadata": {},
   "source": [
    "**Описание данных**\n",
    "\n",
    "Каждый объект в наборе данных — это информация о поведении одного пользователя за месяц. Известно:\n",
    "- сalls — количество звонков,\n",
    "- minutes — суммарная длительность звонков в минутах,\n",
    "- messages — количество sms-сообщений,\n",
    "- mb_used — израсходованный интернет-трафик в Мб,\n",
    "- is_ultra — каким тарифом пользовался в течение месяца («Ультра» — 1, «Смарт» — 0)."
   ]
  },
  {
   "cell_type": "markdown",
   "metadata": {},
   "source": [
    "## Откройте и изучите файл"
   ]
  },
  {
   "cell_type": "code",
   "execution_count": 1,
   "metadata": {},
   "outputs": [],
   "source": [
    "# Импортируем нужные нам библиотеки\n",
    "\n",
    "import warnings\n",
    "warnings.simplefilter(action='ignore', category=FutureWarning)\n",
    "import pandas as pd\n",
    "\n",
    "from sklearn.linear_model import LogisticRegression\n",
    "from sklearn.tree import DecisionTreeClassifier\n",
    "from sklearn.ensemble import RandomForestClassifier \n",
    "\n",
    "from sklearn.model_selection import train_test_split\n",
    "from sklearn.metrics import mean_squared_error\n",
    "from sklearn.metrics import accuracy_score \n",
    "\n",
    "import numpy as np"
   ]
  },
  {
   "cell_type": "markdown",
   "metadata": {},
   "source": [
    "Теперь выгрузим файл с данными и посмотрим его"
   ]
  },
  {
   "cell_type": "code",
   "execution_count": 2,
   "metadata": {},
   "outputs": [
    {
     "name": "stdout",
     "output_type": "stream",
     "text": [
      "<class 'pandas.core.frame.DataFrame'>\n",
      "RangeIndex: 3214 entries, 0 to 3213\n",
      "Data columns (total 5 columns):\n",
      "calls       3214 non-null float64\n",
      "minutes     3214 non-null float64\n",
      "messages    3214 non-null float64\n",
      "mb_used     3214 non-null float64\n",
      "is_ultra    3214 non-null int64\n",
      "dtypes: float64(4), int64(1)\n",
      "memory usage: 125.7 KB\n"
     ]
    },
    {
     "data": {
      "text/html": [
       "<div>\n",
       "<style scoped>\n",
       "    .dataframe tbody tr th:only-of-type {\n",
       "        vertical-align: middle;\n",
       "    }\n",
       "\n",
       "    .dataframe tbody tr th {\n",
       "        vertical-align: top;\n",
       "    }\n",
       "\n",
       "    .dataframe thead th {\n",
       "        text-align: right;\n",
       "    }\n",
       "</style>\n",
       "<table border=\"1\" class=\"dataframe\">\n",
       "  <thead>\n",
       "    <tr style=\"text-align: right;\">\n",
       "      <th></th>\n",
       "      <th>count</th>\n",
       "      <th>mean</th>\n",
       "      <th>std</th>\n",
       "      <th>min</th>\n",
       "      <th>25%</th>\n",
       "      <th>50%</th>\n",
       "      <th>75%</th>\n",
       "      <th>max</th>\n",
       "    </tr>\n",
       "  </thead>\n",
       "  <tbody>\n",
       "    <tr>\n",
       "      <td>calls</td>\n",
       "      <td>3214.0</td>\n",
       "      <td>63.038892</td>\n",
       "      <td>33.236368</td>\n",
       "      <td>0.0</td>\n",
       "      <td>40.0000</td>\n",
       "      <td>62.000</td>\n",
       "      <td>82.0000</td>\n",
       "      <td>244.00</td>\n",
       "    </tr>\n",
       "    <tr>\n",
       "      <td>minutes</td>\n",
       "      <td>3214.0</td>\n",
       "      <td>438.208787</td>\n",
       "      <td>234.569872</td>\n",
       "      <td>0.0</td>\n",
       "      <td>274.5750</td>\n",
       "      <td>430.600</td>\n",
       "      <td>571.9275</td>\n",
       "      <td>1632.06</td>\n",
       "    </tr>\n",
       "    <tr>\n",
       "      <td>messages</td>\n",
       "      <td>3214.0</td>\n",
       "      <td>38.281269</td>\n",
       "      <td>36.148326</td>\n",
       "      <td>0.0</td>\n",
       "      <td>9.0000</td>\n",
       "      <td>30.000</td>\n",
       "      <td>57.0000</td>\n",
       "      <td>224.00</td>\n",
       "    </tr>\n",
       "    <tr>\n",
       "      <td>mb_used</td>\n",
       "      <td>3214.0</td>\n",
       "      <td>17207.673836</td>\n",
       "      <td>7570.968246</td>\n",
       "      <td>0.0</td>\n",
       "      <td>12491.9025</td>\n",
       "      <td>16943.235</td>\n",
       "      <td>21424.7000</td>\n",
       "      <td>49745.73</td>\n",
       "    </tr>\n",
       "    <tr>\n",
       "      <td>is_ultra</td>\n",
       "      <td>3214.0</td>\n",
       "      <td>0.306472</td>\n",
       "      <td>0.461100</td>\n",
       "      <td>0.0</td>\n",
       "      <td>0.0000</td>\n",
       "      <td>0.000</td>\n",
       "      <td>1.0000</td>\n",
       "      <td>1.00</td>\n",
       "    </tr>\n",
       "  </tbody>\n",
       "</table>\n",
       "</div>"
      ],
      "text/plain": [
       "           count          mean          std  min         25%        50%  \\\n",
       "calls     3214.0     63.038892    33.236368  0.0     40.0000     62.000   \n",
       "minutes   3214.0    438.208787   234.569872  0.0    274.5750    430.600   \n",
       "messages  3214.0     38.281269    36.148326  0.0      9.0000     30.000   \n",
       "mb_used   3214.0  17207.673836  7570.968246  0.0  12491.9025  16943.235   \n",
       "is_ultra  3214.0      0.306472     0.461100  0.0      0.0000      0.000   \n",
       "\n",
       "                 75%       max  \n",
       "calls        82.0000    244.00  \n",
       "minutes     571.9275   1632.06  \n",
       "messages     57.0000    224.00  \n",
       "mb_used   21424.7000  49745.73  \n",
       "is_ultra      1.0000      1.00  "
      ]
     },
     "execution_count": 2,
     "metadata": {},
     "output_type": "execute_result"
    }
   ],
   "source": [
    "df = pd.read_csv('/datasets/users_behavior.csv')\n",
    "df.info()\n",
    "df.describe().T"
   ]
  },
  {
   "cell_type": "code",
   "execution_count": 3,
   "metadata": {},
   "outputs": [
    {
     "data": {
      "text/html": [
       "<div>\n",
       "<style scoped>\n",
       "    .dataframe tbody tr th:only-of-type {\n",
       "        vertical-align: middle;\n",
       "    }\n",
       "\n",
       "    .dataframe tbody tr th {\n",
       "        vertical-align: top;\n",
       "    }\n",
       "\n",
       "    .dataframe thead th {\n",
       "        text-align: right;\n",
       "    }\n",
       "</style>\n",
       "<table border=\"1\" class=\"dataframe\">\n",
       "  <thead>\n",
       "    <tr style=\"text-align: right;\">\n",
       "      <th></th>\n",
       "      <th>calls</th>\n",
       "      <th>minutes</th>\n",
       "      <th>messages</th>\n",
       "      <th>mb_used</th>\n",
       "      <th>is_ultra</th>\n",
       "    </tr>\n",
       "  </thead>\n",
       "  <tbody>\n",
       "    <tr>\n",
       "      <td>0</td>\n",
       "      <td>40.0</td>\n",
       "      <td>311.90</td>\n",
       "      <td>83.0</td>\n",
       "      <td>19915.42</td>\n",
       "      <td>0</td>\n",
       "    </tr>\n",
       "    <tr>\n",
       "      <td>1</td>\n",
       "      <td>85.0</td>\n",
       "      <td>516.75</td>\n",
       "      <td>56.0</td>\n",
       "      <td>22696.96</td>\n",
       "      <td>0</td>\n",
       "    </tr>\n",
       "    <tr>\n",
       "      <td>2</td>\n",
       "      <td>77.0</td>\n",
       "      <td>467.66</td>\n",
       "      <td>86.0</td>\n",
       "      <td>21060.45</td>\n",
       "      <td>0</td>\n",
       "    </tr>\n",
       "    <tr>\n",
       "      <td>3</td>\n",
       "      <td>106.0</td>\n",
       "      <td>745.53</td>\n",
       "      <td>81.0</td>\n",
       "      <td>8437.39</td>\n",
       "      <td>1</td>\n",
       "    </tr>\n",
       "    <tr>\n",
       "      <td>4</td>\n",
       "      <td>66.0</td>\n",
       "      <td>418.74</td>\n",
       "      <td>1.0</td>\n",
       "      <td>14502.75</td>\n",
       "      <td>0</td>\n",
       "    </tr>\n",
       "  </tbody>\n",
       "</table>\n",
       "</div>"
      ],
      "text/plain": [
       "   calls  minutes  messages   mb_used  is_ultra\n",
       "0   40.0   311.90      83.0  19915.42         0\n",
       "1   85.0   516.75      56.0  22696.96         0\n",
       "2   77.0   467.66      86.0  21060.45         0\n",
       "3  106.0   745.53      81.0   8437.39         1\n",
       "4   66.0   418.74       1.0  14502.75         0"
      ]
     },
     "execution_count": 3,
     "metadata": {},
     "output_type": "execute_result"
    }
   ],
   "source": [
    "df.head()"
   ]
  },
  {
   "cell_type": "markdown",
   "metadata": {},
   "source": [
    "### Исcледование мультиколлинеарности факторов"
   ]
  },
  {
   "cell_type": "markdown",
   "metadata": {},
   "source": [
    "Для исследования *мультиколлинеарности* стоит построить корреляционную матрицу по входным данным, так как созависимые параметры будут негативно сказываться на обучении модели, дублируя друг друга. При этом не будут нести информацию сами по себе, что может привести к переобучению модели."
   ]
  },
  {
   "cell_type": "code",
   "execution_count": 4,
   "metadata": {},
   "outputs": [
    {
     "data": {
      "text/html": [
       "<style  type=\"text/css\" >\n",
       "    #T_8f919ab6_a5f4_11ec_8826_02420a3947abrow0_col0 {\n",
       "            background-color:  #b40426;\n",
       "            color:  #f1f1f1;\n",
       "        }    #T_8f919ab6_a5f4_11ec_8826_02420a3947abrow0_col1 {\n",
       "            background-color:  #bb1b2c;\n",
       "            color:  #f1f1f1;\n",
       "        }    #T_8f919ab6_a5f4_11ec_8826_02420a3947abrow0_col2 {\n",
       "            background-color:  #3c4ec2;\n",
       "            color:  #f1f1f1;\n",
       "        }    #T_8f919ab6_a5f4_11ec_8826_02420a3947abrow0_col3 {\n",
       "            background-color:  #5d7ce6;\n",
       "            color:  #000000;\n",
       "        }    #T_8f919ab6_a5f4_11ec_8826_02420a3947abrow0_col4 {\n",
       "            background-color:  #3d50c3;\n",
       "            color:  #f1f1f1;\n",
       "        }    #T_8f919ab6_a5f4_11ec_8826_02420a3947abrow1_col0 {\n",
       "            background-color:  #bb1b2c;\n",
       "            color:  #f1f1f1;\n",
       "        }    #T_8f919ab6_a5f4_11ec_8826_02420a3947abrow1_col1 {\n",
       "            background-color:  #b40426;\n",
       "            color:  #f1f1f1;\n",
       "        }    #T_8f919ab6_a5f4_11ec_8826_02420a3947abrow1_col2 {\n",
       "            background-color:  #3b4cc0;\n",
       "            color:  #f1f1f1;\n",
       "        }    #T_8f919ab6_a5f4_11ec_8826_02420a3947abrow1_col3 {\n",
       "            background-color:  #5b7ae5;\n",
       "            color:  #000000;\n",
       "        }    #T_8f919ab6_a5f4_11ec_8826_02420a3947abrow1_col4 {\n",
       "            background-color:  #3d50c3;\n",
       "            color:  #f1f1f1;\n",
       "        }    #T_8f919ab6_a5f4_11ec_8826_02420a3947abrow2_col0 {\n",
       "            background-color:  #3b4cc0;\n",
       "            color:  #f1f1f1;\n",
       "        }    #T_8f919ab6_a5f4_11ec_8826_02420a3947abrow2_col1 {\n",
       "            background-color:  #3b4cc0;\n",
       "            color:  #f1f1f1;\n",
       "        }    #T_8f919ab6_a5f4_11ec_8826_02420a3947abrow2_col2 {\n",
       "            background-color:  #b40426;\n",
       "            color:  #f1f1f1;\n",
       "        }    #T_8f919ab6_a5f4_11ec_8826_02420a3947abrow2_col3 {\n",
       "            background-color:  #3b4cc0;\n",
       "            color:  #f1f1f1;\n",
       "        }    #T_8f919ab6_a5f4_11ec_8826_02420a3947abrow2_col4 {\n",
       "            background-color:  #3c4ec2;\n",
       "            color:  #f1f1f1;\n",
       "        }    #T_8f919ab6_a5f4_11ec_8826_02420a3947abrow3_col0 {\n",
       "            background-color:  #6384eb;\n",
       "            color:  #000000;\n",
       "        }    #T_8f919ab6_a5f4_11ec_8826_02420a3947abrow3_col1 {\n",
       "            background-color:  #6384eb;\n",
       "            color:  #000000;\n",
       "        }    #T_8f919ab6_a5f4_11ec_8826_02420a3947abrow3_col2 {\n",
       "            background-color:  #4358cb;\n",
       "            color:  #f1f1f1;\n",
       "        }    #T_8f919ab6_a5f4_11ec_8826_02420a3947abrow3_col3 {\n",
       "            background-color:  #b40426;\n",
       "            color:  #f1f1f1;\n",
       "        }    #T_8f919ab6_a5f4_11ec_8826_02420a3947abrow3_col4 {\n",
       "            background-color:  #3b4cc0;\n",
       "            color:  #f1f1f1;\n",
       "        }    #T_8f919ab6_a5f4_11ec_8826_02420a3947abrow4_col0 {\n",
       "            background-color:  #455cce;\n",
       "            color:  #f1f1f1;\n",
       "        }    #T_8f919ab6_a5f4_11ec_8826_02420a3947abrow4_col1 {\n",
       "            background-color:  #465ecf;\n",
       "            color:  #f1f1f1;\n",
       "        }    #T_8f919ab6_a5f4_11ec_8826_02420a3947abrow4_col2 {\n",
       "            background-color:  #455cce;\n",
       "            color:  #f1f1f1;\n",
       "        }    #T_8f919ab6_a5f4_11ec_8826_02420a3947abrow4_col3 {\n",
       "            background-color:  #3b4cc0;\n",
       "            color:  #f1f1f1;\n",
       "        }    #T_8f919ab6_a5f4_11ec_8826_02420a3947abrow4_col4 {\n",
       "            background-color:  #b40426;\n",
       "            color:  #f1f1f1;\n",
       "        }</style><table id=\"T_8f919ab6_a5f4_11ec_8826_02420a3947ab\" ><thead>    <tr>        <th class=\"blank level0\" ></th>        <th class=\"col_heading level0 col0\" >calls</th>        <th class=\"col_heading level0 col1\" >minutes</th>        <th class=\"col_heading level0 col2\" >messages</th>        <th class=\"col_heading level0 col3\" >mb_used</th>        <th class=\"col_heading level0 col4\" >is_ultra</th>    </tr></thead><tbody>\n",
       "                <tr>\n",
       "                        <th id=\"T_8f919ab6_a5f4_11ec_8826_02420a3947ablevel0_row0\" class=\"row_heading level0 row0\" >calls</th>\n",
       "                        <td id=\"T_8f919ab6_a5f4_11ec_8826_02420a3947abrow0_col0\" class=\"data row0 col0\" >1</td>\n",
       "                        <td id=\"T_8f919ab6_a5f4_11ec_8826_02420a3947abrow0_col1\" class=\"data row0 col1\" >0.982083</td>\n",
       "                        <td id=\"T_8f919ab6_a5f4_11ec_8826_02420a3947abrow0_col2\" class=\"data row0 col2\" >0.177385</td>\n",
       "                        <td id=\"T_8f919ab6_a5f4_11ec_8826_02420a3947abrow0_col3\" class=\"data row0 col3\" >0.286442</td>\n",
       "                        <td id=\"T_8f919ab6_a5f4_11ec_8826_02420a3947abrow0_col4\" class=\"data row0 col4\" >0.207122</td>\n",
       "            </tr>\n",
       "            <tr>\n",
       "                        <th id=\"T_8f919ab6_a5f4_11ec_8826_02420a3947ablevel0_row1\" class=\"row_heading level0 row1\" >minutes</th>\n",
       "                        <td id=\"T_8f919ab6_a5f4_11ec_8826_02420a3947abrow1_col0\" class=\"data row1 col0\" >0.982083</td>\n",
       "                        <td id=\"T_8f919ab6_a5f4_11ec_8826_02420a3947abrow1_col1\" class=\"data row1 col1\" >1</td>\n",
       "                        <td id=\"T_8f919ab6_a5f4_11ec_8826_02420a3947abrow1_col2\" class=\"data row1 col2\" >0.17311</td>\n",
       "                        <td id=\"T_8f919ab6_a5f4_11ec_8826_02420a3947abrow1_col3\" class=\"data row1 col3\" >0.280967</td>\n",
       "                        <td id=\"T_8f919ab6_a5f4_11ec_8826_02420a3947abrow1_col4\" class=\"data row1 col4\" >0.206955</td>\n",
       "            </tr>\n",
       "            <tr>\n",
       "                        <th id=\"T_8f919ab6_a5f4_11ec_8826_02420a3947ablevel0_row2\" class=\"row_heading level0 row2\" >messages</th>\n",
       "                        <td id=\"T_8f919ab6_a5f4_11ec_8826_02420a3947abrow2_col0\" class=\"data row2 col0\" >0.177385</td>\n",
       "                        <td id=\"T_8f919ab6_a5f4_11ec_8826_02420a3947abrow2_col1\" class=\"data row2 col1\" >0.17311</td>\n",
       "                        <td id=\"T_8f919ab6_a5f4_11ec_8826_02420a3947abrow2_col2\" class=\"data row2 col2\" >1</td>\n",
       "                        <td id=\"T_8f919ab6_a5f4_11ec_8826_02420a3947abrow2_col3\" class=\"data row2 col3\" >0.195721</td>\n",
       "                        <td id=\"T_8f919ab6_a5f4_11ec_8826_02420a3947abrow2_col4\" class=\"data row2 col4\" >0.20383</td>\n",
       "            </tr>\n",
       "            <tr>\n",
       "                        <th id=\"T_8f919ab6_a5f4_11ec_8826_02420a3947ablevel0_row3\" class=\"row_heading level0 row3\" >mb_used</th>\n",
       "                        <td id=\"T_8f919ab6_a5f4_11ec_8826_02420a3947abrow3_col0\" class=\"data row3 col0\" >0.286442</td>\n",
       "                        <td id=\"T_8f919ab6_a5f4_11ec_8826_02420a3947abrow3_col1\" class=\"data row3 col1\" >0.280967</td>\n",
       "                        <td id=\"T_8f919ab6_a5f4_11ec_8826_02420a3947abrow3_col2\" class=\"data row3 col2\" >0.195721</td>\n",
       "                        <td id=\"T_8f919ab6_a5f4_11ec_8826_02420a3947abrow3_col3\" class=\"data row3 col3\" >1</td>\n",
       "                        <td id=\"T_8f919ab6_a5f4_11ec_8826_02420a3947abrow3_col4\" class=\"data row3 col4\" >0.198568</td>\n",
       "            </tr>\n",
       "            <tr>\n",
       "                        <th id=\"T_8f919ab6_a5f4_11ec_8826_02420a3947ablevel0_row4\" class=\"row_heading level0 row4\" >is_ultra</th>\n",
       "                        <td id=\"T_8f919ab6_a5f4_11ec_8826_02420a3947abrow4_col0\" class=\"data row4 col0\" >0.207122</td>\n",
       "                        <td id=\"T_8f919ab6_a5f4_11ec_8826_02420a3947abrow4_col1\" class=\"data row4 col1\" >0.206955</td>\n",
       "                        <td id=\"T_8f919ab6_a5f4_11ec_8826_02420a3947abrow4_col2\" class=\"data row4 col2\" >0.20383</td>\n",
       "                        <td id=\"T_8f919ab6_a5f4_11ec_8826_02420a3947abrow4_col3\" class=\"data row4 col3\" >0.198568</td>\n",
       "                        <td id=\"T_8f919ab6_a5f4_11ec_8826_02420a3947abrow4_col4\" class=\"data row4 col4\" >1</td>\n",
       "            </tr>\n",
       "    </tbody></table>"
      ],
      "text/plain": [
       "<pandas.io.formats.style.Styler at 0x7fa0f9511590>"
      ]
     },
     "execution_count": 4,
     "metadata": {},
     "output_type": "execute_result"
    }
   ],
   "source": [
    "corr = df.corr()\n",
    "corr.style.background_gradient(cmap='coolwarm')"
   ]
  },
  {
   "cell_type": "markdown",
   "metadata": {},
   "source": [
    "> Как мы видим, все данные независимы друг от друга, **кроме минут и звонков**. Они имеют практиески прямую зависимость - *степень корреляции* у них составляет - **0.982**. \n",
    "\n",
    "Таким образом, мы можем вычеркнуть столбец со звонками. Так как физически важнее не количество звонков как таковых - они могут иметь и нулевую длительность. А количество фактически использованных минут, которые являются определеющим фактором для выбора модели."
   ]
  },
  {
   "cell_type": "code",
   "execution_count": 5,
   "metadata": {},
   "outputs": [],
   "source": [
    "df = df.drop(['calls'],axis =1)"
   ]
  },
  {
   "cell_type": "markdown",
   "metadata": {},
   "source": [
    "### Выводы"
   ]
  },
  {
   "cell_type": "markdown",
   "metadata": {},
   "source": [
    "- Данные выгружены без ошибок;\n",
    "- Данные полные, пропусков нет;\n",
    "- Проведено исследование на мультиколлинеарность;\n",
    "- Принятно решение не включать в данные столбец с количеством звонков пользователей."
   ]
  },
  {
   "cell_type": "markdown",
   "metadata": {},
   "source": [
    "## Разбейте данные на выборки"
   ]
  },
  {
   "cell_type": "markdown",
   "metadata": {},
   "source": [
    "Разобьем выборки на обучающую, валидационную и тестовую выборки."
   ]
  },
  {
   "cell_type": "code",
   "execution_count": 6,
   "metadata": {},
   "outputs": [],
   "source": [
    "# Для начала разобьем данные на две выборки. Первое разбиение - на обучающую и валидационную в соотношении 60/40\n",
    "data_train,data_valid = train_test_split(\n",
    "    df,test_size = 0.60, random_state=12345)\n",
    "\n",
    "# Затем полученную валидационную разобьем пополам для получения тестовой и валидационной\n",
    "data_test,data_valid = train_test_split(data_valid,test_size = 0.50, random_state=42)"
   ]
  },
  {
   "cell_type": "markdown",
   "metadata": {},
   "source": [
    "Теперь посмотрим на размер получившихся выборок."
   ]
  },
  {
   "cell_type": "code",
   "execution_count": 7,
   "metadata": {},
   "outputs": [
    {
     "name": "stdout",
     "output_type": "stream",
     "text": [
      "(1285, 4)\n",
      "(965, 4)\n",
      "(964, 4)\n"
     ]
    }
   ],
   "source": [
    "print(f\"{np.shape(data_train)}\\n{np.shape(data_valid)}\\n{np.shape(data_test)}\")\n"
   ]
  },
  {
   "cell_type": "markdown",
   "metadata": {},
   "source": [
    "Всё отлично, выборки разделились довольно равномерно. \n",
    "\n",
    "Суммарно как раз получилось 3214 записей - как раз столько же, как и в изначальном наборе данных, значит, дублирований нет."
   ]
  },
  {
   "cell_type": "markdown",
   "metadata": {},
   "source": [
    "Так же определим обозначим целевые,валидационные признаки и признаки для обучения модели."
   ]
  },
  {
   "cell_type": "code",
   "execution_count": 8,
   "metadata": {},
   "outputs": [],
   "source": [
    "# Признаки для обучающей выборки\n",
    "features_train = data_train.drop(['is_ultra'],axis =1)\n",
    "target_train = data_train['is_ultra']\n",
    "\n",
    "# Признаки для валидационной выборки\n",
    "features_valid = data_valid.drop(['is_ultra'],axis =1)\n",
    "target_valid = data_valid['is_ultra']\n",
    "\n",
    "# Признаки для тестовой выборки\n",
    "features_test = data_test.drop(['is_ultra'],axis =1)\n",
    "target_test = data_test['is_ultra']"
   ]
  },
  {
   "cell_type": "markdown",
   "metadata": {},
   "source": [
    "## Исследование моделей"
   ]
  },
  {
   "cell_type": "markdown",
   "metadata": {},
   "source": [
    "### Дерево решений"
   ]
  },
  {
   "cell_type": "markdown",
   "metadata": {},
   "source": [
    "Исследуем первый вариант модели - *дерево решений*"
   ]
  },
  {
   "cell_type": "markdown",
   "metadata": {},
   "source": [
    "Подберем лучшую модель для каждого случая, для этого в цикле посмотрим **лучшую глубину** для дерева решений."
   ]
  },
  {
   "cell_type": "code",
   "execution_count": 9,
   "metadata": {},
   "outputs": [
    {
     "name": "stdout",
     "output_type": "stream",
     "text": [
      "Accuracy лучшей модели: 0.8\n",
      "best model: DecisionTreeClassifier(class_weight=None, criterion='gini', max_depth=9,\n",
      "                       max_features=None, max_leaf_nodes=None,\n",
      "                       min_impurity_decrease=0.0, min_impurity_split=None,\n",
      "                       min_samples_leaf=1, min_samples_split=2,\n",
      "                       min_weight_fraction_leaf=0.0, presort=False,\n",
      "                       random_state=12345, splitter='best')\n"
     ]
    }
   ],
   "source": [
    "best_model = None\n",
    "best_result = 0\n",
    "for depth in range(1, 10):\n",
    "    model = DecisionTreeClassifier(random_state=12345, max_depth=depth) \n",
    "    model.fit(features_train,target_train) \n",
    "  #  predictions = model.predict(features_valid) \n",
    "    predictions_valid = model.predict(features_valid)   # СКОРРЕКТИРОВАЛ ТУТ ОПИСКУ\n",
    "    result = accuracy_score(target_valid, predictions_valid) \n",
    "    if result > best_result:\n",
    "        best_model = model\n",
    "        best_result = result\n",
    "        \n",
    "print(\"Accuracy лучшей модели:\", best_result)\n",
    "print(\"best model:\",model)"
   ]
  },
  {
   "cell_type": "markdown",
   "metadata": {},
   "source": [
    "### Логистическя регрессия"
   ]
  },
  {
   "cell_type": "code",
   "execution_count": 10,
   "metadata": {},
   "outputs": [
    {
     "name": "stdout",
     "output_type": "stream",
     "text": [
      "Accuracy модели логистической регрессии на валидационной выборке: 0.7419689119170985\n"
     ]
    }
   ],
   "source": [
    "model = LogisticRegression(random_state=12345)\n",
    "model.fit(features_train,target_train)\n",
    "result = model.score(features_valid,target_valid)\n",
    "\n",
    "print(\"Accuracy модели логистической регрессии на валидационной выборке:\", result)"
   ]
  },
  {
   "cell_type": "markdown",
   "metadata": {},
   "source": [
    "### Лес случайных деревьев"
   ]
  },
  {
   "cell_type": "markdown",
   "metadata": {},
   "source": [
    "Для леса случайных деревьев посмотрим два гиперпараметра - лучшую максимальную глубину и количество деревьев в лесу."
   ]
  },
  {
   "cell_type": "code",
   "execution_count": 11,
   "metadata": {},
   "outputs": [
    {
     "name": "stdout",
     "output_type": "stream",
     "text": [
      "RMSE наилучшей модели на валидационной выборке: 0.42218283002617707 Количество деревьев: 20 Максимальная глубина: 10 Лучший критерий gini\n",
      "Accuracy лучшей модели: 0.8217616580310881\n"
     ]
    }
   ],
   "source": [
    "best_model = None\n",
    "best_result = 10000\n",
    "best_est = 0\n",
    "best_depth = 0\n",
    "best_result_score = 0\n",
    "best_criterion = 0\n",
    "for est in range(10, 51, 10):\n",
    "    for depth in range (1, 11):\n",
    "        for criteria in ['gini','entropy']:\n",
    "            model = RandomForestClassifier(random_state = 12345, n_estimators=est, max_depth=depth, criterion=criteria)\n",
    "            model.fit(features_train,target_train)\n",
    "            predictions_valid = model.predict(features_valid)\n",
    "            result = mean_squared_error(target_valid,predictions_valid)**0.5\n",
    "            result_score = accuracy_score(target_valid, predictions_valid) \n",
    "            if result < best_result:\n",
    "                best_model = model\n",
    "                best_result = result\n",
    "                best_est = est\n",
    "                best_depth = depth\n",
    "                best_result_score = result_score\n",
    "                best_criterion = criteria\n",
    "\n",
    "print(\"RMSE наилучшей модели на валидационной выборке:\", best_result,\n",
    "      \"Количество деревьев:\", best_est,\n",
    "      \"Максимальная глубина:\", depth,\n",
    "      \"Лучший критерий\",best_criterion)\n",
    "print(\"Accuracy лучшей модели:\",best_result_score)"
   ]
  },
  {
   "cell_type": "markdown",
   "metadata": {},
   "source": [
    "### Вывод"
   ]
  },
  {
   "cell_type": "markdown",
   "metadata": {},
   "source": [
    "- *Логистическая регрессия* хоть и работает быстро, но точность предсказательной модели на валидационной выборке ниже всех прочих моделей - **0.74**;\n",
    "- *Дерево решений* дает на валидационной выборке средний результат **0.80** при глубине решающего дерева **9** и выборе критерия **Джини**;\n",
    "- Лучший результат показала модель *леса случайных деревьев* со *следующими гиперпараметрами*:\n",
    " - Количество деревьев: 20;\n",
    " - Максимальная глубина: 10;\n",
    "- Точность данной предсказательной модели на валидационной выборке составила **0.82**"
   ]
  },
  {
   "cell_type": "markdown",
   "metadata": {},
   "source": [
    "## Проверьте модель на тестовой выборке"
   ]
  },
  {
   "cell_type": "code",
   "execution_count": 14,
   "metadata": {},
   "outputs": [
    {
     "name": "stdout",
     "output_type": "stream",
     "text": [
      "Accuracy\n",
      "Тестовая выборка: 0.7904564315352697\n"
     ]
    }
   ],
   "source": [
    "model = RandomForestClassifier(random_state = 12345, n_estimators=10, max_depth=10, criterion = 'entropy')\n",
    "\n",
    "model.fit(features_train,target_train)\n",
    "\n",
    "predictions_test = model.predict(features_test)\n",
    "result_score = accuracy_score(target_test, predictions_test) \n",
    "\n",
    "print(\"Accuracy\")\n",
    "print(\"Тестовая выборка:\", result_score)"
   ]
  },
  {
   "cell_type": "markdown",
   "metadata": {},
   "source": [
    "### Вывод"
   ]
  },
  {
   "cell_type": "markdown",
   "metadata": {},
   "source": [
    "- Точность предсказания получилась **0.79**;\n",
    "- Модель с лесом случайных деревеьев отработала успешно;\n",
    "- В целом при варьировании гиперпараметров удалось найти подходящую модель,выдающую достаточно неплохое значение точности на тестовой выработке."
   ]
  },
  {
   "cell_type": "markdown",
   "metadata": {},
   "source": [
    "## (бонус) Проверьте модели на адекватность"
   ]
  },
  {
   "cell_type": "code",
   "execution_count": 15,
   "metadata": {},
   "outputs": [
    {
     "name": "stdout",
     "output_type": "stream",
     "text": [
      "Accuracy фиктивного классификатора на валидационной выборке: 0.7316062176165803\n",
      "Accuracy фиктивного классификатора на тестовой выборке: 0.6846473029045643\n"
     ]
    }
   ],
   "source": [
    "#Импортируем фиктивный классификатор\n",
    "from sklearn.dummy import DummyClassifier\n",
    "# Создадим модель, где будет в качестве предиктора использоваться самое частное значение\n",
    "d_c = DummyClassifier(strategy = 'most_frequent', random_state = 12345)\n",
    "# Обучим ее на тренеровочной выборке\n",
    "d_c.fit(features_train,target_train)\n",
    "# и посмотрим долю правильных ответов\n",
    "result_valid = d_c.score(features_valid,target_valid)\n",
    "result_test = d_c.score(features_test,target_test)\n",
    "\n",
    "\n",
    "print('Accuracy фиктивного классификатора на валидационной выборке:', result_valid)\n",
    "print('Accuracy фиктивного классификатора на тестовой выборке:', result_test)\n"
   ]
  },
  {
   "cell_type": "markdown",
   "metadata": {},
   "source": [
    "### Выводы"
   ]
  },
  {
   "cell_type": "markdown",
   "metadata": {},
   "source": [
    "- На валидационной выборке фиктивный классификатор показал значение **0.73** - примерно такое же, как и на логистической регрессии;\n",
    "- На тестовой выборке мы получили значение точности **0.68**, что ниже **0.79**, полученное при использовании модели случайного леса;\n",
    "- Таким образом, наша модель является рабочей и адекватной.\n",
    "    "
   ]
  }
 ],
 "metadata": {
  "ExecuteTimeLog": [
   {
    "duration": 463,
    "start_time": "2022-03-11T14:37:25.229Z"
   },
   {
    "duration": 1122,
    "start_time": "2022-03-11T14:38:17.866Z"
   },
   {
    "duration": 405,
    "start_time": "2022-03-11T14:38:21.165Z"
   },
   {
    "duration": 66,
    "start_time": "2022-03-11T14:38:29.343Z"
   },
   {
    "duration": 344,
    "start_time": "2022-03-11T14:44:33.635Z"
   },
   {
    "duration": 52,
    "start_time": "2022-03-11T14:44:40.014Z"
   },
   {
    "duration": 52,
    "start_time": "2022-03-11T14:45:18.493Z"
   },
   {
    "duration": 13,
    "start_time": "2022-03-11T14:50:28.069Z"
   },
   {
    "duration": 6,
    "start_time": "2022-03-11T14:56:45.367Z"
   },
   {
    "duration": 365,
    "start_time": "2022-03-11T15:01:43.759Z"
   },
   {
    "duration": 321,
    "start_time": "2022-03-11T15:02:22.792Z"
   },
   {
    "duration": 7,
    "start_time": "2022-03-11T15:02:26.470Z"
   },
   {
    "duration": 50,
    "start_time": "2022-03-11T15:16:20.546Z"
   },
   {
    "duration": 360,
    "start_time": "2022-03-11T15:26:08.663Z"
   },
   {
    "duration": 8,
    "start_time": "2022-03-11T15:26:16.917Z"
   },
   {
    "duration": 35,
    "start_time": "2022-03-11T15:26:19.831Z"
   },
   {
    "duration": 191,
    "start_time": "2022-03-11T15:26:38.602Z"
   },
   {
    "duration": 1378,
    "start_time": "2022-03-11T15:26:47.736Z"
   },
   {
    "duration": 71,
    "start_time": "2022-03-11T15:26:53.872Z"
   },
   {
    "duration": 10,
    "start_time": "2022-03-11T15:28:07.628Z"
   },
   {
    "duration": 6666,
    "start_time": "2022-03-11T15:29:23.758Z"
   },
   {
    "duration": 33469,
    "start_time": "2022-03-11T15:30:24.294Z"
   },
   {
    "duration": 5829,
    "start_time": "2022-03-11T15:31:16.689Z"
   },
   {
    "duration": 6927,
    "start_time": "2022-03-11T15:31:35.046Z"
   },
   {
    "duration": 158,
    "start_time": "2022-03-11T15:37:05.796Z"
   },
   {
    "duration": 1416,
    "start_time": "2022-03-11T15:50:50.668Z"
   },
   {
    "duration": 63,
    "start_time": "2022-03-11T15:50:52.086Z"
   },
   {
    "duration": 30,
    "start_time": "2022-03-11T15:50:52.152Z"
   },
   {
    "duration": 6,
    "start_time": "2022-03-11T15:50:52.185Z"
   },
   {
    "duration": 11,
    "start_time": "2022-03-11T15:50:52.194Z"
   },
   {
    "duration": 99,
    "start_time": "2022-03-11T15:50:52.207Z"
   },
   {
    "duration": 9,
    "start_time": "2022-03-11T15:50:52.309Z"
   },
   {
    "duration": 6928,
    "start_time": "2022-03-11T15:50:52.322Z"
   },
   {
    "duration": 142,
    "start_time": "2022-03-11T16:05:35.791Z"
   },
   {
    "duration": 6936,
    "start_time": "2022-03-11T16:05:57.300Z"
   },
   {
    "duration": 504,
    "start_time": "2022-03-11T16:06:42.942Z"
   },
   {
    "duration": 129,
    "start_time": "2022-03-11T16:06:53.461Z"
   },
   {
    "duration": 10029,
    "start_time": "2022-03-11T16:07:03.637Z"
   },
   {
    "duration": 10482,
    "start_time": "2022-03-11T16:07:30.012Z"
   },
   {
    "duration": 6722,
    "start_time": "2022-03-11T16:08:43.510Z"
   },
   {
    "duration": 6928,
    "start_time": "2022-03-11T16:09:39.597Z"
   },
   {
    "duration": 6753,
    "start_time": "2022-03-11T16:10:02.476Z"
   },
   {
    "duration": 314,
    "start_time": "2022-03-11T16:18:42.065Z"
   },
   {
    "duration": 8,
    "start_time": "2022-03-11T16:19:06.971Z"
   },
   {
    "duration": 103,
    "start_time": "2022-03-11T16:19:20.907Z"
   },
   {
    "duration": 451,
    "start_time": "2022-03-11T16:22:49.198Z"
   },
   {
    "duration": 5,
    "start_time": "2022-03-11T16:23:06.663Z"
   },
   {
    "duration": 3215,
    "start_time": "2022-03-11T16:23:11.558Z"
   },
   {
    "duration": 14,
    "start_time": "2022-03-11T16:28:00.190Z"
   },
   {
    "duration": 11,
    "start_time": "2022-03-11T16:28:00.195Z"
   },
   {
    "duration": 10,
    "start_time": "2022-03-11T16:28:00.197Z"
   },
   {
    "duration": 7,
    "start_time": "2022-03-11T16:28:00.202Z"
   },
   {
    "duration": 7,
    "start_time": "2022-03-11T16:28:00.203Z"
   },
   {
    "duration": 4,
    "start_time": "2022-03-11T16:28:00.207Z"
   },
   {
    "duration": 0,
    "start_time": "2022-03-11T16:28:00.213Z"
   },
   {
    "duration": -1,
    "start_time": "2022-03-11T16:28:00.215Z"
   },
   {
    "duration": -1,
    "start_time": "2022-03-11T16:28:00.216Z"
   },
   {
    "duration": -1,
    "start_time": "2022-03-11T16:28:00.218Z"
   },
   {
    "duration": 1419,
    "start_time": "2022-03-11T16:28:29.607Z"
   },
   {
    "duration": 69,
    "start_time": "2022-03-11T16:28:31.029Z"
   },
   {
    "duration": 12,
    "start_time": "2022-03-11T16:28:31.101Z"
   },
   {
    "duration": 31,
    "start_time": "2022-03-11T16:28:31.116Z"
   },
   {
    "duration": 26,
    "start_time": "2022-03-11T16:28:31.149Z"
   },
   {
    "duration": 96,
    "start_time": "2022-03-11T16:28:31.177Z"
   },
   {
    "duration": 9,
    "start_time": "2022-03-11T16:28:31.276Z"
   },
   {
    "duration": 6895,
    "start_time": "2022-03-11T16:28:31.287Z"
   },
   {
    "duration": 9,
    "start_time": "2022-03-11T16:28:38.187Z"
   },
   {
    "duration": 3624,
    "start_time": "2022-03-11T16:28:38.199Z"
   },
   {
    "duration": 496,
    "start_time": "2022-03-11T16:29:44.507Z"
   },
   {
    "duration": 478,
    "start_time": "2022-03-11T16:30:02.043Z"
   },
   {
    "duration": 1453,
    "start_time": "2022-03-11T16:47:13.148Z"
   },
   {
    "duration": 71,
    "start_time": "2022-03-11T16:47:14.604Z"
   },
   {
    "duration": 13,
    "start_time": "2022-03-11T16:47:14.678Z"
   },
   {
    "duration": 16,
    "start_time": "2022-03-11T16:47:14.695Z"
   },
   {
    "duration": 21,
    "start_time": "2022-03-11T16:47:14.714Z"
   },
   {
    "duration": 86,
    "start_time": "2022-03-11T16:47:14.738Z"
   },
   {
    "duration": 10,
    "start_time": "2022-03-11T16:47:14.826Z"
   },
   {
    "duration": 6981,
    "start_time": "2022-03-11T16:47:14.839Z"
   },
   {
    "duration": 3,
    "start_time": "2022-03-11T16:47:21.824Z"
   },
   {
    "duration": 661,
    "start_time": "2022-03-11T16:47:21.829Z"
   },
   {
    "duration": 8,
    "start_time": "2022-03-11T16:47:33.635Z"
   },
   {
    "duration": 612,
    "start_time": "2022-03-11T16:47:53.316Z"
   },
   {
    "duration": 349,
    "start_time": "2022-03-11T16:52:05.958Z"
   },
   {
    "duration": 5,
    "start_time": "2022-03-11T16:52:12.042Z"
   },
   {
    "duration": 13,
    "start_time": "2022-03-11T16:52:17.399Z"
   },
   {
    "duration": 364,
    "start_time": "2022-03-11T16:53:30.486Z"
   },
   {
    "duration": 333,
    "start_time": "2022-03-11T16:53:54.268Z"
   },
   {
    "duration": 5,
    "start_time": "2022-03-11T16:54:13.886Z"
   },
   {
    "duration": 49,
    "start_time": "2022-03-11T16:54:22.546Z"
   },
   {
    "duration": 46,
    "start_time": "2022-03-11T17:08:23.413Z"
   },
   {
    "duration": 47,
    "start_time": "2022-03-11T17:08:48.995Z"
   },
   {
    "duration": 44,
    "start_time": "2022-03-11T17:16:46.337Z"
   },
   {
    "duration": 313,
    "start_time": "2022-03-11T17:18:42.338Z"
   },
   {
    "duration": 349,
    "start_time": "2022-03-11T17:22:29.422Z"
   },
   {
    "duration": 353,
    "start_time": "2022-03-11T17:22:51.580Z"
   },
   {
    "duration": 317,
    "start_time": "2022-03-11T17:22:55.458Z"
   },
   {
    "duration": 323,
    "start_time": "2022-03-11T17:24:31.716Z"
   },
   {
    "duration": 34,
    "start_time": "2022-03-11T17:40:33.897Z"
   },
   {
    "duration": 1020,
    "start_time": "2022-03-12T17:00:53.393Z"
   },
   {
    "duration": 339,
    "start_time": "2022-03-12T17:03:32.258Z"
   },
   {
    "duration": 5,
    "start_time": "2022-03-12T17:03:37.841Z"
   },
   {
    "duration": 57,
    "start_time": "2022-03-12T17:03:41.449Z"
   },
   {
    "duration": 8,
    "start_time": "2022-03-12T17:03:44.587Z"
   },
   {
    "duration": 4,
    "start_time": "2022-03-12T17:03:47.358Z"
   },
   {
    "duration": 5,
    "start_time": "2022-03-12T17:03:51.466Z"
   },
   {
    "duration": 55,
    "start_time": "2022-03-12T17:03:54.884Z"
   },
   {
    "duration": 26,
    "start_time": "2022-03-12T17:04:27.614Z"
   },
   {
    "duration": 47,
    "start_time": "2022-03-12T17:04:38.640Z"
   },
   {
    "duration": 137,
    "start_time": "2022-03-12T17:04:46.913Z"
   },
   {
    "duration": 49,
    "start_time": "2022-03-12T17:04:53.728Z"
   },
   {
    "duration": 3465,
    "start_time": "2022-03-12T17:12:46.326Z"
   },
   {
    "duration": 80,
    "start_time": "2022-03-12T17:14:05.754Z"
   },
   {
    "duration": 84,
    "start_time": "2022-03-12T17:15:55.754Z"
   },
   {
    "duration": 83,
    "start_time": "2022-03-12T17:16:12.359Z"
   },
   {
    "duration": 108,
    "start_time": "2022-03-12T17:16:21.015Z"
   },
   {
    "duration": 92,
    "start_time": "2022-03-12T17:16:47.373Z"
   },
   {
    "duration": 86,
    "start_time": "2022-03-12T17:18:16.075Z"
   },
   {
    "duration": 88,
    "start_time": "2022-03-12T17:18:28.466Z"
   },
   {
    "duration": 86,
    "start_time": "2022-03-12T17:19:55.319Z"
   },
   {
    "duration": 184,
    "start_time": "2022-03-12T17:20:07.050Z"
   },
   {
    "duration": 106,
    "start_time": "2022-03-12T17:20:22.113Z"
   },
   {
    "duration": 3416,
    "start_time": "2022-03-12T17:27:43.679Z"
   },
   {
    "duration": 246,
    "start_time": "2022-03-12T17:50:33.576Z"
   },
   {
    "duration": 8,
    "start_time": "2022-03-12T17:50:40.624Z"
   },
   {
    "duration": 252,
    "start_time": "2022-03-12T17:51:12.872Z"
   },
   {
    "duration": 12,
    "start_time": "2022-03-12T17:52:08.336Z"
   },
   {
    "duration": 3,
    "start_time": "2022-03-12T18:51:53.685Z"
   },
   {
    "duration": 12,
    "start_time": "2022-03-12T18:51:57.042Z"
   },
   {
    "duration": 282,
    "start_time": "2022-03-12T18:55:03.434Z"
   },
   {
    "duration": 42,
    "start_time": "2022-03-12T18:55:17.519Z"
   },
   {
    "duration": 4374,
    "start_time": "2022-03-12T19:03:24.220Z"
   },
   {
    "duration": 29,
    "start_time": "2022-03-12T19:04:01.139Z"
   },
   {
    "duration": 28,
    "start_time": "2022-03-12T19:04:04.105Z"
   },
   {
    "duration": 31,
    "start_time": "2022-03-12T19:04:05.680Z"
   },
   {
    "duration": 33,
    "start_time": "2022-03-12T19:04:06.534Z"
   },
   {
    "duration": 28,
    "start_time": "2022-03-12T19:04:07.506Z"
   },
   {
    "duration": 26,
    "start_time": "2022-03-12T19:04:18.085Z"
   },
   {
    "duration": 29,
    "start_time": "2022-03-12T19:04:25.290Z"
   },
   {
    "duration": 47,
    "start_time": "2022-03-12T19:04:33.170Z"
   },
   {
    "duration": 29,
    "start_time": "2022-03-12T19:04:54.353Z"
   },
   {
    "duration": 6,
    "start_time": "2022-03-12T19:27:50.176Z"
   },
   {
    "duration": 5,
    "start_time": "2022-03-12T19:28:08.160Z"
   },
   {
    "duration": 6,
    "start_time": "2022-03-12T19:29:17.416Z"
   },
   {
    "duration": 3,
    "start_time": "2022-03-12T19:33:21.039Z"
   },
   {
    "duration": 243,
    "start_time": "2022-03-17T05:08:13.930Z"
   },
   {
    "duration": 1316,
    "start_time": "2022-03-17T05:08:21.845Z"
   },
   {
    "duration": 62,
    "start_time": "2022-03-17T05:08:23.164Z"
   },
   {
    "duration": 24,
    "start_time": "2022-03-17T05:08:23.230Z"
   },
   {
    "duration": 5,
    "start_time": "2022-03-17T05:08:23.257Z"
   },
   {
    "duration": 323,
    "start_time": "2022-03-17T05:08:23.265Z"
   },
   {
    "duration": -954,
    "start_time": "2022-03-17T05:08:24.545Z"
   },
   {
    "duration": -957,
    "start_time": "2022-03-17T05:08:24.550Z"
   },
   {
    "duration": -961,
    "start_time": "2022-03-17T05:08:24.555Z"
   },
   {
    "duration": -961,
    "start_time": "2022-03-17T05:08:24.556Z"
   },
   {
    "duration": -961,
    "start_time": "2022-03-17T05:08:24.558Z"
   },
   {
    "duration": -964,
    "start_time": "2022-03-17T05:08:24.562Z"
   },
   {
    "duration": 1337,
    "start_time": "2022-03-17T11:23:03.300Z"
   },
   {
    "duration": 69,
    "start_time": "2022-03-17T11:23:04.640Z"
   },
   {
    "duration": 13,
    "start_time": "2022-03-17T11:23:04.712Z"
   },
   {
    "duration": 15,
    "start_time": "2022-03-17T11:23:04.728Z"
   },
   {
    "duration": 24,
    "start_time": "2022-03-17T11:23:04.745Z"
   },
   {
    "duration": 488,
    "start_time": "2022-03-17T11:23:04.771Z"
   },
   {
    "duration": -809,
    "start_time": "2022-03-17T11:23:06.071Z"
   },
   {
    "duration": -813,
    "start_time": "2022-03-17T11:23:06.076Z"
   },
   {
    "duration": -813,
    "start_time": "2022-03-17T11:23:06.078Z"
   },
   {
    "duration": -815,
    "start_time": "2022-03-17T11:23:06.082Z"
   },
   {
    "duration": -816,
    "start_time": "2022-03-17T11:23:06.084Z"
   },
   {
    "duration": -852,
    "start_time": "2022-03-17T11:23:06.122Z"
   },
   {
    "duration": 223,
    "start_time": "2022-03-17T11:23:24.661Z"
   },
   {
    "duration": 196,
    "start_time": "2022-03-17T11:23:30.808Z"
   },
   {
    "duration": 629,
    "start_time": "2022-03-17T11:27:40.603Z"
   },
   {
    "duration": 6,
    "start_time": "2022-03-17T11:35:57.739Z"
   },
   {
    "duration": 11,
    "start_time": "2022-03-17T11:50:13.882Z"
   },
   {
    "duration": 266,
    "start_time": "2022-03-17T11:51:33.566Z"
   },
   {
    "duration": 208,
    "start_time": "2022-03-17T11:52:15.391Z"
   },
   {
    "duration": 290,
    "start_time": "2022-03-17T11:52:28.878Z"
   },
   {
    "duration": 12,
    "start_time": "2022-03-17T11:53:01.992Z"
   },
   {
    "duration": 11,
    "start_time": "2022-03-17T11:53:28.863Z"
   },
   {
    "duration": 5,
    "start_time": "2022-03-17T11:55:04.299Z"
   },
   {
    "duration": 73,
    "start_time": "2022-03-17T11:56:36.382Z"
   },
   {
    "duration": 75,
    "start_time": "2022-03-17T11:56:42.951Z"
   },
   {
    "duration": 62,
    "start_time": "2022-03-17T11:56:57.153Z"
   },
   {
    "duration": 63,
    "start_time": "2022-03-17T11:57:51.623Z"
   },
   {
    "duration": 92,
    "start_time": "2022-03-17T11:58:04.648Z"
   },
   {
    "duration": 4,
    "start_time": "2022-03-17T11:59:51.317Z"
   },
   {
    "duration": 5,
    "start_time": "2022-03-17T12:00:19.116Z"
   },
   {
    "duration": 1299,
    "start_time": "2022-03-17T12:10:41.084Z"
   },
   {
    "duration": 70,
    "start_time": "2022-03-17T12:10:42.386Z"
   },
   {
    "duration": 19,
    "start_time": "2022-03-17T12:10:42.460Z"
   },
   {
    "duration": 603,
    "start_time": "2022-03-17T12:10:42.482Z"
   },
   {
    "duration": 8,
    "start_time": "2022-03-17T12:10:43.089Z"
   },
   {
    "duration": 10,
    "start_time": "2022-03-17T12:10:43.099Z"
   },
   {
    "duration": 5,
    "start_time": "2022-03-17T12:10:43.112Z"
   },
   {
    "duration": 339,
    "start_time": "2022-03-17T12:10:43.119Z"
   },
   {
    "duration": -783,
    "start_time": "2022-03-17T12:10:44.244Z"
   },
   {
    "duration": -784,
    "start_time": "2022-03-17T12:10:44.246Z"
   },
   {
    "duration": -784,
    "start_time": "2022-03-17T12:10:44.247Z"
   },
   {
    "duration": -784,
    "start_time": "2022-03-17T12:10:44.249Z"
   },
   {
    "duration": -829,
    "start_time": "2022-03-17T12:10:44.295Z"
   },
   {
    "duration": -828,
    "start_time": "2022-03-17T12:10:44.296Z"
   },
   {
    "duration": 9,
    "start_time": "2022-03-17T12:11:16.483Z"
   },
   {
    "duration": 55,
    "start_time": "2022-03-17T12:11:21.548Z"
   },
   {
    "duration": 14,
    "start_time": "2022-03-17T12:11:25.425Z"
   },
   {
    "duration": 7890,
    "start_time": "2022-03-17T12:11:28.398Z"
   },
   {
    "duration": 212,
    "start_time": "2022-03-17T12:14:37.093Z"
   },
   {
    "duration": 211,
    "start_time": "2022-03-17T13:16:51.585Z"
   },
   {
    "duration": 1789,
    "start_time": "2022-03-17T13:17:11.467Z"
   },
   {
    "duration": 97,
    "start_time": "2022-03-17T13:17:13.259Z"
   },
   {
    "duration": 18,
    "start_time": "2022-03-17T13:17:13.359Z"
   },
   {
    "duration": 722,
    "start_time": "2022-03-17T13:17:13.380Z"
   },
   {
    "duration": 7,
    "start_time": "2022-03-17T13:17:14.105Z"
   },
   {
    "duration": 14,
    "start_time": "2022-03-17T13:17:14.116Z"
   },
   {
    "duration": 4,
    "start_time": "2022-03-17T13:17:14.133Z"
   },
   {
    "duration": 9,
    "start_time": "2022-03-17T13:17:14.170Z"
   },
   {
    "duration": 87,
    "start_time": "2022-03-17T13:17:14.183Z"
   },
   {
    "duration": 19,
    "start_time": "2022-03-17T13:17:14.273Z"
   },
   {
    "duration": 9156,
    "start_time": "2022-03-17T13:17:14.295Z"
   },
   {
    "duration": 16,
    "start_time": "2022-03-17T13:17:23.453Z"
   },
   {
    "duration": 392,
    "start_time": "2022-03-17T13:17:23.472Z"
   },
   {
    "duration": -1138,
    "start_time": "2022-03-17T13:17:25.005Z"
   },
   {
    "duration": 47,
    "start_time": "2022-03-17T13:17:39.731Z"
   },
   {
    "duration": 14,
    "start_time": "2022-03-17T13:22:28.347Z"
   }
  ],
  "kernelspec": {
   "display_name": "Python 3 (ipykernel)",
   "language": "python",
   "name": "python3"
  },
  "language_info": {
   "codemirror_mode": {
    "name": "ipython",
    "version": 3
   },
   "file_extension": ".py",
   "mimetype": "text/x-python",
   "name": "python",
   "nbconvert_exporter": "python",
   "pygments_lexer": "ipython3",
   "version": "3.9.5"
  },
  "toc": {
   "base_numbering": 1,
   "nav_menu": {},
   "number_sections": true,
   "sideBar": true,
   "skip_h1_title": true,
   "title_cell": "Table of Contents",
   "title_sidebar": "Contents",
   "toc_cell": false,
   "toc_position": {},
   "toc_section_display": true,
   "toc_window_display": false
  }
 },
 "nbformat": 4,
 "nbformat_minor": 2
}
