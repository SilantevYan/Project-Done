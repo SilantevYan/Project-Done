{
 "cells": [
  {
   "cell_type": "markdown",
   "metadata": {
    "id": "E0vqbgi9ay0H"
   },
   "source": [
    "# Яндекс.Музыка"
   ]
  },
  {
   "cell_type": "markdown",
   "metadata": {
    "id": "VUC88oWjTJw2"
   },
   "source": [
    "Сравнение Москвы и Петербурга окружено мифами. Например:\n",
    " * Москва — мегаполис, подчинённый жёсткому ритму рабочей недели;\n",
    " * Петербург — культурная столица, со своими вкусами.\n",
    "\n",
    "На данных Яндекс.Музыки вы сравните поведение пользователей двух столиц.\n",
    "\n",
    "**Цель исследования** — проверьте три гипотезы:\n",
    "1. Активность пользователей зависит от дня недели. Причём в Москве и Петербурге это проявляется по-разному.\n",
    "2. В понедельник утром в Москве преобладают одни жанры, а в Петербурге — другие. Так же и вечером пятницы преобладают разные жанры — в зависимости от города. \n",
    "3. Москва и Петербург предпочитают разные жанры музыки. В Москве чаще слушают поп-музыку, в Петербурге — русский рэп.\n",
    "\n",
    "**Ход исследования**\n",
    "\n",
    "Данные о поведении пользователей вы получите из файла `yandex_music_project.csv`. О качестве данных ничего не известно. Поэтому перед проверкой гипотез понадобится обзор данных. \n",
    "\n",
    "Вы проверите данные на ошибки и оцените их влияние на исследование. Затем, на этапе предобработки вы поищете возможность исправить самые критичные ошибки данных.\n",
    " \n",
    "Таким образом, исследование пройдёт в три этапа:\n",
    " 1. Обзор данных.\n",
    " 2. Предобработка данных.\n",
    " 3. Проверка гипотез.\n",
    "\n"
   ]
  },
  {
   "cell_type": "markdown",
   "metadata": {
    "id": "Ml1hmfXC_Zcs"
   },
   "source": [
    "## Обзор данных\n",
    "\n",
    "Составьте первое представление о данных Яндекс.Музыки.\n",
    "\n",
    "\n"
   ]
  },
  {
   "cell_type": "markdown",
   "metadata": {
    "id": "57eAOGIz_Zcs"
   },
   "source": [
    "Основной инструмент аналитика — `pandas`. Импортируйте эту библиотеку."
   ]
  },
  {
   "cell_type": "code",
   "execution_count": 1,
   "metadata": {
    "id": "AXN7PHPN_Zcs"
   },
   "outputs": [],
   "source": [
    "import pandas as pd # импорт библиотеки pandas"
   ]
  },
  {
   "cell_type": "markdown",
   "metadata": {
    "id": "SG23P8tt_Zcs"
   },
   "source": [
    "Прочитайте файл `yandex_music_project.csv` из папки `/datasets` и сохраните его в переменной `df`:"
   ]
  },
  {
   "cell_type": "code",
   "execution_count": 2,
   "metadata": {
    "id": "fFVu7vqh_Zct"
   },
   "outputs": [],
   "source": [
    "df = pd.read_csv('/datasets/yandex_music_project.csv')# чтение файла с данными и сохранение в df"
   ]
  },
  {
   "cell_type": "markdown",
   "metadata": {
    "id": "rDoOMd3uTqnZ"
   },
   "source": [
    "Выведите на экран первые десять строк таблицы:"
   ]
  },
  {
   "cell_type": "code",
   "execution_count": 3,
   "metadata": {
    "id": "oWTVX3gW_Zct"
   },
   "outputs": [
    {
     "data": {
      "text/html": [
       "<div>\n",
       "<style scoped>\n",
       "    .dataframe tbody tr th:only-of-type {\n",
       "        vertical-align: middle;\n",
       "    }\n",
       "\n",
       "    .dataframe tbody tr th {\n",
       "        vertical-align: top;\n",
       "    }\n",
       "\n",
       "    .dataframe thead th {\n",
       "        text-align: right;\n",
       "    }\n",
       "</style>\n",
       "<table border=\"1\" class=\"dataframe\">\n",
       "  <thead>\n",
       "    <tr style=\"text-align: right;\">\n",
       "      <th></th>\n",
       "      <th>userID</th>\n",
       "      <th>Track</th>\n",
       "      <th>artist</th>\n",
       "      <th>genre</th>\n",
       "      <th>City</th>\n",
       "      <th>time</th>\n",
       "      <th>Day</th>\n",
       "    </tr>\n",
       "  </thead>\n",
       "  <tbody>\n",
       "    <tr>\n",
       "      <td>0</td>\n",
       "      <td>FFB692EC</td>\n",
       "      <td>Kamigata To Boots</td>\n",
       "      <td>The Mass Missile</td>\n",
       "      <td>rock</td>\n",
       "      <td>Saint-Petersburg</td>\n",
       "      <td>20:28:33</td>\n",
       "      <td>Wednesday</td>\n",
       "    </tr>\n",
       "    <tr>\n",
       "      <td>1</td>\n",
       "      <td>55204538</td>\n",
       "      <td>Delayed Because of Accident</td>\n",
       "      <td>Andreas Rönnberg</td>\n",
       "      <td>rock</td>\n",
       "      <td>Moscow</td>\n",
       "      <td>14:07:09</td>\n",
       "      <td>Friday</td>\n",
       "    </tr>\n",
       "    <tr>\n",
       "      <td>2</td>\n",
       "      <td>20EC38</td>\n",
       "      <td>Funiculì funiculà</td>\n",
       "      <td>Mario Lanza</td>\n",
       "      <td>pop</td>\n",
       "      <td>Saint-Petersburg</td>\n",
       "      <td>20:58:07</td>\n",
       "      <td>Wednesday</td>\n",
       "    </tr>\n",
       "    <tr>\n",
       "      <td>3</td>\n",
       "      <td>A3DD03C9</td>\n",
       "      <td>Dragons in the Sunset</td>\n",
       "      <td>Fire + Ice</td>\n",
       "      <td>folk</td>\n",
       "      <td>Saint-Petersburg</td>\n",
       "      <td>08:37:09</td>\n",
       "      <td>Monday</td>\n",
       "    </tr>\n",
       "    <tr>\n",
       "      <td>4</td>\n",
       "      <td>E2DC1FAE</td>\n",
       "      <td>Soul People</td>\n",
       "      <td>Space Echo</td>\n",
       "      <td>dance</td>\n",
       "      <td>Moscow</td>\n",
       "      <td>08:34:34</td>\n",
       "      <td>Monday</td>\n",
       "    </tr>\n",
       "    <tr>\n",
       "      <td>5</td>\n",
       "      <td>842029A1</td>\n",
       "      <td>Преданная</td>\n",
       "      <td>IMPERVTOR</td>\n",
       "      <td>rusrap</td>\n",
       "      <td>Saint-Petersburg</td>\n",
       "      <td>13:09:41</td>\n",
       "      <td>Friday</td>\n",
       "    </tr>\n",
       "    <tr>\n",
       "      <td>6</td>\n",
       "      <td>4CB90AA5</td>\n",
       "      <td>True</td>\n",
       "      <td>Roman Messer</td>\n",
       "      <td>dance</td>\n",
       "      <td>Moscow</td>\n",
       "      <td>13:00:07</td>\n",
       "      <td>Wednesday</td>\n",
       "    </tr>\n",
       "    <tr>\n",
       "      <td>7</td>\n",
       "      <td>F03E1C1F</td>\n",
       "      <td>Feeling This Way</td>\n",
       "      <td>Polina Griffith</td>\n",
       "      <td>dance</td>\n",
       "      <td>Moscow</td>\n",
       "      <td>20:47:49</td>\n",
       "      <td>Wednesday</td>\n",
       "    </tr>\n",
       "    <tr>\n",
       "      <td>8</td>\n",
       "      <td>8FA1D3BE</td>\n",
       "      <td>И вновь продолжается бой</td>\n",
       "      <td>NaN</td>\n",
       "      <td>ruspop</td>\n",
       "      <td>Moscow</td>\n",
       "      <td>09:17:40</td>\n",
       "      <td>Friday</td>\n",
       "    </tr>\n",
       "    <tr>\n",
       "      <td>9</td>\n",
       "      <td>E772D5C0</td>\n",
       "      <td>Pessimist</td>\n",
       "      <td>NaN</td>\n",
       "      <td>dance</td>\n",
       "      <td>Saint-Petersburg</td>\n",
       "      <td>21:20:49</td>\n",
       "      <td>Wednesday</td>\n",
       "    </tr>\n",
       "  </tbody>\n",
       "</table>\n",
       "</div>"
      ],
      "text/plain": [
       "     userID                        Track            artist   genre  \\\n",
       "0  FFB692EC            Kamigata To Boots  The Mass Missile    rock   \n",
       "1  55204538  Delayed Because of Accident  Andreas Rönnberg    rock   \n",
       "2    20EC38            Funiculì funiculà       Mario Lanza     pop   \n",
       "3  A3DD03C9        Dragons in the Sunset        Fire + Ice    folk   \n",
       "4  E2DC1FAE                  Soul People        Space Echo   dance   \n",
       "5  842029A1                    Преданная         IMPERVTOR  rusrap   \n",
       "6  4CB90AA5                         True      Roman Messer   dance   \n",
       "7  F03E1C1F             Feeling This Way   Polina Griffith   dance   \n",
       "8  8FA1D3BE     И вновь продолжается бой               NaN  ruspop   \n",
       "9  E772D5C0                    Pessimist               NaN   dance   \n",
       "\n",
       "             City        time        Day  \n",
       "0  Saint-Petersburg  20:28:33  Wednesday  \n",
       "1            Moscow  14:07:09     Friday  \n",
       "2  Saint-Petersburg  20:58:07  Wednesday  \n",
       "3  Saint-Petersburg  08:37:09     Monday  \n",
       "4            Moscow  08:34:34     Monday  \n",
       "5  Saint-Petersburg  13:09:41     Friday  \n",
       "6            Moscow  13:00:07  Wednesday  \n",
       "7            Moscow  20:47:49  Wednesday  \n",
       "8            Moscow  09:17:40     Friday  \n",
       "9  Saint-Petersburg  21:20:49  Wednesday  "
      ]
     },
     "execution_count": 3,
     "metadata": {},
     "output_type": "execute_result"
    }
   ],
   "source": [
    "df.head(10)# получение первых 10 строк таблицы df"
   ]
  },
  {
   "cell_type": "markdown",
   "metadata": {
    "id": "EO73Kwic_Zct"
   },
   "source": [
    "Одной командой получить общую информацию о таблице:"
   ]
  },
  {
   "cell_type": "code",
   "execution_count": 4,
   "metadata": {
    "id": "DSf2kIb-_Zct"
   },
   "outputs": [
    {
     "name": "stdout",
     "output_type": "stream",
     "text": [
      "<class 'pandas.core.frame.DataFrame'>\n",
      "RangeIndex: 65079 entries, 0 to 65078\n",
      "Data columns (total 7 columns):\n",
      "  userID    65079 non-null object\n",
      "Track       63848 non-null object\n",
      "artist      57876 non-null object\n",
      "genre       63881 non-null object\n",
      "  City      65079 non-null object\n",
      "time        65079 non-null object\n",
      "Day         65079 non-null object\n",
      "dtypes: object(7)\n",
      "memory usage: 3.5+ MB\n"
     ]
    }
   ],
   "source": [
    "df.info()# получение общей информации о данных в таблице df"
   ]
  },
  {
   "cell_type": "markdown",
   "metadata": {
    "id": "TaQ2Iwbr_Zct"
   },
   "source": [
    "Итак, в таблице семь столбцов. Тип данных во всех столбцах — `object`.\n",
    "\n",
    "Согласно документации к данным:\n",
    "* `userID` — идентификатор пользователя;\n",
    "* `Track` — название трека;  \n",
    "* `artist` — имя исполнителя;\n",
    "* `genre` — название жанра;\n",
    "* `City` — город пользователя;\n",
    "* `time` — время начала прослушивания;\n",
    "* `Day` — день недели.\n",
    "\n",
    "В названиях колонок видны три нарушения стиля:\n",
    "1. Строчные буквы сочетаются с прописными.\n",
    "2. Встречаются пробелы.\n",
    "3. В колонке userID лучше использовать \"змеиный регистр\".\n",
    "\n",
    "Найдите ещё одну проблему в названии колонок и опишите её в этом пункте.\n",
    "\n",
    "\n",
    "\n",
    "Количество значений в столбцах различается. Значит, в данных есть пропущенные значения.\n"
   ]
  },
  {
   "cell_type": "markdown",
   "metadata": {
    "id": "MCB6-dXG_Zct"
   },
   "source": [
    "**Выводы**\n",
    "\n",
    "В каждой строке таблицы — данные о прослушанном треке. Часть колонок описывает саму композицию: название, исполнителя и жанр. Остальные данные рассказывают о пользователе: из какого он города, когда он слушал музыку. \n",
    "\n",
    "Предварительно можно утверждать, что, данных достаточно для проверки гипотез. Но встречаются пропуски в данных, а в названиях колонок — расхождения с хорошим стилем.\n",
    "\n",
    "Чтобы двигаться дальше, нужно устранить проблемы в данных."
   ]
  },
  {
   "cell_type": "markdown",
   "metadata": {
    "id": "SjYF6Ub9_Zct"
   },
   "source": [
    "## Предобработка данных\n",
    "Исправьте стиль в заголовках столбцов, исключите пропуски. Затем проверьте данные на дубликаты."
   ]
  },
  {
   "cell_type": "markdown",
   "metadata": {
    "id": "dIaKXr29_Zct"
   },
   "source": [
    "### Стиль заголовков\n",
    "Выведите на экран названия столбцов:"
   ]
  },
  {
   "cell_type": "code",
   "execution_count": 5,
   "metadata": {
    "id": "oKOTdF_Q_Zct"
   },
   "outputs": [
    {
     "data": {
      "text/plain": [
       "Index(['  userID', 'Track', 'artist', 'genre', '  City  ', 'time', 'Day'], dtype='object')"
      ]
     },
     "execution_count": 5,
     "metadata": {},
     "output_type": "execute_result"
    }
   ],
   "source": [
    "df.columns# перечень названий столбцов таблицы df"
   ]
  },
  {
   "cell_type": "markdown",
   "metadata": {
    "id": "zj5534cv_Zct"
   },
   "source": [
    "Приведите названия в соответствие с хорошим стилем:\n",
    "* несколько слов в названии запишите в «змеином_регистре»,\n",
    "* все символы сделайте строчными,\n",
    "* устраните пробелы.\n",
    "\n",
    "Для этого переименуйте колонки так:\n",
    "* `'  userID'` → `'user_id'`;\n",
    "* `'Track'` → `'track'`;\n",
    "* `'  City  '` → `'city'`;\n",
    "* `'Day'` → `'day'`."
   ]
  },
  {
   "cell_type": "code",
   "execution_count": 6,
   "metadata": {
    "id": "ISlFqs5y_Zct"
   },
   "outputs": [],
   "source": [
    "df = df.rename(columns = {'  userID':'user_id','Track':'track', '  City  ':'city', 'Day':'day'})# переименование столбцов"
   ]
  },
  {
   "cell_type": "markdown",
   "metadata": {
    "id": "1dqbh00J_Zct"
   },
   "source": [
    "Проверьте результат. Для этого ещё раз выведите на экран названия столбцов:"
   ]
  },
  {
   "cell_type": "code",
   "execution_count": 7,
   "metadata": {
    "id": "d4NOAmTW_Zct",
    "scrolled": true
   },
   "outputs": [
    {
     "data": {
      "text/plain": [
       "Index(['user_id', 'track', 'artist', 'genre', 'city', 'time', 'day'], dtype='object')"
      ]
     },
     "execution_count": 7,
     "metadata": {},
     "output_type": "execute_result"
    }
   ],
   "source": [
    "df.columns# проверка результатов - перечень названий столбцов"
   ]
  },
  {
   "cell_type": "markdown",
   "metadata": {
    "id": "5ISfbcfY_Zct"
   },
   "source": [
    "### Пропуски значений\n",
    "Сначала посчитайте, сколько в таблице пропущенных значений. Для этого достаточно двух методов `pandas`:"
   ]
  },
  {
   "cell_type": "code",
   "execution_count": 8,
   "metadata": {
    "id": "RskX29qr_Zct"
   },
   "outputs": [
    {
     "data": {
      "text/plain": [
       "user_id       0\n",
       "track      1231\n",
       "artist     7203\n",
       "genre      1198\n",
       "city          0\n",
       "time          0\n",
       "day           0\n",
       "dtype: int64"
      ]
     },
     "execution_count": 8,
     "metadata": {},
     "output_type": "execute_result"
    }
   ],
   "source": [
    "df.isna().sum()# подсчёт пропусков"
   ]
  },
  {
   "cell_type": "markdown",
   "metadata": {
    "id": "qubhgnlO_Zct"
   },
   "source": [
    "Не все пропущенные значения влияют на исследование. Так в `track` и `artist` пропуски не важны для вашей работы. Достаточно заменить их явными обозначениями.\n",
    "\n",
    "Но пропуски в `genre` могут помешать сравнению музыкальных вкусов в Москве и Санкт-Петербурге. На практике было бы правильно установить причину пропусков и восстановить данные. Такой возможности нет в учебном проекте. Придётся:\n",
    "* заполнить и эти пропуски явными обозначениями,\n",
    "* оценить, насколько они повредят расчётам. "
   ]
  },
  {
   "cell_type": "markdown",
   "metadata": {
    "id": "fSv2laPA_Zct"
   },
   "source": [
    "Замените пропущенные значения в столбцах `track`, `artist` и `genre` на строку `'unknown'`. Для этого создайте список `columns_to_replace`, переберите его элементы циклом `for` и для каждого столбца выполните замену пропущенных значений:"
   ]
  },
  {
   "cell_type": "code",
   "execution_count": 9,
   "metadata": {
    "id": "KplB5qWs_Zct"
   },
   "outputs": [],
   "source": [
    "columns_to_replace = ['track', 'artist', 'genre']\n",
    "for value in columns_to_replace:\n",
    "    df[value] = df[value].fillna('unknown')\n",
    "\n",
    "# перебор названий столбцов в цикле и замена пропущенных значений на 'unknown'"
   ]
  },
  {
   "cell_type": "markdown",
   "metadata": {
    "id": "Ilsm-MZo_Zct"
   },
   "source": [
    "Убедитесь, что в таблице не осталось пропусков. Для этого ещё раз посчитайте пропущенные значения."
   ]
  },
  {
   "cell_type": "code",
   "execution_count": 10,
   "metadata": {
    "id": "Tq4nYRX4_Zct"
   },
   "outputs": [
    {
     "data": {
      "text/plain": [
       "user_id    0\n",
       "track      0\n",
       "artist     0\n",
       "genre      0\n",
       "city       0\n",
       "time       0\n",
       "day        0\n",
       "dtype: int64"
      ]
     },
     "execution_count": 10,
     "metadata": {},
     "output_type": "execute_result"
    }
   ],
   "source": [
    "df.isna().sum()# подсчёт пропусков"
   ]
  },
  {
   "cell_type": "markdown",
   "metadata": {
    "id": "BWKRtBJ3_Zct"
   },
   "source": [
    "### Дубликаты\n",
    "Посчитайте явные дубликаты в таблице одной командой:"
   ]
  },
  {
   "cell_type": "code",
   "execution_count": 11,
   "metadata": {
    "id": "36eES_S0_Zct"
   },
   "outputs": [
    {
     "data": {
      "text/plain": [
       "3826"
      ]
     },
     "execution_count": 11,
     "metadata": {},
     "output_type": "execute_result"
    }
   ],
   "source": [
    "df.duplicated().sum()\n",
    "# подсчёт явных дубликатов"
   ]
  },
  {
   "cell_type": "markdown",
   "metadata": {
    "id": "Ot25h6XR_Zct"
   },
   "source": [
    "Вызовите специальный метод `pandas`, чтобы удалить явные дубликаты:"
   ]
  },
  {
   "cell_type": "code",
   "execution_count": 12,
   "metadata": {
    "id": "exFHq6tt_Zct"
   },
   "outputs": [],
   "source": [
    "df = df.drop_duplicates().reset_index(drop=True) # удаление явных дубликатов (с удалением старых индексов и формированием новых)"
   ]
  },
  {
   "cell_type": "markdown",
   "metadata": {
    "id": "Im2YwBEG_Zct"
   },
   "source": [
    "Ещё раз посчитайте явные дубликаты в таблице — убедитесь, что полностью от них избавились:"
   ]
  },
  {
   "cell_type": "code",
   "execution_count": 13,
   "metadata": {
    "id": "-8PuNWQ0_Zct"
   },
   "outputs": [
    {
     "data": {
      "text/plain": [
       "0"
      ]
     },
     "execution_count": 13,
     "metadata": {},
     "output_type": "execute_result"
    }
   ],
   "source": [
    "df.duplicated().sum() # проверка на отсутствие дубликатов"
   ]
  },
  {
   "cell_type": "markdown",
   "metadata": {
    "id": "QlFBsxAr_Zct"
   },
   "source": [
    "Теперь избавьтесь от неявных дубликатов в колонке `genre`. Например, название одного и того же жанра может быть записано немного по-разному. Такие ошибки тоже повлияют на результат исследования."
   ]
  },
  {
   "cell_type": "code",
   "execution_count": null,
   "metadata": {},
   "outputs": [],
   "source": [
    "print(\"Количество пропусков: {}\".format(df.duplicated().sum()))"
   ]
  },
  {
   "cell_type": "markdown",
   "metadata": {
    "id": "eSjWwsOh_Zct"
   },
   "source": [
    "Выведите на экран список уникальных названий жанров, отсортированный в алфавитном порядке. Для этого:\n",
    "* извлеките нужный столбец датафрейма, \n",
    "* примените к нему метод сортировки,\n",
    "* для отсортированного столбца вызовите метод, который вернёт уникальные значения из столбца."
   ]
  },
  {
   "cell_type": "code",
   "execution_count": 14,
   "metadata": {
    "id": "JIUcqzZN_Zct"
   },
   "outputs": [
    {
     "data": {
      "text/plain": [
       "['acid',\n",
       " 'acoustic',\n",
       " 'action',\n",
       " 'adult',\n",
       " 'africa',\n",
       " 'afrikaans',\n",
       " 'alternative',\n",
       " 'alternativepunk',\n",
       " 'ambient',\n",
       " 'americana',\n",
       " 'animated',\n",
       " 'anime',\n",
       " 'arabesk',\n",
       " 'arabic',\n",
       " 'arena',\n",
       " 'argentinetango',\n",
       " 'art',\n",
       " 'audiobook',\n",
       " 'author',\n",
       " 'avantgarde',\n",
       " 'axé',\n",
       " 'baile',\n",
       " 'balkan',\n",
       " 'beats',\n",
       " 'bigroom',\n",
       " 'black',\n",
       " 'bluegrass',\n",
       " 'blues',\n",
       " 'bollywood',\n",
       " 'bossa',\n",
       " 'brazilian',\n",
       " 'breakbeat',\n",
       " 'breaks',\n",
       " 'broadway',\n",
       " 'cantautori',\n",
       " 'cantopop',\n",
       " 'canzone',\n",
       " 'caribbean',\n",
       " 'caucasian',\n",
       " 'celtic',\n",
       " 'chamber',\n",
       " 'chanson',\n",
       " 'children',\n",
       " 'chill',\n",
       " 'chinese',\n",
       " 'choral',\n",
       " 'christian',\n",
       " 'christmas',\n",
       " 'classical',\n",
       " 'classicmetal',\n",
       " 'club',\n",
       " 'colombian',\n",
       " 'comedy',\n",
       " 'conjazz',\n",
       " 'contemporary',\n",
       " 'country',\n",
       " 'cuban',\n",
       " 'dance',\n",
       " 'dancehall',\n",
       " 'dancepop',\n",
       " 'dark',\n",
       " 'death',\n",
       " 'deep',\n",
       " 'deutschrock',\n",
       " 'deutschspr',\n",
       " 'dirty',\n",
       " 'disco',\n",
       " 'dnb',\n",
       " 'documentary',\n",
       " 'downbeat',\n",
       " 'downtempo',\n",
       " 'drum',\n",
       " 'dub',\n",
       " 'dubstep',\n",
       " 'eastern',\n",
       " 'easy',\n",
       " 'electronic',\n",
       " 'electropop',\n",
       " 'emo',\n",
       " 'entehno',\n",
       " 'epicmetal',\n",
       " 'estrada',\n",
       " 'ethnic',\n",
       " 'eurofolk',\n",
       " 'european',\n",
       " 'experimental',\n",
       " 'extrememetal',\n",
       " 'fado',\n",
       " 'fairytail',\n",
       " 'film',\n",
       " 'fitness',\n",
       " 'flamenco',\n",
       " 'folk',\n",
       " 'folklore',\n",
       " 'folkmetal',\n",
       " 'folkrock',\n",
       " 'folktronica',\n",
       " 'forró',\n",
       " 'frankreich',\n",
       " 'französisch',\n",
       " 'french',\n",
       " 'funk',\n",
       " 'future',\n",
       " 'gangsta',\n",
       " 'garage',\n",
       " 'german',\n",
       " 'ghazal',\n",
       " 'gitarre',\n",
       " 'glitch',\n",
       " 'gospel',\n",
       " 'gothic',\n",
       " 'grime',\n",
       " 'grunge',\n",
       " 'gypsy',\n",
       " 'handsup',\n",
       " \"hard'n'heavy\",\n",
       " 'hardcore',\n",
       " 'hardstyle',\n",
       " 'hardtechno',\n",
       " 'hip',\n",
       " 'hip-hop',\n",
       " 'hiphop',\n",
       " 'historisch',\n",
       " 'holiday',\n",
       " 'hop',\n",
       " 'horror',\n",
       " 'house',\n",
       " 'hymn',\n",
       " 'idm',\n",
       " 'independent',\n",
       " 'indian',\n",
       " 'indie',\n",
       " 'indipop',\n",
       " 'industrial',\n",
       " 'inspirational',\n",
       " 'instrumental',\n",
       " 'international',\n",
       " 'irish',\n",
       " 'jam',\n",
       " 'japanese',\n",
       " 'jazz',\n",
       " 'jewish',\n",
       " 'jpop',\n",
       " 'jungle',\n",
       " 'k-pop',\n",
       " 'karadeniz',\n",
       " 'karaoke',\n",
       " 'kayokyoku',\n",
       " 'korean',\n",
       " 'laiko',\n",
       " 'latin',\n",
       " 'latino',\n",
       " 'leftfield',\n",
       " 'local',\n",
       " 'lounge',\n",
       " 'loungeelectronic',\n",
       " 'lovers',\n",
       " 'malaysian',\n",
       " 'mandopop',\n",
       " 'marschmusik',\n",
       " 'meditative',\n",
       " 'mediterranean',\n",
       " 'melodic',\n",
       " 'metal',\n",
       " 'metalcore',\n",
       " 'mexican',\n",
       " 'middle',\n",
       " 'minimal',\n",
       " 'miscellaneous',\n",
       " 'modern',\n",
       " 'mood',\n",
       " 'mpb',\n",
       " 'muslim',\n",
       " 'native',\n",
       " 'neoklassik',\n",
       " 'neue',\n",
       " 'new',\n",
       " 'newage',\n",
       " 'newwave',\n",
       " 'nu',\n",
       " 'nujazz',\n",
       " 'numetal',\n",
       " 'oceania',\n",
       " 'old',\n",
       " 'opera',\n",
       " 'orchestral',\n",
       " 'other',\n",
       " 'piano',\n",
       " 'podcasts',\n",
       " 'pop',\n",
       " 'popdance',\n",
       " 'popelectronic',\n",
       " 'popeurodance',\n",
       " 'poprussian',\n",
       " 'post',\n",
       " 'posthardcore',\n",
       " 'postrock',\n",
       " 'power',\n",
       " 'progmetal',\n",
       " 'progressive',\n",
       " 'psychedelic',\n",
       " 'punjabi',\n",
       " 'punk',\n",
       " 'quebecois',\n",
       " 'ragga',\n",
       " 'ram',\n",
       " 'rancheras',\n",
       " 'rap',\n",
       " 'rave',\n",
       " 'reggae',\n",
       " 'reggaeton',\n",
       " 'regional',\n",
       " 'relax',\n",
       " 'religious',\n",
       " 'retro',\n",
       " 'rhythm',\n",
       " 'rnb',\n",
       " 'rnr',\n",
       " 'rock',\n",
       " 'rockabilly',\n",
       " 'rockalternative',\n",
       " 'rockindie',\n",
       " 'rockother',\n",
       " 'romance',\n",
       " 'roots',\n",
       " 'ruspop',\n",
       " 'rusrap',\n",
       " 'rusrock',\n",
       " 'russian',\n",
       " 'salsa',\n",
       " 'samba',\n",
       " 'scenic',\n",
       " 'schlager',\n",
       " 'self',\n",
       " 'sertanejo',\n",
       " 'shanson',\n",
       " 'shoegazing',\n",
       " 'showtunes',\n",
       " 'singer',\n",
       " 'ska',\n",
       " 'skarock',\n",
       " 'slow',\n",
       " 'smooth',\n",
       " 'soft',\n",
       " 'soul',\n",
       " 'soulful',\n",
       " 'sound',\n",
       " 'soundtrack',\n",
       " 'southern',\n",
       " 'specialty',\n",
       " 'speech',\n",
       " 'spiritual',\n",
       " 'sport',\n",
       " 'stonerrock',\n",
       " 'surf',\n",
       " 'swing',\n",
       " 'synthpop',\n",
       " 'synthrock',\n",
       " 'sängerportrait',\n",
       " 'tango',\n",
       " 'tanzorchester',\n",
       " 'taraftar',\n",
       " 'tatar',\n",
       " 'tech',\n",
       " 'techno',\n",
       " 'teen',\n",
       " 'thrash',\n",
       " 'top',\n",
       " 'traditional',\n",
       " 'tradjazz',\n",
       " 'trance',\n",
       " 'tribal',\n",
       " 'trip',\n",
       " 'triphop',\n",
       " 'tropical',\n",
       " 'türk',\n",
       " 'türkçe',\n",
       " 'ukrrock',\n",
       " 'unknown',\n",
       " 'urban',\n",
       " 'uzbek',\n",
       " 'variété',\n",
       " 'vi',\n",
       " 'videogame',\n",
       " 'vocal',\n",
       " 'western',\n",
       " 'world',\n",
       " 'worldbeat',\n",
       " 'ïîï',\n",
       " 'электроника']"
      ]
     },
     "execution_count": 14,
     "metadata": {},
     "output_type": "execute_result"
    }
   ],
   "source": [
    "sorted(df['genre'].unique())\n",
    "# Просмотр уникальных названий жанров"
   ]
  },
  {
   "cell_type": "code",
   "execution_count": null,
   "metadata": {},
   "outputs": [],
   "source": [
    "df['genre'].sort_values().unique()"
   ]
  },
  {
   "cell_type": "markdown",
   "metadata": {
    "id": "qej-Qmuo_Zct"
   },
   "source": [
    "Просмотрите список и найдите неявные дубликаты названия `hiphop`. Это могут быть названия с ошибками или альтернативные названия того же жанра.\n",
    "\n",
    "Вы увидите следующие неявные дубликаты:\n",
    "* *hip*,\n",
    "* *hop*,\n",
    "* *hip-hop*.\n",
    "\n",
    "Чтобы очистить от них таблицу, напишите функцию `replace_wrong_genres()` с двумя параметрами: \n",
    "* `wrong_genres` — список дубликатов,\n",
    "* `correct_genre` — строка с правильным значением.\n",
    "\n",
    "Функция должна исправить колонку `genre` в таблице `df`: заменить каждое значение из списка `wrong_genres` на значение из `correct_genre`."
   ]
  },
  {
   "cell_type": "markdown",
   "metadata": {
    "id": "ErNDkmns_Zct"
   },
   "source": [
    "# Функция для замены неявных дубликатов"
   ]
  },
  {
   "cell_type": "markdown",
   "metadata": {
    "id": "aDoBJxbA_Zct"
   },
   "source": [
    "Вызовите `replace_wrong_genres()` и передайте ей такие аргументы, чтобы она устранила неявные дубликаты: вместо `hip`, `hop` и `hip-hop` в таблице должно быть значение `hiphop`:"
   ]
  },
  {
   "cell_type": "code",
   "execution_count": 15,
   "metadata": {
    "id": "YN5i2hpmSo09"
   },
   "outputs": [],
   "source": [
    "def replace_wrong_genres(wrong_genres, correct_genre):\n",
    "    for genre in wrong_genres:\n",
    "        df['genre'] = df['genre'].replace(genre, correct_genre)\n",
    "duplicates = ['hip', 'hop', 'hip-hop']\n",
    "genre_name = 'hiphop'\n",
    "replace_wrong_genres(duplicates, genre_name)\n",
    "    # Устранение неявных дубликатов"
   ]
  },
  {
   "cell_type": "markdown",
   "metadata": {
    "id": "zQKF16_RG15m"
   },
   "source": [
    "Проверьте, что заменили неправильные названия:\n",
    "\n",
    "*   hip\n",
    "*   hop\n",
    "*   hip-hop\n",
    "\n",
    "Выведите отсортированный список уникальных значений столбца `genre`:"
   ]
  },
  {
   "cell_type": "code",
   "execution_count": 16,
   "metadata": {
    "id": "wvixALnFG15m"
   },
   "outputs": [
    {
     "data": {
      "text/plain": [
       "['acid',\n",
       " 'acoustic',\n",
       " 'action',\n",
       " 'adult',\n",
       " 'africa',\n",
       " 'afrikaans',\n",
       " 'alternative',\n",
       " 'alternativepunk',\n",
       " 'ambient',\n",
       " 'americana',\n",
       " 'animated',\n",
       " 'anime',\n",
       " 'arabesk',\n",
       " 'arabic',\n",
       " 'arena',\n",
       " 'argentinetango',\n",
       " 'art',\n",
       " 'audiobook',\n",
       " 'author',\n",
       " 'avantgarde',\n",
       " 'axé',\n",
       " 'baile',\n",
       " 'balkan',\n",
       " 'beats',\n",
       " 'bigroom',\n",
       " 'black',\n",
       " 'bluegrass',\n",
       " 'blues',\n",
       " 'bollywood',\n",
       " 'bossa',\n",
       " 'brazilian',\n",
       " 'breakbeat',\n",
       " 'breaks',\n",
       " 'broadway',\n",
       " 'cantautori',\n",
       " 'cantopop',\n",
       " 'canzone',\n",
       " 'caribbean',\n",
       " 'caucasian',\n",
       " 'celtic',\n",
       " 'chamber',\n",
       " 'chanson',\n",
       " 'children',\n",
       " 'chill',\n",
       " 'chinese',\n",
       " 'choral',\n",
       " 'christian',\n",
       " 'christmas',\n",
       " 'classical',\n",
       " 'classicmetal',\n",
       " 'club',\n",
       " 'colombian',\n",
       " 'comedy',\n",
       " 'conjazz',\n",
       " 'contemporary',\n",
       " 'country',\n",
       " 'cuban',\n",
       " 'dance',\n",
       " 'dancehall',\n",
       " 'dancepop',\n",
       " 'dark',\n",
       " 'death',\n",
       " 'deep',\n",
       " 'deutschrock',\n",
       " 'deutschspr',\n",
       " 'dirty',\n",
       " 'disco',\n",
       " 'dnb',\n",
       " 'documentary',\n",
       " 'downbeat',\n",
       " 'downtempo',\n",
       " 'drum',\n",
       " 'dub',\n",
       " 'dubstep',\n",
       " 'eastern',\n",
       " 'easy',\n",
       " 'electronic',\n",
       " 'electropop',\n",
       " 'emo',\n",
       " 'entehno',\n",
       " 'epicmetal',\n",
       " 'estrada',\n",
       " 'ethnic',\n",
       " 'eurofolk',\n",
       " 'european',\n",
       " 'experimental',\n",
       " 'extrememetal',\n",
       " 'fado',\n",
       " 'fairytail',\n",
       " 'film',\n",
       " 'fitness',\n",
       " 'flamenco',\n",
       " 'folk',\n",
       " 'folklore',\n",
       " 'folkmetal',\n",
       " 'folkrock',\n",
       " 'folktronica',\n",
       " 'forró',\n",
       " 'frankreich',\n",
       " 'französisch',\n",
       " 'french',\n",
       " 'funk',\n",
       " 'future',\n",
       " 'gangsta',\n",
       " 'garage',\n",
       " 'german',\n",
       " 'ghazal',\n",
       " 'gitarre',\n",
       " 'glitch',\n",
       " 'gospel',\n",
       " 'gothic',\n",
       " 'grime',\n",
       " 'grunge',\n",
       " 'gypsy',\n",
       " 'handsup',\n",
       " \"hard'n'heavy\",\n",
       " 'hardcore',\n",
       " 'hardstyle',\n",
       " 'hardtechno',\n",
       " 'hiphop',\n",
       " 'historisch',\n",
       " 'holiday',\n",
       " 'horror',\n",
       " 'house',\n",
       " 'hymn',\n",
       " 'idm',\n",
       " 'independent',\n",
       " 'indian',\n",
       " 'indie',\n",
       " 'indipop',\n",
       " 'industrial',\n",
       " 'inspirational',\n",
       " 'instrumental',\n",
       " 'international',\n",
       " 'irish',\n",
       " 'jam',\n",
       " 'japanese',\n",
       " 'jazz',\n",
       " 'jewish',\n",
       " 'jpop',\n",
       " 'jungle',\n",
       " 'k-pop',\n",
       " 'karadeniz',\n",
       " 'karaoke',\n",
       " 'kayokyoku',\n",
       " 'korean',\n",
       " 'laiko',\n",
       " 'latin',\n",
       " 'latino',\n",
       " 'leftfield',\n",
       " 'local',\n",
       " 'lounge',\n",
       " 'loungeelectronic',\n",
       " 'lovers',\n",
       " 'malaysian',\n",
       " 'mandopop',\n",
       " 'marschmusik',\n",
       " 'meditative',\n",
       " 'mediterranean',\n",
       " 'melodic',\n",
       " 'metal',\n",
       " 'metalcore',\n",
       " 'mexican',\n",
       " 'middle',\n",
       " 'minimal',\n",
       " 'miscellaneous',\n",
       " 'modern',\n",
       " 'mood',\n",
       " 'mpb',\n",
       " 'muslim',\n",
       " 'native',\n",
       " 'neoklassik',\n",
       " 'neue',\n",
       " 'new',\n",
       " 'newage',\n",
       " 'newwave',\n",
       " 'nu',\n",
       " 'nujazz',\n",
       " 'numetal',\n",
       " 'oceania',\n",
       " 'old',\n",
       " 'opera',\n",
       " 'orchestral',\n",
       " 'other',\n",
       " 'piano',\n",
       " 'podcasts',\n",
       " 'pop',\n",
       " 'popdance',\n",
       " 'popelectronic',\n",
       " 'popeurodance',\n",
       " 'poprussian',\n",
       " 'post',\n",
       " 'posthardcore',\n",
       " 'postrock',\n",
       " 'power',\n",
       " 'progmetal',\n",
       " 'progressive',\n",
       " 'psychedelic',\n",
       " 'punjabi',\n",
       " 'punk',\n",
       " 'quebecois',\n",
       " 'ragga',\n",
       " 'ram',\n",
       " 'rancheras',\n",
       " 'rap',\n",
       " 'rave',\n",
       " 'reggae',\n",
       " 'reggaeton',\n",
       " 'regional',\n",
       " 'relax',\n",
       " 'religious',\n",
       " 'retro',\n",
       " 'rhythm',\n",
       " 'rnb',\n",
       " 'rnr',\n",
       " 'rock',\n",
       " 'rockabilly',\n",
       " 'rockalternative',\n",
       " 'rockindie',\n",
       " 'rockother',\n",
       " 'romance',\n",
       " 'roots',\n",
       " 'ruspop',\n",
       " 'rusrap',\n",
       " 'rusrock',\n",
       " 'russian',\n",
       " 'salsa',\n",
       " 'samba',\n",
       " 'scenic',\n",
       " 'schlager',\n",
       " 'self',\n",
       " 'sertanejo',\n",
       " 'shanson',\n",
       " 'shoegazing',\n",
       " 'showtunes',\n",
       " 'singer',\n",
       " 'ska',\n",
       " 'skarock',\n",
       " 'slow',\n",
       " 'smooth',\n",
       " 'soft',\n",
       " 'soul',\n",
       " 'soulful',\n",
       " 'sound',\n",
       " 'soundtrack',\n",
       " 'southern',\n",
       " 'specialty',\n",
       " 'speech',\n",
       " 'spiritual',\n",
       " 'sport',\n",
       " 'stonerrock',\n",
       " 'surf',\n",
       " 'swing',\n",
       " 'synthpop',\n",
       " 'synthrock',\n",
       " 'sängerportrait',\n",
       " 'tango',\n",
       " 'tanzorchester',\n",
       " 'taraftar',\n",
       " 'tatar',\n",
       " 'tech',\n",
       " 'techno',\n",
       " 'teen',\n",
       " 'thrash',\n",
       " 'top',\n",
       " 'traditional',\n",
       " 'tradjazz',\n",
       " 'trance',\n",
       " 'tribal',\n",
       " 'trip',\n",
       " 'triphop',\n",
       " 'tropical',\n",
       " 'türk',\n",
       " 'türkçe',\n",
       " 'ukrrock',\n",
       " 'unknown',\n",
       " 'urban',\n",
       " 'uzbek',\n",
       " 'variété',\n",
       " 'vi',\n",
       " 'videogame',\n",
       " 'vocal',\n",
       " 'western',\n",
       " 'world',\n",
       " 'worldbeat',\n",
       " 'ïîï',\n",
       " 'электроника']"
      ]
     },
     "execution_count": 16,
     "metadata": {},
     "output_type": "execute_result"
    }
   ],
   "source": [
    "sorted(df['genre'].unique())\n",
    "# Проверка на неявные дубликаты"
   ]
  },
  {
   "cell_type": "markdown",
   "metadata": {
    "id": "jz6a9-7HQUDd"
   },
   "source": [
    "**Выводы**\n",
    "\n",
    "Предобработка обнаружила три проблемы в данных:\n",
    "\n",
    "- нарушения в стиле заголовков,\n",
    "- пропущенные значения,\n",
    "- дубликаты — явные и неявные.\n",
    "\n",
    "Вы исправили заголовки, чтобы упростить работу с таблицей. Без дубликатов исследование станет более точным.\n",
    "\n",
    "Пропущенные значения вы заменили на `'unknown'`. Ещё предстоит увидеть, не повредят ли исследованию пропуски в колонке `genre`.\n",
    "\n",
    "Теперь можно перейти к проверке гипотез. "
   ]
  },
  {
   "cell_type": "markdown",
   "metadata": {
    "id": "WttZHXH0SqKk"
   },
   "source": [
    "## Проверка гипотез"
   ]
  },
  {
   "cell_type": "markdown",
   "metadata": {
    "id": "Im936VVi_Zcu"
   },
   "source": [
    "### Сравнение поведения пользователей двух столиц"
   ]
  },
  {
   "cell_type": "markdown",
   "metadata": {
    "id": "nwt_MuaL_Zcu"
   },
   "source": [
    "Первая гипотеза утверждает, что пользователи по-разному слушают музыку в Москве и Санкт-Петербурге. Проверьте это предположение по данным о трёх днях недели — понедельнике, среде и пятнице. Для этого:\n",
    "\n",
    "* Разделите пользователей Москвы и Санкт-Петербурга\n",
    "* Сравните, сколько треков послушала каждая группа пользователей в понедельник, среду и пятницу.\n"
   ]
  },
  {
   "cell_type": "markdown",
   "metadata": {
    "id": "8Dw_YMmT_Zcu"
   },
   "source": [
    "Для тренировки сначала выполните каждый из расчётов по отдельности. \n",
    "\n",
    "Оцените активность пользователей в каждом городе. Сгруппируйте данные по городу и посчитайте прослушивания в каждой группе.\n",
    "\n"
   ]
  },
  {
   "cell_type": "code",
   "execution_count": 17,
   "metadata": {
    "id": "0_Qs96oh_Zcu"
   },
   "outputs": [
    {
     "name": "stdout",
     "output_type": "stream",
     "text": [
      "В Москве послушали 42741 треков\n",
      "В Санкт-Петербурге послушали 18512 треков\n"
     ]
    }
   ],
   "source": [
    "moscow_activity = df[df['city'] == 'Moscow']['city']\n",
    "spb_activity = df[df['city'] == 'Saint-Petersburg']['city'] # Подсчёт прослушиваний в каждом городе\n",
    "print(f'В Москве послушали {moscow_activity.count()} треков')\n",
    "print(f'В Санкт-Петербурге послушали {spb_activity.count()} треков')"
   ]
  },
  {
   "cell_type": "markdown",
   "metadata": {
    "id": "dzli3w8o_Zcu"
   },
   "source": [
    "В Москве прослушиваний больше, чем в Петербурге. Из этого не следует, что московские пользователи чаще слушают музыку. Просто самих пользователей в Москве больше.\n",
    "\n",
    "Теперь сгруппируйте данные по дню недели и подсчитайте прослушивания в понедельник, среду и пятницу. Учтите, что в данных есть информация только о прослушиваниях только за эти дни.\n"
   ]
  },
  {
   "cell_type": "code",
   "execution_count": 18,
   "metadata": {
    "id": "uZMKjiJz_Zcu"
   },
   "outputs": [
    {
     "data": {
      "text/html": [
       "<div>\n",
       "<style scoped>\n",
       "    .dataframe tbody tr th:only-of-type {\n",
       "        vertical-align: middle;\n",
       "    }\n",
       "\n",
       "    .dataframe tbody tr th {\n",
       "        vertical-align: top;\n",
       "    }\n",
       "\n",
       "    .dataframe thead th {\n",
       "        text-align: right;\n",
       "    }\n",
       "</style>\n",
       "<table border=\"1\" class=\"dataframe\">\n",
       "  <thead>\n",
       "    <tr style=\"text-align: right;\">\n",
       "      <th></th>\n",
       "      <th>user_id</th>\n",
       "    </tr>\n",
       "    <tr>\n",
       "      <th>day</th>\n",
       "      <th></th>\n",
       "    </tr>\n",
       "  </thead>\n",
       "  <tbody>\n",
       "    <tr>\n",
       "      <td>Friday</td>\n",
       "      <td>21840</td>\n",
       "    </tr>\n",
       "    <tr>\n",
       "      <td>Monday</td>\n",
       "      <td>21354</td>\n",
       "    </tr>\n",
       "    <tr>\n",
       "      <td>Wednesday</td>\n",
       "      <td>18059</td>\n",
       "    </tr>\n",
       "  </tbody>\n",
       "</table>\n",
       "</div>"
      ],
      "text/plain": [
       "           user_id\n",
       "day               \n",
       "Friday       21840\n",
       "Monday       21354\n",
       "Wednesday    18059"
      ]
     },
     "execution_count": 18,
     "metadata": {},
     "output_type": "execute_result"
    }
   ],
   "source": [
    "#tracks_for_monday_msk = moscow_activity[df['day'] == 'Monday'].count()\n",
    "#tracks_for_monday_spb = spb_activity[df['day'] == 'Monday'].count()\n",
    "#tracks_for_wednesday_msk = moscow_activity[df['day'] == 'Wednesday'].count()\n",
    "#tracks_for_wednesday_spb = spb_activity[df['day'] == 'Wednesday'].count()\n",
    "#tracks_for_friday_msk = moscow_activity[df['day'] == 'Friday'].count()\n",
    "#tracks_for_friday_spb = spb_activity[df['day'] == 'Friday'].count()\n",
    "\n",
    "\n",
    "\n",
    "#tracks_for_monday = df[df['day'] == 'Monday']['track'].count()\n",
    "#tracks_for_wednesday = df[df['day'] == 'Wednesday']['track'].count()\n",
    "#tracks_for_friday = df[df['day'] == 'Friday']['track'].count()\n",
    "\n",
    "#print(f'В понедельник пользователи прослушали {tracks_for_monday} треков')\n",
    "#print(f'В среду пользователи прослушали {tracks_for_wednesday} треков')\n",
    "#print(f'В пятницу пользователи прослушали {tracks_for_friday} треков')\n",
    "\n",
    "\n",
    "#print(f'В понедельник пользователи в Москве прослушали {tracks_for_monday_msk}, а в Санкт-Петербурге {tracks_for_monday_spb} треков')\n",
    "#print(f'В среду пользователи в Москве прослушали {tracks_for_wednesday_msk}, а в Санкт-Петербурге {tracks_for_wednesday_spb} треков')\n",
    "#print(f'В пятницу пользователи в Москве прослушали {tracks_for_friday_msk}, а в Санкт-Петербурге {tracks_for_friday_spb} треков')\n",
    "# Подсчёт прослушиваний в каждый из трёх дней\n",
    "# Это решение похоже на то,что идёт дальше в датафрейме,только без функции и довольно громоздкое.\n",
    "\n",
    "df.groupby('day')[['user_id']].count()"
   ]
  },
  {
   "cell_type": "markdown",
   "metadata": {
    "id": "cC2tNrlL_Zcu"
   },
   "source": [
    "В среднем пользователи из двух городов менее активны по средам. Но картина может измениться, если рассмотреть каждый город в отдельности."
   ]
  },
  {
   "cell_type": "markdown",
   "metadata": {
    "id": "POzs8bGa_Zcu"
   },
   "source": [
    "Вы видели, как работает группировка по городу и по дням недели. Теперь напишите функцию, которая объединит два эти расчёта.\n",
    "\n",
    "Создайте функцию `number_tracks()`, которая посчитает прослушивания для заданного дня и города. Ей понадобятся два параметра:\n",
    "* день недели,\n",
    "* название города.\n",
    "\n",
    "В функции сохраните в переменную строки исходной таблицы, у которых значение:\n",
    "  * в колонке `day` равно параметру `day`,\n",
    "  * в колонке `city` равно параметру `city`.\n",
    "\n",
    "Для этого примените последовательную фильтрацию с логической индексацией.\n",
    "\n",
    "Затем посчитайте значения в столбце `user_id` получившейся таблицы. Результат сохраните в новую переменную. Верните эту переменную из функции."
   ]
  },
  {
   "cell_type": "code",
   "execution_count": 19,
   "metadata": {
    "id": "Nz3GdQB1_Zcu"
   },
   "outputs": [],
   "source": [
    "# <создание функции number_tracks()>\n",
    "def number_tracks (day, city):\n",
    "    track_list = df[df['day'] == day]\n",
    "    track_list = track_list[track_list['city'] == city]\n",
    "    track_list_count = track_list['user_id'].count()\n",
    "    \n",
    "    return track_list_count\n",
    "    \n",
    "# Объявляется функция с двумя параметрами: day, city.\n",
    "# В переменной track_list сохраняются те строки таблицы df, для которых \n",
    "# значение в столбце 'day' равно параметру day и одновременно значение\n",
    "# в столбце 'city' равно параметру city (используйте последовательную фильтрацию\n",
    "# с помощью логической индексации).\n",
    "    \n",
    "# В переменной track_list_count сохраняется число значений столбца 'user_id',\n",
    "# рассчитанное методом count() для таблицы track_list.\n",
    "    \n",
    "# Функция возвращает число - значение track_list_count.\n",
    "\n",
    "# Функция для подсчёта прослушиваний для конкретного города и дня.\n",
    "# С помощью последовательной фильтрации с логической индексацией она \n",
    "# сначала получит из исходной таблицы строки с нужным днём,\n",
    "# затем из результата отфильтрует строки с нужным городом,\n",
    "# методом count() посчитает количество значений в колонке user_id. \n",
    "# Это количество функция вернёт в качестве результата\n"
   ]
  },
  {
   "cell_type": "markdown",
   "metadata": {
    "id": "ytf7xFrFJQ2r"
   },
   "source": [
    "Вызовите `number_tracks()` шесть раз, меняя значение параметров — так, чтобы получить данные для каждого города в каждый из трёх дней."
   ]
  },
  {
   "cell_type": "code",
   "execution_count": 20,
   "metadata": {
    "id": "rJcRATNQ_Zcu"
   },
   "outputs": [
    {
     "data": {
      "text/plain": [
       "15740"
      ]
     },
     "execution_count": 20,
     "metadata": {},
     "output_type": "execute_result"
    }
   ],
   "source": [
    "number_tracks('Monday','Moscow')# количество прослушиваний в Москве по понедельникам"
   ]
  },
  {
   "cell_type": "code",
   "execution_count": 21,
   "metadata": {
    "id": "hq_ncZ5T_Zcu"
   },
   "outputs": [
    {
     "data": {
      "text/plain": [
       "5614"
      ]
     },
     "execution_count": 21,
     "metadata": {},
     "output_type": "execute_result"
    }
   ],
   "source": [
    "number_tracks('Monday', 'Saint-Petersburg' )# количество прослушиваний в Санкт-Петербурге по понедельникам"
   ]
  },
  {
   "cell_type": "code",
   "execution_count": 22,
   "metadata": {
    "id": "_NTy2VPU_Zcu"
   },
   "outputs": [
    {
     "data": {
      "text/plain": [
       "11056"
      ]
     },
     "execution_count": 22,
     "metadata": {},
     "output_type": "execute_result"
    }
   ],
   "source": [
    "number_tracks('Wednesday','Moscow' )# количество прослушиваний в Москве по средам"
   ]
  },
  {
   "cell_type": "code",
   "execution_count": 23,
   "metadata": {
    "id": "j2y3TAwo_Zcu"
   },
   "outputs": [
    {
     "data": {
      "text/plain": [
       "7003"
      ]
     },
     "execution_count": 23,
     "metadata": {},
     "output_type": "execute_result"
    }
   ],
   "source": [
    "number_tracks('Wednesday', 'Saint-Petersburg')# количество прослушиваний в Санкт-Петербурге по средам"
   ]
  },
  {
   "cell_type": "code",
   "execution_count": 24,
   "metadata": {
    "id": "vYDw5u_K_Zcu"
   },
   "outputs": [
    {
     "data": {
      "text/plain": [
       "15945"
      ]
     },
     "execution_count": 24,
     "metadata": {},
     "output_type": "execute_result"
    }
   ],
   "source": [
    "number_tracks('Friday', 'Moscow')# количество прослушиваний в Москве по пятницам"
   ]
  },
  {
   "cell_type": "code",
   "execution_count": 25,
   "metadata": {
    "id": "8_yzFtW3_Zcu"
   },
   "outputs": [
    {
     "data": {
      "text/plain": [
       "5895"
      ]
     },
     "execution_count": 25,
     "metadata": {},
     "output_type": "execute_result"
    }
   ],
   "source": [
    "number_tracks('Friday', 'Saint-Petersburg')# количество прослушиваний в Санкт-Петербурге по пятницам"
   ]
  },
  {
   "cell_type": "markdown",
   "metadata": {
    "id": "7QXffbO-_Zcu"
   },
   "source": [
    "Создайте c помощью конструктора `pd.DataFrame` таблицу, где\n",
    "* названия колонок — `['city', 'monday', 'wednesday', 'friday']`;\n",
    "* данные — результаты, которые вы получили с помощью `number_tracks`."
   ]
  },
  {
   "cell_type": "code",
   "execution_count": 26,
   "metadata": {
    "id": "APAcLpOr_Zcu"
   },
   "outputs": [
    {
     "data": {
      "text/html": [
       "<div>\n",
       "<style scoped>\n",
       "    .dataframe tbody tr th:only-of-type {\n",
       "        vertical-align: middle;\n",
       "    }\n",
       "\n",
       "    .dataframe tbody tr th {\n",
       "        vertical-align: top;\n",
       "    }\n",
       "\n",
       "    .dataframe thead th {\n",
       "        text-align: right;\n",
       "    }\n",
       "</style>\n",
       "<table border=\"1\" class=\"dataframe\">\n",
       "  <thead>\n",
       "    <tr style=\"text-align: right;\">\n",
       "      <th></th>\n",
       "      <th>city</th>\n",
       "      <th>monday</th>\n",
       "      <th>wednesday</th>\n",
       "      <th>friday</th>\n",
       "    </tr>\n",
       "  </thead>\n",
       "  <tbody>\n",
       "    <tr>\n",
       "      <td>0</td>\n",
       "      <td>Moscow</td>\n",
       "      <td>15740</td>\n",
       "      <td>11056</td>\n",
       "      <td>15945</td>\n",
       "    </tr>\n",
       "    <tr>\n",
       "      <td>1</td>\n",
       "      <td>Saint-Petersburg</td>\n",
       "      <td>5614</td>\n",
       "      <td>7003</td>\n",
       "      <td>5895</td>\n",
       "    </tr>\n",
       "  </tbody>\n",
       "</table>\n",
       "</div>"
      ],
      "text/plain": [
       "               city  monday  wednesday  friday\n",
       "0            Moscow   15740      11056   15945\n",
       "1  Saint-Petersburg    5614       7003    5895"
      ]
     },
     "metadata": {},
     "output_type": "display_data"
    }
   ],
   "source": [
    "columns = ['city', 'monday', 'wednesday', 'friday']\n",
    "data = [['Moscow', number_tracks('Monday','Moscow'), number_tracks('Wednesday','Moscow' ),number_tracks('Friday', 'Moscow')],\n",
    "       ['Saint-Petersburg',number_tracks('Monday', 'Saint-Petersburg' ),number_tracks('Wednesday', 'Saint-Petersburg'),number_tracks('Friday', 'Saint-Petersburg')]]\n",
    "research_for_different_days = pd.DataFrame(data = data, columns = columns)\n",
    "display(research_for_different_days)\n",
    "# Таблица с результатами"
   ]
  },
  {
   "cell_type": "markdown",
   "metadata": {
    "id": "-EgPIHYu_Zcu"
   },
   "source": [
    "**Выводы**\n",
    "\n",
    "Данные показывают разницу поведения пользователей:\n",
    "\n",
    "- В Москве пик прослушиваний приходится на понедельник и пятницу, а в среду заметен спад.\n",
    "- В Петербурге, наоборот, больше слушают музыку по средам. Активность в понедельник и пятницу здесь почти в равной мере уступает среде.\n",
    "\n",
    "Значит, данные говорят в пользу первой гипотезы."
   ]
  },
  {
   "cell_type": "markdown",
   "metadata": {
    "id": "atZAxtq4_Zcu"
   },
   "source": [
    "### Музыка в начале и в конце недели"
   ]
  },
  {
   "cell_type": "markdown",
   "metadata": {
    "id": "eXrQqXFH_Zcu"
   },
   "source": [
    "Согласно второй гипотезе, утром в понедельник в Москве преобладают одни жанры, а в Петербурге — другие. Так же и вечером пятницы преобладают разные жанры — в зависимости от города."
   ]
  },
  {
   "cell_type": "markdown",
   "metadata": {
    "id": "S8UcW6Hw_Zcu"
   },
   "source": [
    "Сохраните таблицы с данными в две переменные:\n",
    "* по Москве — в `moscow_general`;\n",
    "* по Санкт-Петербургу — в `spb_general`."
   ]
  },
  {
   "cell_type": "code",
   "execution_count": 27,
   "metadata": {
    "id": "qeaFfM_P_Zcu"
   },
   "outputs": [],
   "source": [
    "moscow_general = df[df['city'] == 'Moscow']# получение таблицы moscow_general из тех строк таблицы df, \n",
    "# для которых значение в столбце 'city' равно 'Moscow'\n"
   ]
  },
  {
   "cell_type": "code",
   "execution_count": 28,
   "metadata": {
    "id": "ORaVRKto_Zcu"
   },
   "outputs": [],
   "source": [
    "spb_general = df[df['city'] == 'Saint-Petersburg']# получение таблицы spb_general из тех строк таблицы df,\n",
    "# для которых значение в столбце 'city' равно 'Saint-Petersburg'\n"
   ]
  },
  {
   "cell_type": "markdown",
   "metadata": {
    "id": "MEJV-CX2_Zcu"
   },
   "source": [
    "Создайте функцию `genre_weekday()` с четырьмя параметрами:\n",
    "* таблица (датафрейм) с данными,\n",
    "* день недели,\n",
    "* начальная временная метка в формате 'hh:mm', \n",
    "* последняя временная метка в формате 'hh:mm'.\n",
    "\n",
    "Функция должна вернуть информацию о топ-10 жанров тех треков, которые прослушивали в указанный день, в промежутке между двумя отметками времени."
   ]
  },
  {
   "cell_type": "code",
   "execution_count": 29,
   "metadata": {
    "id": "laJT9BYl_Zcu"
   },
   "outputs": [],
   "source": [
    " # Объявление функции genre_weekday() с параметрами table, day, time1, time2,\n",
    "# которая возвращает информацию о самых популярных жанрах в указанный день в\n",
    "# заданное время:\n",
    "def genre_weekday(table, day, time1, time2):\n",
    "    genre_df = table[table['day'] == day]\n",
    "    genre_df = genre_df[genre_df['time'] > time1]\n",
    "    genre_df = genre_df[genre_df['time'] < time2]\n",
    "    genre_df_count = genre_df.groupby('genre')['track'].count()\n",
    "    genre_df_sorted = genre_df_count.sort_values(ascending = False)\n",
    "    return genre_df_sorted.head(10)\n",
    "\n",
    "# 1) в переменную genre_df сохраняются те строки переданного датафрейма table, для\n",
    "#    которых одновременно:\n",
    "#    - значение в столбце day равно значению аргумента day\n",
    "#    - значение в столбце time больше значения аргумента time1\n",
    "#    - значение в столбце time меньше значения аргумента time2\n",
    "#    Используйте последовательную фильтрацию с помощью логической индексации.\n",
    "# 2) сгруппировать датафрейм genre_df по столбцу genre, взять один из его\n",
    "#    столбцов и посчитать методом count() количество записей для каждого из\n",
    "#    присутствующих жанров, получившийся Series записать в переменную\n",
    "#    genre_df_count\n",
    "# 3) отсортировать genre_df_count по убыванию встречаемости и сохранить\n",
    "#    в переменную genre_df_sorted\n",
    "# 4) вернуть Series из 10 первых значений genre_df_sorted, это будут топ-10\n",
    "#    популярных жанров (в указанный день, в заданное время)"
   ]
  },
  {
   "cell_type": "code",
   "execution_count": 30,
   "metadata": {
    "id": "yz7itPUQ_Zcu",
    "scrolled": true
   },
   "outputs": [
    {
     "data": {
      "text/plain": [
       "genre\n",
       "pop            781\n",
       "dance          549\n",
       "electronic     480\n",
       "rock           474\n",
       "hiphop         286\n",
       "ruspop         186\n",
       "world          181\n",
       "rusrap         175\n",
       "alternative    164\n",
       "unknown        161\n",
       "Name: track, dtype: int64"
      ]
     },
     "execution_count": 30,
     "metadata": {},
     "output_type": "execute_result"
    }
   ],
   "source": [
    "genre_weekday(moscow_general,'Monday', '07:00','11:00') # вызов функции для утра понедельника в Москве (вместо df — таблица moscow_general)\n",
    "# объекты, хранящие время, являются строками и сравниваются как строки\n",
    "# пример вызова: genre_weekday(moscow_general, 'Monday', '07:00', '11:00')"
   ]
  },
  {
   "cell_type": "markdown",
   "metadata": {
    "id": "la2s2_PF_Zcu"
   },
   "source": [
    "Cравните результаты функции `genre_weekday()` для Москвы и Санкт-Петербурга в понедельник утром (с 7:00 до 11:00) и в пятницу вечером (с 17:00 до 23:00):"
   ]
  },
  {
   "cell_type": "code",
   "execution_count": 31,
   "metadata": {
    "id": "kwUcHPdy_Zcu"
   },
   "outputs": [
    {
     "data": {
      "text/plain": [
       "genre\n",
       "pop            218\n",
       "dance          182\n",
       "rock           162\n",
       "electronic     147\n",
       "hiphop          80\n",
       "ruspop          64\n",
       "alternative     58\n",
       "rusrap          55\n",
       "jazz            44\n",
       "classical       40\n",
       "Name: track, dtype: int64"
      ]
     },
     "execution_count": 31,
     "metadata": {},
     "output_type": "execute_result"
    }
   ],
   "source": [
    "genre_weekday(spb_general,'Monday', '07:00','11:00')# вызов функции для утра понедельника в Петербурге (вместо df — таблица spb_general)"
   ]
  },
  {
   "cell_type": "code",
   "execution_count": 32,
   "metadata": {
    "id": "EzXVRE1o_Zcu"
   },
   "outputs": [
    {
     "data": {
      "text/plain": [
       "genre\n",
       "pop            713\n",
       "rock           517\n",
       "dance          495\n",
       "electronic     482\n",
       "hiphop         273\n",
       "world          208\n",
       "ruspop         170\n",
       "alternative    163\n",
       "classical      163\n",
       "rusrap         142\n",
       "Name: track, dtype: int64"
      ]
     },
     "execution_count": 32,
     "metadata": {},
     "output_type": "execute_result"
    }
   ],
   "source": [
    "genre_weekday(moscow_general,'Friday', '17:00','23:00')# вызов функции для вечера пятницы в Москве"
   ]
  },
  {
   "cell_type": "code",
   "execution_count": 33,
   "metadata": {
    "id": "JZaEKu5v_Zcu"
   },
   "outputs": [
    {
     "data": {
      "text/plain": [
       "genre\n",
       "pop            256\n",
       "rock           216\n",
       "electronic     216\n",
       "dance          210\n",
       "hiphop          97\n",
       "alternative     63\n",
       "jazz            61\n",
       "classical       60\n",
       "rusrap          59\n",
       "world           54\n",
       "Name: track, dtype: int64"
      ]
     },
     "execution_count": 33,
     "metadata": {},
     "output_type": "execute_result"
    }
   ],
   "source": [
    "genre_weekday(spb_general,'Friday', '17:00','23:00')# вызов функции для вечера пятницы в Петербурге"
   ]
  },
  {
   "cell_type": "markdown",
   "metadata": {
    "id": "wrCe4MNX_Zcu"
   },
   "source": [
    "**Выводы**\n",
    "\n",
    "Если сравнить топ-10 жанров в понедельник утром, можно сделать такие выводы:\n",
    "\n",
    "1. В Москве и Петербурге слушают похожую музыку. Единственное отличие — в московский рейтинг вошёл жанр “world”, а в петербургский — джаз и классика.\n",
    "\n",
    "2. В Москве пропущенных значений оказалось так много, что значение `'unknown'` заняло десятое место среди самых популярных жанров. Значит, пропущенные значения занимают существенную долю в данных и угрожают достоверности исследования.\n",
    "\n",
    "Вечер пятницы не меняет эту картину. Некоторые жанры поднимаются немного выше, другие спускаются, но в целом топ-10 остаётся тем же самым.\n",
    "\n",
    "Таким образом, вторая гипотеза подтвердилась лишь частично:\n",
    "* Пользователи слушают похожую музыку в начале недели и в конце.\n",
    "* Разница между Москвой и Петербургом не слишком выражена. В Москве чаще слушают русскую популярную музыку, в Петербурге — джаз.\n",
    "\n",
    "Однако пропуски в данных ставят под сомнение этот результат. В Москве их так много, что рейтинг топ-10 мог бы выглядеть иначе, если бы не утерянные  данные о жанрах."
   ]
  },
  {
   "cell_type": "markdown",
   "metadata": {
    "id": "JolODAqr_Zcu"
   },
   "source": [
    "### Жанровые предпочтения в Москве и Петербурге\n",
    "\n",
    "Гипотеза: Петербург — столица рэпа, музыку этого жанра там слушают чаще, чем в Москве.  А Москва — город контрастов, в котором, тем не менее, преобладает поп-музыка."
   ]
  },
  {
   "cell_type": "markdown",
   "metadata": {
    "id": "DlegSvaT_Zcu"
   },
   "source": [
    "Сгруппируйте таблицу `moscow_general` по жанру и посчитайте прослушивания треков каждого жанра методом `count()`. Затем отсортируйте результат в порядке убывания и сохраните его в таблице `moscow_genres`."
   ]
  },
  {
   "cell_type": "code",
   "execution_count": 34,
   "metadata": {
    "id": "r19lIPke_Zcu"
   },
   "outputs": [],
   "source": [
    "moscow_general_counted = moscow_general.groupby('genre')['genre'].count()  # одной строкой: группировка таблицы moscow_general по столбцу 'genre', \n",
    "moscow_genres = moscow_general_counted.sort_values(ascending = False)      #подсчёт числа значений 'genre' в этой группировке методом count(), \n",
    "                                                                           # сортировка получившегося Series в порядке убывания и сохранение в moscow_genres\n",
    "                                                                         "
   ]
  },
  {
   "cell_type": "markdown",
   "metadata": {
    "id": "6kMuomxTiIr8"
   },
   "source": [
    "Выведите на экран первые десять строк `moscow_genres`:"
   ]
  },
  {
   "cell_type": "code",
   "execution_count": 35,
   "metadata": {
    "id": "WhCSooF8_Zcv"
   },
   "outputs": [
    {
     "data": {
      "text/plain": [
       "genre\n",
       "pop            5892\n",
       "dance          4435\n",
       "rock           3965\n",
       "electronic     3786\n",
       "hiphop         2096\n",
       "classical      1616\n",
       "world          1432\n",
       "alternative    1379\n",
       "ruspop         1372\n",
       "rusrap         1161\n",
       "Name: genre, dtype: int64"
      ]
     },
     "execution_count": 35,
     "metadata": {},
     "output_type": "execute_result"
    }
   ],
   "source": [
    "moscow_genres.head(10)# просмотр первых 10 строк moscow_genres"
   ]
  },
  {
   "cell_type": "markdown",
   "metadata": {
    "id": "cnPG2vnN_Zcv"
   },
   "source": [
    "Теперь повторите то же и для Петербурга.\n",
    "\n",
    "Сгруппируйте таблицу `spb_general` по жанру. Посчитайте прослушивания треков каждого жанра. Результат отсортируйте в порядке убывания и сохраните в таблице `spb_genres`:\n"
   ]
  },
  {
   "cell_type": "code",
   "execution_count": 36,
   "metadata": {
    "id": "gluLIpE7_Zcv"
   },
   "outputs": [],
   "source": [
    "spb_general_counted = spb_general.groupby('genre')['genre'].count()    # одной строкой: группировка таблицы spb_general по столбцу 'genre', \n",
    "spb_genres = spb_general_counted.sort_values(ascending = False)        # подсчёт числа значений 'genre' в этой группировке методом count(), \n",
    "                                                                       # сортировка получившегося Series в порядке убывания и сохранение в spb_genres"
   ]
  },
  {
   "cell_type": "markdown",
   "metadata": {
    "id": "5Doha_ODgyQ8"
   },
   "source": [
    "Выведите на экран первые десять строк `spb_genres`:"
   ]
  },
  {
   "cell_type": "code",
   "execution_count": 37,
   "metadata": {
    "id": "uaGJHjVU_Zcv"
   },
   "outputs": [
    {
     "data": {
      "text/plain": [
       "genre\n",
       "pop            2431\n",
       "dance          1932\n",
       "rock           1879\n",
       "electronic     1736\n",
       "hiphop          960\n",
       "alternative     649\n",
       "classical       646\n",
       "rusrap          564\n",
       "ruspop          538\n",
       "world           515\n",
       "Name: genre, dtype: int64"
      ]
     },
     "execution_count": 37,
     "metadata": {},
     "output_type": "execute_result"
    }
   ],
   "source": [
    "spb_genres.head(10)# просмотр первых 10 строк spb_genres"
   ]
  },
  {
   "cell_type": "markdown",
   "metadata": {
    "id": "RY51YJYu_Zcv"
   },
   "source": [
    "**Выводы**"
   ]
  },
  {
   "cell_type": "markdown",
   "metadata": {
    "id": "nVhnJEm__Zcv"
   },
   "source": [
    "Гипотеза частично подтвердилась:\n",
    "* Поп-музыка — самый популярный жанр в Москве, как и предполагала гипотеза. Более того, в топ-10 жанров встречается близкий жанр — русская популярная музыка.\n",
    "* Вопреки ожиданиям, рэп одинаково популярен в Москве и Петербурге. \n"
   ]
  },
  {
   "cell_type": "markdown",
   "metadata": {
    "id": "ykKQ0N65_Zcv"
   },
   "source": [
    "## Итоги исследования"
   ]
  },
  {
   "cell_type": "markdown",
   "metadata": {
    "id": "tjUwbHb3_Zcv"
   },
   "source": [
    "Вы проверили три гипотезы и установили:\n",
    "\n",
    "1. День недели по-разному влияет на активность пользователей в Москве и Петербурге. \n",
    "\n",
    "Первая гипотеза полностью подтвердилась.\n",
    "\n",
    "2. Музыкальные предпочтения не сильно меняются в течение недели — будь то Москва или Петербург. Небольшие различия заметны в начале недели, по понедельникам:\n",
    "* в Москве слушают музыку жанра “world”,\n",
    "* в Петербурге — джаз и классику.\n",
    "\n",
    "Таким образом, вторая гипотеза подтвердилась лишь отчасти. Этот результат мог оказаться иным, если бы не пропуски в данных.\n",
    "\n",
    "3. Во вкусах пользователей Москвы и Петербурга больше общего чем различий. Вопреки ожиданиям, предпочтения жанров в Петербурге напоминают московские.\n",
    "\n",
    "Третья гипотеза не подтвердилась. Если различия в предпочтениях и существуют, на основной массе пользователей они незаметны.\n",
    "\n",
    "**На практике исследования содержат проверки статистических гипотез.**\n",
    "Из данных одного сервиса не всегда можно сделать вывод о всех жителях города.\n",
    "Проверки статистических гипотез покажут, насколько они достоверны, исходя из имеющихся данных. \n",
    "С методами проверок гипотез вы ещё познакомитесь в следующих темах."
   ]
  }
 ],
 "metadata": {
  "ExecuteTimeLog": [
   {
    "duration": 565,
    "start_time": "2021-12-12T11:53:24.359Z"
   },
   {
    "duration": 268,
    "start_time": "2021-12-12T11:53:28.738Z"
   },
   {
    "duration": 114,
    "start_time": "2021-12-12T11:53:39.223Z"
   },
   {
    "duration": 15,
    "start_time": "2021-12-12T11:53:44.659Z"
   },
   {
    "duration": 8,
    "start_time": "2021-12-12T11:54:08.367Z"
   },
   {
    "duration": 21,
    "start_time": "2021-12-12T11:54:35.238Z"
   },
   {
    "duration": 4,
    "start_time": "2021-12-12T12:16:37.640Z"
   },
   {
    "duration": 25,
    "start_time": "2021-12-12T12:23:24.094Z"
   },
   {
    "duration": 3,
    "start_time": "2021-12-12T12:23:54.809Z"
   },
   {
    "duration": 24,
    "start_time": "2021-12-12T12:24:11.773Z"
   },
   {
    "duration": 3,
    "start_time": "2021-12-12T12:24:16.822Z"
   },
   {
    "duration": 4,
    "start_time": "2021-12-12T12:24:30.646Z"
   },
   {
    "duration": 20,
    "start_time": "2021-12-12T12:24:35.229Z"
   },
   {
    "duration": 4,
    "start_time": "2021-12-12T12:24:44.047Z"
   },
   {
    "duration": 2,
    "start_time": "2021-12-12T12:25:15.908Z"
   },
   {
    "duration": 124,
    "start_time": "2021-12-12T12:25:19.164Z"
   },
   {
    "duration": 9,
    "start_time": "2021-12-12T12:25:24.152Z"
   },
   {
    "duration": 23,
    "start_time": "2021-12-12T12:25:28.052Z"
   },
   {
    "duration": 4,
    "start_time": "2021-12-12T12:25:32.933Z"
   },
   {
    "duration": 25,
    "start_time": "2021-12-12T12:25:37.977Z"
   },
   {
    "duration": 15,
    "start_time": "2021-12-12T12:30:57.535Z"
   },
   {
    "duration": 14,
    "start_time": "2021-12-12T12:31:02.835Z"
   },
   {
    "duration": 3,
    "start_time": "2021-12-12T12:31:08.246Z"
   },
   {
    "duration": 27,
    "start_time": "2021-12-12T12:31:41.735Z"
   },
   {
    "duration": 21,
    "start_time": "2021-12-12T12:33:49.001Z"
   },
   {
    "duration": 16,
    "start_time": "2021-12-12T12:52:07.232Z"
   },
   {
    "duration": 20,
    "start_time": "2021-12-12T12:52:35.750Z"
   },
   {
    "duration": 63,
    "start_time": "2021-12-12T12:53:42.960Z"
   },
   {
    "duration": 46,
    "start_time": "2021-12-12T12:58:12.419Z"
   },
   {
    "duration": 58,
    "start_time": "2021-12-12T12:59:10.021Z"
   },
   {
    "duration": 46,
    "start_time": "2021-12-12T12:59:17.503Z"
   },
   {
    "duration": 58,
    "start_time": "2021-12-12T12:59:48.872Z"
   },
   {
    "duration": 48,
    "start_time": "2021-12-12T12:59:55.657Z"
   },
   {
    "duration": 62,
    "start_time": "2021-12-12T13:01:00.222Z"
   },
   {
    "duration": 48,
    "start_time": "2021-12-12T13:01:07.804Z"
   },
   {
    "duration": 45,
    "start_time": "2021-12-12T13:01:14.839Z"
   },
   {
    "duration": 45,
    "start_time": "2021-12-12T13:01:38.702Z"
   },
   {
    "duration": 46,
    "start_time": "2021-12-12T13:01:50.349Z"
   },
   {
    "duration": 69,
    "start_time": "2021-12-12T13:02:46.533Z"
   },
   {
    "duration": 47,
    "start_time": "2021-12-12T13:05:07.165Z"
   },
   {
    "duration": 63,
    "start_time": "2021-12-12T13:05:16.704Z"
   },
   {
    "duration": 47,
    "start_time": "2021-12-12T13:05:35.762Z"
   },
   {
    "duration": 89,
    "start_time": "2021-12-12T13:07:50.699Z"
   },
   {
    "duration": 56,
    "start_time": "2021-12-12T13:08:51.978Z"
   },
   {
    "duration": 52,
    "start_time": "2021-12-12T13:08:59.365Z"
   },
   {
    "duration": 44,
    "start_time": "2021-12-12T13:09:03.708Z"
   },
   {
    "duration": 236,
    "start_time": "2021-12-12T15:05:33.495Z"
   },
   {
    "duration": 238,
    "start_time": "2021-12-12T15:05:48.300Z"
   },
   {
    "duration": 229,
    "start_time": "2021-12-12T15:15:30.841Z"
   },
   {
    "duration": 287,
    "start_time": "2021-12-12T15:17:28.575Z"
   },
   {
    "duration": 86,
    "start_time": "2021-12-12T15:21:01.742Z"
   },
   {
    "duration": 78,
    "start_time": "2021-12-12T15:21:16.066Z"
   },
   {
    "duration": 81,
    "start_time": "2021-12-12T15:21:30.654Z"
   },
   {
    "duration": 286,
    "start_time": "2021-12-12T15:23:11.968Z"
   },
   {
    "duration": 9,
    "start_time": "2021-12-12T15:26:32.447Z"
   },
   {
    "duration": 5,
    "start_time": "2021-12-12T15:39:16.229Z"
   },
   {
    "duration": 5,
    "start_time": "2021-12-12T15:39:17.783Z"
   },
   {
    "duration": 5,
    "start_time": "2021-12-12T15:39:21.273Z"
   },
   {
    "duration": 245,
    "start_time": "2021-12-12T15:51:55.344Z"
   },
   {
    "duration": 228,
    "start_time": "2021-12-12T15:52:17.265Z"
   },
   {
    "duration": 1601,
    "start_time": "2021-12-12T15:52:29.912Z"
   },
   {
    "duration": 258,
    "start_time": "2021-12-12T15:53:27.121Z"
   },
   {
    "duration": 10,
    "start_time": "2021-12-12T15:53:44.602Z"
   },
   {
    "duration": 7,
    "start_time": "2021-12-12T15:54:26.126Z"
   },
   {
    "duration": 232,
    "start_time": "2021-12-12T15:55:24.023Z"
   },
   {
    "duration": 7,
    "start_time": "2021-12-12T15:55:49.806Z"
   },
   {
    "duration": 412,
    "start_time": "2021-12-12T15:56:07.253Z"
   },
   {
    "duration": 11,
    "start_time": "2021-12-12T15:56:38.591Z"
   },
   {
    "duration": 7,
    "start_time": "2021-12-12T15:56:43.290Z"
   },
   {
    "duration": 5,
    "start_time": "2021-12-12T15:57:30.975Z"
   },
   {
    "duration": 6,
    "start_time": "2021-12-12T15:57:47.784Z"
   },
   {
    "duration": 10,
    "start_time": "2021-12-12T15:57:56.620Z"
   },
   {
    "duration": 475,
    "start_time": "2021-12-13T11:09:11.662Z"
   },
   {
    "duration": 358,
    "start_time": "2021-12-13T11:11:46.785Z"
   },
   {
    "duration": 341,
    "start_time": "2021-12-13T11:12:09.299Z"
   },
   {
    "duration": 776,
    "start_time": "2021-12-13T11:12:13.729Z"
   },
   {
    "duration": 183,
    "start_time": "2021-12-13T11:12:16.274Z"
   },
   {
    "duration": -46,
    "start_time": "2021-12-13T11:12:34.277Z"
   },
   {
    "duration": 9512,
    "start_time": "2021-12-13T11:12:38.010Z"
   },
   {
    "duration": 359,
    "start_time": "2021-12-13T11:13:42.852Z"
   },
   {
    "duration": 406,
    "start_time": "2021-12-13T11:13:59.844Z"
   },
   {
    "duration": 443,
    "start_time": "2021-12-13T11:14:09.452Z"
   },
   {
    "duration": 355,
    "start_time": "2021-12-13T11:14:18.104Z"
   },
   {
    "duration": 109,
    "start_time": "2021-12-13T11:14:22.420Z"
   },
   {
    "duration": 98,
    "start_time": "2021-12-13T11:14:25.116Z"
   },
   {
    "duration": 78,
    "start_time": "2021-12-13T11:14:30.541Z"
   },
   {
    "duration": 10861,
    "start_time": "2021-12-13T11:15:34.974Z"
   },
   {
    "duration": -72,
    "start_time": "2021-12-13T11:15:45.910Z"
   },
   {
    "duration": 4,
    "start_time": "2021-12-13T11:16:23.724Z"
   },
   {
    "duration": 194,
    "start_time": "2021-12-13T11:16:23.730Z"
   },
   {
    "duration": 17,
    "start_time": "2021-12-13T11:16:23.928Z"
   },
   {
    "duration": 41,
    "start_time": "2021-12-13T11:16:23.948Z"
   },
   {
    "duration": 5,
    "start_time": "2021-12-13T11:16:23.992Z"
   },
   {
    "duration": 30,
    "start_time": "2021-12-13T11:16:24.000Z"
   },
   {
    "duration": 33,
    "start_time": "2021-12-13T11:16:24.033Z"
   },
   {
    "duration": 32,
    "start_time": "2021-12-13T11:16:24.070Z"
   },
   {
    "duration": 66,
    "start_time": "2021-12-13T11:16:24.105Z"
   },
   {
    "duration": 34,
    "start_time": "2021-12-13T11:16:24.173Z"
   },
   {
    "duration": 103,
    "start_time": "2021-12-13T11:16:24.210Z"
   },
   {
    "duration": 111,
    "start_time": "2021-12-13T11:16:24.316Z"
   },
   {
    "duration": 85,
    "start_time": "2021-12-13T11:16:24.429Z"
   },
   {
    "duration": 20,
    "start_time": "2021-12-13T11:16:24.517Z"
   },
   {
    "duration": 33,
    "start_time": "2021-12-13T11:16:24.540Z"
   },
   {
    "duration": 16,
    "start_time": "2021-12-13T11:16:24.576Z"
   },
   {
    "duration": 147,
    "start_time": "2021-12-13T11:16:24.596Z"
   },
   {
    "duration": -560,
    "start_time": "2021-12-13T11:16:25.306Z"
   },
   {
    "duration": -563,
    "start_time": "2021-12-13T11:16:25.311Z"
   },
   {
    "duration": -565,
    "start_time": "2021-12-13T11:16:25.314Z"
   },
   {
    "duration": -566,
    "start_time": "2021-12-13T11:16:25.317Z"
   },
   {
    "duration": -567,
    "start_time": "2021-12-13T11:16:25.320Z"
   },
   {
    "duration": -568,
    "start_time": "2021-12-13T11:16:25.323Z"
   },
   {
    "duration": -576,
    "start_time": "2021-12-13T11:16:25.333Z"
   },
   {
    "duration": -596,
    "start_time": "2021-12-13T11:16:25.354Z"
   },
   {
    "duration": -598,
    "start_time": "2021-12-13T11:16:25.357Z"
   },
   {
    "duration": -600,
    "start_time": "2021-12-13T11:16:25.360Z"
   },
   {
    "duration": -641,
    "start_time": "2021-12-13T11:16:25.403Z"
   },
   {
    "duration": -643,
    "start_time": "2021-12-13T11:16:25.406Z"
   },
   {
    "duration": -644,
    "start_time": "2021-12-13T11:16:25.409Z"
   },
   {
    "duration": -645,
    "start_time": "2021-12-13T11:16:25.412Z"
   },
   {
    "duration": -650,
    "start_time": "2021-12-13T11:16:25.418Z"
   },
   {
    "duration": -652,
    "start_time": "2021-12-13T11:16:25.422Z"
   },
   {
    "duration": -654,
    "start_time": "2021-12-13T11:16:25.425Z"
   },
   {
    "duration": -656,
    "start_time": "2021-12-13T11:16:25.428Z"
   },
   {
    "duration": -661,
    "start_time": "2021-12-13T11:16:25.434Z"
   },
   {
    "duration": -661,
    "start_time": "2021-12-13T11:16:25.436Z"
   },
   {
    "duration": 12464,
    "start_time": "2021-12-13T11:18:02.238Z"
   },
   {
    "duration": 31,
    "start_time": "2021-12-13T11:19:50.273Z"
   },
   {
    "duration": 30,
    "start_time": "2021-12-13T11:20:07.841Z"
   },
   {
    "duration": 33,
    "start_time": "2021-12-13T11:21:18.723Z"
   },
   {
    "duration": 59,
    "start_time": "2021-12-13T11:32:49.213Z"
   },
   {
    "duration": 40,
    "start_time": "2021-12-13T11:33:49.943Z"
   },
   {
    "duration": 232,
    "start_time": "2021-12-13T11:36:08.403Z"
   },
   {
    "duration": 46,
    "start_time": "2021-12-13T11:37:38.542Z"
   },
   {
    "duration": 40,
    "start_time": "2021-12-13T11:39:22.208Z"
   },
   {
    "duration": 804,
    "start_time": "2021-12-13T15:47:41.840Z"
   },
   {
    "duration": 198,
    "start_time": "2021-12-13T15:47:42.648Z"
   },
   {
    "duration": 37,
    "start_time": "2021-12-13T15:47:42.849Z"
   },
   {
    "duration": 42,
    "start_time": "2021-12-13T15:47:42.889Z"
   },
   {
    "duration": 7,
    "start_time": "2021-12-13T15:47:42.934Z"
   },
   {
    "duration": 48,
    "start_time": "2021-12-13T15:47:42.944Z"
   },
   {
    "duration": 29,
    "start_time": "2021-12-13T15:47:42.995Z"
   },
   {
    "duration": 52,
    "start_time": "2021-12-13T15:47:43.028Z"
   },
   {
    "duration": 23,
    "start_time": "2021-12-13T15:47:43.083Z"
   },
   {
    "duration": 32,
    "start_time": "2021-12-13T15:47:43.108Z"
   },
   {
    "duration": 124,
    "start_time": "2021-12-13T15:47:43.142Z"
   },
   {
    "duration": 126,
    "start_time": "2021-12-13T15:47:43.269Z"
   },
   {
    "duration": 93,
    "start_time": "2021-12-13T15:47:43.398Z"
   },
   {
    "duration": 15,
    "start_time": "2021-12-13T15:47:43.493Z"
   },
   {
    "duration": 21,
    "start_time": "2021-12-13T15:47:43.511Z"
   },
   {
    "duration": 37,
    "start_time": "2021-12-13T15:47:43.534Z"
   },
   {
    "duration": 33,
    "start_time": "2021-12-13T15:47:43.573Z"
   },
   {
    "duration": 71,
    "start_time": "2021-12-13T15:47:43.609Z"
   },
   {
    "duration": 3,
    "start_time": "2021-12-13T15:47:43.682Z"
   },
   {
    "duration": 25,
    "start_time": "2021-12-13T15:47:43.688Z"
   },
   {
    "duration": 22,
    "start_time": "2021-12-13T15:47:43.716Z"
   },
   {
    "duration": 21,
    "start_time": "2021-12-13T15:47:43.741Z"
   },
   {
    "duration": 22,
    "start_time": "2021-12-13T15:47:43.767Z"
   },
   {
    "duration": 18,
    "start_time": "2021-12-13T15:47:43.792Z"
   },
   {
    "duration": 24,
    "start_time": "2021-12-13T15:47:43.813Z"
   },
   {
    "duration": 18,
    "start_time": "2021-12-13T15:47:43.839Z"
   },
   {
    "duration": 30,
    "start_time": "2021-12-13T15:47:43.859Z"
   },
   {
    "duration": 13,
    "start_time": "2021-12-13T15:47:43.892Z"
   },
   {
    "duration": 21,
    "start_time": "2021-12-13T15:47:43.907Z"
   },
   {
    "duration": 25,
    "start_time": "2021-12-13T15:47:43.930Z"
   },
   {
    "duration": 32,
    "start_time": "2021-12-13T15:47:43.958Z"
   },
   {
    "duration": 22,
    "start_time": "2021-12-13T15:47:43.993Z"
   },
   {
    "duration": 12,
    "start_time": "2021-12-13T15:47:44.018Z"
   },
   {
    "duration": 14,
    "start_time": "2021-12-13T15:47:44.032Z"
   },
   {
    "duration": 364,
    "start_time": "2021-12-13T15:47:44.048Z"
   },
   {
    "duration": -579,
    "start_time": "2021-12-13T15:47:44.994Z"
   },
   {
    "duration": -581,
    "start_time": "2021-12-13T15:47:44.997Z"
   },
   {
    "duration": 5,
    "start_time": "2021-12-13T16:03:37.878Z"
   },
   {
    "duration": 6374,
    "start_time": "2021-12-13T16:03:43.512Z"
   },
   {
    "duration": 5,
    "start_time": "2021-12-13T16:06:04.938Z"
   },
   {
    "duration": 2497,
    "start_time": "2021-12-13T16:06:09.569Z"
   },
   {
    "duration": 5,
    "start_time": "2021-12-13T16:06:34.193Z"
   },
   {
    "duration": 534,
    "start_time": "2021-12-13T16:06:38.946Z"
   },
   {
    "duration": 6,
    "start_time": "2021-12-13T16:08:39.138Z"
   },
   {
    "duration": 650,
    "start_time": "2021-12-13T16:08:43.395Z"
   },
   {
    "duration": 5,
    "start_time": "2021-12-13T16:09:14.522Z"
   },
   {
    "duration": 952,
    "start_time": "2021-12-13T16:09:17.273Z"
   },
   {
    "duration": 5,
    "start_time": "2021-12-13T16:13:13.203Z"
   },
   {
    "duration": 564,
    "start_time": "2021-12-13T16:13:17.551Z"
   },
   {
    "duration": 6,
    "start_time": "2021-12-13T16:15:35.637Z"
   },
   {
    "duration": 919,
    "start_time": "2021-12-13T16:15:40.276Z"
   },
   {
    "duration": 5,
    "start_time": "2021-12-13T16:15:54.964Z"
   },
   {
    "duration": 32,
    "start_time": "2021-12-13T16:16:00.332Z"
   },
   {
    "duration": 28,
    "start_time": "2021-12-13T16:16:03.844Z"
   },
   {
    "duration": 33,
    "start_time": "2021-12-13T16:16:04.588Z"
   },
   {
    "duration": 25,
    "start_time": "2021-12-13T16:16:05.253Z"
   },
   {
    "duration": 31,
    "start_time": "2021-12-13T16:16:05.740Z"
   },
   {
    "duration": 25,
    "start_time": "2021-12-13T16:16:06.300Z"
   },
   {
    "duration": 168,
    "start_time": "2021-12-13T17:00:34.486Z"
   },
   {
    "duration": 147,
    "start_time": "2021-12-13T17:02:30.615Z"
   },
   {
    "duration": 102,
    "start_time": "2021-12-13T17:04:25.839Z"
   },
   {
    "duration": 114,
    "start_time": "2021-12-13T17:05:03.135Z"
   },
   {
    "duration": 5,
    "start_time": "2021-12-13T17:05:14.159Z"
   },
   {
    "duration": 32,
    "start_time": "2021-12-13T17:05:17.071Z"
   },
   {
    "duration": 27,
    "start_time": "2021-12-13T17:05:19.439Z"
   },
   {
    "duration": 33,
    "start_time": "2021-12-13T17:05:20.022Z"
   },
   {
    "duration": 27,
    "start_time": "2021-12-13T17:05:20.455Z"
   },
   {
    "duration": 32,
    "start_time": "2021-12-13T17:05:20.888Z"
   },
   {
    "duration": 28,
    "start_time": "2021-12-13T17:05:21.686Z"
   },
   {
    "duration": 91,
    "start_time": "2021-12-13T17:06:04.024Z"
   },
   {
    "duration": 99,
    "start_time": "2021-12-13T17:06:14.321Z"
   },
   {
    "duration": 532,
    "start_time": "2021-12-13T17:06:20.568Z"
   },
   {
    "duration": 6,
    "start_time": "2021-12-13T17:06:35.352Z"
   },
   {
    "duration": 5,
    "start_time": "2021-12-13T17:08:01.752Z"
   },
   {
    "duration": 5716,
    "start_time": "2021-12-13T17:08:05.511Z"
   },
   {
    "duration": 5,
    "start_time": "2021-12-13T17:08:42.608Z"
   },
   {
    "duration": 32,
    "start_time": "2021-12-13T17:08:48.288Z"
   },
   {
    "duration": 35,
    "start_time": "2021-12-13T17:08:49.584Z"
   },
   {
    "duration": 31,
    "start_time": "2021-12-13T17:08:50.360Z"
   },
   {
    "duration": 27,
    "start_time": "2021-12-13T17:08:51.096Z"
   },
   {
    "duration": 36,
    "start_time": "2021-12-13T17:08:51.615Z"
   },
   {
    "duration": 29,
    "start_time": "2021-12-13T17:08:52.160Z"
   },
   {
    "duration": 5,
    "start_time": "2021-12-13T17:19:03.426Z"
   },
   {
    "duration": 5943,
    "start_time": "2021-12-13T17:19:06.906Z"
   },
   {
    "duration": 5,
    "start_time": "2021-12-13T17:21:58.402Z"
   },
   {
    "duration": 32,
    "start_time": "2021-12-13T17:22:01.739Z"
   },
   {
    "duration": 32,
    "start_time": "2021-12-13T17:22:05.300Z"
   },
   {
    "duration": 30,
    "start_time": "2021-12-13T17:22:06.179Z"
   },
   {
    "duration": 26,
    "start_time": "2021-12-13T17:22:06.771Z"
   },
   {
    "duration": 30,
    "start_time": "2021-12-13T17:22:07.556Z"
   },
   {
    "duration": 26,
    "start_time": "2021-12-13T17:22:08.723Z"
   },
   {
    "duration": 5,
    "start_time": "2021-12-13T17:22:49.333Z"
   },
   {
    "duration": 4195,
    "start_time": "2021-12-13T17:22:53.372Z"
   },
   {
    "duration": 5,
    "start_time": "2021-12-13T17:26:27.525Z"
   },
   {
    "duration": 6382,
    "start_time": "2021-12-13T17:26:31.061Z"
   },
   {
    "duration": 6,
    "start_time": "2021-12-13T17:27:03.110Z"
   },
   {
    "duration": 33,
    "start_time": "2021-12-13T17:27:07.260Z"
   },
   {
    "duration": 31,
    "start_time": "2021-12-13T17:27:14.125Z"
   },
   {
    "duration": 26,
    "start_time": "2021-12-13T17:27:15.013Z"
   },
   {
    "duration": 31,
    "start_time": "2021-12-13T17:27:15.893Z"
   },
   {
    "duration": 7,
    "start_time": "2021-12-13T17:27:52.973Z"
   },
   {
    "duration": 583,
    "start_time": "2021-12-13T17:28:00.989Z"
   },
   {
    "duration": 5,
    "start_time": "2021-12-13T17:33:03.078Z"
   },
   {
    "duration": 1068,
    "start_time": "2021-12-13T17:33:06.895Z"
   },
   {
    "duration": 5,
    "start_time": "2021-12-13T17:40:13.408Z"
   },
   {
    "duration": 5,
    "start_time": "2021-12-13T17:40:25.170Z"
   },
   {
    "duration": 191,
    "start_time": "2021-12-13T17:40:25.178Z"
   },
   {
    "duration": 18,
    "start_time": "2021-12-13T17:40:25.373Z"
   },
   {
    "duration": 32,
    "start_time": "2021-12-13T17:40:25.512Z"
   },
   {
    "duration": 5,
    "start_time": "2021-12-13T17:40:25.547Z"
   },
   {
    "duration": 31,
    "start_time": "2021-12-13T17:40:25.556Z"
   },
   {
    "duration": 6,
    "start_time": "2021-12-13T17:40:25.589Z"
   },
   {
    "duration": 32,
    "start_time": "2021-12-13T17:40:25.597Z"
   },
   {
    "duration": 49,
    "start_time": "2021-12-13T17:40:25.632Z"
   },
   {
    "duration": 29,
    "start_time": "2021-12-13T17:40:25.684Z"
   },
   {
    "duration": 114,
    "start_time": "2021-12-13T17:40:25.716Z"
   },
   {
    "duration": 106,
    "start_time": "2021-12-13T17:40:25.844Z"
   },
   {
    "duration": 92,
    "start_time": "2021-12-13T17:40:25.952Z"
   },
   {
    "duration": 31,
    "start_time": "2021-12-13T17:40:26.047Z"
   },
   {
    "duration": 16,
    "start_time": "2021-12-13T17:40:26.081Z"
   },
   {
    "duration": 19,
    "start_time": "2021-12-13T17:40:26.100Z"
   },
   {
    "duration": 73,
    "start_time": "2021-12-13T17:40:26.123Z"
   },
   {
    "duration": 42,
    "start_time": "2021-12-13T17:40:26.199Z"
   },
   {
    "duration": 26,
    "start_time": "2021-12-13T17:40:26.244Z"
   },
   {
    "duration": 38,
    "start_time": "2021-12-13T17:40:26.275Z"
   },
   {
    "duration": 53,
    "start_time": "2021-12-13T17:40:26.316Z"
   },
   {
    "duration": 38,
    "start_time": "2021-12-13T17:40:26.371Z"
   },
   {
    "duration": 25,
    "start_time": "2021-12-13T17:40:26.411Z"
   },
   {
    "duration": 56,
    "start_time": "2021-12-13T17:40:26.439Z"
   },
   {
    "duration": 27,
    "start_time": "2021-12-13T17:40:26.497Z"
   },
   {
    "duration": 182,
    "start_time": "2021-12-13T17:40:26.526Z"
   },
   {
    "duration": 3,
    "start_time": "2021-12-13T17:40:26.712Z"
   },
   {
    "duration": 9,
    "start_time": "2021-12-13T17:40:26.718Z"
   },
   {
    "duration": 13,
    "start_time": "2021-12-13T17:40:26.730Z"
   },
   {
    "duration": 21,
    "start_time": "2021-12-13T17:40:26.746Z"
   },
   {
    "duration": 12,
    "start_time": "2021-12-13T17:40:26.770Z"
   },
   {
    "duration": 13,
    "start_time": "2021-12-13T17:40:26.784Z"
   },
   {
    "duration": 5,
    "start_time": "2021-12-13T17:40:26.800Z"
   },
   {
    "duration": 6,
    "start_time": "2021-12-13T17:40:26.807Z"
   },
   {
    "duration": 697,
    "start_time": "2021-12-13T17:40:26.815Z"
   },
   {
    "duration": -530,
    "start_time": "2021-12-13T17:40:28.044Z"
   },
   {
    "duration": -538,
    "start_time": "2021-12-13T17:40:28.053Z"
   },
   {
    "duration": 5,
    "start_time": "2021-12-13T17:46:34.457Z"
   },
   {
    "duration": 35,
    "start_time": "2021-12-13T17:46:41.754Z"
   },
   {
    "duration": 29,
    "start_time": "2021-12-13T17:46:43.940Z"
   },
   {
    "duration": 30,
    "start_time": "2021-12-13T17:46:44.947Z"
   },
   {
    "duration": 27,
    "start_time": "2021-12-13T17:46:45.962Z"
   },
   {
    "duration": 34,
    "start_time": "2021-12-13T17:46:46.918Z"
   },
   {
    "duration": 5,
    "start_time": "2021-12-13T17:47:05.389Z"
   },
   {
    "duration": 31,
    "start_time": "2021-12-13T17:47:07.491Z"
   },
   {
    "duration": 27,
    "start_time": "2021-12-13T17:47:08.673Z"
   },
   {
    "duration": 31,
    "start_time": "2021-12-13T17:47:09.376Z"
   },
   {
    "duration": 26,
    "start_time": "2021-12-13T17:47:10.089Z"
   },
   {
    "duration": 34,
    "start_time": "2021-12-13T17:47:11.110Z"
   },
   {
    "duration": 26,
    "start_time": "2021-12-13T17:47:12.509Z"
   },
   {
    "duration": 80,
    "start_time": "2021-12-13T17:48:14.849Z"
   },
   {
    "duration": 4,
    "start_time": "2021-12-13T17:51:47.424Z"
   },
   {
    "duration": 33,
    "start_time": "2021-12-13T17:51:51.267Z"
   },
   {
    "duration": 5,
    "start_time": "2021-12-13T17:53:01.243Z"
   },
   {
    "duration": 5322,
    "start_time": "2021-12-13T17:53:03.718Z"
   },
   {
    "duration": 6,
    "start_time": "2021-12-13T17:53:24.793Z"
   },
   {
    "duration": 539,
    "start_time": "2021-12-13T17:53:27.422Z"
   },
   {
    "duration": 4,
    "start_time": "2021-12-13T17:56:36.941Z"
   },
   {
    "duration": 21,
    "start_time": "2021-12-13T17:56:39.251Z"
   },
   {
    "duration": 22,
    "start_time": "2021-12-13T17:56:40.590Z"
   },
   {
    "duration": 21,
    "start_time": "2021-12-13T17:56:41.482Z"
   },
   {
    "duration": 22,
    "start_time": "2021-12-13T17:56:42.342Z"
   },
   {
    "duration": 22,
    "start_time": "2021-12-13T17:56:43.479Z"
   },
   {
    "duration": 21,
    "start_time": "2021-12-13T17:56:44.661Z"
   },
   {
    "duration": 97,
    "start_time": "2021-12-13T17:56:52.607Z"
   },
   {
    "duration": 5,
    "start_time": "2021-12-13T18:18:18.553Z"
   },
   {
    "duration": 5,
    "start_time": "2021-12-13T18:18:22.029Z"
   },
   {
    "duration": 33,
    "start_time": "2021-12-13T18:18:23.312Z"
   },
   {
    "duration": 27,
    "start_time": "2021-12-13T18:18:24.109Z"
   },
   {
    "duration": 31,
    "start_time": "2021-12-13T18:18:24.768Z"
   },
   {
    "duration": 28,
    "start_time": "2021-12-13T18:18:25.500Z"
   },
   {
    "duration": 31,
    "start_time": "2021-12-13T18:18:26.181Z"
   },
   {
    "duration": 27,
    "start_time": "2021-12-13T18:18:30.499Z"
   },
   {
    "duration": 230,
    "start_time": "2021-12-13T18:18:42.553Z"
   },
   {
    "duration": 5,
    "start_time": "2021-12-13T18:20:05.156Z"
   },
   {
    "duration": 24,
    "start_time": "2021-12-13T18:20:08.982Z"
   },
   {
    "duration": 26,
    "start_time": "2021-12-13T18:20:11.655Z"
   },
   {
    "duration": 28,
    "start_time": "2021-12-13T18:20:12.365Z"
   },
   {
    "duration": 20,
    "start_time": "2021-12-13T18:20:13.006Z"
   },
   {
    "duration": 28,
    "start_time": "2021-12-13T18:20:13.643Z"
   },
   {
    "duration": 22,
    "start_time": "2021-12-13T18:20:14.325Z"
   },
   {
    "duration": 122,
    "start_time": "2021-12-13T18:20:15.219Z"
   },
   {
    "duration": 49,
    "start_time": "2021-12-13T18:25:53.140Z"
   },
   {
    "duration": 31,
    "start_time": "2021-12-13T18:27:04.391Z"
   },
   {
    "duration": 394,
    "start_time": "2021-12-13T18:35:09.322Z"
   },
   {
    "duration": 311,
    "start_time": "2021-12-13T18:35:38.713Z"
   },
   {
    "duration": 36,
    "start_time": "2021-12-13T18:36:50.059Z"
   },
   {
    "duration": 4788,
    "start_time": "2021-12-13T18:36:56.272Z"
   },
   {
    "duration": 65,
    "start_time": "2021-12-13T18:37:27.609Z"
   },
   {
    "duration": 493,
    "start_time": "2021-12-13T18:40:05.517Z"
   },
   {
    "duration": 60,
    "start_time": "2021-12-13T18:42:55.531Z"
   },
   {
    "duration": 58,
    "start_time": "2021-12-13T18:43:14.190Z"
   },
   {
    "duration": 98,
    "start_time": "2021-12-13T18:44:21.050Z"
   },
   {
    "duration": 68,
    "start_time": "2021-12-13T18:44:35.351Z"
   },
   {
    "duration": 98,
    "start_time": "2021-12-13T18:45:51.965Z"
   },
   {
    "duration": 82,
    "start_time": "2021-12-13T18:46:13.570Z"
   },
   {
    "duration": 69,
    "start_time": "2021-12-13T18:47:00.156Z"
   },
   {
    "duration": 55,
    "start_time": "2021-12-13T18:47:50.993Z"
   },
   {
    "duration": 59,
    "start_time": "2021-12-13T18:48:36.419Z"
   },
   {
    "duration": 68,
    "start_time": "2021-12-13T18:48:44.176Z"
   },
   {
    "duration": 41,
    "start_time": "2021-12-13T18:54:01.098Z"
   },
   {
    "duration": 277,
    "start_time": "2021-12-13T19:10:43.450Z"
   },
   {
    "duration": 6,
    "start_time": "2021-12-13T19:16:43.303Z"
   },
   {
    "duration": 6,
    "start_time": "2021-12-13T19:16:49.235Z"
   },
   {
    "duration": 5,
    "start_time": "2021-12-13T19:16:58.040Z"
   },
   {
    "duration": 7,
    "start_time": "2021-12-13T19:37:00.468Z"
   },
   {
    "duration": 7,
    "start_time": "2021-12-13T19:37:02.264Z"
   },
   {
    "duration": 295,
    "start_time": "2021-12-13T19:37:10.978Z"
   },
   {
    "duration": 15,
    "start_time": "2021-12-13T19:37:22.345Z"
   },
   {
    "duration": 13,
    "start_time": "2021-12-13T19:37:23.061Z"
   },
   {
    "duration": 6,
    "start_time": "2021-12-13T19:37:25.033Z"
   },
   {
    "duration": 637,
    "start_time": "2021-12-13T19:37:35.027Z"
   },
   {
    "duration": 6,
    "start_time": "2021-12-13T19:38:08.603Z"
   },
   {
    "duration": 1149,
    "start_time": "2021-12-13T19:38:12.434Z"
   },
   {
    "duration": 584,
    "start_time": "2021-12-13T19:40:46.976Z"
   },
   {
    "duration": 9,
    "start_time": "2021-12-13T19:44:52.376Z"
   },
   {
    "duration": 574,
    "start_time": "2021-12-13T19:44:58.748Z"
   },
   {
    "duration": 6,
    "start_time": "2021-12-13T19:45:20.045Z"
   },
   {
    "duration": 7,
    "start_time": "2021-12-13T19:45:23.908Z"
   },
   {
    "duration": 596,
    "start_time": "2021-12-13T19:45:26.863Z"
   },
   {
    "duration": 11,
    "start_time": "2021-12-13T19:47:24.392Z"
   },
   {
    "duration": 577,
    "start_time": "2021-12-13T19:47:29.262Z"
   },
   {
    "duration": 4,
    "start_time": "2021-12-13T19:47:54.034Z"
   },
   {
    "duration": 262,
    "start_time": "2021-12-13T19:47:54.040Z"
   },
   {
    "duration": 18,
    "start_time": "2021-12-13T19:47:54.306Z"
   },
   {
    "duration": 58,
    "start_time": "2021-12-13T19:47:54.328Z"
   },
   {
    "duration": 29,
    "start_time": "2021-12-13T19:47:54.389Z"
   },
   {
    "duration": 52,
    "start_time": "2021-12-13T19:47:54.421Z"
   },
   {
    "duration": 18,
    "start_time": "2021-12-13T19:47:54.476Z"
   },
   {
    "duration": 49,
    "start_time": "2021-12-13T19:47:54.501Z"
   },
   {
    "duration": 63,
    "start_time": "2021-12-13T19:47:54.552Z"
   },
   {
    "duration": 40,
    "start_time": "2021-12-13T19:47:54.618Z"
   },
   {
    "duration": 123,
    "start_time": "2021-12-13T19:47:54.660Z"
   },
   {
    "duration": 130,
    "start_time": "2021-12-13T19:47:54.786Z"
   },
   {
    "duration": 107,
    "start_time": "2021-12-13T19:47:54.919Z"
   },
   {
    "duration": 17,
    "start_time": "2021-12-13T19:47:55.029Z"
   },
   {
    "duration": 109,
    "start_time": "2021-12-13T19:47:55.067Z"
   },
   {
    "duration": 56,
    "start_time": "2021-12-13T19:47:55.179Z"
   },
   {
    "duration": 105,
    "start_time": "2021-12-13T19:47:55.237Z"
   },
   {
    "duration": 76,
    "start_time": "2021-12-13T19:47:55.344Z"
   },
   {
    "duration": 24,
    "start_time": "2021-12-13T19:47:55.423Z"
   },
   {
    "duration": 43,
    "start_time": "2021-12-13T19:47:55.450Z"
   },
   {
    "duration": 21,
    "start_time": "2021-12-13T19:47:55.496Z"
   },
   {
    "duration": 25,
    "start_time": "2021-12-13T19:47:55.520Z"
   },
   {
    "duration": 26,
    "start_time": "2021-12-13T19:47:55.567Z"
   },
   {
    "duration": 38,
    "start_time": "2021-12-13T19:47:55.596Z"
   },
   {
    "duration": 72,
    "start_time": "2021-12-13T19:47:55.636Z"
   },
   {
    "duration": 142,
    "start_time": "2021-12-13T19:47:55.711Z"
   },
   {
    "duration": 19,
    "start_time": "2021-12-13T19:47:55.856Z"
   },
   {
    "duration": 62,
    "start_time": "2021-12-13T19:47:55.878Z"
   },
   {
    "duration": 31,
    "start_time": "2021-12-13T19:47:55.942Z"
   },
   {
    "duration": 816,
    "start_time": "2021-12-13T19:47:55.976Z"
   },
   {
    "duration": -479,
    "start_time": "2021-12-13T19:47:57.274Z"
   },
   {
    "duration": -491,
    "start_time": "2021-12-13T19:47:57.288Z"
   },
   {
    "duration": -494,
    "start_time": "2021-12-13T19:47:57.293Z"
   },
   {
    "duration": -495,
    "start_time": "2021-12-13T19:47:57.295Z"
   },
   {
    "duration": -495,
    "start_time": "2021-12-13T19:47:57.297Z"
   },
   {
    "duration": -494,
    "start_time": "2021-12-13T19:47:57.298Z"
   },
   {
    "duration": -495,
    "start_time": "2021-12-13T19:47:57.300Z"
   },
   {
    "duration": 7,
    "start_time": "2021-12-13T19:49:14.920Z"
   },
   {
    "duration": 824,
    "start_time": "2021-12-13T19:49:18.219Z"
   },
   {
    "duration": 6,
    "start_time": "2021-12-13T19:52:31.936Z"
   },
   {
    "duration": 530,
    "start_time": "2021-12-13T19:52:38.755Z"
   },
   {
    "duration": 10,
    "start_time": "2021-12-13T19:56:14.189Z"
   },
   {
    "duration": 892,
    "start_time": "2021-12-13T19:56:18.213Z"
   },
   {
    "duration": 9,
    "start_time": "2021-12-13T19:57:38.584Z"
   },
   {
    "duration": 572,
    "start_time": "2021-12-13T19:57:45.647Z"
   },
   {
    "duration": 6,
    "start_time": "2021-12-13T20:00:20.400Z"
   },
   {
    "duration": 7,
    "start_time": "2021-12-13T20:00:22.850Z"
   },
   {
    "duration": 561,
    "start_time": "2021-12-13T20:00:25.041Z"
   },
   {
    "duration": 7,
    "start_time": "2021-12-13T20:01:04.620Z"
   },
   {
    "duration": 2442,
    "start_time": "2021-12-13T20:01:09.279Z"
   },
   {
    "duration": 6,
    "start_time": "2021-12-13T20:01:34.212Z"
   },
   {
    "duration": 8,
    "start_time": "2021-12-13T20:02:07.780Z"
   },
   {
    "duration": 595,
    "start_time": "2021-12-13T20:02:12.716Z"
   },
   {
    "duration": 8,
    "start_time": "2021-12-13T20:02:36.872Z"
   },
   {
    "duration": 747,
    "start_time": "2021-12-13T20:02:42.016Z"
   },
   {
    "duration": 6,
    "start_time": "2021-12-13T20:03:28.422Z"
   },
   {
    "duration": 551,
    "start_time": "2021-12-13T20:03:31.841Z"
   },
   {
    "duration": 9,
    "start_time": "2021-12-13T20:35:15.137Z"
   },
   {
    "duration": 729,
    "start_time": "2021-12-13T20:35:20.538Z"
   },
   {
    "duration": 6,
    "start_time": "2021-12-13T20:38:55.219Z"
   },
   {
    "duration": 20,
    "start_time": "2021-12-13T20:39:01.304Z"
   },
   {
    "duration": 21,
    "start_time": "2021-12-13T20:39:21.810Z"
   },
   {
    "duration": 6,
    "start_time": "2021-12-13T20:39:32.332Z"
   },
   {
    "duration": 756,
    "start_time": "2021-12-13T20:39:35.849Z"
   },
   {
    "duration": 7,
    "start_time": "2021-12-13T20:42:11.164Z"
   },
   {
    "duration": 534,
    "start_time": "2021-12-13T20:42:15.137Z"
   },
   {
    "duration": 12,
    "start_time": "2021-12-13T20:43:37.408Z"
   },
   {
    "duration": 553,
    "start_time": "2021-12-13T20:43:51.513Z"
   },
   {
    "duration": 573,
    "start_time": "2021-12-14T05:02:07.312Z"
   },
   {
    "duration": 140,
    "start_time": "2021-12-14T05:02:07.887Z"
   },
   {
    "duration": 18,
    "start_time": "2021-12-14T05:02:08.029Z"
   },
   {
    "duration": 26,
    "start_time": "2021-12-14T05:02:08.049Z"
   },
   {
    "duration": 5,
    "start_time": "2021-12-14T05:02:08.091Z"
   },
   {
    "duration": 23,
    "start_time": "2021-12-14T05:02:08.099Z"
   },
   {
    "duration": 4,
    "start_time": "2021-12-14T05:02:08.124Z"
   },
   {
    "duration": 24,
    "start_time": "2021-12-14T05:02:08.130Z"
   },
   {
    "duration": 50,
    "start_time": "2021-12-14T05:02:08.156Z"
   },
   {
    "duration": 20,
    "start_time": "2021-12-14T05:02:08.208Z"
   },
   {
    "duration": 75,
    "start_time": "2021-12-14T05:02:08.230Z"
   },
   {
    "duration": 69,
    "start_time": "2021-12-14T05:02:08.306Z"
   },
   {
    "duration": 56,
    "start_time": "2021-12-14T05:02:08.377Z"
   },
   {
    "duration": 9,
    "start_time": "2021-12-14T05:02:08.435Z"
   },
   {
    "duration": 9,
    "start_time": "2021-12-14T05:02:08.445Z"
   },
   {
    "duration": 16,
    "start_time": "2021-12-14T05:02:08.456Z"
   },
   {
    "duration": 37,
    "start_time": "2021-12-14T05:02:08.473Z"
   },
   {
    "duration": 30,
    "start_time": "2021-12-14T05:02:08.511Z"
   },
   {
    "duration": 4,
    "start_time": "2021-12-14T05:02:08.542Z"
   },
   {
    "duration": 21,
    "start_time": "2021-12-14T05:02:08.547Z"
   },
   {
    "duration": 15,
    "start_time": "2021-12-14T05:02:08.592Z"
   },
   {
    "duration": 13,
    "start_time": "2021-12-14T05:02:08.609Z"
   },
   {
    "duration": 13,
    "start_time": "2021-12-14T05:02:08.625Z"
   },
   {
    "duration": 15,
    "start_time": "2021-12-14T05:02:08.640Z"
   },
   {
    "duration": 44,
    "start_time": "2021-12-14T05:02:08.657Z"
   },
   {
    "duration": 68,
    "start_time": "2021-12-14T05:02:08.703Z"
   },
   {
    "duration": 24,
    "start_time": "2021-12-14T05:02:08.773Z"
   },
   {
    "duration": 20,
    "start_time": "2021-12-14T05:02:08.798Z"
   },
   {
    "duration": 4,
    "start_time": "2021-12-14T05:02:08.820Z"
   },
   {
    "duration": 405,
    "start_time": "2021-12-14T05:02:08.825Z"
   },
   {
    "duration": 421,
    "start_time": "2021-12-14T05:02:08.811Z"
   },
   {
    "duration": 418,
    "start_time": "2021-12-14T05:02:08.816Z"
   },
   {
    "duration": 413,
    "start_time": "2021-12-14T05:02:08.822Z"
   },
   {
    "duration": 409,
    "start_time": "2021-12-14T05:02:08.828Z"
   },
   {
    "duration": 405,
    "start_time": "2021-12-14T05:02:08.833Z"
   },
   {
    "duration": 402,
    "start_time": "2021-12-14T05:02:08.838Z"
   },
   {
    "duration": 399,
    "start_time": "2021-12-14T05:02:08.842Z"
   },
   {
    "duration": 4,
    "start_time": "2021-12-14T05:09:48.644Z"
   },
   {
    "duration": 4,
    "start_time": "2021-12-14T05:09:50.686Z"
   },
   {
    "duration": 15,
    "start_time": "2021-12-14T05:09:52.429Z"
   },
   {
    "duration": 35,
    "start_time": "2021-12-14T05:16:15.624Z"
   },
   {
    "duration": 16,
    "start_time": "2021-12-14T05:16:50.851Z"
   },
   {
    "duration": 26,
    "start_time": "2021-12-14T05:17:09.674Z"
   },
   {
    "duration": 14,
    "start_time": "2021-12-14T05:20:34.819Z"
   },
   {
    "duration": 4,
    "start_time": "2021-12-14T05:22:45.788Z"
   },
   {
    "duration": 22,
    "start_time": "2021-12-14T05:22:49.500Z"
   },
   {
    "duration": 5,
    "start_time": "2021-12-14T05:23:26.045Z"
   },
   {
    "duration": 26,
    "start_time": "2021-12-14T05:23:28.932Z"
   },
   {
    "duration": 4,
    "start_time": "2021-12-14T05:23:34.670Z"
   },
   {
    "duration": 4,
    "start_time": "2021-12-14T05:23:36.708Z"
   },
   {
    "duration": 23,
    "start_time": "2021-12-14T05:23:38.090Z"
   },
   {
    "duration": 6,
    "start_time": "2021-12-14T05:23:52.762Z"
   },
   {
    "duration": 22,
    "start_time": "2021-12-14T05:23:54.091Z"
   },
   {
    "duration": 4,
    "start_time": "2021-12-14T05:24:14.542Z"
   },
   {
    "duration": 5,
    "start_time": "2021-12-14T05:24:16.075Z"
   },
   {
    "duration": 21,
    "start_time": "2021-12-14T05:24:17.243Z"
   },
   {
    "duration": 2,
    "start_time": "2021-12-14T05:24:22.593Z"
   },
   {
    "duration": 160,
    "start_time": "2021-12-14T05:24:22.599Z"
   },
   {
    "duration": 11,
    "start_time": "2021-12-14T05:24:22.761Z"
   },
   {
    "duration": 45,
    "start_time": "2021-12-14T05:24:22.774Z"
   },
   {
    "duration": 4,
    "start_time": "2021-12-14T05:24:22.821Z"
   },
   {
    "duration": 23,
    "start_time": "2021-12-14T05:24:22.826Z"
   },
   {
    "duration": 4,
    "start_time": "2021-12-14T05:24:22.850Z"
   },
   {
    "duration": 39,
    "start_time": "2021-12-14T05:24:22.856Z"
   },
   {
    "duration": 16,
    "start_time": "2021-12-14T05:24:22.897Z"
   },
   {
    "duration": 21,
    "start_time": "2021-12-14T05:24:22.915Z"
   },
   {
    "duration": 76,
    "start_time": "2021-12-14T05:24:22.938Z"
   },
   {
    "duration": 60,
    "start_time": "2021-12-14T05:24:23.015Z"
   },
   {
    "duration": 63,
    "start_time": "2021-12-14T05:24:23.077Z"
   },
   {
    "duration": 9,
    "start_time": "2021-12-14T05:24:23.142Z"
   },
   {
    "duration": 11,
    "start_time": "2021-12-14T05:24:23.152Z"
   },
   {
    "duration": 32,
    "start_time": "2021-12-14T05:24:23.165Z"
   },
   {
    "duration": 23,
    "start_time": "2021-12-14T05:24:23.198Z"
   },
   {
    "duration": 13,
    "start_time": "2021-12-14T05:24:23.223Z"
   },
   {
    "duration": 3,
    "start_time": "2021-12-14T05:24:23.238Z"
   },
   {
    "duration": 22,
    "start_time": "2021-12-14T05:24:23.242Z"
   },
   {
    "duration": 38,
    "start_time": "2021-12-14T05:24:23.266Z"
   },
   {
    "duration": 13,
    "start_time": "2021-12-14T05:24:23.306Z"
   },
   {
    "duration": 13,
    "start_time": "2021-12-14T05:24:23.320Z"
   },
   {
    "duration": 18,
    "start_time": "2021-12-14T05:24:23.336Z"
   },
   {
    "duration": 45,
    "start_time": "2021-12-14T05:24:23.356Z"
   },
   {
    "duration": 66,
    "start_time": "2021-12-14T05:24:23.402Z"
   },
   {
    "duration": 23,
    "start_time": "2021-12-14T05:24:23.470Z"
   },
   {
    "duration": 10,
    "start_time": "2021-12-14T05:24:23.495Z"
   },
   {
    "duration": 4,
    "start_time": "2021-12-14T05:24:23.506Z"
   },
   {
    "duration": 24,
    "start_time": "2021-12-14T05:24:23.512Z"
   },
   {
    "duration": 2,
    "start_time": "2021-12-14T05:24:23.537Z"
   },
   {
    "duration": 4,
    "start_time": "2021-12-14T05:24:23.541Z"
   },
   {
    "duration": 5,
    "start_time": "2021-12-14T05:24:23.547Z"
   },
   {
    "duration": 4,
    "start_time": "2021-12-14T05:24:23.554Z"
   },
   {
    "duration": 199,
    "start_time": "2021-12-14T05:24:23.560Z"
   },
   {
    "duration": 27,
    "start_time": "2021-12-14T05:24:23.734Z"
   },
   {
    "duration": 16,
    "start_time": "2021-12-14T05:24:23.746Z"
   },
   {
    "duration": 4,
    "start_time": "2021-12-14T05:24:45.417Z"
   },
   {
    "duration": 20,
    "start_time": "2021-12-14T05:24:48.436Z"
   },
   {
    "duration": 4,
    "start_time": "2021-12-14T05:24:57.327Z"
   },
   {
    "duration": 381,
    "start_time": "2021-12-14T05:24:59.852Z"
   },
   {
    "duration": 4,
    "start_time": "2021-12-14T05:25:23.296Z"
   },
   {
    "duration": 4,
    "start_time": "2021-12-14T05:25:25.584Z"
   },
   {
    "duration": 21,
    "start_time": "2021-12-14T05:25:26.213Z"
   },
   {
    "duration": 4,
    "start_time": "2021-12-14T05:25:54.961Z"
   },
   {
    "duration": 39,
    "start_time": "2021-12-14T05:25:57.702Z"
   },
   {
    "duration": 4,
    "start_time": "2021-12-14T05:26:37.381Z"
   },
   {
    "duration": 40,
    "start_time": "2021-12-14T05:26:39.465Z"
   },
   {
    "duration": 4,
    "start_time": "2021-12-14T05:27:01.076Z"
   },
   {
    "duration": 42,
    "start_time": "2021-12-14T05:27:04.321Z"
   },
   {
    "duration": 4,
    "start_time": "2021-12-14T05:27:18.453Z"
   },
   {
    "duration": 39,
    "start_time": "2021-12-14T05:27:23.097Z"
   },
   {
    "duration": 23,
    "start_time": "2021-12-14T05:29:01.409Z"
   },
   {
    "duration": 4,
    "start_time": "2021-12-14T05:30:00.151Z"
   },
   {
    "duration": 23,
    "start_time": "2021-12-14T05:30:03.661Z"
   },
   {
    "duration": 5,
    "start_time": "2021-12-14T05:30:22.209Z"
   },
   {
    "duration": 17,
    "start_time": "2021-12-14T05:30:24.614Z"
   },
   {
    "duration": 4,
    "start_time": "2021-12-14T05:30:43.242Z"
   },
   {
    "duration": 28,
    "start_time": "2021-12-14T05:30:46.686Z"
   },
   {
    "duration": 4,
    "start_time": "2021-12-14T05:32:02.998Z"
   },
   {
    "duration": 355,
    "start_time": "2021-12-14T05:32:05.833Z"
   },
   {
    "duration": 4,
    "start_time": "2021-12-14T05:32:15.237Z"
   },
   {
    "duration": 27,
    "start_time": "2021-12-14T05:32:17.856Z"
   },
   {
    "duration": 22,
    "start_time": "2021-12-14T05:32:28.081Z"
   },
   {
    "duration": 46,
    "start_time": "2021-12-14T05:33:35.195Z"
   },
   {
    "duration": 36,
    "start_time": "2021-12-14T05:33:35.986Z"
   },
   {
    "duration": 4,
    "start_time": "2021-12-14T05:34:28.592Z"
   },
   {
    "duration": 30,
    "start_time": "2021-12-14T05:34:31.996Z"
   },
   {
    "duration": 21,
    "start_time": "2021-12-14T05:34:40.013Z"
   },
   {
    "duration": 42,
    "start_time": "2021-12-14T05:34:41.917Z"
   },
   {
    "duration": 26,
    "start_time": "2021-12-14T05:34:43.548Z"
   },
   {
    "duration": 3,
    "start_time": "2021-12-14T05:35:55.417Z"
   },
   {
    "duration": 25,
    "start_time": "2021-12-14T05:35:55.983Z"
   },
   {
    "duration": 25,
    "start_time": "2021-12-14T05:36:08.871Z"
   },
   {
    "duration": 17,
    "start_time": "2021-12-14T05:36:10.671Z"
   },
   {
    "duration": 38,
    "start_time": "2021-12-14T05:36:11.560Z"
   },
   {
    "duration": 23,
    "start_time": "2021-12-14T05:36:12.447Z"
   },
   {
    "duration": 4,
    "start_time": "2021-12-14T05:37:29.140Z"
   },
   {
    "duration": 27,
    "start_time": "2021-12-14T05:37:32.057Z"
   },
   {
    "duration": 19,
    "start_time": "2021-12-14T05:37:38.561Z"
   },
   {
    "duration": 43,
    "start_time": "2021-12-14T05:37:40.977Z"
   },
   {
    "duration": 25,
    "start_time": "2021-12-14T05:37:43.306Z"
   },
   {
    "duration": 3326,
    "start_time": "2021-12-14T05:40:19.672Z"
   },
   {
    "duration": 10,
    "start_time": "2021-12-14T05:40:37.889Z"
   },
   {
    "duration": 10,
    "start_time": "2021-12-14T05:40:40.543Z"
   },
   {
    "duration": 4,
    "start_time": "2021-12-14T05:40:43.568Z"
   },
   {
    "duration": 28,
    "start_time": "2021-12-14T05:40:46.217Z"
   },
   {
    "duration": 11,
    "start_time": "2021-12-14T05:41:03.506Z"
   },
   {
    "duration": 14,
    "start_time": "2021-12-14T05:41:05.819Z"
   },
   {
    "duration": 10,
    "start_time": "2021-12-14T05:42:17.037Z"
   },
   {
    "duration": 29,
    "start_time": "2021-12-14T05:42:19.731Z"
   },
   {
    "duration": 20,
    "start_time": "2021-12-14T05:42:28.747Z"
   },
   {
    "duration": 4,
    "start_time": "2021-12-14T05:43:07.116Z"
   },
   {
    "duration": 28,
    "start_time": "2021-12-14T05:43:08.908Z"
   },
   {
    "duration": 4,
    "start_time": "2021-12-14T05:43:28.318Z"
   },
   {
    "duration": 30,
    "start_time": "2021-12-14T05:43:31.757Z"
   },
   {
    "duration": 4,
    "start_time": "2021-12-14T05:43:45.678Z"
   },
   {
    "duration": 382,
    "start_time": "2021-12-14T05:43:47.517Z"
   },
   {
    "duration": 4,
    "start_time": "2021-12-14T05:43:57.416Z"
   },
   {
    "duration": 29,
    "start_time": "2021-12-14T05:43:58.859Z"
   },
   {
    "duration": 5,
    "start_time": "2021-12-14T05:44:28.001Z"
   },
   {
    "duration": 30,
    "start_time": "2021-12-14T05:44:31.333Z"
   },
   {
    "duration": 4,
    "start_time": "2021-12-14T05:44:38.752Z"
   },
   {
    "duration": 30,
    "start_time": "2021-12-14T05:44:41.623Z"
   },
   {
    "duration": 4,
    "start_time": "2021-12-14T05:44:52.736Z"
   },
   {
    "duration": 29,
    "start_time": "2021-12-14T05:44:54.023Z"
   },
   {
    "duration": 5,
    "start_time": "2021-12-14T05:45:23.386Z"
   },
   {
    "duration": 30,
    "start_time": "2021-12-14T05:45:25.792Z"
   },
   {
    "duration": 4,
    "start_time": "2021-12-14T05:45:39.721Z"
   },
   {
    "duration": 27,
    "start_time": "2021-12-14T05:45:42.120Z"
   },
   {
    "duration": 4,
    "start_time": "2021-12-14T05:46:04.442Z"
   },
   {
    "duration": 29,
    "start_time": "2021-12-14T05:46:08.159Z"
   },
   {
    "duration": 20,
    "start_time": "2021-12-14T05:46:15.048Z"
   },
   {
    "duration": 43,
    "start_time": "2021-12-14T05:46:17.496Z"
   },
   {
    "duration": 27,
    "start_time": "2021-12-14T05:46:18.121Z"
   },
   {
    "duration": 4,
    "start_time": "2021-12-14T05:51:00.507Z"
   },
   {
    "duration": 30,
    "start_time": "2021-12-14T05:51:02.481Z"
   },
   {
    "duration": 27,
    "start_time": "2021-12-14T05:51:03.978Z"
   },
   {
    "duration": 33,
    "start_time": "2021-12-14T06:08:41.351Z"
   },
   {
    "duration": 32,
    "start_time": "2021-12-14T06:08:47.023Z"
   },
   {
    "duration": 23,
    "start_time": "2021-12-14T06:08:56.375Z"
   },
   {
    "duration": 42,
    "start_time": "2021-12-14T06:09:05.416Z"
   },
   {
    "duration": 4,
    "start_time": "2021-12-14T06:12:03.613Z"
   },
   {
    "duration": 474,
    "start_time": "2021-12-14T06:12:05.836Z"
   },
   {
    "duration": 5,
    "start_time": "2021-12-14T06:12:46.790Z"
   },
   {
    "duration": 382,
    "start_time": "2021-12-14T06:12:49.293Z"
   },
   {
    "duration": 4,
    "start_time": "2021-12-14T06:12:55.606Z"
   },
   {
    "duration": 369,
    "start_time": "2021-12-14T06:12:56.886Z"
   },
   {
    "duration": 5,
    "start_time": "2021-12-14T06:13:17.520Z"
   },
   {
    "duration": 31,
    "start_time": "2021-12-14T06:13:18.990Z"
   },
   {
    "duration": 4,
    "start_time": "2021-12-14T06:14:05.600Z"
   },
   {
    "duration": 32,
    "start_time": "2021-12-14T06:14:07.704Z"
   },
   {
    "duration": 4,
    "start_time": "2021-12-14T06:21:34.301Z"
   },
   {
    "duration": 20,
    "start_time": "2021-12-14T06:21:37.164Z"
   },
   {
    "duration": 14,
    "start_time": "2021-12-14T06:21:44.363Z"
   },
   {
    "duration": 18,
    "start_time": "2021-12-14T06:21:47.341Z"
   },
   {
    "duration": 14,
    "start_time": "2021-12-14T06:21:50.099Z"
   },
   {
    "duration": 182,
    "start_time": "2021-12-14T07:55:28.441Z"
   },
   {
    "duration": 184,
    "start_time": "2021-12-14T07:55:41.829Z"
   },
   {
    "duration": 194,
    "start_time": "2021-12-14T07:56:06.637Z"
   },
   {
    "duration": 181,
    "start_time": "2021-12-14T07:56:40.893Z"
   },
   {
    "duration": 2,
    "start_time": "2021-12-14T07:56:45.343Z"
   },
   {
    "duration": 153,
    "start_time": "2021-12-14T07:56:45.349Z"
   },
   {
    "duration": 10,
    "start_time": "2021-12-14T07:56:45.504Z"
   },
   {
    "duration": 24,
    "start_time": "2021-12-14T07:56:45.517Z"
   },
   {
    "duration": 4,
    "start_time": "2021-12-14T07:56:45.543Z"
   },
   {
    "duration": 53,
    "start_time": "2021-12-14T07:56:45.549Z"
   },
   {
    "duration": 4,
    "start_time": "2021-12-14T07:56:45.604Z"
   },
   {
    "duration": 26,
    "start_time": "2021-12-14T07:56:45.610Z"
   },
   {
    "duration": 19,
    "start_time": "2021-12-14T07:56:45.639Z"
   },
   {
    "duration": 45,
    "start_time": "2021-12-14T07:56:45.660Z"
   },
   {
    "duration": 58,
    "start_time": "2021-12-14T07:56:45.707Z"
   },
   {
    "duration": 78,
    "start_time": "2021-12-14T07:56:45.766Z"
   },
   {
    "duration": 62,
    "start_time": "2021-12-14T07:56:45.846Z"
   },
   {
    "duration": 8,
    "start_time": "2021-12-14T07:56:45.910Z"
   },
   {
    "duration": 9,
    "start_time": "2021-12-14T07:56:45.920Z"
   },
   {
    "duration": 9,
    "start_time": "2021-12-14T07:56:45.931Z"
   },
   {
    "duration": 50,
    "start_time": "2021-12-14T07:56:45.941Z"
   },
   {
    "duration": 14,
    "start_time": "2021-12-14T07:56:45.993Z"
   },
   {
    "duration": 4,
    "start_time": "2021-12-14T07:56:46.008Z"
   },
   {
    "duration": 22,
    "start_time": "2021-12-14T07:56:46.013Z"
   },
   {
    "duration": 13,
    "start_time": "2021-12-14T07:56:46.036Z"
   },
   {
    "duration": 13,
    "start_time": "2021-12-14T07:56:46.051Z"
   },
   {
    "duration": 15,
    "start_time": "2021-12-14T07:56:46.092Z"
   },
   {
    "duration": 16,
    "start_time": "2021-12-14T07:56:46.110Z"
   },
   {
    "duration": 14,
    "start_time": "2021-12-14T07:56:46.128Z"
   },
   {
    "duration": 99,
    "start_time": "2021-12-14T07:56:46.143Z"
   },
   {
    "duration": 11,
    "start_time": "2021-12-14T07:56:46.244Z"
   },
   {
    "duration": 10,
    "start_time": "2021-12-14T07:56:46.256Z"
   },
   {
    "duration": 4,
    "start_time": "2021-12-14T07:56:46.268Z"
   },
   {
    "duration": 19,
    "start_time": "2021-12-14T07:56:46.291Z"
   },
   {
    "duration": 12,
    "start_time": "2021-12-14T07:56:46.312Z"
   },
   {
    "duration": 16,
    "start_time": "2021-12-14T07:56:46.325Z"
   },
   {
    "duration": 12,
    "start_time": "2021-12-14T07:56:46.342Z"
   },
   {
    "duration": 209,
    "start_time": "2021-12-14T07:56:46.355Z"
   },
   {
    "duration": -32,
    "start_time": "2021-12-14T07:56:46.597Z"
   },
   {
    "duration": -36,
    "start_time": "2021-12-14T07:56:46.603Z"
   },
   {
    "duration": -40,
    "start_time": "2021-12-14T07:56:46.607Z"
   },
   {
    "duration": 182,
    "start_time": "2021-12-14T07:57:11.638Z"
   },
   {
    "duration": 184,
    "start_time": "2021-12-14T07:59:56.604Z"
   },
   {
    "duration": 50,
    "start_time": "2021-12-14T08:00:17.516Z"
   },
   {
    "duration": 40,
    "start_time": "2021-12-14T08:03:04.531Z"
   },
   {
    "duration": 44,
    "start_time": "2021-12-14T08:03:38.594Z"
   },
   {
    "duration": 41,
    "start_time": "2021-12-14T08:03:56.890Z"
   },
   {
    "duration": 185,
    "start_time": "2021-12-14T08:04:31.694Z"
   },
   {
    "duration": 1179,
    "start_time": "2021-12-14T08:05:54.631Z"
   },
   {
    "duration": 10,
    "start_time": "2021-12-14T08:06:06.109Z"
   },
   {
    "duration": 10,
    "start_time": "2021-12-14T08:06:18.742Z"
   },
   {
    "duration": 5,
    "start_time": "2021-12-14T08:06:51.590Z"
   },
   {
    "duration": 7,
    "start_time": "2021-12-14T08:09:25.731Z"
   },
   {
    "duration": 5,
    "start_time": "2021-12-14T08:09:28.082Z"
   },
   {
    "duration": 745,
    "start_time": "2021-12-14T18:03:23.820Z"
   },
   {
    "duration": 170,
    "start_time": "2021-12-14T18:03:24.568Z"
   },
   {
    "duration": 23,
    "start_time": "2021-12-14T18:03:24.741Z"
   },
   {
    "duration": 32,
    "start_time": "2021-12-14T18:03:24.767Z"
   },
   {
    "duration": 22,
    "start_time": "2021-12-14T18:03:24.802Z"
   },
   {
    "duration": 25,
    "start_time": "2021-12-14T18:03:24.827Z"
   },
   {
    "duration": 10,
    "start_time": "2021-12-14T18:03:24.854Z"
   },
   {
    "duration": 30,
    "start_time": "2021-12-14T18:03:24.866Z"
   },
   {
    "duration": 21,
    "start_time": "2021-12-14T18:03:24.924Z"
   },
   {
    "duration": 26,
    "start_time": "2021-12-14T18:03:24.948Z"
   },
   {
    "duration": 101,
    "start_time": "2021-12-14T18:03:24.977Z"
   },
   {
    "duration": 102,
    "start_time": "2021-12-14T18:03:25.081Z"
   },
   {
    "duration": 78,
    "start_time": "2021-12-14T18:03:25.185Z"
   },
   {
    "duration": 14,
    "start_time": "2021-12-14T18:03:25.265Z"
   },
   {
    "duration": 14,
    "start_time": "2021-12-14T18:03:25.281Z"
   },
   {
    "duration": 32,
    "start_time": "2021-12-14T18:03:25.297Z"
   },
   {
    "duration": 26,
    "start_time": "2021-12-14T18:03:25.332Z"
   },
   {
    "duration": 20,
    "start_time": "2021-12-14T18:03:25.360Z"
   },
   {
    "duration": 41,
    "start_time": "2021-12-14T18:03:25.383Z"
   },
   {
    "duration": 25,
    "start_time": "2021-12-14T18:03:25.426Z"
   },
   {
    "duration": 18,
    "start_time": "2021-12-14T18:03:25.454Z"
   },
   {
    "duration": 50,
    "start_time": "2021-12-14T18:03:25.475Z"
   },
   {
    "duration": 17,
    "start_time": "2021-12-14T18:03:25.527Z"
   },
   {
    "duration": 19,
    "start_time": "2021-12-14T18:03:25.547Z"
   },
   {
    "duration": 17,
    "start_time": "2021-12-14T18:03:25.568Z"
   },
   {
    "duration": 113,
    "start_time": "2021-12-14T18:03:25.587Z"
   },
   {
    "duration": 25,
    "start_time": "2021-12-14T18:03:25.704Z"
   },
   {
    "duration": 11,
    "start_time": "2021-12-14T18:03:25.731Z"
   },
   {
    "duration": 14,
    "start_time": "2021-12-14T18:03:25.744Z"
   },
   {
    "duration": 53,
    "start_time": "2021-12-14T18:03:25.760Z"
   },
   {
    "duration": 17,
    "start_time": "2021-12-14T18:03:25.815Z"
   },
   {
    "duration": 19,
    "start_time": "2021-12-14T18:03:25.835Z"
   },
   {
    "duration": 17,
    "start_time": "2021-12-14T18:03:25.856Z"
   },
   {
    "duration": 12,
    "start_time": "2021-12-14T18:03:25.875Z"
   },
   {
    "duration": 34,
    "start_time": "2021-12-14T18:03:25.889Z"
   },
   {
    "duration": 8,
    "start_time": "2021-12-14T18:03:25.926Z"
   },
   {
    "duration": 18,
    "start_time": "2021-12-14T18:03:25.936Z"
   }
  ],
  "colab": {
   "collapsed_sections": [
    "E0vqbgi9ay0H",
    "VUC88oWjTJw2"
   ],
   "name": "yandex_music_project_2021.2.ipynb",
   "provenance": []
  },
  "kernelspec": {
   "display_name": "Python 3 (ipykernel)",
   "language": "python",
   "name": "python3"
  },
  "language_info": {
   "codemirror_mode": {
    "name": "ipython",
    "version": 3
   },
   "file_extension": ".py",
   "mimetype": "text/x-python",
   "name": "python",
   "nbconvert_exporter": "python",
   "pygments_lexer": "ipython3",
   "version": "3.9.5"
  },
  "toc": {
   "base_numbering": 1,
   "nav_menu": {},
   "number_sections": true,
   "sideBar": true,
   "skip_h1_title": true,
   "title_cell": "Table of Contents",
   "title_sidebar": "Contents",
   "toc_cell": false,
   "toc_position": {
    "height": "calc(100% - 180px)",
    "left": "10px",
    "top": "150px",
    "width": "165px"
   },
   "toc_section_display": true,
   "toc_window_display": true
  }
 },
 "nbformat": 4,
 "nbformat_minor": 1
}
