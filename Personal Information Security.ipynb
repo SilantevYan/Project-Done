{
 "cells": [
  {
   "cell_type": "markdown",
   "metadata": {
    "toc": true
   },
   "source": [
    "<h1>Содержание<span class=\"tocSkip\"></span></h1>\n",
    "<div class=\"toc\"><ul class=\"toc-item\"><li><span><a href=\"#Загрузка-данных\" data-toc-modified-id=\"Загрузка-данных-1\"><span class=\"toc-item-num\">1&nbsp;&nbsp;</span>Загрузка данных</a></span></li><li><span><a href=\"#Умножение-матриц\" data-toc-modified-id=\"Умножение-матриц-2\"><span class=\"toc-item-num\">2&nbsp;&nbsp;</span>Умножение матриц</a></span></li><li><span><a href=\"#Алгоритм-преобразования\" data-toc-modified-id=\"Алгоритм-преобразования-3\"><span class=\"toc-item-num\">3&nbsp;&nbsp;</span>Алгоритм преобразования</a></span></li><li><span><a href=\"#Проверка-алгоритма\" data-toc-modified-id=\"Проверка-алгоритма-4\"><span class=\"toc-item-num\">4&nbsp;&nbsp;</span>Проверка алгоритма</a></span></li><li><span><a href=\"#Выводы\" data-toc-modified-id=\"Выводы-5\"><span class=\"toc-item-num\">5&nbsp;&nbsp;</span>Выводы</a></span></li><li><span><a href=\"#Чек-лист-проверки\" data-toc-modified-id=\"Чек-лист-проверки-6\"><span class=\"toc-item-num\">6&nbsp;&nbsp;</span>Чек-лист проверки</a></span></li></ul></div>"
   ]
  },
  {
   "cell_type": "markdown",
   "metadata": {},
   "source": [
    "# Защита персональных данных клиентов"
   ]
  },
  {
   "cell_type": "markdown",
   "metadata": {},
   "source": [
    "Вам нужно защитить данные клиентов страховой компании «Хоть потоп». Разработайте такой метод преобразования данных, чтобы по ним было сложно восстановить персональную информацию. Обоснуйте корректность его работы.\n",
    "\n",
    "Нужно защитить данные, чтобы при преобразовании качество моделей машинного обучения не ухудшилось. Подбирать наилучшую модель не требуется."
   ]
  },
  {
   "cell_type": "markdown",
   "metadata": {},
   "source": [
    "## Загрузка данных"
   ]
  },
  {
   "cell_type": "code",
   "execution_count": 1,
   "metadata": {},
   "outputs": [],
   "source": [
    "import pandas as pd\n",
    "import numpy as np\n",
    "\n",
    "\n",
    "from sklearn.linear_model import LinearRegression\n",
    "from sklearn.metrics import r2_score\n",
    "from sklearn.model_selection import train_test_split,cross_val_score\n"
   ]
  },
  {
   "cell_type": "code",
   "execution_count": 2,
   "metadata": {},
   "outputs": [],
   "source": [
    "df= pd.read_csv('/datasets/insurance.csv')"
   ]
  },
  {
   "cell_type": "code",
   "execution_count": 3,
   "metadata": {},
   "outputs": [
    {
     "name": "stdout",
     "output_type": "stream",
     "text": [
      "<class 'pandas.core.frame.DataFrame'>\n",
      "RangeIndex: 5000 entries, 0 to 4999\n",
      "Data columns (total 5 columns):\n",
      " #   Column             Non-Null Count  Dtype  \n",
      "---  ------             --------------  -----  \n",
      " 0   Пол                5000 non-null   int64  \n",
      " 1   Возраст            5000 non-null   float64\n",
      " 2   Зарплата           5000 non-null   float64\n",
      " 3   Члены семьи        5000 non-null   int64  \n",
      " 4   Страховые выплаты  5000 non-null   int64  \n",
      "dtypes: float64(2), int64(3)\n",
      "memory usage: 195.4 KB\n"
     ]
    }
   ],
   "source": [
    "df.info()"
   ]
  },
  {
   "cell_type": "code",
   "execution_count": 4,
   "metadata": {},
   "outputs": [
    {
     "data": {
      "text/plain": [
       "Index(['Пол', 'Возраст', 'Зарплата', 'Члены семьи', 'Страховые выплаты'], dtype='object')"
      ]
     },
     "execution_count": 4,
     "metadata": {},
     "output_type": "execute_result"
    }
   ],
   "source": [
    "df.columns"
   ]
  },
  {
   "cell_type": "code",
   "execution_count": 5,
   "metadata": {},
   "outputs": [
    {
     "data": {
      "text/html": [
       "<div>\n",
       "<style scoped>\n",
       "    .dataframe tbody tr th:only-of-type {\n",
       "        vertical-align: middle;\n",
       "    }\n",
       "\n",
       "    .dataframe tbody tr th {\n",
       "        vertical-align: top;\n",
       "    }\n",
       "\n",
       "    .dataframe thead th {\n",
       "        text-align: right;\n",
       "    }\n",
       "</style>\n",
       "<table border=\"1\" class=\"dataframe\">\n",
       "  <thead>\n",
       "    <tr style=\"text-align: right;\">\n",
       "      <th></th>\n",
       "      <th>Пол</th>\n",
       "      <th>Возраст</th>\n",
       "      <th>Зарплата</th>\n",
       "      <th>Члены семьи</th>\n",
       "      <th>Страховые выплаты</th>\n",
       "    </tr>\n",
       "  </thead>\n",
       "  <tbody>\n",
       "    <tr>\n",
       "      <th>count</th>\n",
       "      <td>5000.000000</td>\n",
       "      <td>5000.000000</td>\n",
       "      <td>5000.000000</td>\n",
       "      <td>5000.000000</td>\n",
       "      <td>5000.000000</td>\n",
       "    </tr>\n",
       "    <tr>\n",
       "      <th>mean</th>\n",
       "      <td>0.499000</td>\n",
       "      <td>30.952800</td>\n",
       "      <td>39916.360000</td>\n",
       "      <td>1.194200</td>\n",
       "      <td>0.148000</td>\n",
       "    </tr>\n",
       "    <tr>\n",
       "      <th>std</th>\n",
       "      <td>0.500049</td>\n",
       "      <td>8.440807</td>\n",
       "      <td>9900.083569</td>\n",
       "      <td>1.091387</td>\n",
       "      <td>0.463183</td>\n",
       "    </tr>\n",
       "    <tr>\n",
       "      <th>min</th>\n",
       "      <td>0.000000</td>\n",
       "      <td>18.000000</td>\n",
       "      <td>5300.000000</td>\n",
       "      <td>0.000000</td>\n",
       "      <td>0.000000</td>\n",
       "    </tr>\n",
       "    <tr>\n",
       "      <th>25%</th>\n",
       "      <td>0.000000</td>\n",
       "      <td>24.000000</td>\n",
       "      <td>33300.000000</td>\n",
       "      <td>0.000000</td>\n",
       "      <td>0.000000</td>\n",
       "    </tr>\n",
       "    <tr>\n",
       "      <th>50%</th>\n",
       "      <td>0.000000</td>\n",
       "      <td>30.000000</td>\n",
       "      <td>40200.000000</td>\n",
       "      <td>1.000000</td>\n",
       "      <td>0.000000</td>\n",
       "    </tr>\n",
       "    <tr>\n",
       "      <th>75%</th>\n",
       "      <td>1.000000</td>\n",
       "      <td>37.000000</td>\n",
       "      <td>46600.000000</td>\n",
       "      <td>2.000000</td>\n",
       "      <td>0.000000</td>\n",
       "    </tr>\n",
       "    <tr>\n",
       "      <th>max</th>\n",
       "      <td>1.000000</td>\n",
       "      <td>65.000000</td>\n",
       "      <td>79000.000000</td>\n",
       "      <td>6.000000</td>\n",
       "      <td>5.000000</td>\n",
       "    </tr>\n",
       "  </tbody>\n",
       "</table>\n",
       "</div>"
      ],
      "text/plain": [
       "               Пол      Возраст      Зарплата  Члены семьи  Страховые выплаты\n",
       "count  5000.000000  5000.000000   5000.000000  5000.000000        5000.000000\n",
       "mean      0.499000    30.952800  39916.360000     1.194200           0.148000\n",
       "std       0.500049     8.440807   9900.083569     1.091387           0.463183\n",
       "min       0.000000    18.000000   5300.000000     0.000000           0.000000\n",
       "25%       0.000000    24.000000  33300.000000     0.000000           0.000000\n",
       "50%       0.000000    30.000000  40200.000000     1.000000           0.000000\n",
       "75%       1.000000    37.000000  46600.000000     2.000000           0.000000\n",
       "max       1.000000    65.000000  79000.000000     6.000000           5.000000"
      ]
     },
     "execution_count": 5,
     "metadata": {},
     "output_type": "execute_result"
    }
   ],
   "source": [
    "df.describe()"
   ]
  },
  {
   "cell_type": "code",
   "execution_count": 6,
   "metadata": {},
   "outputs": [
    {
     "data": {
      "text/html": [
       "<div>\n",
       "<style scoped>\n",
       "    .dataframe tbody tr th:only-of-type {\n",
       "        vertical-align: middle;\n",
       "    }\n",
       "\n",
       "    .dataframe tbody tr th {\n",
       "        vertical-align: top;\n",
       "    }\n",
       "\n",
       "    .dataframe thead th {\n",
       "        text-align: right;\n",
       "    }\n",
       "</style>\n",
       "<table border=\"1\" class=\"dataframe\">\n",
       "  <thead>\n",
       "    <tr style=\"text-align: right;\">\n",
       "      <th></th>\n",
       "      <th>Пол</th>\n",
       "      <th>Возраст</th>\n",
       "      <th>Зарплата</th>\n",
       "      <th>Члены семьи</th>\n",
       "      <th>Страховые выплаты</th>\n",
       "    </tr>\n",
       "  </thead>\n",
       "  <tbody>\n",
       "    <tr>\n",
       "      <th>0</th>\n",
       "      <td>1</td>\n",
       "      <td>41.0</td>\n",
       "      <td>49600.0</td>\n",
       "      <td>1</td>\n",
       "      <td>0</td>\n",
       "    </tr>\n",
       "    <tr>\n",
       "      <th>1</th>\n",
       "      <td>0</td>\n",
       "      <td>46.0</td>\n",
       "      <td>38000.0</td>\n",
       "      <td>1</td>\n",
       "      <td>1</td>\n",
       "    </tr>\n",
       "    <tr>\n",
       "      <th>2</th>\n",
       "      <td>0</td>\n",
       "      <td>29.0</td>\n",
       "      <td>21000.0</td>\n",
       "      <td>0</td>\n",
       "      <td>0</td>\n",
       "    </tr>\n",
       "    <tr>\n",
       "      <th>3</th>\n",
       "      <td>0</td>\n",
       "      <td>21.0</td>\n",
       "      <td>41700.0</td>\n",
       "      <td>2</td>\n",
       "      <td>0</td>\n",
       "    </tr>\n",
       "    <tr>\n",
       "      <th>4</th>\n",
       "      <td>1</td>\n",
       "      <td>28.0</td>\n",
       "      <td>26100.0</td>\n",
       "      <td>0</td>\n",
       "      <td>0</td>\n",
       "    </tr>\n",
       "    <tr>\n",
       "      <th>5</th>\n",
       "      <td>1</td>\n",
       "      <td>43.0</td>\n",
       "      <td>41000.0</td>\n",
       "      <td>2</td>\n",
       "      <td>1</td>\n",
       "    </tr>\n",
       "    <tr>\n",
       "      <th>6</th>\n",
       "      <td>1</td>\n",
       "      <td>39.0</td>\n",
       "      <td>39700.0</td>\n",
       "      <td>2</td>\n",
       "      <td>0</td>\n",
       "    </tr>\n",
       "    <tr>\n",
       "      <th>7</th>\n",
       "      <td>1</td>\n",
       "      <td>25.0</td>\n",
       "      <td>38600.0</td>\n",
       "      <td>4</td>\n",
       "      <td>0</td>\n",
       "    </tr>\n",
       "    <tr>\n",
       "      <th>8</th>\n",
       "      <td>1</td>\n",
       "      <td>36.0</td>\n",
       "      <td>49700.0</td>\n",
       "      <td>1</td>\n",
       "      <td>0</td>\n",
       "    </tr>\n",
       "    <tr>\n",
       "      <th>9</th>\n",
       "      <td>1</td>\n",
       "      <td>32.0</td>\n",
       "      <td>51700.0</td>\n",
       "      <td>1</td>\n",
       "      <td>0</td>\n",
       "    </tr>\n",
       "  </tbody>\n",
       "</table>\n",
       "</div>"
      ],
      "text/plain": [
       "   Пол  Возраст  Зарплата  Члены семьи  Страховые выплаты\n",
       "0    1     41.0   49600.0            1                  0\n",
       "1    0     46.0   38000.0            1                  1\n",
       "2    0     29.0   21000.0            0                  0\n",
       "3    0     21.0   41700.0            2                  0\n",
       "4    1     28.0   26100.0            0                  0\n",
       "5    1     43.0   41000.0            2                  1\n",
       "6    1     39.0   39700.0            2                  0\n",
       "7    1     25.0   38600.0            4                  0\n",
       "8    1     36.0   49700.0            1                  0\n",
       "9    1     32.0   51700.0            1                  0"
      ]
     },
     "execution_count": 6,
     "metadata": {},
     "output_type": "execute_result"
    }
   ],
   "source": [
    "df.head(10)"
   ]
  },
  {
   "cell_type": "markdown",
   "metadata": {},
   "source": [
    "- Пропусков в данных нет;\n",
    "- Переименуем столбцы согласно правилам;\n",
    "- Стоит изменить столбцы возвраста и зарплаты на целочисленные."
   ]
  },
  {
   "cell_type": "code",
   "execution_count": 7,
   "metadata": {},
   "outputs": [],
   "source": [
    "df = df.rename(columns={'Пол':'gender','Возраст':'age',\n",
    "                      'Зарплата':'salary','Члены семьи':'family',\n",
    "                      'Страховые выплаты':'payment'})"
   ]
  },
  {
   "cell_type": "code",
   "execution_count": 8,
   "metadata": {},
   "outputs": [],
   "source": [
    "df[['age','salary']] = df[['age','salary']].astype('int64')"
   ]
  },
  {
   "cell_type": "code",
   "execution_count": 9,
   "metadata": {},
   "outputs": [
    {
     "data": {
      "text/html": [
       "<div>\n",
       "<style scoped>\n",
       "    .dataframe tbody tr th:only-of-type {\n",
       "        vertical-align: middle;\n",
       "    }\n",
       "\n",
       "    .dataframe tbody tr th {\n",
       "        vertical-align: top;\n",
       "    }\n",
       "\n",
       "    .dataframe thead th {\n",
       "        text-align: right;\n",
       "    }\n",
       "</style>\n",
       "<table border=\"1\" class=\"dataframe\">\n",
       "  <thead>\n",
       "    <tr style=\"text-align: right;\">\n",
       "      <th></th>\n",
       "      <th>gender</th>\n",
       "      <th>age</th>\n",
       "      <th>salary</th>\n",
       "      <th>family</th>\n",
       "      <th>payment</th>\n",
       "    </tr>\n",
       "  </thead>\n",
       "  <tbody>\n",
       "    <tr>\n",
       "      <th>0</th>\n",
       "      <td>1</td>\n",
       "      <td>41</td>\n",
       "      <td>49600</td>\n",
       "      <td>1</td>\n",
       "      <td>0</td>\n",
       "    </tr>\n",
       "    <tr>\n",
       "      <th>1</th>\n",
       "      <td>0</td>\n",
       "      <td>46</td>\n",
       "      <td>38000</td>\n",
       "      <td>1</td>\n",
       "      <td>1</td>\n",
       "    </tr>\n",
       "    <tr>\n",
       "      <th>2</th>\n",
       "      <td>0</td>\n",
       "      <td>29</td>\n",
       "      <td>21000</td>\n",
       "      <td>0</td>\n",
       "      <td>0</td>\n",
       "    </tr>\n",
       "    <tr>\n",
       "      <th>3</th>\n",
       "      <td>0</td>\n",
       "      <td>21</td>\n",
       "      <td>41700</td>\n",
       "      <td>2</td>\n",
       "      <td>0</td>\n",
       "    </tr>\n",
       "    <tr>\n",
       "      <th>4</th>\n",
       "      <td>1</td>\n",
       "      <td>28</td>\n",
       "      <td>26100</td>\n",
       "      <td>0</td>\n",
       "      <td>0</td>\n",
       "    </tr>\n",
       "    <tr>\n",
       "      <th>5</th>\n",
       "      <td>1</td>\n",
       "      <td>43</td>\n",
       "      <td>41000</td>\n",
       "      <td>2</td>\n",
       "      <td>1</td>\n",
       "    </tr>\n",
       "    <tr>\n",
       "      <th>6</th>\n",
       "      <td>1</td>\n",
       "      <td>39</td>\n",
       "      <td>39700</td>\n",
       "      <td>2</td>\n",
       "      <td>0</td>\n",
       "    </tr>\n",
       "    <tr>\n",
       "      <th>7</th>\n",
       "      <td>1</td>\n",
       "      <td>25</td>\n",
       "      <td>38600</td>\n",
       "      <td>4</td>\n",
       "      <td>0</td>\n",
       "    </tr>\n",
       "    <tr>\n",
       "      <th>8</th>\n",
       "      <td>1</td>\n",
       "      <td>36</td>\n",
       "      <td>49700</td>\n",
       "      <td>1</td>\n",
       "      <td>0</td>\n",
       "    </tr>\n",
       "    <tr>\n",
       "      <th>9</th>\n",
       "      <td>1</td>\n",
       "      <td>32</td>\n",
       "      <td>51700</td>\n",
       "      <td>1</td>\n",
       "      <td>0</td>\n",
       "    </tr>\n",
       "  </tbody>\n",
       "</table>\n",
       "</div>"
      ],
      "text/plain": [
       "   gender  age  salary  family  payment\n",
       "0       1   41   49600       1        0\n",
       "1       0   46   38000       1        1\n",
       "2       0   29   21000       0        0\n",
       "3       0   21   41700       2        0\n",
       "4       1   28   26100       0        0\n",
       "5       1   43   41000       2        1\n",
       "6       1   39   39700       2        0\n",
       "7       1   25   38600       4        0\n",
       "8       1   36   49700       1        0\n",
       "9       1   32   51700       1        0"
      ]
     },
     "execution_count": 9,
     "metadata": {},
     "output_type": "execute_result"
    }
   ],
   "source": [
    "df.head(10)"
   ]
  },
  {
   "cell_type": "markdown",
   "metadata": {},
   "source": [
    "Дальнейших обработок данных не требуется,можно приступать к следующему шагу."
   ]
  },
  {
   "cell_type": "markdown",
   "metadata": {},
   "source": [
    "## Умножение матриц"
   ]
  },
  {
   "cell_type": "markdown",
   "metadata": {},
   "source": [
    "В этом задании вы можете записывать формулы в *Jupyter Notebook.*\n",
    "\n",
    "Чтобы записать формулу внутри текста, окружите её символами доллара \\\\$; если снаружи —  двойными символами \\\\$\\\\$. Эти формулы записываются на языке вёрстки *LaTeX.* \n",
    "\n",
    "Для примера мы записали формулы линейной регрессии. Можете их скопировать и отредактировать, чтобы решить задачу.\n",
    "\n",
    "Работать в *LaTeX* необязательно."
   ]
  },
  {
   "cell_type": "markdown",
   "metadata": {},
   "source": [
    "Обозначения:\n",
    "\n",
    "- $X$ — матрица признаков (нулевой столбец состоит из единиц)\n",
    "\n",
    "- $y$ — вектор целевого признака\n",
    "\n",
    "- $P$ — матрица, на которую умножаются признаки\n",
    "\n",
    "- $w$ — вектор весов линейной регрессии (нулевой элемент равен сдвигу)"
   ]
  },
  {
   "cell_type": "markdown",
   "metadata": {},
   "source": [
    "Предсказания:\n",
    "\n",
    "$$\n",
    "a = Xw\n",
    "$$\n",
    "\n",
    "Задача обучения:\n",
    "\n",
    "$$\n",
    "w = \\arg\\min_w MSE(Xw, y)\n",
    "$$\n",
    "\n",
    "Формула обучения:\n",
    "\n",
    "$$\n",
    "w = (X^T X)^{-1} X^T y\n",
    "$$"
   ]
  },
  {
   "cell_type": "markdown",
   "metadata": {},
   "source": [
    "Признаки умножают на обратимую матрицу. Изменится ли качество линейной регрессии?"
   ]
  },
  {
   "cell_type": "markdown",
   "metadata": {},
   "source": [
    "Для предсказания будет использоваться матрица признаков 'gender','age','salary','family',серия с выплатами будет целевым признаком"
   ]
  },
  {
   "cell_type": "markdown",
   "metadata": {},
   "source": [
    "Формула обучения линейной регресии:\n",
    "\n",
    "$$\n",
    "w = (X^T X)^{-1} X^T y\n",
    "$$\n",
    "\n",
    "Новая матрица будет иметь вид \n",
    " \n",
    " $$A=XP$$\n",
    " \n",
    "Новые предсказания будут иметь вид\n",
    " \n",
    "$$a_n =  Aw_n = XPw_n$$\n",
    "\n",
    "Новая формула обучения \n",
    "\n",
    "$$w_n=((XP^T) XP))^{-1} (XP)^T y $$\n",
    "\n",
    "Согласно свойствам транспонирования матриц $(XP)^T=P^TX^T$,перепишем уравнение\n",
    "\n",
    "$$w_n = (P^TX^TXP)^{-1}P^TX^Ty$$\n",
    "\n",
    "Так же матрицы  $X$  и $X^T$ прямоугольные, поэтому для них не существует обратных матриц и  нельзя писать раздельно, поэтому значение в скобках $((XP^T) XP))^{-1}$ мы оставим как есть, а $P$ явлется квадратной матрицей. При раскрытии скобок нужно менять порядок множителей местами, поэтому $P$ ставим в начало\n",
    "\n",
    "$$w_n = P^{-1}(X^TX)^{-1}(P^T)^{-1} P^TX^Ty$$\n",
    "\n",
    "Произведение $(P^T)^{-1}$ и $P^T$ представляет собой единичную матрицу,сократим их\n",
    "\n",
    "$$w_n=P^{-1}(X^TX)^{-1}X^Ty$$\n",
    "\n",
    "Поскольку $(X^T X)^{-1} X^T y$ является мерой весов в модели или $w$ - перепишем уравнение\n",
    "\n",
    "$$w_n=P^{-1}w$$\n",
    "\n",
    "Тогда новые предсказания будут иметь вид\n",
    "$$a_n = XPP^{-1}w$$\n",
    "\n",
    "Исходя из правила, что умножение квадратной матрицы $А$ на обратную ей $А^{-1}$ получается так же единичная матрица:\n",
    "\n",
    "$$a_n = Xw = a$$\n",
    "\n",
    "**Таким образом, качество регрессии не изменится,поскольку зашифрованные признаки будут фактически либо равны либо крайне близки по метрике оригиналу**"
   ]
  },
  {
   "cell_type": "markdown",
   "metadata": {},
   "source": [
    "**Ответ:** *При шифровании признаков качество регрессии не изменится*\n",
    "\n",
    "**Обоснование:** *Это обусловлено тем, что при формуле обучения линейной регресии новые зашифрованные признаки будут равны или кране близки к старым*"
   ]
  },
  {
   "cell_type": "markdown",
   "metadata": {},
   "source": [
    "## Алгоритм преобразования"
   ]
  },
  {
   "cell_type": "markdown",
   "metadata": {},
   "source": [
    "**Алгоритм**\n",
    "\n",
    "1) Первым делом мы разделим признаки на фичи и целевой признак;\n",
    "\n",
    "2) Возьмем случайную квадратную матрицу;\n",
    "\n",
    "3) Для начала обучим модель линейной регрессии на обычных,незашифрованных данных;\n",
    "\n",
    "4) Посчитаем для этих данных метрику r2_score;\n",
    "\n",
    "5) Далее фичи умножим на нашу квадратную случайно сгенерированную матрицу;\n",
    "\n",
    "6) У нее так же посчитаем метрику r2_score;\n",
    "\n",
    "7) Далее сравним, какая получилась разница между этими двумя метриками\n",
    "\n",
    "9) Сделаем выводы по полученным результатам.\n"
   ]
  },
  {
   "cell_type": "markdown",
   "metadata": {},
   "source": [
    "**Обоснование**\n",
    "Мы проведем проверку по коэффициенту детерминаии для двух моделей,обученных на зашифрованных и незашифрованных данных,далее сравним показатели. Так же посмотрим признаки модели, чтобы была возможность отследить, что могло измениться в наших моделях. Если же метрики сойдутся, идея будет доказана."
   ]
  },
  {
   "cell_type": "markdown",
   "metadata": {},
   "source": [
    "## Проверка алгоритма"
   ]
  },
  {
   "cell_type": "markdown",
   "metadata": {},
   "source": [
    "Разделим выборки"
   ]
  },
  {
   "cell_type": "code",
   "execution_count": 11,
   "metadata": {},
   "outputs": [],
   "source": [
    "features = df.drop('payment',axis=1)\n",
    "target = df['payment']\n",
    "\n",
    "features_train,features_test,target_train,target_test = train_test_split(features,target,test_size=0.33, random_state=12345)"
   ]
  },
  {
   "cell_type": "markdown",
   "metadata": {},
   "source": [
    "Посмтрим размер выборок"
   ]
  },
  {
   "cell_type": "code",
   "execution_count": 12,
   "metadata": {},
   "outputs": [
    {
     "name": "stdout",
     "output_type": "stream",
     "text": [
      "(3350, 4)\n",
      "(1650, 4)\n"
     ]
    }
   ],
   "source": [
    "print(features_train.shape)\n",
    "print(features_test.shape)"
   ]
  },
  {
   "cell_type": "code",
   "execution_count": 13,
   "metadata": {},
   "outputs": [
    {
     "name": "stdout",
     "output_type": "stream",
     "text": [
      "(3350,)\n",
      "(1650,)\n"
     ]
    }
   ],
   "source": [
    "print(target_train.shape)\n",
    "print(target_test.shape)"
   ]
  },
  {
   "cell_type": "markdown",
   "metadata": {},
   "source": [
    "Всё отлично, теперь обучим модель без шифрования и посомтрим,какой коэффициент детерминации у нас получится, а так же оценим параметры обсчёта модели, которые в дальнейшем мы сможем сравнить с моделью с измененными фичами."
   ]
  },
  {
   "cell_type": "code",
   "execution_count": 14,
   "metadata": {},
   "outputs": [
    {
     "name": "stdout",
     "output_type": "stream",
     "text": [
      "Средний коэфициент детерминации R2 на тестовой выборке равен 0.4269864803108606\n",
      "Коэффициенты получившейся модели [ 1.46559127e-02  3.60925527e-02 -1.18312871e-07 -1.18313026e-02]\n",
      "Intercept получившейся модели -0.9576320116572752\n"
     ]
    }
   ],
   "source": [
    "model = LinearRegression()\n",
    "model.fit(features_train,target_train)\n",
    "predictions = model.predict(features_test)\n",
    "r2 = r2_score(target_test,predictions)\n",
    "              \n",
    "print(f'Средний коэфициент детерминации R2 на тестовой выборке равен {r2}')\n",
    "print(f\"Коэффициенты получившейся модели {model.coef_}\")\n",
    "print(f\"Intercept получившейся модели {model.intercept_}\")"
   ]
  },
  {
   "cell_type": "markdown",
   "metadata": {},
   "source": [
    "Далее напишем функцию для \"шифровки наших параметров\" и проверим ее так же на модели линейной регрессии"
   ]
  },
  {
   "cell_type": "code",
   "execution_count": 55,
   "metadata": {},
   "outputs": [],
   "source": [
    "m = []\n",
    "\n",
    "def m_check (m):\n",
    "    m_new = np.linalg.inv(m)\n",
    "    if np.allclose(np.dot(m, m_new), np.eye(m.shape[0])) is True:\n",
    "        return  True\n",
    "    else:\n",
    "        return False\n",
    "\n",
    "\n",
    "def anonim (features_train,target_train):\n",
    "    m = np.random.normal(size=(features.shape[1], features.shape[1]))\n",
    "    if m_check(m) is True:\n",
    "        m_train = np.dot(features_train.values,m)\n",
    "        m_test = np.dot(features_test.values,m)\n",
    "        print('Матрица обратимая,можно строить модель')\n",
    "        return m_train,m_test\n",
    "    else: \n",
    "        print('Всё сломалось')"
   ]
  },
  {
   "cell_type": "markdown",
   "metadata": {},
   "source": [
    "Применим нашу функцию для шифровки"
   ]
  },
  {
   "cell_type": "code",
   "execution_count": 56,
   "metadata": {},
   "outputs": [
    {
     "name": "stdout",
     "output_type": "stream",
     "text": [
      "Матрица обратимая,можно строить модель\n"
     ]
    }
   ],
   "source": [
    "features_train_new,features_test_new = anonim(features_train,target_train)"
   ]
  },
  {
   "cell_type": "code",
   "execution_count": 57,
   "metadata": {},
   "outputs": [
    {
     "name": "stdout",
     "output_type": "stream",
     "text": [
      "Средний коэфициент детерминации R2 на тестовой выборке равен 0.42698648031084885\n",
      "Коэффициенты получившейся модели [ 0.03728525  0.0858241   0.00259828 -0.00842229]\n",
      "Intercept получившейся модели -0.9576320116554928\n"
     ]
    }
   ],
   "source": [
    "model = LinearRegression()\n",
    "model.fit(features_train_new,target_train)\n",
    "predictions = model.predict(features_test_new)\n",
    "r2 = r2_score(target_test,predictions)\n",
    "              \n",
    "print(f'Средний коэфициент детерминации R2 на тестовой выборке равен {r2}')\n",
    "print(f\"Коэффициенты получившейся модели {model.coef_}\")\n",
    "print(f\"Intercept получившейся модели {model.intercept_}\")"
   ]
  },
  {
   "cell_type": "markdown",
   "metadata": {},
   "source": [
    "## Выводы"
   ]
  },
  {
   "cell_type": "markdown",
   "metadata": {},
   "source": [
    "- Как мы видим, значение метрики не изменилось - **0.42699** в обоих случаях, для зашифрованных и оригинальных признаков;\n",
    "- Параметр $intercept$ у зашифрованной и оригинальной модели так же одинаковые - **-0.9576**;\n",
    "- Коэффициенты же у моделей различаются, это было ожидаемо, ведь мы умножаем наши признаки на матрицу, что влечет за собой изменение коэффициентов. На качество модели это, тем не менее, не сказывается, что и требовалось доказать."
   ]
  }
 ],
 "metadata": {
  "ExecuteTimeLog": [
   {
    "duration": 1460,
    "start_time": "2022-04-29T21:11:17.438Z"
   },
   {
    "duration": 99,
    "start_time": "2022-04-29T21:11:37.818Z"
   },
   {
    "duration": 11,
    "start_time": "2022-04-29T21:11:46.286Z"
   },
   {
    "duration": 8,
    "start_time": "2022-04-29T21:11:53.798Z"
   },
   {
    "duration": 23,
    "start_time": "2022-04-29T21:12:02.078Z"
   },
   {
    "duration": 51,
    "start_time": "2022-04-30T12:26:31.629Z"
   },
   {
    "duration": 1268,
    "start_time": "2022-04-30T12:26:39.422Z"
   },
   {
    "duration": 69,
    "start_time": "2022-04-30T12:26:40.692Z"
   },
   {
    "duration": 13,
    "start_time": "2022-04-30T12:26:40.762Z"
   },
   {
    "duration": 9,
    "start_time": "2022-04-30T12:26:40.777Z"
   },
   {
    "duration": 28,
    "start_time": "2022-04-30T12:26:40.788Z"
   },
   {
    "duration": 9,
    "start_time": "2022-04-30T12:26:40.834Z"
   },
   {
    "duration": 10,
    "start_time": "2022-04-30T12:29:39.703Z"
   },
   {
    "duration": 16,
    "start_time": "2022-04-30T12:37:18.800Z"
   },
   {
    "duration": 111,
    "start_time": "2022-04-30T12:38:33.389Z"
   },
   {
    "duration": 1172,
    "start_time": "2022-04-30T12:39:00.561Z"
   },
   {
    "duration": 13,
    "start_time": "2022-04-30T12:42:12.717Z"
   },
   {
    "duration": 4,
    "start_time": "2022-04-30T12:42:30.301Z"
   },
   {
    "duration": 6,
    "start_time": "2022-04-30T12:42:32.460Z"
   },
   {
    "duration": 8,
    "start_time": "2022-04-30T12:42:41.190Z"
   },
   {
    "duration": 4,
    "start_time": "2022-04-30T13:00:00.111Z"
   },
   {
    "duration": 3,
    "start_time": "2022-04-30T20:31:26.768Z"
   },
   {
    "duration": 3,
    "start_time": "2022-04-30T20:32:56.175Z"
   },
   {
    "duration": 3,
    "start_time": "2022-04-30T20:33:07.106Z"
   },
   {
    "duration": 4,
    "start_time": "2022-04-30T20:37:19.196Z"
   },
   {
    "duration": 3,
    "start_time": "2022-04-30T20:37:39.995Z"
   },
   {
    "duration": 3,
    "start_time": "2022-04-30T20:56:07.645Z"
   },
   {
    "duration": 3,
    "start_time": "2022-04-30T20:56:34.384Z"
   },
   {
    "duration": 11,
    "start_time": "2022-04-30T21:06:45.064Z"
   },
   {
    "duration": 3,
    "start_time": "2022-04-30T21:06:50.589Z"
   },
   {
    "duration": 6,
    "start_time": "2022-04-30T21:06:52.987Z"
   },
   {
    "duration": 11,
    "start_time": "2022-04-30T21:08:46.070Z"
   },
   {
    "duration": 27,
    "start_time": "2022-04-30T21:09:35.187Z"
   },
   {
    "duration": 12,
    "start_time": "2022-04-30T21:14:20.173Z"
   },
   {
    "duration": 15,
    "start_time": "2022-04-30T21:14:53.681Z"
   },
   {
    "duration": 8,
    "start_time": "2022-04-30T21:15:33.697Z"
   },
   {
    "duration": 8,
    "start_time": "2022-04-30T21:15:50.717Z"
   },
   {
    "duration": 6,
    "start_time": "2022-04-30T21:16:00.031Z"
   },
   {
    "duration": 14,
    "start_time": "2022-04-30T21:16:13.831Z"
   },
   {
    "duration": 10,
    "start_time": "2022-04-30T21:16:39.122Z"
   },
   {
    "duration": 15,
    "start_time": "2022-04-30T21:17:18.978Z"
   },
   {
    "duration": 4,
    "start_time": "2022-04-30T21:18:01.006Z"
   },
   {
    "duration": 3,
    "start_time": "2022-04-30T21:18:18.452Z"
   },
   {
    "duration": 3,
    "start_time": "2022-04-30T21:18:42.957Z"
   },
   {
    "duration": 12,
    "start_time": "2022-04-30T21:19:05.225Z"
   },
   {
    "duration": 20,
    "start_time": "2022-04-30T21:19:16.739Z"
   },
   {
    "duration": 14,
    "start_time": "2022-04-30T21:20:47.267Z"
   },
   {
    "duration": 15,
    "start_time": "2022-04-30T21:20:54.075Z"
   },
   {
    "duration": 193,
    "start_time": "2022-04-30T21:35:37.935Z"
   },
   {
    "duration": 169,
    "start_time": "2022-04-30T21:35:54.040Z"
   },
   {
    "duration": 178,
    "start_time": "2022-04-30T21:36:18.045Z"
   },
   {
    "duration": 158,
    "start_time": "2022-04-30T21:36:41.974Z"
   },
   {
    "duration": 24,
    "start_time": "2022-04-30T21:37:06.896Z"
   },
   {
    "duration": 10,
    "start_time": "2022-04-30T21:37:32.738Z"
   },
   {
    "duration": 9,
    "start_time": "2022-04-30T21:37:57.254Z"
   },
   {
    "duration": 15,
    "start_time": "2022-04-30T21:38:15.665Z"
   },
   {
    "duration": 8,
    "start_time": "2022-04-30T21:38:21.708Z"
   },
   {
    "duration": 9,
    "start_time": "2022-04-30T21:39:17.119Z"
   },
   {
    "duration": 9,
    "start_time": "2022-04-30T21:39:21.575Z"
   },
   {
    "duration": 8,
    "start_time": "2022-04-30T21:40:10.111Z"
   },
   {
    "duration": 12,
    "start_time": "2022-04-30T21:43:30.437Z"
   },
   {
    "duration": 3,
    "start_time": "2022-04-30T21:48:55.773Z"
   },
   {
    "duration": 12,
    "start_time": "2022-04-30T21:50:12.061Z"
   },
   {
    "duration": 5,
    "start_time": "2022-04-30T21:50:27.432Z"
   },
   {
    "duration": 14,
    "start_time": "2022-04-30T21:50:29.526Z"
   },
   {
    "duration": 4,
    "start_time": "2022-04-30T21:51:07.286Z"
   },
   {
    "duration": 12,
    "start_time": "2022-04-30T21:51:10.751Z"
   },
   {
    "duration": 3,
    "start_time": "2022-04-30T21:51:14.582Z"
   },
   {
    "duration": 3,
    "start_time": "2022-04-30T21:51:16.805Z"
   },
   {
    "duration": 7,
    "start_time": "2022-04-30T21:52:51.361Z"
   },
   {
    "duration": 14,
    "start_time": "2022-05-01T07:43:11.153Z"
   },
   {
    "duration": 46,
    "start_time": "2022-05-01T07:43:15.820Z"
   },
   {
    "duration": 1255,
    "start_time": "2022-05-01T07:43:22.104Z"
   },
   {
    "duration": 13,
    "start_time": "2022-05-01T07:43:23.361Z"
   },
   {
    "duration": 12,
    "start_time": "2022-05-01T07:43:23.376Z"
   },
   {
    "duration": 19,
    "start_time": "2022-05-01T07:43:23.390Z"
   },
   {
    "duration": 27,
    "start_time": "2022-05-01T07:43:23.411Z"
   },
   {
    "duration": 11,
    "start_time": "2022-05-01T07:43:23.439Z"
   },
   {
    "duration": 6,
    "start_time": "2022-05-01T07:43:23.451Z"
   },
   {
    "duration": 8,
    "start_time": "2022-05-01T07:43:23.459Z"
   },
   {
    "duration": 49,
    "start_time": "2022-05-01T07:43:23.469Z"
   },
   {
    "duration": 128,
    "start_time": "2022-05-01T07:43:23.521Z"
   },
   {
    "duration": 0,
    "start_time": "2022-05-01T07:43:23.651Z"
   },
   {
    "duration": 0,
    "start_time": "2022-05-01T07:43:23.652Z"
   },
   {
    "duration": 0,
    "start_time": "2022-05-01T07:43:23.654Z"
   },
   {
    "duration": 0,
    "start_time": "2022-05-01T07:43:23.656Z"
   },
   {
    "duration": 0,
    "start_time": "2022-05-01T07:43:23.657Z"
   },
   {
    "duration": 0,
    "start_time": "2022-05-01T07:43:23.659Z"
   },
   {
    "duration": 6,
    "start_time": "2022-05-01T07:43:46.163Z"
   },
   {
    "duration": 5,
    "start_time": "2022-05-01T07:43:58.400Z"
   },
   {
    "duration": 3,
    "start_time": "2022-05-01T07:44:01.280Z"
   },
   {
    "duration": 10,
    "start_time": "2022-05-01T07:44:03.844Z"
   },
   {
    "duration": 4,
    "start_time": "2022-05-01T07:44:09.224Z"
   },
   {
    "duration": 3,
    "start_time": "2022-05-01T07:44:12.074Z"
   },
   {
    "duration": 4,
    "start_time": "2022-05-01T07:44:38.698Z"
   },
   {
    "duration": 5,
    "start_time": "2022-05-01T07:46:02.146Z"
   },
   {
    "duration": 5,
    "start_time": "2022-05-01T07:46:09.539Z"
   },
   {
    "duration": 8,
    "start_time": "2022-05-01T07:46:33.988Z"
   },
   {
    "duration": 5,
    "start_time": "2022-05-01T07:47:11.528Z"
   },
   {
    "duration": 5,
    "start_time": "2022-05-01T07:47:19.146Z"
   },
   {
    "duration": 88,
    "start_time": "2022-05-01T07:47:32.091Z"
   },
   {
    "duration": 82,
    "start_time": "2022-05-01T07:47:42.187Z"
   },
   {
    "duration": 4,
    "start_time": "2022-05-01T07:47:50.490Z"
   },
   {
    "duration": 4,
    "start_time": "2022-05-01T07:48:05.801Z"
   },
   {
    "duration": 8,
    "start_time": "2022-05-01T07:48:10.556Z"
   },
   {
    "duration": 5,
    "start_time": "2022-05-01T07:49:35.887Z"
   },
   {
    "duration": 11,
    "start_time": "2022-05-01T07:49:39.501Z"
   },
   {
    "duration": 6,
    "start_time": "2022-05-01T07:50:06.541Z"
   },
   {
    "duration": 9,
    "start_time": "2022-05-01T07:50:09.666Z"
   },
   {
    "duration": 95,
    "start_time": "2022-05-01T07:53:22.522Z"
   },
   {
    "duration": 5,
    "start_time": "2022-05-01T07:53:38.405Z"
   },
   {
    "duration": 16,
    "start_time": "2022-05-01T07:53:41.846Z"
   },
   {
    "duration": 5,
    "start_time": "2022-05-01T07:54:34.703Z"
   },
   {
    "duration": 28,
    "start_time": "2022-05-01T07:54:37.980Z"
   },
   {
    "duration": 4,
    "start_time": "2022-05-01T07:56:45.600Z"
   },
   {
    "duration": 15,
    "start_time": "2022-05-01T07:56:48.605Z"
   },
   {
    "duration": 5,
    "start_time": "2022-05-01T07:57:26.531Z"
   },
   {
    "duration": 5,
    "start_time": "2022-05-01T07:58:10.596Z"
   },
   {
    "duration": 3,
    "start_time": "2022-05-01T07:58:14.590Z"
   },
   {
    "duration": 8,
    "start_time": "2022-05-01T07:58:17.729Z"
   },
   {
    "duration": 4,
    "start_time": "2022-05-01T07:58:39.754Z"
   },
   {
    "duration": 7,
    "start_time": "2022-05-01T07:58:46.211Z"
   },
   {
    "duration": 8,
    "start_time": "2022-05-01T07:59:11.404Z"
   },
   {
    "duration": 8,
    "start_time": "2022-05-01T07:59:17.249Z"
   },
   {
    "duration": 4,
    "start_time": "2022-05-01T07:59:25.649Z"
   },
   {
    "duration": 4,
    "start_time": "2022-05-01T08:00:00.570Z"
   },
   {
    "duration": 7,
    "start_time": "2022-05-01T08:00:02.732Z"
   },
   {
    "duration": 4,
    "start_time": "2022-05-01T08:00:11.435Z"
   },
   {
    "duration": 5,
    "start_time": "2022-05-01T08:01:44.750Z"
   },
   {
    "duration": 5,
    "start_time": "2022-05-01T08:01:47.964Z"
   },
   {
    "duration": 5,
    "start_time": "2022-05-01T08:02:05.281Z"
   },
   {
    "duration": 4,
    "start_time": "2022-05-01T08:02:08.312Z"
   },
   {
    "duration": 5,
    "start_time": "2022-05-01T08:02:58.473Z"
   },
   {
    "duration": 5,
    "start_time": "2022-05-01T08:03:02.192Z"
   },
   {
    "duration": 7,
    "start_time": "2022-05-01T08:03:14.488Z"
   }
  ],
  "kernelspec": {
   "display_name": "Python 3 (ipykernel)",
   "language": "python",
   "name": "python3"
  },
  "language_info": {
   "codemirror_mode": {
    "name": "ipython",
    "version": 3
   },
   "file_extension": ".py",
   "mimetype": "text/x-python",
   "name": "python",
   "nbconvert_exporter": "python",
   "pygments_lexer": "ipython3",
   "version": "3.9.5"
  },
  "toc": {
   "base_numbering": 1,
   "nav_menu": {},
   "number_sections": true,
   "sideBar": true,
   "skip_h1_title": true,
   "title_cell": "Содержание",
   "title_sidebar": "Contents",
   "toc_cell": true,
   "toc_position": {},
   "toc_section_display": true,
   "toc_window_display": true
  }
 },
 "nbformat": 4,
 "nbformat_minor": 2
}
