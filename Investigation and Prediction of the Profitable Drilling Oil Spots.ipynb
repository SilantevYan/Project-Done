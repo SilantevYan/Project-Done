{
 "cells": [
  {
   "cell_type": "markdown",
   "metadata": {},
   "source": [
    "# Выбор локации для скважины"
   ]
  },
  {
   "cell_type": "markdown",
   "metadata": {},
   "source": [
    "Допустим, вы работаете в добывающей компании «ГлавРосГосНефть». Нужно решить, где бурить новую скважину.\n",
    "\n",
    "Вам предоставлены пробы нефти в трёх регионах: в каждом 10 000 месторождений, где измерили качество нефти и объём её запасов. Постройте модель машинного обучения, которая поможет определить регион, где добыча принесёт наибольшую прибыль. Проанализируйте возможную прибыль и риски техникой *Bootstrap.*\n",
    "\n",
    "Шаги для выбора локации:\n",
    "\n",
    "- В избранном регионе ищут месторождения, для каждого определяют значения признаков;\n",
    "- Строят модель и оценивают объём запасов;\n",
    "- Выбирают месторождения с самым высокими оценками значений. Количество месторождений зависит от бюджета компании и стоимости разработки одной скважины;\n",
    "- Прибыль равна суммарной прибыли отобранных месторождений."
   ]
  },
  {
   "cell_type": "markdown",
   "metadata": {},
   "source": [
    "**Данные  в столбцах**"
   ]
  },
  {
   "cell_type": "markdown",
   "metadata": {},
   "source": [
    "- *id* — уникальный идентификатор скважины;\n",
    "- *f0, f1, f2* — три признака точек (неважно, что они означают, но сами признаки значимы);\n",
    "- *product* — объём запасов в скважине (тыс. баррелей)."
   ]
  },
  {
   "cell_type": "markdown",
   "metadata": {},
   "source": [
    "**Условия**"
   ]
  },
  {
   "cell_type": "markdown",
   "metadata": {},
   "source": [
    "- Для обучения модели подходит только линейная регрессия (остальные — недостаточно предсказуемые).\n",
    "- При разведке региона исследуют 500 точек, из которых с помощью машинного обучения выбирают 200 лучших для разработки.\n",
    "- Бюджет на разработку скважин в регионе — 10 млрд рублей.\n",
    "- При нынешних ценах один баррель сырья приносит 450 рублей дохода. Доход с каждой единицы продукта составляет 450 тыс. рублей, поскольку объём указан в тысячах баррелей.\n",
    "- После оценки рисков нужно оставить лишь те регионы, в которых вероятность убытков меньше 2.5%. Среди них выбирают регион с наибольшей средней прибылью.\n",
    "- Данные синтетические: детали контрактов и характеристики месторождений не разглашаются."
   ]
  },
  {
   "cell_type": "markdown",
   "metadata": {},
   "source": [
    "## Загрузка и подготовка данных"
   ]
  },
  {
   "cell_type": "markdown",
   "metadata": {},
   "source": [
    "Импорт необходимых библиотек"
   ]
  },
  {
   "cell_type": "code",
   "execution_count": 1,
   "metadata": {},
   "outputs": [],
   "source": [
    "import pandas as pd\n",
    "import numpy as np\n",
    "import seaborn as sns\n",
    "import matplotlib.pyplot as plt\n",
    "import statsmodels.api as sm\n",
    "import time as t\n",
    "\n",
    "from sklearn.model_selection import train_test_split\n",
    "from sklearn.linear_model import LinearRegression\n",
    "from sklearn.model_selection import cross_val_score\n",
    "from sklearn.metrics import mean_squared_error \n"
   ]
  },
  {
   "cell_type": "markdown",
   "metadata": {},
   "source": [
    "Для начала выгрузим данные"
   ]
  },
  {
   "cell_type": "code",
   "execution_count": 2,
   "metadata": {},
   "outputs": [],
   "source": [
    "df_0 = pd.read_csv('/datasets/geo_data_0.csv')\n",
    "df_1 = pd.read_csv('/datasets/geo_data_1.csv')\n",
    "df_2 = pd.read_csv('/datasets/geo_data_2.csv')"
   ]
  },
  {
   "cell_type": "markdown",
   "metadata": {},
   "source": [
    "Теперь базовое исследование данных и поик потенциальных проблем"
   ]
  },
  {
   "cell_type": "code",
   "execution_count": 3,
   "metadata": {},
   "outputs": [
    {
     "name": "stdout",
     "output_type": "stream",
     "text": [
      "<class 'pandas.core.frame.DataFrame'>\n",
      "RangeIndex: 100000 entries, 0 to 99999\n",
      "Data columns (total 5 columns):\n",
      " #   Column   Non-Null Count   Dtype  \n",
      "---  ------   --------------   -----  \n",
      " 0   id       100000 non-null  object \n",
      " 1   f0       100000 non-null  float64\n",
      " 2   f1       100000 non-null  float64\n",
      " 3   f2       100000 non-null  float64\n",
      " 4   product  100000 non-null  float64\n",
      "dtypes: float64(4), object(1)\n",
      "memory usage: 3.8+ MB\n",
      "<class 'pandas.core.frame.DataFrame'>\n",
      "RangeIndex: 100000 entries, 0 to 99999\n",
      "Data columns (total 5 columns):\n",
      " #   Column   Non-Null Count   Dtype  \n",
      "---  ------   --------------   -----  \n",
      " 0   id       100000 non-null  object \n",
      " 1   f0       100000 non-null  float64\n",
      " 2   f1       100000 non-null  float64\n",
      " 3   f2       100000 non-null  float64\n",
      " 4   product  100000 non-null  float64\n",
      "dtypes: float64(4), object(1)\n",
      "memory usage: 3.8+ MB\n",
      "<class 'pandas.core.frame.DataFrame'>\n",
      "RangeIndex: 100000 entries, 0 to 99999\n",
      "Data columns (total 5 columns):\n",
      " #   Column   Non-Null Count   Dtype  \n",
      "---  ------   --------------   -----  \n",
      " 0   id       100000 non-null  object \n",
      " 1   f0       100000 non-null  float64\n",
      " 2   f1       100000 non-null  float64\n",
      " 3   f2       100000 non-null  float64\n",
      " 4   product  100000 non-null  float64\n",
      "dtypes: float64(4), object(1)\n",
      "memory usage: 3.8+ MB\n"
     ]
    }
   ],
   "source": [
    "df_0.info()\n",
    "df_1.info()\n",
    "df_2.info()"
   ]
  },
  {
   "cell_type": "code",
   "execution_count": 4,
   "metadata": {},
   "outputs": [
    {
     "data": {
      "text/html": [
       "<div>\n",
       "<style scoped>\n",
       "    .dataframe tbody tr th:only-of-type {\n",
       "        vertical-align: middle;\n",
       "    }\n",
       "\n",
       "    .dataframe tbody tr th {\n",
       "        vertical-align: top;\n",
       "    }\n",
       "\n",
       "    .dataframe thead th {\n",
       "        text-align: right;\n",
       "    }\n",
       "</style>\n",
       "<table border=\"1\" class=\"dataframe\">\n",
       "  <thead>\n",
       "    <tr style=\"text-align: right;\">\n",
       "      <th></th>\n",
       "      <th>id</th>\n",
       "      <th>f0</th>\n",
       "      <th>f1</th>\n",
       "      <th>f2</th>\n",
       "      <th>product</th>\n",
       "    </tr>\n",
       "  </thead>\n",
       "  <tbody>\n",
       "    <tr>\n",
       "      <th>0</th>\n",
       "      <td>txEyH</td>\n",
       "      <td>0.705745</td>\n",
       "      <td>-0.497823</td>\n",
       "      <td>1.221170</td>\n",
       "      <td>105.280062</td>\n",
       "    </tr>\n",
       "    <tr>\n",
       "      <th>1</th>\n",
       "      <td>2acmU</td>\n",
       "      <td>1.334711</td>\n",
       "      <td>-0.340164</td>\n",
       "      <td>4.365080</td>\n",
       "      <td>73.037750</td>\n",
       "    </tr>\n",
       "    <tr>\n",
       "      <th>2</th>\n",
       "      <td>409Wp</td>\n",
       "      <td>1.022732</td>\n",
       "      <td>0.151990</td>\n",
       "      <td>1.419926</td>\n",
       "      <td>85.265647</td>\n",
       "    </tr>\n",
       "    <tr>\n",
       "      <th>3</th>\n",
       "      <td>iJLyR</td>\n",
       "      <td>-0.032172</td>\n",
       "      <td>0.139033</td>\n",
       "      <td>2.978566</td>\n",
       "      <td>168.620776</td>\n",
       "    </tr>\n",
       "    <tr>\n",
       "      <th>4</th>\n",
       "      <td>Xdl7t</td>\n",
       "      <td>1.988431</td>\n",
       "      <td>0.155413</td>\n",
       "      <td>4.751769</td>\n",
       "      <td>154.036647</td>\n",
       "    </tr>\n",
       "  </tbody>\n",
       "</table>\n",
       "</div>"
      ],
      "text/plain": [
       "      id        f0        f1        f2     product\n",
       "0  txEyH  0.705745 -0.497823  1.221170  105.280062\n",
       "1  2acmU  1.334711 -0.340164  4.365080   73.037750\n",
       "2  409Wp  1.022732  0.151990  1.419926   85.265647\n",
       "3  iJLyR -0.032172  0.139033  2.978566  168.620776\n",
       "4  Xdl7t  1.988431  0.155413  4.751769  154.036647"
      ]
     },
     "execution_count": 4,
     "metadata": {},
     "output_type": "execute_result"
    }
   ],
   "source": [
    "df_0.head()"
   ]
  },
  {
   "cell_type": "code",
   "execution_count": 5,
   "metadata": {},
   "outputs": [
    {
     "data": {
      "text/html": [
       "<div>\n",
       "<style scoped>\n",
       "    .dataframe tbody tr th:only-of-type {\n",
       "        vertical-align: middle;\n",
       "    }\n",
       "\n",
       "    .dataframe tbody tr th {\n",
       "        vertical-align: top;\n",
       "    }\n",
       "\n",
       "    .dataframe thead th {\n",
       "        text-align: right;\n",
       "    }\n",
       "</style>\n",
       "<table border=\"1\" class=\"dataframe\">\n",
       "  <thead>\n",
       "    <tr style=\"text-align: right;\">\n",
       "      <th></th>\n",
       "      <th>id</th>\n",
       "      <th>f0</th>\n",
       "      <th>f1</th>\n",
       "      <th>f2</th>\n",
       "      <th>product</th>\n",
       "    </tr>\n",
       "  </thead>\n",
       "  <tbody>\n",
       "    <tr>\n",
       "      <th>0</th>\n",
       "      <td>kBEdx</td>\n",
       "      <td>-15.001348</td>\n",
       "      <td>-8.276000</td>\n",
       "      <td>-0.005876</td>\n",
       "      <td>3.179103</td>\n",
       "    </tr>\n",
       "    <tr>\n",
       "      <th>1</th>\n",
       "      <td>62mP7</td>\n",
       "      <td>14.272088</td>\n",
       "      <td>-3.475083</td>\n",
       "      <td>0.999183</td>\n",
       "      <td>26.953261</td>\n",
       "    </tr>\n",
       "    <tr>\n",
       "      <th>2</th>\n",
       "      <td>vyE1P</td>\n",
       "      <td>6.263187</td>\n",
       "      <td>-5.948386</td>\n",
       "      <td>5.001160</td>\n",
       "      <td>134.766305</td>\n",
       "    </tr>\n",
       "    <tr>\n",
       "      <th>3</th>\n",
       "      <td>KcrkZ</td>\n",
       "      <td>-13.081196</td>\n",
       "      <td>-11.506057</td>\n",
       "      <td>4.999415</td>\n",
       "      <td>137.945408</td>\n",
       "    </tr>\n",
       "    <tr>\n",
       "      <th>4</th>\n",
       "      <td>AHL4O</td>\n",
       "      <td>12.702195</td>\n",
       "      <td>-8.147433</td>\n",
       "      <td>5.004363</td>\n",
       "      <td>134.766305</td>\n",
       "    </tr>\n",
       "  </tbody>\n",
       "</table>\n",
       "</div>"
      ],
      "text/plain": [
       "      id         f0         f1        f2     product\n",
       "0  kBEdx -15.001348  -8.276000 -0.005876    3.179103\n",
       "1  62mP7  14.272088  -3.475083  0.999183   26.953261\n",
       "2  vyE1P   6.263187  -5.948386  5.001160  134.766305\n",
       "3  KcrkZ -13.081196 -11.506057  4.999415  137.945408\n",
       "4  AHL4O  12.702195  -8.147433  5.004363  134.766305"
      ]
     },
     "execution_count": 5,
     "metadata": {},
     "output_type": "execute_result"
    }
   ],
   "source": [
    "df_1.head()"
   ]
  },
  {
   "cell_type": "code",
   "execution_count": 6,
   "metadata": {},
   "outputs": [
    {
     "data": {
      "text/html": [
       "<div>\n",
       "<style scoped>\n",
       "    .dataframe tbody tr th:only-of-type {\n",
       "        vertical-align: middle;\n",
       "    }\n",
       "\n",
       "    .dataframe tbody tr th {\n",
       "        vertical-align: top;\n",
       "    }\n",
       "\n",
       "    .dataframe thead th {\n",
       "        text-align: right;\n",
       "    }\n",
       "</style>\n",
       "<table border=\"1\" class=\"dataframe\">\n",
       "  <thead>\n",
       "    <tr style=\"text-align: right;\">\n",
       "      <th></th>\n",
       "      <th>id</th>\n",
       "      <th>f0</th>\n",
       "      <th>f1</th>\n",
       "      <th>f2</th>\n",
       "      <th>product</th>\n",
       "    </tr>\n",
       "  </thead>\n",
       "  <tbody>\n",
       "    <tr>\n",
       "      <th>0</th>\n",
       "      <td>fwXo0</td>\n",
       "      <td>-1.146987</td>\n",
       "      <td>0.963328</td>\n",
       "      <td>-0.828965</td>\n",
       "      <td>27.758673</td>\n",
       "    </tr>\n",
       "    <tr>\n",
       "      <th>1</th>\n",
       "      <td>WJtFt</td>\n",
       "      <td>0.262778</td>\n",
       "      <td>0.269839</td>\n",
       "      <td>-2.530187</td>\n",
       "      <td>56.069697</td>\n",
       "    </tr>\n",
       "    <tr>\n",
       "      <th>2</th>\n",
       "      <td>ovLUW</td>\n",
       "      <td>0.194587</td>\n",
       "      <td>0.289035</td>\n",
       "      <td>-5.586433</td>\n",
       "      <td>62.871910</td>\n",
       "    </tr>\n",
       "    <tr>\n",
       "      <th>3</th>\n",
       "      <td>q6cA6</td>\n",
       "      <td>2.236060</td>\n",
       "      <td>-0.553760</td>\n",
       "      <td>0.930038</td>\n",
       "      <td>114.572842</td>\n",
       "    </tr>\n",
       "    <tr>\n",
       "      <th>4</th>\n",
       "      <td>WPMUX</td>\n",
       "      <td>-0.515993</td>\n",
       "      <td>1.716266</td>\n",
       "      <td>5.899011</td>\n",
       "      <td>149.600746</td>\n",
       "    </tr>\n",
       "  </tbody>\n",
       "</table>\n",
       "</div>"
      ],
      "text/plain": [
       "      id        f0        f1        f2     product\n",
       "0  fwXo0 -1.146987  0.963328 -0.828965   27.758673\n",
       "1  WJtFt  0.262778  0.269839 -2.530187   56.069697\n",
       "2  ovLUW  0.194587  0.289035 -5.586433   62.871910\n",
       "3  q6cA6  2.236060 -0.553760  0.930038  114.572842\n",
       "4  WPMUX -0.515993  1.716266  5.899011  149.600746"
      ]
     },
     "execution_count": 6,
     "metadata": {},
     "output_type": "execute_result"
    }
   ],
   "source": [
    "df_2.head()"
   ]
  },
  {
   "cell_type": "markdown",
   "metadata": {},
   "source": [
    "Пропусков в данных нет, идём дальше"
   ]
  },
  {
   "cell_type": "code",
   "execution_count": 7,
   "metadata": {
    "scrolled": false
   },
   "outputs": [
    {
     "name": "stdout",
     "output_type": "stream",
     "text": [
      "                  f0             f1             f2        product\n",
      "count  100000.000000  100000.000000  100000.000000  100000.000000\n",
      "mean        0.500419       0.250143       2.502647      92.500000\n",
      "std         0.871832       0.504433       3.248248      44.288691\n",
      "min        -1.408605      -0.848218     -12.088328       0.000000\n",
      "25%        -0.072580      -0.200881       0.287748      56.497507\n",
      "50%         0.502360       0.250252       2.515969      91.849972\n",
      "75%         1.073581       0.700646       4.715088     128.564089\n",
      "max         2.362331       1.343769      16.003790     185.364347\n",
      "                  f0             f1             f2        product\n",
      "count  100000.000000  100000.000000  100000.000000  100000.000000\n",
      "mean        1.141296      -4.796579       2.494541      68.825000\n",
      "std         8.965932       5.119872       1.703572      45.944423\n",
      "min       -31.609576     -26.358598      -0.018144       0.000000\n",
      "25%        -6.298551      -8.267985       1.000021      26.953261\n",
      "50%         1.153055      -4.813172       2.011479      57.085625\n",
      "75%         8.621015      -1.332816       3.999904     107.813044\n",
      "max        29.421755      18.734063       5.019721     137.945408\n",
      "                  f0             f1             f2        product\n",
      "count  100000.000000  100000.000000  100000.000000  100000.000000\n",
      "mean        0.002023      -0.002081       2.495128      95.000000\n",
      "std         1.732045       1.730417       3.473445      44.749921\n",
      "min        -8.760004      -7.084020     -11.970335       0.000000\n",
      "25%        -1.162288      -1.174820       0.130359      59.450441\n",
      "50%         0.009424      -0.009482       2.484236      94.925613\n",
      "75%         1.158535       1.163678       4.858794     130.595027\n",
      "max         7.238262       7.844801      16.739402     190.029838\n"
     ]
    }
   ],
   "source": [
    "print(df_0.describe())\n",
    "print(df_1.describe())\n",
    "print(df_2.describe())"
   ]
  },
  {
   "cell_type": "markdown",
   "metadata": {},
   "source": [
    "- По условиям задания, точного определения того, что означают параметры *f0,f1,f2* - не дано;\n",
    "- Тем не менее, все эти параметры находятся в целом в близких размерностях, для анализа нас они устроят;"
   ]
  },
  {
   "cell_type": "markdown",
   "metadata": {},
   "source": [
    "Так же из данных требуется удалить столбец *id*, т.к. для обучения модели он несет никакого смысла."
   ]
  },
  {
   "cell_type": "code",
   "execution_count": 8,
   "metadata": {},
   "outputs": [],
   "source": [
    "df_0 = df_0.drop('id',axis =1)\n",
    "df_1 = df_1.drop('id',axis =1)\n",
    "df_2 = df_2.drop('id',axis =1)"
   ]
  },
  {
   "cell_type": "markdown",
   "metadata": {},
   "source": [
    "> Посмотрим так же матрицу корреляции(вообще,если все параметры значимые,их исключить мы не можем, \n",
    "но общая картина станет яснее), а также нормальность распределения величин."
   ]
  },
  {
   "cell_type": "code",
   "execution_count": 9,
   "metadata": {},
   "outputs": [
    {
     "data": {
      "image/png": "[encoded data removed]",
      "text/plain": [
       "<Figure size 1152x432 with 2 Axes>"
      ]
     },
     "metadata": {
      "needs_background": "light"
     },
     "output_type": "display_data"
    }
   ],
   "source": [
    "plt.figure(figsize=(16, 6))\n",
    "heatmap = sns.heatmap(df_0.corr(), vmin=-1, vmax=1, annot=True)\n",
    "heatmap.set_title('Матрица корреляции первого датафрейма', fontdict={'fontsize':12}, pad=12);"
   ]
  },
  {
   "cell_type": "markdown",
   "metadata": {},
   "source": [
    "- В первом датафрейме мы наблюдаем слабую обратную корреляцию значений *f0 и f1*, а так же слабую прямую корреляцию *product и f2*;\n",
    "- Остальные значения не имеют особой корреляции."
   ]
  },
  {
   "cell_type": "code",
   "execution_count": 10,
   "metadata": {},
   "outputs": [
    {
     "data": {
      "image/png": "[encoded data removed]",
      "text/plain": [
       "<Figure size 1152x432 with 2 Axes>"
      ]
     },
     "metadata": {
      "needs_background": "light"
     },
     "output_type": "display_data"
    }
   ],
   "source": [
    "plt.figure(figsize=(16, 6))\n",
    "heatmap = sns.heatmap(df_1.corr(), vmin=-1, vmax=1, annot=True)\n",
    "heatmap.set_title('Матрица корреляции второго датафрейма', fontdict={'fontsize':12}, pad=12);"
   ]
  },
  {
   "cell_type": "markdown",
   "metadata": {},
   "source": [
    "- Здесь мы видим прямую зависимость *f2 и product*,кроме этого зависимостей не обнаружено."
   ]
  },
  {
   "cell_type": "code",
   "execution_count": 11,
   "metadata": {},
   "outputs": [
    {
     "data": {
      "image/png": "[encoded data removed]",
      "text/plain": [
       "<Figure size 1152x432 with 2 Axes>"
      ]
     },
     "metadata": {
      "needs_background": "light"
     },
     "output_type": "display_data"
    }
   ],
   "source": [
    "plt.figure(figsize=(16, 6))\n",
    "heatmap = sns.heatmap(df_2.corr(), vmin=-1, vmax=1, annot=True)\n",
    "heatmap.set_title('Матрица корреляции третьего датафрейма', fontdict={'fontsize':12}, pad=12);"
   ]
  },
  {
   "cell_type": "markdown",
   "metadata": {},
   "source": [
    "- Есть слабо выраженная прямая корреляция *f2 и product*,кроме этого зависимостей не обнаружено."
   ]
  },
  {
   "cell_type": "markdown",
   "metadata": {},
   "source": [
    "Посмотрим на нормальность распределения целевого признака"
   ]
  },
  {
   "cell_type": "code",
   "execution_count": 12,
   "metadata": {},
   "outputs": [
    {
     "data": {
      "image/png": "[encoded data removed]",
      "text/plain": [
       "<Figure size 864x576 with 1 Axes>"
      ]
     },
     "metadata": {
      "needs_background": "light"
     },
     "output_type": "display_data"
    }
   ],
   "source": [
    "df_0.plot(y='product', kind = 'hist',bins = 10,\n",
    "         title ='Распределение целевого признака 1-ого месторождения', \n",
    "         grid = True, figsize = (12,8));"
   ]
  },
  {
   "cell_type": "markdown",
   "metadata": {},
   "source": [
    "Распределение похоже на нормальное"
   ]
  },
  {
   "cell_type": "code",
   "execution_count": 13,
   "metadata": {},
   "outputs": [
    {
     "data": {
      "image/png": "[encoded data removed]",
      "text/plain": [
       "<Figure size 864x576 with 1 Axes>"
      ]
     },
     "metadata": {
      "needs_background": "light"
     },
     "output_type": "display_data"
    }
   ],
   "source": [
    "df_1.plot(y='product', kind = 'hist',bins = 10,\n",
    "         title ='Распределение целевого признака 2-ого месторождения', \n",
    "         grid = True, figsize = (12,8));"
   ]
  },
  {
   "cell_type": "markdown",
   "metadata": {},
   "source": [
    "В данных второго датасета видны выбросы по обоим стронам от ожидаемой середины \"колокола\", в точках минимума и максимума значений. В дальнейшем это может сказаться на обучении модели."
   ]
  },
  {
   "cell_type": "code",
   "execution_count": 14,
   "metadata": {},
   "outputs": [
    {
     "data": {
      "image/png": "[encoded data removed]",
      "text/plain": [
       "<Figure size 864x576 with 1 Axes>"
      ]
     },
     "metadata": {
      "needs_background": "light"
     },
     "output_type": "display_data"
    }
   ],
   "source": [
    "df_2.plot(y='product', kind = 'hist',bins = 10,\n",
    "         title ='Распределение целевого признака 3-ого месторождения', \n",
    "         grid = True, figsize = (12,8));"
   ]
  },
  {
   "cell_type": "markdown",
   "metadata": {},
   "source": [
    "Распределение величин похоже на нормальное"
   ]
  },
  {
   "cell_type": "markdown",
   "metadata": {},
   "source": [
    "## Обучение и проверка модели"
   ]
  },
  {
   "cell_type": "markdown",
   "metadata": {},
   "source": [
    "Целевым признаком в наших выборках будет являться столбец product, остальные столбцы - признаки для обучения модели."
   ]
  },
  {
   "cell_type": "code",
   "execution_count": 15,
   "metadata": {},
   "outputs": [],
   "source": [
    "def split(df):\n",
    "    features = df.drop(['product'],axis=1)\n",
    "    target = df['product']\n",
    "    features_train, features_test, target_train, target_test = train_test_split(features,target,\n",
    "                                                                                  random_state=42,train_size = 0.75)\n",
    "    return features_train, features_test, target_train, target_test\n",
    "    "
   ]
  },
  {
   "cell_type": "markdown",
   "metadata": {},
   "source": [
    "Дополнительных разделений мы делать не будем, т.к. будем использовать кросс-вадидацию."
   ]
  },
  {
   "cell_type": "markdown",
   "metadata": {},
   "source": [
    "**Первый датафрейм**"
   ]
  },
  {
   "cell_type": "code",
   "execution_count": 16,
   "metadata": {},
   "outputs": [
    {
     "name": "stdout",
     "output_type": "stream",
     "text": [
      "(75000, 3)\n",
      "(25000, 3)\n",
      "(75000,)\n",
      "(25000,)\n"
     ]
    }
   ],
   "source": [
    "df_0_features_train, df_0_features_test, df_0_target_train, df_0_target_test = split(df_0)\n",
    "for i in [df_0_features_train, df_0_features_test, df_0_target_train, df_0_target_test]:\n",
    "    print (i.shape)"
   ]
  },
  {
   "cell_type": "markdown",
   "metadata": {},
   "source": [
    "Отлично, первую выборку разделили. Проделаем то же самое с остальными."
   ]
  },
  {
   "cell_type": "markdown",
   "metadata": {},
   "source": [
    "**Второй датарейм**"
   ]
  },
  {
   "cell_type": "code",
   "execution_count": 17,
   "metadata": {},
   "outputs": [
    {
     "name": "stdout",
     "output_type": "stream",
     "text": [
      "(75000, 3)\n",
      "(25000, 3)\n",
      "(75000,)\n",
      "(25000,)\n"
     ]
    }
   ],
   "source": [
    "df_1_features_train, df_1_features_test, df_1_target_train, df_1_target_test = split(df_1)\n",
    "for i in [df_1_features_train, df_1_features_test, df_1_target_train, df_1_target_test]:\n",
    "    print (i.shape)"
   ]
  },
  {
   "cell_type": "markdown",
   "metadata": {},
   "source": [
    "**Третий датафрейм**"
   ]
  },
  {
   "cell_type": "code",
   "execution_count": 18,
   "metadata": {},
   "outputs": [
    {
     "name": "stdout",
     "output_type": "stream",
     "text": [
      "(75000, 3)\n",
      "(25000, 3)\n",
      "(75000,)\n",
      "(25000,)\n"
     ]
    }
   ],
   "source": [
    "df_2_features_train, df_2_features_test, df_2_target_train, df_2_target_test = split(df_2)\n",
    "for i in [df_2_features_train, df_2_features_test, df_2_target_train, df_2_target_test]:\n",
    "    print (i.shape)"
   ]
  },
  {
   "cell_type": "markdown",
   "metadata": {},
   "source": [
    "Выборки разделены нормально,теперь можно переходить к обучению моделей и кросс-валидации."
   ]
  },
  {
   "cell_type": "markdown",
   "metadata": {},
   "source": [
    "### Первый регион"
   ]
  },
  {
   "cell_type": "code",
   "execution_count": 19,
   "metadata": {},
   "outputs": [
    {
     "ename": "IndentationError",
     "evalue": "unexpected indent (2651401643.py, line 6)",
     "output_type": "error",
     "traceback": [
      "\u001b[0;36m  File \u001b[0;32m\"/tmp/ipykernel_214/2651401643.py\"\u001b[0;36m, line \u001b[0;32m6\u001b[0m\n\u001b[0;31m    target,cv=5,scoring='neg_mean_squared_error'))).mean()\u001b[0m\n\u001b[0m    ^\u001b[0m\n\u001b[0;31mIndentationError\u001b[0m\u001b[0;31m:\u001b[0m unexpected indent\n"
     ]
    }
   ],
   "source": [
    "def models(features,target,features_test,target_test,predicted_test):\n",
    "    #Так так метод cross_val_score по сути старается найти лучшее значение метрики,\n",
    "    # при этом увеличивается значение RMSE используем костыли\n",
    "    model = LinearRegression()\n",
    "    rmse= (np.sqrt(-cross_val_score(model, features,\n",
    "                                    target,cv=5,scoring='neg_mean_squared_error'))).mean()\n",
    "\n",
    "    model.fit(features, target)\n",
    "    predicted_test = model.predict(features_test)\n",
    "    rmse_0 = mean_squared_error(target_test, predicted_test,squared=False)\n",
    "\n",
    "    # Посчитаем средний запас месторождений по 1 региону\n",
    "    predicted_test_mean = predicted_test.mean()\n",
    "\n",
    "    return model, print(f'Средняя оценка качества модели: {rmse}\\\n",
    "                        \\nRMSE для 3-ого региона: {rmse_0}\\\n",
    "                        \\nСредний запас месторождений в 1 регионе: {predicted_test_mean}')"
   ]
  },
  {
   "cell_type": "code",
   "execution_count": null,
   "metadata": {},
   "outputs": [],
   "source": [
    "models(df_0_features_train, df_0_target_train, df_0_features_test,df_0_target_test,predicted_test_0)"
   ]
  },
  {
   "cell_type": "code",
   "execution_count": 20,
   "metadata": {},
   "outputs": [
    {
     "name": "stdout",
     "output_type": "stream",
     "text": [
      "Средняя оценка качества модели: 37.67200536313506\n",
      "RMSE для 2-ого региона = 37.756600350261685\n",
      "Средний запас месторождений во 2 регионе: 92.3987999065777\n"
     ]
    }
   ],
   "source": [
    "model = LinearRegression()\n",
    "rmse= (np.sqrt(-cross_val_score(model, df_0_features_train,df_0_target_train,cv=5,scoring='neg_mean_squared_error'))).mean()\n",
    "\n",
    "print('Средняя оценка качества модели:', rmse)\n",
    "\n",
    "\n",
    "model.fit(df_0_features_train, df_0_target_train)\n",
    "predicted_test_0 = model.predict(df_0_features_test)\n",
    "rmse_0 = mean_squared_error(df_0_target_test, predicted_test_0,squared=False)\n",
    "\n",
    "# Посчитаем средний запас месторождений по 2 региону\n",
    "predicted_0_test_mean = predicted_test_0.mean()\n",
    "\n",
    "print(\"RMSE для 2-ого региона =\", rmse_0)\n",
    "print('Средний запас месторождений во 2 регионе:',predicted_0_test_mean)"
   ]
  },
  {
   "cell_type": "markdown",
   "metadata": {},
   "source": [
    "Получили сходимость с небольшой погрешностью RMSE на кросс-валидации и при обычном обучении модели. Средний запас скважины в данном регионе равен **92.40** тыс. баррелей"
   ]
  },
  {
   "cell_type": "markdown",
   "metadata": {},
   "source": [
    "### Второй регион"
   ]
  },
  {
   "cell_type": "code",
   "execution_count": 21,
   "metadata": {},
   "outputs": [
    {
     "name": "stdout",
     "output_type": "stream",
     "text": [
      "Средняя оценка качества модели: 0.8904559629285675\n",
      "RMSE для 2-ого региона = 0.890280100102884\n",
      "Средний запас месторождений во 2 регионе: 68.71287803913762\n"
     ]
    }
   ],
   "source": [
    "model = LinearRegression()\n",
    "rmse= (np.sqrt(-cross_val_score(model, df_1_features_train,df_1_target_train,cv=5,scoring='neg_mean_squared_error'))).mean()\n",
    "\n",
    "print('Средняя оценка качества модели:', rmse)\n",
    "\n",
    "\n",
    "model.fit(df_1_features_train, df_1_target_train)\n",
    "predicted_test_1 = model.predict(df_1_features_test)\n",
    "rmse_1 = mean_squared_error(df_1_target_test, predicted_test_1,squared=False)\n",
    "\n",
    "# Посчитаем средний запас месторождений по 2 региону\n",
    "predicted_1_test_mean = predicted_test_1.mean()\n",
    "\n",
    "print(\"RMSE для 2-ого региона =\", rmse_1)\n",
    "print('Средний запас месторождений во 2 регионе:',predicted_1_test_mean)"
   ]
  },
  {
   "cell_type": "markdown",
   "metadata": {},
   "source": [
    "Получили сходимость с небольшой погрешностью RMSE на кросс-валидации и при обычном обучении модели,при кросс-валидации погрешность чуть выше. Средний запас скважины в данном регионе равен **68.71** тыс. баррелей"
   ]
  },
  {
   "cell_type": "markdown",
   "metadata": {},
   "source": [
    "### Третий регион"
   ]
  },
  {
   "cell_type": "code",
   "execution_count": 22,
   "metadata": {},
   "outputs": [
    {
     "name": "stdout",
     "output_type": "stream",
     "text": [
      "Средняя оценка качества модели: 40.02698159997838\n",
      "RMSE для 3-ого региона: 40.14587231134218\n",
      "Средний запас месторождений в 3 регионе: 94.77102387765939\n"
     ]
    }
   ],
   "source": [
    "model = LinearRegression()\n",
    "\n",
    "rmse= (np.sqrt(-cross_val_score(model, df_2_features_train,df_2_target_train,cv=5,scoring='neg_mean_squared_error'))).mean()\n",
    "print('Средняя оценка качества модели:', rmse)\n",
    "\n",
    "model.fit(df_2_features_train, df_2_target_train)\n",
    "predicted_test_2 = model.predict(df_2_features_test)\n",
    "rmse_2 = mean_squared_error(df_2_target_test, predicted_test_2,squared=False)\n",
    "\n",
    "# Посчитаем средний запас месторождений по 3 региону\n",
    "predicted_2_test_mean = predicted_test_2.mean()\n",
    "\n",
    "print(\"RMSE для 3-ого региона:\", rmse_2)\n",
    "print('Средний запас месторождений в 3 регионе:',predicted_2_test_mean)"
   ]
  },
  {
   "cell_type": "markdown",
   "metadata": {},
   "source": [
    "Получили сходимость с небольшой погрешностью RMSE на кросс-валидации и при обычном обучении модели. Средний запас скважины в данном регионе равен **94.77** тыс. баррелей"
   ]
  },
  {
   "cell_type": "markdown",
   "metadata": {},
   "source": [
    "### Выводы"
   ]
  },
  {
   "cell_type": "markdown",
   "metadata": {},
   "source": [
    "- Получили прогнозы по всем трем регионам;\n",
    "- Как мы видим, самый большой теоретический запас находится **в третьем** регионе, самый малый - **во втором**;\n",
    "- Самая малое значение **RMSE** мы так же получили  **во втором** регионе, погрешность в котором довольно низка;\n",
    "- В других двух месторождениях RMSE доходит практически до половины всего запаса месторождений в регионе, это связано с большим разбросом данных и далеким от нормального распределения.\n",
    "- Скорее всего такое малое значение **RMSE** по второму региону мы получили из-за того, что разброс величин бл компенсирован большим количеством значений в точках минимума и максимума распределения целевого признака."
   ]
  },
  {
   "cell_type": "markdown",
   "metadata": {},
   "source": [
    "## Подготовка к расчёту прибыли"
   ]
  },
  {
   "cell_type": "markdown",
   "metadata": {},
   "source": [
    "Для расчёта точки безубыточности ,требуется для начала определить затраты на одну скважину"
   ]
  },
  {
   "cell_type": "markdown",
   "metadata": {},
   "source": [
    "Также, по условия задания нам сказано следующее:\n",
    "- При разведке региона исследуют 500 точек, из которых с помощью машинного обучения выбирают 200 лучших для разработки.\n",
    "- Бюджет на разработку скважин в регионе — 10 млрд рублей.\n",
    "- При нынешних ценах один баррель сырья приносит 450 рублей дохода. \n",
    "- Доход с каждой единицы продукта составляет 450 тыс. рублей, поскольку объём указан в тысячах баррелей.\n",
    "\n",
    "Для начала определим, какой бюджет заложен на разработку одного месторождения:"
   ]
  },
  {
   "cell_type": "code",
   "execution_count": 23,
   "metadata": {},
   "outputs": [
    {
     "name": "stdout",
     "output_type": "stream",
     "text": [
      "Бюджет на разработку месторождений равен 50000000\n"
     ]
    }
   ],
   "source": [
    "BUDGET = 10_000_000_000\n",
    "budget_per_place = int(BUDGET/200)\n",
    "print(f'Бюджет на разработку месторождений равен {budget_per_place}')"
   ]
  },
  {
   "cell_type": "markdown",
   "metadata": {},
   "source": [
    "Таким образом, бюджет на разработку - 50 млн. Теперь определим точку безубыточности, исходя из цены нефти."
   ]
  },
  {
   "cell_type": "code",
   "execution_count": 24,
   "metadata": {},
   "outputs": [
    {
     "name": "stdout",
     "output_type": "stream",
     "text": [
      "Точка безубыточности: 111111111.1111111 тыс. баррелей\n"
     ]
    }
   ],
   "source": [
    "PRICE = 450_000\n",
    "profit_point = budget_per_place/0.45\n",
    "print(f'Точка безубыточности: {profit_point} тыс. баррелей')"
   ]
  },
  {
   "cell_type": "markdown",
   "metadata": {},
   "source": [
    "> Итого получается, что точкой безубыточности с учетом разработки скважины и цены на нефть будет скважина с объемом равной или более 111 тыс. баррелей. Это больше, чем среднее значение запасов нефти в каждом из регионов."
   ]
  },
  {
   "cell_type": "markdown",
   "metadata": {},
   "source": [
    "## Расчёт прибыли и рисков "
   ]
  },
  {
   "cell_type": "markdown",
   "metadata": {},
   "source": [
    "Напишем функцию для рассчёта прибыли"
   ]
  },
  {
   "cell_type": "code",
   "execution_count": 25,
   "metadata": {},
   "outputs": [],
   "source": [
    "def revenue (target,predictions,count):\n",
    "    prediction_sorted = predictions.sort_values(ascending = False)\n",
    "    selected = target[prediction_sorted.index][:count]\n",
    "    return (selected.sum()*PRICE-BUDGET)/1_000_000  "
   ]
  },
  {
   "cell_type": "markdown",
   "metadata": {},
   "source": [
    "Самое время использовать технику **Bootstrap** для рассчёта рисков убыточности всех выбранных месторождений."
   ]
  },
  {
   "cell_type": "code",
   "execution_count": 26,
   "metadata": {},
   "outputs": [],
   "source": [
    "state = np.random.RandomState(12345)\n",
    "\n",
    "def result (target,predictions):\n",
    "    values = []\n",
    "    for i in range(1000):\n",
    "        target.subsample = target.sample(n=500,replace= True, random_state = state)\n",
    "        probs_subsample = predictions [target.subsample.index]\n",
    "        result = revenue(target.subsample,probs_subsample,200)\n",
    "        values.append(result)\n",
    "    values = pd.Series(values)\n",
    "    percentage_neg = (values < 0).mean()*100\n",
    "    mean = values.mean()\n",
    "    lower = values.quantile(0.025)\n",
    "    upper = values.quantile(0.975)\n",
    "    print(f'Средняя прогнозируемая прибыль составит {mean} млрд рублей')\n",
    "    print(f'С вероятностью 95% прогнозируемая прибыль составит от {lower} до {upper} млрд рублей')\n",
    "    print(f'Риск убыточности месторождения составляет {percentage_neg}%')\n"
   ]
  },
  {
   "cell_type": "markdown",
   "metadata": {},
   "source": [
    "### Первый регион"
   ]
  },
  {
   "cell_type": "code",
   "execution_count": 27,
   "metadata": {},
   "outputs": [
    {
     "name": "stdout",
     "output_type": "stream",
     "text": [
      "Средняя прогнозируемая прибыль составит 435.9337721386621 млрд рублей\n",
      "С вероятностью 95% прогнозируемая прибыль составит от -116.23161277720817 до 966.504180707376 млрд рублей\n",
      "Риск убыточности месторождения составляет 6.1%\n"
     ]
    }
   ],
   "source": [
    "df_0_target_test= df_0_target_test.reset_index(drop= True)\n",
    "predicted_test_0 = pd.Series(predicted_test_0)\n",
    "result(df_0_target_test,predicted_test_0)"
   ]
  },
  {
   "cell_type": "markdown",
   "metadata": {},
   "source": [
    "### Второй регион"
   ]
  },
  {
   "cell_type": "code",
   "execution_count": 28,
   "metadata": {},
   "outputs": [
    {
     "name": "stdout",
     "output_type": "stream",
     "text": [
      "Средняя прогнозируемая прибыль составит 498.5690169167883 млрд рублей\n",
      "С вероятностью 95% прогнозируемая прибыль составит от 75.31557308898354 до 911.5036950245577 млрд рублей\n",
      "Риск убыточности месторождения составляет 1.0%\n"
     ]
    }
   ],
   "source": [
    "df_1_target_test= df_1_target_test.reset_index(drop= True)\n",
    "predicted_test_1 = pd.Series(predicted_test_1)\n",
    "result(df_1_target_test,predicted_test_1)"
   ]
  },
  {
   "cell_type": "markdown",
   "metadata": {},
   "source": [
    "### Третий регион"
   ]
  },
  {
   "cell_type": "code",
   "execution_count": 29,
   "metadata": {},
   "outputs": [
    {
     "name": "stdout",
     "output_type": "stream",
     "text": [
      "Средняя прогнозируемая прибыль составит 412.672898988532 млрд рублей\n",
      "С вероятностью 95% прогнозируемая прибыль составит от -158.9395157636048 до 978.1912017001915 млрд рублей\n",
      "Риск убыточности месторождения составляет 7.000000000000001%\n"
     ]
    }
   ],
   "source": [
    "df_2_target_test= df_2_target_test.reset_index(drop= True)\n",
    "predicted_test_2 = pd.Series(predicted_test_2)\n",
    "result(df_2_target_test,predicted_test_2)"
   ]
  },
  {
   "cell_type": "markdown",
   "metadata": {},
   "source": [
    "### Выводы"
   ]
  },
  {
   "cell_type": "markdown",
   "metadata": {},
   "source": [
    "**Риски убыточности скважин в регионах**\n",
    "\n",
    "- Самый низкий риск убыточности месторождения *во втором регионе*, он составляет **1%**;\n",
    "- Самый высокий риск убыточности скважины *в третьем регионе*, - **7%**;\n",
    "- Риск убыточности *в первом регионе* так же относительно высок - **6,1%**.\n",
    "\n",
    "**Прогнозируемая прибыль с вероятностью 95% составит:**\n",
    "\n",
    "- В *первом* регионе от **-116.23161** до **966.50418** млрд рублей;\n",
    "- Во *втором* регионе от **75.31557** до **911.503695** млрд рублей;\n",
    "- В *третьем* регионе от **-158.9395157636048** до **978.1912017001915** млрд рублей.\n",
    "\n",
    "**Средняя прогнозируемая прибыль составит:**\n",
    "\n",
    "- В *первом* регионе **435.9337721386621** млрд рублей;\n",
    "- Во *втором* регионе **498.5690169167883** млрд рублей;\n",
    "- В *третьем* регионе **412.672898988532** млрд рублей.\n",
    "\n"
   ]
  }
 ],
 "metadata": {
  "ExecuteTimeLog": [
   {
    "duration": 191,
    "start_time": "2022-04-05T11:58:27.678Z"
   },
   {
    "duration": 134,
    "start_time": "2022-04-05T11:59:07.958Z"
   },
   {
    "duration": 1224,
    "start_time": "2022-04-05T11:59:12.217Z"
   },
   {
    "duration": 370,
    "start_time": "2022-04-05T12:03:49.681Z"
   },
   {
    "duration": 39,
    "start_time": "2022-04-05T12:05:09.958Z"
   },
   {
    "duration": 89,
    "start_time": "2022-04-05T12:06:16.398Z"
   },
   {
    "duration": 96,
    "start_time": "2022-04-05T12:06:44.976Z"
   },
   {
    "duration": 16,
    "start_time": "2022-04-05T12:13:57.978Z"
   },
   {
    "duration": 665,
    "start_time": "2022-04-05T12:14:46.359Z"
   },
   {
    "duration": 3,
    "start_time": "2022-04-05T12:15:23.658Z"
   },
   {
    "duration": 3,
    "start_time": "2022-04-05T12:17:10.618Z"
   },
   {
    "duration": 437,
    "start_time": "2022-04-05T12:18:29.160Z"
   },
   {
    "duration": 1552,
    "start_time": "2022-04-05T12:21:29.124Z"
   },
   {
    "duration": 358,
    "start_time": "2022-04-05T12:21:30.678Z"
   },
   {
    "duration": 40,
    "start_time": "2022-04-05T12:21:31.038Z"
   },
   {
    "duration": 102,
    "start_time": "2022-04-05T12:21:31.080Z"
   },
   {
    "duration": 372,
    "start_time": "2022-04-05T12:21:31.184Z"
   },
   {
    "duration": 377,
    "start_time": "2022-04-05T12:21:31.557Z"
   },
   {
    "duration": 350,
    "start_time": "2022-04-05T12:21:31.936Z"
   },
   {
    "duration": 208,
    "start_time": "2022-04-05T12:46:58.766Z"
   },
   {
    "duration": 171,
    "start_time": "2022-04-05T12:47:10.231Z"
   },
   {
    "duration": 230,
    "start_time": "2022-04-05T12:48:33.727Z"
   },
   {
    "duration": 399,
    "start_time": "2022-04-05T12:48:56.726Z"
   },
   {
    "duration": 232,
    "start_time": "2022-04-05T12:49:25.272Z"
   },
   {
    "duration": 191,
    "start_time": "2022-04-05T12:49:34.013Z"
   },
   {
    "duration": 498,
    "start_time": "2022-04-05T12:49:58.992Z"
   },
   {
    "duration": 405,
    "start_time": "2022-04-05T12:50:05.235Z"
   },
   {
    "duration": 546,
    "start_time": "2022-04-05T12:50:17.155Z"
   },
   {
    "duration": 527,
    "start_time": "2022-04-05T12:51:26.174Z"
   },
   {
    "duration": 435,
    "start_time": "2022-04-05T12:51:59.131Z"
   },
   {
    "duration": 650,
    "start_time": "2022-04-05T12:53:09.514Z"
   },
   {
    "duration": 192,
    "start_time": "2022-04-05T12:57:24.054Z"
   },
   {
    "duration": 1819,
    "start_time": "2022-04-05T12:58:08.662Z"
   },
   {
    "duration": 2902,
    "start_time": "2022-04-05T12:58:26.123Z"
   },
   {
    "duration": 554,
    "start_time": "2022-04-05T12:58:43.654Z"
   },
   {
    "duration": 868,
    "start_time": "2022-04-05T12:59:06.214Z"
   },
   {
    "duration": 1171,
    "start_time": "2022-04-05T12:59:18.774Z"
   },
   {
    "duration": 1891,
    "start_time": "2022-04-05T12:59:29.058Z"
   },
   {
    "duration": 375,
    "start_time": "2022-04-05T12:59:30.952Z"
   },
   {
    "duration": 42,
    "start_time": "2022-04-05T12:59:31.330Z"
   },
   {
    "duration": 107,
    "start_time": "2022-04-05T12:59:31.374Z"
   },
   {
    "duration": 381,
    "start_time": "2022-04-05T12:59:31.483Z"
   },
   {
    "duration": 470,
    "start_time": "2022-04-05T12:59:31.866Z"
   },
   {
    "duration": 358,
    "start_time": "2022-04-05T12:59:32.338Z"
   },
   {
    "duration": 462,
    "start_time": "2022-04-05T12:59:32.702Z"
   },
   {
    "duration": 1192,
    "start_time": "2022-04-05T12:59:33.167Z"
   },
   {
    "duration": 479,
    "start_time": "2022-04-05T13:00:26.535Z"
   },
   {
    "duration": 569,
    "start_time": "2022-04-05T13:00:33.762Z"
   },
   {
    "duration": 391,
    "start_time": "2022-04-05T13:00:47.395Z"
   },
   {
    "duration": 1461,
    "start_time": "2022-04-05T13:02:04.411Z"
   },
   {
    "duration": 16,
    "start_time": "2022-04-05T13:19:16.806Z"
   },
   {
    "duration": 11,
    "start_time": "2022-04-05T13:20:30.054Z"
   },
   {
    "duration": 9,
    "start_time": "2022-04-05T13:20:43.495Z"
   },
   {
    "duration": 10,
    "start_time": "2022-04-05T13:20:49.953Z"
   },
   {
    "duration": 1729,
    "start_time": "2022-04-05T13:21:21.151Z"
   },
   {
    "duration": 380,
    "start_time": "2022-04-05T13:21:22.883Z"
   },
   {
    "duration": 48,
    "start_time": "2022-04-05T13:21:23.265Z"
   },
   {
    "duration": 15,
    "start_time": "2022-04-05T13:21:23.315Z"
   },
   {
    "duration": 10,
    "start_time": "2022-04-05T13:21:23.333Z"
   },
   {
    "duration": 13,
    "start_time": "2022-04-05T13:21:23.345Z"
   },
   {
    "duration": 122,
    "start_time": "2022-04-05T13:21:23.360Z"
   },
   {
    "duration": 10,
    "start_time": "2022-04-05T13:21:23.483Z"
   },
   {
    "duration": 372,
    "start_time": "2022-04-05T13:21:23.495Z"
   },
   {
    "duration": 448,
    "start_time": "2022-04-05T13:21:23.869Z"
   },
   {
    "duration": 342,
    "start_time": "2022-04-05T13:21:24.319Z"
   },
   {
    "duration": 423,
    "start_time": "2022-04-05T13:21:24.663Z"
   },
   {
    "duration": 1696,
    "start_time": "2022-04-05T13:21:25.088Z"
   },
   {
    "duration": 99,
    "start_time": "2022-04-05T13:23:00.248Z"
   },
   {
    "duration": 88,
    "start_time": "2022-04-05T13:23:19.049Z"
   },
   {
    "duration": 4,
    "start_time": "2022-04-05T13:53:30.209Z"
   },
   {
    "duration": 145,
    "start_time": "2022-04-05T13:55:05.009Z"
   },
   {
    "duration": 206,
    "start_time": "2022-04-05T13:55:21.689Z"
   },
   {
    "duration": 5,
    "start_time": "2022-04-05T13:55:27.809Z"
   },
   {
    "duration": 19,
    "start_time": "2022-04-05T13:55:30.169Z"
   },
   {
    "duration": 22,
    "start_time": "2022-04-05T13:56:15.030Z"
   },
   {
    "duration": 1885,
    "start_time": "2022-04-05T13:56:21.842Z"
   },
   {
    "duration": 366,
    "start_time": "2022-04-05T13:56:23.729Z"
   },
   {
    "duration": 42,
    "start_time": "2022-04-05T13:56:24.097Z"
   },
   {
    "duration": 13,
    "start_time": "2022-04-05T13:56:24.142Z"
   },
   {
    "duration": 11,
    "start_time": "2022-04-05T13:56:24.158Z"
   },
   {
    "duration": 38,
    "start_time": "2022-04-05T13:56:24.170Z"
   },
   {
    "duration": 102,
    "start_time": "2022-04-05T13:56:24.211Z"
   },
   {
    "duration": 11,
    "start_time": "2022-04-05T13:56:24.315Z"
   },
   {
    "duration": 379,
    "start_time": "2022-04-05T13:56:24.328Z"
   },
   {
    "duration": 430,
    "start_time": "2022-04-05T13:56:24.709Z"
   },
   {
    "duration": 362,
    "start_time": "2022-04-05T13:56:25.141Z"
   },
   {
    "duration": 4,
    "start_time": "2022-04-05T13:56:25.505Z"
   },
   {
    "duration": 144,
    "start_time": "2022-04-05T13:56:25.510Z"
   },
   {
    "duration": 4,
    "start_time": "2022-04-05T13:57:10.192Z"
   },
   {
    "duration": 20,
    "start_time": "2022-04-05T13:57:15.273Z"
   },
   {
    "duration": 4,
    "start_time": "2022-04-05T13:57:29.093Z"
   },
   {
    "duration": 22,
    "start_time": "2022-04-05T13:57:31.733Z"
   },
   {
    "duration": 4,
    "start_time": "2022-04-05T14:10:07.878Z"
   },
   {
    "duration": 20,
    "start_time": "2022-04-05T14:10:09.718Z"
   },
   {
    "duration": 151,
    "start_time": "2022-04-05T14:10:28.058Z"
   },
   {
    "duration": 4,
    "start_time": "2022-04-05T14:10:34.160Z"
   },
   {
    "duration": 39,
    "start_time": "2022-04-05T14:10:36.506Z"
   },
   {
    "duration": 3,
    "start_time": "2022-04-05T14:11:15.599Z"
   },
   {
    "duration": 3,
    "start_time": "2022-04-05T14:12:43.228Z"
   },
   {
    "duration": 18,
    "start_time": "2022-04-05T14:12:45.318Z"
   },
   {
    "duration": 16,
    "start_time": "2022-04-05T14:15:41.157Z"
   },
   {
    "duration": 16,
    "start_time": "2022-04-05T14:18:16.757Z"
   },
   {
    "duration": 3,
    "start_time": "2022-04-05T14:21:02.378Z"
   },
   {
    "duration": 4,
    "start_time": "2022-04-05T17:06:29.314Z"
   },
   {
    "duration": 1806,
    "start_time": "2022-04-05T17:09:19.491Z"
   },
   {
    "duration": 375,
    "start_time": "2022-04-05T17:09:21.300Z"
   },
   {
    "duration": 37,
    "start_time": "2022-04-05T17:09:21.677Z"
   },
   {
    "duration": 13,
    "start_time": "2022-04-05T17:09:21.717Z"
   },
   {
    "duration": 9,
    "start_time": "2022-04-05T17:09:21.732Z"
   },
   {
    "duration": 11,
    "start_time": "2022-04-05T17:09:21.743Z"
   },
   {
    "duration": 115,
    "start_time": "2022-04-05T17:09:21.756Z"
   },
   {
    "duration": 12,
    "start_time": "2022-04-05T17:09:21.872Z"
   },
   {
    "duration": 443,
    "start_time": "2022-04-05T17:09:21.886Z"
   },
   {
    "duration": 335,
    "start_time": "2022-04-05T17:09:22.332Z"
   },
   {
    "duration": 369,
    "start_time": "2022-04-05T17:09:22.669Z"
   },
   {
    "duration": 4,
    "start_time": "2022-04-05T17:09:23.040Z"
   },
   {
    "duration": 21,
    "start_time": "2022-04-05T17:09:23.046Z"
   },
   {
    "duration": 34,
    "start_time": "2022-04-05T17:09:23.069Z"
   },
   {
    "duration": 19,
    "start_time": "2022-04-05T17:09:23.105Z"
   },
   {
    "duration": 150,
    "start_time": "2022-04-05T17:09:23.126Z"
   },
   {
    "duration": 547,
    "start_time": "2022-04-05T17:16:48.161Z"
   },
   {
    "duration": 517,
    "start_time": "2022-04-05T17:18:13.291Z"
   },
   {
    "duration": 1822,
    "start_time": "2022-04-05T17:18:20.109Z"
   },
   {
    "duration": 391,
    "start_time": "2022-04-05T17:18:21.933Z"
   },
   {
    "duration": 41,
    "start_time": "2022-04-05T17:18:22.326Z"
   },
   {
    "duration": 33,
    "start_time": "2022-04-05T17:18:22.369Z"
   },
   {
    "duration": 13,
    "start_time": "2022-04-05T17:18:22.404Z"
   },
   {
    "duration": 16,
    "start_time": "2022-04-05T17:18:22.419Z"
   },
   {
    "duration": 283,
    "start_time": "2022-04-05T17:18:22.437Z"
   },
   {
    "duration": 12,
    "start_time": "2022-04-05T17:18:22.722Z"
   },
   {
    "duration": 800,
    "start_time": "2022-04-05T17:18:22.736Z"
   },
   {
    "duration": 592,
    "start_time": "2022-04-05T17:18:23.538Z"
   },
   {
    "duration": 574,
    "start_time": "2022-04-05T17:18:24.133Z"
   },
   {
    "duration": 4,
    "start_time": "2022-04-05T17:18:24.709Z"
   },
   {
    "duration": 20,
    "start_time": "2022-04-05T17:18:24.715Z"
   },
   {
    "duration": 17,
    "start_time": "2022-04-05T17:18:24.737Z"
   },
   {
    "duration": 16,
    "start_time": "2022-04-05T17:18:24.756Z"
   },
   {
    "duration": 725,
    "start_time": "2022-04-05T17:18:24.801Z"
   },
   {
    "duration": 1,
    "start_time": "2022-04-05T17:18:25.528Z"
   },
   {
    "duration": 0,
    "start_time": "2022-04-05T17:18:25.530Z"
   },
   {
    "duration": 91,
    "start_time": "2022-04-05T17:19:33.027Z"
   },
   {
    "duration": 800,
    "start_time": "2022-04-05T17:20:33.507Z"
   },
   {
    "duration": 713,
    "start_time": "2022-04-05T17:20:52.088Z"
   },
   {
    "duration": 814,
    "start_time": "2022-04-05T17:21:56.188Z"
   },
   {
    "duration": 676,
    "start_time": "2022-04-05T17:22:02.128Z"
   },
   {
    "duration": 752,
    "start_time": "2022-04-05T17:22:33.449Z"
   },
   {
    "duration": 698,
    "start_time": "2022-04-05T17:22:37.407Z"
   },
   {
    "duration": 765,
    "start_time": "2022-04-05T17:22:41.039Z"
   },
   {
    "duration": 714,
    "start_time": "2022-04-05T17:29:09.592Z"
   },
   {
    "duration": 774,
    "start_time": "2022-04-05T17:29:24.928Z"
   },
   {
    "duration": 530,
    "start_time": "2022-04-05T17:29:31.771Z"
   },
   {
    "duration": 581,
    "start_time": "2022-04-05T17:29:49.027Z"
   },
   {
    "duration": 534,
    "start_time": "2022-04-05T17:29:59.368Z"
   },
   {
    "duration": 11,
    "start_time": "2022-04-05T17:48:54.156Z"
   },
   {
    "duration": 18,
    "start_time": "2022-04-05T17:49:04.967Z"
   },
   {
    "duration": 615,
    "start_time": "2022-04-05T17:51:40.487Z"
   },
   {
    "duration": 699,
    "start_time": "2022-04-05T18:00:20.807Z"
   },
   {
    "duration": 133,
    "start_time": "2022-04-05T18:50:24.368Z"
   },
   {
    "duration": 21,
    "start_time": "2022-04-05T18:50:56.448Z"
   },
   {
    "duration": 15,
    "start_time": "2022-04-05T18:51:16.967Z"
   },
   {
    "duration": 693,
    "start_time": "2022-04-05T19:00:06.217Z"
   },
   {
    "duration": 681,
    "start_time": "2022-04-05T19:00:45.425Z"
   },
   {
    "duration": 688,
    "start_time": "2022-04-05T19:01:08.614Z"
   },
   {
    "duration": 751,
    "start_time": "2022-04-05T19:01:46.753Z"
   },
   {
    "duration": 748,
    "start_time": "2022-04-05T19:02:04.658Z"
   },
   {
    "duration": 662,
    "start_time": "2022-04-05T19:02:12.147Z"
   },
   {
    "duration": 835,
    "start_time": "2022-04-05T19:16:54.868Z"
   },
   {
    "duration": 817,
    "start_time": "2022-04-05T19:17:33.389Z"
   },
   {
    "duration": 740,
    "start_time": "2022-04-05T19:17:59.362Z"
   },
   {
    "duration": 12,
    "start_time": "2022-04-05T19:28:38.526Z"
   },
   {
    "duration": 13,
    "start_time": "2022-04-05T19:28:55.326Z"
   },
   {
    "duration": 876,
    "start_time": "2022-04-05T19:29:00.828Z"
   },
   {
    "duration": 12,
    "start_time": "2022-04-05T19:29:03.862Z"
   },
   {
    "duration": 5,
    "start_time": "2022-04-05T19:29:13.436Z"
   },
   {
    "duration": 639,
    "start_time": "2022-04-05T19:31:14.864Z"
   },
   {
    "duration": 759,
    "start_time": "2022-04-05T19:32:26.343Z"
   },
   {
    "duration": 643,
    "start_time": "2022-04-05T19:32:38.363Z"
   },
   {
    "duration": 947,
    "start_time": "2022-04-05T19:33:52.364Z"
   },
   {
    "duration": 1747,
    "start_time": "2022-04-05T19:36:13.727Z"
   },
   {
    "duration": 386,
    "start_time": "2022-04-05T19:36:15.477Z"
   },
   {
    "duration": 40,
    "start_time": "2022-04-05T19:36:15.865Z"
   },
   {
    "duration": 15,
    "start_time": "2022-04-05T19:36:15.906Z"
   },
   {
    "duration": 10,
    "start_time": "2022-04-05T19:36:15.923Z"
   },
   {
    "duration": 12,
    "start_time": "2022-04-05T19:36:15.934Z"
   },
   {
    "duration": 121,
    "start_time": "2022-04-05T19:36:15.948Z"
   },
   {
    "duration": 12,
    "start_time": "2022-04-05T19:36:16.070Z"
   },
   {
    "duration": 648,
    "start_time": "2022-04-05T19:36:16.084Z"
   },
   {
    "duration": 608,
    "start_time": "2022-04-05T19:36:16.734Z"
   },
   {
    "duration": 668,
    "start_time": "2022-04-05T19:36:17.344Z"
   },
   {
    "duration": 4,
    "start_time": "2022-04-05T19:36:18.014Z"
   },
   {
    "duration": 25,
    "start_time": "2022-04-05T19:36:18.020Z"
   },
   {
    "duration": 68,
    "start_time": "2022-04-05T19:36:18.048Z"
   },
   {
    "duration": 18,
    "start_time": "2022-04-05T19:36:18.118Z"
   },
   {
    "duration": 667,
    "start_time": "2022-04-05T19:36:18.138Z"
   },
   {
    "duration": 1098,
    "start_time": "2022-04-05T19:36:18.807Z"
   },
   {
    "duration": 697,
    "start_time": "2022-04-05T19:36:19.908Z"
   },
   {
    "duration": 116,
    "start_time": "2022-04-05T19:45:14.679Z"
   },
   {
    "duration": 138,
    "start_time": "2022-04-05T19:49:17.840Z"
   },
   {
    "duration": 227,
    "start_time": "2022-04-05T19:49:27.802Z"
   },
   {
    "duration": 234,
    "start_time": "2022-04-05T19:49:40.947Z"
   },
   {
    "duration": 249,
    "start_time": "2022-04-05T19:49:46.359Z"
   },
   {
    "duration": 247,
    "start_time": "2022-04-05T19:49:52.524Z"
   },
   {
    "duration": 212,
    "start_time": "2022-04-05T19:49:59.160Z"
   },
   {
    "duration": 220,
    "start_time": "2022-04-05T19:50:03.021Z"
   },
   {
    "duration": 234,
    "start_time": "2022-04-05T19:51:55.199Z"
   },
   {
    "duration": 213,
    "start_time": "2022-04-05T19:52:03.520Z"
   },
   {
    "duration": 334,
    "start_time": "2022-04-05T19:52:13.270Z"
   },
   {
    "duration": 238,
    "start_time": "2022-04-05T19:52:24.737Z"
   },
   {
    "duration": 229,
    "start_time": "2022-04-05T19:52:32.191Z"
   },
   {
    "duration": 216,
    "start_time": "2022-04-05T19:52:41.930Z"
   },
   {
    "duration": 220,
    "start_time": "2022-04-05T19:52:47.232Z"
   },
   {
    "duration": 207,
    "start_time": "2022-04-05T19:52:52.419Z"
   },
   {
    "duration": 207,
    "start_time": "2022-04-05T19:52:55.861Z"
   },
   {
    "duration": 217,
    "start_time": "2022-04-05T19:53:00.870Z"
   },
   {
    "duration": 229,
    "start_time": "2022-04-05T19:53:11.619Z"
   },
   {
    "duration": 213,
    "start_time": "2022-04-05T19:53:16.741Z"
   },
   {
    "duration": 198,
    "start_time": "2022-04-05T19:53:21.041Z"
   },
   {
    "duration": 204,
    "start_time": "2022-04-05T19:53:25.693Z"
   },
   {
    "duration": 413,
    "start_time": "2022-04-05T19:53:31.992Z"
   },
   {
    "duration": 345,
    "start_time": "2022-04-05T21:17:08.372Z"
   },
   {
    "duration": 208,
    "start_time": "2022-04-05T21:17:18.206Z"
   },
   {
    "duration": 110,
    "start_time": "2022-04-05T21:17:47.674Z"
   },
   {
    "duration": 118,
    "start_time": "2022-04-05T21:19:31.947Z"
   },
   {
    "duration": 3,
    "start_time": "2022-04-05T21:31:47.815Z"
   },
   {
    "duration": 5,
    "start_time": "2022-04-05T21:31:58.980Z"
   },
   {
    "duration": 5,
    "start_time": "2022-04-05T21:32:08.668Z"
   },
   {
    "duration": 5,
    "start_time": "2022-04-05T21:36:54.246Z"
   },
   {
    "duration": 6,
    "start_time": "2022-04-05T21:50:25.475Z"
   },
   {
    "duration": 6,
    "start_time": "2022-04-05T21:50:39.296Z"
   },
   {
    "duration": 125,
    "start_time": "2022-04-05T22:13:17.969Z"
   },
   {
    "duration": 5,
    "start_time": "2022-04-05T22:13:21.885Z"
   },
   {
    "duration": 4,
    "start_time": "2022-04-05T22:26:05.424Z"
   },
   {
    "duration": 4,
    "start_time": "2022-04-05T22:26:41.700Z"
   },
   {
    "duration": 4,
    "start_time": "2022-04-05T22:28:49.724Z"
   },
   {
    "duration": 9,
    "start_time": "2022-04-05T22:38:22.009Z"
   },
   {
    "duration": 1136,
    "start_time": "2022-04-05T22:40:50.067Z"
   },
   {
    "duration": 779,
    "start_time": "2022-04-05T22:40:53.337Z"
   },
   {
    "duration": 419,
    "start_time": "2022-04-05T22:41:10.188Z"
   },
   {
    "duration": 261,
    "start_time": "2022-04-05T22:41:20.252Z"
   },
   {
    "duration": 244,
    "start_time": "2022-04-05T22:41:26.161Z"
   },
   {
    "duration": 2322,
    "start_time": "2022-04-05T22:41:46.179Z"
   },
   {
    "duration": 407,
    "start_time": "2022-04-05T22:41:48.504Z"
   },
   {
    "duration": 57,
    "start_time": "2022-04-05T22:41:48.914Z"
   },
   {
    "duration": 29,
    "start_time": "2022-04-05T22:41:48.974Z"
   },
   {
    "duration": 11,
    "start_time": "2022-04-05T22:41:49.005Z"
   },
   {
    "duration": 28,
    "start_time": "2022-04-05T22:41:49.018Z"
   },
   {
    "duration": 141,
    "start_time": "2022-04-05T22:41:49.049Z"
   },
   {
    "duration": 19,
    "start_time": "2022-04-05T22:41:49.192Z"
   },
   {
    "duration": 619,
    "start_time": "2022-04-05T22:41:49.213Z"
   },
   {
    "duration": 377,
    "start_time": "2022-04-05T22:41:49.836Z"
   },
   {
    "duration": 359,
    "start_time": "2022-04-05T22:41:50.215Z"
   },
   {
    "duration": 225,
    "start_time": "2022-04-05T22:41:50.576Z"
   },
   {
    "duration": 226,
    "start_time": "2022-04-05T22:41:50.804Z"
   },
   {
    "duration": 219,
    "start_time": "2022-04-05T22:41:51.032Z"
   },
   {
    "duration": 5,
    "start_time": "2022-04-05T22:41:51.252Z"
   },
   {
    "duration": 20,
    "start_time": "2022-04-05T22:41:51.259Z"
   },
   {
    "duration": 35,
    "start_time": "2022-04-05T22:41:51.281Z"
   },
   {
    "duration": 16,
    "start_time": "2022-04-05T22:41:51.318Z"
   },
   {
    "duration": 792,
    "start_time": "2022-04-05T22:41:51.336Z"
   },
   {
    "duration": 0,
    "start_time": "2022-04-05T22:41:52.130Z"
   },
   {
    "duration": 0,
    "start_time": "2022-04-05T22:41:52.132Z"
   },
   {
    "duration": 0,
    "start_time": "2022-04-05T22:41:52.133Z"
   },
   {
    "duration": 0,
    "start_time": "2022-04-05T22:41:52.134Z"
   },
   {
    "duration": 0,
    "start_time": "2022-04-05T22:41:52.135Z"
   },
   {
    "duration": 0,
    "start_time": "2022-04-05T22:41:52.136Z"
   },
   {
    "duration": 0,
    "start_time": "2022-04-05T22:41:52.138Z"
   },
   {
    "duration": 592,
    "start_time": "2022-04-05T22:42:12.212Z"
   },
   {
    "duration": 501,
    "start_time": "2022-04-05T22:42:16.211Z"
   },
   {
    "duration": 500,
    "start_time": "2022-04-05T22:42:30.014Z"
   },
   {
    "duration": 16,
    "start_time": "2022-04-05T22:43:53.290Z"
   },
   {
    "duration": 9,
    "start_time": "2022-04-05T22:44:09.481Z"
   },
   {
    "duration": 27,
    "start_time": "2022-04-05T22:44:12.295Z"
   },
   {
    "duration": 6,
    "start_time": "2022-04-05T22:44:26.933Z"
   },
   {
    "duration": 19,
    "start_time": "2022-04-05T22:44:29.750Z"
   },
   {
    "duration": 6,
    "start_time": "2022-04-05T22:45:03.970Z"
   },
   {
    "duration": 20,
    "start_time": "2022-04-05T22:45:06.591Z"
   },
   {
    "duration": 2281,
    "start_time": "2022-04-05T22:45:20.939Z"
   },
   {
    "duration": 793,
    "start_time": "2022-04-05T22:45:23.222Z"
   },
   {
    "duration": 93,
    "start_time": "2022-04-05T22:45:24.017Z"
   },
   {
    "duration": 14,
    "start_time": "2022-04-05T22:45:24.113Z"
   },
   {
    "duration": 10,
    "start_time": "2022-04-05T22:45:24.129Z"
   },
   {
    "duration": 65,
    "start_time": "2022-04-05T22:45:24.141Z"
   },
   {
    "duration": 196,
    "start_time": "2022-04-05T22:45:24.208Z"
   },
   {
    "duration": 11,
    "start_time": "2022-04-05T22:45:24.406Z"
   },
   {
    "duration": 635,
    "start_time": "2022-04-05T22:45:24.419Z"
   },
   {
    "duration": 392,
    "start_time": "2022-04-05T22:45:25.058Z"
   },
   {
    "duration": 393,
    "start_time": "2022-04-05T22:45:25.453Z"
   },
   {
    "duration": 233,
    "start_time": "2022-04-05T22:45:25.848Z"
   },
   {
    "duration": 232,
    "start_time": "2022-04-05T22:45:26.083Z"
   },
   {
    "duration": 232,
    "start_time": "2022-04-05T22:45:26.317Z"
   },
   {
    "duration": 5,
    "start_time": "2022-04-05T22:45:26.552Z"
   },
   {
    "duration": 23,
    "start_time": "2022-04-05T22:45:26.559Z"
   },
   {
    "duration": 33,
    "start_time": "2022-04-05T22:45:26.584Z"
   },
   {
    "duration": 18,
    "start_time": "2022-04-05T22:45:26.619Z"
   },
   {
    "duration": 864,
    "start_time": "2022-04-05T22:45:26.639Z"
   },
   {
    "duration": 1106,
    "start_time": "2022-04-05T22:45:27.506Z"
   },
   {
    "duration": 1086,
    "start_time": "2022-04-05T22:45:28.615Z"
   },
   {
    "duration": 93,
    "start_time": "2022-04-05T22:45:29.708Z"
   },
   {
    "duration": 5,
    "start_time": "2022-04-05T22:45:29.804Z"
   },
   {
    "duration": 7,
    "start_time": "2022-04-05T22:45:29.811Z"
   },
   {
    "duration": 21,
    "start_time": "2022-04-05T22:45:29.820Z"
   },
   {
    "duration": 169,
    "start_time": "2022-04-05T22:45:29.843Z"
   },
   {
    "duration": 4932,
    "start_time": "2022-04-06T09:17:01.061Z"
   },
   {
    "duration": 447,
    "start_time": "2022-04-06T09:17:05.995Z"
   },
   {
    "duration": 64,
    "start_time": "2022-04-06T09:17:06.445Z"
   },
   {
    "duration": 19,
    "start_time": "2022-04-06T09:17:06.512Z"
   },
   {
    "duration": 40,
    "start_time": "2022-04-06T09:17:06.533Z"
   },
   {
    "duration": 28,
    "start_time": "2022-04-06T09:17:06.575Z"
   },
   {
    "duration": 133,
    "start_time": "2022-04-06T09:17:06.606Z"
   },
   {
    "duration": 14,
    "start_time": "2022-04-06T09:17:06.742Z"
   },
   {
    "duration": 638,
    "start_time": "2022-04-06T09:17:06.759Z"
   },
   {
    "duration": 495,
    "start_time": "2022-04-06T09:17:07.401Z"
   },
   {
    "duration": 493,
    "start_time": "2022-04-06T09:17:07.898Z"
   },
   {
    "duration": 459,
    "start_time": "2022-04-06T09:17:08.394Z"
   },
   {
    "duration": 360,
    "start_time": "2022-04-06T09:17:08.855Z"
   },
   {
    "duration": 348,
    "start_time": "2022-04-06T09:17:09.217Z"
   },
   {
    "duration": 6,
    "start_time": "2022-04-06T09:17:09.568Z"
   },
   {
    "duration": 19,
    "start_time": "2022-04-06T09:17:09.584Z"
   },
   {
    "duration": 19,
    "start_time": "2022-04-06T09:17:09.605Z"
   },
   {
    "duration": 20,
    "start_time": "2022-04-06T09:17:09.627Z"
   },
   {
    "duration": 809,
    "start_time": "2022-04-06T09:17:09.684Z"
   },
   {
    "duration": 994,
    "start_time": "2022-04-06T09:17:10.496Z"
   },
   {
    "duration": 1097,
    "start_time": "2022-04-06T09:17:11.493Z"
   },
   {
    "duration": 93,
    "start_time": "2022-04-06T09:17:12.594Z"
   },
   {
    "duration": 97,
    "start_time": "2022-04-06T09:17:12.690Z"
   },
   {
    "duration": 6,
    "start_time": "2022-04-06T09:17:12.789Z"
   },
   {
    "duration": 18,
    "start_time": "2022-04-06T09:17:12.797Z"
   },
   {
    "duration": 227,
    "start_time": "2022-04-06T09:17:12.817Z"
   },
   {
    "duration": 4,
    "start_time": "2022-04-06T09:20:05.501Z"
   },
   {
    "duration": 9,
    "start_time": "2022-04-06T09:20:08.524Z"
   },
   {
    "duration": 1521,
    "start_time": "2022-04-06T09:20:11.843Z"
   },
   {
    "duration": 7,
    "start_time": "2022-04-06T09:20:52.042Z"
   },
   {
    "duration": 1503,
    "start_time": "2022-04-06T09:20:54.200Z"
   },
   {
    "duration": 1638,
    "start_time": "2022-04-06T09:21:42.417Z"
   },
   {
    "duration": 1652,
    "start_time": "2022-04-06T09:22:31.380Z"
   },
   {
    "duration": 11,
    "start_time": "2022-04-06T09:24:32.987Z"
   },
   {
    "duration": 1876,
    "start_time": "2022-04-06T09:24:35.681Z"
   },
   {
    "duration": 1881,
    "start_time": "2022-04-06T09:24:40.123Z"
   },
   {
    "duration": 1864,
    "start_time": "2022-04-06T09:24:44.242Z"
   },
   {
    "duration": 6,
    "start_time": "2022-04-06T09:30:13.674Z"
   },
   {
    "duration": 5,
    "start_time": "2022-04-06T09:30:22.914Z"
   },
   {
    "duration": 8,
    "start_time": "2022-04-06T09:30:25.201Z"
   },
   {
    "duration": 1994,
    "start_time": "2022-04-06T09:30:27.652Z"
   },
   {
    "duration": 1913,
    "start_time": "2022-04-06T09:30:33.158Z"
   },
   {
    "duration": 1968,
    "start_time": "2022-04-06T09:30:37.027Z"
   },
   {
    "duration": 950,
    "start_time": "2022-04-06T09:33:12.236Z"
   },
   {
    "duration": 746,
    "start_time": "2022-04-06T09:33:27.943Z"
   },
   {
    "duration": 897,
    "start_time": "2022-04-06T09:34:07.689Z"
   },
   {
    "duration": 7,
    "start_time": "2022-04-06T09:34:15.488Z"
   },
   {
    "duration": 7,
    "start_time": "2022-04-06T09:34:33.607Z"
   },
   {
    "duration": 895,
    "start_time": "2022-04-06T09:42:18.191Z"
   },
   {
    "duration": 933,
    "start_time": "2022-04-06T09:43:00.955Z"
   },
   {
    "duration": 859,
    "start_time": "2022-04-06T09:50:36.226Z"
   },
   {
    "duration": 811,
    "start_time": "2022-04-06T09:50:48.284Z"
   },
   {
    "duration": 911,
    "start_time": "2022-04-06T10:03:06.378Z"
   },
   {
    "duration": 41,
    "start_time": "2022-04-07T18:35:50.127Z"
   },
   {
    "duration": 2082,
    "start_time": "2022-04-07T18:36:04.399Z"
   },
   {
    "duration": 294,
    "start_time": "2022-04-07T18:36:06.483Z"
   },
   {
    "duration": 30,
    "start_time": "2022-04-07T18:36:06.779Z"
   },
   {
    "duration": 20,
    "start_time": "2022-04-07T18:36:06.810Z"
   },
   {
    "duration": 7,
    "start_time": "2022-04-07T18:36:06.833Z"
   },
   {
    "duration": 16,
    "start_time": "2022-04-07T18:36:06.842Z"
   },
   {
    "duration": 82,
    "start_time": "2022-04-07T18:36:06.859Z"
   },
   {
    "duration": 8,
    "start_time": "2022-04-07T18:36:06.942Z"
   },
   {
    "duration": 418,
    "start_time": "2022-04-07T18:36:06.952Z"
   },
   {
    "duration": 300,
    "start_time": "2022-04-07T18:36:07.372Z"
   },
   {
    "duration": 314,
    "start_time": "2022-04-07T18:36:07.673Z"
   },
   {
    "duration": 176,
    "start_time": "2022-04-07T18:36:07.989Z"
   },
   {
    "duration": 183,
    "start_time": "2022-04-07T18:36:08.167Z"
   },
   {
    "duration": 176,
    "start_time": "2022-04-07T18:36:08.353Z"
   },
   {
    "duration": 4,
    "start_time": "2022-04-07T18:36:08.530Z"
   },
   {
    "duration": 15,
    "start_time": "2022-04-07T18:36:08.536Z"
   },
   {
    "duration": 12,
    "start_time": "2022-04-07T18:36:08.552Z"
   },
   {
    "duration": 12,
    "start_time": "2022-04-07T18:36:08.566Z"
   },
   {
    "duration": 750,
    "start_time": "2022-04-07T18:36:08.579Z"
   },
   {
    "duration": 600,
    "start_time": "2022-04-07T18:36:09.332Z"
   },
   {
    "duration": 701,
    "start_time": "2022-04-07T18:36:09.933Z"
   },
   {
    "duration": 300,
    "start_time": "2022-04-07T18:36:10.639Z"
   },
   {
    "duration": 0,
    "start_time": "2022-04-07T18:36:10.941Z"
   },
   {
    "duration": 0,
    "start_time": "2022-04-07T18:36:10.942Z"
   },
   {
    "duration": 0,
    "start_time": "2022-04-07T18:36:10.943Z"
   },
   {
    "duration": 0,
    "start_time": "2022-04-07T18:36:10.944Z"
   },
   {
    "duration": 0,
    "start_time": "2022-04-07T18:36:10.945Z"
   },
   {
    "duration": 0,
    "start_time": "2022-04-07T18:36:10.946Z"
   },
   {
    "duration": 4,
    "start_time": "2022-04-07T18:36:29.719Z"
   },
   {
    "duration": 3,
    "start_time": "2022-04-07T18:37:20.008Z"
   },
   {
    "duration": 3,
    "start_time": "2022-04-07T18:37:48.607Z"
   },
   {
    "duration": 3,
    "start_time": "2022-04-07T18:38:42.486Z"
   },
   {
    "duration": 5,
    "start_time": "2022-04-07T18:40:10.151Z"
   },
   {
    "duration": 5,
    "start_time": "2022-04-07T18:40:19.408Z"
   },
   {
    "duration": 1526,
    "start_time": "2022-04-07T18:40:27.908Z"
   },
   {
    "duration": 284,
    "start_time": "2022-04-07T18:40:29.435Z"
   },
   {
    "duration": 30,
    "start_time": "2022-04-07T18:40:29.720Z"
   },
   {
    "duration": 11,
    "start_time": "2022-04-07T18:40:29.751Z"
   },
   {
    "duration": 7,
    "start_time": "2022-04-07T18:40:29.764Z"
   },
   {
    "duration": 11,
    "start_time": "2022-04-07T18:40:29.772Z"
   },
   {
    "duration": 93,
    "start_time": "2022-04-07T18:40:29.784Z"
   },
   {
    "duration": 8,
    "start_time": "2022-04-07T18:40:29.878Z"
   },
   {
    "duration": 437,
    "start_time": "2022-04-07T18:40:29.888Z"
   },
   {
    "duration": 335,
    "start_time": "2022-04-07T18:40:30.327Z"
   },
   {
    "duration": 315,
    "start_time": "2022-04-07T18:40:30.664Z"
   },
   {
    "duration": 183,
    "start_time": "2022-04-07T18:40:30.980Z"
   },
   {
    "duration": 182,
    "start_time": "2022-04-07T18:40:31.165Z"
   },
   {
    "duration": 173,
    "start_time": "2022-04-07T18:40:31.349Z"
   },
   {
    "duration": 5,
    "start_time": "2022-04-07T18:40:31.524Z"
   },
   {
    "duration": 14,
    "start_time": "2022-04-07T18:40:31.530Z"
   },
   {
    "duration": 13,
    "start_time": "2022-04-07T18:40:31.545Z"
   },
   {
    "duration": 13,
    "start_time": "2022-04-07T18:40:31.559Z"
   },
   {
    "duration": 559,
    "start_time": "2022-04-07T18:40:31.573Z"
   },
   {
    "duration": 599,
    "start_time": "2022-04-07T18:40:32.133Z"
   },
   {
    "duration": 698,
    "start_time": "2022-04-07T18:40:32.734Z"
   },
   {
    "duration": 3,
    "start_time": "2022-04-07T18:40:33.434Z"
   },
   {
    "duration": 97,
    "start_time": "2022-04-07T18:40:33.439Z"
   },
   {
    "duration": 5,
    "start_time": "2022-04-07T18:40:33.537Z"
   },
   {
    "duration": 6,
    "start_time": "2022-04-07T18:40:33.544Z"
   },
   {
    "duration": 1155,
    "start_time": "2022-04-07T18:40:33.552Z"
   },
   {
    "duration": 1065,
    "start_time": "2022-04-07T18:40:34.709Z"
   },
   {
    "duration": 1104,
    "start_time": "2022-04-07T18:40:35.777Z"
   },
   {
    "duration": 6,
    "start_time": "2022-04-07T18:40:53.769Z"
   },
   {
    "duration": 1081,
    "start_time": "2022-04-07T18:40:55.126Z"
   },
   {
    "duration": 6,
    "start_time": "2022-04-07T18:41:20.170Z"
   },
   {
    "duration": 1073,
    "start_time": "2022-04-07T18:41:24.047Z"
   },
   {
    "duration": 5,
    "start_time": "2022-04-07T18:41:56.909Z"
   },
   {
    "duration": 1092,
    "start_time": "2022-04-07T18:42:01.125Z"
   },
   {
    "duration": 1069,
    "start_time": "2022-04-07T18:42:05.564Z"
   },
   {
    "duration": 1072,
    "start_time": "2022-04-07T18:42:11.006Z"
   },
   {
    "duration": 4,
    "start_time": "2022-04-07T18:55:03.222Z"
   },
   {
    "duration": 4,
    "start_time": "2022-04-07T18:55:31.685Z"
   },
   {
    "duration": 115,
    "start_time": "2022-04-07T18:56:57.179Z"
   },
   {
    "duration": 4,
    "start_time": "2022-04-07T18:57:11.322Z"
   },
   {
    "duration": 513,
    "start_time": "2022-04-07T18:57:14.218Z"
   },
   {
    "duration": 4,
    "start_time": "2022-04-07T18:57:31.961Z"
   },
   {
    "duration": 4,
    "start_time": "2022-04-07T18:58:01.519Z"
   },
   {
    "duration": 435,
    "start_time": "2022-04-07T18:58:05.697Z"
   },
   {
    "duration": 4,
    "start_time": "2022-04-07T18:58:23.599Z"
   },
   {
    "duration": 514,
    "start_time": "2022-04-07T18:58:28.223Z"
   },
   {
    "duration": 4,
    "start_time": "2022-04-07T18:58:38.539Z"
   },
   {
    "duration": 104,
    "start_time": "2022-04-07T18:58:59.522Z"
   },
   {
    "duration": 106,
    "start_time": "2022-04-07T18:59:04.008Z"
   },
   {
    "duration": 114,
    "start_time": "2022-04-07T18:59:13.839Z"
   },
   {
    "duration": 105,
    "start_time": "2022-04-07T18:59:24.367Z"
   },
   {
    "duration": 4,
    "start_time": "2022-04-07T19:00:28.699Z"
   },
   {
    "duration": 518,
    "start_time": "2022-04-07T19:00:31.918Z"
   },
   {
    "duration": 102,
    "start_time": "2022-04-07T19:06:33.161Z"
   },
   {
    "duration": 107,
    "start_time": "2022-04-07T19:06:48.454Z"
   },
   {
    "duration": 104,
    "start_time": "2022-04-07T19:07:12.071Z"
   },
   {
    "duration": 95,
    "start_time": "2022-04-07T19:07:22.876Z"
   },
   {
    "duration": 4,
    "start_time": "2022-04-07T19:08:52.892Z"
   },
   {
    "duration": 508,
    "start_time": "2022-04-07T19:09:19.328Z"
   },
   {
    "duration": 4,
    "start_time": "2022-04-07T19:09:40.854Z"
   },
   {
    "duration": 445,
    "start_time": "2022-04-07T19:09:44.790Z"
   },
   {
    "duration": 1061,
    "start_time": "2022-04-07T19:09:55.791Z"
   },
   {
    "duration": 1061,
    "start_time": "2022-04-07T19:10:01.950Z"
   },
   {
    "duration": 1085,
    "start_time": "2022-04-07T19:10:39.196Z"
   },
   {
    "duration": 1544,
    "start_time": "2022-04-07T19:12:14.957Z"
   },
   {
    "duration": 285,
    "start_time": "2022-04-07T19:12:16.503Z"
   },
   {
    "duration": 29,
    "start_time": "2022-04-07T19:12:16.790Z"
   },
   {
    "duration": 16,
    "start_time": "2022-04-07T19:12:16.820Z"
   },
   {
    "duration": 7,
    "start_time": "2022-04-07T19:12:16.838Z"
   },
   {
    "duration": 14,
    "start_time": "2022-04-07T19:12:16.847Z"
   },
   {
    "duration": 90,
    "start_time": "2022-04-07T19:12:16.863Z"
   },
   {
    "duration": 9,
    "start_time": "2022-04-07T19:12:16.954Z"
   },
   {
    "duration": 367,
    "start_time": "2022-04-07T19:12:16.964Z"
   },
   {
    "duration": 309,
    "start_time": "2022-04-07T19:12:17.333Z"
   },
   {
    "duration": 310,
    "start_time": "2022-04-07T19:12:17.643Z"
   },
   {
    "duration": 176,
    "start_time": "2022-04-07T19:12:17.955Z"
   },
   {
    "duration": 171,
    "start_time": "2022-04-07T19:12:18.133Z"
   },
   {
    "duration": 166,
    "start_time": "2022-04-07T19:12:18.306Z"
   },
   {
    "duration": 3,
    "start_time": "2022-04-07T19:12:18.474Z"
   },
   {
    "duration": 16,
    "start_time": "2022-04-07T19:12:18.478Z"
   },
   {
    "duration": 12,
    "start_time": "2022-04-07T19:12:18.495Z"
   },
   {
    "duration": 31,
    "start_time": "2022-04-07T19:12:18.508Z"
   },
   {
    "duration": 4,
    "start_time": "2022-04-07T19:12:18.540Z"
   },
   {
    "duration": 122,
    "start_time": "2022-04-07T19:12:18.546Z"
   },
   {
    "duration": 0,
    "start_time": "2022-04-07T19:12:18.670Z"
   },
   {
    "duration": 0,
    "start_time": "2022-04-07T19:12:18.671Z"
   },
   {
    "duration": 0,
    "start_time": "2022-04-07T19:12:18.672Z"
   },
   {
    "duration": 0,
    "start_time": "2022-04-07T19:12:18.673Z"
   },
   {
    "duration": 0,
    "start_time": "2022-04-07T19:12:18.674Z"
   },
   {
    "duration": 0,
    "start_time": "2022-04-07T19:12:18.675Z"
   },
   {
    "duration": 0,
    "start_time": "2022-04-07T19:12:18.676Z"
   },
   {
    "duration": 0,
    "start_time": "2022-04-07T19:12:18.677Z"
   },
   {
    "duration": 0,
    "start_time": "2022-04-07T19:12:18.678Z"
   },
   {
    "duration": 0,
    "start_time": "2022-04-07T19:12:18.679Z"
   },
   {
    "duration": 0,
    "start_time": "2022-04-07T19:12:18.680Z"
   },
   {
    "duration": 4,
    "start_time": "2022-04-07T19:12:46.051Z"
   },
   {
    "duration": 9,
    "start_time": "2022-04-07T19:12:49.091Z"
   },
   {
    "duration": 9,
    "start_time": "2022-04-07T19:14:03.190Z"
   },
   {
    "duration": 9,
    "start_time": "2022-04-07T19:14:07.249Z"
   },
   {
    "duration": 4,
    "start_time": "2022-04-07T19:15:37.931Z"
   },
   {
    "duration": 9,
    "start_time": "2022-04-07T19:15:41.612Z"
   },
   {
    "duration": 9,
    "start_time": "2022-04-07T19:15:46.973Z"
   },
   {
    "duration": 4,
    "start_time": "2022-04-07T19:15:56.614Z"
   },
   {
    "duration": 4,
    "start_time": "2022-04-07T19:16:31.047Z"
   },
   {
    "duration": 9,
    "start_time": "2022-04-07T19:16:34.087Z"
   },
   {
    "duration": 9,
    "start_time": "2022-04-07T19:17:01.865Z"
   },
   {
    "duration": 4,
    "start_time": "2022-04-07T19:34:52.621Z"
   },
   {
    "duration": 9,
    "start_time": "2022-04-07T19:35:18.279Z"
   },
   {
    "duration": 4,
    "start_time": "2022-04-07T19:35:49.524Z"
   },
   {
    "duration": 9,
    "start_time": "2022-04-07T19:35:51.877Z"
   },
   {
    "duration": 2,
    "start_time": "2022-04-07T19:36:38.216Z"
   },
   {
    "duration": 4,
    "start_time": "2022-04-07T19:36:40.657Z"
   },
   {
    "duration": 285,
    "start_time": "2022-04-07T19:36:43.656Z"
   },
   {
    "duration": 456,
    "start_time": "2022-04-07T19:36:57.481Z"
   },
   {
    "duration": 1011,
    "start_time": "2022-04-07T19:37:05.519Z"
   },
   {
    "duration": 12,
    "start_time": "2022-04-07T19:37:15.121Z"
   },
   {
    "duration": 6,
    "start_time": "2022-04-07T19:37:25.100Z"
   },
   {
    "duration": 33,
    "start_time": "2022-04-07T19:37:28.321Z"
   },
   {
    "duration": 24,
    "start_time": "2022-04-07T19:37:50.425Z"
   },
   {
    "duration": 2173,
    "start_time": "2022-04-07T19:38:26.792Z"
   },
   {
    "duration": 585,
    "start_time": "2022-04-07T19:38:28.968Z"
   },
   {
    "duration": 84,
    "start_time": "2022-04-07T19:38:29.554Z"
   },
   {
    "duration": 16,
    "start_time": "2022-04-07T19:38:29.641Z"
   },
   {
    "duration": 8,
    "start_time": "2022-04-07T19:38:29.658Z"
   },
   {
    "duration": 65,
    "start_time": "2022-04-07T19:38:29.667Z"
   },
   {
    "duration": 139,
    "start_time": "2022-04-07T19:38:29.733Z"
   },
   {
    "duration": 9,
    "start_time": "2022-04-07T19:38:29.873Z"
   },
   {
    "duration": 424,
    "start_time": "2022-04-07T19:38:29.883Z"
   },
   {
    "duration": 336,
    "start_time": "2022-04-07T19:38:30.309Z"
   },
   {
    "duration": 310,
    "start_time": "2022-04-07T19:38:30.647Z"
   },
   {
    "duration": 188,
    "start_time": "2022-04-07T19:38:30.959Z"
   },
   {
    "duration": 182,
    "start_time": "2022-04-07T19:38:31.149Z"
   },
   {
    "duration": 183,
    "start_time": "2022-04-07T19:38:31.333Z"
   },
   {
    "duration": 3,
    "start_time": "2022-04-07T19:38:31.518Z"
   },
   {
    "duration": 19,
    "start_time": "2022-04-07T19:38:31.529Z"
   },
   {
    "duration": 14,
    "start_time": "2022-04-07T19:38:31.549Z"
   },
   {
    "duration": 13,
    "start_time": "2022-04-07T19:38:31.565Z"
   },
   {
    "duration": 2,
    "start_time": "2022-04-07T19:38:31.579Z"
   },
   {
    "duration": 5,
    "start_time": "2022-04-07T19:38:31.583Z"
   },
   {
    "duration": 542,
    "start_time": "2022-04-07T19:38:31.589Z"
   },
   {
    "duration": 507,
    "start_time": "2022-04-07T19:38:32.133Z"
   },
   {
    "duration": 3,
    "start_time": "2022-04-07T19:38:32.729Z"
   },
   {
    "duration": 603,
    "start_time": "2022-04-07T19:38:32.734Z"
   },
   {
    "duration": 191,
    "start_time": "2022-04-07T19:38:33.339Z"
   },
   {
    "duration": 8,
    "start_time": "2022-04-07T19:38:33.531Z"
   },
   {
    "duration": 6,
    "start_time": "2022-04-07T19:38:33.540Z"
   },
   {
    "duration": 4,
    "start_time": "2022-04-07T19:38:33.549Z"
   },
   {
    "duration": 9,
    "start_time": "2022-04-07T19:38:33.554Z"
   },
   {
    "duration": 140,
    "start_time": "2022-04-07T19:38:33.564Z"
   },
   {
    "duration": 0,
    "start_time": "2022-04-07T19:38:33.705Z"
   },
   {
    "duration": 0,
    "start_time": "2022-04-07T19:38:33.707Z"
   },
   {
    "duration": 23,
    "start_time": "2022-04-07T19:39:56.613Z"
   },
   {
    "duration": 20,
    "start_time": "2022-04-07T19:40:24.759Z"
   },
   {
    "duration": 22,
    "start_time": "2022-04-07T19:40:31.199Z"
   },
   {
    "duration": 1455,
    "start_time": "2022-04-07T19:41:03.581Z"
   },
   {
    "duration": 281,
    "start_time": "2022-04-07T19:41:05.037Z"
   },
   {
    "duration": 30,
    "start_time": "2022-04-07T19:41:05.319Z"
   },
   {
    "duration": 11,
    "start_time": "2022-04-07T19:41:05.351Z"
   },
   {
    "duration": 8,
    "start_time": "2022-04-07T19:41:05.363Z"
   },
   {
    "duration": 10,
    "start_time": "2022-04-07T19:41:05.372Z"
   },
   {
    "duration": 91,
    "start_time": "2022-04-07T19:41:05.383Z"
   },
   {
    "duration": 9,
    "start_time": "2022-04-07T19:41:05.475Z"
   },
   {
    "duration": 411,
    "start_time": "2022-04-07T19:41:05.485Z"
   },
   {
    "duration": 320,
    "start_time": "2022-04-07T19:41:05.899Z"
   },
   {
    "duration": 318,
    "start_time": "2022-04-07T19:41:06.220Z"
   },
   {
    "duration": 178,
    "start_time": "2022-04-07T19:41:06.539Z"
   },
   {
    "duration": 182,
    "start_time": "2022-04-07T19:41:06.718Z"
   },
   {
    "duration": 173,
    "start_time": "2022-04-07T19:41:06.901Z"
   },
   {
    "duration": 3,
    "start_time": "2022-04-07T19:41:07.076Z"
   },
   {
    "duration": 15,
    "start_time": "2022-04-07T19:41:07.080Z"
   },
   {
    "duration": 34,
    "start_time": "2022-04-07T19:41:07.096Z"
   },
   {
    "duration": 13,
    "start_time": "2022-04-07T19:41:07.131Z"
   },
   {
    "duration": 3,
    "start_time": "2022-04-07T19:41:07.146Z"
   },
   {
    "duration": 9,
    "start_time": "2022-04-07T19:41:07.150Z"
   },
   {
    "duration": 683,
    "start_time": "2022-04-07T19:41:07.160Z"
   },
   {
    "duration": 1001,
    "start_time": "2022-04-07T19:41:07.930Z"
   },
   {
    "duration": 3,
    "start_time": "2022-04-07T19:41:08.933Z"
   },
   {
    "duration": 596,
    "start_time": "2022-04-07T19:41:08.937Z"
   },
   {
    "duration": 3,
    "start_time": "2022-04-07T19:41:09.535Z"
   },
   {
    "duration": 96,
    "start_time": "2022-04-07T19:41:09.539Z"
   },
   {
    "duration": 6,
    "start_time": "2022-04-07T19:41:09.637Z"
   },
   {
    "duration": 6,
    "start_time": "2022-04-07T19:41:09.647Z"
   },
   {
    "duration": 79,
    "start_time": "2022-04-07T19:41:09.655Z"
   },
   {
    "duration": 229,
    "start_time": "2022-04-07T19:41:09.736Z"
   },
   {
    "duration": 0,
    "start_time": "2022-04-07T19:41:09.968Z"
   },
   {
    "duration": 0,
    "start_time": "2022-04-07T19:41:09.969Z"
   },
   {
    "duration": 4,
    "start_time": "2022-04-07T19:42:24.321Z"
   },
   {
    "duration": 501,
    "start_time": "2022-04-07T19:42:27.733Z"
   },
   {
    "duration": 21,
    "start_time": "2022-04-07T19:42:40.704Z"
   },
   {
    "duration": 318,
    "start_time": "2022-04-07T19:45:03.320Z"
   },
   {
    "duration": 322,
    "start_time": "2022-04-07T19:45:05.721Z"
   },
   {
    "duration": 305,
    "start_time": "2022-04-07T19:46:09.241Z"
   },
   {
    "duration": 1471,
    "start_time": "2022-04-07T19:46:42.914Z"
   },
   {
    "duration": 280,
    "start_time": "2022-04-07T19:46:44.387Z"
   },
   {
    "duration": 33,
    "start_time": "2022-04-07T19:46:44.668Z"
   },
   {
    "duration": 12,
    "start_time": "2022-04-07T19:46:44.702Z"
   },
   {
    "duration": 19,
    "start_time": "2022-04-07T19:46:44.716Z"
   },
   {
    "duration": 13,
    "start_time": "2022-04-07T19:46:44.737Z"
   },
   {
    "duration": 107,
    "start_time": "2022-04-07T19:46:44.751Z"
   },
   {
    "duration": 11,
    "start_time": "2022-04-07T19:46:44.860Z"
   },
   {
    "duration": 547,
    "start_time": "2022-04-07T19:46:44.873Z"
   },
   {
    "duration": 404,
    "start_time": "2022-04-07T19:46:45.422Z"
   },
   {
    "duration": 401,
    "start_time": "2022-04-07T19:46:45.829Z"
   },
   {
    "duration": 266,
    "start_time": "2022-04-07T19:46:46.232Z"
   },
   {
    "duration": 268,
    "start_time": "2022-04-07T19:46:46.500Z"
   },
   {
    "duration": 261,
    "start_time": "2022-04-07T19:46:46.771Z"
   },
   {
    "duration": 4,
    "start_time": "2022-04-07T19:46:47.033Z"
   },
   {
    "duration": 16,
    "start_time": "2022-04-07T19:46:47.038Z"
   },
   {
    "duration": 13,
    "start_time": "2022-04-07T19:46:47.056Z"
   },
   {
    "duration": 12,
    "start_time": "2022-04-07T19:46:47.070Z"
   },
   {
    "duration": 107,
    "start_time": "2022-04-07T19:46:47.083Z"
   },
   {
    "duration": 0,
    "start_time": "2022-04-07T19:46:47.192Z"
   },
   {
    "duration": 0,
    "start_time": "2022-04-07T19:46:47.194Z"
   },
   {
    "duration": 0,
    "start_time": "2022-04-07T19:46:47.195Z"
   },
   {
    "duration": 0,
    "start_time": "2022-04-07T19:46:47.196Z"
   },
   {
    "duration": 0,
    "start_time": "2022-04-07T19:46:47.198Z"
   },
   {
    "duration": 0,
    "start_time": "2022-04-07T19:46:47.199Z"
   },
   {
    "duration": 0,
    "start_time": "2022-04-07T19:46:47.200Z"
   },
   {
    "duration": 0,
    "start_time": "2022-04-07T19:46:47.201Z"
   },
   {
    "duration": 0,
    "start_time": "2022-04-07T19:46:47.203Z"
   },
   {
    "duration": 0,
    "start_time": "2022-04-07T19:46:47.204Z"
   },
   {
    "duration": 0,
    "start_time": "2022-04-07T19:46:47.205Z"
   },
   {
    "duration": 326,
    "start_time": "2022-04-07T19:47:10.308Z"
   },
   {
    "duration": 815,
    "start_time": "2022-04-07T19:47:12.420Z"
   },
   {
    "duration": 593,
    "start_time": "2022-04-07T19:47:14.145Z"
   },
   {
    "duration": 3,
    "start_time": "2022-04-07T19:47:17.239Z"
   },
   {
    "duration": 4,
    "start_time": "2022-04-07T19:47:18.877Z"
   },
   {
    "duration": 3,
    "start_time": "2022-04-07T19:47:20.659Z"
   },
   {
    "duration": 5,
    "start_time": "2022-04-07T19:47:21.862Z"
   },
   {
    "duration": 1090,
    "start_time": "2022-04-07T19:47:23.758Z"
   },
   {
    "duration": 1061,
    "start_time": "2022-04-07T19:47:25.940Z"
   },
   {
    "duration": 1070,
    "start_time": "2022-04-07T19:47:28.081Z"
   }
  ],
  "kernelspec": {
   "display_name": "Python 3 (ipykernel)",
   "language": "python",
   "name": "python3"
  },
  "language_info": {
   "codemirror_mode": {
    "name": "ipython",
    "version": 3
   },
   "file_extension": ".py",
   "mimetype": "text/x-python",
   "name": "python",
   "nbconvert_exporter": "python",
   "pygments_lexer": "ipython3",
   "version": "3.9.5"
  },
  "toc": {
   "base_numbering": 1,
   "nav_menu": {},
   "number_sections": true,
   "sideBar": true,
   "skip_h1_title": true,
   "title_cell": "Table of Contents",
   "title_sidebar": "Contents",
   "toc_cell": false,
   "toc_position": {
    "height": "calc(100% - 180px)",
    "left": "10px",
    "top": "150px",
    "width": "331.449px"
   },
   "toc_section_display": true,
   "toc_window_display": false
  }
 },
 "nbformat": 4,
 "nbformat_minor": 2
}
